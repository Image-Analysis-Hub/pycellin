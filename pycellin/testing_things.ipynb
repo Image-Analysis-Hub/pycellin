{
 "cells": [
  {
   "cell_type": "code",
   "execution_count": 1,
   "metadata": {},
   "outputs": [],
   "source": [
    "import pycellin as pc"
   ]
  },
  {
   "cell_type": "markdown",
   "metadata": {},
   "source": [
    "### Adding pre-defined features"
   ]
  },
  {
   "cell_type": "code",
   "execution_count": 2,
   "metadata": {},
   "outputs": [
    {
     "name": "stdout",
     "output_type": "stream",
     "text": [
      "Model with 3 lineages.\n"
     ]
    }
   ],
   "source": [
    "xml_path = \"../sample_data/Ecoli_growth_on_agar_pad.xml\"\n",
    "model = pc.load_TrackMate_XML(xml_path)\n",
    "print(model)"
   ]
  },
  {
   "cell_type": "code",
   "execution_count": 3,
   "metadata": {},
   "outputs": [
    {
     "name": "stdout",
     "output_type": "stream",
     "text": [
      "WARNING: One pixel skeleton on node 9350! The object is probably roundish and the radius is a better metric in that case. Setting the length and width to NaN.\n",
      "WARNING: One pixel skeleton on node 9350! The object is probably roundish and the radius is a better metric in that case. Setting the length and width to NaN.\n"
     ]
    }
   ],
   "source": [
    "pc.get_pycellin_cell_lineage_features()\n",
    "model.add_pycellin_features([\"relative_age\", \"cell_length\"])\n",
    "model.add_cell_width(\n",
    "    method_width=\"median\", width_ignore_tips=True, rename=\"cell_width_no_tips\"\n",
    ")\n",
    "model.add_cycle_data()\n",
    "\n",
    "\n",
    "\n",
    "model.add_pycellin_features([\"division_time\", \"cell_cycle_completeness\"])\n",
    "model.update()"
   ]
  },
  {
   "cell_type": "code",
   "execution_count": 4,
   "metadata": {},
   "outputs": [
    {
     "data": {
      "application/vnd.plotly.v1+json": {
       "config": {
        "plotlyServerURL": "https://plot.ly"
       },
       "data": [
        {
         "mode": "lines",
         "name": "Edges",
         "type": "scatter",
         "x": [
          0.8125,
          0.8125,
          null,
          -10.6875,
          -10.6875,
          null,
          2.8125,
          2.8125,
          null,
          -7.1875,
          -7.1875,
          null,
          -5.6875,
          -5.6875,
          null,
          -9.1875,
          -9.1875,
          null,
          -4.1875,
          -4.1875,
          null,
          4.8125,
          4.3125,
          null,
          4.8125,
          5.3125,
          null,
          -2.1875,
          -2.1875,
          null,
          -0.6875,
          -0.6875,
          null,
          7.3125,
          7.3125,
          null,
          6.3125,
          6.3125,
          null,
          -3.1875,
          -3.1875,
          null,
          -6.4375,
          -6.4375,
          null,
          0.8125,
          0.8125,
          null,
          -0.6875,
          -0.6875,
          null,
          7.3125,
          7.3125,
          null,
          2.8125,
          2.8125,
          null,
          -9.9375,
          -9.9375,
          null,
          4.8125,
          4.8125,
          null,
          7.3125,
          7.3125,
          null,
          -0.6875,
          -0.6875,
          null,
          0.8125,
          0.8125,
          null,
          -2.1875,
          -2.1875,
          null,
          -7.1875,
          -7.1875,
          null,
          -10.6875,
          -10.6875,
          null,
          4.3125,
          4.3125,
          null,
          2.8125,
          2.8125,
          null,
          -5.6875,
          -5.6875,
          null,
          -9.1875,
          -9.1875,
          null,
          -4.1875,
          -4.1875,
          null,
          5.3125,
          5.3125,
          null,
          -0.6875,
          -0.6875,
          null,
          6.3125,
          6.3125,
          null,
          6.3125,
          6.3125,
          null,
          0.8125,
          0.8125,
          null,
          -7.1875,
          -7.1875,
          null,
          -10.6875,
          -10.6875,
          null,
          4.3125,
          4.3125,
          null,
          7.3125,
          7.3125,
          null,
          -2.1875,
          -2.1875,
          null,
          2.8125,
          2.8125,
          null,
          -5.6875,
          -5.6875,
          null,
          -4.1875,
          -4.6875,
          null,
          -4.1875,
          -3.6875,
          null,
          -9.1875,
          -9.1875,
          null,
          5.3125,
          5.3125,
          null,
          -0.6875,
          -0.6875,
          null,
          6.3125,
          6.3125,
          null,
          -2.1875,
          -2.6875,
          null,
          -2.1875,
          -1.6875,
          null,
          4.3125,
          4.3125,
          null,
          7.3125,
          7.3125,
          null,
          2.8125,
          2.3125,
          null,
          2.8125,
          3.3125,
          null,
          -10.6875,
          -10.6875,
          null,
          -4.6875,
          -4.6875,
          null,
          -9.1875,
          -8.6875,
          null,
          -9.1875,
          -9.6875,
          null,
          5.3125,
          5.3125,
          null,
          -5.6875,
          -5.6875,
          null,
          0.8125,
          0.3125,
          null,
          0.8125,
          1.3125,
          null,
          -3.6875,
          -3.6875,
          null,
          5.0625,
          5.0625,
          null,
          -7.1875,
          -6.6875,
          null,
          -7.1875,
          -7.6875,
          null,
          5.0625,
          5.0625,
          null,
          -5.0625,
          -5.0625,
          null,
          0,
          5.0625,
          null,
          0,
          -5.0625,
          null,
          -5.0625,
          -5.0625,
          null,
          5.0625,
          5.0625,
          null,
          -5.0625,
          -5.0625,
          null,
          5.0625,
          5.0625,
          null,
          -5.0625,
          -5.0625,
          null,
          -5.0625,
          -5.0625,
          null,
          5.0625,
          5.0625,
          null,
          -5.0625,
          -1.9375,
          null,
          -5.0625,
          -8.1875,
          null,
          5.0625,
          3.3125,
          null,
          5.0625,
          6.8125,
          null,
          -8.1875,
          -8.1875,
          null,
          -1.9375,
          -1.9375,
          null,
          3.3125,
          3.3125,
          null,
          6.8125,
          6.8125,
          null,
          -8.1875,
          -8.1875,
          null,
          -1.9375,
          -1.9375,
          null,
          3.3125,
          3.3125,
          null,
          6.8125,
          6.8125,
          null,
          -8.1875,
          -6.4375,
          null,
          -8.1875,
          -9.9375,
          null,
          3.3125,
          1.8125,
          null,
          3.3125,
          4.8125,
          null,
          -1.9375,
          -1.9375,
          null,
          6.8125,
          6.8125,
          null,
          -8.1875,
          -8.1875,
          null,
          3.3125,
          3.3125,
          null,
          -1.9375,
          -1.9375,
          null,
          6.8125,
          6.8125,
          null,
          6.3125,
          6.3125,
          null,
          -3.1875,
          -3.1875,
          null,
          -6.4375,
          -6.4375,
          null,
          1.8125,
          1.8125,
          null,
          7.3125,
          7.3125,
          null,
          -9.9375,
          -9.9375,
          null,
          4.8125,
          4.8125,
          null,
          -0.6875,
          -0.6875,
          null,
          1.8125,
          1.8125,
          null,
          -9.9375,
          -9.9375,
          null,
          4.8125,
          4.8125,
          null,
          -6.4375,
          -6.4375,
          null,
          -1.9375,
          -0.6875,
          null,
          -1.9375,
          -3.1875,
          null,
          6.8125,
          6.3125,
          null,
          6.8125,
          7.3125,
          null,
          6.3125,
          6.3125,
          null,
          -3.1875,
          -3.1875,
          null,
          -6.4375,
          -6.4375,
          null,
          -8.1875,
          -8.1875,
          null,
          1.8125,
          1.8125,
          null,
          -1.9375,
          -1.9375,
          null,
          3.3125,
          3.3125,
          null,
          6.8125,
          6.8125,
          null,
          7.3125,
          7.3125,
          null,
          -9.9375,
          -9.9375,
          null,
          4.8125,
          4.8125,
          null,
          -0.6875,
          -0.6875,
          null,
          6.3125,
          6.3125,
          null,
          1.8125,
          0.8125,
          null,
          1.8125,
          2.8125,
          null,
          -0.6875,
          -0.6875,
          null,
          7.3125,
          7.3125,
          null,
          -9.9375,
          -9.9375,
          null,
          -3.1875,
          -3.1875,
          null,
          4.8125,
          4.8125,
          null,
          -6.4375,
          -6.4375,
          null,
          6.3125,
          6.3125,
          null,
          0.8125,
          0.8125,
          null,
          -0.6875,
          -0.6875,
          null,
          7.3125,
          7.3125,
          null,
          2.8125,
          2.8125,
          null,
          -6.4375,
          -5.6875,
          null,
          -6.4375,
          -7.1875,
          null,
          -9.9375,
          -9.1875,
          null,
          -9.9375,
          -10.6875,
          null,
          4.8125,
          4.8125,
          null,
          -3.1875,
          -2.1875,
          null,
          -3.1875,
          -4.1875,
          null,
          6.3125,
          6.3125,
          null
         ],
         "y": [
          18,
          19,
          null,
          18,
          19,
          null,
          18,
          19,
          null,
          18,
          19,
          null,
          18,
          19,
          null,
          18,
          19,
          null,
          18,
          19,
          null,
          18,
          19,
          null,
          18,
          19,
          null,
          18,
          19,
          null,
          18,
          19,
          null,
          18,
          19,
          null,
          16,
          17,
          null,
          16,
          17,
          null,
          16,
          17,
          null,
          16,
          17,
          null,
          16,
          17,
          null,
          16,
          17,
          null,
          16,
          17,
          null,
          16,
          17,
          null,
          16,
          17,
          null,
          19,
          20,
          null,
          19,
          20,
          null,
          19,
          20,
          null,
          19,
          20,
          null,
          19,
          20,
          null,
          19,
          20,
          null,
          19,
          20,
          null,
          19,
          20,
          null,
          19,
          20,
          null,
          19,
          20,
          null,
          19,
          20,
          null,
          19,
          20,
          null,
          20,
          21,
          null,
          19,
          20,
          null,
          20,
          21,
          null,
          20,
          21,
          null,
          20,
          21,
          null,
          20,
          21,
          null,
          20,
          21,
          null,
          20,
          21,
          null,
          20,
          21,
          null,
          20,
          21,
          null,
          20,
          21,
          null,
          20,
          21,
          null,
          20,
          21,
          null,
          20,
          21,
          null,
          20,
          21,
          null,
          21,
          22,
          null,
          21,
          22,
          null,
          21,
          22,
          null,
          21,
          22,
          null,
          21,
          22,
          null,
          21,
          22,
          null,
          21,
          22,
          null,
          21,
          22,
          null,
          21,
          22,
          null,
          21,
          22,
          null,
          21,
          22,
          null,
          21,
          22,
          null,
          21,
          22,
          null,
          21,
          22,
          null,
          21,
          22,
          null,
          21,
          22,
          null,
          21,
          22,
          null,
          2,
          3,
          null,
          21,
          22,
          null,
          21,
          22,
          null,
          3,
          4,
          null,
          2,
          3,
          null,
          0,
          1,
          null,
          0,
          1,
          null,
          3,
          4,
          null,
          4,
          5,
          null,
          4,
          5,
          null,
          5,
          6,
          null,
          5,
          6,
          null,
          1,
          2,
          null,
          1,
          2,
          null,
          6,
          7,
          null,
          6,
          7,
          null,
          6,
          7,
          null,
          6,
          7,
          null,
          9,
          10,
          null,
          9,
          10,
          null,
          9,
          10,
          null,
          9,
          10,
          null,
          8,
          9,
          null,
          8,
          9,
          null,
          8,
          9,
          null,
          8,
          9,
          null,
          11,
          12,
          null,
          11,
          12,
          null,
          11,
          12,
          null,
          11,
          12,
          null,
          11,
          12,
          null,
          11,
          12,
          null,
          10,
          11,
          null,
          10,
          11,
          null,
          10,
          11,
          null,
          10,
          11,
          null,
          13,
          14,
          null,
          13,
          14,
          null,
          13,
          14,
          null,
          13,
          14,
          null,
          13,
          14,
          null,
          13,
          14,
          null,
          13,
          14,
          null,
          13,
          14,
          null,
          12,
          13,
          null,
          12,
          13,
          null,
          12,
          13,
          null,
          12,
          13,
          null,
          12,
          13,
          null,
          12,
          13,
          null,
          12,
          13,
          null,
          12,
          13,
          null,
          14,
          15,
          null,
          14,
          15,
          null,
          14,
          15,
          null,
          7,
          8,
          null,
          14,
          15,
          null,
          7,
          8,
          null,
          7,
          8,
          null,
          7,
          8,
          null,
          14,
          15,
          null,
          14,
          15,
          null,
          14,
          15,
          null,
          14,
          15,
          null,
          15,
          16,
          null,
          15,
          16,
          null,
          15,
          16,
          null,
          15,
          16,
          null,
          15,
          16,
          null,
          15,
          16,
          null,
          15,
          16,
          null,
          15,
          16,
          null,
          15,
          16,
          null,
          17,
          18,
          null,
          17,
          18,
          null,
          17,
          18,
          null,
          17,
          18,
          null,
          17,
          18,
          null,
          17,
          18,
          null,
          17,
          18,
          null,
          17,
          18,
          null,
          17,
          18,
          null,
          17,
          18,
          null,
          17,
          18,
          null,
          17,
          18,
          null,
          18,
          19,
          null
         ]
        },
        {
         "hoverinfo": "text",
         "hovertemplate": "%{text}",
         "mode": "markers",
         "name": "lineage_ID: 0",
         "text": [
          "cell_ID: 9216<br>relative_age: 2<br>cell_length: 4.930526607666679<br>cell_width_no_tips: 0.5928300368799566<br>",
          "cell_ID: 9218<br>relative_age: 0<br>cell_length: 4.243046334514064<br>cell_width_no_tips: 0.5928300368799566<br>",
          "cell_ID: 9222<br>relative_age: 2<br>cell_length: 4.780372142860941<br>cell_width_no_tips: 0.5928300368799566<br>",
          "cell_ID: 9223<br>relative_age: 0<br>cell_length: 3.72382914917224<br>cell_width_no_tips: 0.5928300368799566<br>",
          "cell_ID: 9227<br>relative_age: 0<br>cell_length: 3.838419939303516<br>cell_width_no_tips: 0.5928300368799566<br>",
          "cell_ID: 9228<br>relative_age: 0<br>cell_length: 3.8454558449630603<br>cell_width_no_tips: 0.5928300368799566<br>",
          "cell_ID: 9229<br>relative_age: 0<br>cell_length: 4.148672701914489<br>cell_width_no_tips: 0.5580596300727119<br>",
          "cell_ID: 9230<br>relative_age: 6<br>cell_length: 9.86754399549746<br>cell_width_no_tips: 0.5928300368799566<br>",
          "cell_ID: 9235<br>relative_age: 0<br>cell_length: 4.059292174996962<br>cell_width_no_tips: 0.643571651728492<br>",
          "cell_ID: 9240<br>relative_age: 5<br>cell_length: 4.4336321828048195<br>cell_width_no_tips: 0.4930555147940781<br>",
          "cell_ID: 9250<br>relative_age: 5<br>cell_length: 9.66044167816182<br>cell_width_no_tips: 0.5928300368799566<br>",
          "cell_ID: 9252<br>relative_age: 3<br>cell_length: 6.89921687210906<br>cell_width_no_tips: 0.5928300368799566<br>",
          "cell_ID: 9255<br>relative_age: 3<br>cell_length: 6.033666096904018<br>cell_width_no_tips: 0.5928300368799566<br>",
          "cell_ID: 9258<br>relative_age: 4<br>cell_length: 5.688368646190159<br>cell_width_no_tips: 0.5928300368799566<br>",
          "cell_ID: 9259<br>relative_age: 0<br>cell_length: 3.487222205316279<br>cell_width_no_tips: 0.5928300368799566<br>",
          "cell_ID: 9262<br>relative_age: 3<br>cell_length: 5.882586110688829<br>cell_width_no_tips: 0.5928300368799566<br>",
          "cell_ID: 9263<br>relative_age: 3<br>cell_length: 6.634948638941796<br>cell_width_no_tips: 0.5928300368799566<br>",
          "cell_ID: 9271<br>relative_age: 0<br>cell_length: 3.413263715715175<br>cell_width_no_tips: 0.5928300368799566<br>",
          "cell_ID: 9274<br>relative_age: 4<br>cell_length: 5.952322644272098<br>cell_width_no_tips: 0.5928300368799566<br>",
          "cell_ID: 9277<br>relative_age: 4<br>cell_length: 6.737543589806262<br>cell_width_no_tips: 0.5928300368799566<br>",
          "cell_ID: 9279<br>relative_age: 6<br>cell_length: 10.781224765753564<br>cell_width_no_tips: 0.5232892232654672<br>",
          "cell_ID: 9286<br>relative_age: 6<br>cell_length: 5.2979007423432245<br>cell_width_no_tips: 0.5928300368799566<br>",
          "cell_ID: 9290<br>relative_age: 3<br>cell_length: 6.057483672359616<br>cell_width_no_tips: 0.605874868412189<br>",
          "cell_ID: 9292<br>relative_age: 1<br>cell_length: 4.801621526938189<br>cell_width_no_tips: 0.643571651728492<br>",
          "cell_ID: 9293<br>relative_age: 1<br>cell_length: 4.62541717540248<br>cell_width_no_tips: 0.605874868412189<br>",
          "cell_ID: 9294<br>relative_age: 1<br>cell_length: 5.141955152919527<br>cell_width_no_tips: 0.5928300368799566<br>",
          "cell_ID: 9299<br>relative_age: 0<br>cell_length: 5.582093379486857<br>cell_width_no_tips: 0.5928300368799566<br>",
          "cell_ID: 9306<br>relative_age: 3<br>cell_length: 5.620801675332174<br>cell_width_no_tips: 0.5993524526460727<br>",
          "cell_ID: 9308<br>relative_age: 1<br>cell_length: 4.564735102293017<br>cell_width_no_tips: 0.5928300368799566<br>",
          "cell_ID: 9309<br>relative_age: 1<br>cell_length: 4.731520576691049<br>cell_width_no_tips: 0.643571651728492<br>",
          "cell_ID: 9310<br>relative_age: 1<br>cell_length: 5.105264550754775<br>cell_width_no_tips: 0.5232892232654672<br>",
          "cell_ID: 9312<br>relative_age: 0<br>cell_length: 5.738800563683961<br>cell_width_no_tips: 0.5928300368799566<br>",
          "cell_ID: 9326<br>relative_age: 7<br>cell_length: 6.577661642825111<br>cell_width_no_tips: 0.5928300368799566<br>",
          "cell_ID: 9328<br>relative_age: 6<br>cell_length: 12.199122512563607<br>cell_width_no_tips: 0.5928300368799566<br>",
          "cell_ID: 9330<br>relative_age: 7<br>cell_length: 14.482209960351446<br>cell_width_no_tips: 0.5928300368799566<br>",
          "cell_ID: 9332<br>relative_age: 4<br>cell_length: 7.083612522501208<br>cell_width_no_tips: 0.6247232600703404<br>",
          "cell_ID: 9334<br>relative_age: 2<br>cell_length: 5.362153465347508<br>cell_width_no_tips: 0.5928300368799566<br>",
          "cell_ID: 9335<br>relative_age: 2<br>cell_length: 6.052138123570874<br>cell_width_no_tips: 0.5928300368799566<br>",
          "cell_ID: 9339<br>relative_age: 1<br>cell_length: 6.987592075199744<br>cell_width_no_tips: 0.5928300368799566<br>",
          "cell_ID: 9343<br>relative_age: 7<br>cell_length: 9.38987328082119<br>cell_width_no_tips: 0.5928300368799566<br>",
          "cell_ID: 9344<br>relative_age: 2<br>cell_length: 5.687544676400191<br>cell_width_no_tips: 0.643571651728492<br>",
          "cell_ID: 9351<br>relative_age: 4<br>cell_length: 6.585056213415689<br>cell_width_no_tips: 0.643571651728492<br>",
          "cell_ID: 9355<br>relative_age: 2<br>cell_length: 5.271352982339518<br>cell_width_no_tips: 0.643571651728492<br>",
          "cell_ID: 9356<br>relative_age: 2<br>cell_length: 5.7744914989599465<br>cell_width_no_tips: 0.5928300368799566<br>",
          "cell_ID: 9357<br>relative_age: 2<br>cell_length: 5.945155086143516<br>cell_width_no_tips: 0.5928300368799566<br>",
          "cell_ID: 9358<br>relative_age: 1<br>cell_length: 6.845461718729148<br>cell_width_no_tips: 0.5928300368799566<br>",
          "cell_ID: 9375<br>relative_age: 0<br>cell_length: 4.7788314835579<br>cell_width_no_tips: 0.5928300368799566<br>",
          "cell_ID: 9382<br>relative_age: 9<br>cell_length: 8.839561907983464<br>cell_width_no_tips: 0.5928300368799566<br>",
          "cell_ID: 9384<br>relative_age: 9<br>cell_length: 21.032018728326154<br>cell_width_no_tips: 0.5928300368799566<br>",
          "cell_ID: 9389<br>relative_age: 0<br>cell_length: 4.056283687088043<br>cell_width_no_tips: 0.5928300368799566<br>",
          "cell_ID: 9390<br>relative_age: 3<br>cell_length: 10.182865607277357<br>cell_width_no_tips: 0.5928300368799566<br>",
          "cell_ID: 9395<br>relative_age: 9<br>cell_length: 8.852432684200929<br>cell_width_no_tips: 0.5928300368799566<br>",
          "cell_ID: 9398<br>relative_age: 0<br>cell_length: 4.3249279309929145<br>cell_width_no_tips: 0.643571651728492<br>",
          "cell_ID: 9402<br>relative_age: 0<br>cell_length: 4.068580857344607<br>cell_width_no_tips: 0.5928300368799566<br>",
          "cell_ID: 9416<br>relative_age: 0<br>cell_length: 3.709038039840309<br>cell_width_no_tips: 0.643571651728492<br>",
          "cell_ID: 9424<br>relative_age: 8<br>cell_length: 7.389383848541663<br>cell_width_no_tips: 0.5928300368799566<br>",
          "cell_ID: 9428<br>relative_age: 8<br>cell_length: 17.210227640148247<br>cell_width_no_tips: 0.5928300368799566<br>",
          "cell_ID: 9438<br>relative_age: 3<br>cell_length: 7.373881518390199<br>cell_width_no_tips: 0.5928300368799566<br>",
          "cell_ID: 9440<br>relative_age: 1<br>cell_length: 4.279047938217021<br>cell_width_no_tips: 0.47730796481219906<br>",
          "cell_ID: 9441<br>relative_age: 2<br>cell_length: 8.49516349262467<br>cell_width_no_tips: 0.605874868412189<br>",
          "cell_ID: 9444<br>relative_age: 1<br>cell_length: 3.9757790711651033<br>cell_width_no_tips: 0.5928300368799566<br>",
          "cell_ID: 9446<br>relative_age: 3<br>cell_length: 9.909044396186983<br>cell_width_no_tips: 0.5928300368799566<br>",
          "cell_ID: 9448<br>relative_age: 0<br>cell_length: 3.265430449595901<br>cell_width_no_tips: 0.5928300368799566<br>",
          "cell_ID: 9449<br>relative_age: 0<br>cell_length: 3.770704279335838<br>cell_width_no_tips: 0.5928300368799566<br>",
          "cell_ID: 9450<br>relative_age: 8<br>cell_length: 8.983980285059609<br>cell_width_no_tips: 0.5928300368799566<br>",
          "cell_ID: 9463<br>relative_age: 4<br>cell_length: 7.958194396145716<br>cell_width_no_tips: 0.5928300368799566<br>",
          "cell_ID: 9464<br>relative_age: 5<br>cell_length: 7.820575501853349<br>cell_width_no_tips: 0.7022996463169809<br>",
          "cell_ID: 9465<br>relative_age: 0<br>cell_length: 3.9818660425629457<br>cell_width_no_tips: 0.5928300368799566<br>",
          "cell_ID: 9470<br>relative_age: 4<br>cell_length: 8.459530713941803<br>cell_width_no_tips: 0.5928300368799566<br>",
          "cell_ID: 9476<br>relative_age: 0<br>cell_length: 5.110369013636639<br>cell_width_no_tips: 0.643571651728492<br>",
          "cell_ID: 9480<br>relative_age: 0<br>cell_length: 5.2485768285728875<br>cell_width_no_tips: 0.5928300368799566<br>",
          "cell_ID: 9481<br>relative_age: 3<br>cell_length: 7.1398423223145615<br>cell_width_no_tips: 0.5928300368799566<br>",
          "cell_ID: 9482<br>relative_age: 0<br>cell_length: 3.24494540075776<br>cell_width_no_tips: 0.47730796481219906<br>",
          "cell_ID: 9483<br>relative_age: 3<br>cell_length: 6.852342998114498<br>cell_width_no_tips: 0.5928300368799566<br>",
          "cell_ID: 9485<br>relative_age: 2<br>cell_length: 8.056153565079<br>cell_width_no_tips: 0.5232892232654672<br>",
          "cell_ID: 9491<br>relative_age: 3<br>cell_length: 6.341495389126244<br>cell_width_no_tips: 0.5928300368799566<br>",
          "cell_ID: 9492<br>relative_age: 5<br>cell_length: 8.777059616491028<br>cell_width_no_tips: 0.643571651728492<br>",
          "cell_ID: 9494<br>relative_age: 0<br>cell_length: 3.039031940531795<br>cell_width_no_tips: 0.5232892232654672<br>",
          "cell_ID: 8986<br>relative_age: 1<br>cell_length: 2.8673010592053134<br>cell_width_no_tips: 0.4610900286844107<br>",
          "cell_ID: 9498<br>relative_age: 3<br>cell_length: 6.003662151153183<br>cell_width_no_tips: 0.5928300368799566<br>",
          "cell_ID: 8988<br>relative_age: 2<br>cell_length: 3.3800341891000523<br>cell_width_no_tips: 0.4610900286844107<br>",
          "cell_ID: 8989<br>relative_age: 1<br>cell_length: 2.838978679669572<br>cell_width_no_tips: 0.409125350481314<br>",
          "cell_ID: 8993<br>relative_age: 0<br>cell_length: 4.78169936336718<br>cell_width_no_tips: 0.5232892232654672<br>",
          "cell_ID: 8996<br>relative_age: 2<br>cell_length: 3.220464087092878<br>cell_width_no_tips: 0.409125350481314<br>",
          "cell_ID: 8999<br>relative_age: 3<br>cell_length: 4.085428953188581<br>cell_width_no_tips: 0.4610900286844107<br>",
          "cell_ID: 9001<br>relative_age: 3<br>cell_length: 3.74113743944052<br>cell_width_no_tips: 0.47730796481219906<br>",
          "cell_ID: 9008<br>relative_age: 4<br>cell_length: 4.741468758521559<br>cell_width_no_tips: 0.5232892232654672<br>",
          "cell_ID: 9010<br>relative_age: 4<br>cell_length: 4.4994828508429725<br>cell_width_no_tips: 0.4610900286844107<br>",
          "cell_ID: 9013<br>relative_age: 0<br>cell_length: 2.754430235429518<br>cell_width_no_tips: 0.47730796481219906<br>",
          "cell_ID: 9014<br>relative_age: 0<br>cell_length: 2.605579959702223<br>cell_width_no_tips: 0.4610900286844107<br>",
          "cell_ID: 9019<br>relative_age: 5<br>cell_length: 5.407042535070013<br>cell_width_no_tips: 0.4610900286844107<br>",
          "cell_ID: 9020<br>relative_age: 5<br>cell_length: 5.5273160159860195<br>cell_width_no_tips: 0.5232892232654672<br>",
          "cell_ID: 9027<br>relative_age: 2<br>cell_length: 3.7624932407539706<br>cell_width_no_tips: 0.5232892232654672<br>",
          "cell_ID: 9028<br>relative_age: 2<br>cell_length: 3.8990476069845412<br>cell_width_no_tips: 0.5928300368799566<br>",
          "cell_ID: 9029<br>relative_age: 2<br>cell_length: 4.083329522947047<br>cell_width_no_tips: 0.5232892232654672<br>",
          "cell_ID: 9031<br>relative_age: 2<br>cell_length: 4.126360753722902<br>cell_width_no_tips: 0.5928300368799566<br>",
          "cell_ID: 9040<br>relative_age: 1<br>cell_length: 3.286193674568205<br>cell_width_no_tips: 0.4610900286844107<br>",
          "cell_ID: 9041<br>relative_age: 1<br>cell_length: 3.3053985404398945<br>cell_width_no_tips: 0.4930555147940781<br>",
          "cell_ID: 9042<br>relative_age: 1<br>cell_length: 3.485757065470796<br>cell_width_no_tips: 0.5232892232654672<br>",
          "cell_ID: 9043<br>relative_age: 1<br>cell_length: 3.245250185963347<br>cell_width_no_tips: 0.5928300368799566<br>",
          "cell_ID: 9051<br>relative_age: 4<br>cell_length: 5.158516359956492<br>cell_width_no_tips: 0.5232892232654672<br>",
          "cell_ID: 9052<br>relative_age: 4<br>cell_length: 6.122189820087546<br>cell_width_no_tips: 0.5928300368799566<br>",
          "cell_ID: 9053<br>relative_age: 4<br>cell_length: 5.23801696343309<br>cell_width_no_tips: 0.5928300368799566<br>",
          "cell_ID: 9055<br>relative_age: 4<br>cell_length: 5.716031387452327<br>cell_width_no_tips: 0.5928300368799566<br>",
          "cell_ID: 9062<br>relative_age: 3<br>cell_length: 4.4162733932348<br>cell_width_no_tips: 0.5232892232654672<br>",
          "cell_ID: 9064<br>relative_age: 3<br>cell_length: 5.027424201060096<br>cell_width_no_tips: 0.5928300368799566<br>",
          "cell_ID: 9065<br>relative_age: 3<br>cell_length: 4.535232337865982<br>cell_width_no_tips: 0.5928300368799566<br>",
          "cell_ID: 9067<br>relative_age: 3<br>cell_length: 4.854091441686052<br>cell_width_no_tips: 0.5928300368799566<br>",
          "cell_ID: 9080<br>relative_age: 0<br>cell_length: 4.131429535674349<br>cell_width_no_tips: 0.5928300368799566<br>",
          "cell_ID: 9081<br>relative_age: 0<br>cell_length: 3.6129746346224425<br>cell_width_no_tips: 0.5232892232654672<br>",
          "cell_ID: 9082<br>relative_age: 1<br>cell_length: 3.3139527161421034<br>cell_width_no_tips: 0.47730796481219906<br>",
          "cell_ID: 9084<br>relative_age: 1<br>cell_length: 4.161014914457815<br>cell_width_no_tips: 0.5928300368799566<br>",
          "cell_ID: 9086<br>relative_age: 0<br>cell_length: 4.061432370498434<br>cell_width_no_tips: 0.5928300368799566<br>",
          "cell_ID: 9090<br>relative_age: 1<br>cell_length: 3.337012377933922<br>cell_width_no_tips: 0.5580596300727119<br>",
          "cell_ID: 9091<br>relative_age: 1<br>cell_length: 4.095208012804517<br>cell_width_no_tips: 0.5928300368799566<br>",
          "cell_ID: 9095<br>relative_age: 0<br>cell_length: 3.564799445100347<br>cell_width_no_tips: 0.5232892232654672<br>",
          "cell_ID: 9096<br>relative_age: 0<br>cell_length: 3.560161524310893<br>cell_width_no_tips: 0.5232892232654672<br>",
          "cell_ID: 9102<br>relative_age: 0<br>cell_length: 2.7202333827011893<br>cell_width_no_tips: 0.4930555147940781<br>",
          "cell_ID: 9103<br>relative_age: 0<br>cell_length: 3.429108073488289<br>cell_width_no_tips: 0.5232892232654672<br>",
          "cell_ID: 9104<br>relative_age: 0<br>cell_length: 2.8251230060759807<br>cell_width_no_tips: 0.5232892232654672<br>",
          "cell_ID: 9106<br>relative_age: 5<br>cell_length: 6.490943336014723<br>cell_width_no_tips: 0.5232892232654672<br>",
          "cell_ID: 9108<br>relative_age: 5<br>cell_length: 7.0825740095517<br>cell_width_no_tips: 0.605874868412189<br>",
          "cell_ID: 9118<br>relative_age: 1<br>cell_length: 4.8870280885359785<br>cell_width_no_tips: 0.5928300368799566<br>",
          "cell_ID: 9119<br>relative_age: 1<br>cell_length: 4.227605936937839<br>cell_width_no_tips: 0.5928300368799566<br>",
          "cell_ID: 9120<br>relative_age: 2<br>cell_length: 3.8890229976734623<br>cell_width_no_tips: 0.5232892232654672<br>",
          "cell_ID: 9121<br>relative_age: 0<br>cell_length: 2.8638727016284355<br>cell_width_no_tips: 0.4610900286844107<br>",
          "cell_ID: 9122<br>relative_age: 2<br>cell_length: 4.9377392438551<br>cell_width_no_tips: 0.5928300368799566<br>",
          "cell_ID: 9123<br>relative_age: 0<br>cell_length: 2.9192130525822315<br>cell_width_no_tips: 0.4610900286844107<br>",
          "cell_ID: 9124<br>relative_age: 0<br>cell_length: 3.029382021188553<br>cell_width_no_tips: 0.5232892232654672<br>",
          "cell_ID: 9126<br>relative_age: 0<br>cell_length: 2.920682091495144<br>cell_width_no_tips: 0.5928300368799566<br>",
          "cell_ID: 9127<br>relative_age: 1<br>cell_length: 4.624176331220814<br>cell_width_no_tips: 0.5928300368799566<br>",
          "cell_ID: 9136<br>relative_age: 2<br>cell_length: 4.032096425333687<br>cell_width_no_tips: 0.5928300368799566<br>",
          "cell_ID: 9138<br>relative_age: 2<br>cell_length: 4.8353526831456755<br>cell_width_no_tips: 0.5928300368799566<br>",
          "cell_ID: 9143<br>relative_age: 1<br>cell_length: 4.334462663426628<br>cell_width_no_tips: 0.5928300368799566<br>",
          "cell_ID: 9155<br>relative_age: 2<br>cell_length: 6.053188595546213<br>cell_width_no_tips: 0.5928300368799566<br>",
          "cell_ID: 9156<br>relative_age: 3<br>cell_length: 5.986621312846089<br>cell_width_no_tips: 0.5928300368799566<br>",
          "cell_ID: 9159<br>relative_age: 2<br>cell_length: 5.010858941215484<br>cell_width_no_tips: 0.5928300368799566<br>",
          "cell_ID: 9160<br>relative_age: 2<br>cell_length: 5.732706035530661<br>cell_width_no_tips: 0.5928300368799566<br>",
          "cell_ID: 9167<br>relative_age: 3<br>cell_length: 4.879960271356086<br>cell_width_no_tips: 0.5928300368799566<br>",
          "cell_ID: 9168<br>relative_age: 2<br>cell_length: 4.847273261306684<br>cell_width_no_tips: 0.5928300368799566<br>",
          "cell_ID: 9169<br>relative_age: 3<br>cell_length: 5.582418196036907<br>cell_width_no_tips: 0.5928300368799566<br>",
          "cell_ID: 9170<br>relative_age: 3<br>cell_length: 4.642911335818233<br>cell_width_no_tips: 0.5928300368799566<br>",
          "cell_ID: 9176<br>relative_age: 4<br>cell_length: 8.304949082154948<br>cell_width_no_tips: 0.5928300368799566<br>",
          "cell_ID: 9178<br>relative_age: 1<br>cell_length: 4.162090029541367<br>cell_width_no_tips: 0.6247232600703404<br>",
          "cell_ID: 9181<br>relative_age: 4<br>cell_length: 6.797636313121253<br>cell_width_no_tips: 0.5232892232654672<br>",
          "cell_ID: 9182<br>relative_age: 4<br>cell_length: 8.135277900085061<br>cell_width_no_tips: 0.5928300368799566<br>",
          "cell_ID: 9191<br>relative_age: 1<br>cell_length: 3.7435341480688433<br>cell_width_no_tips: 0.5928300368799566<br>",
          "cell_ID: 9194<br>relative_age: 5<br>cell_length: 6.723447900613733<br>cell_width_no_tips: 0.5928300368799566<br>",
          "cell_ID: 9195<br>relative_age: 5<br>cell_length: 6.866119546245776<br>cell_width_no_tips: 0.5928300368799566<br>",
          "cell_ID: 9196<br>relative_age: 5<br>cell_length: 7.88479622084487<br>cell_width_no_tips: 0.5928300368799566<br>",
          "cell_ID: 9206<br>relative_age: 4<br>cell_length: 7.045719964617411<br>cell_width_no_tips: 0.5928300368799566<br>",
          "cell_ID: 9215<br>relative_age: 5<br>cell_length: 9.162150522914121<br>cell_width_no_tips: 0.5928300368799566<br>"
         ],
         "type": "scatter",
         "x": [
          0.8125,
          -10.6875,
          2.8125,
          -7.1875,
          -5.6875,
          -9.1875,
          -4.1875,
          4.8125,
          -2.1875,
          -0.6875,
          7.3125,
          6.3125,
          -3.1875,
          -6.4375,
          0.8125,
          -0.6875,
          7.3125,
          2.8125,
          -9.9375,
          4.8125,
          7.3125,
          -0.6875,
          0.8125,
          -2.1875,
          -7.1875,
          -10.6875,
          4.3125,
          2.8125,
          -5.6875,
          -9.1875,
          -4.1875,
          5.3125,
          -0.6875,
          6.3125,
          6.3125,
          0.8125,
          -7.1875,
          -10.6875,
          4.3125,
          7.3125,
          -2.1875,
          2.8125,
          -5.6875,
          -4.1875,
          -9.1875,
          5.3125,
          2.3125,
          -0.6875,
          6.3125,
          -2.6875,
          4.3125,
          7.3125,
          3.3125,
          -9.6875,
          -7.6875,
          -0.6875,
          6.3125,
          -2.1875,
          -4.6875,
          4.3125,
          -3.6875,
          5.3125,
          -6.6875,
          -1.6875,
          7.3125,
          -5.6875,
          2.8125,
          -8.6875,
          -10.6875,
          0.3125,
          1.3125,
          -10.6875,
          -4.6875,
          -9.1875,
          5.3125,
          -5.6875,
          0.8125,
          -3.6875,
          5.0625,
          -7.1875,
          5.0625,
          -5.0625,
          0,
          -5.0625,
          5.0625,
          -5.0625,
          5.0625,
          -5.0625,
          -5.0625,
          5.0625,
          -5.0625,
          5.0625,
          -8.1875,
          -1.9375,
          3.3125,
          6.8125,
          -8.1875,
          -1.9375,
          3.3125,
          6.8125,
          -8.1875,
          3.3125,
          -1.9375,
          6.8125,
          -8.1875,
          3.3125,
          -1.9375,
          6.8125,
          6.3125,
          -3.1875,
          -6.4375,
          1.8125,
          7.3125,
          -9.9375,
          4.8125,
          -0.6875,
          1.8125,
          -9.9375,
          4.8125,
          -6.4375,
          -1.9375,
          6.8125,
          6.3125,
          -3.1875,
          -6.4375,
          -8.1875,
          1.8125,
          -1.9375,
          3.3125,
          6.8125,
          7.3125,
          -9.9375,
          4.8125,
          -0.6875,
          6.3125,
          1.8125,
          -0.6875,
          7.3125,
          -9.9375,
          -3.1875,
          4.8125,
          -6.4375,
          6.3125,
          0.8125,
          -0.6875,
          7.3125,
          2.8125,
          -6.4375,
          -9.9375,
          4.8125,
          -3.1875,
          6.3125
         ],
         "y": [
          18,
          18,
          18,
          18,
          18,
          18,
          18,
          18,
          18,
          18,
          18,
          16,
          16,
          16,
          16,
          16,
          16,
          16,
          16,
          16,
          19,
          19,
          19,
          19,
          19,
          19,
          19,
          19,
          19,
          19,
          19,
          19,
          20,
          19,
          20,
          20,
          20,
          20,
          20,
          20,
          20,
          20,
          20,
          20,
          20,
          20,
          22,
          22,
          22,
          22,
          22,
          22,
          22,
          22,
          22,
          21,
          21,
          21,
          22,
          21,
          22,
          22,
          22,
          22,
          21,
          22,
          21,
          22,
          22,
          22,
          22,
          21,
          21,
          21,
          21,
          21,
          21,
          21,
          2,
          21,
          3,
          2,
          0,
          3,
          4,
          4,
          5,
          5,
          1,
          1,
          6,
          6,
          9,
          9,
          9,
          9,
          8,
          8,
          8,
          8,
          11,
          11,
          11,
          11,
          10,
          10,
          10,
          10,
          13,
          13,
          13,
          13,
          13,
          13,
          13,
          13,
          12,
          12,
          12,
          12,
          12,
          12,
          14,
          14,
          14,
          7,
          14,
          7,
          7,
          7,
          14,
          14,
          14,
          14,
          15,
          15,
          15,
          15,
          15,
          15,
          15,
          15,
          17,
          17,
          17,
          17,
          17,
          17,
          17,
          17,
          17,
          18
         ]
        }
       ],
       "layout": {
        "hovermode": "closest",
        "showlegend": true,
        "template": {
         "data": {
          "bar": [
           {
            "error_x": {
             "color": "#2a3f5f"
            },
            "error_y": {
             "color": "#2a3f5f"
            },
            "marker": {
             "line": {
              "color": "#E5ECF6",
              "width": 0.5
             },
             "pattern": {
              "fillmode": "overlay",
              "size": 10,
              "solidity": 0.2
             }
            },
            "type": "bar"
           }
          ],
          "barpolar": [
           {
            "marker": {
             "line": {
              "color": "#E5ECF6",
              "width": 0.5
             },
             "pattern": {
              "fillmode": "overlay",
              "size": 10,
              "solidity": 0.2
             }
            },
            "type": "barpolar"
           }
          ],
          "carpet": [
           {
            "aaxis": {
             "endlinecolor": "#2a3f5f",
             "gridcolor": "white",
             "linecolor": "white",
             "minorgridcolor": "white",
             "startlinecolor": "#2a3f5f"
            },
            "baxis": {
             "endlinecolor": "#2a3f5f",
             "gridcolor": "white",
             "linecolor": "white",
             "minorgridcolor": "white",
             "startlinecolor": "#2a3f5f"
            },
            "type": "carpet"
           }
          ],
          "choropleth": [
           {
            "colorbar": {
             "outlinewidth": 0,
             "ticks": ""
            },
            "type": "choropleth"
           }
          ],
          "contour": [
           {
            "colorbar": {
             "outlinewidth": 0,
             "ticks": ""
            },
            "colorscale": [
             [
              0,
              "#0d0887"
             ],
             [
              0.1111111111111111,
              "#46039f"
             ],
             [
              0.2222222222222222,
              "#7201a8"
             ],
             [
              0.3333333333333333,
              "#9c179e"
             ],
             [
              0.4444444444444444,
              "#bd3786"
             ],
             [
              0.5555555555555556,
              "#d8576b"
             ],
             [
              0.6666666666666666,
              "#ed7953"
             ],
             [
              0.7777777777777778,
              "#fb9f3a"
             ],
             [
              0.8888888888888888,
              "#fdca26"
             ],
             [
              1,
              "#f0f921"
             ]
            ],
            "type": "contour"
           }
          ],
          "contourcarpet": [
           {
            "colorbar": {
             "outlinewidth": 0,
             "ticks": ""
            },
            "type": "contourcarpet"
           }
          ],
          "heatmap": [
           {
            "colorbar": {
             "outlinewidth": 0,
             "ticks": ""
            },
            "colorscale": [
             [
              0,
              "#0d0887"
             ],
             [
              0.1111111111111111,
              "#46039f"
             ],
             [
              0.2222222222222222,
              "#7201a8"
             ],
             [
              0.3333333333333333,
              "#9c179e"
             ],
             [
              0.4444444444444444,
              "#bd3786"
             ],
             [
              0.5555555555555556,
              "#d8576b"
             ],
             [
              0.6666666666666666,
              "#ed7953"
             ],
             [
              0.7777777777777778,
              "#fb9f3a"
             ],
             [
              0.8888888888888888,
              "#fdca26"
             ],
             [
              1,
              "#f0f921"
             ]
            ],
            "type": "heatmap"
           }
          ],
          "heatmapgl": [
           {
            "colorbar": {
             "outlinewidth": 0,
             "ticks": ""
            },
            "colorscale": [
             [
              0,
              "#0d0887"
             ],
             [
              0.1111111111111111,
              "#46039f"
             ],
             [
              0.2222222222222222,
              "#7201a8"
             ],
             [
              0.3333333333333333,
              "#9c179e"
             ],
             [
              0.4444444444444444,
              "#bd3786"
             ],
             [
              0.5555555555555556,
              "#d8576b"
             ],
             [
              0.6666666666666666,
              "#ed7953"
             ],
             [
              0.7777777777777778,
              "#fb9f3a"
             ],
             [
              0.8888888888888888,
              "#fdca26"
             ],
             [
              1,
              "#f0f921"
             ]
            ],
            "type": "heatmapgl"
           }
          ],
          "histogram": [
           {
            "marker": {
             "pattern": {
              "fillmode": "overlay",
              "size": 10,
              "solidity": 0.2
             }
            },
            "type": "histogram"
           }
          ],
          "histogram2d": [
           {
            "colorbar": {
             "outlinewidth": 0,
             "ticks": ""
            },
            "colorscale": [
             [
              0,
              "#0d0887"
             ],
             [
              0.1111111111111111,
              "#46039f"
             ],
             [
              0.2222222222222222,
              "#7201a8"
             ],
             [
              0.3333333333333333,
              "#9c179e"
             ],
             [
              0.4444444444444444,
              "#bd3786"
             ],
             [
              0.5555555555555556,
              "#d8576b"
             ],
             [
              0.6666666666666666,
              "#ed7953"
             ],
             [
              0.7777777777777778,
              "#fb9f3a"
             ],
             [
              0.8888888888888888,
              "#fdca26"
             ],
             [
              1,
              "#f0f921"
             ]
            ],
            "type": "histogram2d"
           }
          ],
          "histogram2dcontour": [
           {
            "colorbar": {
             "outlinewidth": 0,
             "ticks": ""
            },
            "colorscale": [
             [
              0,
              "#0d0887"
             ],
             [
              0.1111111111111111,
              "#46039f"
             ],
             [
              0.2222222222222222,
              "#7201a8"
             ],
             [
              0.3333333333333333,
              "#9c179e"
             ],
             [
              0.4444444444444444,
              "#bd3786"
             ],
             [
              0.5555555555555556,
              "#d8576b"
             ],
             [
              0.6666666666666666,
              "#ed7953"
             ],
             [
              0.7777777777777778,
              "#fb9f3a"
             ],
             [
              0.8888888888888888,
              "#fdca26"
             ],
             [
              1,
              "#f0f921"
             ]
            ],
            "type": "histogram2dcontour"
           }
          ],
          "mesh3d": [
           {
            "colorbar": {
             "outlinewidth": 0,
             "ticks": ""
            },
            "type": "mesh3d"
           }
          ],
          "parcoords": [
           {
            "line": {
             "colorbar": {
              "outlinewidth": 0,
              "ticks": ""
             }
            },
            "type": "parcoords"
           }
          ],
          "pie": [
           {
            "automargin": true,
            "type": "pie"
           }
          ],
          "scatter": [
           {
            "fillpattern": {
             "fillmode": "overlay",
             "size": 10,
             "solidity": 0.2
            },
            "type": "scatter"
           }
          ],
          "scatter3d": [
           {
            "line": {
             "colorbar": {
              "outlinewidth": 0,
              "ticks": ""
             }
            },
            "marker": {
             "colorbar": {
              "outlinewidth": 0,
              "ticks": ""
             }
            },
            "type": "scatter3d"
           }
          ],
          "scattercarpet": [
           {
            "marker": {
             "colorbar": {
              "outlinewidth": 0,
              "ticks": ""
             }
            },
            "type": "scattercarpet"
           }
          ],
          "scattergeo": [
           {
            "marker": {
             "colorbar": {
              "outlinewidth": 0,
              "ticks": ""
             }
            },
            "type": "scattergeo"
           }
          ],
          "scattergl": [
           {
            "marker": {
             "colorbar": {
              "outlinewidth": 0,
              "ticks": ""
             }
            },
            "type": "scattergl"
           }
          ],
          "scattermapbox": [
           {
            "marker": {
             "colorbar": {
              "outlinewidth": 0,
              "ticks": ""
             }
            },
            "type": "scattermapbox"
           }
          ],
          "scatterpolar": [
           {
            "marker": {
             "colorbar": {
              "outlinewidth": 0,
              "ticks": ""
             }
            },
            "type": "scatterpolar"
           }
          ],
          "scatterpolargl": [
           {
            "marker": {
             "colorbar": {
              "outlinewidth": 0,
              "ticks": ""
             }
            },
            "type": "scatterpolargl"
           }
          ],
          "scatterternary": [
           {
            "marker": {
             "colorbar": {
              "outlinewidth": 0,
              "ticks": ""
             }
            },
            "type": "scatterternary"
           }
          ],
          "surface": [
           {
            "colorbar": {
             "outlinewidth": 0,
             "ticks": ""
            },
            "colorscale": [
             [
              0,
              "#0d0887"
             ],
             [
              0.1111111111111111,
              "#46039f"
             ],
             [
              0.2222222222222222,
              "#7201a8"
             ],
             [
              0.3333333333333333,
              "#9c179e"
             ],
             [
              0.4444444444444444,
              "#bd3786"
             ],
             [
              0.5555555555555556,
              "#d8576b"
             ],
             [
              0.6666666666666666,
              "#ed7953"
             ],
             [
              0.7777777777777778,
              "#fb9f3a"
             ],
             [
              0.8888888888888888,
              "#fdca26"
             ],
             [
              1,
              "#f0f921"
             ]
            ],
            "type": "surface"
           }
          ],
          "table": [
           {
            "cells": {
             "fill": {
              "color": "#EBF0F8"
             },
             "line": {
              "color": "white"
             }
            },
            "header": {
             "fill": {
              "color": "#C8D4E3"
             },
             "line": {
              "color": "white"
             }
            },
            "type": "table"
           }
          ]
         },
         "layout": {
          "annotationdefaults": {
           "arrowcolor": "#2a3f5f",
           "arrowhead": 0,
           "arrowwidth": 1
          },
          "autotypenumbers": "strict",
          "coloraxis": {
           "colorbar": {
            "outlinewidth": 0,
            "ticks": ""
           }
          },
          "colorscale": {
           "diverging": [
            [
             0,
             "#8e0152"
            ],
            [
             0.1,
             "#c51b7d"
            ],
            [
             0.2,
             "#de77ae"
            ],
            [
             0.3,
             "#f1b6da"
            ],
            [
             0.4,
             "#fde0ef"
            ],
            [
             0.5,
             "#f7f7f7"
            ],
            [
             0.6,
             "#e6f5d0"
            ],
            [
             0.7,
             "#b8e186"
            ],
            [
             0.8,
             "#7fbc41"
            ],
            [
             0.9,
             "#4d9221"
            ],
            [
             1,
             "#276419"
            ]
           ],
           "sequential": [
            [
             0,
             "#0d0887"
            ],
            [
             0.1111111111111111,
             "#46039f"
            ],
            [
             0.2222222222222222,
             "#7201a8"
            ],
            [
             0.3333333333333333,
             "#9c179e"
            ],
            [
             0.4444444444444444,
             "#bd3786"
            ],
            [
             0.5555555555555556,
             "#d8576b"
            ],
            [
             0.6666666666666666,
             "#ed7953"
            ],
            [
             0.7777777777777778,
             "#fb9f3a"
            ],
            [
             0.8888888888888888,
             "#fdca26"
            ],
            [
             1,
             "#f0f921"
            ]
           ],
           "sequentialminus": [
            [
             0,
             "#0d0887"
            ],
            [
             0.1111111111111111,
             "#46039f"
            ],
            [
             0.2222222222222222,
             "#7201a8"
            ],
            [
             0.3333333333333333,
             "#9c179e"
            ],
            [
             0.4444444444444444,
             "#bd3786"
            ],
            [
             0.5555555555555556,
             "#d8576b"
            ],
            [
             0.6666666666666666,
             "#ed7953"
            ],
            [
             0.7777777777777778,
             "#fb9f3a"
            ],
            [
             0.8888888888888888,
             "#fdca26"
            ],
            [
             1,
             "#f0f921"
            ]
           ]
          },
          "colorway": [
           "#636efa",
           "#EF553B",
           "#00cc96",
           "#ab63fa",
           "#FFA15A",
           "#19d3f3",
           "#FF6692",
           "#B6E880",
           "#FF97FF",
           "#FECB52"
          ],
          "font": {
           "color": "#2a3f5f"
          },
          "geo": {
           "bgcolor": "white",
           "lakecolor": "white",
           "landcolor": "#E5ECF6",
           "showlakes": true,
           "showland": true,
           "subunitcolor": "white"
          },
          "hoverlabel": {
           "align": "left"
          },
          "hovermode": "closest",
          "mapbox": {
           "style": "light"
          },
          "paper_bgcolor": "white",
          "plot_bgcolor": "#E5ECF6",
          "polar": {
           "angularaxis": {
            "gridcolor": "white",
            "linecolor": "white",
            "ticks": ""
           },
           "bgcolor": "#E5ECF6",
           "radialaxis": {
            "gridcolor": "white",
            "linecolor": "white",
            "ticks": ""
           }
          },
          "scene": {
           "xaxis": {
            "backgroundcolor": "#E5ECF6",
            "gridcolor": "white",
            "gridwidth": 2,
            "linecolor": "white",
            "showbackground": true,
            "ticks": "",
            "zerolinecolor": "white"
           },
           "yaxis": {
            "backgroundcolor": "#E5ECF6",
            "gridcolor": "white",
            "gridwidth": 2,
            "linecolor": "white",
            "showbackground": true,
            "ticks": "",
            "zerolinecolor": "white"
           },
           "zaxis": {
            "backgroundcolor": "#E5ECF6",
            "gridcolor": "white",
            "gridwidth": 2,
            "linecolor": "white",
            "showbackground": true,
            "ticks": "",
            "zerolinecolor": "white"
           }
          },
          "shapedefaults": {
           "line": {
            "color": "#2a3f5f"
           }
          },
          "ternary": {
           "aaxis": {
            "gridcolor": "white",
            "linecolor": "white",
            "ticks": ""
           },
           "baxis": {
            "gridcolor": "white",
            "linecolor": "white",
            "ticks": ""
           },
           "bgcolor": "#E5ECF6",
           "caxis": {
            "gridcolor": "white",
            "linecolor": "white",
            "ticks": ""
           }
          },
          "title": {
           "x": 0.05
          },
          "xaxis": {
           "automargin": true,
           "gridcolor": "white",
           "linecolor": "white",
           "ticks": "",
           "title": {
            "standoff": 15
           },
           "zerolinecolor": "white",
           "zerolinewidth": 2
          },
          "yaxis": {
           "automargin": true,
           "gridcolor": "white",
           "linecolor": "white",
           "ticks": "",
           "title": {
            "standoff": 15
           },
           "zerolinecolor": "white",
           "zerolinewidth": 2
          }
         }
        },
        "title": {},
        "xaxis": {
         "showgrid": false,
         "showticklabels": false,
         "zeroline": false
        },
        "yaxis": {
         "autorange": "reversed",
         "showgrid": true,
         "title": {
          "text": "Time (frames)"
         },
         "zeroline": true
        }
       }
      }
     },
     "metadata": {},
     "output_type": "display_data"
    }
   ],
   "source": [
    "lin0 = model.data.cell_data[0]\n",
    "lin0.plot(\n",
    "    node_hover_features=[\"cell_ID\", \"relative_age\", \"cell_length\", \"cell_width_no_tips\"]\n",
    ")"
   ]
  },
  {
   "cell_type": "code",
   "execution_count": 5,
   "metadata": {},
   "outputs": [
    {
     "data": {
      "application/vnd.plotly.v1+json": {
       "config": {
        "plotlyServerURL": "https://plot.ly"
       },
       "data": [
        {
         "mode": "lines",
         "name": "Edges",
         "type": "scatter",
         "x": [
          0.6875,
          0.1875,
          null,
          0.6875,
          1.1875,
          null,
          -2.8125,
          -3.3125,
          null,
          -2.8125,
          -2.3125,
          null,
          -0.8125,
          -1.3125,
          null,
          -0.8125,
          -0.3125,
          null,
          2.1875,
          1.6875,
          null,
          2.1875,
          2.6875,
          null,
          -4.8125,
          -4.3125,
          null,
          -4.8125,
          -5.3125,
          null,
          4.1875,
          3.6875,
          null,
          4.1875,
          4.6875,
          null,
          -6.8125,
          -6.3125,
          null,
          -6.8125,
          -7.3125,
          null,
          0,
          3.3125,
          null,
          0,
          -3.3125,
          null,
          -3.3125,
          -1.3125,
          null,
          -3.3125,
          -5.3125,
          null,
          3.3125,
          1.9375,
          null,
          3.3125,
          4.6875,
          null,
          -5.3125,
          -6.3125,
          null,
          -5.3125,
          -4.3125,
          null,
          1.9375,
          3.1875,
          null,
          1.9375,
          0.6875,
          null,
          -1.3125,
          -0.8125,
          null,
          -1.3125,
          -1.8125,
          null,
          4.6875,
          4.1875,
          null,
          4.6875,
          5.1875,
          null,
          3.1875,
          4.1875,
          null,
          3.1875,
          2.1875,
          null,
          -6.3125,
          -5.8125,
          null,
          -6.3125,
          -6.8125,
          null,
          -4.3125,
          -4.8125,
          null,
          -4.3125,
          -3.8125,
          null,
          -1.8125,
          -0.8125,
          null,
          -1.8125,
          -2.8125,
          null
         ],
         "y": [
          3,
          4,
          null,
          3,
          4,
          null,
          4,
          5,
          null,
          4,
          5,
          null,
          4,
          5,
          null,
          4,
          5,
          null,
          4,
          5,
          null,
          4,
          5,
          null,
          4,
          5,
          null,
          4,
          5,
          null,
          4,
          5,
          null,
          4,
          5,
          null,
          4,
          5,
          null,
          4,
          5,
          null,
          0,
          1,
          null,
          0,
          1,
          null,
          1,
          2,
          null,
          1,
          2,
          null,
          1,
          2,
          null,
          1,
          2,
          null,
          2,
          3,
          null,
          2,
          3,
          null,
          2,
          3,
          null,
          2,
          3,
          null,
          2,
          3,
          null,
          2,
          3,
          null,
          2,
          3,
          null,
          2,
          3,
          null,
          3,
          4,
          null,
          3,
          4,
          null,
          3,
          4,
          null,
          3,
          4,
          null,
          3,
          4,
          null,
          3,
          4,
          null,
          3,
          4,
          null,
          3,
          4,
          null
         ]
        },
        {
         "hoverinfo": "text",
         "hovertemplate": "%{text}",
         "mode": "markers",
         "name": "",
         "text": [
          "cycle_ID: 9230<br>level: 3<br>division_time: 7<br>cell_cycle_completeness: True<br>",
          "cycle_ID: 9356<br>level: 4<br>division_time: 3<br>cell_cycle_completeness: True<br>",
          "cycle_ID: 9438<br>level: 4<br>division_time: 4<br>cell_cycle_completeness: True<br>",
          "cycle_ID: 9464<br>level: 4<br>division_time: 6<br>cell_cycle_completeness: True<br>",
          "cycle_ID: 9483<br>level: 4<br>division_time: 4<br>cell_cycle_completeness: True<br>",
          "cycle_ID: 9492<br>level: 4<br>division_time: 6<br>cell_cycle_completeness: True<br>",
          "cycle_ID: 9498<br>level: 4<br>division_time: 4<br>cell_cycle_completeness: True<br>",
          "cycle_ID: 8993<br>level: 0<br>division_time: 1<br>cell_cycle_completeness: False<br>",
          "cycle_ID: 9019<br>level: 1<br>division_time: 6<br>cell_cycle_completeness: True<br>",
          "cycle_ID: 9020<br>level: 1<br>division_time: 6<br>cell_cycle_completeness: True<br>",
          "cycle_ID: 9051<br>level: 2<br>division_time: 5<br>cell_cycle_completeness: True<br>",
          "cycle_ID: 9052<br>level: 2<br>division_time: 5<br>cell_cycle_completeness: True<br>",
          "cycle_ID: 9106<br>level: 2<br>division_time: 6<br>cell_cycle_completeness: True<br>",
          "cycle_ID: 9108<br>level: 2<br>division_time: 6<br>cell_cycle_completeness: True<br>",
          "cycle_ID: 9156<br>level: 3<br>division_time: 4<br>cell_cycle_completeness: True<br>",
          "cycle_ID: 9194<br>level: 3<br>division_time: 6<br>cell_cycle_completeness: True<br>",
          "cycle_ID: 9195<br>level: 3<br>division_time: 6<br>cell_cycle_completeness: True<br>",
          "cycle_ID: 9206<br>level: 3<br>division_time: 5<br>cell_cycle_completeness: True<br>",
          "cycle_ID: 9375<br>level: 5<br>division_time: 1<br>cell_cycle_completeness: False<br>",
          "cycle_ID: 9382<br>level: 3<br>division_time: 10<br>cell_cycle_completeness: False<br>",
          "cycle_ID: 9384<br>level: 3<br>division_time: 10<br>cell_cycle_completeness: False<br>",
          "cycle_ID: 9389<br>level: 5<br>division_time: 1<br>cell_cycle_completeness: False<br>",
          "cycle_ID: 9390<br>level: 4<br>division_time: 4<br>cell_cycle_completeness: False<br>",
          "cycle_ID: 9395<br>level: 3<br>division_time: 10<br>cell_cycle_completeness: False<br>",
          "cycle_ID: 9398<br>level: 5<br>division_time: 1<br>cell_cycle_completeness: False<br>",
          "cycle_ID: 9402<br>level: 5<br>division_time: 1<br>cell_cycle_completeness: False<br>",
          "cycle_ID: 9416<br>level: 5<br>division_time: 1<br>cell_cycle_completeness: False<br>",
          "cycle_ID: 9440<br>level: 5<br>division_time: 2<br>cell_cycle_completeness: False<br>",
          "cycle_ID: 9444<br>level: 5<br>division_time: 2<br>cell_cycle_completeness: False<br>",
          "cycle_ID: 9446<br>level: 4<br>division_time: 4<br>cell_cycle_completeness: False<br>",
          "cycle_ID: 9448<br>level: 5<br>division_time: 1<br>cell_cycle_completeness: False<br>",
          "cycle_ID: 9449<br>level: 5<br>division_time: 1<br>cell_cycle_completeness: False<br>",
          "cycle_ID: 9463<br>level: 4<br>division_time: 5<br>cell_cycle_completeness: False<br>",
          "cycle_ID: 9465<br>level: 5<br>division_time: 1<br>cell_cycle_completeness: False<br>",
          "cycle_ID: 9470<br>level: 4<br>division_time: 5<br>cell_cycle_completeness: False<br>",
          "cycle_ID: 9476<br>level: 5<br>division_time: 1<br>cell_cycle_completeness: False<br>",
          "cycle_ID: 9480<br>level: 5<br>division_time: 1<br>cell_cycle_completeness: False<br>"
         ],
         "type": "scatter",
         "x": [
          0.6875,
          -2.8125,
          -0.8125,
          2.1875,
          -4.8125,
          4.1875,
          -6.8125,
          0,
          -3.3125,
          3.3125,
          -5.3125,
          1.9375,
          -1.3125,
          4.6875,
          3.1875,
          -6.3125,
          -4.3125,
          -1.8125,
          1.6875,
          -0.8125,
          4.1875,
          -1.3125,
          0.1875,
          5.1875,
          2.6875,
          -5.3125,
          -7.3125,
          -3.3125,
          -2.3125,
          1.1875,
          -6.3125,
          -0.3125,
          -5.8125,
          -4.3125,
          -3.8125,
          3.6875,
          4.6875
         ],
         "y": [
          3,
          4,
          4,
          4,
          4,
          4,
          4,
          0,
          1,
          1,
          2,
          2,
          2,
          2,
          3,
          3,
          3,
          3,
          5,
          3,
          3,
          5,
          4,
          3,
          5,
          5,
          5,
          5,
          5,
          4,
          5,
          5,
          4,
          5,
          4,
          5,
          5
         ]
        }
       ],
       "layout": {
        "hovermode": "closest",
        "showlegend": true,
        "template": {
         "data": {
          "bar": [
           {
            "error_x": {
             "color": "#2a3f5f"
            },
            "error_y": {
             "color": "#2a3f5f"
            },
            "marker": {
             "line": {
              "color": "#E5ECF6",
              "width": 0.5
             },
             "pattern": {
              "fillmode": "overlay",
              "size": 10,
              "solidity": 0.2
             }
            },
            "type": "bar"
           }
          ],
          "barpolar": [
           {
            "marker": {
             "line": {
              "color": "#E5ECF6",
              "width": 0.5
             },
             "pattern": {
              "fillmode": "overlay",
              "size": 10,
              "solidity": 0.2
             }
            },
            "type": "barpolar"
           }
          ],
          "carpet": [
           {
            "aaxis": {
             "endlinecolor": "#2a3f5f",
             "gridcolor": "white",
             "linecolor": "white",
             "minorgridcolor": "white",
             "startlinecolor": "#2a3f5f"
            },
            "baxis": {
             "endlinecolor": "#2a3f5f",
             "gridcolor": "white",
             "linecolor": "white",
             "minorgridcolor": "white",
             "startlinecolor": "#2a3f5f"
            },
            "type": "carpet"
           }
          ],
          "choropleth": [
           {
            "colorbar": {
             "outlinewidth": 0,
             "ticks": ""
            },
            "type": "choropleth"
           }
          ],
          "contour": [
           {
            "colorbar": {
             "outlinewidth": 0,
             "ticks": ""
            },
            "colorscale": [
             [
              0,
              "#0d0887"
             ],
             [
              0.1111111111111111,
              "#46039f"
             ],
             [
              0.2222222222222222,
              "#7201a8"
             ],
             [
              0.3333333333333333,
              "#9c179e"
             ],
             [
              0.4444444444444444,
              "#bd3786"
             ],
             [
              0.5555555555555556,
              "#d8576b"
             ],
             [
              0.6666666666666666,
              "#ed7953"
             ],
             [
              0.7777777777777778,
              "#fb9f3a"
             ],
             [
              0.8888888888888888,
              "#fdca26"
             ],
             [
              1,
              "#f0f921"
             ]
            ],
            "type": "contour"
           }
          ],
          "contourcarpet": [
           {
            "colorbar": {
             "outlinewidth": 0,
             "ticks": ""
            },
            "type": "contourcarpet"
           }
          ],
          "heatmap": [
           {
            "colorbar": {
             "outlinewidth": 0,
             "ticks": ""
            },
            "colorscale": [
             [
              0,
              "#0d0887"
             ],
             [
              0.1111111111111111,
              "#46039f"
             ],
             [
              0.2222222222222222,
              "#7201a8"
             ],
             [
              0.3333333333333333,
              "#9c179e"
             ],
             [
              0.4444444444444444,
              "#bd3786"
             ],
             [
              0.5555555555555556,
              "#d8576b"
             ],
             [
              0.6666666666666666,
              "#ed7953"
             ],
             [
              0.7777777777777778,
              "#fb9f3a"
             ],
             [
              0.8888888888888888,
              "#fdca26"
             ],
             [
              1,
              "#f0f921"
             ]
            ],
            "type": "heatmap"
           }
          ],
          "heatmapgl": [
           {
            "colorbar": {
             "outlinewidth": 0,
             "ticks": ""
            },
            "colorscale": [
             [
              0,
              "#0d0887"
             ],
             [
              0.1111111111111111,
              "#46039f"
             ],
             [
              0.2222222222222222,
              "#7201a8"
             ],
             [
              0.3333333333333333,
              "#9c179e"
             ],
             [
              0.4444444444444444,
              "#bd3786"
             ],
             [
              0.5555555555555556,
              "#d8576b"
             ],
             [
              0.6666666666666666,
              "#ed7953"
             ],
             [
              0.7777777777777778,
              "#fb9f3a"
             ],
             [
              0.8888888888888888,
              "#fdca26"
             ],
             [
              1,
              "#f0f921"
             ]
            ],
            "type": "heatmapgl"
           }
          ],
          "histogram": [
           {
            "marker": {
             "pattern": {
              "fillmode": "overlay",
              "size": 10,
              "solidity": 0.2
             }
            },
            "type": "histogram"
           }
          ],
          "histogram2d": [
           {
            "colorbar": {
             "outlinewidth": 0,
             "ticks": ""
            },
            "colorscale": [
             [
              0,
              "#0d0887"
             ],
             [
              0.1111111111111111,
              "#46039f"
             ],
             [
              0.2222222222222222,
              "#7201a8"
             ],
             [
              0.3333333333333333,
              "#9c179e"
             ],
             [
              0.4444444444444444,
              "#bd3786"
             ],
             [
              0.5555555555555556,
              "#d8576b"
             ],
             [
              0.6666666666666666,
              "#ed7953"
             ],
             [
              0.7777777777777778,
              "#fb9f3a"
             ],
             [
              0.8888888888888888,
              "#fdca26"
             ],
             [
              1,
              "#f0f921"
             ]
            ],
            "type": "histogram2d"
           }
          ],
          "histogram2dcontour": [
           {
            "colorbar": {
             "outlinewidth": 0,
             "ticks": ""
            },
            "colorscale": [
             [
              0,
              "#0d0887"
             ],
             [
              0.1111111111111111,
              "#46039f"
             ],
             [
              0.2222222222222222,
              "#7201a8"
             ],
             [
              0.3333333333333333,
              "#9c179e"
             ],
             [
              0.4444444444444444,
              "#bd3786"
             ],
             [
              0.5555555555555556,
              "#d8576b"
             ],
             [
              0.6666666666666666,
              "#ed7953"
             ],
             [
              0.7777777777777778,
              "#fb9f3a"
             ],
             [
              0.8888888888888888,
              "#fdca26"
             ],
             [
              1,
              "#f0f921"
             ]
            ],
            "type": "histogram2dcontour"
           }
          ],
          "mesh3d": [
           {
            "colorbar": {
             "outlinewidth": 0,
             "ticks": ""
            },
            "type": "mesh3d"
           }
          ],
          "parcoords": [
           {
            "line": {
             "colorbar": {
              "outlinewidth": 0,
              "ticks": ""
             }
            },
            "type": "parcoords"
           }
          ],
          "pie": [
           {
            "automargin": true,
            "type": "pie"
           }
          ],
          "scatter": [
           {
            "fillpattern": {
             "fillmode": "overlay",
             "size": 10,
             "solidity": 0.2
            },
            "type": "scatter"
           }
          ],
          "scatter3d": [
           {
            "line": {
             "colorbar": {
              "outlinewidth": 0,
              "ticks": ""
             }
            },
            "marker": {
             "colorbar": {
              "outlinewidth": 0,
              "ticks": ""
             }
            },
            "type": "scatter3d"
           }
          ],
          "scattercarpet": [
           {
            "marker": {
             "colorbar": {
              "outlinewidth": 0,
              "ticks": ""
             }
            },
            "type": "scattercarpet"
           }
          ],
          "scattergeo": [
           {
            "marker": {
             "colorbar": {
              "outlinewidth": 0,
              "ticks": ""
             }
            },
            "type": "scattergeo"
           }
          ],
          "scattergl": [
           {
            "marker": {
             "colorbar": {
              "outlinewidth": 0,
              "ticks": ""
             }
            },
            "type": "scattergl"
           }
          ],
          "scattermapbox": [
           {
            "marker": {
             "colorbar": {
              "outlinewidth": 0,
              "ticks": ""
             }
            },
            "type": "scattermapbox"
           }
          ],
          "scatterpolar": [
           {
            "marker": {
             "colorbar": {
              "outlinewidth": 0,
              "ticks": ""
             }
            },
            "type": "scatterpolar"
           }
          ],
          "scatterpolargl": [
           {
            "marker": {
             "colorbar": {
              "outlinewidth": 0,
              "ticks": ""
             }
            },
            "type": "scatterpolargl"
           }
          ],
          "scatterternary": [
           {
            "marker": {
             "colorbar": {
              "outlinewidth": 0,
              "ticks": ""
             }
            },
            "type": "scatterternary"
           }
          ],
          "surface": [
           {
            "colorbar": {
             "outlinewidth": 0,
             "ticks": ""
            },
            "colorscale": [
             [
              0,
              "#0d0887"
             ],
             [
              0.1111111111111111,
              "#46039f"
             ],
             [
              0.2222222222222222,
              "#7201a8"
             ],
             [
              0.3333333333333333,
              "#9c179e"
             ],
             [
              0.4444444444444444,
              "#bd3786"
             ],
             [
              0.5555555555555556,
              "#d8576b"
             ],
             [
              0.6666666666666666,
              "#ed7953"
             ],
             [
              0.7777777777777778,
              "#fb9f3a"
             ],
             [
              0.8888888888888888,
              "#fdca26"
             ],
             [
              1,
              "#f0f921"
             ]
            ],
            "type": "surface"
           }
          ],
          "table": [
           {
            "cells": {
             "fill": {
              "color": "#EBF0F8"
             },
             "line": {
              "color": "white"
             }
            },
            "header": {
             "fill": {
              "color": "#C8D4E3"
             },
             "line": {
              "color": "white"
             }
            },
            "type": "table"
           }
          ]
         },
         "layout": {
          "annotationdefaults": {
           "arrowcolor": "#2a3f5f",
           "arrowhead": 0,
           "arrowwidth": 1
          },
          "autotypenumbers": "strict",
          "coloraxis": {
           "colorbar": {
            "outlinewidth": 0,
            "ticks": ""
           }
          },
          "colorscale": {
           "diverging": [
            [
             0,
             "#8e0152"
            ],
            [
             0.1,
             "#c51b7d"
            ],
            [
             0.2,
             "#de77ae"
            ],
            [
             0.3,
             "#f1b6da"
            ],
            [
             0.4,
             "#fde0ef"
            ],
            [
             0.5,
             "#f7f7f7"
            ],
            [
             0.6,
             "#e6f5d0"
            ],
            [
             0.7,
             "#b8e186"
            ],
            [
             0.8,
             "#7fbc41"
            ],
            [
             0.9,
             "#4d9221"
            ],
            [
             1,
             "#276419"
            ]
           ],
           "sequential": [
            [
             0,
             "#0d0887"
            ],
            [
             0.1111111111111111,
             "#46039f"
            ],
            [
             0.2222222222222222,
             "#7201a8"
            ],
            [
             0.3333333333333333,
             "#9c179e"
            ],
            [
             0.4444444444444444,
             "#bd3786"
            ],
            [
             0.5555555555555556,
             "#d8576b"
            ],
            [
             0.6666666666666666,
             "#ed7953"
            ],
            [
             0.7777777777777778,
             "#fb9f3a"
            ],
            [
             0.8888888888888888,
             "#fdca26"
            ],
            [
             1,
             "#f0f921"
            ]
           ],
           "sequentialminus": [
            [
             0,
             "#0d0887"
            ],
            [
             0.1111111111111111,
             "#46039f"
            ],
            [
             0.2222222222222222,
             "#7201a8"
            ],
            [
             0.3333333333333333,
             "#9c179e"
            ],
            [
             0.4444444444444444,
             "#bd3786"
            ],
            [
             0.5555555555555556,
             "#d8576b"
            ],
            [
             0.6666666666666666,
             "#ed7953"
            ],
            [
             0.7777777777777778,
             "#fb9f3a"
            ],
            [
             0.8888888888888888,
             "#fdca26"
            ],
            [
             1,
             "#f0f921"
            ]
           ]
          },
          "colorway": [
           "#636efa",
           "#EF553B",
           "#00cc96",
           "#ab63fa",
           "#FFA15A",
           "#19d3f3",
           "#FF6692",
           "#B6E880",
           "#FF97FF",
           "#FECB52"
          ],
          "font": {
           "color": "#2a3f5f"
          },
          "geo": {
           "bgcolor": "white",
           "lakecolor": "white",
           "landcolor": "#E5ECF6",
           "showlakes": true,
           "showland": true,
           "subunitcolor": "white"
          },
          "hoverlabel": {
           "align": "left"
          },
          "hovermode": "closest",
          "mapbox": {
           "style": "light"
          },
          "paper_bgcolor": "white",
          "plot_bgcolor": "#E5ECF6",
          "polar": {
           "angularaxis": {
            "gridcolor": "white",
            "linecolor": "white",
            "ticks": ""
           },
           "bgcolor": "#E5ECF6",
           "radialaxis": {
            "gridcolor": "white",
            "linecolor": "white",
            "ticks": ""
           }
          },
          "scene": {
           "xaxis": {
            "backgroundcolor": "#E5ECF6",
            "gridcolor": "white",
            "gridwidth": 2,
            "linecolor": "white",
            "showbackground": true,
            "ticks": "",
            "zerolinecolor": "white"
           },
           "yaxis": {
            "backgroundcolor": "#E5ECF6",
            "gridcolor": "white",
            "gridwidth": 2,
            "linecolor": "white",
            "showbackground": true,
            "ticks": "",
            "zerolinecolor": "white"
           },
           "zaxis": {
            "backgroundcolor": "#E5ECF6",
            "gridcolor": "white",
            "gridwidth": 2,
            "linecolor": "white",
            "showbackground": true,
            "ticks": "",
            "zerolinecolor": "white"
           }
          },
          "shapedefaults": {
           "line": {
            "color": "#2a3f5f"
           }
          },
          "ternary": {
           "aaxis": {
            "gridcolor": "white",
            "linecolor": "white",
            "ticks": ""
           },
           "baxis": {
            "gridcolor": "white",
            "linecolor": "white",
            "ticks": ""
           },
           "bgcolor": "#E5ECF6",
           "caxis": {
            "gridcolor": "white",
            "linecolor": "white",
            "ticks": ""
           }
          },
          "title": {
           "x": 0.05
          },
          "xaxis": {
           "automargin": true,
           "gridcolor": "white",
           "linecolor": "white",
           "ticks": "",
           "title": {
            "standoff": 15
           },
           "zerolinecolor": "white",
           "zerolinewidth": 2
          },
          "yaxis": {
           "automargin": true,
           "gridcolor": "white",
           "linecolor": "white",
           "ticks": "",
           "title": {
            "standoff": 15
           },
           "zerolinecolor": "white",
           "zerolinewidth": 2
          }
         }
        },
        "title": {
         "text": "Cycle lineage of lineage ID 0"
        },
        "xaxis": {
         "showgrid": false,
         "showticklabels": false,
         "zeroline": false
        },
        "yaxis": {
         "autorange": "reversed",
         "showgrid": true,
         "title": {
          "text": "Cell cycle level"
         },
         "zeroline": true
        }
       }
      }
     },
     "metadata": {},
     "output_type": "display_data"
    }
   ],
   "source": [
    "cyclelin0 = model.data.cycle_data[0]\n",
    "cyclelin0.plot(\n",
    "    title=\"Cycle lineage of lineage ID 0\",\n",
    "    node_hover_features=[\n",
    "        \"cycle_ID\",\n",
    "        \"level\",\n",
    "        \"division_time\",\n",
    "        \"cell_cycle_completeness\",\n",
    "    ],\n",
    ")"
   ]
  },
  {
   "cell_type": "markdown",
   "metadata": {},
   "source": [
    "### Adding custom feature"
   ]
  },
  {
   "cell_type": "code",
   "execution_count": 6,
   "metadata": {},
   "outputs": [],
   "source": [
    "feat = pc.Feature(\n",
    "    name=\"node_ID_parity\",\n",
    "    description=\"Parity of the node ID\",\n",
    "    lineage_type=\"CellLineage\",\n",
    "    provenance=\"Pycellin\",\n",
    "    data_type=\"int\",\n",
    ")\n",
    "\n",
    "\n",
    "class ParityCalculator(pc.NodeLocalFeatureCalculator):\n",
    "\n",
    "    def compute(self, lineage, noi):\n",
    "        # `lineage` is unused here, but it is still a required argument.\n",
    "        if noi % 2 == 0:\n",
    "            return True\n",
    "        else:\n",
    "            return False"
   ]
  },
  {
   "cell_type": "code",
   "execution_count": 7,
   "metadata": {},
   "outputs": [
    {
     "name": "stdout",
     "output_type": "stream",
     "text": [
      "WARNING: One pixel skeleton on node 9350! The object is probably roundish and the radius is a better metric in that case. Setting the length and width to NaN.\n",
      "WARNING: One pixel skeleton on node 9350! The object is probably roundish and the radius is a better metric in that case. Setting the length and width to NaN.\n"
     ]
    }
   ],
   "source": [
    "model.add_custom_feature(feat, ParityCalculator)\n",
    "model.update()"
   ]
  },
  {
   "cell_type": "markdown",
   "metadata": {},
   "source": [
    "### Changing the lineages structures and updating the features"
   ]
  },
  {
   "cell_type": "code",
   "execution_count": 8,
   "metadata": {},
   "outputs": [],
   "source": [
    "new_cell_ID = model.add_cell(lineage_ID=0, frame=21)\n",
    "model.link_cells(source_cell_ID=9326, source_lineage_ID=0, target_cell_ID=new_cell_ID)"
   ]
  },
  {
   "cell_type": "code",
   "execution_count": 9,
   "metadata": {},
   "outputs": [
    {
     "data": {
      "text/plain": [
       "True"
      ]
     },
     "execution_count": 9,
     "metadata": {},
     "output_type": "execute_result"
    }
   ],
   "source": [
    "model.is_update_required()"
   ]
  },
  {
   "cell_type": "code",
   "execution_count": 10,
   "metadata": {},
   "outputs": [],
   "source": [
    "# We remove morphology related features since we don't have the data for them for the new cell.\n",
    "model.remove_feature(\"cell_length\", \"node\")\n",
    "model.remove_feature(\"cell_width_no_tips\", \"node\")\n",
    "model.update()"
   ]
  },
  {
   "cell_type": "code",
   "execution_count": 11,
   "metadata": {},
   "outputs": [
    {
     "data": {
      "application/vnd.plotly.v1+json": {
       "config": {
        "plotlyServerURL": "https://plot.ly"
       },
       "data": [
        {
         "mode": "lines",
         "name": "Edges",
         "type": "scatter",
         "x": [
          1,
          1,
          null,
          -11,
          -11,
          null,
          3,
          3,
          null,
          -7.5,
          -7.5,
          null,
          -6,
          -6,
          null,
          -9.5,
          -9.5,
          null,
          -4.5,
          -4.5,
          null,
          5,
          4.5,
          null,
          5,
          5.5,
          null,
          -2.5,
          -2.5,
          null,
          -0.5,
          -0.5,
          null,
          7.5,
          7.5,
          null,
          6.5,
          6.5,
          null,
          -3.5,
          -3.5,
          null,
          -6.75,
          -6.75,
          null,
          1,
          1,
          null,
          -0.5,
          -0.5,
          null,
          7.5,
          7.5,
          null,
          3,
          3,
          null,
          -10.25,
          -10.25,
          null,
          5,
          5,
          null,
          7.5,
          7.5,
          null,
          -0.5,
          -0.5,
          null,
          1,
          1,
          null,
          -2.5,
          -2.5,
          null,
          -7.5,
          -7.5,
          null,
          -11,
          -11,
          null,
          4.5,
          4.5,
          null,
          3,
          3,
          null,
          -6,
          -6,
          null,
          -9.5,
          -9.5,
          null,
          -4.5,
          -4.5,
          null,
          5.5,
          5.5,
          null,
          -0.5,
          -1,
          null,
          -0.5,
          0,
          null,
          6.5,
          6.5,
          null,
          6.5,
          6.5,
          null,
          1,
          1,
          null,
          -7.5,
          -7.5,
          null,
          -11,
          -11,
          null,
          4.5,
          4.5,
          null,
          7.5,
          7.5,
          null,
          -2.5,
          -2.5,
          null,
          3,
          3,
          null,
          -6,
          -6,
          null,
          -4.5,
          -5,
          null,
          -4.5,
          -4,
          null,
          -9.5,
          -9.5,
          null,
          5.5,
          5.5,
          null,
          -1,
          -1,
          null,
          6.5,
          6.5,
          null,
          -2.5,
          -3,
          null,
          -2.5,
          -2,
          null,
          4.5,
          4.5,
          null,
          7.5,
          7.5,
          null,
          3,
          2.5,
          null,
          3,
          3.5,
          null,
          -11,
          -11,
          null,
          -5,
          -5,
          null,
          -9.5,
          -9,
          null,
          -9.5,
          -10,
          null,
          5.5,
          5.5,
          null,
          -6,
          -6,
          null,
          1,
          0.5,
          null,
          1,
          1.5,
          null,
          -4,
          -4,
          null,
          5.25,
          5.25,
          null,
          -7.5,
          -7,
          null,
          -7.5,
          -8,
          null,
          5.25,
          5.25,
          null,
          -5.25,
          -5.25,
          null,
          0,
          5.25,
          null,
          0,
          -5.25,
          null,
          -5.25,
          -5.25,
          null,
          5.25,
          5.25,
          null,
          -5.25,
          -5.25,
          null,
          5.25,
          5.25,
          null,
          -5.25,
          -5.25,
          null,
          -5.25,
          -5.25,
          null,
          5.25,
          5.25,
          null,
          -5.25,
          -2,
          null,
          -5.25,
          -8.5,
          null,
          5.25,
          3.5,
          null,
          5.25,
          7,
          null,
          -8.5,
          -8.5,
          null,
          -2,
          -2,
          null,
          3.5,
          3.5,
          null,
          7,
          7,
          null,
          -8.5,
          -8.5,
          null,
          -2,
          -2,
          null,
          3.5,
          3.5,
          null,
          7,
          7,
          null,
          -8.5,
          -6.75,
          null,
          -8.5,
          -10.25,
          null,
          3.5,
          2,
          null,
          3.5,
          5,
          null,
          -2,
          -2,
          null,
          7,
          7,
          null,
          -8.5,
          -8.5,
          null,
          3.5,
          3.5,
          null,
          -2,
          -2,
          null,
          7,
          7,
          null,
          6.5,
          6.5,
          null,
          -3.5,
          -3.5,
          null,
          -6.75,
          -6.75,
          null,
          2,
          2,
          null,
          7.5,
          7.5,
          null,
          -10.25,
          -10.25,
          null,
          5,
          5,
          null,
          -0.5,
          -0.5,
          null,
          2,
          2,
          null,
          -10.25,
          -10.25,
          null,
          5,
          5,
          null,
          -6.75,
          -6.75,
          null,
          -2,
          -0.5,
          null,
          -2,
          -3.5,
          null,
          7,
          6.5,
          null,
          7,
          7.5,
          null,
          6.5,
          6.5,
          null,
          -3.5,
          -3.5,
          null,
          -6.75,
          -6.75,
          null,
          -8.5,
          -8.5,
          null,
          2,
          2,
          null,
          -2,
          -2,
          null,
          3.5,
          3.5,
          null,
          7,
          7,
          null,
          7.5,
          7.5,
          null,
          -10.25,
          -10.25,
          null,
          5,
          5,
          null,
          -0.5,
          -0.5,
          null,
          6.5,
          6.5,
          null,
          2,
          1,
          null,
          2,
          3,
          null,
          -0.5,
          -0.5,
          null,
          7.5,
          7.5,
          null,
          -10.25,
          -10.25,
          null,
          -3.5,
          -3.5,
          null,
          5,
          5,
          null,
          -6.75,
          -6.75,
          null,
          6.5,
          6.5,
          null,
          1,
          1,
          null,
          -0.5,
          -0.5,
          null,
          7.5,
          7.5,
          null,
          3,
          3,
          null,
          -6.75,
          -6,
          null,
          -6.75,
          -7.5,
          null,
          -10.25,
          -9.5,
          null,
          -10.25,
          -11,
          null,
          5,
          5,
          null,
          -3.5,
          -2.5,
          null,
          -3.5,
          -4.5,
          null,
          6.5,
          6.5,
          null
         ],
         "y": [
          18,
          19,
          null,
          18,
          19,
          null,
          18,
          19,
          null,
          18,
          19,
          null,
          18,
          19,
          null,
          18,
          19,
          null,
          18,
          19,
          null,
          18,
          19,
          null,
          18,
          19,
          null,
          18,
          19,
          null,
          18,
          19,
          null,
          18,
          19,
          null,
          16,
          17,
          null,
          16,
          17,
          null,
          16,
          17,
          null,
          16,
          17,
          null,
          16,
          17,
          null,
          16,
          17,
          null,
          16,
          17,
          null,
          16,
          17,
          null,
          16,
          17,
          null,
          19,
          20,
          null,
          19,
          20,
          null,
          19,
          20,
          null,
          19,
          20,
          null,
          19,
          20,
          null,
          19,
          20,
          null,
          19,
          20,
          null,
          19,
          20,
          null,
          19,
          20,
          null,
          19,
          20,
          null,
          19,
          20,
          null,
          19,
          20,
          null,
          20,
          21,
          null,
          20,
          21,
          null,
          19,
          20,
          null,
          20,
          21,
          null,
          20,
          21,
          null,
          20,
          21,
          null,
          20,
          21,
          null,
          20,
          21,
          null,
          20,
          21,
          null,
          20,
          21,
          null,
          20,
          21,
          null,
          20,
          21,
          null,
          20,
          21,
          null,
          20,
          21,
          null,
          20,
          21,
          null,
          20,
          21,
          null,
          21,
          22,
          null,
          21,
          22,
          null,
          21,
          22,
          null,
          21,
          22,
          null,
          21,
          22,
          null,
          21,
          22,
          null,
          21,
          22,
          null,
          21,
          22,
          null,
          21,
          22,
          null,
          21,
          22,
          null,
          21,
          22,
          null,
          21,
          22,
          null,
          21,
          22,
          null,
          21,
          22,
          null,
          21,
          22,
          null,
          21,
          22,
          null,
          21,
          22,
          null,
          2,
          3,
          null,
          21,
          22,
          null,
          21,
          22,
          null,
          3,
          4,
          null,
          2,
          3,
          null,
          0,
          1,
          null,
          0,
          1,
          null,
          3,
          4,
          null,
          4,
          5,
          null,
          4,
          5,
          null,
          5,
          6,
          null,
          5,
          6,
          null,
          1,
          2,
          null,
          1,
          2,
          null,
          6,
          7,
          null,
          6,
          7,
          null,
          6,
          7,
          null,
          6,
          7,
          null,
          9,
          10,
          null,
          9,
          10,
          null,
          9,
          10,
          null,
          9,
          10,
          null,
          8,
          9,
          null,
          8,
          9,
          null,
          8,
          9,
          null,
          8,
          9,
          null,
          11,
          12,
          null,
          11,
          12,
          null,
          11,
          12,
          null,
          11,
          12,
          null,
          11,
          12,
          null,
          11,
          12,
          null,
          10,
          11,
          null,
          10,
          11,
          null,
          10,
          11,
          null,
          10,
          11,
          null,
          13,
          14,
          null,
          13,
          14,
          null,
          13,
          14,
          null,
          13,
          14,
          null,
          13,
          14,
          null,
          13,
          14,
          null,
          13,
          14,
          null,
          13,
          14,
          null,
          12,
          13,
          null,
          12,
          13,
          null,
          12,
          13,
          null,
          12,
          13,
          null,
          12,
          13,
          null,
          12,
          13,
          null,
          12,
          13,
          null,
          12,
          13,
          null,
          14,
          15,
          null,
          14,
          15,
          null,
          14,
          15,
          null,
          7,
          8,
          null,
          14,
          15,
          null,
          7,
          8,
          null,
          7,
          8,
          null,
          7,
          8,
          null,
          14,
          15,
          null,
          14,
          15,
          null,
          14,
          15,
          null,
          14,
          15,
          null,
          15,
          16,
          null,
          15,
          16,
          null,
          15,
          16,
          null,
          15,
          16,
          null,
          15,
          16,
          null,
          15,
          16,
          null,
          15,
          16,
          null,
          15,
          16,
          null,
          15,
          16,
          null,
          17,
          18,
          null,
          17,
          18,
          null,
          17,
          18,
          null,
          17,
          18,
          null,
          17,
          18,
          null,
          17,
          18,
          null,
          17,
          18,
          null,
          17,
          18,
          null,
          17,
          18,
          null,
          17,
          18,
          null,
          17,
          18,
          null,
          17,
          18,
          null,
          18,
          19,
          null
         ]
        },
        {
         "hoverinfo": "text",
         "hovertemplate": "%{text}",
         "mode": "markers",
         "name": "lineage_ID: 0",
         "text": [
          "cell_ID: 9216<br>relative_age: 2<br>node_ID_parity: True<br>",
          "cell_ID: 9218<br>relative_age: 0<br>node_ID_parity: True<br>",
          "cell_ID: 9222<br>relative_age: 2<br>node_ID_parity: True<br>",
          "cell_ID: 9223<br>relative_age: 0<br>node_ID_parity: False<br>",
          "cell_ID: 9227<br>relative_age: 0<br>node_ID_parity: False<br>",
          "cell_ID: 9228<br>relative_age: 0<br>node_ID_parity: True<br>",
          "cell_ID: 9229<br>relative_age: 0<br>node_ID_parity: False<br>",
          "cell_ID: 9230<br>relative_age: 6<br>node_ID_parity: True<br>",
          "cell_ID: 9235<br>relative_age: 0<br>node_ID_parity: False<br>",
          "cell_ID: 9240<br>relative_age: 5<br>node_ID_parity: True<br>",
          "cell_ID: 9250<br>relative_age: 5<br>node_ID_parity: True<br>",
          "cell_ID: 9252<br>relative_age: 3<br>node_ID_parity: True<br>",
          "cell_ID: 9255<br>relative_age: 3<br>node_ID_parity: False<br>",
          "cell_ID: 9258<br>relative_age: 4<br>node_ID_parity: True<br>",
          "cell_ID: 9259<br>relative_age: 0<br>node_ID_parity: False<br>",
          "cell_ID: 9262<br>relative_age: 3<br>node_ID_parity: True<br>",
          "cell_ID: 9263<br>relative_age: 3<br>node_ID_parity: False<br>",
          "cell_ID: 9271<br>relative_age: 0<br>node_ID_parity: False<br>",
          "cell_ID: 9274<br>relative_age: 4<br>node_ID_parity: True<br>",
          "cell_ID: 9277<br>relative_age: 4<br>node_ID_parity: False<br>",
          "cell_ID: 9279<br>relative_age: 6<br>node_ID_parity: False<br>",
          "cell_ID: 9286<br>relative_age: 6<br>node_ID_parity: True<br>",
          "cell_ID: 9290<br>relative_age: 3<br>node_ID_parity: True<br>",
          "cell_ID: 9292<br>relative_age: 1<br>node_ID_parity: True<br>",
          "cell_ID: 9293<br>relative_age: 1<br>node_ID_parity: False<br>",
          "cell_ID: 9294<br>relative_age: 1<br>node_ID_parity: True<br>",
          "cell_ID: 9299<br>relative_age: 0<br>node_ID_parity: False<br>",
          "cell_ID: 9306<br>relative_age: 3<br>node_ID_parity: True<br>",
          "cell_ID: 9308<br>relative_age: 1<br>node_ID_parity: True<br>",
          "cell_ID: 9309<br>relative_age: 1<br>node_ID_parity: False<br>",
          "cell_ID: 9310<br>relative_age: 1<br>node_ID_parity: True<br>",
          "cell_ID: 9312<br>relative_age: 0<br>node_ID_parity: True<br>",
          "cell_ID: 9326<br>relative_age: 7<br>node_ID_parity: True<br>",
          "cell_ID: 9328<br>relative_age: 6<br>node_ID_parity: True<br>",
          "cell_ID: 9330<br>relative_age: 7<br>node_ID_parity: True<br>",
          "cell_ID: 9332<br>relative_age: 4<br>node_ID_parity: True<br>",
          "cell_ID: 9334<br>relative_age: 2<br>node_ID_parity: True<br>",
          "cell_ID: 9335<br>relative_age: 2<br>node_ID_parity: False<br>",
          "cell_ID: 9339<br>relative_age: 1<br>node_ID_parity: False<br>",
          "cell_ID: 9343<br>relative_age: 7<br>node_ID_parity: False<br>",
          "cell_ID: 9344<br>relative_age: 2<br>node_ID_parity: True<br>",
          "cell_ID: 9351<br>relative_age: 4<br>node_ID_parity: False<br>",
          "cell_ID: 9355<br>relative_age: 2<br>node_ID_parity: False<br>",
          "cell_ID: 9356<br>relative_age: 2<br>node_ID_parity: True<br>",
          "cell_ID: 9357<br>relative_age: 2<br>node_ID_parity: False<br>",
          "cell_ID: 9358<br>relative_age: 1<br>node_ID_parity: True<br>",
          "cell_ID: 9375<br>relative_age: 0<br>node_ID_parity: False<br>",
          "cell_ID: 9382<br>relative_age: 1<br>node_ID_parity: True<br>",
          "cell_ID: 9384<br>relative_age: 9<br>node_ID_parity: True<br>",
          "cell_ID: 9389<br>relative_age: 0<br>node_ID_parity: False<br>",
          "cell_ID: 9390<br>relative_age: 3<br>node_ID_parity: True<br>",
          "cell_ID: 9395<br>relative_age: 9<br>node_ID_parity: False<br>",
          "cell_ID: 9398<br>relative_age: 0<br>node_ID_parity: True<br>",
          "cell_ID: 9402<br>relative_age: 0<br>node_ID_parity: True<br>",
          "cell_ID: 9416<br>relative_age: 0<br>node_ID_parity: True<br>",
          "cell_ID: 9424<br>relative_age: 0<br>node_ID_parity: True<br>",
          "cell_ID: 9428<br>relative_age: 8<br>node_ID_parity: True<br>",
          "cell_ID: 9438<br>relative_age: 3<br>node_ID_parity: True<br>",
          "cell_ID: 9440<br>relative_age: 1<br>node_ID_parity: True<br>",
          "cell_ID: 9441<br>relative_age: 2<br>node_ID_parity: False<br>",
          "cell_ID: 9444<br>relative_age: 1<br>node_ID_parity: True<br>",
          "cell_ID: 9446<br>relative_age: 3<br>node_ID_parity: True<br>",
          "cell_ID: 9448<br>relative_age: 0<br>node_ID_parity: True<br>",
          "cell_ID: 9449<br>relative_age: 0<br>node_ID_parity: False<br>",
          "cell_ID: 9450<br>relative_age: 8<br>node_ID_parity: True<br>",
          "cell_ID: 9463<br>relative_age: 4<br>node_ID_parity: False<br>",
          "cell_ID: 9464<br>relative_age: 5<br>node_ID_parity: True<br>",
          "cell_ID: 9465<br>relative_age: 0<br>node_ID_parity: False<br>",
          "cell_ID: 9470<br>relative_age: 4<br>node_ID_parity: True<br>",
          "cell_ID: 9476<br>relative_age: 0<br>node_ID_parity: True<br>",
          "cell_ID: 9480<br>relative_age: 0<br>node_ID_parity: True<br>",
          "cell_ID: 9481<br>relative_age: 3<br>node_ID_parity: False<br>",
          "cell_ID: 9482<br>relative_age: 0<br>node_ID_parity: True<br>",
          "cell_ID: 9483<br>relative_age: 3<br>node_ID_parity: False<br>",
          "cell_ID: 9485<br>relative_age: 2<br>node_ID_parity: False<br>",
          "cell_ID: 9491<br>relative_age: 3<br>node_ID_parity: False<br>",
          "cell_ID: 9492<br>relative_age: 5<br>node_ID_parity: True<br>",
          "cell_ID: 9494<br>relative_age: 0<br>node_ID_parity: True<br>",
          "cell_ID: 8986<br>relative_age: 1<br>node_ID_parity: True<br>",
          "cell_ID: 9498<br>relative_age: 3<br>node_ID_parity: True<br>",
          "cell_ID: 8988<br>relative_age: 2<br>node_ID_parity: True<br>",
          "cell_ID: 8989<br>relative_age: 1<br>node_ID_parity: False<br>",
          "cell_ID: 8993<br>relative_age: 0<br>node_ID_parity: False<br>",
          "cell_ID: 8996<br>relative_age: 2<br>node_ID_parity: True<br>",
          "cell_ID: 8999<br>relative_age: 3<br>node_ID_parity: False<br>",
          "cell_ID: 9001<br>relative_age: 3<br>node_ID_parity: False<br>",
          "cell_ID: 9008<br>relative_age: 4<br>node_ID_parity: True<br>",
          "cell_ID: 9010<br>relative_age: 4<br>node_ID_parity: True<br>",
          "cell_ID: 9013<br>relative_age: 0<br>node_ID_parity: False<br>",
          "cell_ID: 9014<br>relative_age: 0<br>node_ID_parity: True<br>",
          "cell_ID: 9019<br>relative_age: 5<br>node_ID_parity: False<br>",
          "cell_ID: 9020<br>relative_age: 5<br>node_ID_parity: True<br>",
          "cell_ID: 9027<br>relative_age: 2<br>node_ID_parity: False<br>",
          "cell_ID: 9028<br>relative_age: 2<br>node_ID_parity: True<br>",
          "cell_ID: 9029<br>relative_age: 2<br>node_ID_parity: False<br>",
          "cell_ID: 9031<br>relative_age: 2<br>node_ID_parity: False<br>",
          "cell_ID: 9040<br>relative_age: 1<br>node_ID_parity: True<br>",
          "cell_ID: 9041<br>relative_age: 1<br>node_ID_parity: False<br>",
          "cell_ID: 9042<br>relative_age: 1<br>node_ID_parity: True<br>",
          "cell_ID: 9043<br>relative_age: 1<br>node_ID_parity: False<br>",
          "cell_ID: 9051<br>relative_age: 4<br>node_ID_parity: False<br>",
          "cell_ID: 9052<br>relative_age: 4<br>node_ID_parity: True<br>",
          "cell_ID: 9053<br>relative_age: 4<br>node_ID_parity: False<br>",
          "cell_ID: 9055<br>relative_age: 4<br>node_ID_parity: False<br>",
          "cell_ID: 9062<br>relative_age: 3<br>node_ID_parity: True<br>",
          "cell_ID: 9064<br>relative_age: 3<br>node_ID_parity: True<br>",
          "cell_ID: 9065<br>relative_age: 3<br>node_ID_parity: False<br>",
          "cell_ID: 9067<br>relative_age: 3<br>node_ID_parity: False<br>",
          "cell_ID: 9080<br>relative_age: 0<br>node_ID_parity: True<br>",
          "cell_ID: 9081<br>relative_age: 0<br>node_ID_parity: False<br>",
          "cell_ID: 9082<br>relative_age: 1<br>node_ID_parity: True<br>",
          "cell_ID: 9084<br>relative_age: 1<br>node_ID_parity: True<br>",
          "cell_ID: 9086<br>relative_age: 0<br>node_ID_parity: True<br>",
          "cell_ID: 9090<br>relative_age: 1<br>node_ID_parity: True<br>",
          "cell_ID: 9091<br>relative_age: 1<br>node_ID_parity: False<br>",
          "cell_ID: 9095<br>relative_age: 0<br>node_ID_parity: False<br>",
          "cell_ID: 9096<br>relative_age: 0<br>node_ID_parity: True<br>",
          "cell_ID: 9102<br>relative_age: 0<br>node_ID_parity: True<br>",
          "cell_ID: 9103<br>relative_age: 0<br>node_ID_parity: False<br>",
          "cell_ID: 9104<br>relative_age: 0<br>node_ID_parity: True<br>",
          "cell_ID: 9106<br>relative_age: 5<br>node_ID_parity: True<br>",
          "cell_ID: 9108<br>relative_age: 5<br>node_ID_parity: True<br>",
          "cell_ID: 9118<br>relative_age: 1<br>node_ID_parity: True<br>",
          "cell_ID: 9119<br>relative_age: 1<br>node_ID_parity: False<br>",
          "cell_ID: 9120<br>relative_age: 2<br>node_ID_parity: True<br>",
          "cell_ID: 9121<br>relative_age: 0<br>node_ID_parity: False<br>",
          "cell_ID: 9122<br>relative_age: 2<br>node_ID_parity: True<br>",
          "cell_ID: 9123<br>relative_age: 0<br>node_ID_parity: False<br>",
          "cell_ID: 9124<br>relative_age: 0<br>node_ID_parity: True<br>",
          "cell_ID: 9126<br>relative_age: 0<br>node_ID_parity: True<br>",
          "cell_ID: 9127<br>relative_age: 1<br>node_ID_parity: False<br>",
          "cell_ID: 9136<br>relative_age: 2<br>node_ID_parity: True<br>",
          "cell_ID: 9138<br>relative_age: 2<br>node_ID_parity: True<br>",
          "cell_ID: 9143<br>relative_age: 1<br>node_ID_parity: False<br>",
          "cell_ID: 9155<br>relative_age: 2<br>node_ID_parity: False<br>",
          "cell_ID: 9156<br>relative_age: 3<br>node_ID_parity: True<br>",
          "cell_ID: 9159<br>relative_age: 2<br>node_ID_parity: False<br>",
          "cell_ID: 9160<br>relative_age: 2<br>node_ID_parity: True<br>",
          "cell_ID: 9167<br>relative_age: 3<br>node_ID_parity: False<br>",
          "cell_ID: 9168<br>relative_age: 2<br>node_ID_parity: True<br>",
          "cell_ID: 9169<br>relative_age: 3<br>node_ID_parity: False<br>",
          "cell_ID: 9170<br>relative_age: 3<br>node_ID_parity: True<br>",
          "cell_ID: 9176<br>relative_age: 4<br>node_ID_parity: True<br>",
          "cell_ID: 9178<br>relative_age: 1<br>node_ID_parity: True<br>",
          "cell_ID: 9181<br>relative_age: 4<br>node_ID_parity: False<br>",
          "cell_ID: 9182<br>relative_age: 4<br>node_ID_parity: True<br>",
          "cell_ID: 9191<br>relative_age: 1<br>node_ID_parity: False<br>",
          "cell_ID: 9194<br>relative_age: 5<br>node_ID_parity: True<br>",
          "cell_ID: 9195<br>relative_age: 5<br>node_ID_parity: False<br>",
          "cell_ID: 9196<br>relative_age: 5<br>node_ID_parity: True<br>",
          "cell_ID: 9206<br>relative_age: 4<br>node_ID_parity: True<br>",
          "cell_ID: 9215<br>relative_age: 5<br>node_ID_parity: False<br>",
          "cell_ID: 9499<br>relative_age: 0<br>node_ID_parity: False<br>"
         ],
         "type": "scatter",
         "x": [
          1,
          -11,
          3,
          -7.5,
          -6,
          -9.5,
          -4.5,
          5,
          -2.5,
          -0.5,
          7.5,
          6.5,
          -3.5,
          -6.75,
          1,
          -0.5,
          7.5,
          3,
          -10.25,
          5,
          7.5,
          -0.5,
          1,
          -2.5,
          -7.5,
          -11,
          4.5,
          3,
          -6,
          -9.5,
          -4.5,
          5.5,
          -0.5,
          6.5,
          6.5,
          1,
          -7.5,
          -11,
          4.5,
          7.5,
          -2.5,
          3,
          -6,
          -4.5,
          -9.5,
          5.5,
          2.5,
          -1,
          6.5,
          -3,
          4.5,
          7.5,
          3.5,
          -10,
          -8,
          -1,
          6.5,
          -2.5,
          -5,
          4.5,
          -4,
          5.5,
          -7,
          -2,
          7.5,
          -6,
          3,
          -9,
          -11,
          0.5,
          1.5,
          -11,
          -5,
          -9.5,
          5.5,
          -6,
          1,
          -4,
          5.25,
          -7.5,
          5.25,
          -5.25,
          0,
          -5.25,
          5.25,
          -5.25,
          5.25,
          -5.25,
          -5.25,
          5.25,
          -5.25,
          5.25,
          -8.5,
          -2,
          3.5,
          7,
          -8.5,
          -2,
          3.5,
          7,
          -8.5,
          3.5,
          -2,
          7,
          -8.5,
          3.5,
          -2,
          7,
          6.5,
          -3.5,
          -6.75,
          2,
          7.5,
          -10.25,
          5,
          -0.5,
          2,
          -10.25,
          5,
          -6.75,
          -2,
          7,
          6.5,
          -3.5,
          -6.75,
          -8.5,
          2,
          -2,
          3.5,
          7,
          7.5,
          -10.25,
          5,
          -0.5,
          6.5,
          2,
          -0.5,
          7.5,
          -10.25,
          -3.5,
          5,
          -6.75,
          6.5,
          1,
          -0.5,
          7.5,
          3,
          -6.75,
          -10.25,
          5,
          -3.5,
          6.5,
          0
         ],
         "y": [
          18,
          18,
          18,
          18,
          18,
          18,
          18,
          18,
          18,
          18,
          18,
          16,
          16,
          16,
          16,
          16,
          16,
          16,
          16,
          16,
          19,
          19,
          19,
          19,
          19,
          19,
          19,
          19,
          19,
          19,
          19,
          19,
          20,
          19,
          20,
          20,
          20,
          20,
          20,
          20,
          20,
          20,
          20,
          20,
          20,
          20,
          22,
          22,
          22,
          22,
          22,
          22,
          22,
          22,
          22,
          21,
          21,
          21,
          22,
          21,
          22,
          22,
          22,
          22,
          21,
          22,
          21,
          22,
          22,
          22,
          22,
          21,
          21,
          21,
          21,
          21,
          21,
          21,
          2,
          21,
          3,
          2,
          0,
          3,
          4,
          4,
          5,
          5,
          1,
          1,
          6,
          6,
          9,
          9,
          9,
          9,
          8,
          8,
          8,
          8,
          11,
          11,
          11,
          11,
          10,
          10,
          10,
          10,
          13,
          13,
          13,
          13,
          13,
          13,
          13,
          13,
          12,
          12,
          12,
          12,
          12,
          12,
          14,
          14,
          14,
          7,
          14,
          7,
          7,
          7,
          14,
          14,
          14,
          14,
          15,
          15,
          15,
          15,
          15,
          15,
          15,
          15,
          17,
          17,
          17,
          17,
          17,
          17,
          17,
          17,
          17,
          18,
          21
         ]
        }
       ],
       "layout": {
        "hovermode": "closest",
        "showlegend": true,
        "template": {
         "data": {
          "bar": [
           {
            "error_x": {
             "color": "#2a3f5f"
            },
            "error_y": {
             "color": "#2a3f5f"
            },
            "marker": {
             "line": {
              "color": "#E5ECF6",
              "width": 0.5
             },
             "pattern": {
              "fillmode": "overlay",
              "size": 10,
              "solidity": 0.2
             }
            },
            "type": "bar"
           }
          ],
          "barpolar": [
           {
            "marker": {
             "line": {
              "color": "#E5ECF6",
              "width": 0.5
             },
             "pattern": {
              "fillmode": "overlay",
              "size": 10,
              "solidity": 0.2
             }
            },
            "type": "barpolar"
           }
          ],
          "carpet": [
           {
            "aaxis": {
             "endlinecolor": "#2a3f5f",
             "gridcolor": "white",
             "linecolor": "white",
             "minorgridcolor": "white",
             "startlinecolor": "#2a3f5f"
            },
            "baxis": {
             "endlinecolor": "#2a3f5f",
             "gridcolor": "white",
             "linecolor": "white",
             "minorgridcolor": "white",
             "startlinecolor": "#2a3f5f"
            },
            "type": "carpet"
           }
          ],
          "choropleth": [
           {
            "colorbar": {
             "outlinewidth": 0,
             "ticks": ""
            },
            "type": "choropleth"
           }
          ],
          "contour": [
           {
            "colorbar": {
             "outlinewidth": 0,
             "ticks": ""
            },
            "colorscale": [
             [
              0,
              "#0d0887"
             ],
             [
              0.1111111111111111,
              "#46039f"
             ],
             [
              0.2222222222222222,
              "#7201a8"
             ],
             [
              0.3333333333333333,
              "#9c179e"
             ],
             [
              0.4444444444444444,
              "#bd3786"
             ],
             [
              0.5555555555555556,
              "#d8576b"
             ],
             [
              0.6666666666666666,
              "#ed7953"
             ],
             [
              0.7777777777777778,
              "#fb9f3a"
             ],
             [
              0.8888888888888888,
              "#fdca26"
             ],
             [
              1,
              "#f0f921"
             ]
            ],
            "type": "contour"
           }
          ],
          "contourcarpet": [
           {
            "colorbar": {
             "outlinewidth": 0,
             "ticks": ""
            },
            "type": "contourcarpet"
           }
          ],
          "heatmap": [
           {
            "colorbar": {
             "outlinewidth": 0,
             "ticks": ""
            },
            "colorscale": [
             [
              0,
              "#0d0887"
             ],
             [
              0.1111111111111111,
              "#46039f"
             ],
             [
              0.2222222222222222,
              "#7201a8"
             ],
             [
              0.3333333333333333,
              "#9c179e"
             ],
             [
              0.4444444444444444,
              "#bd3786"
             ],
             [
              0.5555555555555556,
              "#d8576b"
             ],
             [
              0.6666666666666666,
              "#ed7953"
             ],
             [
              0.7777777777777778,
              "#fb9f3a"
             ],
             [
              0.8888888888888888,
              "#fdca26"
             ],
             [
              1,
              "#f0f921"
             ]
            ],
            "type": "heatmap"
           }
          ],
          "heatmapgl": [
           {
            "colorbar": {
             "outlinewidth": 0,
             "ticks": ""
            },
            "colorscale": [
             [
              0,
              "#0d0887"
             ],
             [
              0.1111111111111111,
              "#46039f"
             ],
             [
              0.2222222222222222,
              "#7201a8"
             ],
             [
              0.3333333333333333,
              "#9c179e"
             ],
             [
              0.4444444444444444,
              "#bd3786"
             ],
             [
              0.5555555555555556,
              "#d8576b"
             ],
             [
              0.6666666666666666,
              "#ed7953"
             ],
             [
              0.7777777777777778,
              "#fb9f3a"
             ],
             [
              0.8888888888888888,
              "#fdca26"
             ],
             [
              1,
              "#f0f921"
             ]
            ],
            "type": "heatmapgl"
           }
          ],
          "histogram": [
           {
            "marker": {
             "pattern": {
              "fillmode": "overlay",
              "size": 10,
              "solidity": 0.2
             }
            },
            "type": "histogram"
           }
          ],
          "histogram2d": [
           {
            "colorbar": {
             "outlinewidth": 0,
             "ticks": ""
            },
            "colorscale": [
             [
              0,
              "#0d0887"
             ],
             [
              0.1111111111111111,
              "#46039f"
             ],
             [
              0.2222222222222222,
              "#7201a8"
             ],
             [
              0.3333333333333333,
              "#9c179e"
             ],
             [
              0.4444444444444444,
              "#bd3786"
             ],
             [
              0.5555555555555556,
              "#d8576b"
             ],
             [
              0.6666666666666666,
              "#ed7953"
             ],
             [
              0.7777777777777778,
              "#fb9f3a"
             ],
             [
              0.8888888888888888,
              "#fdca26"
             ],
             [
              1,
              "#f0f921"
             ]
            ],
            "type": "histogram2d"
           }
          ],
          "histogram2dcontour": [
           {
            "colorbar": {
             "outlinewidth": 0,
             "ticks": ""
            },
            "colorscale": [
             [
              0,
              "#0d0887"
             ],
             [
              0.1111111111111111,
              "#46039f"
             ],
             [
              0.2222222222222222,
              "#7201a8"
             ],
             [
              0.3333333333333333,
              "#9c179e"
             ],
             [
              0.4444444444444444,
              "#bd3786"
             ],
             [
              0.5555555555555556,
              "#d8576b"
             ],
             [
              0.6666666666666666,
              "#ed7953"
             ],
             [
              0.7777777777777778,
              "#fb9f3a"
             ],
             [
              0.8888888888888888,
              "#fdca26"
             ],
             [
              1,
              "#f0f921"
             ]
            ],
            "type": "histogram2dcontour"
           }
          ],
          "mesh3d": [
           {
            "colorbar": {
             "outlinewidth": 0,
             "ticks": ""
            },
            "type": "mesh3d"
           }
          ],
          "parcoords": [
           {
            "line": {
             "colorbar": {
              "outlinewidth": 0,
              "ticks": ""
             }
            },
            "type": "parcoords"
           }
          ],
          "pie": [
           {
            "automargin": true,
            "type": "pie"
           }
          ],
          "scatter": [
           {
            "fillpattern": {
             "fillmode": "overlay",
             "size": 10,
             "solidity": 0.2
            },
            "type": "scatter"
           }
          ],
          "scatter3d": [
           {
            "line": {
             "colorbar": {
              "outlinewidth": 0,
              "ticks": ""
             }
            },
            "marker": {
             "colorbar": {
              "outlinewidth": 0,
              "ticks": ""
             }
            },
            "type": "scatter3d"
           }
          ],
          "scattercarpet": [
           {
            "marker": {
             "colorbar": {
              "outlinewidth": 0,
              "ticks": ""
             }
            },
            "type": "scattercarpet"
           }
          ],
          "scattergeo": [
           {
            "marker": {
             "colorbar": {
              "outlinewidth": 0,
              "ticks": ""
             }
            },
            "type": "scattergeo"
           }
          ],
          "scattergl": [
           {
            "marker": {
             "colorbar": {
              "outlinewidth": 0,
              "ticks": ""
             }
            },
            "type": "scattergl"
           }
          ],
          "scattermapbox": [
           {
            "marker": {
             "colorbar": {
              "outlinewidth": 0,
              "ticks": ""
             }
            },
            "type": "scattermapbox"
           }
          ],
          "scatterpolar": [
           {
            "marker": {
             "colorbar": {
              "outlinewidth": 0,
              "ticks": ""
             }
            },
            "type": "scatterpolar"
           }
          ],
          "scatterpolargl": [
           {
            "marker": {
             "colorbar": {
              "outlinewidth": 0,
              "ticks": ""
             }
            },
            "type": "scatterpolargl"
           }
          ],
          "scatterternary": [
           {
            "marker": {
             "colorbar": {
              "outlinewidth": 0,
              "ticks": ""
             }
            },
            "type": "scatterternary"
           }
          ],
          "surface": [
           {
            "colorbar": {
             "outlinewidth": 0,
             "ticks": ""
            },
            "colorscale": [
             [
              0,
              "#0d0887"
             ],
             [
              0.1111111111111111,
              "#46039f"
             ],
             [
              0.2222222222222222,
              "#7201a8"
             ],
             [
              0.3333333333333333,
              "#9c179e"
             ],
             [
              0.4444444444444444,
              "#bd3786"
             ],
             [
              0.5555555555555556,
              "#d8576b"
             ],
             [
              0.6666666666666666,
              "#ed7953"
             ],
             [
              0.7777777777777778,
              "#fb9f3a"
             ],
             [
              0.8888888888888888,
              "#fdca26"
             ],
             [
              1,
              "#f0f921"
             ]
            ],
            "type": "surface"
           }
          ],
          "table": [
           {
            "cells": {
             "fill": {
              "color": "#EBF0F8"
             },
             "line": {
              "color": "white"
             }
            },
            "header": {
             "fill": {
              "color": "#C8D4E3"
             },
             "line": {
              "color": "white"
             }
            },
            "type": "table"
           }
          ]
         },
         "layout": {
          "annotationdefaults": {
           "arrowcolor": "#2a3f5f",
           "arrowhead": 0,
           "arrowwidth": 1
          },
          "autotypenumbers": "strict",
          "coloraxis": {
           "colorbar": {
            "outlinewidth": 0,
            "ticks": ""
           }
          },
          "colorscale": {
           "diverging": [
            [
             0,
             "#8e0152"
            ],
            [
             0.1,
             "#c51b7d"
            ],
            [
             0.2,
             "#de77ae"
            ],
            [
             0.3,
             "#f1b6da"
            ],
            [
             0.4,
             "#fde0ef"
            ],
            [
             0.5,
             "#f7f7f7"
            ],
            [
             0.6,
             "#e6f5d0"
            ],
            [
             0.7,
             "#b8e186"
            ],
            [
             0.8,
             "#7fbc41"
            ],
            [
             0.9,
             "#4d9221"
            ],
            [
             1,
             "#276419"
            ]
           ],
           "sequential": [
            [
             0,
             "#0d0887"
            ],
            [
             0.1111111111111111,
             "#46039f"
            ],
            [
             0.2222222222222222,
             "#7201a8"
            ],
            [
             0.3333333333333333,
             "#9c179e"
            ],
            [
             0.4444444444444444,
             "#bd3786"
            ],
            [
             0.5555555555555556,
             "#d8576b"
            ],
            [
             0.6666666666666666,
             "#ed7953"
            ],
            [
             0.7777777777777778,
             "#fb9f3a"
            ],
            [
             0.8888888888888888,
             "#fdca26"
            ],
            [
             1,
             "#f0f921"
            ]
           ],
           "sequentialminus": [
            [
             0,
             "#0d0887"
            ],
            [
             0.1111111111111111,
             "#46039f"
            ],
            [
             0.2222222222222222,
             "#7201a8"
            ],
            [
             0.3333333333333333,
             "#9c179e"
            ],
            [
             0.4444444444444444,
             "#bd3786"
            ],
            [
             0.5555555555555556,
             "#d8576b"
            ],
            [
             0.6666666666666666,
             "#ed7953"
            ],
            [
             0.7777777777777778,
             "#fb9f3a"
            ],
            [
             0.8888888888888888,
             "#fdca26"
            ],
            [
             1,
             "#f0f921"
            ]
           ]
          },
          "colorway": [
           "#636efa",
           "#EF553B",
           "#00cc96",
           "#ab63fa",
           "#FFA15A",
           "#19d3f3",
           "#FF6692",
           "#B6E880",
           "#FF97FF",
           "#FECB52"
          ],
          "font": {
           "color": "#2a3f5f"
          },
          "geo": {
           "bgcolor": "white",
           "lakecolor": "white",
           "landcolor": "#E5ECF6",
           "showlakes": true,
           "showland": true,
           "subunitcolor": "white"
          },
          "hoverlabel": {
           "align": "left"
          },
          "hovermode": "closest",
          "mapbox": {
           "style": "light"
          },
          "paper_bgcolor": "white",
          "plot_bgcolor": "#E5ECF6",
          "polar": {
           "angularaxis": {
            "gridcolor": "white",
            "linecolor": "white",
            "ticks": ""
           },
           "bgcolor": "#E5ECF6",
           "radialaxis": {
            "gridcolor": "white",
            "linecolor": "white",
            "ticks": ""
           }
          },
          "scene": {
           "xaxis": {
            "backgroundcolor": "#E5ECF6",
            "gridcolor": "white",
            "gridwidth": 2,
            "linecolor": "white",
            "showbackground": true,
            "ticks": "",
            "zerolinecolor": "white"
           },
           "yaxis": {
            "backgroundcolor": "#E5ECF6",
            "gridcolor": "white",
            "gridwidth": 2,
            "linecolor": "white",
            "showbackground": true,
            "ticks": "",
            "zerolinecolor": "white"
           },
           "zaxis": {
            "backgroundcolor": "#E5ECF6",
            "gridcolor": "white",
            "gridwidth": 2,
            "linecolor": "white",
            "showbackground": true,
            "ticks": "",
            "zerolinecolor": "white"
           }
          },
          "shapedefaults": {
           "line": {
            "color": "#2a3f5f"
           }
          },
          "ternary": {
           "aaxis": {
            "gridcolor": "white",
            "linecolor": "white",
            "ticks": ""
           },
           "baxis": {
            "gridcolor": "white",
            "linecolor": "white",
            "ticks": ""
           },
           "bgcolor": "#E5ECF6",
           "caxis": {
            "gridcolor": "white",
            "linecolor": "white",
            "ticks": ""
           }
          },
          "title": {
           "x": 0.05
          },
          "xaxis": {
           "automargin": true,
           "gridcolor": "white",
           "linecolor": "white",
           "ticks": "",
           "title": {
            "standoff": 15
           },
           "zerolinecolor": "white",
           "zerolinewidth": 2
          },
          "yaxis": {
           "automargin": true,
           "gridcolor": "white",
           "linecolor": "white",
           "ticks": "",
           "title": {
            "standoff": 15
           },
           "zerolinecolor": "white",
           "zerolinewidth": 2
          }
         }
        },
        "title": {},
        "xaxis": {
         "showgrid": false,
         "showticklabels": false,
         "zeroline": false
        },
        "yaxis": {
         "autorange": "reversed",
         "showgrid": true,
         "title": {
          "text": "Time (frames)"
         },
         "zeroline": true
        }
       }
      }
     },
     "metadata": {},
     "output_type": "display_data"
    }
   ],
   "source": [
    "lin0 = model.data.cell_data[0]\n",
    "lin0.plot(node_hover_features=[\"cell_ID\", \"relative_age\", \"node_ID_parity\"])"
   ]
  },
  {
   "cell_type": "markdown",
   "metadata": {},
   "source": [
    "### Node age"
   ]
  },
  {
   "cell_type": "code",
   "execution_count": 1,
   "metadata": {},
   "outputs": [],
   "source": [
    "import pycellin as pc"
   ]
  },
  {
   "cell_type": "code",
   "execution_count": 2,
   "metadata": {},
   "outputs": [
    {
     "name": "stdout",
     "output_type": "stream",
     "text": [
      "Model with 3 lineages.\n",
      "This model contains 3 lineages:\n",
      "- ID 0: CellLineage named 'Track_0' with 152 nodes and 151 edges\n",
      "- ID 1: CellLineage named 'Track_1' with 189 nodes and 188 edges\n",
      "- ID 2: CellLineage named 'Track_2' with 185 nodes and 184 edges\n"
     ]
    }
   ],
   "source": [
    "# Path to the TrackMate XML file.\n",
    "xml_path1 = \"../sample_data/Ecoli_growth_on_agar_pad.xml\"\n",
    "xml_path2 = \"../sample_data/Ecoli_growth_on_agar_pad_with_gaps.xml\"\n",
    "\n",
    "\n",
    "# Parse the XML file and create a Pycellin Model object\n",
    "# that contains all the data from the XML file.\n",
    "model1 = pc.load_TrackMate_XML(xml_path1)\n",
    "model2 = pc.load_TrackMate_XML(xml_path2)\n",
    "\n",
    "# We can display basic information about this model.\n",
    "print(model1)\n",
    "print(f\"This model contains {model1.data.number_of_lineages()} lineages:\")\n",
    "for lin_ID, lineage in model1.data.cell_data.items():\n",
    "    print(f\"- ID {lin_ID}: {lineage}\")"
   ]
  },
  {
   "cell_type": "code",
   "execution_count": 3,
   "metadata": {},
   "outputs": [],
   "source": [
    "model1.add_pycellin_features([\"absolute_age\", \"relative_age\"])\n",
    "model1.update()"
   ]
  },
  {
   "cell_type": "code",
   "execution_count": 4,
   "metadata": {},
   "outputs": [],
   "source": [
    "lin0_1 = model1.data.cell_data[0]"
   ]
  },
  {
   "cell_type": "code",
   "execution_count": 5,
   "metadata": {},
   "outputs": [
    {
     "data": {
      "application/vnd.plotly.v1+json": {
       "config": {
        "plotlyServerURL": "https://plot.ly"
       },
       "data": [
        {
         "mode": "lines",
         "name": "Edges",
         "type": "scatter",
         "x": [
          0.8125,
          0.8125,
          null,
          -10.6875,
          -10.6875,
          null,
          2.8125,
          2.8125,
          null,
          -7.1875,
          -7.1875,
          null,
          -5.6875,
          -5.6875,
          null,
          -9.1875,
          -9.1875,
          null,
          -4.1875,
          -4.1875,
          null,
          4.8125,
          4.3125,
          null,
          4.8125,
          5.3125,
          null,
          -2.1875,
          -2.1875,
          null,
          -0.6875,
          -0.6875,
          null,
          7.3125,
          7.3125,
          null,
          6.3125,
          6.3125,
          null,
          -3.1875,
          -3.1875,
          null,
          -6.4375,
          -6.4375,
          null,
          0.8125,
          0.8125,
          null,
          -0.6875,
          -0.6875,
          null,
          7.3125,
          7.3125,
          null,
          2.8125,
          2.8125,
          null,
          -9.9375,
          -9.9375,
          null,
          4.8125,
          4.8125,
          null,
          7.3125,
          7.3125,
          null,
          -0.6875,
          -0.6875,
          null,
          0.8125,
          0.8125,
          null,
          -2.1875,
          -2.1875,
          null,
          -7.1875,
          -7.1875,
          null,
          -10.6875,
          -10.6875,
          null,
          4.3125,
          4.3125,
          null,
          2.8125,
          2.8125,
          null,
          -5.6875,
          -5.6875,
          null,
          -9.1875,
          -9.1875,
          null,
          -4.1875,
          -4.1875,
          null,
          5.3125,
          5.3125,
          null,
          -0.6875,
          -0.6875,
          null,
          6.3125,
          6.3125,
          null,
          6.3125,
          6.3125,
          null,
          0.8125,
          0.8125,
          null,
          -7.1875,
          -7.1875,
          null,
          -10.6875,
          -10.6875,
          null,
          4.3125,
          4.3125,
          null,
          7.3125,
          7.3125,
          null,
          -2.1875,
          -2.1875,
          null,
          2.8125,
          2.8125,
          null,
          -5.6875,
          -5.6875,
          null,
          -4.1875,
          -4.6875,
          null,
          -4.1875,
          -3.6875,
          null,
          -9.1875,
          -9.1875,
          null,
          5.3125,
          5.3125,
          null,
          -0.6875,
          -0.6875,
          null,
          6.3125,
          6.3125,
          null,
          -2.1875,
          -2.6875,
          null,
          -2.1875,
          -1.6875,
          null,
          4.3125,
          4.3125,
          null,
          7.3125,
          7.3125,
          null,
          2.8125,
          2.3125,
          null,
          2.8125,
          3.3125,
          null,
          -10.6875,
          -10.6875,
          null,
          -4.6875,
          -4.6875,
          null,
          -9.1875,
          -8.6875,
          null,
          -9.1875,
          -9.6875,
          null,
          5.3125,
          5.3125,
          null,
          -5.6875,
          -5.6875,
          null,
          0.8125,
          0.3125,
          null,
          0.8125,
          1.3125,
          null,
          -3.6875,
          -3.6875,
          null,
          5.0625,
          5.0625,
          null,
          -7.1875,
          -6.6875,
          null,
          -7.1875,
          -7.6875,
          null,
          5.0625,
          5.0625,
          null,
          -5.0625,
          -5.0625,
          null,
          0,
          5.0625,
          null,
          0,
          -5.0625,
          null,
          -5.0625,
          -5.0625,
          null,
          5.0625,
          5.0625,
          null,
          -5.0625,
          -5.0625,
          null,
          5.0625,
          5.0625,
          null,
          -5.0625,
          -5.0625,
          null,
          -5.0625,
          -5.0625,
          null,
          5.0625,
          5.0625,
          null,
          -5.0625,
          -1.9375,
          null,
          -5.0625,
          -8.1875,
          null,
          5.0625,
          3.3125,
          null,
          5.0625,
          6.8125,
          null,
          -8.1875,
          -8.1875,
          null,
          -1.9375,
          -1.9375,
          null,
          3.3125,
          3.3125,
          null,
          6.8125,
          6.8125,
          null,
          -8.1875,
          -8.1875,
          null,
          -1.9375,
          -1.9375,
          null,
          3.3125,
          3.3125,
          null,
          6.8125,
          6.8125,
          null,
          -8.1875,
          -6.4375,
          null,
          -8.1875,
          -9.9375,
          null,
          3.3125,
          1.8125,
          null,
          3.3125,
          4.8125,
          null,
          -1.9375,
          -1.9375,
          null,
          6.8125,
          6.8125,
          null,
          -8.1875,
          -8.1875,
          null,
          3.3125,
          3.3125,
          null,
          -1.9375,
          -1.9375,
          null,
          6.8125,
          6.8125,
          null,
          6.3125,
          6.3125,
          null,
          -3.1875,
          -3.1875,
          null,
          -6.4375,
          -6.4375,
          null,
          1.8125,
          1.8125,
          null,
          7.3125,
          7.3125,
          null,
          -9.9375,
          -9.9375,
          null,
          4.8125,
          4.8125,
          null,
          -0.6875,
          -0.6875,
          null,
          1.8125,
          1.8125,
          null,
          -9.9375,
          -9.9375,
          null,
          4.8125,
          4.8125,
          null,
          -6.4375,
          -6.4375,
          null,
          -1.9375,
          -0.6875,
          null,
          -1.9375,
          -3.1875,
          null,
          6.8125,
          6.3125,
          null,
          6.8125,
          7.3125,
          null,
          6.3125,
          6.3125,
          null,
          -3.1875,
          -3.1875,
          null,
          -6.4375,
          -6.4375,
          null,
          -8.1875,
          -8.1875,
          null,
          1.8125,
          1.8125,
          null,
          -1.9375,
          -1.9375,
          null,
          3.3125,
          3.3125,
          null,
          6.8125,
          6.8125,
          null,
          7.3125,
          7.3125,
          null,
          -9.9375,
          -9.9375,
          null,
          4.8125,
          4.8125,
          null,
          -0.6875,
          -0.6875,
          null,
          6.3125,
          6.3125,
          null,
          1.8125,
          0.8125,
          null,
          1.8125,
          2.8125,
          null,
          -0.6875,
          -0.6875,
          null,
          7.3125,
          7.3125,
          null,
          -9.9375,
          -9.9375,
          null,
          -3.1875,
          -3.1875,
          null,
          4.8125,
          4.8125,
          null,
          -6.4375,
          -6.4375,
          null,
          6.3125,
          6.3125,
          null,
          0.8125,
          0.8125,
          null,
          -0.6875,
          -0.6875,
          null,
          7.3125,
          7.3125,
          null,
          2.8125,
          2.8125,
          null,
          -6.4375,
          -5.6875,
          null,
          -6.4375,
          -7.1875,
          null,
          -9.9375,
          -9.1875,
          null,
          -9.9375,
          -10.6875,
          null,
          4.8125,
          4.8125,
          null,
          -3.1875,
          -2.1875,
          null,
          -3.1875,
          -4.1875,
          null,
          6.3125,
          6.3125,
          null
         ],
         "y": [
          18,
          19,
          null,
          18,
          19,
          null,
          18,
          19,
          null,
          18,
          19,
          null,
          18,
          19,
          null,
          18,
          19,
          null,
          18,
          19,
          null,
          18,
          19,
          null,
          18,
          19,
          null,
          18,
          19,
          null,
          18,
          19,
          null,
          18,
          19,
          null,
          16,
          17,
          null,
          16,
          17,
          null,
          16,
          17,
          null,
          16,
          17,
          null,
          16,
          17,
          null,
          16,
          17,
          null,
          16,
          17,
          null,
          16,
          17,
          null,
          16,
          17,
          null,
          19,
          20,
          null,
          19,
          20,
          null,
          19,
          20,
          null,
          19,
          20,
          null,
          19,
          20,
          null,
          19,
          20,
          null,
          19,
          20,
          null,
          19,
          20,
          null,
          19,
          20,
          null,
          19,
          20,
          null,
          19,
          20,
          null,
          19,
          20,
          null,
          20,
          21,
          null,
          19,
          20,
          null,
          20,
          21,
          null,
          20,
          21,
          null,
          20,
          21,
          null,
          20,
          21,
          null,
          20,
          21,
          null,
          20,
          21,
          null,
          20,
          21,
          null,
          20,
          21,
          null,
          20,
          21,
          null,
          20,
          21,
          null,
          20,
          21,
          null,
          20,
          21,
          null,
          20,
          21,
          null,
          21,
          22,
          null,
          21,
          22,
          null,
          21,
          22,
          null,
          21,
          22,
          null,
          21,
          22,
          null,
          21,
          22,
          null,
          21,
          22,
          null,
          21,
          22,
          null,
          21,
          22,
          null,
          21,
          22,
          null,
          21,
          22,
          null,
          21,
          22,
          null,
          21,
          22,
          null,
          21,
          22,
          null,
          21,
          22,
          null,
          21,
          22,
          null,
          21,
          22,
          null,
          2,
          3,
          null,
          21,
          22,
          null,
          21,
          22,
          null,
          3,
          4,
          null,
          2,
          3,
          null,
          0,
          1,
          null,
          0,
          1,
          null,
          3,
          4,
          null,
          4,
          5,
          null,
          4,
          5,
          null,
          5,
          6,
          null,
          5,
          6,
          null,
          1,
          2,
          null,
          1,
          2,
          null,
          6,
          7,
          null,
          6,
          7,
          null,
          6,
          7,
          null,
          6,
          7,
          null,
          9,
          10,
          null,
          9,
          10,
          null,
          9,
          10,
          null,
          9,
          10,
          null,
          8,
          9,
          null,
          8,
          9,
          null,
          8,
          9,
          null,
          8,
          9,
          null,
          11,
          12,
          null,
          11,
          12,
          null,
          11,
          12,
          null,
          11,
          12,
          null,
          11,
          12,
          null,
          11,
          12,
          null,
          10,
          11,
          null,
          10,
          11,
          null,
          10,
          11,
          null,
          10,
          11,
          null,
          13,
          14,
          null,
          13,
          14,
          null,
          13,
          14,
          null,
          13,
          14,
          null,
          13,
          14,
          null,
          13,
          14,
          null,
          13,
          14,
          null,
          13,
          14,
          null,
          12,
          13,
          null,
          12,
          13,
          null,
          12,
          13,
          null,
          12,
          13,
          null,
          12,
          13,
          null,
          12,
          13,
          null,
          12,
          13,
          null,
          12,
          13,
          null,
          14,
          15,
          null,
          14,
          15,
          null,
          14,
          15,
          null,
          7,
          8,
          null,
          14,
          15,
          null,
          7,
          8,
          null,
          7,
          8,
          null,
          7,
          8,
          null,
          14,
          15,
          null,
          14,
          15,
          null,
          14,
          15,
          null,
          14,
          15,
          null,
          15,
          16,
          null,
          15,
          16,
          null,
          15,
          16,
          null,
          15,
          16,
          null,
          15,
          16,
          null,
          15,
          16,
          null,
          15,
          16,
          null,
          15,
          16,
          null,
          15,
          16,
          null,
          17,
          18,
          null,
          17,
          18,
          null,
          17,
          18,
          null,
          17,
          18,
          null,
          17,
          18,
          null,
          17,
          18,
          null,
          17,
          18,
          null,
          17,
          18,
          null,
          17,
          18,
          null,
          17,
          18,
          null,
          17,
          18,
          null,
          17,
          18,
          null,
          18,
          19,
          null
         ]
        },
        {
         "hoverinfo": "text",
         "hovertemplate": "%{text}",
         "mode": "markers",
         "name": "lineage_ID: 0",
         "text": [
          "cell_ID: 9216<br>absolute_age: 18<br>relative_age: 2<br>",
          "cell_ID: 9218<br>absolute_age: 18<br>relative_age: 0<br>",
          "cell_ID: 9222<br>absolute_age: 18<br>relative_age: 2<br>",
          "cell_ID: 9223<br>absolute_age: 18<br>relative_age: 0<br>",
          "cell_ID: 9227<br>absolute_age: 18<br>relative_age: 0<br>",
          "cell_ID: 9228<br>absolute_age: 18<br>relative_age: 0<br>",
          "cell_ID: 9229<br>absolute_age: 18<br>relative_age: 0<br>",
          "cell_ID: 9230<br>absolute_age: 18<br>relative_age: 6<br>",
          "cell_ID: 9235<br>absolute_age: 18<br>relative_age: 0<br>",
          "cell_ID: 9240<br>absolute_age: 18<br>relative_age: 5<br>",
          "cell_ID: 9250<br>absolute_age: 18<br>relative_age: 5<br>",
          "cell_ID: 9252<br>absolute_age: 16<br>relative_age: 3<br>",
          "cell_ID: 9255<br>absolute_age: 16<br>relative_age: 3<br>",
          "cell_ID: 9258<br>absolute_age: 16<br>relative_age: 4<br>",
          "cell_ID: 9259<br>absolute_age: 16<br>relative_age: 0<br>",
          "cell_ID: 9262<br>absolute_age: 16<br>relative_age: 3<br>",
          "cell_ID: 9263<br>absolute_age: 16<br>relative_age: 3<br>",
          "cell_ID: 9271<br>absolute_age: 16<br>relative_age: 0<br>",
          "cell_ID: 9274<br>absolute_age: 16<br>relative_age: 4<br>",
          "cell_ID: 9277<br>absolute_age: 16<br>relative_age: 4<br>",
          "cell_ID: 9279<br>absolute_age: 19<br>relative_age: 6<br>",
          "cell_ID: 9286<br>absolute_age: 19<br>relative_age: 6<br>",
          "cell_ID: 9290<br>absolute_age: 19<br>relative_age: 3<br>",
          "cell_ID: 9292<br>absolute_age: 19<br>relative_age: 1<br>",
          "cell_ID: 9293<br>absolute_age: 19<br>relative_age: 1<br>",
          "cell_ID: 9294<br>absolute_age: 19<br>relative_age: 1<br>",
          "cell_ID: 9299<br>absolute_age: 19<br>relative_age: 0<br>",
          "cell_ID: 9306<br>absolute_age: 19<br>relative_age: 3<br>",
          "cell_ID: 9308<br>absolute_age: 19<br>relative_age: 1<br>",
          "cell_ID: 9309<br>absolute_age: 19<br>relative_age: 1<br>",
          "cell_ID: 9310<br>absolute_age: 19<br>relative_age: 1<br>",
          "cell_ID: 9312<br>absolute_age: 19<br>relative_age: 0<br>",
          "cell_ID: 9326<br>absolute_age: 20<br>relative_age: 7<br>",
          "cell_ID: 9328<br>absolute_age: 19<br>relative_age: 6<br>",
          "cell_ID: 9330<br>absolute_age: 20<br>relative_age: 7<br>",
          "cell_ID: 9332<br>absolute_age: 20<br>relative_age: 4<br>",
          "cell_ID: 9334<br>absolute_age: 20<br>relative_age: 2<br>",
          "cell_ID: 9335<br>absolute_age: 20<br>relative_age: 2<br>",
          "cell_ID: 9339<br>absolute_age: 20<br>relative_age: 1<br>",
          "cell_ID: 9343<br>absolute_age: 20<br>relative_age: 7<br>",
          "cell_ID: 9344<br>absolute_age: 20<br>relative_age: 2<br>",
          "cell_ID: 9351<br>absolute_age: 20<br>relative_age: 4<br>",
          "cell_ID: 9355<br>absolute_age: 20<br>relative_age: 2<br>",
          "cell_ID: 9356<br>absolute_age: 20<br>relative_age: 2<br>",
          "cell_ID: 9357<br>absolute_age: 20<br>relative_age: 2<br>",
          "cell_ID: 9358<br>absolute_age: 20<br>relative_age: 1<br>",
          "cell_ID: 9375<br>absolute_age: 22<br>relative_age: 0<br>",
          "cell_ID: 9382<br>absolute_age: 22<br>relative_age: 9<br>",
          "cell_ID: 9384<br>absolute_age: 22<br>relative_age: 9<br>",
          "cell_ID: 9389<br>absolute_age: 22<br>relative_age: 0<br>",
          "cell_ID: 9390<br>absolute_age: 22<br>relative_age: 3<br>",
          "cell_ID: 9395<br>absolute_age: 22<br>relative_age: 9<br>",
          "cell_ID: 9398<br>absolute_age: 22<br>relative_age: 0<br>",
          "cell_ID: 9402<br>absolute_age: 22<br>relative_age: 0<br>",
          "cell_ID: 9416<br>absolute_age: 22<br>relative_age: 0<br>",
          "cell_ID: 9424<br>absolute_age: 21<br>relative_age: 8<br>",
          "cell_ID: 9428<br>absolute_age: 21<br>relative_age: 8<br>",
          "cell_ID: 9438<br>absolute_age: 21<br>relative_age: 3<br>",
          "cell_ID: 9440<br>absolute_age: 22<br>relative_age: 1<br>",
          "cell_ID: 9441<br>absolute_age: 21<br>relative_age: 2<br>",
          "cell_ID: 9444<br>absolute_age: 22<br>relative_age: 1<br>",
          "cell_ID: 9446<br>absolute_age: 22<br>relative_age: 3<br>",
          "cell_ID: 9448<br>absolute_age: 22<br>relative_age: 0<br>",
          "cell_ID: 9449<br>absolute_age: 22<br>relative_age: 0<br>",
          "cell_ID: 9450<br>absolute_age: 21<br>relative_age: 8<br>",
          "cell_ID: 9463<br>absolute_age: 22<br>relative_age: 4<br>",
          "cell_ID: 9464<br>absolute_age: 21<br>relative_age: 5<br>",
          "cell_ID: 9465<br>absolute_age: 22<br>relative_age: 0<br>",
          "cell_ID: 9470<br>absolute_age: 22<br>relative_age: 4<br>",
          "cell_ID: 9476<br>absolute_age: 22<br>relative_age: 0<br>",
          "cell_ID: 9480<br>absolute_age: 22<br>relative_age: 0<br>",
          "cell_ID: 9481<br>absolute_age: 21<br>relative_age: 3<br>",
          "cell_ID: 9482<br>absolute_age: 21<br>relative_age: 0<br>",
          "cell_ID: 9483<br>absolute_age: 21<br>relative_age: 3<br>",
          "cell_ID: 9485<br>absolute_age: 21<br>relative_age: 2<br>",
          "cell_ID: 9491<br>absolute_age: 21<br>relative_age: 3<br>",
          "cell_ID: 9492<br>absolute_age: 21<br>relative_age: 5<br>",
          "cell_ID: 9494<br>absolute_age: 21<br>relative_age: 0<br>",
          "cell_ID: 8986<br>absolute_age: 2<br>relative_age: 1<br>",
          "cell_ID: 9498<br>absolute_age: 21<br>relative_age: 3<br>",
          "cell_ID: 8988<br>absolute_age: 3<br>relative_age: 2<br>",
          "cell_ID: 8989<br>absolute_age: 2<br>relative_age: 1<br>",
          "cell_ID: 8993<br>absolute_age: 0<br>relative_age: 0<br>",
          "cell_ID: 8996<br>absolute_age: 3<br>relative_age: 2<br>",
          "cell_ID: 8999<br>absolute_age: 4<br>relative_age: 3<br>",
          "cell_ID: 9001<br>absolute_age: 4<br>relative_age: 3<br>",
          "cell_ID: 9008<br>absolute_age: 5<br>relative_age: 4<br>",
          "cell_ID: 9010<br>absolute_age: 5<br>relative_age: 4<br>",
          "cell_ID: 9013<br>absolute_age: 1<br>relative_age: 0<br>",
          "cell_ID: 9014<br>absolute_age: 1<br>relative_age: 0<br>",
          "cell_ID: 9019<br>absolute_age: 6<br>relative_age: 5<br>",
          "cell_ID: 9020<br>absolute_age: 6<br>relative_age: 5<br>",
          "cell_ID: 9027<br>absolute_age: 9<br>relative_age: 2<br>",
          "cell_ID: 9028<br>absolute_age: 9<br>relative_age: 2<br>",
          "cell_ID: 9029<br>absolute_age: 9<br>relative_age: 2<br>",
          "cell_ID: 9031<br>absolute_age: 9<br>relative_age: 2<br>",
          "cell_ID: 9040<br>absolute_age: 8<br>relative_age: 1<br>",
          "cell_ID: 9041<br>absolute_age: 8<br>relative_age: 1<br>",
          "cell_ID: 9042<br>absolute_age: 8<br>relative_age: 1<br>",
          "cell_ID: 9043<br>absolute_age: 8<br>relative_age: 1<br>",
          "cell_ID: 9051<br>absolute_age: 11<br>relative_age: 4<br>",
          "cell_ID: 9052<br>absolute_age: 11<br>relative_age: 4<br>",
          "cell_ID: 9053<br>absolute_age: 11<br>relative_age: 4<br>",
          "cell_ID: 9055<br>absolute_age: 11<br>relative_age: 4<br>",
          "cell_ID: 9062<br>absolute_age: 10<br>relative_age: 3<br>",
          "cell_ID: 9064<br>absolute_age: 10<br>relative_age: 3<br>",
          "cell_ID: 9065<br>absolute_age: 10<br>relative_age: 3<br>",
          "cell_ID: 9067<br>absolute_age: 10<br>relative_age: 3<br>",
          "cell_ID: 9080<br>absolute_age: 13<br>relative_age: 0<br>",
          "cell_ID: 9081<br>absolute_age: 13<br>relative_age: 0<br>",
          "cell_ID: 9082<br>absolute_age: 13<br>relative_age: 1<br>",
          "cell_ID: 9084<br>absolute_age: 13<br>relative_age: 1<br>",
          "cell_ID: 9086<br>absolute_age: 13<br>relative_age: 0<br>",
          "cell_ID: 9090<br>absolute_age: 13<br>relative_age: 1<br>",
          "cell_ID: 9091<br>absolute_age: 13<br>relative_age: 1<br>",
          "cell_ID: 9095<br>absolute_age: 13<br>relative_age: 0<br>",
          "cell_ID: 9096<br>absolute_age: 12<br>relative_age: 0<br>",
          "cell_ID: 9102<br>absolute_age: 12<br>relative_age: 0<br>",
          "cell_ID: 9103<br>absolute_age: 12<br>relative_age: 0<br>",
          "cell_ID: 9104<br>absolute_age: 12<br>relative_age: 0<br>",
          "cell_ID: 9106<br>absolute_age: 12<br>relative_age: 5<br>",
          "cell_ID: 9108<br>absolute_age: 12<br>relative_age: 5<br>",
          "cell_ID: 9118<br>absolute_age: 14<br>relative_age: 1<br>",
          "cell_ID: 9119<br>absolute_age: 14<br>relative_age: 1<br>",
          "cell_ID: 9120<br>absolute_age: 14<br>relative_age: 2<br>",
          "cell_ID: 9121<br>absolute_age: 7<br>relative_age: 0<br>",
          "cell_ID: 9122<br>absolute_age: 14<br>relative_age: 2<br>",
          "cell_ID: 9123<br>absolute_age: 7<br>relative_age: 0<br>",
          "cell_ID: 9124<br>absolute_age: 7<br>relative_age: 0<br>",
          "cell_ID: 9126<br>absolute_age: 7<br>relative_age: 0<br>",
          "cell_ID: 9127<br>absolute_age: 14<br>relative_age: 1<br>",
          "cell_ID: 9136<br>absolute_age: 14<br>relative_age: 2<br>",
          "cell_ID: 9138<br>absolute_age: 14<br>relative_age: 2<br>",
          "cell_ID: 9143<br>absolute_age: 14<br>relative_age: 1<br>",
          "cell_ID: 9155<br>absolute_age: 15<br>relative_age: 2<br>",
          "cell_ID: 9156<br>absolute_age: 15<br>relative_age: 3<br>",
          "cell_ID: 9159<br>absolute_age: 15<br>relative_age: 2<br>",
          "cell_ID: 9160<br>absolute_age: 15<br>relative_age: 2<br>",
          "cell_ID: 9167<br>absolute_age: 15<br>relative_age: 3<br>",
          "cell_ID: 9168<br>absolute_age: 15<br>relative_age: 2<br>",
          "cell_ID: 9169<br>absolute_age: 15<br>relative_age: 3<br>",
          "cell_ID: 9170<br>absolute_age: 15<br>relative_age: 3<br>",
          "cell_ID: 9176<br>absolute_age: 17<br>relative_age: 4<br>",
          "cell_ID: 9178<br>absolute_age: 17<br>relative_age: 1<br>",
          "cell_ID: 9181<br>absolute_age: 17<br>relative_age: 4<br>",
          "cell_ID: 9182<br>absolute_age: 17<br>relative_age: 4<br>",
          "cell_ID: 9191<br>absolute_age: 17<br>relative_age: 1<br>",
          "cell_ID: 9194<br>absolute_age: 17<br>relative_age: 5<br>",
          "cell_ID: 9195<br>absolute_age: 17<br>relative_age: 5<br>",
          "cell_ID: 9196<br>absolute_age: 17<br>relative_age: 5<br>",
          "cell_ID: 9206<br>absolute_age: 17<br>relative_age: 4<br>",
          "cell_ID: 9215<br>absolute_age: 18<br>relative_age: 5<br>"
         ],
         "type": "scatter",
         "x": [
          0.8125,
          -10.6875,
          2.8125,
          -7.1875,
          -5.6875,
          -9.1875,
          -4.1875,
          4.8125,
          -2.1875,
          -0.6875,
          7.3125,
          6.3125,
          -3.1875,
          -6.4375,
          0.8125,
          -0.6875,
          7.3125,
          2.8125,
          -9.9375,
          4.8125,
          7.3125,
          -0.6875,
          0.8125,
          -2.1875,
          -7.1875,
          -10.6875,
          4.3125,
          2.8125,
          -5.6875,
          -9.1875,
          -4.1875,
          5.3125,
          -0.6875,
          6.3125,
          6.3125,
          0.8125,
          -7.1875,
          -10.6875,
          4.3125,
          7.3125,
          -2.1875,
          2.8125,
          -5.6875,
          -4.1875,
          -9.1875,
          5.3125,
          2.3125,
          -0.6875,
          6.3125,
          -2.6875,
          4.3125,
          7.3125,
          3.3125,
          -9.6875,
          -7.6875,
          -0.6875,
          6.3125,
          -2.1875,
          -4.6875,
          4.3125,
          -3.6875,
          5.3125,
          -6.6875,
          -1.6875,
          7.3125,
          -5.6875,
          2.8125,
          -8.6875,
          -10.6875,
          0.3125,
          1.3125,
          -10.6875,
          -4.6875,
          -9.1875,
          5.3125,
          -5.6875,
          0.8125,
          -3.6875,
          5.0625,
          -7.1875,
          5.0625,
          -5.0625,
          0,
          -5.0625,
          5.0625,
          -5.0625,
          5.0625,
          -5.0625,
          -5.0625,
          5.0625,
          -5.0625,
          5.0625,
          -8.1875,
          -1.9375,
          3.3125,
          6.8125,
          -8.1875,
          -1.9375,
          3.3125,
          6.8125,
          -8.1875,
          3.3125,
          -1.9375,
          6.8125,
          -8.1875,
          3.3125,
          -1.9375,
          6.8125,
          6.3125,
          -3.1875,
          -6.4375,
          1.8125,
          7.3125,
          -9.9375,
          4.8125,
          -0.6875,
          1.8125,
          -9.9375,
          4.8125,
          -6.4375,
          -1.9375,
          6.8125,
          6.3125,
          -3.1875,
          -6.4375,
          -8.1875,
          1.8125,
          -1.9375,
          3.3125,
          6.8125,
          7.3125,
          -9.9375,
          4.8125,
          -0.6875,
          6.3125,
          1.8125,
          -0.6875,
          7.3125,
          -9.9375,
          -3.1875,
          4.8125,
          -6.4375,
          6.3125,
          0.8125,
          -0.6875,
          7.3125,
          2.8125,
          -6.4375,
          -9.9375,
          4.8125,
          -3.1875,
          6.3125
         ],
         "y": [
          18,
          18,
          18,
          18,
          18,
          18,
          18,
          18,
          18,
          18,
          18,
          16,
          16,
          16,
          16,
          16,
          16,
          16,
          16,
          16,
          19,
          19,
          19,
          19,
          19,
          19,
          19,
          19,
          19,
          19,
          19,
          19,
          20,
          19,
          20,
          20,
          20,
          20,
          20,
          20,
          20,
          20,
          20,
          20,
          20,
          20,
          22,
          22,
          22,
          22,
          22,
          22,
          22,
          22,
          22,
          21,
          21,
          21,
          22,
          21,
          22,
          22,
          22,
          22,
          21,
          22,
          21,
          22,
          22,
          22,
          22,
          21,
          21,
          21,
          21,
          21,
          21,
          21,
          2,
          21,
          3,
          2,
          0,
          3,
          4,
          4,
          5,
          5,
          1,
          1,
          6,
          6,
          9,
          9,
          9,
          9,
          8,
          8,
          8,
          8,
          11,
          11,
          11,
          11,
          10,
          10,
          10,
          10,
          13,
          13,
          13,
          13,
          13,
          13,
          13,
          13,
          12,
          12,
          12,
          12,
          12,
          12,
          14,
          14,
          14,
          7,
          14,
          7,
          7,
          7,
          14,
          14,
          14,
          14,
          15,
          15,
          15,
          15,
          15,
          15,
          15,
          15,
          17,
          17,
          17,
          17,
          17,
          17,
          17,
          17,
          17,
          18
         ]
        }
       ],
       "layout": {
        "hovermode": "closest",
        "showlegend": true,
        "template": {
         "data": {
          "bar": [
           {
            "error_x": {
             "color": "#2a3f5f"
            },
            "error_y": {
             "color": "#2a3f5f"
            },
            "marker": {
             "line": {
              "color": "#E5ECF6",
              "width": 0.5
             },
             "pattern": {
              "fillmode": "overlay",
              "size": 10,
              "solidity": 0.2
             }
            },
            "type": "bar"
           }
          ],
          "barpolar": [
           {
            "marker": {
             "line": {
              "color": "#E5ECF6",
              "width": 0.5
             },
             "pattern": {
              "fillmode": "overlay",
              "size": 10,
              "solidity": 0.2
             }
            },
            "type": "barpolar"
           }
          ],
          "carpet": [
           {
            "aaxis": {
             "endlinecolor": "#2a3f5f",
             "gridcolor": "white",
             "linecolor": "white",
             "minorgridcolor": "white",
             "startlinecolor": "#2a3f5f"
            },
            "baxis": {
             "endlinecolor": "#2a3f5f",
             "gridcolor": "white",
             "linecolor": "white",
             "minorgridcolor": "white",
             "startlinecolor": "#2a3f5f"
            },
            "type": "carpet"
           }
          ],
          "choropleth": [
           {
            "colorbar": {
             "outlinewidth": 0,
             "ticks": ""
            },
            "type": "choropleth"
           }
          ],
          "contour": [
           {
            "colorbar": {
             "outlinewidth": 0,
             "ticks": ""
            },
            "colorscale": [
             [
              0,
              "#0d0887"
             ],
             [
              0.1111111111111111,
              "#46039f"
             ],
             [
              0.2222222222222222,
              "#7201a8"
             ],
             [
              0.3333333333333333,
              "#9c179e"
             ],
             [
              0.4444444444444444,
              "#bd3786"
             ],
             [
              0.5555555555555556,
              "#d8576b"
             ],
             [
              0.6666666666666666,
              "#ed7953"
             ],
             [
              0.7777777777777778,
              "#fb9f3a"
             ],
             [
              0.8888888888888888,
              "#fdca26"
             ],
             [
              1,
              "#f0f921"
             ]
            ],
            "type": "contour"
           }
          ],
          "contourcarpet": [
           {
            "colorbar": {
             "outlinewidth": 0,
             "ticks": ""
            },
            "type": "contourcarpet"
           }
          ],
          "heatmap": [
           {
            "colorbar": {
             "outlinewidth": 0,
             "ticks": ""
            },
            "colorscale": [
             [
              0,
              "#0d0887"
             ],
             [
              0.1111111111111111,
              "#46039f"
             ],
             [
              0.2222222222222222,
              "#7201a8"
             ],
             [
              0.3333333333333333,
              "#9c179e"
             ],
             [
              0.4444444444444444,
              "#bd3786"
             ],
             [
              0.5555555555555556,
              "#d8576b"
             ],
             [
              0.6666666666666666,
              "#ed7953"
             ],
             [
              0.7777777777777778,
              "#fb9f3a"
             ],
             [
              0.8888888888888888,
              "#fdca26"
             ],
             [
              1,
              "#f0f921"
             ]
            ],
            "type": "heatmap"
           }
          ],
          "heatmapgl": [
           {
            "colorbar": {
             "outlinewidth": 0,
             "ticks": ""
            },
            "colorscale": [
             [
              0,
              "#0d0887"
             ],
             [
              0.1111111111111111,
              "#46039f"
             ],
             [
              0.2222222222222222,
              "#7201a8"
             ],
             [
              0.3333333333333333,
              "#9c179e"
             ],
             [
              0.4444444444444444,
              "#bd3786"
             ],
             [
              0.5555555555555556,
              "#d8576b"
             ],
             [
              0.6666666666666666,
              "#ed7953"
             ],
             [
              0.7777777777777778,
              "#fb9f3a"
             ],
             [
              0.8888888888888888,
              "#fdca26"
             ],
             [
              1,
              "#f0f921"
             ]
            ],
            "type": "heatmapgl"
           }
          ],
          "histogram": [
           {
            "marker": {
             "pattern": {
              "fillmode": "overlay",
              "size": 10,
              "solidity": 0.2
             }
            },
            "type": "histogram"
           }
          ],
          "histogram2d": [
           {
            "colorbar": {
             "outlinewidth": 0,
             "ticks": ""
            },
            "colorscale": [
             [
              0,
              "#0d0887"
             ],
             [
              0.1111111111111111,
              "#46039f"
             ],
             [
              0.2222222222222222,
              "#7201a8"
             ],
             [
              0.3333333333333333,
              "#9c179e"
             ],
             [
              0.4444444444444444,
              "#bd3786"
             ],
             [
              0.5555555555555556,
              "#d8576b"
             ],
             [
              0.6666666666666666,
              "#ed7953"
             ],
             [
              0.7777777777777778,
              "#fb9f3a"
             ],
             [
              0.8888888888888888,
              "#fdca26"
             ],
             [
              1,
              "#f0f921"
             ]
            ],
            "type": "histogram2d"
           }
          ],
          "histogram2dcontour": [
           {
            "colorbar": {
             "outlinewidth": 0,
             "ticks": ""
            },
            "colorscale": [
             [
              0,
              "#0d0887"
             ],
             [
              0.1111111111111111,
              "#46039f"
             ],
             [
              0.2222222222222222,
              "#7201a8"
             ],
             [
              0.3333333333333333,
              "#9c179e"
             ],
             [
              0.4444444444444444,
              "#bd3786"
             ],
             [
              0.5555555555555556,
              "#d8576b"
             ],
             [
              0.6666666666666666,
              "#ed7953"
             ],
             [
              0.7777777777777778,
              "#fb9f3a"
             ],
             [
              0.8888888888888888,
              "#fdca26"
             ],
             [
              1,
              "#f0f921"
             ]
            ],
            "type": "histogram2dcontour"
           }
          ],
          "mesh3d": [
           {
            "colorbar": {
             "outlinewidth": 0,
             "ticks": ""
            },
            "type": "mesh3d"
           }
          ],
          "parcoords": [
           {
            "line": {
             "colorbar": {
              "outlinewidth": 0,
              "ticks": ""
             }
            },
            "type": "parcoords"
           }
          ],
          "pie": [
           {
            "automargin": true,
            "type": "pie"
           }
          ],
          "scatter": [
           {
            "fillpattern": {
             "fillmode": "overlay",
             "size": 10,
             "solidity": 0.2
            },
            "type": "scatter"
           }
          ],
          "scatter3d": [
           {
            "line": {
             "colorbar": {
              "outlinewidth": 0,
              "ticks": ""
             }
            },
            "marker": {
             "colorbar": {
              "outlinewidth": 0,
              "ticks": ""
             }
            },
            "type": "scatter3d"
           }
          ],
          "scattercarpet": [
           {
            "marker": {
             "colorbar": {
              "outlinewidth": 0,
              "ticks": ""
             }
            },
            "type": "scattercarpet"
           }
          ],
          "scattergeo": [
           {
            "marker": {
             "colorbar": {
              "outlinewidth": 0,
              "ticks": ""
             }
            },
            "type": "scattergeo"
           }
          ],
          "scattergl": [
           {
            "marker": {
             "colorbar": {
              "outlinewidth": 0,
              "ticks": ""
             }
            },
            "type": "scattergl"
           }
          ],
          "scattermapbox": [
           {
            "marker": {
             "colorbar": {
              "outlinewidth": 0,
              "ticks": ""
             }
            },
            "type": "scattermapbox"
           }
          ],
          "scatterpolar": [
           {
            "marker": {
             "colorbar": {
              "outlinewidth": 0,
              "ticks": ""
             }
            },
            "type": "scatterpolar"
           }
          ],
          "scatterpolargl": [
           {
            "marker": {
             "colorbar": {
              "outlinewidth": 0,
              "ticks": ""
             }
            },
            "type": "scatterpolargl"
           }
          ],
          "scatterternary": [
           {
            "marker": {
             "colorbar": {
              "outlinewidth": 0,
              "ticks": ""
             }
            },
            "type": "scatterternary"
           }
          ],
          "surface": [
           {
            "colorbar": {
             "outlinewidth": 0,
             "ticks": ""
            },
            "colorscale": [
             [
              0,
              "#0d0887"
             ],
             [
              0.1111111111111111,
              "#46039f"
             ],
             [
              0.2222222222222222,
              "#7201a8"
             ],
             [
              0.3333333333333333,
              "#9c179e"
             ],
             [
              0.4444444444444444,
              "#bd3786"
             ],
             [
              0.5555555555555556,
              "#d8576b"
             ],
             [
              0.6666666666666666,
              "#ed7953"
             ],
             [
              0.7777777777777778,
              "#fb9f3a"
             ],
             [
              0.8888888888888888,
              "#fdca26"
             ],
             [
              1,
              "#f0f921"
             ]
            ],
            "type": "surface"
           }
          ],
          "table": [
           {
            "cells": {
             "fill": {
              "color": "#EBF0F8"
             },
             "line": {
              "color": "white"
             }
            },
            "header": {
             "fill": {
              "color": "#C8D4E3"
             },
             "line": {
              "color": "white"
             }
            },
            "type": "table"
           }
          ]
         },
         "layout": {
          "annotationdefaults": {
           "arrowcolor": "#2a3f5f",
           "arrowhead": 0,
           "arrowwidth": 1
          },
          "autotypenumbers": "strict",
          "coloraxis": {
           "colorbar": {
            "outlinewidth": 0,
            "ticks": ""
           }
          },
          "colorscale": {
           "diverging": [
            [
             0,
             "#8e0152"
            ],
            [
             0.1,
             "#c51b7d"
            ],
            [
             0.2,
             "#de77ae"
            ],
            [
             0.3,
             "#f1b6da"
            ],
            [
             0.4,
             "#fde0ef"
            ],
            [
             0.5,
             "#f7f7f7"
            ],
            [
             0.6,
             "#e6f5d0"
            ],
            [
             0.7,
             "#b8e186"
            ],
            [
             0.8,
             "#7fbc41"
            ],
            [
             0.9,
             "#4d9221"
            ],
            [
             1,
             "#276419"
            ]
           ],
           "sequential": [
            [
             0,
             "#0d0887"
            ],
            [
             0.1111111111111111,
             "#46039f"
            ],
            [
             0.2222222222222222,
             "#7201a8"
            ],
            [
             0.3333333333333333,
             "#9c179e"
            ],
            [
             0.4444444444444444,
             "#bd3786"
            ],
            [
             0.5555555555555556,
             "#d8576b"
            ],
            [
             0.6666666666666666,
             "#ed7953"
            ],
            [
             0.7777777777777778,
             "#fb9f3a"
            ],
            [
             0.8888888888888888,
             "#fdca26"
            ],
            [
             1,
             "#f0f921"
            ]
           ],
           "sequentialminus": [
            [
             0,
             "#0d0887"
            ],
            [
             0.1111111111111111,
             "#46039f"
            ],
            [
             0.2222222222222222,
             "#7201a8"
            ],
            [
             0.3333333333333333,
             "#9c179e"
            ],
            [
             0.4444444444444444,
             "#bd3786"
            ],
            [
             0.5555555555555556,
             "#d8576b"
            ],
            [
             0.6666666666666666,
             "#ed7953"
            ],
            [
             0.7777777777777778,
             "#fb9f3a"
            ],
            [
             0.8888888888888888,
             "#fdca26"
            ],
            [
             1,
             "#f0f921"
            ]
           ]
          },
          "colorway": [
           "#636efa",
           "#EF553B",
           "#00cc96",
           "#ab63fa",
           "#FFA15A",
           "#19d3f3",
           "#FF6692",
           "#B6E880",
           "#FF97FF",
           "#FECB52"
          ],
          "font": {
           "color": "#2a3f5f"
          },
          "geo": {
           "bgcolor": "white",
           "lakecolor": "white",
           "landcolor": "#E5ECF6",
           "showlakes": true,
           "showland": true,
           "subunitcolor": "white"
          },
          "hoverlabel": {
           "align": "left"
          },
          "hovermode": "closest",
          "mapbox": {
           "style": "light"
          },
          "paper_bgcolor": "white",
          "plot_bgcolor": "#E5ECF6",
          "polar": {
           "angularaxis": {
            "gridcolor": "white",
            "linecolor": "white",
            "ticks": ""
           },
           "bgcolor": "#E5ECF6",
           "radialaxis": {
            "gridcolor": "white",
            "linecolor": "white",
            "ticks": ""
           }
          },
          "scene": {
           "xaxis": {
            "backgroundcolor": "#E5ECF6",
            "gridcolor": "white",
            "gridwidth": 2,
            "linecolor": "white",
            "showbackground": true,
            "ticks": "",
            "zerolinecolor": "white"
           },
           "yaxis": {
            "backgroundcolor": "#E5ECF6",
            "gridcolor": "white",
            "gridwidth": 2,
            "linecolor": "white",
            "showbackground": true,
            "ticks": "",
            "zerolinecolor": "white"
           },
           "zaxis": {
            "backgroundcolor": "#E5ECF6",
            "gridcolor": "white",
            "gridwidth": 2,
            "linecolor": "white",
            "showbackground": true,
            "ticks": "",
            "zerolinecolor": "white"
           }
          },
          "shapedefaults": {
           "line": {
            "color": "#2a3f5f"
           }
          },
          "ternary": {
           "aaxis": {
            "gridcolor": "white",
            "linecolor": "white",
            "ticks": ""
           },
           "baxis": {
            "gridcolor": "white",
            "linecolor": "white",
            "ticks": ""
           },
           "bgcolor": "#E5ECF6",
           "caxis": {
            "gridcolor": "white",
            "linecolor": "white",
            "ticks": ""
           }
          },
          "title": {
           "x": 0.05
          },
          "xaxis": {
           "automargin": true,
           "gridcolor": "white",
           "linecolor": "white",
           "ticks": "",
           "title": {
            "standoff": 15
           },
           "zerolinecolor": "white",
           "zerolinewidth": 2
          },
          "yaxis": {
           "automargin": true,
           "gridcolor": "white",
           "linecolor": "white",
           "ticks": "",
           "title": {
            "standoff": 15
           },
           "zerolinecolor": "white",
           "zerolinewidth": 2
          }
         }
        },
        "title": {},
        "xaxis": {
         "showgrid": false,
         "showticklabels": false,
         "zeroline": false
        },
        "yaxis": {
         "autorange": "reversed",
         "showgrid": true,
         "title": {
          "text": "Time (frames)"
         },
         "zeroline": true
        }
       }
      }
     },
     "metadata": {},
     "output_type": "display_data"
    }
   ],
   "source": [
    "lin0_1.plot(node_hover_features=[\"cell_ID\", \"absolute_age\", \"relative_age\"])"
   ]
  },
  {
   "cell_type": "code",
   "execution_count": 6,
   "metadata": {},
   "outputs": [
    {
     "data": {
      "application/vnd.plotly.v1+json": {
       "config": {
        "plotlyServerURL": "https://plot.ly"
       },
       "data": [
        {
         "mode": "lines",
         "name": "Edges",
         "type": "scatter",
         "x": [
          0.75,
          0.75,
          null,
          -10.25,
          -10.25,
          null,
          2.75,
          2.75,
          null,
          -6.75,
          -6.75,
          null,
          -5.25,
          -5.25,
          null,
          -8.75,
          -8.75,
          null,
          -3.75,
          -3.75,
          null,
          4.25,
          3.75,
          null,
          4.25,
          4.75,
          null,
          -1.75,
          -1.75,
          null,
          -0.25,
          -0.25,
          null,
          6.75,
          6.75,
          null,
          5.75,
          5.75,
          null,
          -2.75,
          -2.75,
          null,
          -6,
          -6,
          null,
          0.75,
          0.75,
          null,
          -0.25,
          -0.25,
          null,
          6.75,
          6.75,
          null,
          2.75,
          2.75,
          null,
          -9.5,
          -9.5,
          null,
          6.75,
          6.75,
          null,
          -0.25,
          -0.25,
          null,
          0.75,
          0.75,
          null,
          -1.75,
          -1.75,
          null,
          -6.75,
          -6.75,
          null,
          -10.25,
          -10.25,
          null,
          3.75,
          3.75,
          null,
          2.75,
          2.75,
          null,
          -5.25,
          -5.25,
          null,
          -8.75,
          -8.75,
          null,
          -3.75,
          -3.75,
          null,
          4.75,
          4.75,
          null,
          -0.25,
          -0.25,
          null,
          5.75,
          5.75,
          null,
          5.75,
          5.75,
          null,
          0.75,
          0.75,
          null,
          -6.75,
          -6.75,
          null,
          -10.25,
          -10.25,
          null,
          3.75,
          3.75,
          null,
          6.75,
          6.75,
          null,
          -1.75,
          -1.75,
          null,
          2.75,
          2.75,
          null,
          -5.25,
          -5.25,
          null,
          -3.75,
          -3.25,
          null,
          -3.75,
          -4.25,
          null,
          -8.75,
          -8.75,
          null,
          4.75,
          4.75,
          null,
          -0.25,
          -0.25,
          null,
          5.75,
          5.75,
          null,
          -1.75,
          -2.25,
          null,
          -1.75,
          -1.25,
          null,
          3.75,
          3.75,
          null,
          6.75,
          6.75,
          null,
          2.75,
          2.25,
          null,
          2.75,
          3.25,
          null,
          -10.25,
          -10.25,
          null,
          -4.25,
          -4.25,
          null,
          -8.75,
          -9.25,
          null,
          -8.75,
          -8.25,
          null,
          4.75,
          4.75,
          null,
          -5.25,
          -5.25,
          null,
          0.75,
          0.25,
          null,
          0.75,
          1.25,
          null,
          -3.25,
          -3.25,
          null,
          4.625,
          4.625,
          null,
          -6.75,
          -6.25,
          null,
          -6.75,
          -7.25,
          null,
          4.625,
          4.625,
          null,
          -4.625,
          -4.625,
          null,
          0,
          4.625,
          null,
          0,
          -4.625,
          null,
          -4.625,
          -4.625,
          null,
          4.625,
          4.625,
          null,
          4.625,
          4.625,
          null,
          -4.625,
          -4.625,
          null,
          -4.625,
          -4.625,
          null,
          4.625,
          4.625,
          null,
          -4.625,
          -1.5,
          null,
          -4.625,
          -7.75,
          null,
          4.625,
          3,
          null,
          4.625,
          6.25,
          null,
          -7.75,
          -7.75,
          null,
          -1.5,
          -1.5,
          null,
          3,
          3,
          null,
          6.25,
          6.25,
          null,
          -7.75,
          -7.75,
          null,
          -1.5,
          -1.5,
          null,
          3,
          3,
          null,
          6.25,
          6.25,
          null,
          -7.75,
          -6,
          null,
          -7.75,
          -9.5,
          null,
          3,
          1.75,
          null,
          3,
          4.25,
          null,
          -1.5,
          -1.5,
          null,
          6.25,
          6.25,
          null,
          -7.75,
          -7.75,
          null,
          3,
          3,
          null,
          -1.5,
          -1.5,
          null,
          6.25,
          6.25,
          null,
          5.75,
          5.75,
          null,
          -2.75,
          -2.75,
          null,
          -6,
          -6,
          null,
          1.75,
          1.75,
          null,
          6.75,
          6.75,
          null,
          -9.5,
          -9.5,
          null,
          4.25,
          4.25,
          null,
          -0.25,
          -0.25,
          null,
          1.75,
          1.75,
          null,
          -9.5,
          -9.5,
          null,
          4.25,
          4.25,
          null,
          -6,
          -6,
          null,
          -1.5,
          -0.25,
          null,
          -1.5,
          -2.75,
          null,
          6.25,
          6.75,
          null,
          6.25,
          5.75,
          null,
          5.75,
          5.75,
          null,
          -2.75,
          -2.75,
          null,
          -6,
          -6,
          null,
          -7.75,
          -7.75,
          null,
          1.75,
          1.75,
          null,
          -1.5,
          -1.5,
          null,
          3,
          3,
          null,
          6.25,
          6.25,
          null,
          6.75,
          6.75,
          null,
          -9.5,
          -9.5,
          null,
          4.25,
          4.25,
          null,
          -0.25,
          -0.25,
          null,
          5.75,
          5.75,
          null,
          1.75,
          2.75,
          null,
          1.75,
          0.75,
          null,
          -0.25,
          -0.25,
          null,
          6.75,
          6.75,
          null,
          -9.5,
          -9.5,
          null,
          -2.75,
          -2.75,
          null,
          -6,
          -6,
          null,
          5.75,
          5.75,
          null,
          0.75,
          0.75,
          null,
          -0.25,
          -0.25,
          null,
          6.75,
          6.75,
          null,
          2.75,
          2.75,
          null,
          -6,
          -6.75,
          null,
          -6,
          -5.25,
          null,
          -9.5,
          -8.75,
          null,
          -9.5,
          -10.25,
          null,
          4.25,
          4.25,
          null,
          -2.75,
          -3.75,
          null,
          -2.75,
          -1.75,
          null,
          5.75,
          5.75,
          null
         ],
         "y": [
          18,
          19,
          null,
          18,
          19,
          null,
          18,
          19,
          null,
          18,
          19,
          null,
          18,
          19,
          null,
          18,
          19,
          null,
          18,
          19,
          null,
          18,
          19,
          null,
          18,
          19,
          null,
          18,
          19,
          null,
          18,
          19,
          null,
          18,
          19,
          null,
          16,
          17,
          null,
          16,
          17,
          null,
          16,
          17,
          null,
          16,
          17,
          null,
          16,
          17,
          null,
          16,
          17,
          null,
          16,
          17,
          null,
          16,
          17,
          null,
          19,
          20,
          null,
          19,
          20,
          null,
          19,
          20,
          null,
          19,
          20,
          null,
          19,
          20,
          null,
          19,
          20,
          null,
          19,
          20,
          null,
          19,
          20,
          null,
          19,
          20,
          null,
          19,
          20,
          null,
          19,
          20,
          null,
          19,
          20,
          null,
          20,
          21,
          null,
          19,
          20,
          null,
          20,
          21,
          null,
          20,
          21,
          null,
          20,
          21,
          null,
          20,
          21,
          null,
          20,
          21,
          null,
          20,
          21,
          null,
          20,
          21,
          null,
          20,
          21,
          null,
          20,
          21,
          null,
          20,
          21,
          null,
          20,
          21,
          null,
          20,
          21,
          null,
          20,
          21,
          null,
          21,
          22,
          null,
          21,
          22,
          null,
          21,
          22,
          null,
          21,
          22,
          null,
          21,
          22,
          null,
          21,
          22,
          null,
          21,
          22,
          null,
          21,
          22,
          null,
          21,
          22,
          null,
          21,
          22,
          null,
          21,
          22,
          null,
          21,
          22,
          null,
          21,
          22,
          null,
          21,
          22,
          null,
          21,
          22,
          null,
          21,
          22,
          null,
          21,
          22,
          null,
          2,
          3,
          null,
          21,
          22,
          null,
          21,
          22,
          null,
          3,
          4,
          null,
          2,
          3,
          null,
          0,
          1,
          null,
          0,
          1,
          null,
          3,
          5,
          null,
          4,
          5,
          null,
          5,
          6,
          null,
          5,
          6,
          null,
          1,
          2,
          null,
          1,
          2,
          null,
          6,
          7,
          null,
          6,
          7,
          null,
          6,
          7,
          null,
          6,
          7,
          null,
          9,
          10,
          null,
          9,
          10,
          null,
          9,
          10,
          null,
          9,
          10,
          null,
          8,
          9,
          null,
          8,
          9,
          null,
          8,
          9,
          null,
          8,
          9,
          null,
          11,
          12,
          null,
          11,
          12,
          null,
          11,
          12,
          null,
          11,
          12,
          null,
          11,
          12,
          null,
          11,
          12,
          null,
          10,
          11,
          null,
          10,
          11,
          null,
          10,
          11,
          null,
          10,
          11,
          null,
          13,
          14,
          null,
          13,
          14,
          null,
          13,
          14,
          null,
          13,
          14,
          null,
          13,
          14,
          null,
          13,
          14,
          null,
          13,
          14,
          null,
          13,
          14,
          null,
          12,
          13,
          null,
          12,
          13,
          null,
          12,
          13,
          null,
          12,
          13,
          null,
          12,
          13,
          null,
          12,
          13,
          null,
          12,
          13,
          null,
          12,
          13,
          null,
          14,
          15,
          null,
          14,
          15,
          null,
          14,
          15,
          null,
          7,
          8,
          null,
          14,
          15,
          null,
          7,
          8,
          null,
          7,
          8,
          null,
          7,
          8,
          null,
          14,
          15,
          null,
          14,
          15,
          null,
          14,
          17,
          null,
          14,
          15,
          null,
          15,
          16,
          null,
          15,
          16,
          null,
          15,
          16,
          null,
          15,
          16,
          null,
          15,
          16,
          null,
          15,
          16,
          null,
          15,
          16,
          null,
          15,
          16,
          null,
          17,
          18,
          null,
          17,
          18,
          null,
          17,
          18,
          null,
          17,
          18,
          null,
          17,
          18,
          null,
          17,
          18,
          null,
          17,
          18,
          null,
          17,
          18,
          null,
          17,
          18,
          null,
          17,
          18,
          null,
          17,
          18,
          null,
          17,
          18,
          null,
          18,
          19,
          null
         ]
        },
        {
         "hoverinfo": "text",
         "hovertemplate": "%{text}",
         "mode": "markers",
         "name": "lineage_ID: 0",
         "text": [
          "cell_ID: 9216<br>absolute_age: 18<br>relative_age: 2<br>",
          "cell_ID: 9218<br>absolute_age: 18<br>relative_age: 0<br>",
          "cell_ID: 9222<br>absolute_age: 18<br>relative_age: 2<br>",
          "cell_ID: 9223<br>absolute_age: 18<br>relative_age: 0<br>",
          "cell_ID: 9227<br>absolute_age: 18<br>relative_age: 0<br>",
          "cell_ID: 9228<br>absolute_age: 18<br>relative_age: 0<br>",
          "cell_ID: 9229<br>absolute_age: 18<br>relative_age: 0<br>",
          "cell_ID: 9230<br>absolute_age: 18<br>relative_age: 6<br>",
          "cell_ID: 9235<br>absolute_age: 18<br>relative_age: 0<br>",
          "cell_ID: 9240<br>absolute_age: 18<br>relative_age: 5<br>",
          "cell_ID: 9250<br>absolute_age: 18<br>relative_age: 5<br>",
          "cell_ID: 9252<br>absolute_age: 16<br>relative_age: 3<br>",
          "cell_ID: 9255<br>absolute_age: 16<br>relative_age: 3<br>",
          "cell_ID: 9258<br>absolute_age: 16<br>relative_age: 4<br>",
          "cell_ID: 9259<br>absolute_age: 16<br>relative_age: 0<br>",
          "cell_ID: 9262<br>absolute_age: 16<br>relative_age: 3<br>",
          "cell_ID: 9263<br>absolute_age: 16<br>relative_age: 3<br>",
          "cell_ID: 9271<br>absolute_age: 16<br>relative_age: 0<br>",
          "cell_ID: 9274<br>absolute_age: 16<br>relative_age: 4<br>",
          "cell_ID: 9279<br>absolute_age: 19<br>relative_age: 6<br>",
          "cell_ID: 9286<br>absolute_age: 19<br>relative_age: 6<br>",
          "cell_ID: 9290<br>absolute_age: 19<br>relative_age: 3<br>",
          "cell_ID: 9292<br>absolute_age: 19<br>relative_age: 1<br>",
          "cell_ID: 9293<br>absolute_age: 19<br>relative_age: 1<br>",
          "cell_ID: 9294<br>absolute_age: 19<br>relative_age: 1<br>",
          "cell_ID: 9299<br>absolute_age: 19<br>relative_age: 0<br>",
          "cell_ID: 9306<br>absolute_age: 19<br>relative_age: 3<br>",
          "cell_ID: 9308<br>absolute_age: 19<br>relative_age: 1<br>",
          "cell_ID: 9309<br>absolute_age: 19<br>relative_age: 1<br>",
          "cell_ID: 9310<br>absolute_age: 19<br>relative_age: 1<br>",
          "cell_ID: 9312<br>absolute_age: 19<br>relative_age: 0<br>",
          "cell_ID: 9326<br>absolute_age: 20<br>relative_age: 7<br>",
          "cell_ID: 9328<br>absolute_age: 19<br>relative_age: 6<br>",
          "cell_ID: 9330<br>absolute_age: 20<br>relative_age: 7<br>",
          "cell_ID: 9332<br>absolute_age: 20<br>relative_age: 4<br>",
          "cell_ID: 9334<br>absolute_age: 20<br>relative_age: 2<br>",
          "cell_ID: 9335<br>absolute_age: 20<br>relative_age: 2<br>",
          "cell_ID: 9339<br>absolute_age: 20<br>relative_age: 1<br>",
          "cell_ID: 9343<br>absolute_age: 20<br>relative_age: 7<br>",
          "cell_ID: 9344<br>absolute_age: 20<br>relative_age: 2<br>",
          "cell_ID: 9351<br>absolute_age: 20<br>relative_age: 4<br>",
          "cell_ID: 9355<br>absolute_age: 20<br>relative_age: 2<br>",
          "cell_ID: 9356<br>absolute_age: 20<br>relative_age: 2<br>",
          "cell_ID: 9357<br>absolute_age: 20<br>relative_age: 2<br>",
          "cell_ID: 9358<br>absolute_age: 20<br>relative_age: 1<br>",
          "cell_ID: 9375<br>absolute_age: 22<br>relative_age: 0<br>",
          "cell_ID: 9382<br>absolute_age: 22<br>relative_age: 9<br>",
          "cell_ID: 9384<br>absolute_age: 22<br>relative_age: 9<br>",
          "cell_ID: 9389<br>absolute_age: 22<br>relative_age: 0<br>",
          "cell_ID: 9390<br>absolute_age: 22<br>relative_age: 3<br>",
          "cell_ID: 9395<br>absolute_age: 22<br>relative_age: 9<br>",
          "cell_ID: 9398<br>absolute_age: 22<br>relative_age: 0<br>",
          "cell_ID: 9402<br>absolute_age: 22<br>relative_age: 0<br>",
          "cell_ID: 9416<br>absolute_age: 22<br>relative_age: 0<br>",
          "cell_ID: 9424<br>absolute_age: 21<br>relative_age: 8<br>",
          "cell_ID: 9428<br>absolute_age: 21<br>relative_age: 8<br>",
          "cell_ID: 9438<br>absolute_age: 21<br>relative_age: 3<br>",
          "cell_ID: 9440<br>absolute_age: 22<br>relative_age: 1<br>",
          "cell_ID: 9441<br>absolute_age: 21<br>relative_age: 2<br>",
          "cell_ID: 9444<br>absolute_age: 22<br>relative_age: 1<br>",
          "cell_ID: 9446<br>absolute_age: 22<br>relative_age: 3<br>",
          "cell_ID: 9448<br>absolute_age: 22<br>relative_age: 0<br>",
          "cell_ID: 9449<br>absolute_age: 22<br>relative_age: 0<br>",
          "cell_ID: 9450<br>absolute_age: 21<br>relative_age: 8<br>",
          "cell_ID: 9463<br>absolute_age: 22<br>relative_age: 4<br>",
          "cell_ID: 9464<br>absolute_age: 21<br>relative_age: 5<br>",
          "cell_ID: 9465<br>absolute_age: 22<br>relative_age: 0<br>",
          "cell_ID: 9470<br>absolute_age: 22<br>relative_age: 4<br>",
          "cell_ID: 9476<br>absolute_age: 22<br>relative_age: 0<br>",
          "cell_ID: 9480<br>absolute_age: 22<br>relative_age: 0<br>",
          "cell_ID: 9481<br>absolute_age: 21<br>relative_age: 3<br>",
          "cell_ID: 9482<br>absolute_age: 21<br>relative_age: 0<br>",
          "cell_ID: 9483<br>absolute_age: 21<br>relative_age: 3<br>",
          "cell_ID: 9485<br>absolute_age: 21<br>relative_age: 2<br>",
          "cell_ID: 9491<br>absolute_age: 21<br>relative_age: 3<br>",
          "cell_ID: 9492<br>absolute_age: 21<br>relative_age: 5<br>",
          "cell_ID: 9494<br>absolute_age: 21<br>relative_age: 0<br>",
          "cell_ID: 8986<br>absolute_age: 2<br>relative_age: 1<br>",
          "cell_ID: 9498<br>absolute_age: 21<br>relative_age: 3<br>",
          "cell_ID: 8988<br>absolute_age: 3<br>relative_age: 2<br>",
          "cell_ID: 8989<br>absolute_age: 2<br>relative_age: 1<br>",
          "cell_ID: 8993<br>absolute_age: 0<br>relative_age: 0<br>",
          "cell_ID: 8996<br>absolute_age: 3<br>relative_age: 2<br>",
          "cell_ID: 8999<br>absolute_age: 4<br>relative_age: 3<br>",
          "cell_ID: 9008<br>absolute_age: 5<br>relative_age: 4<br>",
          "cell_ID: 9010<br>absolute_age: 5<br>relative_age: 4<br>",
          "cell_ID: 9013<br>absolute_age: 1<br>relative_age: 0<br>",
          "cell_ID: 9014<br>absolute_age: 1<br>relative_age: 0<br>",
          "cell_ID: 9019<br>absolute_age: 6<br>relative_age: 5<br>",
          "cell_ID: 9020<br>absolute_age: 6<br>relative_age: 5<br>",
          "cell_ID: 9027<br>absolute_age: 9<br>relative_age: 2<br>",
          "cell_ID: 9028<br>absolute_age: 9<br>relative_age: 2<br>",
          "cell_ID: 9029<br>absolute_age: 9<br>relative_age: 2<br>",
          "cell_ID: 9031<br>absolute_age: 9<br>relative_age: 2<br>",
          "cell_ID: 9040<br>absolute_age: 8<br>relative_age: 1<br>",
          "cell_ID: 9041<br>absolute_age: 8<br>relative_age: 1<br>",
          "cell_ID: 9042<br>absolute_age: 8<br>relative_age: 1<br>",
          "cell_ID: 9043<br>absolute_age: 8<br>relative_age: 1<br>",
          "cell_ID: 9051<br>absolute_age: 11<br>relative_age: 4<br>",
          "cell_ID: 9052<br>absolute_age: 11<br>relative_age: 4<br>",
          "cell_ID: 9053<br>absolute_age: 11<br>relative_age: 4<br>",
          "cell_ID: 9055<br>absolute_age: 11<br>relative_age: 4<br>",
          "cell_ID: 9062<br>absolute_age: 10<br>relative_age: 3<br>",
          "cell_ID: 9064<br>absolute_age: 10<br>relative_age: 3<br>",
          "cell_ID: 9065<br>absolute_age: 10<br>relative_age: 3<br>",
          "cell_ID: 9067<br>absolute_age: 10<br>relative_age: 3<br>",
          "cell_ID: 9080<br>absolute_age: 13<br>relative_age: 0<br>",
          "cell_ID: 9081<br>absolute_age: 13<br>relative_age: 0<br>",
          "cell_ID: 9082<br>absolute_age: 13<br>relative_age: 1<br>",
          "cell_ID: 9084<br>absolute_age: 13<br>relative_age: 1<br>",
          "cell_ID: 9086<br>absolute_age: 13<br>relative_age: 0<br>",
          "cell_ID: 9090<br>absolute_age: 13<br>relative_age: 1<br>",
          "cell_ID: 9091<br>absolute_age: 13<br>relative_age: 1<br>",
          "cell_ID: 9095<br>absolute_age: 13<br>relative_age: 0<br>",
          "cell_ID: 9096<br>absolute_age: 12<br>relative_age: 0<br>",
          "cell_ID: 9102<br>absolute_age: 12<br>relative_age: 0<br>",
          "cell_ID: 9103<br>absolute_age: 12<br>relative_age: 0<br>",
          "cell_ID: 9104<br>absolute_age: 12<br>relative_age: 0<br>",
          "cell_ID: 9106<br>absolute_age: 12<br>relative_age: 5<br>",
          "cell_ID: 9108<br>absolute_age: 12<br>relative_age: 5<br>",
          "cell_ID: 9118<br>absolute_age: 14<br>relative_age: 1<br>",
          "cell_ID: 9119<br>absolute_age: 14<br>relative_age: 1<br>",
          "cell_ID: 9120<br>absolute_age: 14<br>relative_age: 2<br>",
          "cell_ID: 9121<br>absolute_age: 7<br>relative_age: 0<br>",
          "cell_ID: 9122<br>absolute_age: 14<br>relative_age: 2<br>",
          "cell_ID: 9123<br>absolute_age: 7<br>relative_age: 0<br>",
          "cell_ID: 9124<br>absolute_age: 7<br>relative_age: 0<br>",
          "cell_ID: 9126<br>absolute_age: 7<br>relative_age: 0<br>",
          "cell_ID: 9127<br>absolute_age: 14<br>relative_age: 1<br>",
          "cell_ID: 9136<br>absolute_age: 14<br>relative_age: 2<br>",
          "cell_ID: 9138<br>absolute_age: 14<br>relative_age: 2<br>",
          "cell_ID: 9143<br>absolute_age: 14<br>relative_age: 1<br>",
          "cell_ID: 9155<br>absolute_age: 15<br>relative_age: 2<br>",
          "cell_ID: 9156<br>absolute_age: 15<br>relative_age: 3<br>",
          "cell_ID: 9159<br>absolute_age: 15<br>relative_age: 2<br>",
          "cell_ID: 9160<br>absolute_age: 15<br>relative_age: 2<br>",
          "cell_ID: 9167<br>absolute_age: 15<br>relative_age: 3<br>",
          "cell_ID: 9168<br>absolute_age: 15<br>relative_age: 2<br>",
          "cell_ID: 9170<br>absolute_age: 15<br>relative_age: 3<br>",
          "cell_ID: 9176<br>absolute_age: 17<br>relative_age: 4<br>",
          "cell_ID: 9178<br>absolute_age: 17<br>relative_age: 1<br>",
          "cell_ID: 9181<br>absolute_age: 17<br>relative_age: 4<br>",
          "cell_ID: 9182<br>absolute_age: 17<br>relative_age: 4<br>",
          "cell_ID: 9191<br>absolute_age: 17<br>relative_age: 1<br>",
          "cell_ID: 9194<br>absolute_age: 17<br>relative_age: 5<br>",
          "cell_ID: 9195<br>absolute_age: 17<br>relative_age: 5<br>",
          "cell_ID: 9196<br>absolute_age: 17<br>relative_age: 5<br>",
          "cell_ID: 9206<br>absolute_age: 17<br>relative_age: 4<br>",
          "cell_ID: 9215<br>absolute_age: 18<br>relative_age: 5<br>"
         ],
         "type": "scatter",
         "x": [
          0.75,
          -10.25,
          2.75,
          -6.75,
          -5.25,
          -8.75,
          -3.75,
          4.25,
          -1.75,
          -0.25,
          6.75,
          5.75,
          -2.75,
          -6,
          0.75,
          -0.25,
          6.75,
          2.75,
          -9.5,
          6.75,
          -0.25,
          0.75,
          -1.75,
          -6.75,
          -10.25,
          3.75,
          2.75,
          -5.25,
          -8.75,
          -3.75,
          4.75,
          -0.25,
          5.75,
          5.75,
          0.75,
          -6.75,
          -10.25,
          3.75,
          6.75,
          -1.75,
          2.75,
          -5.25,
          -3.75,
          -8.75,
          4.75,
          2.25,
          -0.25,
          5.75,
          -2.25,
          3.75,
          6.75,
          3.25,
          -9.25,
          -7.25,
          -0.25,
          5.75,
          -1.75,
          -4.25,
          3.75,
          -3.25,
          4.75,
          -6.25,
          -1.25,
          6.75,
          -5.25,
          2.75,
          -8.25,
          -10.25,
          0.25,
          1.25,
          -10.25,
          -4.25,
          -8.75,
          4.75,
          -5.25,
          0.75,
          -3.25,
          4.625,
          -6.75,
          4.625,
          -4.625,
          0,
          -4.625,
          4.625,
          4.625,
          -4.625,
          -4.625,
          4.625,
          -4.625,
          4.625,
          -7.75,
          -1.5,
          3,
          6.25,
          -7.75,
          -1.5,
          3,
          6.25,
          -7.75,
          3,
          -1.5,
          6.25,
          -7.75,
          3,
          -1.5,
          6.25,
          5.75,
          -2.75,
          -6,
          1.75,
          6.75,
          -9.5,
          4.25,
          -0.25,
          1.75,
          -9.5,
          4.25,
          -6,
          -1.5,
          6.25,
          5.75,
          -2.75,
          -6,
          -7.75,
          1.75,
          -1.5,
          3,
          6.25,
          6.75,
          -9.5,
          4.25,
          -0.25,
          5.75,
          1.75,
          -0.25,
          6.75,
          -9.5,
          -2.75,
          -6,
          5.75,
          0.75,
          -0.25,
          6.75,
          2.75,
          -6,
          -9.5,
          4.25,
          -2.75,
          5.75
         ],
         "y": [
          18,
          18,
          18,
          18,
          18,
          18,
          18,
          18,
          18,
          18,
          18,
          16,
          16,
          16,
          16,
          16,
          16,
          16,
          16,
          19,
          19,
          19,
          19,
          19,
          19,
          19,
          19,
          19,
          19,
          19,
          19,
          20,
          19,
          20,
          20,
          20,
          20,
          20,
          20,
          20,
          20,
          20,
          20,
          20,
          20,
          22,
          22,
          22,
          22,
          22,
          22,
          22,
          22,
          22,
          21,
          21,
          21,
          22,
          21,
          22,
          22,
          22,
          22,
          21,
          22,
          21,
          22,
          22,
          22,
          22,
          21,
          21,
          21,
          21,
          21,
          21,
          21,
          2,
          21,
          3,
          2,
          0,
          3,
          4,
          5,
          5,
          1,
          1,
          6,
          6,
          9,
          9,
          9,
          9,
          8,
          8,
          8,
          8,
          11,
          11,
          11,
          11,
          10,
          10,
          10,
          10,
          13,
          13,
          13,
          13,
          13,
          13,
          13,
          13,
          12,
          12,
          12,
          12,
          12,
          12,
          14,
          14,
          14,
          7,
          14,
          7,
          7,
          7,
          14,
          14,
          14,
          14,
          15,
          15,
          15,
          15,
          15,
          15,
          15,
          17,
          17,
          17,
          17,
          17,
          17,
          17,
          17,
          17,
          18
         ]
        }
       ],
       "layout": {
        "hovermode": "closest",
        "showlegend": true,
        "template": {
         "data": {
          "bar": [
           {
            "error_x": {
             "color": "#2a3f5f"
            },
            "error_y": {
             "color": "#2a3f5f"
            },
            "marker": {
             "line": {
              "color": "#E5ECF6",
              "width": 0.5
             },
             "pattern": {
              "fillmode": "overlay",
              "size": 10,
              "solidity": 0.2
             }
            },
            "type": "bar"
           }
          ],
          "barpolar": [
           {
            "marker": {
             "line": {
              "color": "#E5ECF6",
              "width": 0.5
             },
             "pattern": {
              "fillmode": "overlay",
              "size": 10,
              "solidity": 0.2
             }
            },
            "type": "barpolar"
           }
          ],
          "carpet": [
           {
            "aaxis": {
             "endlinecolor": "#2a3f5f",
             "gridcolor": "white",
             "linecolor": "white",
             "minorgridcolor": "white",
             "startlinecolor": "#2a3f5f"
            },
            "baxis": {
             "endlinecolor": "#2a3f5f",
             "gridcolor": "white",
             "linecolor": "white",
             "minorgridcolor": "white",
             "startlinecolor": "#2a3f5f"
            },
            "type": "carpet"
           }
          ],
          "choropleth": [
           {
            "colorbar": {
             "outlinewidth": 0,
             "ticks": ""
            },
            "type": "choropleth"
           }
          ],
          "contour": [
           {
            "colorbar": {
             "outlinewidth": 0,
             "ticks": ""
            },
            "colorscale": [
             [
              0,
              "#0d0887"
             ],
             [
              0.1111111111111111,
              "#46039f"
             ],
             [
              0.2222222222222222,
              "#7201a8"
             ],
             [
              0.3333333333333333,
              "#9c179e"
             ],
             [
              0.4444444444444444,
              "#bd3786"
             ],
             [
              0.5555555555555556,
              "#d8576b"
             ],
             [
              0.6666666666666666,
              "#ed7953"
             ],
             [
              0.7777777777777778,
              "#fb9f3a"
             ],
             [
              0.8888888888888888,
              "#fdca26"
             ],
             [
              1,
              "#f0f921"
             ]
            ],
            "type": "contour"
           }
          ],
          "contourcarpet": [
           {
            "colorbar": {
             "outlinewidth": 0,
             "ticks": ""
            },
            "type": "contourcarpet"
           }
          ],
          "heatmap": [
           {
            "colorbar": {
             "outlinewidth": 0,
             "ticks": ""
            },
            "colorscale": [
             [
              0,
              "#0d0887"
             ],
             [
              0.1111111111111111,
              "#46039f"
             ],
             [
              0.2222222222222222,
              "#7201a8"
             ],
             [
              0.3333333333333333,
              "#9c179e"
             ],
             [
              0.4444444444444444,
              "#bd3786"
             ],
             [
              0.5555555555555556,
              "#d8576b"
             ],
             [
              0.6666666666666666,
              "#ed7953"
             ],
             [
              0.7777777777777778,
              "#fb9f3a"
             ],
             [
              0.8888888888888888,
              "#fdca26"
             ],
             [
              1,
              "#f0f921"
             ]
            ],
            "type": "heatmap"
           }
          ],
          "heatmapgl": [
           {
            "colorbar": {
             "outlinewidth": 0,
             "ticks": ""
            },
            "colorscale": [
             [
              0,
              "#0d0887"
             ],
             [
              0.1111111111111111,
              "#46039f"
             ],
             [
              0.2222222222222222,
              "#7201a8"
             ],
             [
              0.3333333333333333,
              "#9c179e"
             ],
             [
              0.4444444444444444,
              "#bd3786"
             ],
             [
              0.5555555555555556,
              "#d8576b"
             ],
             [
              0.6666666666666666,
              "#ed7953"
             ],
             [
              0.7777777777777778,
              "#fb9f3a"
             ],
             [
              0.8888888888888888,
              "#fdca26"
             ],
             [
              1,
              "#f0f921"
             ]
            ],
            "type": "heatmapgl"
           }
          ],
          "histogram": [
           {
            "marker": {
             "pattern": {
              "fillmode": "overlay",
              "size": 10,
              "solidity": 0.2
             }
            },
            "type": "histogram"
           }
          ],
          "histogram2d": [
           {
            "colorbar": {
             "outlinewidth": 0,
             "ticks": ""
            },
            "colorscale": [
             [
              0,
              "#0d0887"
             ],
             [
              0.1111111111111111,
              "#46039f"
             ],
             [
              0.2222222222222222,
              "#7201a8"
             ],
             [
              0.3333333333333333,
              "#9c179e"
             ],
             [
              0.4444444444444444,
              "#bd3786"
             ],
             [
              0.5555555555555556,
              "#d8576b"
             ],
             [
              0.6666666666666666,
              "#ed7953"
             ],
             [
              0.7777777777777778,
              "#fb9f3a"
             ],
             [
              0.8888888888888888,
              "#fdca26"
             ],
             [
              1,
              "#f0f921"
             ]
            ],
            "type": "histogram2d"
           }
          ],
          "histogram2dcontour": [
           {
            "colorbar": {
             "outlinewidth": 0,
             "ticks": ""
            },
            "colorscale": [
             [
              0,
              "#0d0887"
             ],
             [
              0.1111111111111111,
              "#46039f"
             ],
             [
              0.2222222222222222,
              "#7201a8"
             ],
             [
              0.3333333333333333,
              "#9c179e"
             ],
             [
              0.4444444444444444,
              "#bd3786"
             ],
             [
              0.5555555555555556,
              "#d8576b"
             ],
             [
              0.6666666666666666,
              "#ed7953"
             ],
             [
              0.7777777777777778,
              "#fb9f3a"
             ],
             [
              0.8888888888888888,
              "#fdca26"
             ],
             [
              1,
              "#f0f921"
             ]
            ],
            "type": "histogram2dcontour"
           }
          ],
          "mesh3d": [
           {
            "colorbar": {
             "outlinewidth": 0,
             "ticks": ""
            },
            "type": "mesh3d"
           }
          ],
          "parcoords": [
           {
            "line": {
             "colorbar": {
              "outlinewidth": 0,
              "ticks": ""
             }
            },
            "type": "parcoords"
           }
          ],
          "pie": [
           {
            "automargin": true,
            "type": "pie"
           }
          ],
          "scatter": [
           {
            "fillpattern": {
             "fillmode": "overlay",
             "size": 10,
             "solidity": 0.2
            },
            "type": "scatter"
           }
          ],
          "scatter3d": [
           {
            "line": {
             "colorbar": {
              "outlinewidth": 0,
              "ticks": ""
             }
            },
            "marker": {
             "colorbar": {
              "outlinewidth": 0,
              "ticks": ""
             }
            },
            "type": "scatter3d"
           }
          ],
          "scattercarpet": [
           {
            "marker": {
             "colorbar": {
              "outlinewidth": 0,
              "ticks": ""
             }
            },
            "type": "scattercarpet"
           }
          ],
          "scattergeo": [
           {
            "marker": {
             "colorbar": {
              "outlinewidth": 0,
              "ticks": ""
             }
            },
            "type": "scattergeo"
           }
          ],
          "scattergl": [
           {
            "marker": {
             "colorbar": {
              "outlinewidth": 0,
              "ticks": ""
             }
            },
            "type": "scattergl"
           }
          ],
          "scattermapbox": [
           {
            "marker": {
             "colorbar": {
              "outlinewidth": 0,
              "ticks": ""
             }
            },
            "type": "scattermapbox"
           }
          ],
          "scatterpolar": [
           {
            "marker": {
             "colorbar": {
              "outlinewidth": 0,
              "ticks": ""
             }
            },
            "type": "scatterpolar"
           }
          ],
          "scatterpolargl": [
           {
            "marker": {
             "colorbar": {
              "outlinewidth": 0,
              "ticks": ""
             }
            },
            "type": "scatterpolargl"
           }
          ],
          "scatterternary": [
           {
            "marker": {
             "colorbar": {
              "outlinewidth": 0,
              "ticks": ""
             }
            },
            "type": "scatterternary"
           }
          ],
          "surface": [
           {
            "colorbar": {
             "outlinewidth": 0,
             "ticks": ""
            },
            "colorscale": [
             [
              0,
              "#0d0887"
             ],
             [
              0.1111111111111111,
              "#46039f"
             ],
             [
              0.2222222222222222,
              "#7201a8"
             ],
             [
              0.3333333333333333,
              "#9c179e"
             ],
             [
              0.4444444444444444,
              "#bd3786"
             ],
             [
              0.5555555555555556,
              "#d8576b"
             ],
             [
              0.6666666666666666,
              "#ed7953"
             ],
             [
              0.7777777777777778,
              "#fb9f3a"
             ],
             [
              0.8888888888888888,
              "#fdca26"
             ],
             [
              1,
              "#f0f921"
             ]
            ],
            "type": "surface"
           }
          ],
          "table": [
           {
            "cells": {
             "fill": {
              "color": "#EBF0F8"
             },
             "line": {
              "color": "white"
             }
            },
            "header": {
             "fill": {
              "color": "#C8D4E3"
             },
             "line": {
              "color": "white"
             }
            },
            "type": "table"
           }
          ]
         },
         "layout": {
          "annotationdefaults": {
           "arrowcolor": "#2a3f5f",
           "arrowhead": 0,
           "arrowwidth": 1
          },
          "autotypenumbers": "strict",
          "coloraxis": {
           "colorbar": {
            "outlinewidth": 0,
            "ticks": ""
           }
          },
          "colorscale": {
           "diverging": [
            [
             0,
             "#8e0152"
            ],
            [
             0.1,
             "#c51b7d"
            ],
            [
             0.2,
             "#de77ae"
            ],
            [
             0.3,
             "#f1b6da"
            ],
            [
             0.4,
             "#fde0ef"
            ],
            [
             0.5,
             "#f7f7f7"
            ],
            [
             0.6,
             "#e6f5d0"
            ],
            [
             0.7,
             "#b8e186"
            ],
            [
             0.8,
             "#7fbc41"
            ],
            [
             0.9,
             "#4d9221"
            ],
            [
             1,
             "#276419"
            ]
           ],
           "sequential": [
            [
             0,
             "#0d0887"
            ],
            [
             0.1111111111111111,
             "#46039f"
            ],
            [
             0.2222222222222222,
             "#7201a8"
            ],
            [
             0.3333333333333333,
             "#9c179e"
            ],
            [
             0.4444444444444444,
             "#bd3786"
            ],
            [
             0.5555555555555556,
             "#d8576b"
            ],
            [
             0.6666666666666666,
             "#ed7953"
            ],
            [
             0.7777777777777778,
             "#fb9f3a"
            ],
            [
             0.8888888888888888,
             "#fdca26"
            ],
            [
             1,
             "#f0f921"
            ]
           ],
           "sequentialminus": [
            [
             0,
             "#0d0887"
            ],
            [
             0.1111111111111111,
             "#46039f"
            ],
            [
             0.2222222222222222,
             "#7201a8"
            ],
            [
             0.3333333333333333,
             "#9c179e"
            ],
            [
             0.4444444444444444,
             "#bd3786"
            ],
            [
             0.5555555555555556,
             "#d8576b"
            ],
            [
             0.6666666666666666,
             "#ed7953"
            ],
            [
             0.7777777777777778,
             "#fb9f3a"
            ],
            [
             0.8888888888888888,
             "#fdca26"
            ],
            [
             1,
             "#f0f921"
            ]
           ]
          },
          "colorway": [
           "#636efa",
           "#EF553B",
           "#00cc96",
           "#ab63fa",
           "#FFA15A",
           "#19d3f3",
           "#FF6692",
           "#B6E880",
           "#FF97FF",
           "#FECB52"
          ],
          "font": {
           "color": "#2a3f5f"
          },
          "geo": {
           "bgcolor": "white",
           "lakecolor": "white",
           "landcolor": "#E5ECF6",
           "showlakes": true,
           "showland": true,
           "subunitcolor": "white"
          },
          "hoverlabel": {
           "align": "left"
          },
          "hovermode": "closest",
          "mapbox": {
           "style": "light"
          },
          "paper_bgcolor": "white",
          "plot_bgcolor": "#E5ECF6",
          "polar": {
           "angularaxis": {
            "gridcolor": "white",
            "linecolor": "white",
            "ticks": ""
           },
           "bgcolor": "#E5ECF6",
           "radialaxis": {
            "gridcolor": "white",
            "linecolor": "white",
            "ticks": ""
           }
          },
          "scene": {
           "xaxis": {
            "backgroundcolor": "#E5ECF6",
            "gridcolor": "white",
            "gridwidth": 2,
            "linecolor": "white",
            "showbackground": true,
            "ticks": "",
            "zerolinecolor": "white"
           },
           "yaxis": {
            "backgroundcolor": "#E5ECF6",
            "gridcolor": "white",
            "gridwidth": 2,
            "linecolor": "white",
            "showbackground": true,
            "ticks": "",
            "zerolinecolor": "white"
           },
           "zaxis": {
            "backgroundcolor": "#E5ECF6",
            "gridcolor": "white",
            "gridwidth": 2,
            "linecolor": "white",
            "showbackground": true,
            "ticks": "",
            "zerolinecolor": "white"
           }
          },
          "shapedefaults": {
           "line": {
            "color": "#2a3f5f"
           }
          },
          "ternary": {
           "aaxis": {
            "gridcolor": "white",
            "linecolor": "white",
            "ticks": ""
           },
           "baxis": {
            "gridcolor": "white",
            "linecolor": "white",
            "ticks": ""
           },
           "bgcolor": "#E5ECF6",
           "caxis": {
            "gridcolor": "white",
            "linecolor": "white",
            "ticks": ""
           }
          },
          "title": {
           "x": 0.05
          },
          "xaxis": {
           "automargin": true,
           "gridcolor": "white",
           "linecolor": "white",
           "ticks": "",
           "title": {
            "standoff": 15
           },
           "zerolinecolor": "white",
           "zerolinewidth": 2
          },
          "yaxis": {
           "automargin": true,
           "gridcolor": "white",
           "linecolor": "white",
           "ticks": "",
           "title": {
            "standoff": 15
           },
           "zerolinecolor": "white",
           "zerolinewidth": 2
          }
         }
        },
        "title": {},
        "xaxis": {
         "showgrid": false,
         "showticklabels": false,
         "zeroline": false
        },
        "yaxis": {
         "autorange": "reversed",
         "showgrid": true,
         "title": {
          "text": "Time (frames)"
         },
         "zeroline": true
        }
       }
      }
     },
     "metadata": {},
     "output_type": "display_data"
    }
   ],
   "source": [
    "model2.add_pycellin_features([\"absolute_age\", \"relative_age\"])\n",
    "model2.update()\n",
    "lin0_2 = model2.data.cell_data[0]\n",
    "lin0_2.plot(node_hover_features=[\"cell_ID\", \"absolute_age\", \"relative_age\"])"
   ]
  },
  {
   "cell_type": "markdown",
   "metadata": {},
   "source": [
    "### No segmentation"
   ]
  },
  {
   "cell_type": "code",
   "execution_count": 11,
   "metadata": {},
   "outputs": [],
   "source": [
    "import pycellin as pc"
   ]
  },
  {
   "cell_type": "code",
   "execution_count": 12,
   "metadata": {},
   "outputs": [
    {
     "name": "stdout",
     "output_type": "stream",
     "text": [
      "Model with 1 lineage.\n"
     ]
    }
   ],
   "source": [
    "xml = \"E:/Pasteur/LS_data/LStoLX/230328GreffeGakaYFPMyogTdtmdxFDBTryplen1-movie01-01-Scene-15-TR37-A01.xml\"\n",
    "model = pc.load_TrackMate_XML(xml)\n",
    "print(model)"
   ]
  },
  {
   "cell_type": "code",
   "execution_count": 13,
   "metadata": {},
   "outputs": [],
   "source": [
    "model.add_pycellin_features([\"relative_age\", \"absolute_age\"])\n",
    "model.add_cycle_data()\n",
    "model.add_pycellin_features([\"division_time\", \"cell_cycle_completeness\"])\n",
    "model.update()"
   ]
  },
  {
   "cell_type": "code",
   "execution_count": 14,
   "metadata": {},
   "outputs": [
    {
     "data": {
      "text/plain": [
       "['cycle_ID',\n",
       " 'cells',\n",
       " 'cycle_length',\n",
       " 'level',\n",
       " 'division_time',\n",
       " 'cell_cycle_completeness',\n",
       " 'cycle_lineage_ID']"
      ]
     },
     "execution_count": 14,
     "metadata": {},
     "output_type": "execute_result"
    }
   ],
   "source": [
    "model.get_cycle_lineage_features()"
   ]
  },
  {
   "cell_type": "code",
   "execution_count": 15,
   "metadata": {},
   "outputs": [
    {
     "data": {
      "application/vnd.plotly.v1+json": {
       "config": {
        "plotlyServerURL": "https://plot.ly"
       },
       "data": [
        {
         "mode": "lines",
         "name": "Edges",
         "type": "scatter",
         "x": [
          0,
          0,
          null,
          0,
          0,
          null,
          0,
          0,
          null,
          0,
          0,
          null,
          0,
          0,
          null,
          0,
          0,
          null,
          0,
          0,
          null,
          0,
          0,
          null,
          0,
          0,
          null,
          0,
          0,
          null,
          0,
          0,
          null,
          0,
          0,
          null,
          0,
          0,
          null,
          0,
          0,
          null,
          0,
          0,
          null,
          0,
          0,
          null,
          0,
          0,
          null,
          0,
          0,
          null,
          0,
          0,
          null,
          0,
          0,
          null,
          0,
          0,
          null,
          0,
          0,
          null,
          0,
          0,
          null,
          0,
          0,
          null,
          0,
          0,
          null,
          0,
          0,
          null,
          0,
          0,
          null,
          0,
          0,
          null,
          0,
          0,
          null,
          0,
          0,
          null,
          0,
          0,
          null,
          0,
          0,
          null,
          0,
          0,
          null,
          0,
          0,
          null,
          0,
          0,
          null,
          0,
          0,
          null,
          0,
          0,
          null,
          0,
          0,
          null,
          0,
          0,
          null,
          0,
          0,
          null,
          0,
          0,
          null,
          0,
          0,
          null,
          0,
          0,
          null,
          0,
          0,
          null,
          0,
          0,
          null,
          0,
          0,
          null,
          0,
          0,
          null,
          0,
          0,
          null,
          0,
          0,
          null,
          0,
          0,
          null,
          0,
          0,
          null,
          0,
          0,
          null,
          0,
          0,
          null,
          0,
          0,
          null,
          0,
          0,
          null,
          0,
          0,
          null,
          0,
          0,
          null,
          0,
          0,
          null,
          0,
          0,
          null,
          0,
          0,
          null,
          0,
          0,
          null,
          0,
          0,
          null,
          0,
          0,
          null,
          0,
          0,
          null,
          0,
          0,
          null,
          0,
          0,
          null,
          0,
          0,
          null,
          0,
          0,
          null,
          0,
          0,
          null,
          0,
          0,
          null,
          0,
          0,
          null,
          0,
          0,
          null,
          0,
          0,
          null,
          0,
          0,
          null,
          0,
          0,
          null,
          0,
          0,
          null,
          0,
          0,
          null,
          0,
          0,
          null,
          0,
          -1,
          null,
          0,
          1,
          null,
          -1,
          -1,
          null,
          1,
          1,
          null,
          1,
          1,
          null,
          -1,
          -1,
          null,
          1,
          1,
          null,
          -1,
          -1,
          null,
          1,
          1,
          null,
          -1,
          -1,
          null,
          1,
          1,
          null,
          -1,
          -1,
          null,
          1,
          1,
          null,
          -1,
          -1,
          null,
          1,
          1,
          null,
          -1,
          -1,
          null,
          1,
          1,
          null,
          -1,
          -1,
          null,
          1,
          1,
          null,
          -1,
          -1,
          null,
          1,
          1,
          null,
          -1,
          -1,
          null,
          1,
          1,
          null,
          -1,
          -1,
          null,
          1,
          1,
          null,
          -1,
          -1,
          null,
          1,
          1,
          null,
          -1,
          -1,
          null,
          1,
          1,
          null,
          -1,
          -1,
          null,
          1,
          1,
          null,
          -1,
          -1,
          null,
          1,
          1,
          null,
          -1,
          -1,
          null,
          1,
          1,
          null,
          -1,
          -1,
          null,
          -1,
          -1,
          null,
          1,
          1,
          null,
          -1,
          -1,
          null,
          1,
          1,
          null,
          -1,
          -1,
          null,
          1,
          1,
          null,
          1,
          1,
          null,
          -1,
          -1,
          null,
          1,
          1,
          null,
          -1,
          -1,
          null,
          1,
          1,
          null,
          -1,
          -1,
          null,
          1,
          1,
          null,
          -1,
          -1,
          null,
          1,
          1,
          null,
          -1,
          -1,
          null,
          1,
          1,
          null,
          -1,
          -1,
          null,
          1,
          1,
          null,
          -1,
          -1,
          null,
          1,
          1,
          null,
          -1,
          -1,
          null,
          1,
          1,
          null,
          -1,
          -1,
          null,
          1,
          1,
          null,
          -1,
          -1,
          null,
          1,
          1,
          null,
          -1,
          -1,
          null,
          1,
          1,
          null,
          -1,
          -1,
          null,
          1,
          1,
          null,
          -1,
          -1,
          null,
          1,
          1,
          null,
          -1,
          -1,
          null,
          1,
          1,
          null,
          -1,
          -1,
          null,
          1,
          1,
          null,
          -1,
          -1,
          null,
          1,
          1,
          null,
          -1,
          -1,
          null,
          1,
          1,
          null,
          -1,
          -1,
          null,
          1,
          1,
          null,
          -1,
          -1,
          null,
          1,
          1,
          null,
          -1,
          -1,
          null,
          1,
          1,
          null,
          -1,
          -1,
          null,
          1,
          1,
          null,
          -1,
          -1,
          null,
          1,
          1,
          null,
          -1,
          -1,
          null,
          1,
          1,
          null,
          -1,
          -1,
          null,
          1,
          1.5,
          null,
          1,
          0.5,
          null,
          -1,
          -0.5,
          null,
          -1,
          -1.5,
          null,
          0.5,
          0.5,
          null,
          -1.5,
          -1.5,
          null,
          1.5,
          1.5,
          null,
          -0.5,
          -0.5,
          null,
          0.5,
          0.5,
          null,
          -1.5,
          -1.5,
          null,
          -0.5,
          -0.5,
          null,
          1.5,
          1.5,
          null,
          -1.5,
          -1.5,
          null,
          -0.5,
          -0.5,
          null,
          1.5,
          1.5,
          null,
          0.5,
          0.5,
          null,
          0.5,
          0.5,
          null,
          -1.5,
          -1.5,
          null,
          -0.5,
          -0.5,
          null,
          1.5,
          1.5,
          null,
          -1.5,
          -1.5,
          null,
          -0.5,
          -0.5,
          null,
          1.5,
          1.5,
          null,
          0.5,
          0.5,
          null,
          0.5,
          0.5,
          null,
          -1.5,
          -1.5,
          null,
          -0.5,
          -0.5,
          null,
          1.5,
          1.5,
          null,
          -1.5,
          -1.5,
          null,
          -0.5,
          -0.5,
          null,
          1.5,
          1.5,
          null,
          0.5,
          0.5,
          null,
          0.5,
          0.5,
          null,
          -1.5,
          -1.5,
          null,
          -0.5,
          -0.5,
          null,
          1.5,
          1.5,
          null,
          -1.5,
          -1.5,
          null,
          -0.5,
          -0.5,
          null,
          1.5,
          1.5,
          null,
          0.5,
          0.5,
          null,
          0.5,
          0.5,
          null,
          -1.5,
          -1.5,
          null,
          -0.5,
          -0.5,
          null,
          1.5,
          1.5,
          null,
          -1.5,
          -1.5,
          null,
          -0.5,
          -0.5,
          null,
          1.5,
          1.5,
          null,
          0.5,
          0.5,
          null,
          0.5,
          0.5,
          null,
          -1.5,
          -1.5,
          null,
          -0.5,
          -0.5,
          null,
          1.5,
          1.5,
          null,
          -1.5,
          -1.5,
          null,
          -0.5,
          -0.5,
          null,
          1.5,
          1.5,
          null,
          0.5,
          0.5,
          null,
          1.5,
          1.5,
          null,
          0.5,
          0.5,
          null,
          -1.5,
          -1.5,
          null,
          -0.5,
          -0.5,
          null,
          -1.5,
          -1.5,
          null,
          -0.5,
          -0.5,
          null,
          1.5,
          1.5,
          null,
          0.5,
          0.5,
          null,
          1.5,
          1.5,
          null,
          0.5,
          0.5,
          null,
          -1.5,
          -1.5,
          null,
          -0.5,
          -0.5,
          null,
          -1.5,
          -1.5,
          null,
          -0.5,
          -0.5,
          null,
          1.5,
          1.5,
          null,
          0.5,
          0.5,
          null,
          1.5,
          1.5,
          null,
          0.5,
          0.5,
          null,
          -1.5,
          -1.5,
          null,
          -0.5,
          -0.5,
          null,
          -1.5,
          -1.5,
          null,
          -0.5,
          -0.5,
          null,
          1.5,
          1.5,
          null,
          0.5,
          0.5,
          null,
          1.5,
          1.5,
          null,
          0.5,
          0.5,
          null,
          -1.5,
          -1.5,
          null,
          -0.5,
          -0.5,
          null,
          -1.5,
          -1.5,
          null,
          -0.5,
          -0.5,
          null,
          1.5,
          1.5,
          null,
          0.5,
          0.5,
          null,
          1.5,
          1.5,
          null,
          0.5,
          0.5,
          null,
          -1.5,
          -1.5,
          null,
          -0.5,
          -0.5,
          null,
          -1.5,
          -1.5,
          null,
          -0.5,
          -0.5,
          null,
          1.5,
          1.5,
          null,
          0.5,
          0.5,
          null,
          1.5,
          1.5,
          null,
          0.5,
          0.5,
          null,
          -1.5,
          -1.5,
          null,
          -0.5,
          -0.5,
          null,
          -1.5,
          -1.5,
          null,
          -0.5,
          -0.5,
          null,
          1.5,
          1.5,
          null,
          0.5,
          0.5,
          null,
          1.5,
          1.5,
          null,
          0.5,
          0.5,
          null,
          -1.5,
          -1.5,
          null,
          -0.5,
          -0.5,
          null,
          -1.5,
          -1.5,
          null,
          -0.5,
          -0.5,
          null,
          1.5,
          1.5,
          null,
          0.5,
          0.5,
          null,
          1.5,
          1.5,
          null,
          0.5,
          0.5,
          null,
          -1.5,
          -1.5,
          null,
          -0.5,
          -0.5,
          null,
          -1.5,
          -1.5,
          null,
          -0.5,
          -0.5,
          null,
          1.5,
          1.5,
          null,
          0.5,
          0.5,
          null,
          1.5,
          1.5,
          null,
          0.5,
          0.5,
          null,
          -1.5,
          -1.5,
          null,
          -0.5,
          -0.5,
          null,
          -1.5,
          -1.5,
          null,
          -0.5,
          -0.5,
          null,
          1.5,
          1.5,
          null,
          0.5,
          0.5,
          null,
          1.5,
          1.5,
          null,
          0.5,
          0.5,
          null,
          -1.5,
          -1.5,
          null,
          -0.5,
          -0.5,
          null,
          -1.5,
          -1.5,
          null,
          -0.5,
          -0.5,
          null,
          1.5,
          1.5,
          null,
          0.5,
          0.5,
          null
         ],
         "y": [
          0,
          1,
          null,
          1,
          2,
          null,
          2,
          3,
          null,
          3,
          4,
          null,
          4,
          5,
          null,
          5,
          6,
          null,
          6,
          7,
          null,
          7,
          8,
          null,
          8,
          9,
          null,
          9,
          10,
          null,
          10,
          11,
          null,
          11,
          12,
          null,
          12,
          13,
          null,
          13,
          14,
          null,
          14,
          15,
          null,
          15,
          16,
          null,
          16,
          17,
          null,
          17,
          18,
          null,
          18,
          19,
          null,
          19,
          20,
          null,
          20,
          21,
          null,
          21,
          22,
          null,
          22,
          23,
          null,
          23,
          24,
          null,
          24,
          25,
          null,
          25,
          26,
          null,
          26,
          27,
          null,
          27,
          28,
          null,
          28,
          29,
          null,
          29,
          30,
          null,
          30,
          31,
          null,
          31,
          32,
          null,
          32,
          33,
          null,
          33,
          34,
          null,
          34,
          35,
          null,
          35,
          36,
          null,
          36,
          37,
          null,
          37,
          38,
          null,
          38,
          39,
          null,
          39,
          40,
          null,
          40,
          41,
          null,
          41,
          42,
          null,
          42,
          43,
          null,
          43,
          44,
          null,
          44,
          45,
          null,
          45,
          46,
          null,
          46,
          47,
          null,
          47,
          48,
          null,
          48,
          49,
          null,
          49,
          50,
          null,
          50,
          51,
          null,
          51,
          52,
          null,
          52,
          53,
          null,
          53,
          54,
          null,
          54,
          55,
          null,
          55,
          56,
          null,
          56,
          57,
          null,
          57,
          58,
          null,
          58,
          59,
          null,
          59,
          60,
          null,
          60,
          61,
          null,
          61,
          62,
          null,
          62,
          63,
          null,
          63,
          64,
          null,
          64,
          65,
          null,
          65,
          66,
          null,
          66,
          67,
          null,
          67,
          68,
          null,
          68,
          69,
          null,
          69,
          70,
          null,
          70,
          71,
          null,
          71,
          72,
          null,
          72,
          73,
          null,
          73,
          74,
          null,
          74,
          75,
          null,
          75,
          76,
          null,
          76,
          77,
          null,
          77,
          78,
          null,
          78,
          79,
          null,
          78,
          79,
          null,
          79,
          80,
          null,
          79,
          80,
          null,
          80,
          81,
          null,
          80,
          81,
          null,
          81,
          82,
          null,
          81,
          82,
          null,
          82,
          83,
          null,
          82,
          83,
          null,
          83,
          84,
          null,
          83,
          84,
          null,
          84,
          85,
          null,
          84,
          85,
          null,
          85,
          86,
          null,
          85,
          86,
          null,
          86,
          87,
          null,
          86,
          87,
          null,
          87,
          88,
          null,
          87,
          88,
          null,
          88,
          89,
          null,
          88,
          89,
          null,
          89,
          90,
          null,
          89,
          90,
          null,
          90,
          91,
          null,
          90,
          91,
          null,
          91,
          92,
          null,
          91,
          92,
          null,
          92,
          93,
          null,
          92,
          93,
          null,
          93,
          94,
          null,
          93,
          94,
          null,
          94,
          95,
          null,
          94,
          95,
          null,
          95,
          96,
          null,
          95,
          96,
          null,
          96,
          97,
          null,
          96,
          97,
          null,
          97,
          98,
          null,
          97,
          98,
          null,
          98,
          99,
          null,
          98,
          99,
          null,
          99,
          100,
          null,
          99,
          100,
          null,
          100,
          101,
          null,
          100,
          101,
          null,
          101,
          102,
          null,
          101,
          102,
          null,
          102,
          103,
          null,
          102,
          103,
          null,
          103,
          104,
          null,
          103,
          104,
          null,
          104,
          105,
          null,
          104,
          105,
          null,
          105,
          106,
          null,
          105,
          106,
          null,
          106,
          107,
          null,
          106,
          107,
          null,
          107,
          108,
          null,
          107,
          108,
          null,
          108,
          109,
          null,
          108,
          109,
          null,
          109,
          110,
          null,
          109,
          110,
          null,
          110,
          111,
          null,
          110,
          111,
          null,
          111,
          112,
          null,
          111,
          112,
          null,
          112,
          113,
          null,
          112,
          113,
          null,
          113,
          114,
          null,
          113,
          114,
          null,
          114,
          115,
          null,
          114,
          115,
          null,
          115,
          116,
          null,
          115,
          116,
          null,
          116,
          117,
          null,
          116,
          117,
          null,
          117,
          118,
          null,
          117,
          118,
          null,
          118,
          119,
          null,
          118,
          119,
          null,
          119,
          120,
          null,
          119,
          120,
          null,
          120,
          121,
          null,
          120,
          121,
          null,
          121,
          122,
          null,
          121,
          122,
          null,
          122,
          123,
          null,
          122,
          123,
          null,
          123,
          124,
          null,
          123,
          124,
          null,
          123,
          124,
          null,
          123,
          124,
          null,
          124,
          125,
          null,
          124,
          125,
          null,
          124,
          125,
          null,
          124,
          125,
          null,
          125,
          126,
          null,
          125,
          126,
          null,
          125,
          126,
          null,
          125,
          126,
          null,
          126,
          127,
          null,
          126,
          127,
          null,
          126,
          127,
          null,
          126,
          127,
          null,
          127,
          128,
          null,
          127,
          128,
          null,
          127,
          128,
          null,
          127,
          128,
          null,
          128,
          129,
          null,
          128,
          129,
          null,
          128,
          129,
          null,
          128,
          129,
          null,
          129,
          130,
          null,
          129,
          130,
          null,
          129,
          130,
          null,
          129,
          130,
          null,
          130,
          131,
          null,
          130,
          131,
          null,
          130,
          131,
          null,
          130,
          131,
          null,
          131,
          132,
          null,
          131,
          132,
          null,
          131,
          132,
          null,
          131,
          132,
          null,
          132,
          133,
          null,
          132,
          133,
          null,
          132,
          133,
          null,
          132,
          133,
          null,
          133,
          134,
          null,
          133,
          134,
          null,
          133,
          134,
          null,
          133,
          134,
          null,
          134,
          135,
          null,
          134,
          135,
          null,
          134,
          135,
          null,
          134,
          135,
          null,
          135,
          136,
          null,
          135,
          136,
          null,
          135,
          136,
          null,
          135,
          136,
          null,
          136,
          137,
          null,
          136,
          137,
          null,
          136,
          137,
          null,
          136,
          137,
          null,
          137,
          138,
          null,
          137,
          138,
          null,
          137,
          138,
          null,
          137,
          138,
          null,
          138,
          139,
          null,
          138,
          139,
          null,
          138,
          139,
          null,
          138,
          139,
          null,
          139,
          140,
          null,
          139,
          140,
          null,
          139,
          140,
          null,
          139,
          140,
          null,
          140,
          141,
          null,
          140,
          141,
          null,
          140,
          141,
          null,
          140,
          141,
          null,
          141,
          142,
          null,
          141,
          142,
          null,
          141,
          142,
          null,
          141,
          142,
          null,
          142,
          143,
          null,
          142,
          143,
          null,
          142,
          143,
          null,
          142,
          143,
          null,
          143,
          144,
          null,
          143,
          144,
          null,
          143,
          144,
          null,
          143,
          144,
          null,
          144,
          145,
          null,
          144,
          145,
          null,
          144,
          145,
          null,
          144,
          145,
          null,
          145,
          146,
          null,
          145,
          146,
          null,
          145,
          146,
          null,
          145,
          146,
          null,
          146,
          147,
          null,
          146,
          147,
          null,
          146,
          147,
          null,
          146,
          147,
          null,
          147,
          148,
          null,
          147,
          148,
          null,
          147,
          148,
          null,
          147,
          148,
          null,
          148,
          149,
          null,
          148,
          149,
          null,
          148,
          149,
          null,
          148,
          149,
          null,
          149,
          150,
          null,
          149,
          150,
          null,
          149,
          150,
          null,
          149,
          150,
          null,
          150,
          151,
          null,
          150,
          151,
          null,
          150,
          151,
          null,
          150,
          151,
          null,
          151,
          152,
          null,
          151,
          152,
          null,
          151,
          152,
          null,
          151,
          152,
          null,
          152,
          153,
          null,
          152,
          153,
          null,
          152,
          153,
          null,
          152,
          153,
          null,
          153,
          154,
          null,
          153,
          154,
          null,
          153,
          154,
          null,
          153,
          154,
          null,
          154,
          155,
          null,
          154,
          155,
          null,
          154,
          155,
          null,
          154,
          155,
          null,
          155,
          156,
          null,
          155,
          156,
          null,
          155,
          156,
          null,
          155,
          156,
          null,
          156,
          157,
          null,
          156,
          157,
          null,
          156,
          157,
          null,
          156,
          157,
          null
         ]
        },
        {
         "hoverinfo": "text",
         "hovertemplate": "%{text}",
         "mode": "markers",
         "name": "lineage_ID: 0",
         "text": [
          "cell_ID: 8247<br>relative_age: 0<br>absolute_age: 0<br>",
          "cell_ID: 8243<br>relative_age: 1<br>absolute_age: 1<br>",
          "cell_ID: 8239<br>relative_age: 2<br>absolute_age: 2<br>",
          "cell_ID: 8235<br>relative_age: 3<br>absolute_age: 3<br>",
          "cell_ID: 8231<br>relative_age: 4<br>absolute_age: 4<br>",
          "cell_ID: 8227<br>relative_age: 5<br>absolute_age: 5<br>",
          "cell_ID: 8223<br>relative_age: 6<br>absolute_age: 6<br>",
          "cell_ID: 8219<br>relative_age: 7<br>absolute_age: 7<br>",
          "cell_ID: 8215<br>relative_age: 8<br>absolute_age: 8<br>",
          "cell_ID: 8211<br>relative_age: 9<br>absolute_age: 9<br>",
          "cell_ID: 8207<br>relative_age: 10<br>absolute_age: 10<br>",
          "cell_ID: 8203<br>relative_age: 11<br>absolute_age: 11<br>",
          "cell_ID: 8199<br>relative_age: 12<br>absolute_age: 12<br>",
          "cell_ID: 8195<br>relative_age: 13<br>absolute_age: 13<br>",
          "cell_ID: 8191<br>relative_age: 14<br>absolute_age: 14<br>",
          "cell_ID: 8187<br>relative_age: 15<br>absolute_age: 15<br>",
          "cell_ID: 8183<br>relative_age: 16<br>absolute_age: 16<br>",
          "cell_ID: 8179<br>relative_age: 17<br>absolute_age: 17<br>",
          "cell_ID: 8175<br>relative_age: 18<br>absolute_age: 18<br>",
          "cell_ID: 8171<br>relative_age: 19<br>absolute_age: 19<br>",
          "cell_ID: 8167<br>relative_age: 20<br>absolute_age: 20<br>",
          "cell_ID: 8163<br>relative_age: 21<br>absolute_age: 21<br>",
          "cell_ID: 8159<br>relative_age: 22<br>absolute_age: 22<br>",
          "cell_ID: 8155<br>relative_age: 23<br>absolute_age: 23<br>",
          "cell_ID: 8151<br>relative_age: 24<br>absolute_age: 24<br>",
          "cell_ID: 8147<br>relative_age: 25<br>absolute_age: 25<br>",
          "cell_ID: 8143<br>relative_age: 26<br>absolute_age: 26<br>",
          "cell_ID: 8139<br>relative_age: 27<br>absolute_age: 27<br>",
          "cell_ID: 8135<br>relative_age: 28<br>absolute_age: 28<br>",
          "cell_ID: 8131<br>relative_age: 29<br>absolute_age: 29<br>",
          "cell_ID: 8127<br>relative_age: 30<br>absolute_age: 30<br>",
          "cell_ID: 8122<br>relative_age: 31<br>absolute_age: 31<br>",
          "cell_ID: 8118<br>relative_age: 32<br>absolute_age: 32<br>",
          "cell_ID: 8114<br>relative_age: 33<br>absolute_age: 33<br>",
          "cell_ID: 8110<br>relative_age: 34<br>absolute_age: 34<br>",
          "cell_ID: 8106<br>relative_age: 35<br>absolute_age: 35<br>",
          "cell_ID: 8102<br>relative_age: 36<br>absolute_age: 36<br>",
          "cell_ID: 8098<br>relative_age: 37<br>absolute_age: 37<br>",
          "cell_ID: 8094<br>relative_age: 38<br>absolute_age: 38<br>",
          "cell_ID: 8090<br>relative_age: 39<br>absolute_age: 39<br>",
          "cell_ID: 8086<br>relative_age: 40<br>absolute_age: 40<br>",
          "cell_ID: 8082<br>relative_age: 41<br>absolute_age: 41<br>",
          "cell_ID: 8078<br>relative_age: 42<br>absolute_age: 42<br>",
          "cell_ID: 8074<br>relative_age: 43<br>absolute_age: 43<br>",
          "cell_ID: 8070<br>relative_age: 44<br>absolute_age: 44<br>",
          "cell_ID: 8066<br>relative_age: 45<br>absolute_age: 45<br>",
          "cell_ID: 8062<br>relative_age: 46<br>absolute_age: 46<br>",
          "cell_ID: 8058<br>relative_age: 47<br>absolute_age: 47<br>",
          "cell_ID: 8054<br>relative_age: 48<br>absolute_age: 48<br>",
          "cell_ID: 8050<br>relative_age: 49<br>absolute_age: 49<br>",
          "cell_ID: 8046<br>relative_age: 50<br>absolute_age: 50<br>",
          "cell_ID: 8042<br>relative_age: 51<br>absolute_age: 51<br>",
          "cell_ID: 8038<br>relative_age: 52<br>absolute_age: 52<br>",
          "cell_ID: 8034<br>relative_age: 53<br>absolute_age: 53<br>",
          "cell_ID: 8030<br>relative_age: 54<br>absolute_age: 54<br>",
          "cell_ID: 8026<br>relative_age: 55<br>absolute_age: 55<br>",
          "cell_ID: 8022<br>relative_age: 56<br>absolute_age: 56<br>",
          "cell_ID: 8018<br>relative_age: 57<br>absolute_age: 57<br>",
          "cell_ID: 8014<br>relative_age: 58<br>absolute_age: 58<br>",
          "cell_ID: 8010<br>relative_age: 59<br>absolute_age: 59<br>",
          "cell_ID: 8006<br>relative_age: 60<br>absolute_age: 60<br>",
          "cell_ID: 8002<br>relative_age: 61<br>absolute_age: 61<br>",
          "cell_ID: 7998<br>relative_age: 62<br>absolute_age: 62<br>",
          "cell_ID: 7994<br>relative_age: 63<br>absolute_age: 63<br>",
          "cell_ID: 7990<br>relative_age: 64<br>absolute_age: 64<br>",
          "cell_ID: 7986<br>relative_age: 65<br>absolute_age: 65<br>",
          "cell_ID: 7982<br>relative_age: 66<br>absolute_age: 66<br>",
          "cell_ID: 7978<br>relative_age: 67<br>absolute_age: 67<br>",
          "cell_ID: 7974<br>relative_age: 68<br>absolute_age: 68<br>",
          "cell_ID: 7970<br>relative_age: 69<br>absolute_age: 69<br>",
          "cell_ID: 7966<br>relative_age: 70<br>absolute_age: 70<br>",
          "cell_ID: 7962<br>relative_age: 71<br>absolute_age: 71<br>",
          "cell_ID: 7958<br>relative_age: 72<br>absolute_age: 72<br>",
          "cell_ID: 7954<br>relative_age: 73<br>absolute_age: 73<br>",
          "cell_ID: 7950<br>relative_age: 74<br>absolute_age: 74<br>",
          "cell_ID: 7946<br>relative_age: 75<br>absolute_age: 75<br>",
          "cell_ID: 7942<br>relative_age: 76<br>absolute_age: 76<br>",
          "cell_ID: 2688<br>relative_age: 77<br>absolute_age: 77<br>",
          "cell_ID: 8252<br>relative_age: 78<br>absolute_age: 78<br>",
          "cell_ID: 2692<br>relative_age: 0<br>absolute_age: 79<br>",
          "cell_ID: 2696<br>relative_age: 0<br>absolute_age: 79<br>",
          "cell_ID: 8257<br>relative_age: 1<br>absolute_age: 80<br>",
          "cell_ID: 8726<br>relative_age: 1<br>absolute_age: 80<br>",
          "cell_ID: 8261<br>relative_age: 2<br>absolute_age: 81<br>",
          "cell_ID: 8730<br>relative_age: 2<br>absolute_age: 81<br>",
          "cell_ID: 8265<br>relative_age: 3<br>absolute_age: 82<br>",
          "cell_ID: 8734<br>relative_age: 3<br>absolute_age: 82<br>",
          "cell_ID: 8269<br>relative_age: 4<br>absolute_age: 83<br>",
          "cell_ID: 8738<br>relative_age: 4<br>absolute_age: 83<br>",
          "cell_ID: 8273<br>relative_age: 5<br>absolute_age: 84<br>",
          "cell_ID: 8742<br>relative_age: 5<br>absolute_age: 84<br>",
          "cell_ID: 8277<br>relative_age: 6<br>absolute_age: 85<br>",
          "cell_ID: 8746<br>relative_age: 6<br>absolute_age: 85<br>",
          "cell_ID: 8281<br>relative_age: 7<br>absolute_age: 86<br>",
          "cell_ID: 8750<br>relative_age: 7<br>absolute_age: 86<br>",
          "cell_ID: 8285<br>relative_age: 8<br>absolute_age: 87<br>",
          "cell_ID: 8754<br>relative_age: 8<br>absolute_age: 87<br>",
          "cell_ID: 8289<br>relative_age: 9<br>absolute_age: 88<br>",
          "cell_ID: 8758<br>relative_age: 9<br>absolute_age: 88<br>",
          "cell_ID: 8293<br>relative_age: 10<br>absolute_age: 89<br>",
          "cell_ID: 8762<br>relative_age: 10<br>absolute_age: 89<br>",
          "cell_ID: 8297<br>relative_age: 11<br>absolute_age: 90<br>",
          "cell_ID: 8766<br>relative_age: 11<br>absolute_age: 90<br>",
          "cell_ID: 8301<br>relative_age: 12<br>absolute_age: 91<br>",
          "cell_ID: 8770<br>relative_age: 12<br>absolute_age: 91<br>",
          "cell_ID: 8305<br>relative_age: 13<br>absolute_age: 92<br>",
          "cell_ID: 8774<br>relative_age: 13<br>absolute_age: 92<br>",
          "cell_ID: 8309<br>relative_age: 14<br>absolute_age: 93<br>",
          "cell_ID: 8778<br>relative_age: 14<br>absolute_age: 93<br>",
          "cell_ID: 8313<br>relative_age: 15<br>absolute_age: 94<br>",
          "cell_ID: 8782<br>relative_age: 15<br>absolute_age: 94<br>",
          "cell_ID: 2700<br>relative_age: 16<br>absolute_age: 95<br>",
          "cell_ID: 8786<br>relative_age: 16<br>absolute_age: 95<br>",
          "cell_ID: 8790<br>relative_age: 17<br>absolute_age: 96<br>",
          "cell_ID: 8319<br>relative_age: 17<br>absolute_age: 96<br>",
          "cell_ID: 8794<br>relative_age: 18<br>absolute_age: 97<br>",
          "cell_ID: 8323<br>relative_age: 18<br>absolute_age: 97<br>",
          "cell_ID: 8798<br>relative_age: 19<br>absolute_age: 98<br>",
          "cell_ID: 8327<br>relative_age: 19<br>absolute_age: 98<br>",
          "cell_ID: 2704<br>relative_age: 20<br>absolute_age: 99<br>",
          "cell_ID: 8802<br>relative_age: 20<br>absolute_age: 99<br>",
          "cell_ID: 8333<br>relative_age: 21<br>absolute_age: 100<br>",
          "cell_ID: 8806<br>relative_age: 21<br>absolute_age: 100<br>",
          "cell_ID: 8337<br>relative_age: 22<br>absolute_age: 101<br>",
          "cell_ID: 8810<br>relative_age: 22<br>absolute_age: 101<br>",
          "cell_ID: 8341<br>relative_age: 23<br>absolute_age: 102<br>",
          "cell_ID: 8814<br>relative_age: 23<br>absolute_age: 102<br>",
          "cell_ID: 8345<br>relative_age: 24<br>absolute_age: 103<br>",
          "cell_ID: 8818<br>relative_age: 24<br>absolute_age: 103<br>",
          "cell_ID: 8349<br>relative_age: 25<br>absolute_age: 104<br>",
          "cell_ID: 8822<br>relative_age: 25<br>absolute_age: 104<br>",
          "cell_ID: 8353<br>relative_age: 26<br>absolute_age: 105<br>",
          "cell_ID: 8826<br>relative_age: 26<br>absolute_age: 105<br>",
          "cell_ID: 8357<br>relative_age: 27<br>absolute_age: 106<br>",
          "cell_ID: 8830<br>relative_age: 27<br>absolute_age: 106<br>",
          "cell_ID: 2708<br>relative_age: 28<br>absolute_age: 107<br>",
          "cell_ID: 8834<br>relative_age: 28<br>absolute_age: 107<br>",
          "cell_ID: 8385<br>relative_age: 29<br>absolute_age: 108<br>",
          "cell_ID: 8838<br>relative_age: 29<br>absolute_age: 108<br>",
          "cell_ID: 8389<br>relative_age: 30<br>absolute_age: 109<br>",
          "cell_ID: 8842<br>relative_age: 30<br>absolute_age: 109<br>",
          "cell_ID: 8393<br>relative_age: 31<br>absolute_age: 110<br>",
          "cell_ID: 8846<br>relative_age: 31<br>absolute_age: 110<br>",
          "cell_ID: 8397<br>relative_age: 32<br>absolute_age: 111<br>",
          "cell_ID: 8850<br>relative_age: 32<br>absolute_age: 111<br>",
          "cell_ID: 8401<br>relative_age: 33<br>absolute_age: 112<br>",
          "cell_ID: 8855<br>relative_age: 33<br>absolute_age: 112<br>",
          "cell_ID: 8405<br>relative_age: 34<br>absolute_age: 113<br>",
          "cell_ID: 8859<br>relative_age: 34<br>absolute_age: 113<br>",
          "cell_ID: 8409<br>relative_age: 35<br>absolute_age: 114<br>",
          "cell_ID: 8863<br>relative_age: 35<br>absolute_age: 114<br>",
          "cell_ID: 8413<br>relative_age: 36<br>absolute_age: 115<br>",
          "cell_ID: 8867<br>relative_age: 36<br>absolute_age: 115<br>",
          "cell_ID: 8417<br>relative_age: 37<br>absolute_age: 116<br>",
          "cell_ID: 8871<br>relative_age: 37<br>absolute_age: 116<br>",
          "cell_ID: 8421<br>relative_age: 38<br>absolute_age: 117<br>",
          "cell_ID: 8875<br>relative_age: 38<br>absolute_age: 117<br>",
          "cell_ID: 2712<br>relative_age: 39<br>absolute_age: 118<br>",
          "cell_ID: 8879<br>relative_age: 39<br>absolute_age: 118<br>",
          "cell_ID: 8426<br>relative_age: 40<br>absolute_age: 119<br>",
          "cell_ID: 8883<br>relative_age: 40<br>absolute_age: 119<br>",
          "cell_ID: 8430<br>relative_age: 41<br>absolute_age: 120<br>",
          "cell_ID: 8887<br>relative_age: 41<br>absolute_age: 120<br>",
          "cell_ID: 8434<br>relative_age: 42<br>absolute_age: 121<br>",
          "cell_ID: 8891<br>relative_age: 42<br>absolute_age: 121<br>",
          "cell_ID: 2716<br>relative_age: 43<br>absolute_age: 122<br>",
          "cell_ID: 8895<br>relative_age: 43<br>absolute_age: 122<br>",
          "cell_ID: 8440<br>relative_age: 44<br>absolute_age: 123<br>",
          "cell_ID: 2738<br>relative_age: 44<br>absolute_age: 123<br>",
          "cell_ID: 2720<br>relative_age: 0<br>absolute_age: 124<br>",
          "cell_ID: 2746<br>relative_age: 0<br>absolute_age: 124<br>",
          "cell_ID: 2724<br>relative_age: 0<br>absolute_age: 124<br>",
          "cell_ID: 2742<br>relative_age: 0<br>absolute_age: 124<br>",
          "cell_ID: 8593<br>relative_age: 1<br>absolute_age: 125<br>",
          "cell_ID: 8900<br>relative_age: 1<br>absolute_age: 125<br>",
          "cell_ID: 9030<br>relative_age: 1<br>absolute_age: 125<br>",
          "cell_ID: 8447<br>relative_age: 1<br>absolute_age: 125<br>",
          "cell_ID: 8904<br>relative_age: 2<br>absolute_age: 126<br>",
          "cell_ID: 9034<br>relative_age: 2<br>absolute_age: 126<br>",
          "cell_ID: 8451<br>relative_age: 2<br>absolute_age: 126<br>",
          "cell_ID: 8597<br>relative_age: 2<br>absolute_age: 126<br>",
          "cell_ID: 8601<br>relative_age: 3<br>absolute_age: 127<br>",
          "cell_ID: 8908<br>relative_age: 3<br>absolute_age: 127<br>",
          "cell_ID: 9038<br>relative_age: 3<br>absolute_age: 127<br>",
          "cell_ID: 8455<br>relative_age: 3<br>absolute_age: 127<br>",
          "cell_ID: 8912<br>relative_age: 4<br>absolute_age: 128<br>",
          "cell_ID: 9042<br>relative_age: 4<br>absolute_age: 128<br>",
          "cell_ID: 8459<br>relative_age: 4<br>absolute_age: 128<br>",
          "cell_ID: 8605<br>relative_age: 4<br>absolute_age: 128<br>",
          "cell_ID: 8609<br>relative_age: 5<br>absolute_age: 129<br>",
          "cell_ID: 8916<br>relative_age: 5<br>absolute_age: 129<br>",
          "cell_ID: 9046<br>relative_age: 5<br>absolute_age: 129<br>",
          "cell_ID: 8463<br>relative_age: 5<br>absolute_age: 129<br>",
          "cell_ID: 8920<br>relative_age: 6<br>absolute_age: 130<br>",
          "cell_ID: 9050<br>relative_age: 6<br>absolute_age: 130<br>",
          "cell_ID: 8467<br>relative_age: 6<br>absolute_age: 130<br>",
          "cell_ID: 8613<br>relative_age: 6<br>absolute_age: 130<br>",
          "cell_ID: 8617<br>relative_age: 7<br>absolute_age: 131<br>",
          "cell_ID: 8924<br>relative_age: 7<br>absolute_age: 131<br>",
          "cell_ID: 9054<br>relative_age: 7<br>absolute_age: 131<br>",
          "cell_ID: 8471<br>relative_age: 7<br>absolute_age: 131<br>",
          "cell_ID: 8928<br>relative_age: 8<br>absolute_age: 132<br>",
          "cell_ID: 9058<br>relative_age: 8<br>absolute_age: 132<br>",
          "cell_ID: 8475<br>relative_age: 8<br>absolute_age: 132<br>",
          "cell_ID: 8621<br>relative_age: 8<br>absolute_age: 132<br>",
          "cell_ID: 8625<br>relative_age: 9<br>absolute_age: 133<br>",
          "cell_ID: 8932<br>relative_age: 9<br>absolute_age: 133<br>",
          "cell_ID: 9062<br>relative_age: 9<br>absolute_age: 133<br>",
          "cell_ID: 8479<br>relative_age: 9<br>absolute_age: 133<br>",
          "cell_ID: 8936<br>relative_age: 10<br>absolute_age: 134<br>",
          "cell_ID: 9066<br>relative_age: 10<br>absolute_age: 134<br>",
          "cell_ID: 8483<br>relative_age: 10<br>absolute_age: 134<br>",
          "cell_ID: 8629<br>relative_age: 10<br>absolute_age: 134<br>",
          "cell_ID: 8635<br>relative_age: 11<br>absolute_age: 135<br>",
          "cell_ID: 8940<br>relative_age: 11<br>absolute_age: 135<br>",
          "cell_ID: 9070<br>relative_age: 11<br>absolute_age: 135<br>",
          "cell_ID: 8487<br>relative_age: 11<br>absolute_age: 135<br>",
          "cell_ID: 8944<br>relative_age: 12<br>absolute_age: 136<br>",
          "cell_ID: 9074<br>relative_age: 12<br>absolute_age: 136<br>",
          "cell_ID: 8508<br>relative_age: 12<br>absolute_age: 136<br>",
          "cell_ID: 8639<br>relative_age: 12<br>absolute_age: 136<br>",
          "cell_ID: 8512<br>relative_age: 13<br>absolute_age: 137<br>",
          "cell_ID: 8643<br>relative_age: 13<br>absolute_age: 137<br>",
          "cell_ID: 8948<br>relative_age: 13<br>absolute_age: 137<br>",
          "cell_ID: 9078<br>relative_age: 13<br>absolute_age: 137<br>",
          "cell_ID: 8952<br>relative_age: 14<br>absolute_age: 138<br>",
          "cell_ID: 9082<br>relative_age: 14<br>absolute_age: 138<br>",
          "cell_ID: 8516<br>relative_age: 14<br>absolute_age: 138<br>",
          "cell_ID: 8647<br>relative_age: 14<br>absolute_age: 138<br>",
          "cell_ID: 8520<br>relative_age: 15<br>absolute_age: 139<br>",
          "cell_ID: 8651<br>relative_age: 15<br>absolute_age: 139<br>",
          "cell_ID: 8956<br>relative_age: 15<br>absolute_age: 139<br>",
          "cell_ID: 9086<br>relative_age: 15<br>absolute_age: 139<br>",
          "cell_ID: 8960<br>relative_age: 16<br>absolute_age: 140<br>",
          "cell_ID: 9090<br>relative_age: 16<br>absolute_age: 140<br>",
          "cell_ID: 8524<br>relative_age: 16<br>absolute_age: 140<br>",
          "cell_ID: 8655<br>relative_age: 16<br>absolute_age: 140<br>",
          "cell_ID: 8528<br>relative_age: 17<br>absolute_age: 141<br>",
          "cell_ID: 8659<br>relative_age: 17<br>absolute_age: 141<br>",
          "cell_ID: 8964<br>relative_age: 17<br>absolute_age: 141<br>",
          "cell_ID: 9094<br>relative_age: 17<br>absolute_age: 141<br>",
          "cell_ID: 8968<br>relative_age: 18<br>absolute_age: 142<br>",
          "cell_ID: 9098<br>relative_age: 18<br>absolute_age: 142<br>",
          "cell_ID: 8532<br>relative_age: 18<br>absolute_age: 142<br>",
          "cell_ID: 8663<br>relative_age: 18<br>absolute_age: 142<br>",
          "cell_ID: 8536<br>relative_age: 19<br>absolute_age: 143<br>",
          "cell_ID: 8667<br>relative_age: 19<br>absolute_age: 143<br>",
          "cell_ID: 8972<br>relative_age: 19<br>absolute_age: 143<br>",
          "cell_ID: 9102<br>relative_age: 19<br>absolute_age: 143<br>",
          "cell_ID: 8976<br>relative_age: 20<br>absolute_age: 144<br>",
          "cell_ID: 9106<br>relative_age: 20<br>absolute_age: 144<br>",
          "cell_ID: 8540<br>relative_age: 20<br>absolute_age: 144<br>",
          "cell_ID: 8671<br>relative_age: 20<br>absolute_age: 144<br>",
          "cell_ID: 8544<br>relative_age: 21<br>absolute_age: 145<br>",
          "cell_ID: 8675<br>relative_age: 21<br>absolute_age: 145<br>",
          "cell_ID: 8980<br>relative_age: 21<br>absolute_age: 145<br>",
          "cell_ID: 9110<br>relative_age: 21<br>absolute_age: 145<br>",
          "cell_ID: 8984<br>relative_age: 22<br>absolute_age: 146<br>",
          "cell_ID: 9114<br>relative_age: 22<br>absolute_age: 146<br>",
          "cell_ID: 8548<br>relative_age: 22<br>absolute_age: 146<br>",
          "cell_ID: 8679<br>relative_age: 22<br>absolute_age: 146<br>",
          "cell_ID: 8552<br>relative_age: 23<br>absolute_age: 147<br>",
          "cell_ID: 8683<br>relative_age: 23<br>absolute_age: 147<br>",
          "cell_ID: 8988<br>relative_age: 23<br>absolute_age: 147<br>",
          "cell_ID: 9118<br>relative_age: 23<br>absolute_age: 147<br>",
          "cell_ID: 8992<br>relative_age: 24<br>absolute_age: 148<br>",
          "cell_ID: 9122<br>relative_age: 24<br>absolute_age: 148<br>",
          "cell_ID: 8556<br>relative_age: 24<br>absolute_age: 148<br>",
          "cell_ID: 8687<br>relative_age: 24<br>absolute_age: 148<br>",
          "cell_ID: 8560<br>relative_age: 25<br>absolute_age: 149<br>",
          "cell_ID: 8691<br>relative_age: 25<br>absolute_age: 149<br>",
          "cell_ID: 8996<br>relative_age: 25<br>absolute_age: 149<br>",
          "cell_ID: 9126<br>relative_age: 25<br>absolute_age: 149<br>",
          "cell_ID: 9000<br>relative_age: 26<br>absolute_age: 150<br>",
          "cell_ID: 9130<br>relative_age: 26<br>absolute_age: 150<br>",
          "cell_ID: 8564<br>relative_age: 26<br>absolute_age: 150<br>",
          "cell_ID: 8695<br>relative_age: 26<br>absolute_age: 150<br>",
          "cell_ID: 8568<br>relative_age: 27<br>absolute_age: 151<br>",
          "cell_ID: 8699<br>relative_age: 27<br>absolute_age: 151<br>",
          "cell_ID: 9004<br>relative_age: 27<br>absolute_age: 151<br>",
          "cell_ID: 9134<br>relative_age: 27<br>absolute_age: 151<br>",
          "cell_ID: 9008<br>relative_age: 28<br>absolute_age: 152<br>",
          "cell_ID: 9138<br>relative_age: 28<br>absolute_age: 152<br>",
          "cell_ID: 8572<br>relative_age: 28<br>absolute_age: 152<br>",
          "cell_ID: 8703<br>relative_age: 28<br>absolute_age: 152<br>",
          "cell_ID: 8576<br>relative_age: 29<br>absolute_age: 153<br>",
          "cell_ID: 8707<br>relative_age: 29<br>absolute_age: 153<br>",
          "cell_ID: 9012<br>relative_age: 29<br>absolute_age: 153<br>",
          "cell_ID: 9142<br>relative_age: 29<br>absolute_age: 153<br>",
          "cell_ID: 9016<br>relative_age: 30<br>absolute_age: 154<br>",
          "cell_ID: 9146<br>relative_age: 30<br>absolute_age: 154<br>",
          "cell_ID: 8580<br>relative_age: 30<br>absolute_age: 154<br>",
          "cell_ID: 8711<br>relative_age: 30<br>absolute_age: 154<br>",
          "cell_ID: 8584<br>relative_age: 31<br>absolute_age: 155<br>",
          "cell_ID: 8715<br>relative_age: 31<br>absolute_age: 155<br>",
          "cell_ID: 9020<br>relative_age: 31<br>absolute_age: 155<br>",
          "cell_ID: 9150<br>relative_age: 31<br>absolute_age: 155<br>",
          "cell_ID: 9024<br>relative_age: 32<br>absolute_age: 156<br>",
          "cell_ID: 9154<br>relative_age: 32<br>absolute_age: 156<br>",
          "cell_ID: 8588<br>relative_age: 32<br>absolute_age: 156<br>",
          "cell_ID: 8719<br>relative_age: 32<br>absolute_age: 156<br>",
          "cell_ID: 2729<br>relative_age: 33<br>absolute_age: 157<br>",
          "cell_ID: 2755<br>relative_age: 33<br>absolute_age: 157<br>",
          "cell_ID: 2734<br>relative_age: 33<br>absolute_age: 157<br>",
          "cell_ID: 2750<br>relative_age: 33<br>absolute_age: 157<br>"
         ],
         "type": "scatter",
         "x": [
          0,
          0,
          0,
          0,
          0,
          0,
          0,
          0,
          0,
          0,
          0,
          0,
          0,
          0,
          0,
          0,
          0,
          0,
          0,
          0,
          0,
          0,
          0,
          0,
          0,
          0,
          0,
          0,
          0,
          0,
          0,
          0,
          0,
          0,
          0,
          0,
          0,
          0,
          0,
          0,
          0,
          0,
          0,
          0,
          0,
          0,
          0,
          0,
          0,
          0,
          0,
          0,
          0,
          0,
          0,
          0,
          0,
          0,
          0,
          0,
          0,
          0,
          0,
          0,
          0,
          0,
          0,
          0,
          0,
          0,
          0,
          0,
          0,
          0,
          0,
          0,
          0,
          0,
          0,
          -1,
          1,
          1,
          -1,
          1,
          -1,
          1,
          -1,
          1,
          -1,
          1,
          -1,
          1,
          -1,
          1,
          -1,
          1,
          -1,
          1,
          -1,
          1,
          -1,
          1,
          -1,
          1,
          -1,
          1,
          -1,
          1,
          -1,
          1,
          -1,
          1,
          -1,
          -1,
          1,
          -1,
          1,
          -1,
          1,
          1,
          -1,
          1,
          -1,
          1,
          -1,
          1,
          -1,
          1,
          -1,
          1,
          -1,
          1,
          -1,
          1,
          -1,
          1,
          -1,
          1,
          -1,
          1,
          -1,
          1,
          -1,
          1,
          -1,
          1,
          -1,
          1,
          -1,
          1,
          -1,
          1,
          -1,
          1,
          -1,
          1,
          -1,
          1,
          -1,
          1,
          -1,
          1,
          -1,
          1,
          -1,
          1,
          -1,
          1,
          -1,
          0.5,
          -1.5,
          1.5,
          -0.5,
          0.5,
          -1.5,
          -0.5,
          1.5,
          -1.5,
          -0.5,
          1.5,
          0.5,
          0.5,
          -1.5,
          -0.5,
          1.5,
          -1.5,
          -0.5,
          1.5,
          0.5,
          0.5,
          -1.5,
          -0.5,
          1.5,
          -1.5,
          -0.5,
          1.5,
          0.5,
          0.5,
          -1.5,
          -0.5,
          1.5,
          -1.5,
          -0.5,
          1.5,
          0.5,
          0.5,
          -1.5,
          -0.5,
          1.5,
          -1.5,
          -0.5,
          1.5,
          0.5,
          0.5,
          -1.5,
          -0.5,
          1.5,
          -1.5,
          -0.5,
          1.5,
          0.5,
          1.5,
          0.5,
          -1.5,
          -0.5,
          -1.5,
          -0.5,
          1.5,
          0.5,
          1.5,
          0.5,
          -1.5,
          -0.5,
          -1.5,
          -0.5,
          1.5,
          0.5,
          1.5,
          0.5,
          -1.5,
          -0.5,
          -1.5,
          -0.5,
          1.5,
          0.5,
          1.5,
          0.5,
          -1.5,
          -0.5,
          -1.5,
          -0.5,
          1.5,
          0.5,
          1.5,
          0.5,
          -1.5,
          -0.5,
          -1.5,
          -0.5,
          1.5,
          0.5,
          1.5,
          0.5,
          -1.5,
          -0.5,
          -1.5,
          -0.5,
          1.5,
          0.5,
          1.5,
          0.5,
          -1.5,
          -0.5,
          -1.5,
          -0.5,
          1.5,
          0.5,
          1.5,
          0.5,
          -1.5,
          -0.5,
          -1.5,
          -0.5,
          1.5,
          0.5,
          1.5,
          0.5,
          -1.5,
          -0.5,
          -1.5,
          -0.5,
          1.5,
          0.5,
          1.5,
          0.5,
          -1.5,
          -0.5,
          -1.5,
          -0.5,
          1.5,
          0.5,
          -0.5,
          1.5,
          -1.5,
          0.5
         ],
         "y": [
          0,
          1,
          2,
          3,
          4,
          5,
          6,
          7,
          8,
          9,
          10,
          11,
          12,
          13,
          14,
          15,
          16,
          17,
          18,
          19,
          20,
          21,
          22,
          23,
          24,
          25,
          26,
          27,
          28,
          29,
          30,
          31,
          32,
          33,
          34,
          35,
          36,
          37,
          38,
          39,
          40,
          41,
          42,
          43,
          44,
          45,
          46,
          47,
          48,
          49,
          50,
          51,
          52,
          53,
          54,
          55,
          56,
          57,
          58,
          59,
          60,
          61,
          62,
          63,
          64,
          65,
          66,
          67,
          68,
          69,
          70,
          71,
          72,
          73,
          74,
          75,
          76,
          77,
          78,
          79,
          79,
          80,
          80,
          81,
          81,
          82,
          82,
          83,
          83,
          84,
          84,
          85,
          85,
          86,
          86,
          87,
          87,
          88,
          88,
          89,
          89,
          90,
          90,
          91,
          91,
          92,
          92,
          93,
          93,
          94,
          94,
          95,
          95,
          96,
          96,
          97,
          97,
          98,
          98,
          99,
          99,
          100,
          100,
          101,
          101,
          102,
          102,
          103,
          103,
          104,
          104,
          105,
          105,
          106,
          106,
          107,
          107,
          108,
          108,
          109,
          109,
          110,
          110,
          111,
          111,
          112,
          112,
          113,
          113,
          114,
          114,
          115,
          115,
          116,
          116,
          117,
          117,
          118,
          118,
          119,
          119,
          120,
          120,
          121,
          121,
          122,
          122,
          123,
          123,
          124,
          124,
          124,
          124,
          125,
          125,
          125,
          125,
          126,
          126,
          126,
          126,
          127,
          127,
          127,
          127,
          128,
          128,
          128,
          128,
          129,
          129,
          129,
          129,
          130,
          130,
          130,
          130,
          131,
          131,
          131,
          131,
          132,
          132,
          132,
          132,
          133,
          133,
          133,
          133,
          134,
          134,
          134,
          134,
          135,
          135,
          135,
          135,
          136,
          136,
          136,
          136,
          137,
          137,
          137,
          137,
          138,
          138,
          138,
          138,
          139,
          139,
          139,
          139,
          140,
          140,
          140,
          140,
          141,
          141,
          141,
          141,
          142,
          142,
          142,
          142,
          143,
          143,
          143,
          143,
          144,
          144,
          144,
          144,
          145,
          145,
          145,
          145,
          146,
          146,
          146,
          146,
          147,
          147,
          147,
          147,
          148,
          148,
          148,
          148,
          149,
          149,
          149,
          149,
          150,
          150,
          150,
          150,
          151,
          151,
          151,
          151,
          152,
          152,
          152,
          152,
          153,
          153,
          153,
          153,
          154,
          154,
          154,
          154,
          155,
          155,
          155,
          155,
          156,
          156,
          156,
          156,
          157,
          157,
          157,
          157
         ]
        }
       ],
       "layout": {
        "hovermode": "closest",
        "showlegend": true,
        "template": {
         "data": {
          "bar": [
           {
            "error_x": {
             "color": "#2a3f5f"
            },
            "error_y": {
             "color": "#2a3f5f"
            },
            "marker": {
             "line": {
              "color": "#E5ECF6",
              "width": 0.5
             },
             "pattern": {
              "fillmode": "overlay",
              "size": 10,
              "solidity": 0.2
             }
            },
            "type": "bar"
           }
          ],
          "barpolar": [
           {
            "marker": {
             "line": {
              "color": "#E5ECF6",
              "width": 0.5
             },
             "pattern": {
              "fillmode": "overlay",
              "size": 10,
              "solidity": 0.2
             }
            },
            "type": "barpolar"
           }
          ],
          "carpet": [
           {
            "aaxis": {
             "endlinecolor": "#2a3f5f",
             "gridcolor": "white",
             "linecolor": "white",
             "minorgridcolor": "white",
             "startlinecolor": "#2a3f5f"
            },
            "baxis": {
             "endlinecolor": "#2a3f5f",
             "gridcolor": "white",
             "linecolor": "white",
             "minorgridcolor": "white",
             "startlinecolor": "#2a3f5f"
            },
            "type": "carpet"
           }
          ],
          "choropleth": [
           {
            "colorbar": {
             "outlinewidth": 0,
             "ticks": ""
            },
            "type": "choropleth"
           }
          ],
          "contour": [
           {
            "colorbar": {
             "outlinewidth": 0,
             "ticks": ""
            },
            "colorscale": [
             [
              0,
              "#0d0887"
             ],
             [
              0.1111111111111111,
              "#46039f"
             ],
             [
              0.2222222222222222,
              "#7201a8"
             ],
             [
              0.3333333333333333,
              "#9c179e"
             ],
             [
              0.4444444444444444,
              "#bd3786"
             ],
             [
              0.5555555555555556,
              "#d8576b"
             ],
             [
              0.6666666666666666,
              "#ed7953"
             ],
             [
              0.7777777777777778,
              "#fb9f3a"
             ],
             [
              0.8888888888888888,
              "#fdca26"
             ],
             [
              1,
              "#f0f921"
             ]
            ],
            "type": "contour"
           }
          ],
          "contourcarpet": [
           {
            "colorbar": {
             "outlinewidth": 0,
             "ticks": ""
            },
            "type": "contourcarpet"
           }
          ],
          "heatmap": [
           {
            "colorbar": {
             "outlinewidth": 0,
             "ticks": ""
            },
            "colorscale": [
             [
              0,
              "#0d0887"
             ],
             [
              0.1111111111111111,
              "#46039f"
             ],
             [
              0.2222222222222222,
              "#7201a8"
             ],
             [
              0.3333333333333333,
              "#9c179e"
             ],
             [
              0.4444444444444444,
              "#bd3786"
             ],
             [
              0.5555555555555556,
              "#d8576b"
             ],
             [
              0.6666666666666666,
              "#ed7953"
             ],
             [
              0.7777777777777778,
              "#fb9f3a"
             ],
             [
              0.8888888888888888,
              "#fdca26"
             ],
             [
              1,
              "#f0f921"
             ]
            ],
            "type": "heatmap"
           }
          ],
          "heatmapgl": [
           {
            "colorbar": {
             "outlinewidth": 0,
             "ticks": ""
            },
            "colorscale": [
             [
              0,
              "#0d0887"
             ],
             [
              0.1111111111111111,
              "#46039f"
             ],
             [
              0.2222222222222222,
              "#7201a8"
             ],
             [
              0.3333333333333333,
              "#9c179e"
             ],
             [
              0.4444444444444444,
              "#bd3786"
             ],
             [
              0.5555555555555556,
              "#d8576b"
             ],
             [
              0.6666666666666666,
              "#ed7953"
             ],
             [
              0.7777777777777778,
              "#fb9f3a"
             ],
             [
              0.8888888888888888,
              "#fdca26"
             ],
             [
              1,
              "#f0f921"
             ]
            ],
            "type": "heatmapgl"
           }
          ],
          "histogram": [
           {
            "marker": {
             "pattern": {
              "fillmode": "overlay",
              "size": 10,
              "solidity": 0.2
             }
            },
            "type": "histogram"
           }
          ],
          "histogram2d": [
           {
            "colorbar": {
             "outlinewidth": 0,
             "ticks": ""
            },
            "colorscale": [
             [
              0,
              "#0d0887"
             ],
             [
              0.1111111111111111,
              "#46039f"
             ],
             [
              0.2222222222222222,
              "#7201a8"
             ],
             [
              0.3333333333333333,
              "#9c179e"
             ],
             [
              0.4444444444444444,
              "#bd3786"
             ],
             [
              0.5555555555555556,
              "#d8576b"
             ],
             [
              0.6666666666666666,
              "#ed7953"
             ],
             [
              0.7777777777777778,
              "#fb9f3a"
             ],
             [
              0.8888888888888888,
              "#fdca26"
             ],
             [
              1,
              "#f0f921"
             ]
            ],
            "type": "histogram2d"
           }
          ],
          "histogram2dcontour": [
           {
            "colorbar": {
             "outlinewidth": 0,
             "ticks": ""
            },
            "colorscale": [
             [
              0,
              "#0d0887"
             ],
             [
              0.1111111111111111,
              "#46039f"
             ],
             [
              0.2222222222222222,
              "#7201a8"
             ],
             [
              0.3333333333333333,
              "#9c179e"
             ],
             [
              0.4444444444444444,
              "#bd3786"
             ],
             [
              0.5555555555555556,
              "#d8576b"
             ],
             [
              0.6666666666666666,
              "#ed7953"
             ],
             [
              0.7777777777777778,
              "#fb9f3a"
             ],
             [
              0.8888888888888888,
              "#fdca26"
             ],
             [
              1,
              "#f0f921"
             ]
            ],
            "type": "histogram2dcontour"
           }
          ],
          "mesh3d": [
           {
            "colorbar": {
             "outlinewidth": 0,
             "ticks": ""
            },
            "type": "mesh3d"
           }
          ],
          "parcoords": [
           {
            "line": {
             "colorbar": {
              "outlinewidth": 0,
              "ticks": ""
             }
            },
            "type": "parcoords"
           }
          ],
          "pie": [
           {
            "automargin": true,
            "type": "pie"
           }
          ],
          "scatter": [
           {
            "fillpattern": {
             "fillmode": "overlay",
             "size": 10,
             "solidity": 0.2
            },
            "type": "scatter"
           }
          ],
          "scatter3d": [
           {
            "line": {
             "colorbar": {
              "outlinewidth": 0,
              "ticks": ""
             }
            },
            "marker": {
             "colorbar": {
              "outlinewidth": 0,
              "ticks": ""
             }
            },
            "type": "scatter3d"
           }
          ],
          "scattercarpet": [
           {
            "marker": {
             "colorbar": {
              "outlinewidth": 0,
              "ticks": ""
             }
            },
            "type": "scattercarpet"
           }
          ],
          "scattergeo": [
           {
            "marker": {
             "colorbar": {
              "outlinewidth": 0,
              "ticks": ""
             }
            },
            "type": "scattergeo"
           }
          ],
          "scattergl": [
           {
            "marker": {
             "colorbar": {
              "outlinewidth": 0,
              "ticks": ""
             }
            },
            "type": "scattergl"
           }
          ],
          "scattermapbox": [
           {
            "marker": {
             "colorbar": {
              "outlinewidth": 0,
              "ticks": ""
             }
            },
            "type": "scattermapbox"
           }
          ],
          "scatterpolar": [
           {
            "marker": {
             "colorbar": {
              "outlinewidth": 0,
              "ticks": ""
             }
            },
            "type": "scatterpolar"
           }
          ],
          "scatterpolargl": [
           {
            "marker": {
             "colorbar": {
              "outlinewidth": 0,
              "ticks": ""
             }
            },
            "type": "scatterpolargl"
           }
          ],
          "scatterternary": [
           {
            "marker": {
             "colorbar": {
              "outlinewidth": 0,
              "ticks": ""
             }
            },
            "type": "scatterternary"
           }
          ],
          "surface": [
           {
            "colorbar": {
             "outlinewidth": 0,
             "ticks": ""
            },
            "colorscale": [
             [
              0,
              "#0d0887"
             ],
             [
              0.1111111111111111,
              "#46039f"
             ],
             [
              0.2222222222222222,
              "#7201a8"
             ],
             [
              0.3333333333333333,
              "#9c179e"
             ],
             [
              0.4444444444444444,
              "#bd3786"
             ],
             [
              0.5555555555555556,
              "#d8576b"
             ],
             [
              0.6666666666666666,
              "#ed7953"
             ],
             [
              0.7777777777777778,
              "#fb9f3a"
             ],
             [
              0.8888888888888888,
              "#fdca26"
             ],
             [
              1,
              "#f0f921"
             ]
            ],
            "type": "surface"
           }
          ],
          "table": [
           {
            "cells": {
             "fill": {
              "color": "#EBF0F8"
             },
             "line": {
              "color": "white"
             }
            },
            "header": {
             "fill": {
              "color": "#C8D4E3"
             },
             "line": {
              "color": "white"
             }
            },
            "type": "table"
           }
          ]
         },
         "layout": {
          "annotationdefaults": {
           "arrowcolor": "#2a3f5f",
           "arrowhead": 0,
           "arrowwidth": 1
          },
          "autotypenumbers": "strict",
          "coloraxis": {
           "colorbar": {
            "outlinewidth": 0,
            "ticks": ""
           }
          },
          "colorscale": {
           "diverging": [
            [
             0,
             "#8e0152"
            ],
            [
             0.1,
             "#c51b7d"
            ],
            [
             0.2,
             "#de77ae"
            ],
            [
             0.3,
             "#f1b6da"
            ],
            [
             0.4,
             "#fde0ef"
            ],
            [
             0.5,
             "#f7f7f7"
            ],
            [
             0.6,
             "#e6f5d0"
            ],
            [
             0.7,
             "#b8e186"
            ],
            [
             0.8,
             "#7fbc41"
            ],
            [
             0.9,
             "#4d9221"
            ],
            [
             1,
             "#276419"
            ]
           ],
           "sequential": [
            [
             0,
             "#0d0887"
            ],
            [
             0.1111111111111111,
             "#46039f"
            ],
            [
             0.2222222222222222,
             "#7201a8"
            ],
            [
             0.3333333333333333,
             "#9c179e"
            ],
            [
             0.4444444444444444,
             "#bd3786"
            ],
            [
             0.5555555555555556,
             "#d8576b"
            ],
            [
             0.6666666666666666,
             "#ed7953"
            ],
            [
             0.7777777777777778,
             "#fb9f3a"
            ],
            [
             0.8888888888888888,
             "#fdca26"
            ],
            [
             1,
             "#f0f921"
            ]
           ],
           "sequentialminus": [
            [
             0,
             "#0d0887"
            ],
            [
             0.1111111111111111,
             "#46039f"
            ],
            [
             0.2222222222222222,
             "#7201a8"
            ],
            [
             0.3333333333333333,
             "#9c179e"
            ],
            [
             0.4444444444444444,
             "#bd3786"
            ],
            [
             0.5555555555555556,
             "#d8576b"
            ],
            [
             0.6666666666666666,
             "#ed7953"
            ],
            [
             0.7777777777777778,
             "#fb9f3a"
            ],
            [
             0.8888888888888888,
             "#fdca26"
            ],
            [
             1,
             "#f0f921"
            ]
           ]
          },
          "colorway": [
           "#636efa",
           "#EF553B",
           "#00cc96",
           "#ab63fa",
           "#FFA15A",
           "#19d3f3",
           "#FF6692",
           "#B6E880",
           "#FF97FF",
           "#FECB52"
          ],
          "font": {
           "color": "#2a3f5f"
          },
          "geo": {
           "bgcolor": "white",
           "lakecolor": "white",
           "landcolor": "#E5ECF6",
           "showlakes": true,
           "showland": true,
           "subunitcolor": "white"
          },
          "hoverlabel": {
           "align": "left"
          },
          "hovermode": "closest",
          "mapbox": {
           "style": "light"
          },
          "paper_bgcolor": "white",
          "plot_bgcolor": "#E5ECF6",
          "polar": {
           "angularaxis": {
            "gridcolor": "white",
            "linecolor": "white",
            "ticks": ""
           },
           "bgcolor": "#E5ECF6",
           "radialaxis": {
            "gridcolor": "white",
            "linecolor": "white",
            "ticks": ""
           }
          },
          "scene": {
           "xaxis": {
            "backgroundcolor": "#E5ECF6",
            "gridcolor": "white",
            "gridwidth": 2,
            "linecolor": "white",
            "showbackground": true,
            "ticks": "",
            "zerolinecolor": "white"
           },
           "yaxis": {
            "backgroundcolor": "#E5ECF6",
            "gridcolor": "white",
            "gridwidth": 2,
            "linecolor": "white",
            "showbackground": true,
            "ticks": "",
            "zerolinecolor": "white"
           },
           "zaxis": {
            "backgroundcolor": "#E5ECF6",
            "gridcolor": "white",
            "gridwidth": 2,
            "linecolor": "white",
            "showbackground": true,
            "ticks": "",
            "zerolinecolor": "white"
           }
          },
          "shapedefaults": {
           "line": {
            "color": "#2a3f5f"
           }
          },
          "ternary": {
           "aaxis": {
            "gridcolor": "white",
            "linecolor": "white",
            "ticks": ""
           },
           "baxis": {
            "gridcolor": "white",
            "linecolor": "white",
            "ticks": ""
           },
           "bgcolor": "#E5ECF6",
           "caxis": {
            "gridcolor": "white",
            "linecolor": "white",
            "ticks": ""
           }
          },
          "title": {
           "x": 0.05
          },
          "xaxis": {
           "automargin": true,
           "gridcolor": "white",
           "linecolor": "white",
           "ticks": "",
           "title": {
            "standoff": 15
           },
           "zerolinecolor": "white",
           "zerolinewidth": 2
          },
          "yaxis": {
           "automargin": true,
           "gridcolor": "white",
           "linecolor": "white",
           "ticks": "",
           "title": {
            "standoff": 15
           },
           "zerolinecolor": "white",
           "zerolinewidth": 2
          }
         }
        },
        "title": {},
        "xaxis": {
         "showgrid": false,
         "showticklabels": false,
         "zeroline": false
        },
        "yaxis": {
         "autorange": "reversed",
         "showgrid": true,
         "title": {
          "text": "Time (frames)"
         },
         "zeroline": true
        }
       }
      }
     },
     "metadata": {},
     "output_type": "display_data"
    }
   ],
   "source": [
    "lin0 = model.data.cell_data[0]\n",
    "lin0.plot(node_hover_features=[\"cell_ID\", \"relative_age\", \"absolute_age\"])"
   ]
  },
  {
   "cell_type": "code",
   "execution_count": 16,
   "metadata": {},
   "outputs": [
    {
     "data": {
      "application/vnd.plotly.v1+json": {
       "config": {
        "plotlyServerURL": "https://plot.ly"
       },
       "data": [
        {
         "mode": "lines",
         "name": "Edges",
         "type": "scatter",
         "x": [
          0,
          1,
          null,
          0,
          -1,
          null,
          -1,
          -1.5,
          null,
          -1,
          -0.5,
          null,
          1,
          0.5,
          null,
          1,
          1.5,
          null
         ],
         "y": [
          0,
          1,
          null,
          0,
          1,
          null,
          1,
          2,
          null,
          1,
          2,
          null,
          1,
          2,
          null,
          1,
          2,
          null
         ]
        },
        {
         "hoverinfo": "text",
         "hovertemplate": "%{text}",
         "mode": "markers",
         "name": "",
         "text": [
          "cycle_ID: 8252<br>level: 0<br>division_time: 79<br>cell_cycle_completeness: False<br>",
          "cycle_ID: 8440<br>level: 1<br>division_time: 45<br>cell_cycle_completeness: True<br>",
          "cycle_ID: 2738<br>level: 1<br>division_time: 45<br>cell_cycle_completeness: True<br>",
          "cycle_ID: 2729<br>level: 2<br>division_time: 34<br>cell_cycle_completeness: False<br>",
          "cycle_ID: 2755<br>level: 2<br>division_time: 34<br>cell_cycle_completeness: False<br>",
          "cycle_ID: 2734<br>level: 2<br>division_time: 34<br>cell_cycle_completeness: False<br>",
          "cycle_ID: 2750<br>level: 2<br>division_time: 34<br>cell_cycle_completeness: False<br>"
         ],
         "type": "scatter",
         "x": [
          0,
          -1,
          1,
          0.5,
          -1.5,
          1.5,
          -0.5
         ],
         "y": [
          0,
          1,
          1,
          2,
          2,
          2,
          2
         ]
        }
       ],
       "layout": {
        "hovermode": "closest",
        "showlegend": true,
        "template": {
         "data": {
          "bar": [
           {
            "error_x": {
             "color": "#2a3f5f"
            },
            "error_y": {
             "color": "#2a3f5f"
            },
            "marker": {
             "line": {
              "color": "#E5ECF6",
              "width": 0.5
             },
             "pattern": {
              "fillmode": "overlay",
              "size": 10,
              "solidity": 0.2
             }
            },
            "type": "bar"
           }
          ],
          "barpolar": [
           {
            "marker": {
             "line": {
              "color": "#E5ECF6",
              "width": 0.5
             },
             "pattern": {
              "fillmode": "overlay",
              "size": 10,
              "solidity": 0.2
             }
            },
            "type": "barpolar"
           }
          ],
          "carpet": [
           {
            "aaxis": {
             "endlinecolor": "#2a3f5f",
             "gridcolor": "white",
             "linecolor": "white",
             "minorgridcolor": "white",
             "startlinecolor": "#2a3f5f"
            },
            "baxis": {
             "endlinecolor": "#2a3f5f",
             "gridcolor": "white",
             "linecolor": "white",
             "minorgridcolor": "white",
             "startlinecolor": "#2a3f5f"
            },
            "type": "carpet"
           }
          ],
          "choropleth": [
           {
            "colorbar": {
             "outlinewidth": 0,
             "ticks": ""
            },
            "type": "choropleth"
           }
          ],
          "contour": [
           {
            "colorbar": {
             "outlinewidth": 0,
             "ticks": ""
            },
            "colorscale": [
             [
              0,
              "#0d0887"
             ],
             [
              0.1111111111111111,
              "#46039f"
             ],
             [
              0.2222222222222222,
              "#7201a8"
             ],
             [
              0.3333333333333333,
              "#9c179e"
             ],
             [
              0.4444444444444444,
              "#bd3786"
             ],
             [
              0.5555555555555556,
              "#d8576b"
             ],
             [
              0.6666666666666666,
              "#ed7953"
             ],
             [
              0.7777777777777778,
              "#fb9f3a"
             ],
             [
              0.8888888888888888,
              "#fdca26"
             ],
             [
              1,
              "#f0f921"
             ]
            ],
            "type": "contour"
           }
          ],
          "contourcarpet": [
           {
            "colorbar": {
             "outlinewidth": 0,
             "ticks": ""
            },
            "type": "contourcarpet"
           }
          ],
          "heatmap": [
           {
            "colorbar": {
             "outlinewidth": 0,
             "ticks": ""
            },
            "colorscale": [
             [
              0,
              "#0d0887"
             ],
             [
              0.1111111111111111,
              "#46039f"
             ],
             [
              0.2222222222222222,
              "#7201a8"
             ],
             [
              0.3333333333333333,
              "#9c179e"
             ],
             [
              0.4444444444444444,
              "#bd3786"
             ],
             [
              0.5555555555555556,
              "#d8576b"
             ],
             [
              0.6666666666666666,
              "#ed7953"
             ],
             [
              0.7777777777777778,
              "#fb9f3a"
             ],
             [
              0.8888888888888888,
              "#fdca26"
             ],
             [
              1,
              "#f0f921"
             ]
            ],
            "type": "heatmap"
           }
          ],
          "heatmapgl": [
           {
            "colorbar": {
             "outlinewidth": 0,
             "ticks": ""
            },
            "colorscale": [
             [
              0,
              "#0d0887"
             ],
             [
              0.1111111111111111,
              "#46039f"
             ],
             [
              0.2222222222222222,
              "#7201a8"
             ],
             [
              0.3333333333333333,
              "#9c179e"
             ],
             [
              0.4444444444444444,
              "#bd3786"
             ],
             [
              0.5555555555555556,
              "#d8576b"
             ],
             [
              0.6666666666666666,
              "#ed7953"
             ],
             [
              0.7777777777777778,
              "#fb9f3a"
             ],
             [
              0.8888888888888888,
              "#fdca26"
             ],
             [
              1,
              "#f0f921"
             ]
            ],
            "type": "heatmapgl"
           }
          ],
          "histogram": [
           {
            "marker": {
             "pattern": {
              "fillmode": "overlay",
              "size": 10,
              "solidity": 0.2
             }
            },
            "type": "histogram"
           }
          ],
          "histogram2d": [
           {
            "colorbar": {
             "outlinewidth": 0,
             "ticks": ""
            },
            "colorscale": [
             [
              0,
              "#0d0887"
             ],
             [
              0.1111111111111111,
              "#46039f"
             ],
             [
              0.2222222222222222,
              "#7201a8"
             ],
             [
              0.3333333333333333,
              "#9c179e"
             ],
             [
              0.4444444444444444,
              "#bd3786"
             ],
             [
              0.5555555555555556,
              "#d8576b"
             ],
             [
              0.6666666666666666,
              "#ed7953"
             ],
             [
              0.7777777777777778,
              "#fb9f3a"
             ],
             [
              0.8888888888888888,
              "#fdca26"
             ],
             [
              1,
              "#f0f921"
             ]
            ],
            "type": "histogram2d"
           }
          ],
          "histogram2dcontour": [
           {
            "colorbar": {
             "outlinewidth": 0,
             "ticks": ""
            },
            "colorscale": [
             [
              0,
              "#0d0887"
             ],
             [
              0.1111111111111111,
              "#46039f"
             ],
             [
              0.2222222222222222,
              "#7201a8"
             ],
             [
              0.3333333333333333,
              "#9c179e"
             ],
             [
              0.4444444444444444,
              "#bd3786"
             ],
             [
              0.5555555555555556,
              "#d8576b"
             ],
             [
              0.6666666666666666,
              "#ed7953"
             ],
             [
              0.7777777777777778,
              "#fb9f3a"
             ],
             [
              0.8888888888888888,
              "#fdca26"
             ],
             [
              1,
              "#f0f921"
             ]
            ],
            "type": "histogram2dcontour"
           }
          ],
          "mesh3d": [
           {
            "colorbar": {
             "outlinewidth": 0,
             "ticks": ""
            },
            "type": "mesh3d"
           }
          ],
          "parcoords": [
           {
            "line": {
             "colorbar": {
              "outlinewidth": 0,
              "ticks": ""
             }
            },
            "type": "parcoords"
           }
          ],
          "pie": [
           {
            "automargin": true,
            "type": "pie"
           }
          ],
          "scatter": [
           {
            "fillpattern": {
             "fillmode": "overlay",
             "size": 10,
             "solidity": 0.2
            },
            "type": "scatter"
           }
          ],
          "scatter3d": [
           {
            "line": {
             "colorbar": {
              "outlinewidth": 0,
              "ticks": ""
             }
            },
            "marker": {
             "colorbar": {
              "outlinewidth": 0,
              "ticks": ""
             }
            },
            "type": "scatter3d"
           }
          ],
          "scattercarpet": [
           {
            "marker": {
             "colorbar": {
              "outlinewidth": 0,
              "ticks": ""
             }
            },
            "type": "scattercarpet"
           }
          ],
          "scattergeo": [
           {
            "marker": {
             "colorbar": {
              "outlinewidth": 0,
              "ticks": ""
             }
            },
            "type": "scattergeo"
           }
          ],
          "scattergl": [
           {
            "marker": {
             "colorbar": {
              "outlinewidth": 0,
              "ticks": ""
             }
            },
            "type": "scattergl"
           }
          ],
          "scattermapbox": [
           {
            "marker": {
             "colorbar": {
              "outlinewidth": 0,
              "ticks": ""
             }
            },
            "type": "scattermapbox"
           }
          ],
          "scatterpolar": [
           {
            "marker": {
             "colorbar": {
              "outlinewidth": 0,
              "ticks": ""
             }
            },
            "type": "scatterpolar"
           }
          ],
          "scatterpolargl": [
           {
            "marker": {
             "colorbar": {
              "outlinewidth": 0,
              "ticks": ""
             }
            },
            "type": "scatterpolargl"
           }
          ],
          "scatterternary": [
           {
            "marker": {
             "colorbar": {
              "outlinewidth": 0,
              "ticks": ""
             }
            },
            "type": "scatterternary"
           }
          ],
          "surface": [
           {
            "colorbar": {
             "outlinewidth": 0,
             "ticks": ""
            },
            "colorscale": [
             [
              0,
              "#0d0887"
             ],
             [
              0.1111111111111111,
              "#46039f"
             ],
             [
              0.2222222222222222,
              "#7201a8"
             ],
             [
              0.3333333333333333,
              "#9c179e"
             ],
             [
              0.4444444444444444,
              "#bd3786"
             ],
             [
              0.5555555555555556,
              "#d8576b"
             ],
             [
              0.6666666666666666,
              "#ed7953"
             ],
             [
              0.7777777777777778,
              "#fb9f3a"
             ],
             [
              0.8888888888888888,
              "#fdca26"
             ],
             [
              1,
              "#f0f921"
             ]
            ],
            "type": "surface"
           }
          ],
          "table": [
           {
            "cells": {
             "fill": {
              "color": "#EBF0F8"
             },
             "line": {
              "color": "white"
             }
            },
            "header": {
             "fill": {
              "color": "#C8D4E3"
             },
             "line": {
              "color": "white"
             }
            },
            "type": "table"
           }
          ]
         },
         "layout": {
          "annotationdefaults": {
           "arrowcolor": "#2a3f5f",
           "arrowhead": 0,
           "arrowwidth": 1
          },
          "autotypenumbers": "strict",
          "coloraxis": {
           "colorbar": {
            "outlinewidth": 0,
            "ticks": ""
           }
          },
          "colorscale": {
           "diverging": [
            [
             0,
             "#8e0152"
            ],
            [
             0.1,
             "#c51b7d"
            ],
            [
             0.2,
             "#de77ae"
            ],
            [
             0.3,
             "#f1b6da"
            ],
            [
             0.4,
             "#fde0ef"
            ],
            [
             0.5,
             "#f7f7f7"
            ],
            [
             0.6,
             "#e6f5d0"
            ],
            [
             0.7,
             "#b8e186"
            ],
            [
             0.8,
             "#7fbc41"
            ],
            [
             0.9,
             "#4d9221"
            ],
            [
             1,
             "#276419"
            ]
           ],
           "sequential": [
            [
             0,
             "#0d0887"
            ],
            [
             0.1111111111111111,
             "#46039f"
            ],
            [
             0.2222222222222222,
             "#7201a8"
            ],
            [
             0.3333333333333333,
             "#9c179e"
            ],
            [
             0.4444444444444444,
             "#bd3786"
            ],
            [
             0.5555555555555556,
             "#d8576b"
            ],
            [
             0.6666666666666666,
             "#ed7953"
            ],
            [
             0.7777777777777778,
             "#fb9f3a"
            ],
            [
             0.8888888888888888,
             "#fdca26"
            ],
            [
             1,
             "#f0f921"
            ]
           ],
           "sequentialminus": [
            [
             0,
             "#0d0887"
            ],
            [
             0.1111111111111111,
             "#46039f"
            ],
            [
             0.2222222222222222,
             "#7201a8"
            ],
            [
             0.3333333333333333,
             "#9c179e"
            ],
            [
             0.4444444444444444,
             "#bd3786"
            ],
            [
             0.5555555555555556,
             "#d8576b"
            ],
            [
             0.6666666666666666,
             "#ed7953"
            ],
            [
             0.7777777777777778,
             "#fb9f3a"
            ],
            [
             0.8888888888888888,
             "#fdca26"
            ],
            [
             1,
             "#f0f921"
            ]
           ]
          },
          "colorway": [
           "#636efa",
           "#EF553B",
           "#00cc96",
           "#ab63fa",
           "#FFA15A",
           "#19d3f3",
           "#FF6692",
           "#B6E880",
           "#FF97FF",
           "#FECB52"
          ],
          "font": {
           "color": "#2a3f5f"
          },
          "geo": {
           "bgcolor": "white",
           "lakecolor": "white",
           "landcolor": "#E5ECF6",
           "showlakes": true,
           "showland": true,
           "subunitcolor": "white"
          },
          "hoverlabel": {
           "align": "left"
          },
          "hovermode": "closest",
          "mapbox": {
           "style": "light"
          },
          "paper_bgcolor": "white",
          "plot_bgcolor": "#E5ECF6",
          "polar": {
           "angularaxis": {
            "gridcolor": "white",
            "linecolor": "white",
            "ticks": ""
           },
           "bgcolor": "#E5ECF6",
           "radialaxis": {
            "gridcolor": "white",
            "linecolor": "white",
            "ticks": ""
           }
          },
          "scene": {
           "xaxis": {
            "backgroundcolor": "#E5ECF6",
            "gridcolor": "white",
            "gridwidth": 2,
            "linecolor": "white",
            "showbackground": true,
            "ticks": "",
            "zerolinecolor": "white"
           },
           "yaxis": {
            "backgroundcolor": "#E5ECF6",
            "gridcolor": "white",
            "gridwidth": 2,
            "linecolor": "white",
            "showbackground": true,
            "ticks": "",
            "zerolinecolor": "white"
           },
           "zaxis": {
            "backgroundcolor": "#E5ECF6",
            "gridcolor": "white",
            "gridwidth": 2,
            "linecolor": "white",
            "showbackground": true,
            "ticks": "",
            "zerolinecolor": "white"
           }
          },
          "shapedefaults": {
           "line": {
            "color": "#2a3f5f"
           }
          },
          "ternary": {
           "aaxis": {
            "gridcolor": "white",
            "linecolor": "white",
            "ticks": ""
           },
           "baxis": {
            "gridcolor": "white",
            "linecolor": "white",
            "ticks": ""
           },
           "bgcolor": "#E5ECF6",
           "caxis": {
            "gridcolor": "white",
            "linecolor": "white",
            "ticks": ""
           }
          },
          "title": {
           "x": 0.05
          },
          "xaxis": {
           "automargin": true,
           "gridcolor": "white",
           "linecolor": "white",
           "ticks": "",
           "title": {
            "standoff": 15
           },
           "zerolinecolor": "white",
           "zerolinewidth": 2
          },
          "yaxis": {
           "automargin": true,
           "gridcolor": "white",
           "linecolor": "white",
           "ticks": "",
           "title": {
            "standoff": 15
           },
           "zerolinecolor": "white",
           "zerolinewidth": 2
          }
         }
        },
        "title": {
         "text": "Cycle lineage of lineage ID 0"
        },
        "xaxis": {
         "showgrid": false,
         "showticklabels": false,
         "zeroline": false
        },
        "yaxis": {
         "autorange": "reversed",
         "showgrid": true,
         "title": {
          "text": "Cell cycle level"
         },
         "zeroline": true
        }
       }
      }
     },
     "metadata": {},
     "output_type": "display_data"
    }
   ],
   "source": [
    "cyclelin0 = model.data.cycle_data[0]\n",
    "cyclelin0.plot(\n",
    "    title=\"Cycle lineage of lineage ID 0\",\n",
    "    node_hover_features=[\n",
    "        \"cycle_ID\",\n",
    "        \"level\",\n",
    "        \"division_time\",\n",
    "        \"cell_cycle_completeness\",\n",
    "    ],\n",
    ")"
   ]
  },
  {
   "cell_type": "markdown",
   "metadata": {},
   "source": [
    "### EpiCure"
   ]
  },
  {
   "cell_type": "code",
   "execution_count": 1,
   "metadata": {},
   "outputs": [],
   "source": [
    "import pickle\n",
    "\n",
    "import napari"
   ]
  },
  {
   "cell_type": "code",
   "execution_count": 2,
   "metadata": {},
   "outputs": [],
   "source": [
    "epi_file = \"/mnt/data/Code/EpiCure_small_example/epics/013_crop_epidata.pkl\""
   ]
  },
  {
   "cell_type": "code",
   "execution_count": 4,
   "metadata": {},
   "outputs": [
    {
     "name": "stdout",
     "output_type": "stream",
     "text": [
      "EpiMetaData {'ScaleXY': 1, 'UnitXY': 'um', 'ScaleT': 1, 'UnitT': 'min', 'MainChannel': 0, 'Allow gaps': True, 'Verbose': 2}\n",
      "Group {'paf': [48, 60, 70]}\n",
      "Graph {167: [24], 172: [24], 393: [112], 397: [112], 492: [76], 505: [76], 645: [505], 658: [505], 1013: [33], 1016: [33], 1059: [916], 1066: [916], 1204: [82], 1200: [82], 1237: [674], 1240: [674], 1309: [46], 1321: [46], 1522: [1380], 1526: [1380], 208: [65, 72], 306: [167, 172], 674: [393, 397], 916: [492, 645], 1293: [32, 1016], 1345: [1200, 1204], 1380: [1237, 1240], 1465: [1321, 58]}\n",
      "Events {'Points': array([[  1,  22,  30],\n",
      "       [  2, 139,  68],\n",
      "       [  3,  99,  19],\n",
      "       [  4, 111,  15],\n",
      "       [  7,  31, 212],\n",
      "       [  7,  99,  19],\n",
      "       [  8,  93,  43],\n",
      "       [  8, 138,  68],\n",
      "       [  9,  53, 197],\n",
      "       [ 10, 138,  69]]), 'Props': {'id': array([0, 1, 2, 3, 4, 5, 6, 7, 8, 9], dtype=uint16), 'label': array([  24,  112,   76,  505,   33,  916,   82,  674,   46, 1380],\n",
      "      dtype=uint16), 'score': array([1, 1, 1, 1, 1, 1, 1, 1, 1, 1], dtype=uint8)}, 'Types': {'division': [0, 1, 2, 3, 4, 5, 6, 7, 8, 9]}, 'Symbols': array([<Symbol.X: 'x'>, <Symbol.DISC: 'disc'>, <Symbol.DISC: 'disc'>,\n",
      "       <Symbol.DISC: 'disc'>, <Symbol.DISC: 'disc'>,\n",
      "       <Symbol.DISC: 'disc'>, <Symbol.DISC: 'disc'>,\n",
      "       <Symbol.DISC: 'disc'>, <Symbol.DISC: 'disc'>,\n",
      "       <Symbol.DISC: 'disc'>], dtype=object), 'Colors': array([[1.        , 1.        , 1.        , 1.        ],\n",
      "       [0.        , 0.33333334, 1.        , 1.        ],\n",
      "       [0.        , 0.33333334, 1.        , 1.        ],\n",
      "       [0.        , 0.33333334, 1.        , 1.        ],\n",
      "       [0.        , 0.33333334, 1.        , 1.        ],\n",
      "       [0.        , 0.33333334, 1.        , 1.        ],\n",
      "       [0.        , 0.33333334, 1.        , 1.        ],\n",
      "       [0.        , 0.33333334, 1.        , 1.        ],\n",
      "       [0.        , 0.33333334, 1.        , 1.        ],\n",
      "       [0.        , 0.33333334, 1.        , 1.        ]])}\n"
     ]
    }
   ],
   "source": [
    "with open(epi_file, \"rb\") as f:\n",
    "    epidata = pickle.load(f)\n",
    "\n",
    "for k, v in epidata.items():\n",
    "    print(k, v)"
   ]
  },
  {
   "cell_type": "code",
   "execution_count": 6,
   "metadata": {},
   "outputs": [
    {
     "name": "stdout",
     "output_type": "stream",
     "text": [
      "{167: [24], 172: [24], 393: [112], 397: [112], 492: [76], 505: [76], 645: [505], 658: [505], 1013: [33], 1016: [33], 1059: [916], 1066: [916], 1204: [82], 1200: [82], 1237: [674], 1240: [674], 1309: [46], 1321: [46], 1522: [1380], 1526: [1380], 208: [65, 72], 306: [167, 172], 674: [393, 397], 916: [492, 645], 1293: [32, 1016], 1345: [1200, 1204], 1380: [1237, 1240], 1465: [1321, 58]}\n"
     ]
    }
   ],
   "source": [
    "graph = epidata[\"Graph\"]\n",
    "print(graph)"
   ]
  }
 ],
 "metadata": {
  "kernelspec": {
   "display_name": "pycellin_iah",
   "language": "python",
   "name": "python3"
  },
  "language_info": {
   "codemirror_mode": {
    "name": "ipython",
    "version": 3
   },
   "file_extension": ".py",
   "mimetype": "text/x-python",
   "name": "python",
   "nbconvert_exporter": "python",
   "pygments_lexer": "ipython3",
   "version": "3.12.2"
  }
 },
 "nbformat": 4,
 "nbformat_minor": 2
}
