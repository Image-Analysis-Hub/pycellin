{
 "cells": [
  {
   "cell_type": "code",
   "execution_count": null,
   "metadata": {},
   "outputs": [],
   "source": [
    "from pycellin.classes.feature import Feature\n",
    "from pycellin.classes.feature_calculator import (\n",
    "    FeatureCalculatorFactory,\n",
    "    FeatureCalculator,\n",
    ")"
   ]
  },
  {
   "cell_type": "markdown",
   "metadata": {},
   "source": [
    "#### Global node feature: *absolute age*"
   ]
  },
  {
   "cell_type": "code",
   "execution_count": null,
   "metadata": {},
   "outputs": [],
   "source": [
    "class AbsoluteAgeCalculator(FeatureCalculator):\n",
    "\n",
    "    def compute(self, node, lineage):\n",
    "        pass"
   ]
  },
  {
   "cell_type": "code",
   "execution_count": null,
   "metadata": {},
   "outputs": [],
   "source": [
    "feat1 = Feature(\n",
    "    \"absolute_age\",\n",
    "    \"Age of the cell since the beginning of the lineage\",\n",
    "    \"CellLineage\",\n",
    "    \"Pycellin\",\n",
    "    \"int\",  # \"float\" if in_time_unit else \"int\",\n",
    "    \"frame\",  # self.metadata[\"time_unit\"] if in_time_unit else \"frame\",\n",
    ")"
   ]
  },
  {
   "cell_type": "code",
   "execution_count": null,
   "metadata": {},
   "outputs": [],
   "source": [
    "factory = FeatureCalculatorFactory()\n",
    "factory.register_calculator(feat1, AbsoluteAgeCalculator)"
   ]
  },
  {
   "cell_type": "markdown",
   "metadata": {},
   "source": [
    "#### Local node feature: *node_ID parity*"
   ]
  },
  {
   "cell_type": "code",
   "execution_count": null,
   "metadata": {},
   "outputs": [],
   "source": [
    "class ParityCalculator(FeatureCalculator):\n",
    "\n",
    "    def compute(self, node):\n",
    "        pass"
   ]
  },
  {
   "cell_type": "code",
   "execution_count": null,
   "metadata": {},
   "outputs": [],
   "source": [
    "feat2 = Feature(\n",
    "    \"node_ID_parity\",\n",
    "    \"Parity of the node ID\",\n",
    "    \"CellLineage\",\n",
    "    \"Pycellin\",\n",
    "    \"int\",\n",
    ")"
   ]
  },
  {
   "cell_type": "code",
   "execution_count": null,
   "metadata": {},
   "outputs": [],
   "source": [
    "factory = FeatureCalculatorFactory()\n",
    "factory.register_calculator(feat2, ParityCalculator)"
   ]
  },
  {
   "cell_type": "markdown",
   "metadata": {},
   "source": [
    "### Node age"
   ]
  },
  {
   "cell_type": "code",
   "execution_count": 1,
   "metadata": {},
   "outputs": [],
   "source": [
    "import pycellin as pc"
   ]
  },
  {
   "cell_type": "code",
   "execution_count": 2,
   "metadata": {},
   "outputs": [
    {
     "name": "stdout",
     "output_type": "stream",
     "text": [
      "Model with 3 lineages.\n",
      "This model contains 3 lineages:\n",
      "- ID 0: CellLineage named 'Track_0' with 152 nodes and 151 edges\n",
      "- ID 1: CellLineage named 'Track_1' with 189 nodes and 188 edges\n",
      "- ID 2: CellLineage named 'Track_2' with 185 nodes and 184 edges\n"
     ]
    }
   ],
   "source": [
    "# Path to the TrackMate XML file.\n",
    "xml_path1 = \"../sample_data/Ecoli_growth_on_agar_pad.xml\"\n",
    "xml_path2 = \"../sample_data/Ecoli_growth_on_agar_pad_with_gaps.xml\"\n",
    "\n",
    "\n",
    "# Parse the XML file and create a Pycellin Model object\n",
    "# that contains all the data from the XML file.\n",
    "model1 = pc.load_TrackMate_XML(xml_path1)\n",
    "model2 = pc.load_TrackMate_XML(xml_path2)\n",
    "\n",
    "# We can display basic information about this model.\n",
    "print(model1)\n",
    "print(f\"This model contains {model1.data.number_of_lineages()} lineages:\")\n",
    "for lin_ID, lineage in model1.data.cell_data.items():\n",
    "    print(f\"- ID {lin_ID}: {lineage}\")"
   ]
  },
  {
   "cell_type": "code",
   "execution_count": 3,
   "metadata": {},
   "outputs": [],
   "source": [
    "model1.add_pycellin_features([\"absolute_age\", \"relative_age\"])\n",
    "model1.update()"
   ]
  },
  {
   "cell_type": "code",
   "execution_count": 4,
   "metadata": {},
   "outputs": [],
   "source": [
    "lin0_1 = model1.data.cell_data[0]"
   ]
  },
  {
   "cell_type": "code",
   "execution_count": 5,
   "metadata": {},
   "outputs": [
    {
     "data": {
      "application/vnd.plotly.v1+json": {
       "config": {
        "plotlyServerURL": "https://plot.ly"
       },
       "data": [
        {
         "mode": "lines",
         "name": "Edges",
         "type": "scatter",
         "x": [
          0.8125,
          0.8125,
          null,
          -10.6875,
          -10.6875,
          null,
          2.8125,
          2.8125,
          null,
          -7.1875,
          -7.1875,
          null,
          -5.6875,
          -5.6875,
          null,
          -9.1875,
          -9.1875,
          null,
          -4.1875,
          -4.1875,
          null,
          4.8125,
          4.3125,
          null,
          4.8125,
          5.3125,
          null,
          -2.1875,
          -2.1875,
          null,
          -0.6875,
          -0.6875,
          null,
          7.3125,
          7.3125,
          null,
          6.3125,
          6.3125,
          null,
          -3.1875,
          -3.1875,
          null,
          -6.4375,
          -6.4375,
          null,
          0.8125,
          0.8125,
          null,
          -0.6875,
          -0.6875,
          null,
          7.3125,
          7.3125,
          null,
          2.8125,
          2.8125,
          null,
          -9.9375,
          -9.9375,
          null,
          4.8125,
          4.8125,
          null,
          7.3125,
          7.3125,
          null,
          -0.6875,
          -0.6875,
          null,
          0.8125,
          0.8125,
          null,
          -2.1875,
          -2.1875,
          null,
          -7.1875,
          -7.1875,
          null,
          -10.6875,
          -10.6875,
          null,
          4.3125,
          4.3125,
          null,
          2.8125,
          2.8125,
          null,
          -5.6875,
          -5.6875,
          null,
          -9.1875,
          -9.1875,
          null,
          -4.1875,
          -4.1875,
          null,
          5.3125,
          5.3125,
          null,
          -0.6875,
          -0.6875,
          null,
          6.3125,
          6.3125,
          null,
          6.3125,
          6.3125,
          null,
          0.8125,
          0.8125,
          null,
          -7.1875,
          -7.1875,
          null,
          -10.6875,
          -10.6875,
          null,
          4.3125,
          4.3125,
          null,
          7.3125,
          7.3125,
          null,
          -2.1875,
          -2.1875,
          null,
          2.8125,
          2.8125,
          null,
          -5.6875,
          -5.6875,
          null,
          -4.1875,
          -4.6875,
          null,
          -4.1875,
          -3.6875,
          null,
          -9.1875,
          -9.1875,
          null,
          5.3125,
          5.3125,
          null,
          -0.6875,
          -0.6875,
          null,
          6.3125,
          6.3125,
          null,
          -2.1875,
          -2.6875,
          null,
          -2.1875,
          -1.6875,
          null,
          4.3125,
          4.3125,
          null,
          7.3125,
          7.3125,
          null,
          2.8125,
          2.3125,
          null,
          2.8125,
          3.3125,
          null,
          -10.6875,
          -10.6875,
          null,
          -4.6875,
          -4.6875,
          null,
          -9.1875,
          -8.6875,
          null,
          -9.1875,
          -9.6875,
          null,
          5.3125,
          5.3125,
          null,
          -5.6875,
          -5.6875,
          null,
          0.8125,
          0.3125,
          null,
          0.8125,
          1.3125,
          null,
          -3.6875,
          -3.6875,
          null,
          5.0625,
          5.0625,
          null,
          -7.1875,
          -6.6875,
          null,
          -7.1875,
          -7.6875,
          null,
          5.0625,
          5.0625,
          null,
          -5.0625,
          -5.0625,
          null,
          0,
          5.0625,
          null,
          0,
          -5.0625,
          null,
          -5.0625,
          -5.0625,
          null,
          5.0625,
          5.0625,
          null,
          -5.0625,
          -5.0625,
          null,
          5.0625,
          5.0625,
          null,
          -5.0625,
          -5.0625,
          null,
          -5.0625,
          -5.0625,
          null,
          5.0625,
          5.0625,
          null,
          -5.0625,
          -1.9375,
          null,
          -5.0625,
          -8.1875,
          null,
          5.0625,
          3.3125,
          null,
          5.0625,
          6.8125,
          null,
          -8.1875,
          -8.1875,
          null,
          -1.9375,
          -1.9375,
          null,
          3.3125,
          3.3125,
          null,
          6.8125,
          6.8125,
          null,
          -8.1875,
          -8.1875,
          null,
          -1.9375,
          -1.9375,
          null,
          3.3125,
          3.3125,
          null,
          6.8125,
          6.8125,
          null,
          -8.1875,
          -6.4375,
          null,
          -8.1875,
          -9.9375,
          null,
          3.3125,
          1.8125,
          null,
          3.3125,
          4.8125,
          null,
          -1.9375,
          -1.9375,
          null,
          6.8125,
          6.8125,
          null,
          -8.1875,
          -8.1875,
          null,
          3.3125,
          3.3125,
          null,
          -1.9375,
          -1.9375,
          null,
          6.8125,
          6.8125,
          null,
          6.3125,
          6.3125,
          null,
          -3.1875,
          -3.1875,
          null,
          -6.4375,
          -6.4375,
          null,
          1.8125,
          1.8125,
          null,
          7.3125,
          7.3125,
          null,
          -9.9375,
          -9.9375,
          null,
          4.8125,
          4.8125,
          null,
          -0.6875,
          -0.6875,
          null,
          1.8125,
          1.8125,
          null,
          -9.9375,
          -9.9375,
          null,
          4.8125,
          4.8125,
          null,
          -6.4375,
          -6.4375,
          null,
          -1.9375,
          -0.6875,
          null,
          -1.9375,
          -3.1875,
          null,
          6.8125,
          6.3125,
          null,
          6.8125,
          7.3125,
          null,
          6.3125,
          6.3125,
          null,
          -3.1875,
          -3.1875,
          null,
          -6.4375,
          -6.4375,
          null,
          -8.1875,
          -8.1875,
          null,
          1.8125,
          1.8125,
          null,
          -1.9375,
          -1.9375,
          null,
          3.3125,
          3.3125,
          null,
          6.8125,
          6.8125,
          null,
          7.3125,
          7.3125,
          null,
          -9.9375,
          -9.9375,
          null,
          4.8125,
          4.8125,
          null,
          -0.6875,
          -0.6875,
          null,
          6.3125,
          6.3125,
          null,
          1.8125,
          0.8125,
          null,
          1.8125,
          2.8125,
          null,
          -0.6875,
          -0.6875,
          null,
          7.3125,
          7.3125,
          null,
          -9.9375,
          -9.9375,
          null,
          -3.1875,
          -3.1875,
          null,
          4.8125,
          4.8125,
          null,
          -6.4375,
          -6.4375,
          null,
          6.3125,
          6.3125,
          null,
          0.8125,
          0.8125,
          null,
          -0.6875,
          -0.6875,
          null,
          7.3125,
          7.3125,
          null,
          2.8125,
          2.8125,
          null,
          -6.4375,
          -5.6875,
          null,
          -6.4375,
          -7.1875,
          null,
          -9.9375,
          -9.1875,
          null,
          -9.9375,
          -10.6875,
          null,
          4.8125,
          4.8125,
          null,
          -3.1875,
          -2.1875,
          null,
          -3.1875,
          -4.1875,
          null,
          6.3125,
          6.3125,
          null
         ],
         "y": [
          18,
          19,
          null,
          18,
          19,
          null,
          18,
          19,
          null,
          18,
          19,
          null,
          18,
          19,
          null,
          18,
          19,
          null,
          18,
          19,
          null,
          18,
          19,
          null,
          18,
          19,
          null,
          18,
          19,
          null,
          18,
          19,
          null,
          18,
          19,
          null,
          16,
          17,
          null,
          16,
          17,
          null,
          16,
          17,
          null,
          16,
          17,
          null,
          16,
          17,
          null,
          16,
          17,
          null,
          16,
          17,
          null,
          16,
          17,
          null,
          16,
          17,
          null,
          19,
          20,
          null,
          19,
          20,
          null,
          19,
          20,
          null,
          19,
          20,
          null,
          19,
          20,
          null,
          19,
          20,
          null,
          19,
          20,
          null,
          19,
          20,
          null,
          19,
          20,
          null,
          19,
          20,
          null,
          19,
          20,
          null,
          19,
          20,
          null,
          20,
          21,
          null,
          19,
          20,
          null,
          20,
          21,
          null,
          20,
          21,
          null,
          20,
          21,
          null,
          20,
          21,
          null,
          20,
          21,
          null,
          20,
          21,
          null,
          20,
          21,
          null,
          20,
          21,
          null,
          20,
          21,
          null,
          20,
          21,
          null,
          20,
          21,
          null,
          20,
          21,
          null,
          20,
          21,
          null,
          21,
          22,
          null,
          21,
          22,
          null,
          21,
          22,
          null,
          21,
          22,
          null,
          21,
          22,
          null,
          21,
          22,
          null,
          21,
          22,
          null,
          21,
          22,
          null,
          21,
          22,
          null,
          21,
          22,
          null,
          21,
          22,
          null,
          21,
          22,
          null,
          21,
          22,
          null,
          21,
          22,
          null,
          21,
          22,
          null,
          21,
          22,
          null,
          21,
          22,
          null,
          2,
          3,
          null,
          21,
          22,
          null,
          21,
          22,
          null,
          3,
          4,
          null,
          2,
          3,
          null,
          0,
          1,
          null,
          0,
          1,
          null,
          3,
          4,
          null,
          4,
          5,
          null,
          4,
          5,
          null,
          5,
          6,
          null,
          5,
          6,
          null,
          1,
          2,
          null,
          1,
          2,
          null,
          6,
          7,
          null,
          6,
          7,
          null,
          6,
          7,
          null,
          6,
          7,
          null,
          9,
          10,
          null,
          9,
          10,
          null,
          9,
          10,
          null,
          9,
          10,
          null,
          8,
          9,
          null,
          8,
          9,
          null,
          8,
          9,
          null,
          8,
          9,
          null,
          11,
          12,
          null,
          11,
          12,
          null,
          11,
          12,
          null,
          11,
          12,
          null,
          11,
          12,
          null,
          11,
          12,
          null,
          10,
          11,
          null,
          10,
          11,
          null,
          10,
          11,
          null,
          10,
          11,
          null,
          13,
          14,
          null,
          13,
          14,
          null,
          13,
          14,
          null,
          13,
          14,
          null,
          13,
          14,
          null,
          13,
          14,
          null,
          13,
          14,
          null,
          13,
          14,
          null,
          12,
          13,
          null,
          12,
          13,
          null,
          12,
          13,
          null,
          12,
          13,
          null,
          12,
          13,
          null,
          12,
          13,
          null,
          12,
          13,
          null,
          12,
          13,
          null,
          14,
          15,
          null,
          14,
          15,
          null,
          14,
          15,
          null,
          7,
          8,
          null,
          14,
          15,
          null,
          7,
          8,
          null,
          7,
          8,
          null,
          7,
          8,
          null,
          14,
          15,
          null,
          14,
          15,
          null,
          14,
          15,
          null,
          14,
          15,
          null,
          15,
          16,
          null,
          15,
          16,
          null,
          15,
          16,
          null,
          15,
          16,
          null,
          15,
          16,
          null,
          15,
          16,
          null,
          15,
          16,
          null,
          15,
          16,
          null,
          15,
          16,
          null,
          17,
          18,
          null,
          17,
          18,
          null,
          17,
          18,
          null,
          17,
          18,
          null,
          17,
          18,
          null,
          17,
          18,
          null,
          17,
          18,
          null,
          17,
          18,
          null,
          17,
          18,
          null,
          17,
          18,
          null,
          17,
          18,
          null,
          17,
          18,
          null,
          18,
          19,
          null
         ]
        },
        {
         "hoverinfo": "text",
         "hovertemplate": "%{text}",
         "mode": "markers",
         "name": "lineage_ID: 0",
         "text": [
          "cell_ID: 9216<br>absolute_age: 18<br>relative_age: 2<br>",
          "cell_ID: 9218<br>absolute_age: 18<br>relative_age: 0<br>",
          "cell_ID: 9222<br>absolute_age: 18<br>relative_age: 2<br>",
          "cell_ID: 9223<br>absolute_age: 18<br>relative_age: 0<br>",
          "cell_ID: 9227<br>absolute_age: 18<br>relative_age: 0<br>",
          "cell_ID: 9228<br>absolute_age: 18<br>relative_age: 0<br>",
          "cell_ID: 9229<br>absolute_age: 18<br>relative_age: 0<br>",
          "cell_ID: 9230<br>absolute_age: 18<br>relative_age: 6<br>",
          "cell_ID: 9235<br>absolute_age: 18<br>relative_age: 0<br>",
          "cell_ID: 9240<br>absolute_age: 18<br>relative_age: 5<br>",
          "cell_ID: 9250<br>absolute_age: 18<br>relative_age: 5<br>",
          "cell_ID: 9252<br>absolute_age: 16<br>relative_age: 3<br>",
          "cell_ID: 9255<br>absolute_age: 16<br>relative_age: 3<br>",
          "cell_ID: 9258<br>absolute_age: 16<br>relative_age: 4<br>",
          "cell_ID: 9259<br>absolute_age: 16<br>relative_age: 0<br>",
          "cell_ID: 9262<br>absolute_age: 16<br>relative_age: 3<br>",
          "cell_ID: 9263<br>absolute_age: 16<br>relative_age: 3<br>",
          "cell_ID: 9271<br>absolute_age: 16<br>relative_age: 0<br>",
          "cell_ID: 9274<br>absolute_age: 16<br>relative_age: 4<br>",
          "cell_ID: 9277<br>absolute_age: 16<br>relative_age: 4<br>",
          "cell_ID: 9279<br>absolute_age: 19<br>relative_age: 6<br>",
          "cell_ID: 9286<br>absolute_age: 19<br>relative_age: 6<br>",
          "cell_ID: 9290<br>absolute_age: 19<br>relative_age: 3<br>",
          "cell_ID: 9292<br>absolute_age: 19<br>relative_age: 1<br>",
          "cell_ID: 9293<br>absolute_age: 19<br>relative_age: 1<br>",
          "cell_ID: 9294<br>absolute_age: 19<br>relative_age: 1<br>",
          "cell_ID: 9299<br>absolute_age: 19<br>relative_age: 0<br>",
          "cell_ID: 9306<br>absolute_age: 19<br>relative_age: 3<br>",
          "cell_ID: 9308<br>absolute_age: 19<br>relative_age: 1<br>",
          "cell_ID: 9309<br>absolute_age: 19<br>relative_age: 1<br>",
          "cell_ID: 9310<br>absolute_age: 19<br>relative_age: 1<br>",
          "cell_ID: 9312<br>absolute_age: 19<br>relative_age: 0<br>",
          "cell_ID: 9326<br>absolute_age: 20<br>relative_age: 7<br>",
          "cell_ID: 9328<br>absolute_age: 19<br>relative_age: 6<br>",
          "cell_ID: 9330<br>absolute_age: 20<br>relative_age: 7<br>",
          "cell_ID: 9332<br>absolute_age: 20<br>relative_age: 4<br>",
          "cell_ID: 9334<br>absolute_age: 20<br>relative_age: 2<br>",
          "cell_ID: 9335<br>absolute_age: 20<br>relative_age: 2<br>",
          "cell_ID: 9339<br>absolute_age: 20<br>relative_age: 1<br>",
          "cell_ID: 9343<br>absolute_age: 20<br>relative_age: 7<br>",
          "cell_ID: 9344<br>absolute_age: 20<br>relative_age: 2<br>",
          "cell_ID: 9351<br>absolute_age: 20<br>relative_age: 4<br>",
          "cell_ID: 9355<br>absolute_age: 20<br>relative_age: 2<br>",
          "cell_ID: 9356<br>absolute_age: 20<br>relative_age: 2<br>",
          "cell_ID: 9357<br>absolute_age: 20<br>relative_age: 2<br>",
          "cell_ID: 9358<br>absolute_age: 20<br>relative_age: 1<br>",
          "cell_ID: 9375<br>absolute_age: 22<br>relative_age: 0<br>",
          "cell_ID: 9382<br>absolute_age: 22<br>relative_age: 9<br>",
          "cell_ID: 9384<br>absolute_age: 22<br>relative_age: 9<br>",
          "cell_ID: 9389<br>absolute_age: 22<br>relative_age: 0<br>",
          "cell_ID: 9390<br>absolute_age: 22<br>relative_age: 3<br>",
          "cell_ID: 9395<br>absolute_age: 22<br>relative_age: 9<br>",
          "cell_ID: 9398<br>absolute_age: 22<br>relative_age: 0<br>",
          "cell_ID: 9402<br>absolute_age: 22<br>relative_age: 0<br>",
          "cell_ID: 9416<br>absolute_age: 22<br>relative_age: 0<br>",
          "cell_ID: 9424<br>absolute_age: 21<br>relative_age: 8<br>",
          "cell_ID: 9428<br>absolute_age: 21<br>relative_age: 8<br>",
          "cell_ID: 9438<br>absolute_age: 21<br>relative_age: 3<br>",
          "cell_ID: 9440<br>absolute_age: 22<br>relative_age: 1<br>",
          "cell_ID: 9441<br>absolute_age: 21<br>relative_age: 2<br>",
          "cell_ID: 9444<br>absolute_age: 22<br>relative_age: 1<br>",
          "cell_ID: 9446<br>absolute_age: 22<br>relative_age: 3<br>",
          "cell_ID: 9448<br>absolute_age: 22<br>relative_age: 0<br>",
          "cell_ID: 9449<br>absolute_age: 22<br>relative_age: 0<br>",
          "cell_ID: 9450<br>absolute_age: 21<br>relative_age: 8<br>",
          "cell_ID: 9463<br>absolute_age: 22<br>relative_age: 4<br>",
          "cell_ID: 9464<br>absolute_age: 21<br>relative_age: 5<br>",
          "cell_ID: 9465<br>absolute_age: 22<br>relative_age: 0<br>",
          "cell_ID: 9470<br>absolute_age: 22<br>relative_age: 4<br>",
          "cell_ID: 9476<br>absolute_age: 22<br>relative_age: 0<br>",
          "cell_ID: 9480<br>absolute_age: 22<br>relative_age: 0<br>",
          "cell_ID: 9481<br>absolute_age: 21<br>relative_age: 3<br>",
          "cell_ID: 9482<br>absolute_age: 21<br>relative_age: 0<br>",
          "cell_ID: 9483<br>absolute_age: 21<br>relative_age: 3<br>",
          "cell_ID: 9485<br>absolute_age: 21<br>relative_age: 2<br>",
          "cell_ID: 9491<br>absolute_age: 21<br>relative_age: 3<br>",
          "cell_ID: 9492<br>absolute_age: 21<br>relative_age: 5<br>",
          "cell_ID: 9494<br>absolute_age: 21<br>relative_age: 0<br>",
          "cell_ID: 8986<br>absolute_age: 2<br>relative_age: 1<br>",
          "cell_ID: 9498<br>absolute_age: 21<br>relative_age: 3<br>",
          "cell_ID: 8988<br>absolute_age: 3<br>relative_age: 2<br>",
          "cell_ID: 8989<br>absolute_age: 2<br>relative_age: 1<br>",
          "cell_ID: 8993<br>absolute_age: 0<br>relative_age: 0<br>",
          "cell_ID: 8996<br>absolute_age: 3<br>relative_age: 2<br>",
          "cell_ID: 8999<br>absolute_age: 4<br>relative_age: 3<br>",
          "cell_ID: 9001<br>absolute_age: 4<br>relative_age: 3<br>",
          "cell_ID: 9008<br>absolute_age: 5<br>relative_age: 4<br>",
          "cell_ID: 9010<br>absolute_age: 5<br>relative_age: 4<br>",
          "cell_ID: 9013<br>absolute_age: 1<br>relative_age: 0<br>",
          "cell_ID: 9014<br>absolute_age: 1<br>relative_age: 0<br>",
          "cell_ID: 9019<br>absolute_age: 6<br>relative_age: 5<br>",
          "cell_ID: 9020<br>absolute_age: 6<br>relative_age: 5<br>",
          "cell_ID: 9027<br>absolute_age: 9<br>relative_age: 2<br>",
          "cell_ID: 9028<br>absolute_age: 9<br>relative_age: 2<br>",
          "cell_ID: 9029<br>absolute_age: 9<br>relative_age: 2<br>",
          "cell_ID: 9031<br>absolute_age: 9<br>relative_age: 2<br>",
          "cell_ID: 9040<br>absolute_age: 8<br>relative_age: 1<br>",
          "cell_ID: 9041<br>absolute_age: 8<br>relative_age: 1<br>",
          "cell_ID: 9042<br>absolute_age: 8<br>relative_age: 1<br>",
          "cell_ID: 9043<br>absolute_age: 8<br>relative_age: 1<br>",
          "cell_ID: 9051<br>absolute_age: 11<br>relative_age: 4<br>",
          "cell_ID: 9052<br>absolute_age: 11<br>relative_age: 4<br>",
          "cell_ID: 9053<br>absolute_age: 11<br>relative_age: 4<br>",
          "cell_ID: 9055<br>absolute_age: 11<br>relative_age: 4<br>",
          "cell_ID: 9062<br>absolute_age: 10<br>relative_age: 3<br>",
          "cell_ID: 9064<br>absolute_age: 10<br>relative_age: 3<br>",
          "cell_ID: 9065<br>absolute_age: 10<br>relative_age: 3<br>",
          "cell_ID: 9067<br>absolute_age: 10<br>relative_age: 3<br>",
          "cell_ID: 9080<br>absolute_age: 13<br>relative_age: 0<br>",
          "cell_ID: 9081<br>absolute_age: 13<br>relative_age: 0<br>",
          "cell_ID: 9082<br>absolute_age: 13<br>relative_age: 1<br>",
          "cell_ID: 9084<br>absolute_age: 13<br>relative_age: 1<br>",
          "cell_ID: 9086<br>absolute_age: 13<br>relative_age: 0<br>",
          "cell_ID: 9090<br>absolute_age: 13<br>relative_age: 1<br>",
          "cell_ID: 9091<br>absolute_age: 13<br>relative_age: 1<br>",
          "cell_ID: 9095<br>absolute_age: 13<br>relative_age: 0<br>",
          "cell_ID: 9096<br>absolute_age: 12<br>relative_age: 0<br>",
          "cell_ID: 9102<br>absolute_age: 12<br>relative_age: 0<br>",
          "cell_ID: 9103<br>absolute_age: 12<br>relative_age: 0<br>",
          "cell_ID: 9104<br>absolute_age: 12<br>relative_age: 0<br>",
          "cell_ID: 9106<br>absolute_age: 12<br>relative_age: 5<br>",
          "cell_ID: 9108<br>absolute_age: 12<br>relative_age: 5<br>",
          "cell_ID: 9118<br>absolute_age: 14<br>relative_age: 1<br>",
          "cell_ID: 9119<br>absolute_age: 14<br>relative_age: 1<br>",
          "cell_ID: 9120<br>absolute_age: 14<br>relative_age: 2<br>",
          "cell_ID: 9121<br>absolute_age: 7<br>relative_age: 0<br>",
          "cell_ID: 9122<br>absolute_age: 14<br>relative_age: 2<br>",
          "cell_ID: 9123<br>absolute_age: 7<br>relative_age: 0<br>",
          "cell_ID: 9124<br>absolute_age: 7<br>relative_age: 0<br>",
          "cell_ID: 9126<br>absolute_age: 7<br>relative_age: 0<br>",
          "cell_ID: 9127<br>absolute_age: 14<br>relative_age: 1<br>",
          "cell_ID: 9136<br>absolute_age: 14<br>relative_age: 2<br>",
          "cell_ID: 9138<br>absolute_age: 14<br>relative_age: 2<br>",
          "cell_ID: 9143<br>absolute_age: 14<br>relative_age: 1<br>",
          "cell_ID: 9155<br>absolute_age: 15<br>relative_age: 2<br>",
          "cell_ID: 9156<br>absolute_age: 15<br>relative_age: 3<br>",
          "cell_ID: 9159<br>absolute_age: 15<br>relative_age: 2<br>",
          "cell_ID: 9160<br>absolute_age: 15<br>relative_age: 2<br>",
          "cell_ID: 9167<br>absolute_age: 15<br>relative_age: 3<br>",
          "cell_ID: 9168<br>absolute_age: 15<br>relative_age: 2<br>",
          "cell_ID: 9169<br>absolute_age: 15<br>relative_age: 3<br>",
          "cell_ID: 9170<br>absolute_age: 15<br>relative_age: 3<br>",
          "cell_ID: 9176<br>absolute_age: 17<br>relative_age: 4<br>",
          "cell_ID: 9178<br>absolute_age: 17<br>relative_age: 1<br>",
          "cell_ID: 9181<br>absolute_age: 17<br>relative_age: 4<br>",
          "cell_ID: 9182<br>absolute_age: 17<br>relative_age: 4<br>",
          "cell_ID: 9191<br>absolute_age: 17<br>relative_age: 1<br>",
          "cell_ID: 9194<br>absolute_age: 17<br>relative_age: 5<br>",
          "cell_ID: 9195<br>absolute_age: 17<br>relative_age: 5<br>",
          "cell_ID: 9196<br>absolute_age: 17<br>relative_age: 5<br>",
          "cell_ID: 9206<br>absolute_age: 17<br>relative_age: 4<br>",
          "cell_ID: 9215<br>absolute_age: 18<br>relative_age: 5<br>"
         ],
         "type": "scatter",
         "x": [
          0.8125,
          -10.6875,
          2.8125,
          -7.1875,
          -5.6875,
          -9.1875,
          -4.1875,
          4.8125,
          -2.1875,
          -0.6875,
          7.3125,
          6.3125,
          -3.1875,
          -6.4375,
          0.8125,
          -0.6875,
          7.3125,
          2.8125,
          -9.9375,
          4.8125,
          7.3125,
          -0.6875,
          0.8125,
          -2.1875,
          -7.1875,
          -10.6875,
          4.3125,
          2.8125,
          -5.6875,
          -9.1875,
          -4.1875,
          5.3125,
          -0.6875,
          6.3125,
          6.3125,
          0.8125,
          -7.1875,
          -10.6875,
          4.3125,
          7.3125,
          -2.1875,
          2.8125,
          -5.6875,
          -4.1875,
          -9.1875,
          5.3125,
          2.3125,
          -0.6875,
          6.3125,
          -2.6875,
          4.3125,
          7.3125,
          3.3125,
          -9.6875,
          -7.6875,
          -0.6875,
          6.3125,
          -2.1875,
          -4.6875,
          4.3125,
          -3.6875,
          5.3125,
          -6.6875,
          -1.6875,
          7.3125,
          -5.6875,
          2.8125,
          -8.6875,
          -10.6875,
          0.3125,
          1.3125,
          -10.6875,
          -4.6875,
          -9.1875,
          5.3125,
          -5.6875,
          0.8125,
          -3.6875,
          5.0625,
          -7.1875,
          5.0625,
          -5.0625,
          0,
          -5.0625,
          5.0625,
          -5.0625,
          5.0625,
          -5.0625,
          -5.0625,
          5.0625,
          -5.0625,
          5.0625,
          -8.1875,
          -1.9375,
          3.3125,
          6.8125,
          -8.1875,
          -1.9375,
          3.3125,
          6.8125,
          -8.1875,
          3.3125,
          -1.9375,
          6.8125,
          -8.1875,
          3.3125,
          -1.9375,
          6.8125,
          6.3125,
          -3.1875,
          -6.4375,
          1.8125,
          7.3125,
          -9.9375,
          4.8125,
          -0.6875,
          1.8125,
          -9.9375,
          4.8125,
          -6.4375,
          -1.9375,
          6.8125,
          6.3125,
          -3.1875,
          -6.4375,
          -8.1875,
          1.8125,
          -1.9375,
          3.3125,
          6.8125,
          7.3125,
          -9.9375,
          4.8125,
          -0.6875,
          6.3125,
          1.8125,
          -0.6875,
          7.3125,
          -9.9375,
          -3.1875,
          4.8125,
          -6.4375,
          6.3125,
          0.8125,
          -0.6875,
          7.3125,
          2.8125,
          -6.4375,
          -9.9375,
          4.8125,
          -3.1875,
          6.3125
         ],
         "y": [
          18,
          18,
          18,
          18,
          18,
          18,
          18,
          18,
          18,
          18,
          18,
          16,
          16,
          16,
          16,
          16,
          16,
          16,
          16,
          16,
          19,
          19,
          19,
          19,
          19,
          19,
          19,
          19,
          19,
          19,
          19,
          19,
          20,
          19,
          20,
          20,
          20,
          20,
          20,
          20,
          20,
          20,
          20,
          20,
          20,
          20,
          22,
          22,
          22,
          22,
          22,
          22,
          22,
          22,
          22,
          21,
          21,
          21,
          22,
          21,
          22,
          22,
          22,
          22,
          21,
          22,
          21,
          22,
          22,
          22,
          22,
          21,
          21,
          21,
          21,
          21,
          21,
          21,
          2,
          21,
          3,
          2,
          0,
          3,
          4,
          4,
          5,
          5,
          1,
          1,
          6,
          6,
          9,
          9,
          9,
          9,
          8,
          8,
          8,
          8,
          11,
          11,
          11,
          11,
          10,
          10,
          10,
          10,
          13,
          13,
          13,
          13,
          13,
          13,
          13,
          13,
          12,
          12,
          12,
          12,
          12,
          12,
          14,
          14,
          14,
          7,
          14,
          7,
          7,
          7,
          14,
          14,
          14,
          14,
          15,
          15,
          15,
          15,
          15,
          15,
          15,
          15,
          17,
          17,
          17,
          17,
          17,
          17,
          17,
          17,
          17,
          18
         ]
        }
       ],
       "layout": {
        "hovermode": "closest",
        "showlegend": true,
        "template": {
         "data": {
          "bar": [
           {
            "error_x": {
             "color": "#2a3f5f"
            },
            "error_y": {
             "color": "#2a3f5f"
            },
            "marker": {
             "line": {
              "color": "#E5ECF6",
              "width": 0.5
             },
             "pattern": {
              "fillmode": "overlay",
              "size": 10,
              "solidity": 0.2
             }
            },
            "type": "bar"
           }
          ],
          "barpolar": [
           {
            "marker": {
             "line": {
              "color": "#E5ECF6",
              "width": 0.5
             },
             "pattern": {
              "fillmode": "overlay",
              "size": 10,
              "solidity": 0.2
             }
            },
            "type": "barpolar"
           }
          ],
          "carpet": [
           {
            "aaxis": {
             "endlinecolor": "#2a3f5f",
             "gridcolor": "white",
             "linecolor": "white",
             "minorgridcolor": "white",
             "startlinecolor": "#2a3f5f"
            },
            "baxis": {
             "endlinecolor": "#2a3f5f",
             "gridcolor": "white",
             "linecolor": "white",
             "minorgridcolor": "white",
             "startlinecolor": "#2a3f5f"
            },
            "type": "carpet"
           }
          ],
          "choropleth": [
           {
            "colorbar": {
             "outlinewidth": 0,
             "ticks": ""
            },
            "type": "choropleth"
           }
          ],
          "contour": [
           {
            "colorbar": {
             "outlinewidth": 0,
             "ticks": ""
            },
            "colorscale": [
             [
              0,
              "#0d0887"
             ],
             [
              0.1111111111111111,
              "#46039f"
             ],
             [
              0.2222222222222222,
              "#7201a8"
             ],
             [
              0.3333333333333333,
              "#9c179e"
             ],
             [
              0.4444444444444444,
              "#bd3786"
             ],
             [
              0.5555555555555556,
              "#d8576b"
             ],
             [
              0.6666666666666666,
              "#ed7953"
             ],
             [
              0.7777777777777778,
              "#fb9f3a"
             ],
             [
              0.8888888888888888,
              "#fdca26"
             ],
             [
              1,
              "#f0f921"
             ]
            ],
            "type": "contour"
           }
          ],
          "contourcarpet": [
           {
            "colorbar": {
             "outlinewidth": 0,
             "ticks": ""
            },
            "type": "contourcarpet"
           }
          ],
          "heatmap": [
           {
            "colorbar": {
             "outlinewidth": 0,
             "ticks": ""
            },
            "colorscale": [
             [
              0,
              "#0d0887"
             ],
             [
              0.1111111111111111,
              "#46039f"
             ],
             [
              0.2222222222222222,
              "#7201a8"
             ],
             [
              0.3333333333333333,
              "#9c179e"
             ],
             [
              0.4444444444444444,
              "#bd3786"
             ],
             [
              0.5555555555555556,
              "#d8576b"
             ],
             [
              0.6666666666666666,
              "#ed7953"
             ],
             [
              0.7777777777777778,
              "#fb9f3a"
             ],
             [
              0.8888888888888888,
              "#fdca26"
             ],
             [
              1,
              "#f0f921"
             ]
            ],
            "type": "heatmap"
           }
          ],
          "heatmapgl": [
           {
            "colorbar": {
             "outlinewidth": 0,
             "ticks": ""
            },
            "colorscale": [
             [
              0,
              "#0d0887"
             ],
             [
              0.1111111111111111,
              "#46039f"
             ],
             [
              0.2222222222222222,
              "#7201a8"
             ],
             [
              0.3333333333333333,
              "#9c179e"
             ],
             [
              0.4444444444444444,
              "#bd3786"
             ],
             [
              0.5555555555555556,
              "#d8576b"
             ],
             [
              0.6666666666666666,
              "#ed7953"
             ],
             [
              0.7777777777777778,
              "#fb9f3a"
             ],
             [
              0.8888888888888888,
              "#fdca26"
             ],
             [
              1,
              "#f0f921"
             ]
            ],
            "type": "heatmapgl"
           }
          ],
          "histogram": [
           {
            "marker": {
             "pattern": {
              "fillmode": "overlay",
              "size": 10,
              "solidity": 0.2
             }
            },
            "type": "histogram"
           }
          ],
          "histogram2d": [
           {
            "colorbar": {
             "outlinewidth": 0,
             "ticks": ""
            },
            "colorscale": [
             [
              0,
              "#0d0887"
             ],
             [
              0.1111111111111111,
              "#46039f"
             ],
             [
              0.2222222222222222,
              "#7201a8"
             ],
             [
              0.3333333333333333,
              "#9c179e"
             ],
             [
              0.4444444444444444,
              "#bd3786"
             ],
             [
              0.5555555555555556,
              "#d8576b"
             ],
             [
              0.6666666666666666,
              "#ed7953"
             ],
             [
              0.7777777777777778,
              "#fb9f3a"
             ],
             [
              0.8888888888888888,
              "#fdca26"
             ],
             [
              1,
              "#f0f921"
             ]
            ],
            "type": "histogram2d"
           }
          ],
          "histogram2dcontour": [
           {
            "colorbar": {
             "outlinewidth": 0,
             "ticks": ""
            },
            "colorscale": [
             [
              0,
              "#0d0887"
             ],
             [
              0.1111111111111111,
              "#46039f"
             ],
             [
              0.2222222222222222,
              "#7201a8"
             ],
             [
              0.3333333333333333,
              "#9c179e"
             ],
             [
              0.4444444444444444,
              "#bd3786"
             ],
             [
              0.5555555555555556,
              "#d8576b"
             ],
             [
              0.6666666666666666,
              "#ed7953"
             ],
             [
              0.7777777777777778,
              "#fb9f3a"
             ],
             [
              0.8888888888888888,
              "#fdca26"
             ],
             [
              1,
              "#f0f921"
             ]
            ],
            "type": "histogram2dcontour"
           }
          ],
          "mesh3d": [
           {
            "colorbar": {
             "outlinewidth": 0,
             "ticks": ""
            },
            "type": "mesh3d"
           }
          ],
          "parcoords": [
           {
            "line": {
             "colorbar": {
              "outlinewidth": 0,
              "ticks": ""
             }
            },
            "type": "parcoords"
           }
          ],
          "pie": [
           {
            "automargin": true,
            "type": "pie"
           }
          ],
          "scatter": [
           {
            "fillpattern": {
             "fillmode": "overlay",
             "size": 10,
             "solidity": 0.2
            },
            "type": "scatter"
           }
          ],
          "scatter3d": [
           {
            "line": {
             "colorbar": {
              "outlinewidth": 0,
              "ticks": ""
             }
            },
            "marker": {
             "colorbar": {
              "outlinewidth": 0,
              "ticks": ""
             }
            },
            "type": "scatter3d"
           }
          ],
          "scattercarpet": [
           {
            "marker": {
             "colorbar": {
              "outlinewidth": 0,
              "ticks": ""
             }
            },
            "type": "scattercarpet"
           }
          ],
          "scattergeo": [
           {
            "marker": {
             "colorbar": {
              "outlinewidth": 0,
              "ticks": ""
             }
            },
            "type": "scattergeo"
           }
          ],
          "scattergl": [
           {
            "marker": {
             "colorbar": {
              "outlinewidth": 0,
              "ticks": ""
             }
            },
            "type": "scattergl"
           }
          ],
          "scattermapbox": [
           {
            "marker": {
             "colorbar": {
              "outlinewidth": 0,
              "ticks": ""
             }
            },
            "type": "scattermapbox"
           }
          ],
          "scatterpolar": [
           {
            "marker": {
             "colorbar": {
              "outlinewidth": 0,
              "ticks": ""
             }
            },
            "type": "scatterpolar"
           }
          ],
          "scatterpolargl": [
           {
            "marker": {
             "colorbar": {
              "outlinewidth": 0,
              "ticks": ""
             }
            },
            "type": "scatterpolargl"
           }
          ],
          "scatterternary": [
           {
            "marker": {
             "colorbar": {
              "outlinewidth": 0,
              "ticks": ""
             }
            },
            "type": "scatterternary"
           }
          ],
          "surface": [
           {
            "colorbar": {
             "outlinewidth": 0,
             "ticks": ""
            },
            "colorscale": [
             [
              0,
              "#0d0887"
             ],
             [
              0.1111111111111111,
              "#46039f"
             ],
             [
              0.2222222222222222,
              "#7201a8"
             ],
             [
              0.3333333333333333,
              "#9c179e"
             ],
             [
              0.4444444444444444,
              "#bd3786"
             ],
             [
              0.5555555555555556,
              "#d8576b"
             ],
             [
              0.6666666666666666,
              "#ed7953"
             ],
             [
              0.7777777777777778,
              "#fb9f3a"
             ],
             [
              0.8888888888888888,
              "#fdca26"
             ],
             [
              1,
              "#f0f921"
             ]
            ],
            "type": "surface"
           }
          ],
          "table": [
           {
            "cells": {
             "fill": {
              "color": "#EBF0F8"
             },
             "line": {
              "color": "white"
             }
            },
            "header": {
             "fill": {
              "color": "#C8D4E3"
             },
             "line": {
              "color": "white"
             }
            },
            "type": "table"
           }
          ]
         },
         "layout": {
          "annotationdefaults": {
           "arrowcolor": "#2a3f5f",
           "arrowhead": 0,
           "arrowwidth": 1
          },
          "autotypenumbers": "strict",
          "coloraxis": {
           "colorbar": {
            "outlinewidth": 0,
            "ticks": ""
           }
          },
          "colorscale": {
           "diverging": [
            [
             0,
             "#8e0152"
            ],
            [
             0.1,
             "#c51b7d"
            ],
            [
             0.2,
             "#de77ae"
            ],
            [
             0.3,
             "#f1b6da"
            ],
            [
             0.4,
             "#fde0ef"
            ],
            [
             0.5,
             "#f7f7f7"
            ],
            [
             0.6,
             "#e6f5d0"
            ],
            [
             0.7,
             "#b8e186"
            ],
            [
             0.8,
             "#7fbc41"
            ],
            [
             0.9,
             "#4d9221"
            ],
            [
             1,
             "#276419"
            ]
           ],
           "sequential": [
            [
             0,
             "#0d0887"
            ],
            [
             0.1111111111111111,
             "#46039f"
            ],
            [
             0.2222222222222222,
             "#7201a8"
            ],
            [
             0.3333333333333333,
             "#9c179e"
            ],
            [
             0.4444444444444444,
             "#bd3786"
            ],
            [
             0.5555555555555556,
             "#d8576b"
            ],
            [
             0.6666666666666666,
             "#ed7953"
            ],
            [
             0.7777777777777778,
             "#fb9f3a"
            ],
            [
             0.8888888888888888,
             "#fdca26"
            ],
            [
             1,
             "#f0f921"
            ]
           ],
           "sequentialminus": [
            [
             0,
             "#0d0887"
            ],
            [
             0.1111111111111111,
             "#46039f"
            ],
            [
             0.2222222222222222,
             "#7201a8"
            ],
            [
             0.3333333333333333,
             "#9c179e"
            ],
            [
             0.4444444444444444,
             "#bd3786"
            ],
            [
             0.5555555555555556,
             "#d8576b"
            ],
            [
             0.6666666666666666,
             "#ed7953"
            ],
            [
             0.7777777777777778,
             "#fb9f3a"
            ],
            [
             0.8888888888888888,
             "#fdca26"
            ],
            [
             1,
             "#f0f921"
            ]
           ]
          },
          "colorway": [
           "#636efa",
           "#EF553B",
           "#00cc96",
           "#ab63fa",
           "#FFA15A",
           "#19d3f3",
           "#FF6692",
           "#B6E880",
           "#FF97FF",
           "#FECB52"
          ],
          "font": {
           "color": "#2a3f5f"
          },
          "geo": {
           "bgcolor": "white",
           "lakecolor": "white",
           "landcolor": "#E5ECF6",
           "showlakes": true,
           "showland": true,
           "subunitcolor": "white"
          },
          "hoverlabel": {
           "align": "left"
          },
          "hovermode": "closest",
          "mapbox": {
           "style": "light"
          },
          "paper_bgcolor": "white",
          "plot_bgcolor": "#E5ECF6",
          "polar": {
           "angularaxis": {
            "gridcolor": "white",
            "linecolor": "white",
            "ticks": ""
           },
           "bgcolor": "#E5ECF6",
           "radialaxis": {
            "gridcolor": "white",
            "linecolor": "white",
            "ticks": ""
           }
          },
          "scene": {
           "xaxis": {
            "backgroundcolor": "#E5ECF6",
            "gridcolor": "white",
            "gridwidth": 2,
            "linecolor": "white",
            "showbackground": true,
            "ticks": "",
            "zerolinecolor": "white"
           },
           "yaxis": {
            "backgroundcolor": "#E5ECF6",
            "gridcolor": "white",
            "gridwidth": 2,
            "linecolor": "white",
            "showbackground": true,
            "ticks": "",
            "zerolinecolor": "white"
           },
           "zaxis": {
            "backgroundcolor": "#E5ECF6",
            "gridcolor": "white",
            "gridwidth": 2,
            "linecolor": "white",
            "showbackground": true,
            "ticks": "",
            "zerolinecolor": "white"
           }
          },
          "shapedefaults": {
           "line": {
            "color": "#2a3f5f"
           }
          },
          "ternary": {
           "aaxis": {
            "gridcolor": "white",
            "linecolor": "white",
            "ticks": ""
           },
           "baxis": {
            "gridcolor": "white",
            "linecolor": "white",
            "ticks": ""
           },
           "bgcolor": "#E5ECF6",
           "caxis": {
            "gridcolor": "white",
            "linecolor": "white",
            "ticks": ""
           }
          },
          "title": {
           "x": 0.05
          },
          "xaxis": {
           "automargin": true,
           "gridcolor": "white",
           "linecolor": "white",
           "ticks": "",
           "title": {
            "standoff": 15
           },
           "zerolinecolor": "white",
           "zerolinewidth": 2
          },
          "yaxis": {
           "automargin": true,
           "gridcolor": "white",
           "linecolor": "white",
           "ticks": "",
           "title": {
            "standoff": 15
           },
           "zerolinecolor": "white",
           "zerolinewidth": 2
          }
         }
        },
        "title": {},
        "xaxis": {
         "showgrid": false,
         "showticklabels": false,
         "zeroline": false
        },
        "yaxis": {
         "autorange": "reversed",
         "showgrid": true,
         "title": {
          "text": "Time (frames)"
         },
         "zeroline": true
        }
       }
      }
     },
     "metadata": {},
     "output_type": "display_data"
    }
   ],
   "source": [
    "lin0_1.plot(node_hover_features=[\"cell_ID\", \"absolute_age\", \"relative_age\"])"
   ]
  },
  {
   "cell_type": "code",
   "execution_count": 6,
   "metadata": {},
   "outputs": [
    {
     "data": {
      "application/vnd.plotly.v1+json": {
       "config": {
        "plotlyServerURL": "https://plot.ly"
       },
       "data": [
        {
         "mode": "lines",
         "name": "Edges",
         "type": "scatter",
         "x": [
          0.75,
          0.75,
          null,
          -10.25,
          -10.25,
          null,
          2.75,
          2.75,
          null,
          -6.75,
          -6.75,
          null,
          -5.25,
          -5.25,
          null,
          -8.75,
          -8.75,
          null,
          -3.75,
          -3.75,
          null,
          4.25,
          3.75,
          null,
          4.25,
          4.75,
          null,
          -1.75,
          -1.75,
          null,
          -0.25,
          -0.25,
          null,
          6.75,
          6.75,
          null,
          5.75,
          5.75,
          null,
          -2.75,
          -2.75,
          null,
          -6,
          -6,
          null,
          0.75,
          0.75,
          null,
          -0.25,
          -0.25,
          null,
          6.75,
          6.75,
          null,
          2.75,
          2.75,
          null,
          -9.5,
          -9.5,
          null,
          6.75,
          6.75,
          null,
          -0.25,
          -0.25,
          null,
          0.75,
          0.75,
          null,
          -1.75,
          -1.75,
          null,
          -6.75,
          -6.75,
          null,
          -10.25,
          -10.25,
          null,
          3.75,
          3.75,
          null,
          2.75,
          2.75,
          null,
          -5.25,
          -5.25,
          null,
          -8.75,
          -8.75,
          null,
          -3.75,
          -3.75,
          null,
          4.75,
          4.75,
          null,
          -0.25,
          -0.25,
          null,
          5.75,
          5.75,
          null,
          5.75,
          5.75,
          null,
          0.75,
          0.75,
          null,
          -6.75,
          -6.75,
          null,
          -10.25,
          -10.25,
          null,
          3.75,
          3.75,
          null,
          6.75,
          6.75,
          null,
          -1.75,
          -1.75,
          null,
          2.75,
          2.75,
          null,
          -5.25,
          -5.25,
          null,
          -3.75,
          -3.25,
          null,
          -3.75,
          -4.25,
          null,
          -8.75,
          -8.75,
          null,
          4.75,
          4.75,
          null,
          -0.25,
          -0.25,
          null,
          5.75,
          5.75,
          null,
          -1.75,
          -2.25,
          null,
          -1.75,
          -1.25,
          null,
          3.75,
          3.75,
          null,
          6.75,
          6.75,
          null,
          2.75,
          2.25,
          null,
          2.75,
          3.25,
          null,
          -10.25,
          -10.25,
          null,
          -4.25,
          -4.25,
          null,
          -8.75,
          -9.25,
          null,
          -8.75,
          -8.25,
          null,
          4.75,
          4.75,
          null,
          -5.25,
          -5.25,
          null,
          0.75,
          0.25,
          null,
          0.75,
          1.25,
          null,
          -3.25,
          -3.25,
          null,
          4.625,
          4.625,
          null,
          -6.75,
          -6.25,
          null,
          -6.75,
          -7.25,
          null,
          4.625,
          4.625,
          null,
          -4.625,
          -4.625,
          null,
          0,
          4.625,
          null,
          0,
          -4.625,
          null,
          -4.625,
          -4.625,
          null,
          4.625,
          4.625,
          null,
          4.625,
          4.625,
          null,
          -4.625,
          -4.625,
          null,
          -4.625,
          -4.625,
          null,
          4.625,
          4.625,
          null,
          -4.625,
          -1.5,
          null,
          -4.625,
          -7.75,
          null,
          4.625,
          3,
          null,
          4.625,
          6.25,
          null,
          -7.75,
          -7.75,
          null,
          -1.5,
          -1.5,
          null,
          3,
          3,
          null,
          6.25,
          6.25,
          null,
          -7.75,
          -7.75,
          null,
          -1.5,
          -1.5,
          null,
          3,
          3,
          null,
          6.25,
          6.25,
          null,
          -7.75,
          -6,
          null,
          -7.75,
          -9.5,
          null,
          3,
          1.75,
          null,
          3,
          4.25,
          null,
          -1.5,
          -1.5,
          null,
          6.25,
          6.25,
          null,
          -7.75,
          -7.75,
          null,
          3,
          3,
          null,
          -1.5,
          -1.5,
          null,
          6.25,
          6.25,
          null,
          5.75,
          5.75,
          null,
          -2.75,
          -2.75,
          null,
          -6,
          -6,
          null,
          1.75,
          1.75,
          null,
          6.75,
          6.75,
          null,
          -9.5,
          -9.5,
          null,
          4.25,
          4.25,
          null,
          -0.25,
          -0.25,
          null,
          1.75,
          1.75,
          null,
          -9.5,
          -9.5,
          null,
          4.25,
          4.25,
          null,
          -6,
          -6,
          null,
          -1.5,
          -0.25,
          null,
          -1.5,
          -2.75,
          null,
          6.25,
          6.75,
          null,
          6.25,
          5.75,
          null,
          5.75,
          5.75,
          null,
          -2.75,
          -2.75,
          null,
          -6,
          -6,
          null,
          -7.75,
          -7.75,
          null,
          1.75,
          1.75,
          null,
          -1.5,
          -1.5,
          null,
          3,
          3,
          null,
          6.25,
          6.25,
          null,
          6.75,
          6.75,
          null,
          -9.5,
          -9.5,
          null,
          4.25,
          4.25,
          null,
          -0.25,
          -0.25,
          null,
          5.75,
          5.75,
          null,
          1.75,
          2.75,
          null,
          1.75,
          0.75,
          null,
          -0.25,
          -0.25,
          null,
          6.75,
          6.75,
          null,
          -9.5,
          -9.5,
          null,
          -2.75,
          -2.75,
          null,
          -6,
          -6,
          null,
          5.75,
          5.75,
          null,
          0.75,
          0.75,
          null,
          -0.25,
          -0.25,
          null,
          6.75,
          6.75,
          null,
          2.75,
          2.75,
          null,
          -6,
          -6.75,
          null,
          -6,
          -5.25,
          null,
          -9.5,
          -8.75,
          null,
          -9.5,
          -10.25,
          null,
          4.25,
          4.25,
          null,
          -2.75,
          -3.75,
          null,
          -2.75,
          -1.75,
          null,
          5.75,
          5.75,
          null
         ],
         "y": [
          18,
          19,
          null,
          18,
          19,
          null,
          18,
          19,
          null,
          18,
          19,
          null,
          18,
          19,
          null,
          18,
          19,
          null,
          18,
          19,
          null,
          18,
          19,
          null,
          18,
          19,
          null,
          18,
          19,
          null,
          18,
          19,
          null,
          18,
          19,
          null,
          16,
          17,
          null,
          16,
          17,
          null,
          16,
          17,
          null,
          16,
          17,
          null,
          16,
          17,
          null,
          16,
          17,
          null,
          16,
          17,
          null,
          16,
          17,
          null,
          19,
          20,
          null,
          19,
          20,
          null,
          19,
          20,
          null,
          19,
          20,
          null,
          19,
          20,
          null,
          19,
          20,
          null,
          19,
          20,
          null,
          19,
          20,
          null,
          19,
          20,
          null,
          19,
          20,
          null,
          19,
          20,
          null,
          19,
          20,
          null,
          20,
          21,
          null,
          19,
          20,
          null,
          20,
          21,
          null,
          20,
          21,
          null,
          20,
          21,
          null,
          20,
          21,
          null,
          20,
          21,
          null,
          20,
          21,
          null,
          20,
          21,
          null,
          20,
          21,
          null,
          20,
          21,
          null,
          20,
          21,
          null,
          20,
          21,
          null,
          20,
          21,
          null,
          20,
          21,
          null,
          21,
          22,
          null,
          21,
          22,
          null,
          21,
          22,
          null,
          21,
          22,
          null,
          21,
          22,
          null,
          21,
          22,
          null,
          21,
          22,
          null,
          21,
          22,
          null,
          21,
          22,
          null,
          21,
          22,
          null,
          21,
          22,
          null,
          21,
          22,
          null,
          21,
          22,
          null,
          21,
          22,
          null,
          21,
          22,
          null,
          21,
          22,
          null,
          21,
          22,
          null,
          2,
          3,
          null,
          21,
          22,
          null,
          21,
          22,
          null,
          3,
          4,
          null,
          2,
          3,
          null,
          0,
          1,
          null,
          0,
          1,
          null,
          3,
          5,
          null,
          4,
          5,
          null,
          5,
          6,
          null,
          5,
          6,
          null,
          1,
          2,
          null,
          1,
          2,
          null,
          6,
          7,
          null,
          6,
          7,
          null,
          6,
          7,
          null,
          6,
          7,
          null,
          9,
          10,
          null,
          9,
          10,
          null,
          9,
          10,
          null,
          9,
          10,
          null,
          8,
          9,
          null,
          8,
          9,
          null,
          8,
          9,
          null,
          8,
          9,
          null,
          11,
          12,
          null,
          11,
          12,
          null,
          11,
          12,
          null,
          11,
          12,
          null,
          11,
          12,
          null,
          11,
          12,
          null,
          10,
          11,
          null,
          10,
          11,
          null,
          10,
          11,
          null,
          10,
          11,
          null,
          13,
          14,
          null,
          13,
          14,
          null,
          13,
          14,
          null,
          13,
          14,
          null,
          13,
          14,
          null,
          13,
          14,
          null,
          13,
          14,
          null,
          13,
          14,
          null,
          12,
          13,
          null,
          12,
          13,
          null,
          12,
          13,
          null,
          12,
          13,
          null,
          12,
          13,
          null,
          12,
          13,
          null,
          12,
          13,
          null,
          12,
          13,
          null,
          14,
          15,
          null,
          14,
          15,
          null,
          14,
          15,
          null,
          7,
          8,
          null,
          14,
          15,
          null,
          7,
          8,
          null,
          7,
          8,
          null,
          7,
          8,
          null,
          14,
          15,
          null,
          14,
          15,
          null,
          14,
          17,
          null,
          14,
          15,
          null,
          15,
          16,
          null,
          15,
          16,
          null,
          15,
          16,
          null,
          15,
          16,
          null,
          15,
          16,
          null,
          15,
          16,
          null,
          15,
          16,
          null,
          15,
          16,
          null,
          17,
          18,
          null,
          17,
          18,
          null,
          17,
          18,
          null,
          17,
          18,
          null,
          17,
          18,
          null,
          17,
          18,
          null,
          17,
          18,
          null,
          17,
          18,
          null,
          17,
          18,
          null,
          17,
          18,
          null,
          17,
          18,
          null,
          17,
          18,
          null,
          18,
          19,
          null
         ]
        },
        {
         "hoverinfo": "text",
         "hovertemplate": "%{text}",
         "mode": "markers",
         "name": "lineage_ID: 0",
         "text": [
          "cell_ID: 9216<br>absolute_age: 18<br>relative_age: 2<br>",
          "cell_ID: 9218<br>absolute_age: 18<br>relative_age: 0<br>",
          "cell_ID: 9222<br>absolute_age: 18<br>relative_age: 2<br>",
          "cell_ID: 9223<br>absolute_age: 18<br>relative_age: 0<br>",
          "cell_ID: 9227<br>absolute_age: 18<br>relative_age: 0<br>",
          "cell_ID: 9228<br>absolute_age: 18<br>relative_age: 0<br>",
          "cell_ID: 9229<br>absolute_age: 18<br>relative_age: 0<br>",
          "cell_ID: 9230<br>absolute_age: 18<br>relative_age: 6<br>",
          "cell_ID: 9235<br>absolute_age: 18<br>relative_age: 0<br>",
          "cell_ID: 9240<br>absolute_age: 18<br>relative_age: 5<br>",
          "cell_ID: 9250<br>absolute_age: 18<br>relative_age: 5<br>",
          "cell_ID: 9252<br>absolute_age: 16<br>relative_age: 3<br>",
          "cell_ID: 9255<br>absolute_age: 16<br>relative_age: 3<br>",
          "cell_ID: 9258<br>absolute_age: 16<br>relative_age: 4<br>",
          "cell_ID: 9259<br>absolute_age: 16<br>relative_age: 0<br>",
          "cell_ID: 9262<br>absolute_age: 16<br>relative_age: 3<br>",
          "cell_ID: 9263<br>absolute_age: 16<br>relative_age: 3<br>",
          "cell_ID: 9271<br>absolute_age: 16<br>relative_age: 0<br>",
          "cell_ID: 9274<br>absolute_age: 16<br>relative_age: 4<br>",
          "cell_ID: 9279<br>absolute_age: 19<br>relative_age: 6<br>",
          "cell_ID: 9286<br>absolute_age: 19<br>relative_age: 6<br>",
          "cell_ID: 9290<br>absolute_age: 19<br>relative_age: 3<br>",
          "cell_ID: 9292<br>absolute_age: 19<br>relative_age: 1<br>",
          "cell_ID: 9293<br>absolute_age: 19<br>relative_age: 1<br>",
          "cell_ID: 9294<br>absolute_age: 19<br>relative_age: 1<br>",
          "cell_ID: 9299<br>absolute_age: 19<br>relative_age: 0<br>",
          "cell_ID: 9306<br>absolute_age: 19<br>relative_age: 3<br>",
          "cell_ID: 9308<br>absolute_age: 19<br>relative_age: 1<br>",
          "cell_ID: 9309<br>absolute_age: 19<br>relative_age: 1<br>",
          "cell_ID: 9310<br>absolute_age: 19<br>relative_age: 1<br>",
          "cell_ID: 9312<br>absolute_age: 19<br>relative_age: 0<br>",
          "cell_ID: 9326<br>absolute_age: 20<br>relative_age: 7<br>",
          "cell_ID: 9328<br>absolute_age: 19<br>relative_age: 6<br>",
          "cell_ID: 9330<br>absolute_age: 20<br>relative_age: 7<br>",
          "cell_ID: 9332<br>absolute_age: 20<br>relative_age: 4<br>",
          "cell_ID: 9334<br>absolute_age: 20<br>relative_age: 2<br>",
          "cell_ID: 9335<br>absolute_age: 20<br>relative_age: 2<br>",
          "cell_ID: 9339<br>absolute_age: 20<br>relative_age: 1<br>",
          "cell_ID: 9343<br>absolute_age: 20<br>relative_age: 7<br>",
          "cell_ID: 9344<br>absolute_age: 20<br>relative_age: 2<br>",
          "cell_ID: 9351<br>absolute_age: 20<br>relative_age: 4<br>",
          "cell_ID: 9355<br>absolute_age: 20<br>relative_age: 2<br>",
          "cell_ID: 9356<br>absolute_age: 20<br>relative_age: 2<br>",
          "cell_ID: 9357<br>absolute_age: 20<br>relative_age: 2<br>",
          "cell_ID: 9358<br>absolute_age: 20<br>relative_age: 1<br>",
          "cell_ID: 9375<br>absolute_age: 22<br>relative_age: 0<br>",
          "cell_ID: 9382<br>absolute_age: 22<br>relative_age: 9<br>",
          "cell_ID: 9384<br>absolute_age: 22<br>relative_age: 9<br>",
          "cell_ID: 9389<br>absolute_age: 22<br>relative_age: 0<br>",
          "cell_ID: 9390<br>absolute_age: 22<br>relative_age: 3<br>",
          "cell_ID: 9395<br>absolute_age: 22<br>relative_age: 9<br>",
          "cell_ID: 9398<br>absolute_age: 22<br>relative_age: 0<br>",
          "cell_ID: 9402<br>absolute_age: 22<br>relative_age: 0<br>",
          "cell_ID: 9416<br>absolute_age: 22<br>relative_age: 0<br>",
          "cell_ID: 9424<br>absolute_age: 21<br>relative_age: 8<br>",
          "cell_ID: 9428<br>absolute_age: 21<br>relative_age: 8<br>",
          "cell_ID: 9438<br>absolute_age: 21<br>relative_age: 3<br>",
          "cell_ID: 9440<br>absolute_age: 22<br>relative_age: 1<br>",
          "cell_ID: 9441<br>absolute_age: 21<br>relative_age: 2<br>",
          "cell_ID: 9444<br>absolute_age: 22<br>relative_age: 1<br>",
          "cell_ID: 9446<br>absolute_age: 22<br>relative_age: 3<br>",
          "cell_ID: 9448<br>absolute_age: 22<br>relative_age: 0<br>",
          "cell_ID: 9449<br>absolute_age: 22<br>relative_age: 0<br>",
          "cell_ID: 9450<br>absolute_age: 21<br>relative_age: 8<br>",
          "cell_ID: 9463<br>absolute_age: 22<br>relative_age: 4<br>",
          "cell_ID: 9464<br>absolute_age: 21<br>relative_age: 5<br>",
          "cell_ID: 9465<br>absolute_age: 22<br>relative_age: 0<br>",
          "cell_ID: 9470<br>absolute_age: 22<br>relative_age: 4<br>",
          "cell_ID: 9476<br>absolute_age: 22<br>relative_age: 0<br>",
          "cell_ID: 9480<br>absolute_age: 22<br>relative_age: 0<br>",
          "cell_ID: 9481<br>absolute_age: 21<br>relative_age: 3<br>",
          "cell_ID: 9482<br>absolute_age: 21<br>relative_age: 0<br>",
          "cell_ID: 9483<br>absolute_age: 21<br>relative_age: 3<br>",
          "cell_ID: 9485<br>absolute_age: 21<br>relative_age: 2<br>",
          "cell_ID: 9491<br>absolute_age: 21<br>relative_age: 3<br>",
          "cell_ID: 9492<br>absolute_age: 21<br>relative_age: 5<br>",
          "cell_ID: 9494<br>absolute_age: 21<br>relative_age: 0<br>",
          "cell_ID: 8986<br>absolute_age: 2<br>relative_age: 1<br>",
          "cell_ID: 9498<br>absolute_age: 21<br>relative_age: 3<br>",
          "cell_ID: 8988<br>absolute_age: 3<br>relative_age: 2<br>",
          "cell_ID: 8989<br>absolute_age: 2<br>relative_age: 1<br>",
          "cell_ID: 8993<br>absolute_age: 0<br>relative_age: 0<br>",
          "cell_ID: 8996<br>absolute_age: 3<br>relative_age: 2<br>",
          "cell_ID: 8999<br>absolute_age: 4<br>relative_age: 3<br>",
          "cell_ID: 9008<br>absolute_age: 5<br>relative_age: 4<br>",
          "cell_ID: 9010<br>absolute_age: 5<br>relative_age: 4<br>",
          "cell_ID: 9013<br>absolute_age: 1<br>relative_age: 0<br>",
          "cell_ID: 9014<br>absolute_age: 1<br>relative_age: 0<br>",
          "cell_ID: 9019<br>absolute_age: 6<br>relative_age: 5<br>",
          "cell_ID: 9020<br>absolute_age: 6<br>relative_age: 5<br>",
          "cell_ID: 9027<br>absolute_age: 9<br>relative_age: 2<br>",
          "cell_ID: 9028<br>absolute_age: 9<br>relative_age: 2<br>",
          "cell_ID: 9029<br>absolute_age: 9<br>relative_age: 2<br>",
          "cell_ID: 9031<br>absolute_age: 9<br>relative_age: 2<br>",
          "cell_ID: 9040<br>absolute_age: 8<br>relative_age: 1<br>",
          "cell_ID: 9041<br>absolute_age: 8<br>relative_age: 1<br>",
          "cell_ID: 9042<br>absolute_age: 8<br>relative_age: 1<br>",
          "cell_ID: 9043<br>absolute_age: 8<br>relative_age: 1<br>",
          "cell_ID: 9051<br>absolute_age: 11<br>relative_age: 4<br>",
          "cell_ID: 9052<br>absolute_age: 11<br>relative_age: 4<br>",
          "cell_ID: 9053<br>absolute_age: 11<br>relative_age: 4<br>",
          "cell_ID: 9055<br>absolute_age: 11<br>relative_age: 4<br>",
          "cell_ID: 9062<br>absolute_age: 10<br>relative_age: 3<br>",
          "cell_ID: 9064<br>absolute_age: 10<br>relative_age: 3<br>",
          "cell_ID: 9065<br>absolute_age: 10<br>relative_age: 3<br>",
          "cell_ID: 9067<br>absolute_age: 10<br>relative_age: 3<br>",
          "cell_ID: 9080<br>absolute_age: 13<br>relative_age: 0<br>",
          "cell_ID: 9081<br>absolute_age: 13<br>relative_age: 0<br>",
          "cell_ID: 9082<br>absolute_age: 13<br>relative_age: 1<br>",
          "cell_ID: 9084<br>absolute_age: 13<br>relative_age: 1<br>",
          "cell_ID: 9086<br>absolute_age: 13<br>relative_age: 0<br>",
          "cell_ID: 9090<br>absolute_age: 13<br>relative_age: 1<br>",
          "cell_ID: 9091<br>absolute_age: 13<br>relative_age: 1<br>",
          "cell_ID: 9095<br>absolute_age: 13<br>relative_age: 0<br>",
          "cell_ID: 9096<br>absolute_age: 12<br>relative_age: 0<br>",
          "cell_ID: 9102<br>absolute_age: 12<br>relative_age: 0<br>",
          "cell_ID: 9103<br>absolute_age: 12<br>relative_age: 0<br>",
          "cell_ID: 9104<br>absolute_age: 12<br>relative_age: 0<br>",
          "cell_ID: 9106<br>absolute_age: 12<br>relative_age: 5<br>",
          "cell_ID: 9108<br>absolute_age: 12<br>relative_age: 5<br>",
          "cell_ID: 9118<br>absolute_age: 14<br>relative_age: 1<br>",
          "cell_ID: 9119<br>absolute_age: 14<br>relative_age: 1<br>",
          "cell_ID: 9120<br>absolute_age: 14<br>relative_age: 2<br>",
          "cell_ID: 9121<br>absolute_age: 7<br>relative_age: 0<br>",
          "cell_ID: 9122<br>absolute_age: 14<br>relative_age: 2<br>",
          "cell_ID: 9123<br>absolute_age: 7<br>relative_age: 0<br>",
          "cell_ID: 9124<br>absolute_age: 7<br>relative_age: 0<br>",
          "cell_ID: 9126<br>absolute_age: 7<br>relative_age: 0<br>",
          "cell_ID: 9127<br>absolute_age: 14<br>relative_age: 1<br>",
          "cell_ID: 9136<br>absolute_age: 14<br>relative_age: 2<br>",
          "cell_ID: 9138<br>absolute_age: 14<br>relative_age: 2<br>",
          "cell_ID: 9143<br>absolute_age: 14<br>relative_age: 1<br>",
          "cell_ID: 9155<br>absolute_age: 15<br>relative_age: 2<br>",
          "cell_ID: 9156<br>absolute_age: 15<br>relative_age: 3<br>",
          "cell_ID: 9159<br>absolute_age: 15<br>relative_age: 2<br>",
          "cell_ID: 9160<br>absolute_age: 15<br>relative_age: 2<br>",
          "cell_ID: 9167<br>absolute_age: 15<br>relative_age: 3<br>",
          "cell_ID: 9168<br>absolute_age: 15<br>relative_age: 2<br>",
          "cell_ID: 9170<br>absolute_age: 15<br>relative_age: 3<br>",
          "cell_ID: 9176<br>absolute_age: 17<br>relative_age: 4<br>",
          "cell_ID: 9178<br>absolute_age: 17<br>relative_age: 1<br>",
          "cell_ID: 9181<br>absolute_age: 17<br>relative_age: 4<br>",
          "cell_ID: 9182<br>absolute_age: 17<br>relative_age: 4<br>",
          "cell_ID: 9191<br>absolute_age: 17<br>relative_age: 1<br>",
          "cell_ID: 9194<br>absolute_age: 17<br>relative_age: 5<br>",
          "cell_ID: 9195<br>absolute_age: 17<br>relative_age: 5<br>",
          "cell_ID: 9196<br>absolute_age: 17<br>relative_age: 5<br>",
          "cell_ID: 9206<br>absolute_age: 17<br>relative_age: 4<br>",
          "cell_ID: 9215<br>absolute_age: 18<br>relative_age: 5<br>"
         ],
         "type": "scatter",
         "x": [
          0.75,
          -10.25,
          2.75,
          -6.75,
          -5.25,
          -8.75,
          -3.75,
          4.25,
          -1.75,
          -0.25,
          6.75,
          5.75,
          -2.75,
          -6,
          0.75,
          -0.25,
          6.75,
          2.75,
          -9.5,
          6.75,
          -0.25,
          0.75,
          -1.75,
          -6.75,
          -10.25,
          3.75,
          2.75,
          -5.25,
          -8.75,
          -3.75,
          4.75,
          -0.25,
          5.75,
          5.75,
          0.75,
          -6.75,
          -10.25,
          3.75,
          6.75,
          -1.75,
          2.75,
          -5.25,
          -3.75,
          -8.75,
          4.75,
          2.25,
          -0.25,
          5.75,
          -2.25,
          3.75,
          6.75,
          3.25,
          -9.25,
          -7.25,
          -0.25,
          5.75,
          -1.75,
          -4.25,
          3.75,
          -3.25,
          4.75,
          -6.25,
          -1.25,
          6.75,
          -5.25,
          2.75,
          -8.25,
          -10.25,
          0.25,
          1.25,
          -10.25,
          -4.25,
          -8.75,
          4.75,
          -5.25,
          0.75,
          -3.25,
          4.625,
          -6.75,
          4.625,
          -4.625,
          0,
          -4.625,
          4.625,
          4.625,
          -4.625,
          -4.625,
          4.625,
          -4.625,
          4.625,
          -7.75,
          -1.5,
          3,
          6.25,
          -7.75,
          -1.5,
          3,
          6.25,
          -7.75,
          3,
          -1.5,
          6.25,
          -7.75,
          3,
          -1.5,
          6.25,
          5.75,
          -2.75,
          -6,
          1.75,
          6.75,
          -9.5,
          4.25,
          -0.25,
          1.75,
          -9.5,
          4.25,
          -6,
          -1.5,
          6.25,
          5.75,
          -2.75,
          -6,
          -7.75,
          1.75,
          -1.5,
          3,
          6.25,
          6.75,
          -9.5,
          4.25,
          -0.25,
          5.75,
          1.75,
          -0.25,
          6.75,
          -9.5,
          -2.75,
          -6,
          5.75,
          0.75,
          -0.25,
          6.75,
          2.75,
          -6,
          -9.5,
          4.25,
          -2.75,
          5.75
         ],
         "y": [
          18,
          18,
          18,
          18,
          18,
          18,
          18,
          18,
          18,
          18,
          18,
          16,
          16,
          16,
          16,
          16,
          16,
          16,
          16,
          19,
          19,
          19,
          19,
          19,
          19,
          19,
          19,
          19,
          19,
          19,
          19,
          20,
          19,
          20,
          20,
          20,
          20,
          20,
          20,
          20,
          20,
          20,
          20,
          20,
          20,
          22,
          22,
          22,
          22,
          22,
          22,
          22,
          22,
          22,
          21,
          21,
          21,
          22,
          21,
          22,
          22,
          22,
          22,
          21,
          22,
          21,
          22,
          22,
          22,
          22,
          21,
          21,
          21,
          21,
          21,
          21,
          21,
          2,
          21,
          3,
          2,
          0,
          3,
          4,
          5,
          5,
          1,
          1,
          6,
          6,
          9,
          9,
          9,
          9,
          8,
          8,
          8,
          8,
          11,
          11,
          11,
          11,
          10,
          10,
          10,
          10,
          13,
          13,
          13,
          13,
          13,
          13,
          13,
          13,
          12,
          12,
          12,
          12,
          12,
          12,
          14,
          14,
          14,
          7,
          14,
          7,
          7,
          7,
          14,
          14,
          14,
          14,
          15,
          15,
          15,
          15,
          15,
          15,
          15,
          17,
          17,
          17,
          17,
          17,
          17,
          17,
          17,
          17,
          18
         ]
        }
       ],
       "layout": {
        "hovermode": "closest",
        "showlegend": true,
        "template": {
         "data": {
          "bar": [
           {
            "error_x": {
             "color": "#2a3f5f"
            },
            "error_y": {
             "color": "#2a3f5f"
            },
            "marker": {
             "line": {
              "color": "#E5ECF6",
              "width": 0.5
             },
             "pattern": {
              "fillmode": "overlay",
              "size": 10,
              "solidity": 0.2
             }
            },
            "type": "bar"
           }
          ],
          "barpolar": [
           {
            "marker": {
             "line": {
              "color": "#E5ECF6",
              "width": 0.5
             },
             "pattern": {
              "fillmode": "overlay",
              "size": 10,
              "solidity": 0.2
             }
            },
            "type": "barpolar"
           }
          ],
          "carpet": [
           {
            "aaxis": {
             "endlinecolor": "#2a3f5f",
             "gridcolor": "white",
             "linecolor": "white",
             "minorgridcolor": "white",
             "startlinecolor": "#2a3f5f"
            },
            "baxis": {
             "endlinecolor": "#2a3f5f",
             "gridcolor": "white",
             "linecolor": "white",
             "minorgridcolor": "white",
             "startlinecolor": "#2a3f5f"
            },
            "type": "carpet"
           }
          ],
          "choropleth": [
           {
            "colorbar": {
             "outlinewidth": 0,
             "ticks": ""
            },
            "type": "choropleth"
           }
          ],
          "contour": [
           {
            "colorbar": {
             "outlinewidth": 0,
             "ticks": ""
            },
            "colorscale": [
             [
              0,
              "#0d0887"
             ],
             [
              0.1111111111111111,
              "#46039f"
             ],
             [
              0.2222222222222222,
              "#7201a8"
             ],
             [
              0.3333333333333333,
              "#9c179e"
             ],
             [
              0.4444444444444444,
              "#bd3786"
             ],
             [
              0.5555555555555556,
              "#d8576b"
             ],
             [
              0.6666666666666666,
              "#ed7953"
             ],
             [
              0.7777777777777778,
              "#fb9f3a"
             ],
             [
              0.8888888888888888,
              "#fdca26"
             ],
             [
              1,
              "#f0f921"
             ]
            ],
            "type": "contour"
           }
          ],
          "contourcarpet": [
           {
            "colorbar": {
             "outlinewidth": 0,
             "ticks": ""
            },
            "type": "contourcarpet"
           }
          ],
          "heatmap": [
           {
            "colorbar": {
             "outlinewidth": 0,
             "ticks": ""
            },
            "colorscale": [
             [
              0,
              "#0d0887"
             ],
             [
              0.1111111111111111,
              "#46039f"
             ],
             [
              0.2222222222222222,
              "#7201a8"
             ],
             [
              0.3333333333333333,
              "#9c179e"
             ],
             [
              0.4444444444444444,
              "#bd3786"
             ],
             [
              0.5555555555555556,
              "#d8576b"
             ],
             [
              0.6666666666666666,
              "#ed7953"
             ],
             [
              0.7777777777777778,
              "#fb9f3a"
             ],
             [
              0.8888888888888888,
              "#fdca26"
             ],
             [
              1,
              "#f0f921"
             ]
            ],
            "type": "heatmap"
           }
          ],
          "heatmapgl": [
           {
            "colorbar": {
             "outlinewidth": 0,
             "ticks": ""
            },
            "colorscale": [
             [
              0,
              "#0d0887"
             ],
             [
              0.1111111111111111,
              "#46039f"
             ],
             [
              0.2222222222222222,
              "#7201a8"
             ],
             [
              0.3333333333333333,
              "#9c179e"
             ],
             [
              0.4444444444444444,
              "#bd3786"
             ],
             [
              0.5555555555555556,
              "#d8576b"
             ],
             [
              0.6666666666666666,
              "#ed7953"
             ],
             [
              0.7777777777777778,
              "#fb9f3a"
             ],
             [
              0.8888888888888888,
              "#fdca26"
             ],
             [
              1,
              "#f0f921"
             ]
            ],
            "type": "heatmapgl"
           }
          ],
          "histogram": [
           {
            "marker": {
             "pattern": {
              "fillmode": "overlay",
              "size": 10,
              "solidity": 0.2
             }
            },
            "type": "histogram"
           }
          ],
          "histogram2d": [
           {
            "colorbar": {
             "outlinewidth": 0,
             "ticks": ""
            },
            "colorscale": [
             [
              0,
              "#0d0887"
             ],
             [
              0.1111111111111111,
              "#46039f"
             ],
             [
              0.2222222222222222,
              "#7201a8"
             ],
             [
              0.3333333333333333,
              "#9c179e"
             ],
             [
              0.4444444444444444,
              "#bd3786"
             ],
             [
              0.5555555555555556,
              "#d8576b"
             ],
             [
              0.6666666666666666,
              "#ed7953"
             ],
             [
              0.7777777777777778,
              "#fb9f3a"
             ],
             [
              0.8888888888888888,
              "#fdca26"
             ],
             [
              1,
              "#f0f921"
             ]
            ],
            "type": "histogram2d"
           }
          ],
          "histogram2dcontour": [
           {
            "colorbar": {
             "outlinewidth": 0,
             "ticks": ""
            },
            "colorscale": [
             [
              0,
              "#0d0887"
             ],
             [
              0.1111111111111111,
              "#46039f"
             ],
             [
              0.2222222222222222,
              "#7201a8"
             ],
             [
              0.3333333333333333,
              "#9c179e"
             ],
             [
              0.4444444444444444,
              "#bd3786"
             ],
             [
              0.5555555555555556,
              "#d8576b"
             ],
             [
              0.6666666666666666,
              "#ed7953"
             ],
             [
              0.7777777777777778,
              "#fb9f3a"
             ],
             [
              0.8888888888888888,
              "#fdca26"
             ],
             [
              1,
              "#f0f921"
             ]
            ],
            "type": "histogram2dcontour"
           }
          ],
          "mesh3d": [
           {
            "colorbar": {
             "outlinewidth": 0,
             "ticks": ""
            },
            "type": "mesh3d"
           }
          ],
          "parcoords": [
           {
            "line": {
             "colorbar": {
              "outlinewidth": 0,
              "ticks": ""
             }
            },
            "type": "parcoords"
           }
          ],
          "pie": [
           {
            "automargin": true,
            "type": "pie"
           }
          ],
          "scatter": [
           {
            "fillpattern": {
             "fillmode": "overlay",
             "size": 10,
             "solidity": 0.2
            },
            "type": "scatter"
           }
          ],
          "scatter3d": [
           {
            "line": {
             "colorbar": {
              "outlinewidth": 0,
              "ticks": ""
             }
            },
            "marker": {
             "colorbar": {
              "outlinewidth": 0,
              "ticks": ""
             }
            },
            "type": "scatter3d"
           }
          ],
          "scattercarpet": [
           {
            "marker": {
             "colorbar": {
              "outlinewidth": 0,
              "ticks": ""
             }
            },
            "type": "scattercarpet"
           }
          ],
          "scattergeo": [
           {
            "marker": {
             "colorbar": {
              "outlinewidth": 0,
              "ticks": ""
             }
            },
            "type": "scattergeo"
           }
          ],
          "scattergl": [
           {
            "marker": {
             "colorbar": {
              "outlinewidth": 0,
              "ticks": ""
             }
            },
            "type": "scattergl"
           }
          ],
          "scattermapbox": [
           {
            "marker": {
             "colorbar": {
              "outlinewidth": 0,
              "ticks": ""
             }
            },
            "type": "scattermapbox"
           }
          ],
          "scatterpolar": [
           {
            "marker": {
             "colorbar": {
              "outlinewidth": 0,
              "ticks": ""
             }
            },
            "type": "scatterpolar"
           }
          ],
          "scatterpolargl": [
           {
            "marker": {
             "colorbar": {
              "outlinewidth": 0,
              "ticks": ""
             }
            },
            "type": "scatterpolargl"
           }
          ],
          "scatterternary": [
           {
            "marker": {
             "colorbar": {
              "outlinewidth": 0,
              "ticks": ""
             }
            },
            "type": "scatterternary"
           }
          ],
          "surface": [
           {
            "colorbar": {
             "outlinewidth": 0,
             "ticks": ""
            },
            "colorscale": [
             [
              0,
              "#0d0887"
             ],
             [
              0.1111111111111111,
              "#46039f"
             ],
             [
              0.2222222222222222,
              "#7201a8"
             ],
             [
              0.3333333333333333,
              "#9c179e"
             ],
             [
              0.4444444444444444,
              "#bd3786"
             ],
             [
              0.5555555555555556,
              "#d8576b"
             ],
             [
              0.6666666666666666,
              "#ed7953"
             ],
             [
              0.7777777777777778,
              "#fb9f3a"
             ],
             [
              0.8888888888888888,
              "#fdca26"
             ],
             [
              1,
              "#f0f921"
             ]
            ],
            "type": "surface"
           }
          ],
          "table": [
           {
            "cells": {
             "fill": {
              "color": "#EBF0F8"
             },
             "line": {
              "color": "white"
             }
            },
            "header": {
             "fill": {
              "color": "#C8D4E3"
             },
             "line": {
              "color": "white"
             }
            },
            "type": "table"
           }
          ]
         },
         "layout": {
          "annotationdefaults": {
           "arrowcolor": "#2a3f5f",
           "arrowhead": 0,
           "arrowwidth": 1
          },
          "autotypenumbers": "strict",
          "coloraxis": {
           "colorbar": {
            "outlinewidth": 0,
            "ticks": ""
           }
          },
          "colorscale": {
           "diverging": [
            [
             0,
             "#8e0152"
            ],
            [
             0.1,
             "#c51b7d"
            ],
            [
             0.2,
             "#de77ae"
            ],
            [
             0.3,
             "#f1b6da"
            ],
            [
             0.4,
             "#fde0ef"
            ],
            [
             0.5,
             "#f7f7f7"
            ],
            [
             0.6,
             "#e6f5d0"
            ],
            [
             0.7,
             "#b8e186"
            ],
            [
             0.8,
             "#7fbc41"
            ],
            [
             0.9,
             "#4d9221"
            ],
            [
             1,
             "#276419"
            ]
           ],
           "sequential": [
            [
             0,
             "#0d0887"
            ],
            [
             0.1111111111111111,
             "#46039f"
            ],
            [
             0.2222222222222222,
             "#7201a8"
            ],
            [
             0.3333333333333333,
             "#9c179e"
            ],
            [
             0.4444444444444444,
             "#bd3786"
            ],
            [
             0.5555555555555556,
             "#d8576b"
            ],
            [
             0.6666666666666666,
             "#ed7953"
            ],
            [
             0.7777777777777778,
             "#fb9f3a"
            ],
            [
             0.8888888888888888,
             "#fdca26"
            ],
            [
             1,
             "#f0f921"
            ]
           ],
           "sequentialminus": [
            [
             0,
             "#0d0887"
            ],
            [
             0.1111111111111111,
             "#46039f"
            ],
            [
             0.2222222222222222,
             "#7201a8"
            ],
            [
             0.3333333333333333,
             "#9c179e"
            ],
            [
             0.4444444444444444,
             "#bd3786"
            ],
            [
             0.5555555555555556,
             "#d8576b"
            ],
            [
             0.6666666666666666,
             "#ed7953"
            ],
            [
             0.7777777777777778,
             "#fb9f3a"
            ],
            [
             0.8888888888888888,
             "#fdca26"
            ],
            [
             1,
             "#f0f921"
            ]
           ]
          },
          "colorway": [
           "#636efa",
           "#EF553B",
           "#00cc96",
           "#ab63fa",
           "#FFA15A",
           "#19d3f3",
           "#FF6692",
           "#B6E880",
           "#FF97FF",
           "#FECB52"
          ],
          "font": {
           "color": "#2a3f5f"
          },
          "geo": {
           "bgcolor": "white",
           "lakecolor": "white",
           "landcolor": "#E5ECF6",
           "showlakes": true,
           "showland": true,
           "subunitcolor": "white"
          },
          "hoverlabel": {
           "align": "left"
          },
          "hovermode": "closest",
          "mapbox": {
           "style": "light"
          },
          "paper_bgcolor": "white",
          "plot_bgcolor": "#E5ECF6",
          "polar": {
           "angularaxis": {
            "gridcolor": "white",
            "linecolor": "white",
            "ticks": ""
           },
           "bgcolor": "#E5ECF6",
           "radialaxis": {
            "gridcolor": "white",
            "linecolor": "white",
            "ticks": ""
           }
          },
          "scene": {
           "xaxis": {
            "backgroundcolor": "#E5ECF6",
            "gridcolor": "white",
            "gridwidth": 2,
            "linecolor": "white",
            "showbackground": true,
            "ticks": "",
            "zerolinecolor": "white"
           },
           "yaxis": {
            "backgroundcolor": "#E5ECF6",
            "gridcolor": "white",
            "gridwidth": 2,
            "linecolor": "white",
            "showbackground": true,
            "ticks": "",
            "zerolinecolor": "white"
           },
           "zaxis": {
            "backgroundcolor": "#E5ECF6",
            "gridcolor": "white",
            "gridwidth": 2,
            "linecolor": "white",
            "showbackground": true,
            "ticks": "",
            "zerolinecolor": "white"
           }
          },
          "shapedefaults": {
           "line": {
            "color": "#2a3f5f"
           }
          },
          "ternary": {
           "aaxis": {
            "gridcolor": "white",
            "linecolor": "white",
            "ticks": ""
           },
           "baxis": {
            "gridcolor": "white",
            "linecolor": "white",
            "ticks": ""
           },
           "bgcolor": "#E5ECF6",
           "caxis": {
            "gridcolor": "white",
            "linecolor": "white",
            "ticks": ""
           }
          },
          "title": {
           "x": 0.05
          },
          "xaxis": {
           "automargin": true,
           "gridcolor": "white",
           "linecolor": "white",
           "ticks": "",
           "title": {
            "standoff": 15
           },
           "zerolinecolor": "white",
           "zerolinewidth": 2
          },
          "yaxis": {
           "automargin": true,
           "gridcolor": "white",
           "linecolor": "white",
           "ticks": "",
           "title": {
            "standoff": 15
           },
           "zerolinecolor": "white",
           "zerolinewidth": 2
          }
         }
        },
        "title": {},
        "xaxis": {
         "showgrid": false,
         "showticklabels": false,
         "zeroline": false
        },
        "yaxis": {
         "autorange": "reversed",
         "showgrid": true,
         "title": {
          "text": "Time (frames)"
         },
         "zeroline": true
        }
       }
      }
     },
     "metadata": {},
     "output_type": "display_data"
    }
   ],
   "source": [
    "model2.add_pycellin_features([\"absolute_age\", \"relative_age\"])\n",
    "model2.update()\n",
    "lin0_2 = model2.data.cell_data[0]\n",
    "lin0_2.plot(node_hover_features=[\"cell_ID\", \"absolute_age\", \"relative_age\"])"
   ]
  },
  {
   "cell_type": "markdown",
   "metadata": {},
   "source": [
    "### EpiCure"
   ]
  },
  {
   "cell_type": "code",
   "execution_count": 1,
   "metadata": {},
   "outputs": [],
   "source": [
    "import pickle\n",
    "\n",
    "import napari\n",
    "import networkx as nx\n",
    "import matplotlib.pyplot as plt\n",
    "\n",
    "import pycellin as pc"
   ]
  },
  {
   "cell_type": "code",
   "execution_count": 2,
   "metadata": {},
   "outputs": [],
   "source": [
    "epi_file = \"/mnt/data/Code/EpiCure_small_example/epics/013_crop_epidata.pkl\""
   ]
  },
  {
   "cell_type": "code",
   "execution_count": 3,
   "metadata": {},
   "outputs": [
    {
     "name": "stdout",
     "output_type": "stream",
     "text": [
      "EpiMetaData {'ScaleXY': 1, 'UnitXY': 'um', 'ScaleT': 1, 'UnitT': 'min', 'MainChannel': 0, 'Allow gaps': True, 'Verbose': 2}\n",
      "Group {'paf': [48, 60, 70]}\n",
      "Graph {167: [24], 172: [24], 393: [112], 397: [112], 492: [76], 505: [76], 645: [505], 658: [505], 1013: [33], 1016: [33], 1059: [916], 1066: [916], 1204: [82], 1200: [82], 1237: [674], 1240: [674], 1309: [46], 1321: [46], 1522: [1380], 1526: [1380], 208: [65, 72], 306: [167, 172], 674: [393, 397], 916: [492, 645], 1293: [32, 1016], 1345: [1200, 1204], 1380: [1237, 1240], 1465: [1321, 58]}\n",
      "Events {'Points': array([[  1,  22,  30],\n",
      "       [  2, 139,  68],\n",
      "       [  3,  99,  19],\n",
      "       [  4, 111,  15],\n",
      "       [  7,  31, 212],\n",
      "       [  7,  99,  19],\n",
      "       [  8,  93,  43],\n",
      "       [  8, 138,  68],\n",
      "       [  9,  53, 197],\n",
      "       [ 10, 138,  69]]), 'Props': {'id': array([0, 1, 2, 3, 4, 5, 6, 7, 8, 9], dtype=uint16), 'label': array([  24,  112,   76,  505,   33,  916,   82,  674,   46, 1380],\n",
      "      dtype=uint16), 'score': array([1, 1, 1, 1, 1, 1, 1, 1, 1, 1], dtype=uint8)}, 'Types': {'division': [0, 1, 2, 3, 4, 5, 6, 7, 8, 9]}, 'Symbols': array([<Symbol.X: 'x'>, <Symbol.DISC: 'disc'>, <Symbol.DISC: 'disc'>,\n",
      "       <Symbol.DISC: 'disc'>, <Symbol.DISC: 'disc'>,\n",
      "       <Symbol.DISC: 'disc'>, <Symbol.DISC: 'disc'>,\n",
      "       <Symbol.DISC: 'disc'>, <Symbol.DISC: 'disc'>,\n",
      "       <Symbol.DISC: 'disc'>], dtype=object), 'Colors': array([[1.        , 1.        , 1.        , 1.        ],\n",
      "       [0.        , 0.33333334, 1.        , 1.        ],\n",
      "       [0.        , 0.33333334, 1.        , 1.        ],\n",
      "       [0.        , 0.33333334, 1.        , 1.        ],\n",
      "       [0.        , 0.33333334, 1.        , 1.        ],\n",
      "       [0.        , 0.33333334, 1.        , 1.        ],\n",
      "       [0.        , 0.33333334, 1.        , 1.        ],\n",
      "       [0.        , 0.33333334, 1.        , 1.        ],\n",
      "       [0.        , 0.33333334, 1.        , 1.        ],\n",
      "       [0.        , 0.33333334, 1.        , 1.        ]])}\n"
     ]
    }
   ],
   "source": [
    "with open(epi_file, \"rb\") as f:\n",
    "    epidata = pickle.load(f)\n",
    "\n",
    "for k, v in epidata.items():\n",
    "    print(k, v)"
   ]
  },
  {
   "cell_type": "code",
   "execution_count": 4,
   "metadata": {},
   "outputs": [
    {
     "name": "stdout",
     "output_type": "stream",
     "text": [
      "{167: [24], 172: [24], 393: [112], 397: [112], 492: [76], 505: [76], 645: [505], 658: [505], 1013: [33], 1016: [33], 1059: [916], 1066: [916], 1204: [82], 1200: [82], 1237: [674], 1240: [674], 1309: [46], 1321: [46], 1522: [1380], 1526: [1380], 208: [65, 72], 306: [167, 172], 674: [393, 397], 916: [492, 645], 1293: [32, 1016], 1345: [1200, 1204], 1380: [1237, 1240], 1465: [1321, 58]}\n"
     ]
    }
   ],
   "source": [
    "graph_data = epidata[\"Graph\"]\n",
    "print(graph_data)"
   ]
  },
  {
   "cell_type": "markdown",
   "metadata": {},
   "source": [
    "Using nx.from_dict_of_lists:"
   ]
  },
  {
   "cell_type": "code",
   "execution_count": 5,
   "metadata": {},
   "outputs": [],
   "source": [
    "inverted_dict = {}\n",
    "for key, value_list in graph_data.items():\n",
    "    for value in value_list:\n",
    "        if value in inverted_dict:\n",
    "            inverted_dict[value].append(key)\n",
    "        else:\n",
    "            inverted_dict[value] = [key]"
   ]
  },
  {
   "cell_type": "code",
   "execution_count": 6,
   "metadata": {},
   "outputs": [
    {
     "name": "stdout",
     "output_type": "stream",
     "text": [
      "DiGraph with 38 nodes and 36 edges\n"
     ]
    }
   ],
   "source": [
    "graph = nx.from_dict_of_lists(inverted_dict, create_using=nx.DiGraph)\n",
    "print(graph)"
   ]
  },
  {
   "cell_type": "code",
   "execution_count": 7,
   "metadata": {},
   "outputs": [],
   "source": [
    "for n in graph.nodes:\n",
    "    graph.nodes[n][\"cell_ID\"] = n\n",
    "    graph.nodes[n][\"frame\"] = len(list(nx.ancestors(graph, n)))"
   ]
  },
  {
   "cell_type": "code",
   "execution_count": 46,
   "metadata": {},
   "outputs": [
    {
     "data": {
      "image/png": "[encoded data removed]",
      "text/plain": [
       "<Figure size 640x480 with 1 Axes>"
      ]
     },
     "metadata": {},
     "output_type": "display_data"
    }
   ],
   "source": [
    "nx.draw(graph, with_labels=True, node_color='lightblue',\n",
    "        edge_color='gray', node_size=40, font_size=7)\n",
    "plt.show()"
   ]
  },
  {
   "cell_type": "code",
   "execution_count": 8,
   "metadata": {},
   "outputs": [
    {
     "data": {
      "application/vnd.plotly.v1+json": {
       "config": {
        "plotlyServerURL": "https://plot.ly"
       },
       "data": [
        {
         "mode": "lines",
         "name": "Edges",
         "type": "scatter",
         "x": [
          -8.575,
          -9.075,
          null,
          -8.575,
          -8.075,
          null,
          -6.574999999999999,
          -7.074999999999999,
          null,
          -6.574999999999999,
          -6.074999999999999,
          null,
          -4.324999999999999,
          -3.5749999999999993,
          null,
          -4.324999999999999,
          -5.074999999999999,
          null,
          -5.074999999999999,
          -5.574999999999999,
          null,
          -5.074999999999999,
          -4.574999999999999,
          null,
          -2.0749999999999993,
          -1.5749999999999993,
          null,
          -2.0749999999999993,
          -2.5749999999999993,
          null,
          -3.5749999999999993,
          -4.074999999999999,
          null,
          -3.5749999999999993,
          -3.0749999999999993,
          null,
          -0.07499999999999929,
          0.4250000000000007,
          null,
          -0.07499999999999929,
          -0.5749999999999993,
          null,
          -7.074999999999999,
          -7.574999999999999,
          null,
          -7.074999999999999,
          -6.574999999999999,
          null,
          1.9250000000000007,
          2.4250000000000007,
          null,
          1.9250000000000007,
          1.4250000000000007,
          null,
          -7.574999999999999,
          -8.075,
          null,
          -7.574999999999999,
          -7.074999999999999,
          null,
          3.4250000000000007,
          3.4250000000000007,
          null,
          4.425000000000001,
          3.4250000000000007,
          null,
          -9.075,
          -9.075,
          null,
          -8.075,
          -9.075,
          null,
          -7.074999999999999,
          -7.074999999999999,
          null,
          -6.074999999999999,
          -7.074999999999999,
          null,
          -3.5749999999999993,
          -3.5749999999999993,
          null,
          -5.574999999999999,
          -3.5749999999999993,
          null,
          5.425000000000001,
          5.425000000000001,
          null,
          -2.5749999999999993,
          5.425000000000001,
          null,
          -0.5749999999999993,
          -0.5749999999999993,
          null,
          0.4250000000000007,
          -0.5749999999999993,
          null,
          -7.574999999999999,
          -7.574999999999999,
          null,
          -6.574999999999999,
          -7.574999999999999,
          null,
          1.4250000000000007,
          6.425000000000001,
          null,
          6.425000000000001,
          6.425000000000001,
          null
         ],
         "y": [
          0,
          1,
          null,
          0,
          1,
          null,
          0,
          1,
          null,
          0,
          1,
          null,
          0,
          1,
          null,
          0,
          1,
          null,
          1,
          2,
          null,
          1,
          2,
          null,
          0,
          1,
          null,
          0,
          1,
          null,
          4,
          5,
          null,
          4,
          5,
          null,
          0,
          1,
          null,
          0,
          1,
          null,
          3,
          4,
          null,
          3,
          4,
          null,
          0,
          1,
          null,
          0,
          1,
          null,
          6,
          7,
          null,
          6,
          7,
          null,
          0,
          2,
          null,
          0,
          2,
          null,
          1,
          3,
          null,
          1,
          3,
          null,
          1,
          3,
          null,
          1,
          3,
          null,
          1,
          4,
          null,
          2,
          4,
          null,
          0,
          3,
          null,
          1,
          3,
          null,
          1,
          3,
          null,
          1,
          3,
          null,
          4,
          6,
          null,
          4,
          6,
          null,
          1,
          3,
          null,
          0,
          3,
          null
         ]
        },
        {
         "hoverinfo": "text",
         "hovertemplate": "%{text}",
         "mode": "markers",
         "name": "",
         "text": [
          "cell_ID: 24<br>frame: 0",
          "cell_ID: 112<br>frame: 0",
          "cell_ID: 76<br>frame: 0",
          "cell_ID: 505<br>frame: 1",
          "cell_ID: 33<br>frame: 0",
          "cell_ID: 916<br>frame: 4",
          "cell_ID: 82<br>frame: 0",
          "cell_ID: 674<br>frame: 3",
          "cell_ID: 46<br>frame: 0",
          "cell_ID: 1380<br>frame: 6",
          "cell_ID: 65<br>frame: 0",
          "cell_ID: 72<br>frame: 0",
          "cell_ID: 167<br>frame: 1",
          "cell_ID: 172<br>frame: 1",
          "cell_ID: 393<br>frame: 1",
          "cell_ID: 397<br>frame: 1",
          "cell_ID: 492<br>frame: 1",
          "cell_ID: 645<br>frame: 2",
          "cell_ID: 32<br>frame: 0",
          "cell_ID: 1016<br>frame: 1",
          "cell_ID: 1200<br>frame: 1",
          "cell_ID: 1204<br>frame: 1",
          "cell_ID: 1237<br>frame: 4",
          "cell_ID: 1240<br>frame: 4",
          "cell_ID: 1321<br>frame: 1",
          "cell_ID: 58<br>frame: 0",
          "cell_ID: 658<br>frame: 2",
          "cell_ID: 1013<br>frame: 1",
          "cell_ID: 1059<br>frame: 5",
          "cell_ID: 1066<br>frame: 5",
          "cell_ID: 1309<br>frame: 1",
          "cell_ID: 1522<br>frame: 7",
          "cell_ID: 1526<br>frame: 7",
          "cell_ID: 208<br>frame: 2",
          "cell_ID: 306<br>frame: 3",
          "cell_ID: 1293<br>frame: 3",
          "cell_ID: 1345<br>frame: 3",
          "cell_ID: 1465<br>frame: 3"
         ],
         "type": "scatter",
         "x": [
          -8.575,
          -6.574999999999999,
          -4.324999999999999,
          -5.074999999999999,
          -2.0749999999999993,
          -3.5749999999999993,
          -0.07499999999999929,
          -7.074999999999999,
          1.9250000000000007,
          -7.574999999999999,
          3.4250000000000007,
          4.425000000000001,
          -9.075,
          -8.075,
          -7.074999999999999,
          -6.074999999999999,
          -3.5749999999999993,
          -5.574999999999999,
          5.425000000000001,
          -2.5749999999999993,
          -0.5749999999999993,
          0.4250000000000007,
          -7.574999999999999,
          -6.574999999999999,
          1.4250000000000007,
          6.425000000000001,
          -4.574999999999999,
          -1.5749999999999993,
          -4.074999999999999,
          -3.0749999999999993,
          2.4250000000000007,
          -8.075,
          -7.074999999999999,
          3.4250000000000007,
          -9.075,
          5.425000000000001,
          -0.5749999999999993,
          6.425000000000001
         ],
         "y": [
          0,
          0,
          0,
          1,
          0,
          4,
          0,
          3,
          0,
          6,
          0,
          0,
          1,
          1,
          1,
          1,
          1,
          2,
          0,
          1,
          1,
          1,
          4,
          4,
          1,
          0,
          2,
          1,
          5,
          5,
          1,
          7,
          7,
          2,
          3,
          3,
          3,
          3
         ]
        }
       ],
       "layout": {
        "hovermode": "closest",
        "showlegend": true,
        "template": {
         "data": {
          "bar": [
           {
            "error_x": {
             "color": "#2a3f5f"
            },
            "error_y": {
             "color": "#2a3f5f"
            },
            "marker": {
             "line": {
              "color": "#E5ECF6",
              "width": 0.5
             },
             "pattern": {
              "fillmode": "overlay",
              "size": 10,
              "solidity": 0.2
             }
            },
            "type": "bar"
           }
          ],
          "barpolar": [
           {
            "marker": {
             "line": {
              "color": "#E5ECF6",
              "width": 0.5
             },
             "pattern": {
              "fillmode": "overlay",
              "size": 10,
              "solidity": 0.2
             }
            },
            "type": "barpolar"
           }
          ],
          "carpet": [
           {
            "aaxis": {
             "endlinecolor": "#2a3f5f",
             "gridcolor": "white",
             "linecolor": "white",
             "minorgridcolor": "white",
             "startlinecolor": "#2a3f5f"
            },
            "baxis": {
             "endlinecolor": "#2a3f5f",
             "gridcolor": "white",
             "linecolor": "white",
             "minorgridcolor": "white",
             "startlinecolor": "#2a3f5f"
            },
            "type": "carpet"
           }
          ],
          "choropleth": [
           {
            "colorbar": {
             "outlinewidth": 0,
             "ticks": ""
            },
            "type": "choropleth"
           }
          ],
          "contour": [
           {
            "colorbar": {
             "outlinewidth": 0,
             "ticks": ""
            },
            "colorscale": [
             [
              0,
              "#0d0887"
             ],
             [
              0.1111111111111111,
              "#46039f"
             ],
             [
              0.2222222222222222,
              "#7201a8"
             ],
             [
              0.3333333333333333,
              "#9c179e"
             ],
             [
              0.4444444444444444,
              "#bd3786"
             ],
             [
              0.5555555555555556,
              "#d8576b"
             ],
             [
              0.6666666666666666,
              "#ed7953"
             ],
             [
              0.7777777777777778,
              "#fb9f3a"
             ],
             [
              0.8888888888888888,
              "#fdca26"
             ],
             [
              1,
              "#f0f921"
             ]
            ],
            "type": "contour"
           }
          ],
          "contourcarpet": [
           {
            "colorbar": {
             "outlinewidth": 0,
             "ticks": ""
            },
            "type": "contourcarpet"
           }
          ],
          "heatmap": [
           {
            "colorbar": {
             "outlinewidth": 0,
             "ticks": ""
            },
            "colorscale": [
             [
              0,
              "#0d0887"
             ],
             [
              0.1111111111111111,
              "#46039f"
             ],
             [
              0.2222222222222222,
              "#7201a8"
             ],
             [
              0.3333333333333333,
              "#9c179e"
             ],
             [
              0.4444444444444444,
              "#bd3786"
             ],
             [
              0.5555555555555556,
              "#d8576b"
             ],
             [
              0.6666666666666666,
              "#ed7953"
             ],
             [
              0.7777777777777778,
              "#fb9f3a"
             ],
             [
              0.8888888888888888,
              "#fdca26"
             ],
             [
              1,
              "#f0f921"
             ]
            ],
            "type": "heatmap"
           }
          ],
          "heatmapgl": [
           {
            "colorbar": {
             "outlinewidth": 0,
             "ticks": ""
            },
            "colorscale": [
             [
              0,
              "#0d0887"
             ],
             [
              0.1111111111111111,
              "#46039f"
             ],
             [
              0.2222222222222222,
              "#7201a8"
             ],
             [
              0.3333333333333333,
              "#9c179e"
             ],
             [
              0.4444444444444444,
              "#bd3786"
             ],
             [
              0.5555555555555556,
              "#d8576b"
             ],
             [
              0.6666666666666666,
              "#ed7953"
             ],
             [
              0.7777777777777778,
              "#fb9f3a"
             ],
             [
              0.8888888888888888,
              "#fdca26"
             ],
             [
              1,
              "#f0f921"
             ]
            ],
            "type": "heatmapgl"
           }
          ],
          "histogram": [
           {
            "marker": {
             "pattern": {
              "fillmode": "overlay",
              "size": 10,
              "solidity": 0.2
             }
            },
            "type": "histogram"
           }
          ],
          "histogram2d": [
           {
            "colorbar": {
             "outlinewidth": 0,
             "ticks": ""
            },
            "colorscale": [
             [
              0,
              "#0d0887"
             ],
             [
              0.1111111111111111,
              "#46039f"
             ],
             [
              0.2222222222222222,
              "#7201a8"
             ],
             [
              0.3333333333333333,
              "#9c179e"
             ],
             [
              0.4444444444444444,
              "#bd3786"
             ],
             [
              0.5555555555555556,
              "#d8576b"
             ],
             [
              0.6666666666666666,
              "#ed7953"
             ],
             [
              0.7777777777777778,
              "#fb9f3a"
             ],
             [
              0.8888888888888888,
              "#fdca26"
             ],
             [
              1,
              "#f0f921"
             ]
            ],
            "type": "histogram2d"
           }
          ],
          "histogram2dcontour": [
           {
            "colorbar": {
             "outlinewidth": 0,
             "ticks": ""
            },
            "colorscale": [
             [
              0,
              "#0d0887"
             ],
             [
              0.1111111111111111,
              "#46039f"
             ],
             [
              0.2222222222222222,
              "#7201a8"
             ],
             [
              0.3333333333333333,
              "#9c179e"
             ],
             [
              0.4444444444444444,
              "#bd3786"
             ],
             [
              0.5555555555555556,
              "#d8576b"
             ],
             [
              0.6666666666666666,
              "#ed7953"
             ],
             [
              0.7777777777777778,
              "#fb9f3a"
             ],
             [
              0.8888888888888888,
              "#fdca26"
             ],
             [
              1,
              "#f0f921"
             ]
            ],
            "type": "histogram2dcontour"
           }
          ],
          "mesh3d": [
           {
            "colorbar": {
             "outlinewidth": 0,
             "ticks": ""
            },
            "type": "mesh3d"
           }
          ],
          "parcoords": [
           {
            "line": {
             "colorbar": {
              "outlinewidth": 0,
              "ticks": ""
             }
            },
            "type": "parcoords"
           }
          ],
          "pie": [
           {
            "automargin": true,
            "type": "pie"
           }
          ],
          "scatter": [
           {
            "fillpattern": {
             "fillmode": "overlay",
             "size": 10,
             "solidity": 0.2
            },
            "type": "scatter"
           }
          ],
          "scatter3d": [
           {
            "line": {
             "colorbar": {
              "outlinewidth": 0,
              "ticks": ""
             }
            },
            "marker": {
             "colorbar": {
              "outlinewidth": 0,
              "ticks": ""
             }
            },
            "type": "scatter3d"
           }
          ],
          "scattercarpet": [
           {
            "marker": {
             "colorbar": {
              "outlinewidth": 0,
              "ticks": ""
             }
            },
            "type": "scattercarpet"
           }
          ],
          "scattergeo": [
           {
            "marker": {
             "colorbar": {
              "outlinewidth": 0,
              "ticks": ""
             }
            },
            "type": "scattergeo"
           }
          ],
          "scattergl": [
           {
            "marker": {
             "colorbar": {
              "outlinewidth": 0,
              "ticks": ""
             }
            },
            "type": "scattergl"
           }
          ],
          "scattermapbox": [
           {
            "marker": {
             "colorbar": {
              "outlinewidth": 0,
              "ticks": ""
             }
            },
            "type": "scattermapbox"
           }
          ],
          "scatterpolar": [
           {
            "marker": {
             "colorbar": {
              "outlinewidth": 0,
              "ticks": ""
             }
            },
            "type": "scatterpolar"
           }
          ],
          "scatterpolargl": [
           {
            "marker": {
             "colorbar": {
              "outlinewidth": 0,
              "ticks": ""
             }
            },
            "type": "scatterpolargl"
           }
          ],
          "scatterternary": [
           {
            "marker": {
             "colorbar": {
              "outlinewidth": 0,
              "ticks": ""
             }
            },
            "type": "scatterternary"
           }
          ],
          "surface": [
           {
            "colorbar": {
             "outlinewidth": 0,
             "ticks": ""
            },
            "colorscale": [
             [
              0,
              "#0d0887"
             ],
             [
              0.1111111111111111,
              "#46039f"
             ],
             [
              0.2222222222222222,
              "#7201a8"
             ],
             [
              0.3333333333333333,
              "#9c179e"
             ],
             [
              0.4444444444444444,
              "#bd3786"
             ],
             [
              0.5555555555555556,
              "#d8576b"
             ],
             [
              0.6666666666666666,
              "#ed7953"
             ],
             [
              0.7777777777777778,
              "#fb9f3a"
             ],
             [
              0.8888888888888888,
              "#fdca26"
             ],
             [
              1,
              "#f0f921"
             ]
            ],
            "type": "surface"
           }
          ],
          "table": [
           {
            "cells": {
             "fill": {
              "color": "#EBF0F8"
             },
             "line": {
              "color": "white"
             }
            },
            "header": {
             "fill": {
              "color": "#C8D4E3"
             },
             "line": {
              "color": "white"
             }
            },
            "type": "table"
           }
          ]
         },
         "layout": {
          "annotationdefaults": {
           "arrowcolor": "#2a3f5f",
           "arrowhead": 0,
           "arrowwidth": 1
          },
          "autotypenumbers": "strict",
          "coloraxis": {
           "colorbar": {
            "outlinewidth": 0,
            "ticks": ""
           }
          },
          "colorscale": {
           "diverging": [
            [
             0,
             "#8e0152"
            ],
            [
             0.1,
             "#c51b7d"
            ],
            [
             0.2,
             "#de77ae"
            ],
            [
             0.3,
             "#f1b6da"
            ],
            [
             0.4,
             "#fde0ef"
            ],
            [
             0.5,
             "#f7f7f7"
            ],
            [
             0.6,
             "#e6f5d0"
            ],
            [
             0.7,
             "#b8e186"
            ],
            [
             0.8,
             "#7fbc41"
            ],
            [
             0.9,
             "#4d9221"
            ],
            [
             1,
             "#276419"
            ]
           ],
           "sequential": [
            [
             0,
             "#0d0887"
            ],
            [
             0.1111111111111111,
             "#46039f"
            ],
            [
             0.2222222222222222,
             "#7201a8"
            ],
            [
             0.3333333333333333,
             "#9c179e"
            ],
            [
             0.4444444444444444,
             "#bd3786"
            ],
            [
             0.5555555555555556,
             "#d8576b"
            ],
            [
             0.6666666666666666,
             "#ed7953"
            ],
            [
             0.7777777777777778,
             "#fb9f3a"
            ],
            [
             0.8888888888888888,
             "#fdca26"
            ],
            [
             1,
             "#f0f921"
            ]
           ],
           "sequentialminus": [
            [
             0,
             "#0d0887"
            ],
            [
             0.1111111111111111,
             "#46039f"
            ],
            [
             0.2222222222222222,
             "#7201a8"
            ],
            [
             0.3333333333333333,
             "#9c179e"
            ],
            [
             0.4444444444444444,
             "#bd3786"
            ],
            [
             0.5555555555555556,
             "#d8576b"
            ],
            [
             0.6666666666666666,
             "#ed7953"
            ],
            [
             0.7777777777777778,
             "#fb9f3a"
            ],
            [
             0.8888888888888888,
             "#fdca26"
            ],
            [
             1,
             "#f0f921"
            ]
           ]
          },
          "colorway": [
           "#636efa",
           "#EF553B",
           "#00cc96",
           "#ab63fa",
           "#FFA15A",
           "#19d3f3",
           "#FF6692",
           "#B6E880",
           "#FF97FF",
           "#FECB52"
          ],
          "font": {
           "color": "#2a3f5f"
          },
          "geo": {
           "bgcolor": "white",
           "lakecolor": "white",
           "landcolor": "#E5ECF6",
           "showlakes": true,
           "showland": true,
           "subunitcolor": "white"
          },
          "hoverlabel": {
           "align": "left"
          },
          "hovermode": "closest",
          "mapbox": {
           "style": "light"
          },
          "paper_bgcolor": "white",
          "plot_bgcolor": "#E5ECF6",
          "polar": {
           "angularaxis": {
            "gridcolor": "white",
            "linecolor": "white",
            "ticks": ""
           },
           "bgcolor": "#E5ECF6",
           "radialaxis": {
            "gridcolor": "white",
            "linecolor": "white",
            "ticks": ""
           }
          },
          "scene": {
           "xaxis": {
            "backgroundcolor": "#E5ECF6",
            "gridcolor": "white",
            "gridwidth": 2,
            "linecolor": "white",
            "showbackground": true,
            "ticks": "",
            "zerolinecolor": "white"
           },
           "yaxis": {
            "backgroundcolor": "#E5ECF6",
            "gridcolor": "white",
            "gridwidth": 2,
            "linecolor": "white",
            "showbackground": true,
            "ticks": "",
            "zerolinecolor": "white"
           },
           "zaxis": {
            "backgroundcolor": "#E5ECF6",
            "gridcolor": "white",
            "gridwidth": 2,
            "linecolor": "white",
            "showbackground": true,
            "ticks": "",
            "zerolinecolor": "white"
           }
          },
          "shapedefaults": {
           "line": {
            "color": "#2a3f5f"
           }
          },
          "ternary": {
           "aaxis": {
            "gridcolor": "white",
            "linecolor": "white",
            "ticks": ""
           },
           "baxis": {
            "gridcolor": "white",
            "linecolor": "white",
            "ticks": ""
           },
           "bgcolor": "#E5ECF6",
           "caxis": {
            "gridcolor": "white",
            "linecolor": "white",
            "ticks": ""
           }
          },
          "title": {
           "x": 0.05
          },
          "xaxis": {
           "automargin": true,
           "gridcolor": "white",
           "linecolor": "white",
           "ticks": "",
           "title": {
            "standoff": 15
           },
           "zerolinecolor": "white",
           "zerolinewidth": 2
          },
          "yaxis": {
           "automargin": true,
           "gridcolor": "white",
           "linecolor": "white",
           "ticks": "",
           "title": {
            "standoff": 15
           },
           "zerolinecolor": "white",
           "zerolinewidth": 2
          }
         }
        },
        "title": {},
        "xaxis": {
         "showgrid": false,
         "showticklabels": false,
         "zeroline": false
        },
        "yaxis": {
         "autorange": "reversed",
         "showgrid": true,
         "title": {
          "text": "Time (frames)"
         },
         "zeroline": true
        }
       }
      }
     },
     "metadata": {},
     "output_type": "display_data"
    }
   ],
   "source": [
    "cellin = pc.CellLineage(graph)\n",
    "cellin.plot()"
   ]
  },
  {
   "cell_type": "markdown",
   "metadata": {},
   "source": [
    "Frames are incorrectly infered because of fusion events."
   ]
  },
  {
   "cell_type": "markdown",
   "metadata": {},
   "source": [
    "Manually by adding the nodes and edges:"
   ]
  },
  {
   "cell_type": "code",
   "execution_count": 36,
   "metadata": {},
   "outputs": [
    {
     "data": {
      "text/plain": [
       "38"
      ]
     },
     "execution_count": 36,
     "metadata": {},
     "output_type": "execute_result"
    }
   ],
   "source": [
    "nodes = set([item for key, value_list in graph_data.items()\n",
    "            for item in [key] + value_list])\n",
    "len(nodes)"
   ]
  },
  {
   "cell_type": "markdown",
   "metadata": {},
   "source": []
  }
 ],
 "metadata": {
  "kernelspec": {
   "display_name": "pycellin_iah",
   "language": "python",
   "name": "python3"
  },
  "language_info": {
   "codemirror_mode": {
    "name": "ipython",
    "version": 3
   },
   "file_extension": ".py",
   "mimetype": "text/x-python",
   "name": "python",
   "nbconvert_exporter": "python",
   "pygments_lexer": "ipython3",
   "version": "3.11.7"
  }
 },
 "nbformat": 4,
 "nbformat_minor": 2
}
