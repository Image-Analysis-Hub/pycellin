{
 "cells": [
  {
   "cell_type": "code",
   "execution_count": null,
   "metadata": {},
   "outputs": [],
   "source": [
    "from pycellin.classes.feature import Feature\n",
    "from pycellin.classes.feature_calculator import (\n",
    "    FeatureCalculatorFactory,\n",
    "    FeatureCalculator,\n",
    ")"
   ]
  },
  {
   "cell_type": "markdown",
   "metadata": {},
   "source": [
    "#### Global node feature: *absolute age*"
   ]
  },
  {
   "cell_type": "code",
   "execution_count": null,
   "metadata": {},
   "outputs": [],
   "source": [
    "class AbsoluteAgeCalculator(FeatureCalculator):\n",
    "\n",
    "    def compute(self, node, lineage):\n",
    "        pass"
   ]
  },
  {
   "cell_type": "code",
   "execution_count": null,
   "metadata": {},
   "outputs": [],
   "source": [
    "feat1 = Feature(\n",
    "    \"absolute_age\",\n",
    "    \"Age of the cell since the beginning of the lineage\",\n",
    "    \"CellLineage\",\n",
    "    \"Pycellin\",\n",
    "    \"int\",  # \"float\" if in_time_unit else \"int\",\n",
    "    \"frame\",  # self.metadata[\"time_unit\"] if in_time_unit else \"frame\",\n",
    ")"
   ]
  },
  {
   "cell_type": "code",
   "execution_count": null,
   "metadata": {},
   "outputs": [],
   "source": [
    "factory = FeatureCalculatorFactory()\n",
    "factory.register_calculator(feat1, AbsoluteAgeCalculator)"
   ]
  },
  {
   "cell_type": "markdown",
   "metadata": {},
   "source": [
    "#### Local node feature: *node_ID parity*"
   ]
  },
  {
   "cell_type": "code",
   "execution_count": null,
   "metadata": {},
   "outputs": [],
   "source": [
    "class ParityCalculator(FeatureCalculator):\n",
    "\n",
    "    def compute(self, node):\n",
    "        pass"
   ]
  },
  {
   "cell_type": "code",
   "execution_count": null,
   "metadata": {},
   "outputs": [],
   "source": [
    "feat2 = Feature(\n",
    "    \"node_ID_parity\",\n",
    "    \"Parity of the node ID\",\n",
    "    \"CellLineage\",\n",
    "    \"Pycellin\",\n",
    "    \"int\",\n",
    ")"
   ]
  },
  {
   "cell_type": "code",
   "execution_count": null,
   "metadata": {},
   "outputs": [],
   "source": [
    "factory = FeatureCalculatorFactory()\n",
    "factory.register_calculator(feat2, ParityCalculator)"
   ]
  }
 ],
 "metadata": {
  "kernelspec": {
   "display_name": "pycellin_iah",
   "language": "python",
   "name": "python3"
  },
  "language_info": {
   "name": "python",
   "version": "3.11.7"
  }
 },
 "nbformat": 4,
 "nbformat_minor": 2
}
