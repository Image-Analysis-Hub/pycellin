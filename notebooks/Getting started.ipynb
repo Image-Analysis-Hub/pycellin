{
 "cells": [
  {
   "cell_type": "markdown",
   "metadata": {},
   "source": [
    "# Getting started"
   ]
  },
  {
   "cell_type": "markdown",
   "metadata": {},
   "source": [
    "In this notebook we cover the basics of Pycellin:\n",
    "- how to build or load a Pycellin model,\n",
    "- how Pycellin models cell tracking data,\n",
    "- how to manipulate, modify and enrich the cell lineages,\n",
    "- how to export the data to other formats."
   ]
  },
  {
   "cell_type": "code",
   "execution_count": 1,
   "metadata": {},
   "outputs": [],
   "source": [
    "import pycellin"
   ]
  },
  {
   "cell_type": "markdown",
   "metadata": {},
   "source": [
    "## How to get a Pycellin model"
   ]
  },
  {
   "cell_type": "markdown",
   "metadata": {},
   "source": [
    "### Building from scratch"
   ]
  },
  {
   "cell_type": "markdown",
   "metadata": {},
   "source": [
    "It is possible to build a Pycellin model manually, starting with an empty model."
   ]
  },
  {
   "cell_type": "code",
   "execution_count": 2,
   "metadata": {},
   "outputs": [
    {
     "name": "stdout",
     "output_type": "stream",
     "text": [
      "Model with 0 lineage.\n"
     ]
    }
   ],
   "source": [
    "my_model = pycellin.Model()\n",
    "print(my_model)"
   ]
  },
  {
   "cell_type": "markdown",
   "metadata": {},
   "source": [
    "You can then fill up the metadata and build cell lineages by adding cells and links. This is covered in details in the notebook [Creating a model from scratch](./Creating%20a%20model%20from%20scratch.ipynb) (WIP)."
   ]
  },
  {
   "cell_type": "markdown",
   "metadata": {},
   "source": [
    "### Loading from a Pycellin pickle file"
   ]
  },
  {
   "cell_type": "markdown",
   "metadata": {},
   "source": [
    "You can load a model from a Pycellin pickle file saved on disk with the `load_from_pickle()` method:"
   ]
  },
  {
   "cell_type": "code",
   "execution_count": 3,
   "metadata": {},
   "outputs": [
    {
     "name": "stdout",
     "output_type": "stream",
     "text": [
      "Model named 'FakeTracks' with 2 lineages, built from TrackMate.\n"
     ]
    }
   ],
   "source": [
    "pycellin_pickle = \"../sample_data/FakeTracks.pickle\"\n",
    "my_model = pycellin.Model.load_from_pickle(pycellin_pickle)\n",
    "print(my_model)"
   ]
  },
  {
   "cell_type": "markdown",
   "metadata": {},
   "source": [
    "However, please note that while `pickle` is a module of the Python Standard Library, is it not secure. **You should only load data from sources you trust.** Please refer to the [documentation of the `pickle` module](https://docs.python.org/3/library/pickle.html) for more information."
   ]
  },
  {
   "cell_type": "markdown",
   "metadata": {},
   "source": [
    "### Loading from external tools"
   ]
  },
  {
   "cell_type": "markdown",
   "metadata": {},
   "source": [
    "Pycellin can load data from different tracking file formats. It currently supports:\n",
    "- Cell Tracking Challenge text files\n",
    "- TrackMate XML files\n",
    "\n",
    "More tracking file formats will be supported in the future."
   ]
  },
  {
   "cell_type": "markdown",
   "metadata": {},
   "source": [
    "#### Cell Tracking Challenge"
   ]
  },
  {
   "cell_type": "markdown",
   "metadata": {},
   "source": [
    "Tracking data formatted as per the [Cell Tracking Challenge](https://celltrackingchallenge.net/) file format [specifications](https://public.celltrackingchallenge.net/documents/Naming%20and%20file%20content%20conventions.pdf) can be loaded with\n",
    "the `load_CTC_file()` function:"
   ]
  },
  {
   "cell_type": "code",
   "execution_count": 4,
   "metadata": {},
   "outputs": [
    {
     "name": "stdout",
     "output_type": "stream",
     "text": [
      "Model named 'FakeTracks_TMtoCTC' with 2 lineages, built from CTC.\n"
     ]
    }
   ],
   "source": [
    "ctc_file = \"../sample_data/FakeTracks_TMtoCTC.txt\"\n",
    "ctc_model = pycellin.load_CTC_file(ctc_file)\n",
    "print(ctc_model)"
   ]
  },
  {
   "cell_type": "markdown",
   "metadata": {},
   "source": [
    "For this format, only track topology is read: no cell segmentation is extracted in the case of associated label images (this might get supported later if several people request it)."
   ]
  },
  {
   "cell_type": "markdown",
   "metadata": {},
   "source": [
    "#### TrackMate\n",
    "\n"
   ]
  },
  {
   "cell_type": "markdown",
   "metadata": {},
   "source": [
    "Data generated with [TrackMate](https://imagej.net/plugins/trackmate/) can be loaded into a Pycellin model thanks to the `load_TrackMate_XML()` function:"
   ]
  },
  {
   "cell_type": "code",
   "execution_count": 5,
   "metadata": {},
   "outputs": [
    {
     "name": "stdout",
     "output_type": "stream",
     "text": [
      "Model named 'Ecoli_growth_on_agar_pad' with 3 lineages, built from TrackMate.\n"
     ]
    }
   ],
   "source": [
    "trackmate_xml = \"../sample_data/Ecoli_growth_on_agar_pad.xml\"\n",
    "tm_model = pycellin.load_TrackMate_XML(trackmate_xml)\n",
    "print(tm_model)"
   ]
  },
  {
   "cell_type": "markdown",
   "metadata": {},
   "source": [
    "All data within the TrackMate XML file is loaded into the Pycellin model: there is no loss of information. Most notably, TrackMate properties are accessible within Pycellin under the same name (e.g. AREA, MEAN_INTENSITY_CH1).\n",
    "\n",
    "To know more about the specifics of using Pycellin with TrackMate data, please refer to the dedicated notebook: [Working with TrackMate data](./Working%20with%20TrackMate%20data.ipynb)."
   ]
  },
  {
   "cell_type": "markdown",
   "metadata": {},
   "source": [
    "## Pycellin model structure"
   ]
  },
  {
   "cell_type": "code",
   "execution_count": 6,
   "metadata": {},
   "outputs": [],
   "source": [
    "# TODO: this section is really really long and I don't think a beginner\n",
    "# need all of this information. I should synthetize it and move the long\n",
    "# version into a dedicated notebook."
   ]
  },
  {
   "cell_type": "markdown",
   "metadata": {},
   "source": [
    "In this section, we are using the TrackMate model previously loaded as example."
   ]
  },
  {
   "cell_type": "code",
   "execution_count": 7,
   "metadata": {},
   "outputs": [
    {
     "name": "stdout",
     "output_type": "stream",
     "text": [
      "Model named 'Ecoli_growth_on_agar_pad' with 3 lineages, built from TrackMate.\n"
     ]
    }
   ],
   "source": [
    "print(tm_model)"
   ]
  },
  {
   "cell_type": "markdown",
   "metadata": {},
   "source": [
    "A Pycellin model consists of 3 different elements that we describe in separate sections below:\n",
    "- the metadata of the model\n",
    "- the data, i.e. the lineages\n",
    "- the declaration of the properties present in the lineages\n",
    "\n",
    "*simplified scheme of a model*"
   ]
  },
  {
   "cell_type": "markdown",
   "metadata": {},
   "source": [
    "### Model metadata"
   ]
  },
  {
   "cell_type": "markdown",
   "metadata": {},
   "source": [
    "A pycellin model can stored model metadata, i.e. information about the model and the data of the model.\n",
    "\n",
    "In Pycellin, the metadata is stored as a dictionary. It is accessible by calling `model_metadata` on your model:"
   ]
  },
  {
   "cell_type": "code",
   "execution_count": 8,
   "metadata": {},
   "outputs": [
    {
     "name": "stdout",
     "output_type": "stream",
     "text": [
      "name\n",
      "file_location\n",
      "provenance\n",
      "date\n",
      "space_unit\n",
      "time_unit\n",
      "pycellin_version\n",
      "TrackMate_version\n",
      "time_step\n",
      "pixel_size\n",
      "Log\n",
      "Settings\n",
      "GUIState\n",
      "DisplaySettings\n"
     ]
    }
   ],
   "source": [
    "for metadata_field in tm_model.model_metadata:\n",
    "    print(metadata_field)"
   ]
  },
  {
   "cell_type": "code",
   "execution_count": 9,
   "metadata": {},
   "outputs": [
    {
     "name": "stdout",
     "output_type": "stream",
     "text": [
      "TrackMate 7.10.2\n"
     ]
    }
   ],
   "source": [
    "print(tm_model.model_metadata[\"provenance\"], tm_model.model_metadata[\"TrackMate_version\"])"
   ]
  },
  {
   "cell_type": "markdown",
   "metadata": {},
   "source": [
    "Some metadata fields are common to most Pycellin models, like `provenance`, `date` or `space_unit`. Others are specific to the way the model was built. For example, models coming from TrackMate have a `TrackMate_version` field and more (`Log`, `GUIState`...).\n",
    "\n",
    "Since metadata is stored as a dictionary, it is versatile: you can store whatever information you find relevant. The more information you store, the better it is for traceability. For example, you could describe the different channels of your timelapse, or list some image acquisition parameters:"
   ]
  },
  {
   "cell_type": "code",
   "execution_count": 10,
   "metadata": {},
   "outputs": [],
   "source": [
    "tm_model.model_metadata[\"channel1\"] = \"segmentation\"\n",
    "tm_model.model_metadata[\"channel2\"] = \"ZipA-mCherry\"\n",
    "tm_model.model_metadata[\"objective\"] = \"100x oil\""
   ]
  },
  {
   "cell_type": "markdown",
   "metadata": {},
   "source": [
    "However, be careful not to delete the `space_unit`, `time_unit`, `time_step` and `pixel_size` fields when they exist since they can be needed when computing properties like `division_time`, `cell_displacement`...\n",
    "\n",
    "You can access these important fields with the following methods:"
   ]
  },
  {
   "cell_type": "code",
   "execution_count": 11,
   "metadata": {},
   "outputs": [
    {
     "name": "stdout",
     "output_type": "stream",
     "text": [
      "pixel width = 0.06587 micrometer\n",
      "pixel height = 0.06587 micrometer\n",
      "pixel depth = 0.06587 micrometer\n",
      "frame = 5.0 minute\n"
     ]
    }
   ],
   "source": [
    "pix_size = tm_model.get_pixel_size()\n",
    "s_unit = tm_model.get_space_unit()\n",
    "print(f\"pixel width = {pix_size['width']} {s_unit}\")\n",
    "print(f\"pixel height = {pix_size['height']} {s_unit}\")\n",
    "print(f\"pixel depth = {pix_size['depth']} {s_unit}\")\n",
    "\n",
    "timestep = tm_model.get_time_step()\n",
    "t_unit = tm_model.get_time_unit()\n",
    "print(f\"frame = {timestep} {t_unit}\")"
   ]
  },
  {
   "cell_type": "markdown",
   "metadata": {},
   "source": [
    "### Data"
   ]
  },
  {
   "cell_type": "markdown",
   "metadata": {},
   "source": [
    "In Pycellin, lineages are modeled as directed acyclic graphs or DAGs for short (same as your family tree if we ignore spouses). It means that division events are allowed; they even are recommended if you want to take full advantage of Pycellin. **However, FUSION EVENTS ARE NOT SUPPORTED.** Fusion events happen when a cell has more than one parent. If you try to use Pycellin on a lineage with fusion events, it may crash or produce incorrect results, especially if you are computing properties related to tracking.\n",
    "\n",
    "Below is an example of a dataset with fusions. If Pycellin detects fusions when loading data from an external tool, a warning will be raised. It is then up to you to decide if you want to proceed or to correct the fusions. However it is highly recommended to correct them."
   ]
  },
  {
   "cell_type": "code",
   "execution_count": 12,
   "metadata": {},
   "outputs": [
    {
     "name": "stderr",
     "output_type": "stream",
     "text": [
      "/media/lxenard/data/Code/pycellin/pycellin/pycellin/io/utils.py:31: UserWarning: Unsupported data, 3 cell fusions detected. It is advised to deal with them before any other processing, especially for tracking related properties. Crashes and incorrect results can occur. See documentation for more details.\n",
      "  warnings.warn(fusion_warning)\n"
     ]
    }
   ],
   "source": [
    "trackmate_xml_fusions = \"../sample_data/Ecoli_growth_on_agar_pad_with_fusions.xml\"\n",
    "fusion_model = pycellin.load_TrackMate_XML(trackmate_xml_fusions)"
   ]
  },
  {
   "cell_type": "markdown",
   "metadata": {},
   "source": [
    "You can manually check if a model contains fusions and what are the cells involved with the `get_fusions()` method:"
   ]
  },
  {
   "cell_type": "code",
   "execution_count": 13,
   "metadata": {},
   "outputs": [
    {
     "data": {
      "text/plain": [
       "[Cell(cell_ID=9065, lineage_ID=0),\n",
       " Cell(cell_ID=9232, lineage_ID=1),\n",
       " Cell(cell_ID=9257, lineage_ID=1)]"
      ]
     },
     "execution_count": 13,
     "metadata": {},
     "output_type": "execute_result"
    }
   ],
   "source": [
    "fusion_model.get_fusions()"
   ]
  },
  {
   "cell_type": "markdown",
   "metadata": {},
   "source": [
    "To correct the fusions, you can either go back to clean your data with your software of choice or remove one incoming link per fusion cell directly in Pycellin."
   ]
  },
  {
   "cell_type": "code",
   "execution_count": 14,
   "metadata": {},
   "outputs": [],
   "source": [
    "# TODO: a short explanation on cycle lineages is needed here!! And a nice transition."
   ]
  },
  {
   "cell_type": "markdown",
   "metadata": {},
   "source": [
    "Fusions or not, lineages data is stored in a `Data` object, accessible by calling `data` on the model:"
   ]
  },
  {
   "cell_type": "code",
   "execution_count": 15,
   "metadata": {},
   "outputs": [
    {
     "name": "stdout",
     "output_type": "stream",
     "text": [
      "Data object with 3 cell lineages.\n"
     ]
    }
   ],
   "source": [
    "print(tm_model.data)"
   ]
  },
  {
   "cell_type": "markdown",
   "metadata": {},
   "source": [
    "Two types of lineages exist in Pycellin: cell lineages and cell cycle lineages. Both types of lineages are implemented in Pycellin as [NetworkX](https://networkx.org/) DiGraphs. Each lineage is a connected graph built of nodes linked by edges. You can refer to [NetworkX documentation](https://networkx.org/documentation/stable/tutorial.html) for specifics regarding implementation."
   ]
  },
  {
   "cell_type": "markdown",
   "metadata": {},
   "source": [
    "#### Cell lineages"
   ]
  },
  {
   "cell_type": "markdown",
   "metadata": {},
   "source": [
    "In cell lineages, each node of the lineage graph models a cell at a specific point in time and space. Each edge models the displacement of a cell in time and space.\n",
    "\n",
    "All cell lineages are stored in `cell_data`, a dictionary where keys are the IDs of the lineages, and values the lineages themselves (instances of the CellLineage class):"
   ]
  },
  {
   "cell_type": "code",
   "execution_count": 16,
   "metadata": {},
   "outputs": [
    {
     "data": {
      "text/plain": [
       "{0: <pycellin.classes.lineage.CellLineage at 0x76a6f0803fd0>,\n",
       " 1: <pycellin.classes.lineage.CellLineage at 0x76a6f0834950>,\n",
       " 2: <pycellin.classes.lineage.CellLineage at 0x76a6f0850990>}"
      ]
     },
     "execution_count": 16,
     "metadata": {},
     "output_type": "execute_result"
    }
   ],
   "source": [
    "# The dict of all lineages.\n",
    "tm_model.data.cell_data"
   ]
  },
  {
   "cell_type": "markdown",
   "metadata": {},
   "source": [
    "You can also get a list of the cell lineages with `get_cell_lineages()`:"
   ]
  },
  {
   "cell_type": "code",
   "execution_count": 17,
   "metadata": {},
   "outputs": [
    {
     "name": "stdout",
     "output_type": "stream",
     "text": [
      "CellLineage of ID 0 with 152 cells and 151 links.\n",
      "CellLineage of ID 1 with 189 cells and 188 links.\n",
      "CellLineage of ID 2 with 185 cells and 184 links.\n"
     ]
    }
   ],
   "source": [
    "cell_lins = tm_model.get_cell_lineages()\n",
    "for lin in cell_lins:\n",
    "    print(lin)"
   ]
  },
  {
   "cell_type": "markdown",
   "metadata": {},
   "source": [
    "To access a specific cell lineage from its `lineage_ID`, you can either query the cell_data dictionary:"
   ]
  },
  {
   "cell_type": "code",
   "execution_count": 18,
   "metadata": {},
   "outputs": [
    {
     "name": "stdout",
     "output_type": "stream",
     "text": [
      "CellLineage of ID 1 with 189 cells and 188 links.\n"
     ]
    }
   ],
   "source": [
    "# The lineage whose lineage_ID is 1.\n",
    "lin1 = tm_model.data.cell_data[1]\n",
    "print(lin1)"
   ]
  },
  {
   "cell_type": "markdown",
   "metadata": {},
   "source": [
    "or use the dedicated method:"
   ]
  },
  {
   "cell_type": "code",
   "execution_count": 19,
   "metadata": {},
   "outputs": [
    {
     "name": "stdout",
     "output_type": "stream",
     "text": [
      "CellLineage of ID 2 with 185 cells and 184 links.\n"
     ]
    }
   ],
   "source": [
    "# The lineage whose lineage_ID is 2.\n",
    "lin2 = tm_model.get_cell_lineage_from_ID(2)\n",
    "print(lin2)"
   ]
  },
  {
   "cell_type": "markdown",
   "metadata": {},
   "source": [
    "IDs of lineages (`lineage_ID`) are always integer. Lineage IDs are often positive, but not necessarily. Pycellin convention is to attribute a negative ID to one-cell lineage: minus the ID of the cell itself. That way it is easier to distinguish between one-cell lineage and \"true\" lineage."
   ]
  },
  {
   "cell_type": "markdown",
   "metadata": {},
   "source": [
    "##### Plotting a cell lineage"
   ]
  },
  {
   "cell_type": "markdown",
   "metadata": {},
   "source": [
    "Pycellin offers basic plotting of lineages thanks to the `plot()` method. Cell lineages are plotted like family trees, with time flowing from top to bottom.\n",
    "\n",
    "Plotting relies on [Plotly](https://plotly.com/python/), an interactive graphing library. You can zoom in and out or pan on the lineage and adjust the axes. Some data is displayed when hovering on cells. Clicking on the legend elements on the right hide or display them."
   ]
  },
  {
   "cell_type": "code",
   "execution_count": 20,
   "metadata": {},
   "outputs": [
    {
     "data": {
      "application/vnd.plotly.v1+json": {
       "config": {
        "plotlyServerURL": "https://plot.ly"
       },
       "data": [
        {
         "mode": "lines",
         "name": "Edges",
         "text": [],
         "type": "scatter",
         "x": [
          -10.21875,
          -10.21875,
          null,
          -12.46875,
          -12.46875,
          null,
          -8.21875,
          -8.21875,
          null,
          -0.21875,
          -0.21875,
          null,
          8.78125,
          8.78125,
          null,
          1.78125,
          1.78125,
          null,
          10.78125,
          10.78125,
          null,
          12.78125,
          12.78125,
          null,
          14.28125,
          14.28125,
          null,
          3.78125,
          3.78125,
          null,
          7.28125,
          7.28125,
          null,
          5.78125,
          5.78125,
          null,
          0.78125,
          -0.21875,
          null,
          0.78125,
          1.78125,
          null,
          -6.21875,
          -6.21875,
          null,
          8.78125,
          8.78125,
          null,
          -4.71875,
          -4.71875,
          null,
          -3.71875,
          -3.71875,
          null,
          -2.21875,
          -2.21875,
          null,
          -10.21875,
          -10.21875,
          null,
          10.78125,
          10.78125,
          null,
          13.53125,
          13.53125,
          null,
          6.03125,
          4.78125,
          null,
          6.03125,
          7.28125,
          null,
          -5.46875,
          -6.21875,
          null,
          -5.46875,
          -4.71875,
          null,
          -3.71875,
          -3.71875,
          null,
          -8.21875,
          -8.21875,
          null,
          3.78125,
          3.28125,
          null,
          3.78125,
          4.28125,
          null,
          -12.46875,
          -12.46875,
          null,
          -2.21875,
          -2.21875,
          null,
          1.78125,
          1.78125,
          null,
          14.28125,
          14.28125,
          null,
          8.78125,
          8.78125,
          null,
          -10.21875,
          -9.71875,
          null,
          -10.21875,
          -10.71875,
          null,
          10.78125,
          10.78125,
          null,
          7.28125,
          7.28125,
          null,
          12.78125,
          12.78125,
          null,
          5.78125,
          5.78125,
          null,
          -6.21875,
          -6.21875,
          null,
          -3.71875,
          -3.71875,
          null,
          -2.21875,
          -2.71875,
          null,
          -2.21875,
          -1.71875,
          null,
          -4.71875,
          -4.71875,
          null,
          -0.21875,
          -0.21875,
          null,
          -12.46875,
          -11.71875,
          null,
          -12.46875,
          -13.21875,
          null,
          -8.21875,
          -8.71875,
          null,
          -8.21875,
          -7.71875,
          null,
          1.78125,
          1.78125,
          null,
          8.78125,
          8.28125,
          null,
          8.78125,
          9.28125,
          null,
          -10.71875,
          -10.71875,
          null,
          5.78125,
          5.78125,
          null,
          3.28125,
          3.28125,
          null,
          12.78125,
          12.78125,
          null,
          -3.71875,
          -3.71875,
          null,
          -6.21875,
          -6.71875,
          null,
          -6.21875,
          -5.71875,
          null,
          -2.71875,
          -2.71875,
          null,
          -8.71875,
          -8.71875,
          null,
          -1.71875,
          -1.71875,
          null,
          -13.21875,
          -13.71875,
          null,
          -13.21875,
          -12.71875,
          null,
          -9.71875,
          -9.71875,
          null,
          -7.71875,
          -7.71875,
          null,
          -0.21875,
          0.28125,
          null,
          -0.21875,
          -0.71875,
          null,
          4.28125,
          4.28125,
          null,
          -11.71875,
          -11.71875,
          null,
          14.28125,
          14.28125,
          null,
          -4.71875,
          -4.71875,
          null,
          7.28125,
          7.28125,
          null,
          10.78125,
          11.28125,
          null,
          10.78125,
          10.28125,
          null,
          8.28125,
          8.28125,
          null,
          1.78125,
          1.28125,
          null,
          1.78125,
          2.28125,
          null,
          -10.71875,
          -10.71875,
          null,
          10.28125,
          10.28125,
          null,
          5.78125,
          6.28125,
          null,
          5.78125,
          5.28125,
          null,
          -6.71875,
          -6.71875,
          null,
          -3.71875,
          -3.71875,
          null,
          -8.71875,
          -8.71875,
          null,
          -1.71875,
          -1.71875,
          null,
          -2.71875,
          -2.71875,
          null,
          -13.71875,
          -13.71875,
          null,
          -7.71875,
          -7.71875,
          null,
          -9.71875,
          -9.71875,
          null,
          -0.71875,
          -0.71875,
          null,
          -12.71875,
          -12.71875,
          null,
          9.28125,
          9.28125,
          null,
          0,
          0,
          null,
          0.28125,
          0.28125,
          null,
          11.28125,
          11.28125,
          null,
          12.78125,
          12.28125,
          null,
          12.78125,
          13.28125,
          null,
          4.28125,
          4.28125,
          null,
          -7.53125,
          -7.53125,
          null,
          0,
          -7.53125,
          null,
          0,
          7.53125,
          null,
          -11.71875,
          -11.71875,
          null,
          -4.71875,
          -4.71875,
          null,
          14.28125,
          14.28125,
          null,
          7.53125,
          7.53125,
          null,
          3.28125,
          3.28125,
          null,
          7.28125,
          7.28125,
          null,
          -7.53125,
          -7.53125,
          null,
          7.53125,
          7.53125,
          null,
          7.53125,
          7.53125,
          null,
          -7.53125,
          -7.53125,
          null,
          0,
          0,
          null,
          -7.53125,
          -7.53125,
          null,
          7.53125,
          11.65625,
          null,
          7.53125,
          3.40625,
          null,
          -10.84375,
          -10.84375,
          null,
          3.40625,
          3.40625,
          null,
          -4.21875,
          -4.21875,
          null,
          11.65625,
          11.65625,
          null,
          3.40625,
          3.40625,
          null,
          -7.53125,
          -4.21875,
          null,
          -7.53125,
          -10.84375,
          null,
          11.65625,
          11.65625,
          null,
          -10.84375,
          -10.84375,
          null,
          3.40625,
          3.40625,
          null,
          11.65625,
          13.53125,
          null,
          11.65625,
          9.78125,
          null,
          -4.21875,
          -4.21875,
          null,
          -10.84375,
          -10.84375,
          null,
          3.40625,
          3.40625,
          null,
          11.65625,
          11.65625,
          null,
          -4.21875,
          -4.21875,
          null,
          0.78125,
          0.78125,
          null,
          9.78125,
          9.78125,
          null,
          13.53125,
          13.53125,
          null,
          -12.46875,
          -12.46875,
          null,
          -9.21875,
          -9.21875,
          null,
          9.78125,
          9.78125,
          null,
          -4.21875,
          -5.46875,
          null,
          -4.21875,
          -2.96875,
          null,
          6.03125,
          6.03125,
          null,
          -10.84375,
          -12.46875,
          null,
          -10.84375,
          -9.21875,
          null,
          13.53125,
          13.53125,
          null,
          3.40625,
          0.78125,
          null,
          3.40625,
          6.03125,
          null,
          -4.21875,
          -4.21875,
          null,
          0.78125,
          0.78125,
          null,
          9.78125,
          9.78125,
          null,
          3.40625,
          3.40625,
          null,
          13.53125,
          13.53125,
          null,
          -7.53125,
          -7.53125,
          null,
          11.65625,
          11.65625,
          null,
          -12.46875,
          -12.46875,
          null,
          -9.21875,
          -9.21875,
          null,
          6.03125,
          6.03125,
          null,
          -5.46875,
          -5.46875,
          null,
          0.78125,
          0.78125,
          null,
          -2.96875,
          -2.96875,
          null,
          -9.21875,
          -10.21875,
          null,
          -9.21875,
          -8.21875,
          null,
          9.78125,
          10.78125,
          null,
          9.78125,
          8.78125,
          null,
          13.53125,
          13.53125,
          null,
          6.03125,
          6.03125,
          null,
          -2.96875,
          -2.21875,
          null,
          -2.96875,
          -3.71875,
          null,
          -5.46875,
          -5.46875,
          null,
          -12.46875,
          -12.46875,
          null,
          8.78125,
          8.78125,
          null,
          -10.21875,
          -10.21875,
          null,
          10.78125,
          10.78125,
          null,
          13.53125,
          14.28125,
          null,
          13.53125,
          12.78125,
          null,
          -6.21875,
          -6.21875,
          null,
          -3.71875,
          -3.71875,
          null,
          -2.21875,
          -2.21875,
          null,
          -4.71875,
          -4.71875,
          null,
          -12.46875,
          -12.46875,
          null,
          -8.21875,
          -8.21875,
          null,
          4.78125,
          3.78125,
          null,
          4.78125,
          5.78125,
          null,
          -0.21875,
          -0.21875,
          null,
          1.78125,
          1.78125,
          null,
          7.28125,
          7.28125,
          null
         ],
         "y": [
          18,
          19,
          null,
          18,
          19,
          null,
          18,
          19,
          null,
          18,
          19,
          null,
          18,
          19,
          null,
          18,
          19,
          null,
          18,
          19,
          null,
          18,
          19,
          null,
          18,
          19,
          null,
          18,
          19,
          null,
          18,
          19,
          null,
          18,
          19,
          null,
          16,
          17,
          null,
          16,
          17,
          null,
          18,
          19,
          null,
          16,
          17,
          null,
          18,
          19,
          null,
          18,
          19,
          null,
          18,
          19,
          null,
          16,
          17,
          null,
          16,
          17,
          null,
          16,
          17,
          null,
          16,
          17,
          null,
          16,
          17,
          null,
          16,
          17,
          null,
          16,
          17,
          null,
          16,
          17,
          null,
          16,
          17,
          null,
          19,
          20,
          null,
          19,
          20,
          null,
          16,
          17,
          null,
          16,
          17,
          null,
          19,
          20,
          null,
          19,
          20,
          null,
          19,
          20,
          null,
          19,
          20,
          null,
          19,
          20,
          null,
          19,
          20,
          null,
          19,
          20,
          null,
          19,
          20,
          null,
          19,
          20,
          null,
          19,
          20,
          null,
          19,
          20,
          null,
          19,
          20,
          null,
          19,
          20,
          null,
          19,
          20,
          null,
          19,
          20,
          null,
          19,
          20,
          null,
          19,
          20,
          null,
          19,
          20,
          null,
          19,
          20,
          null,
          20,
          21,
          null,
          20,
          21,
          null,
          20,
          21,
          null,
          20,
          21,
          null,
          20,
          21,
          null,
          20,
          21,
          null,
          20,
          21,
          null,
          20,
          21,
          null,
          20,
          21,
          null,
          20,
          21,
          null,
          20,
          21,
          null,
          20,
          21,
          null,
          20,
          21,
          null,
          20,
          21,
          null,
          20,
          21,
          null,
          20,
          21,
          null,
          20,
          21,
          null,
          20,
          21,
          null,
          20,
          21,
          null,
          20,
          21,
          null,
          20,
          21,
          null,
          20,
          21,
          null,
          20,
          21,
          null,
          20,
          21,
          null,
          20,
          21,
          null,
          20,
          21,
          null,
          21,
          22,
          null,
          21,
          22,
          null,
          21,
          22,
          null,
          21,
          22,
          null,
          21,
          22,
          null,
          21,
          22,
          null,
          21,
          22,
          null,
          21,
          22,
          null,
          21,
          22,
          null,
          21,
          22,
          null,
          21,
          22,
          null,
          21,
          22,
          null,
          21,
          22,
          null,
          21,
          22,
          null,
          21,
          22,
          null,
          21,
          22,
          null,
          21,
          22,
          null,
          21,
          22,
          null,
          0,
          1,
          null,
          21,
          22,
          null,
          21,
          22,
          null,
          21,
          22,
          null,
          21,
          22,
          null,
          21,
          22,
          null,
          3,
          4,
          null,
          2,
          3,
          null,
          2,
          3,
          null,
          21,
          22,
          null,
          21,
          22,
          null,
          21,
          22,
          null,
          3,
          4,
          null,
          21,
          22,
          null,
          21,
          22,
          null,
          4,
          5,
          null,
          4,
          5,
          null,
          5,
          6,
          null,
          5,
          6,
          null,
          1,
          2,
          null,
          6,
          7,
          null,
          6,
          7,
          null,
          6,
          7,
          null,
          9,
          10,
          null,
          9,
          10,
          null,
          9,
          10,
          null,
          9,
          10,
          null,
          8,
          9,
          null,
          8,
          9,
          null,
          8,
          9,
          null,
          8,
          9,
          null,
          11,
          12,
          null,
          11,
          12,
          null,
          11,
          12,
          null,
          11,
          12,
          null,
          11,
          12,
          null,
          10,
          11,
          null,
          10,
          11,
          null,
          10,
          11,
          null,
          10,
          11,
          null,
          13,
          14,
          null,
          13,
          14,
          null,
          13,
          14,
          null,
          13,
          14,
          null,
          13,
          14,
          null,
          12,
          13,
          null,
          13,
          14,
          null,
          13,
          14,
          null,
          13,
          14,
          null,
          12,
          13,
          null,
          12,
          13,
          null,
          12,
          13,
          null,
          12,
          13,
          null,
          12,
          13,
          null,
          12,
          13,
          null,
          14,
          15,
          null,
          14,
          15,
          null,
          7,
          8,
          null,
          14,
          15,
          null,
          7,
          8,
          null,
          7,
          8,
          null,
          14,
          15,
          null,
          14,
          15,
          null,
          14,
          15,
          null,
          14,
          15,
          null,
          15,
          16,
          null,
          14,
          15,
          null,
          15,
          16,
          null,
          15,
          16,
          null,
          15,
          16,
          null,
          15,
          16,
          null,
          15,
          16,
          null,
          15,
          16,
          null,
          15,
          16,
          null,
          15,
          16,
          null,
          15,
          16,
          null,
          15,
          16,
          null,
          17,
          18,
          null,
          17,
          18,
          null,
          17,
          18,
          null,
          17,
          18,
          null,
          17,
          18,
          null,
          17,
          18,
          null,
          17,
          18,
          null,
          17,
          18,
          null,
          17,
          18,
          null,
          17,
          18,
          null,
          17,
          18,
          null,
          17,
          18,
          null,
          17,
          18,
          null,
          17,
          18,
          null,
          17,
          18,
          null,
          17,
          18,
          null
         ]
        },
        {
         "hoverinfo": "text",
         "hovertemplate": "%{text}",
         "mode": "markers",
         "name": "lineage_ID: 1",
         "text": [
          "cell_ID: 9217<br>frame: 18",
          "cell_ID: 9231<br>frame: 18",
          "cell_ID: 9232<br>frame: 18",
          "cell_ID: 9236<br>frame: 18",
          "cell_ID: 9237<br>frame: 18",
          "cell_ID: 9238<br>frame: 18",
          "cell_ID: 9239<br>frame: 18",
          "cell_ID: 9241<br>frame: 18",
          "cell_ID: 9242<br>frame: 18",
          "cell_ID: 9245<br>frame: 18",
          "cell_ID: 9247<br>frame: 18",
          "cell_ID: 9248<br>frame: 18",
          "cell_ID: 9249<br>frame: 16",
          "cell_ID: 9251<br>frame: 18",
          "cell_ID: 9253<br>frame: 16",
          "cell_ID: 9254<br>frame: 18",
          "cell_ID: 9256<br>frame: 18",
          "cell_ID: 9257<br>frame: 18",
          "cell_ID: 9260<br>frame: 16",
          "cell_ID: 9261<br>frame: 16",
          "cell_ID: 9264<br>frame: 16",
          "cell_ID: 9267<br>frame: 16",
          "cell_ID: 9269<br>frame: 16",
          "cell_ID: 9270<br>frame: 16",
          "cell_ID: 9273<br>frame: 16",
          "cell_ID: 9276<br>frame: 19",
          "cell_ID: 9278<br>frame: 16",
          "cell_ID: 9280<br>frame: 16",
          "cell_ID: 9285<br>frame: 19",
          "cell_ID: 9287<br>frame: 19",
          "cell_ID: 9288<br>frame: 19",
          "cell_ID: 9291<br>frame: 19",
          "cell_ID: 9295<br>frame: 19",
          "cell_ID: 9296<br>frame: 19",
          "cell_ID: 9298<br>frame: 19",
          "cell_ID: 9300<br>frame: 19",
          "cell_ID: 9301<br>frame: 19",
          "cell_ID: 9303<br>frame: 19",
          "cell_ID: 9304<br>frame: 19",
          "cell_ID: 9307<br>frame: 19",
          "cell_ID: 9311<br>frame: 19",
          "cell_ID: 9314<br>frame: 19",
          "cell_ID: 9316<br>frame: 19",
          "cell_ID: 9323<br>frame: 20",
          "cell_ID: 9331<br>frame: 20",
          "cell_ID: 9333<br>frame: 20",
          "cell_ID: 9337<br>frame: 20",
          "cell_ID: 9341<br>frame: 20",
          "cell_ID: 9346<br>frame: 20",
          "cell_ID: 9347<br>frame: 20",
          "cell_ID: 9348<br>frame: 20",
          "cell_ID: 9349<br>frame: 20",
          "cell_ID: 9352<br>frame: 20",
          "cell_ID: 9353<br>frame: 20",
          "cell_ID: 9359<br>frame: 20",
          "cell_ID: 9360<br>frame: 20",
          "cell_ID: 9361<br>frame: 20",
          "cell_ID: 9367<br>frame: 20",
          "cell_ID: 9369<br>frame: 20",
          "cell_ID: 9370<br>frame: 20",
          "cell_ID: 9372<br>frame: 20",
          "cell_ID: 9376<br>frame: 20",
          "cell_ID: 9381<br>frame: 20",
          "cell_ID: 9383<br>frame: 20",
          "cell_ID: 9386<br>frame: 22",
          "cell_ID: 9387<br>frame: 22",
          "cell_ID: 9391<br>frame: 22",
          "cell_ID: 9393<br>frame: 22",
          "cell_ID: 9396<br>frame: 22",
          "cell_ID: 9399<br>frame: 22",
          "cell_ID: 9400<br>frame: 22",
          "cell_ID: 9401<br>frame: 22",
          "cell_ID: 9403<br>frame: 22",
          "cell_ID: 9404<br>frame: 22",
          "cell_ID: 9411<br>frame: 22",
          "cell_ID: 9421<br>frame: 22",
          "cell_ID: 9422<br>frame: 22",
          "cell_ID: 9423<br>frame: 22",
          "cell_ID: 9425<br>frame: 22",
          "cell_ID: 9426<br>frame: 22",
          "cell_ID: 9427<br>frame: 22",
          "cell_ID: 9430<br>frame: 21",
          "cell_ID: 9433<br>frame: 21",
          "cell_ID: 9435<br>frame: 21",
          "cell_ID: 9442<br>frame: 22",
          "cell_ID: 9443<br>frame: 21",
          "cell_ID: 9447<br>frame: 21",
          "cell_ID: 9452<br>frame: 22",
          "cell_ID: 9453<br>frame: 21",
          "cell_ID: 9454<br>frame: 22",
          "cell_ID: 9455<br>frame: 22",
          "cell_ID: 9456<br>frame: 21",
          "cell_ID: 9458<br>frame: 22",
          "cell_ID: 9459<br>frame: 22",
          "cell_ID: 9466<br>frame: 22",
          "cell_ID: 9468<br>frame: 22",
          "cell_ID: 9472<br>frame: 22",
          "cell_ID: 9473<br>frame: 21",
          "cell_ID: 9474<br>frame: 22",
          "cell_ID: 9477<br>frame: 21",
          "cell_ID: 9478<br>frame: 22",
          "cell_ID: 9479<br>frame: 21",
          "cell_ID: 9484<br>frame: 21",
          "cell_ID: 9486<br>frame: 21",
          "cell_ID: 9487<br>frame: 21",
          "cell_ID: 9489<br>frame: 21",
          "cell_ID: 9490<br>frame: 21",
          "cell_ID: 9496<br>frame: 21",
          "cell_ID: 8985<br>frame: 0",
          "cell_ID: 9497<br>frame: 21",
          "cell_ID: 9499<br>frame: 21",
          "cell_ID: 9501<br>frame: 21",
          "cell_ID: 9502<br>frame: 21",
          "cell_ID: 8991<br>frame: 3",
          "cell_ID: 8992<br>frame: 2",
          "cell_ID: 9503<br>frame: 21",
          "cell_ID: 9504<br>frame: 21",
          "cell_ID: 9507<br>frame: 21",
          "cell_ID: 9505<br>frame: 21",
          "cell_ID: 8997<br>frame: 3",
          "cell_ID: 9508<br>frame: 21",
          "cell_ID: 9506<br>frame: 21",
          "cell_ID: 9000<br>frame: 4",
          "cell_ID: 9002<br>frame: 4",
          "cell_ID: 9009<br>frame: 5",
          "cell_ID: 9011<br>frame: 5",
          "cell_ID: 9015<br>frame: 1",
          "cell_ID: 9021<br>frame: 6",
          "cell_ID: 9022<br>frame: 6",
          "cell_ID: 9030<br>frame: 9",
          "cell_ID: 9032<br>frame: 9",
          "cell_ID: 9033<br>frame: 9",
          "cell_ID: 9034<br>frame: 9",
          "cell_ID: 9044<br>frame: 8",
          "cell_ID: 9045<br>frame: 8",
          "cell_ID: 9046<br>frame: 8",
          "cell_ID: 9054<br>frame: 11",
          "cell_ID: 9056<br>frame: 11",
          "cell_ID: 9057<br>frame: 11",
          "cell_ID: 9058<br>frame: 11",
          "cell_ID: 9066<br>frame: 10",
          "cell_ID: 9068<br>frame: 10",
          "cell_ID: 9069<br>frame: 10",
          "cell_ID: 9070<br>frame: 10",
          "cell_ID: 9079<br>frame: 13",
          "cell_ID: 9085<br>frame: 13",
          "cell_ID: 9087<br>frame: 13",
          "cell_ID: 9092<br>frame: 13",
          "cell_ID: 9094<br>frame: 13",
          "cell_ID: 9097<br>frame: 12",
          "cell_ID: 9098<br>frame: 13",
          "cell_ID: 9100<br>frame: 13",
          "cell_ID: 9105<br>frame: 12",
          "cell_ID: 9107<br>frame: 12",
          "cell_ID: 9109<br>frame: 12",
          "cell_ID: 9110<br>frame: 12",
          "cell_ID: 9117<br>frame: 14",
          "cell_ID: 9125<br>frame: 14",
          "cell_ID: 9128<br>frame: 7",
          "cell_ID: 9129<br>frame: 14",
          "cell_ID: 9130<br>frame: 7",
          "cell_ID: 9132<br>frame: 7",
          "cell_ID: 9139<br>frame: 14",
          "cell_ID: 9141<br>frame: 14",
          "cell_ID: 9150<br>frame: 14",
          "cell_ID: 9152<br>frame: 14",
          "cell_ID: 9153<br>frame: 15",
          "cell_ID: 9154<br>frame: 14",
          "cell_ID: 9157<br>frame: 15",
          "cell_ID: 9158<br>frame: 15",
          "cell_ID: 9161<br>frame: 15",
          "cell_ID: 9164<br>frame: 15",
          "cell_ID: 9165<br>frame: 15",
          "cell_ID: 9166<br>frame: 15",
          "cell_ID: 9171<br>frame: 15",
          "cell_ID: 9177<br>frame: 17",
          "cell_ID: 9179<br>frame: 17",
          "cell_ID: 9180<br>frame: 17",
          "cell_ID: 9183<br>frame: 17",
          "cell_ID: 9186<br>frame: 17",
          "cell_ID: 9188<br>frame: 17",
          "cell_ID: 9189<br>frame: 17",
          "cell_ID: 9192<br>frame: 17",
          "cell_ID: 9197<br>frame: 17",
          "cell_ID: 9198<br>frame: 17",
          "cell_ID: 9202<br>frame: 17",
          "cell_ID: 9204<br>frame: 17",
          "cell_ID: 9205<br>frame: 17",
          "cell_ID: 9209<br>frame: 17"
         ],
         "type": "scatter",
         "x": [
          -10.21875,
          -12.46875,
          -8.21875,
          -0.21875,
          8.78125,
          1.78125,
          10.78125,
          12.78125,
          14.28125,
          3.78125,
          7.28125,
          5.78125,
          0.78125,
          -6.21875,
          8.78125,
          -4.71875,
          -3.71875,
          -2.21875,
          -10.21875,
          10.78125,
          13.53125,
          6.03125,
          -5.46875,
          -3.71875,
          -8.21875,
          3.78125,
          -12.46875,
          -2.21875,
          1.78125,
          14.28125,
          8.78125,
          -10.21875,
          10.78125,
          7.28125,
          12.78125,
          5.78125,
          -6.21875,
          -3.71875,
          -2.21875,
          -4.71875,
          -0.21875,
          -12.46875,
          -8.21875,
          1.78125,
          8.78125,
          -10.71875,
          5.78125,
          3.28125,
          12.78125,
          -3.71875,
          -6.21875,
          -2.71875,
          -8.71875,
          -1.71875,
          -13.21875,
          -9.71875,
          -7.71875,
          -0.21875,
          4.28125,
          -11.71875,
          14.28125,
          -4.71875,
          7.28125,
          10.78125,
          8.28125,
          -10.71875,
          10.28125,
          5.28125,
          -6.71875,
          -8.71875,
          -1.71875,
          -2.71875,
          12.28125,
          -7.71875,
          -12.71875,
          4.28125,
          -11.71875,
          14.28125,
          7.28125,
          -4.71875,
          3.28125,
          8.28125,
          1.78125,
          -10.71875,
          -0.71875,
          10.28125,
          5.78125,
          9.28125,
          -6.71875,
          11.28125,
          6.28125,
          -3.71875,
          -9.71875,
          -3.71875,
          0.28125,
          -13.71875,
          1.28125,
          -8.71875,
          2.28125,
          -1.71875,
          13.28125,
          -2.71875,
          -13.71875,
          -7.71875,
          -9.71875,
          -0.71875,
          -12.71875,
          9.28125,
          0,
          0.28125,
          11.28125,
          12.78125,
          4.28125,
          -7.53125,
          0,
          -5.71875,
          -11.71875,
          -4.71875,
          14.28125,
          7.53125,
          3.28125,
          7.28125,
          -7.53125,
          7.53125,
          7.53125,
          -7.53125,
          0,
          -7.53125,
          7.53125,
          -10.84375,
          3.40625,
          -4.21875,
          11.65625,
          3.40625,
          -7.53125,
          11.65625,
          -10.84375,
          3.40625,
          11.65625,
          -4.21875,
          -10.84375,
          3.40625,
          11.65625,
          -4.21875,
          0.78125,
          9.78125,
          13.53125,
          -12.46875,
          -9.21875,
          9.78125,
          -4.21875,
          6.03125,
          -10.84375,
          13.53125,
          3.40625,
          -4.21875,
          0.78125,
          9.78125,
          3.40625,
          13.53125,
          -7.53125,
          11.65625,
          -12.46875,
          -9.21875,
          6.03125,
          -5.46875,
          0.78125,
          -2.96875,
          -9.21875,
          9.78125,
          13.53125,
          6.03125,
          -2.96875,
          -5.46875,
          -12.46875,
          8.78125,
          -10.21875,
          10.78125,
          13.53125,
          -6.21875,
          -3.71875,
          -2.21875,
          -4.71875,
          -12.46875,
          -8.21875,
          4.78125,
          -0.21875,
          1.78125,
          7.28125
         ],
         "y": [
          18,
          18,
          18,
          18,
          18,
          18,
          18,
          18,
          18,
          18,
          18,
          18,
          16,
          18,
          16,
          18,
          18,
          18,
          16,
          16,
          16,
          16,
          16,
          16,
          16,
          19,
          16,
          16,
          19,
          19,
          19,
          19,
          19,
          19,
          19,
          19,
          19,
          19,
          19,
          19,
          19,
          19,
          19,
          20,
          20,
          20,
          20,
          20,
          20,
          20,
          20,
          20,
          20,
          20,
          20,
          20,
          20,
          20,
          20,
          20,
          20,
          20,
          20,
          20,
          22,
          22,
          22,
          22,
          22,
          22,
          22,
          22,
          22,
          22,
          22,
          22,
          22,
          22,
          22,
          22,
          22,
          21,
          21,
          21,
          22,
          21,
          21,
          22,
          21,
          22,
          22,
          21,
          22,
          22,
          22,
          22,
          22,
          21,
          22,
          21,
          22,
          21,
          21,
          21,
          21,
          21,
          21,
          21,
          0,
          21,
          21,
          21,
          21,
          3,
          2,
          21,
          21,
          21,
          21,
          3,
          21,
          21,
          4,
          4,
          5,
          5,
          1,
          6,
          6,
          9,
          9,
          9,
          9,
          8,
          8,
          8,
          11,
          11,
          11,
          11,
          10,
          10,
          10,
          10,
          13,
          13,
          13,
          13,
          13,
          12,
          13,
          13,
          12,
          12,
          12,
          12,
          14,
          14,
          7,
          14,
          7,
          7,
          14,
          14,
          14,
          14,
          15,
          14,
          15,
          15,
          15,
          15,
          15,
          15,
          15,
          17,
          17,
          17,
          17,
          17,
          17,
          17,
          17,
          17,
          17,
          17,
          17,
          17,
          17
         ]
        }
       ],
       "layout": {
        "hovermode": "closest",
        "showlegend": true,
        "template": {
         "data": {
          "bar": [
           {
            "error_x": {
             "color": "#2a3f5f"
            },
            "error_y": {
             "color": "#2a3f5f"
            },
            "marker": {
             "line": {
              "color": "#E5ECF6",
              "width": 0.5
             },
             "pattern": {
              "fillmode": "overlay",
              "size": 10,
              "solidity": 0.2
             }
            },
            "type": "bar"
           }
          ],
          "barpolar": [
           {
            "marker": {
             "line": {
              "color": "#E5ECF6",
              "width": 0.5
             },
             "pattern": {
              "fillmode": "overlay",
              "size": 10,
              "solidity": 0.2
             }
            },
            "type": "barpolar"
           }
          ],
          "carpet": [
           {
            "aaxis": {
             "endlinecolor": "#2a3f5f",
             "gridcolor": "white",
             "linecolor": "white",
             "minorgridcolor": "white",
             "startlinecolor": "#2a3f5f"
            },
            "baxis": {
             "endlinecolor": "#2a3f5f",
             "gridcolor": "white",
             "linecolor": "white",
             "minorgridcolor": "white",
             "startlinecolor": "#2a3f5f"
            },
            "type": "carpet"
           }
          ],
          "choropleth": [
           {
            "colorbar": {
             "outlinewidth": 0,
             "ticks": ""
            },
            "type": "choropleth"
           }
          ],
          "contour": [
           {
            "colorbar": {
             "outlinewidth": 0,
             "ticks": ""
            },
            "colorscale": [
             [
              0,
              "#0d0887"
             ],
             [
              0.1111111111111111,
              "#46039f"
             ],
             [
              0.2222222222222222,
              "#7201a8"
             ],
             [
              0.3333333333333333,
              "#9c179e"
             ],
             [
              0.4444444444444444,
              "#bd3786"
             ],
             [
              0.5555555555555556,
              "#d8576b"
             ],
             [
              0.6666666666666666,
              "#ed7953"
             ],
             [
              0.7777777777777778,
              "#fb9f3a"
             ],
             [
              0.8888888888888888,
              "#fdca26"
             ],
             [
              1,
              "#f0f921"
             ]
            ],
            "type": "contour"
           }
          ],
          "contourcarpet": [
           {
            "colorbar": {
             "outlinewidth": 0,
             "ticks": ""
            },
            "type": "contourcarpet"
           }
          ],
          "heatmap": [
           {
            "colorbar": {
             "outlinewidth": 0,
             "ticks": ""
            },
            "colorscale": [
             [
              0,
              "#0d0887"
             ],
             [
              0.1111111111111111,
              "#46039f"
             ],
             [
              0.2222222222222222,
              "#7201a8"
             ],
             [
              0.3333333333333333,
              "#9c179e"
             ],
             [
              0.4444444444444444,
              "#bd3786"
             ],
             [
              0.5555555555555556,
              "#d8576b"
             ],
             [
              0.6666666666666666,
              "#ed7953"
             ],
             [
              0.7777777777777778,
              "#fb9f3a"
             ],
             [
              0.8888888888888888,
              "#fdca26"
             ],
             [
              1,
              "#f0f921"
             ]
            ],
            "type": "heatmap"
           }
          ],
          "histogram": [
           {
            "marker": {
             "pattern": {
              "fillmode": "overlay",
              "size": 10,
              "solidity": 0.2
             }
            },
            "type": "histogram"
           }
          ],
          "histogram2d": [
           {
            "colorbar": {
             "outlinewidth": 0,
             "ticks": ""
            },
            "colorscale": [
             [
              0,
              "#0d0887"
             ],
             [
              0.1111111111111111,
              "#46039f"
             ],
             [
              0.2222222222222222,
              "#7201a8"
             ],
             [
              0.3333333333333333,
              "#9c179e"
             ],
             [
              0.4444444444444444,
              "#bd3786"
             ],
             [
              0.5555555555555556,
              "#d8576b"
             ],
             [
              0.6666666666666666,
              "#ed7953"
             ],
             [
              0.7777777777777778,
              "#fb9f3a"
             ],
             [
              0.8888888888888888,
              "#fdca26"
             ],
             [
              1,
              "#f0f921"
             ]
            ],
            "type": "histogram2d"
           }
          ],
          "histogram2dcontour": [
           {
            "colorbar": {
             "outlinewidth": 0,
             "ticks": ""
            },
            "colorscale": [
             [
              0,
              "#0d0887"
             ],
             [
              0.1111111111111111,
              "#46039f"
             ],
             [
              0.2222222222222222,
              "#7201a8"
             ],
             [
              0.3333333333333333,
              "#9c179e"
             ],
             [
              0.4444444444444444,
              "#bd3786"
             ],
             [
              0.5555555555555556,
              "#d8576b"
             ],
             [
              0.6666666666666666,
              "#ed7953"
             ],
             [
              0.7777777777777778,
              "#fb9f3a"
             ],
             [
              0.8888888888888888,
              "#fdca26"
             ],
             [
              1,
              "#f0f921"
             ]
            ],
            "type": "histogram2dcontour"
           }
          ],
          "mesh3d": [
           {
            "colorbar": {
             "outlinewidth": 0,
             "ticks": ""
            },
            "type": "mesh3d"
           }
          ],
          "parcoords": [
           {
            "line": {
             "colorbar": {
              "outlinewidth": 0,
              "ticks": ""
             }
            },
            "type": "parcoords"
           }
          ],
          "pie": [
           {
            "automargin": true,
            "type": "pie"
           }
          ],
          "scatter": [
           {
            "fillpattern": {
             "fillmode": "overlay",
             "size": 10,
             "solidity": 0.2
            },
            "type": "scatter"
           }
          ],
          "scatter3d": [
           {
            "line": {
             "colorbar": {
              "outlinewidth": 0,
              "ticks": ""
             }
            },
            "marker": {
             "colorbar": {
              "outlinewidth": 0,
              "ticks": ""
             }
            },
            "type": "scatter3d"
           }
          ],
          "scattercarpet": [
           {
            "marker": {
             "colorbar": {
              "outlinewidth": 0,
              "ticks": ""
             }
            },
            "type": "scattercarpet"
           }
          ],
          "scattergeo": [
           {
            "marker": {
             "colorbar": {
              "outlinewidth": 0,
              "ticks": ""
             }
            },
            "type": "scattergeo"
           }
          ],
          "scattergl": [
           {
            "marker": {
             "colorbar": {
              "outlinewidth": 0,
              "ticks": ""
             }
            },
            "type": "scattergl"
           }
          ],
          "scattermap": [
           {
            "marker": {
             "colorbar": {
              "outlinewidth": 0,
              "ticks": ""
             }
            },
            "type": "scattermap"
           }
          ],
          "scattermapbox": [
           {
            "marker": {
             "colorbar": {
              "outlinewidth": 0,
              "ticks": ""
             }
            },
            "type": "scattermapbox"
           }
          ],
          "scatterpolar": [
           {
            "marker": {
             "colorbar": {
              "outlinewidth": 0,
              "ticks": ""
             }
            },
            "type": "scatterpolar"
           }
          ],
          "scatterpolargl": [
           {
            "marker": {
             "colorbar": {
              "outlinewidth": 0,
              "ticks": ""
             }
            },
            "type": "scatterpolargl"
           }
          ],
          "scatterternary": [
           {
            "marker": {
             "colorbar": {
              "outlinewidth": 0,
              "ticks": ""
             }
            },
            "type": "scatterternary"
           }
          ],
          "surface": [
           {
            "colorbar": {
             "outlinewidth": 0,
             "ticks": ""
            },
            "colorscale": [
             [
              0,
              "#0d0887"
             ],
             [
              0.1111111111111111,
              "#46039f"
             ],
             [
              0.2222222222222222,
              "#7201a8"
             ],
             [
              0.3333333333333333,
              "#9c179e"
             ],
             [
              0.4444444444444444,
              "#bd3786"
             ],
             [
              0.5555555555555556,
              "#d8576b"
             ],
             [
              0.6666666666666666,
              "#ed7953"
             ],
             [
              0.7777777777777778,
              "#fb9f3a"
             ],
             [
              0.8888888888888888,
              "#fdca26"
             ],
             [
              1,
              "#f0f921"
             ]
            ],
            "type": "surface"
           }
          ],
          "table": [
           {
            "cells": {
             "fill": {
              "color": "#EBF0F8"
             },
             "line": {
              "color": "white"
             }
            },
            "header": {
             "fill": {
              "color": "#C8D4E3"
             },
             "line": {
              "color": "white"
             }
            },
            "type": "table"
           }
          ]
         },
         "layout": {
          "annotationdefaults": {
           "arrowcolor": "#2a3f5f",
           "arrowhead": 0,
           "arrowwidth": 1
          },
          "autotypenumbers": "strict",
          "coloraxis": {
           "colorbar": {
            "outlinewidth": 0,
            "ticks": ""
           }
          },
          "colorscale": {
           "diverging": [
            [
             0,
             "#8e0152"
            ],
            [
             0.1,
             "#c51b7d"
            ],
            [
             0.2,
             "#de77ae"
            ],
            [
             0.3,
             "#f1b6da"
            ],
            [
             0.4,
             "#fde0ef"
            ],
            [
             0.5,
             "#f7f7f7"
            ],
            [
             0.6,
             "#e6f5d0"
            ],
            [
             0.7,
             "#b8e186"
            ],
            [
             0.8,
             "#7fbc41"
            ],
            [
             0.9,
             "#4d9221"
            ],
            [
             1,
             "#276419"
            ]
           ],
           "sequential": [
            [
             0,
             "#0d0887"
            ],
            [
             0.1111111111111111,
             "#46039f"
            ],
            [
             0.2222222222222222,
             "#7201a8"
            ],
            [
             0.3333333333333333,
             "#9c179e"
            ],
            [
             0.4444444444444444,
             "#bd3786"
            ],
            [
             0.5555555555555556,
             "#d8576b"
            ],
            [
             0.6666666666666666,
             "#ed7953"
            ],
            [
             0.7777777777777778,
             "#fb9f3a"
            ],
            [
             0.8888888888888888,
             "#fdca26"
            ],
            [
             1,
             "#f0f921"
            ]
           ],
           "sequentialminus": [
            [
             0,
             "#0d0887"
            ],
            [
             0.1111111111111111,
             "#46039f"
            ],
            [
             0.2222222222222222,
             "#7201a8"
            ],
            [
             0.3333333333333333,
             "#9c179e"
            ],
            [
             0.4444444444444444,
             "#bd3786"
            ],
            [
             0.5555555555555556,
             "#d8576b"
            ],
            [
             0.6666666666666666,
             "#ed7953"
            ],
            [
             0.7777777777777778,
             "#fb9f3a"
            ],
            [
             0.8888888888888888,
             "#fdca26"
            ],
            [
             1,
             "#f0f921"
            ]
           ]
          },
          "colorway": [
           "#636efa",
           "#EF553B",
           "#00cc96",
           "#ab63fa",
           "#FFA15A",
           "#19d3f3",
           "#FF6692",
           "#B6E880",
           "#FF97FF",
           "#FECB52"
          ],
          "font": {
           "color": "#2a3f5f"
          },
          "geo": {
           "bgcolor": "white",
           "lakecolor": "white",
           "landcolor": "#E5ECF6",
           "showlakes": true,
           "showland": true,
           "subunitcolor": "white"
          },
          "hoverlabel": {
           "align": "left"
          },
          "hovermode": "closest",
          "mapbox": {
           "style": "light"
          },
          "paper_bgcolor": "white",
          "plot_bgcolor": "#E5ECF6",
          "polar": {
           "angularaxis": {
            "gridcolor": "white",
            "linecolor": "white",
            "ticks": ""
           },
           "bgcolor": "#E5ECF6",
           "radialaxis": {
            "gridcolor": "white",
            "linecolor": "white",
            "ticks": ""
           }
          },
          "scene": {
           "xaxis": {
            "backgroundcolor": "#E5ECF6",
            "gridcolor": "white",
            "gridwidth": 2,
            "linecolor": "white",
            "showbackground": true,
            "ticks": "",
            "zerolinecolor": "white"
           },
           "yaxis": {
            "backgroundcolor": "#E5ECF6",
            "gridcolor": "white",
            "gridwidth": 2,
            "linecolor": "white",
            "showbackground": true,
            "ticks": "",
            "zerolinecolor": "white"
           },
           "zaxis": {
            "backgroundcolor": "#E5ECF6",
            "gridcolor": "white",
            "gridwidth": 2,
            "linecolor": "white",
            "showbackground": true,
            "ticks": "",
            "zerolinecolor": "white"
           }
          },
          "shapedefaults": {
           "line": {
            "color": "#2a3f5f"
           }
          },
          "ternary": {
           "aaxis": {
            "gridcolor": "white",
            "linecolor": "white",
            "ticks": ""
           },
           "baxis": {
            "gridcolor": "white",
            "linecolor": "white",
            "ticks": ""
           },
           "bgcolor": "#E5ECF6",
           "caxis": {
            "gridcolor": "white",
            "linecolor": "white",
            "ticks": ""
           }
          },
          "title": {
           "x": 0.05
          },
          "xaxis": {
           "automargin": true,
           "gridcolor": "white",
           "linecolor": "white",
           "ticks": "",
           "title": {
            "standoff": 15
           },
           "zerolinecolor": "white",
           "zerolinewidth": 2
          },
          "yaxis": {
           "automargin": true,
           "gridcolor": "white",
           "linecolor": "white",
           "ticks": "",
           "title": {
            "standoff": 15
           },
           "zerolinecolor": "white",
           "zerolinewidth": 2
          }
         }
        },
        "title": {},
        "xaxis": {
         "showgrid": false,
         "showticklabels": false,
         "zeroline": false
        },
        "yaxis": {
         "autorange": "reversed",
         "showgrid": true,
         "title": {
          "text": "Time (frames)"
         },
         "zeroline": true
        }
       }
      }
     },
     "metadata": {},
     "output_type": "display_data"
    }
   ],
   "source": [
    "lin1.plot()"
   ]
  },
  {
   "cell_type": "markdown",
   "metadata": {},
   "source": [
    "It is possible to customize and enrich the plot with more information.  \n",
    "Below is an example where cells are colored according to their area and where cell area is displayed when the cursor is hovering on cells. In this example, area data was extracted from TrackMate (area is called AREA in TrackMate)."
   ]
  },
  {
   "cell_type": "code",
   "execution_count": 21,
   "metadata": {},
   "outputs": [
    {
     "data": {
      "application/vnd.plotly.v1+json": {
       "config": {
        "plotlyServerURL": "https://plot.ly"
       },
       "data": [
        {
         "mode": "lines",
         "name": "Edges",
         "text": [],
         "type": "scatter",
         "x": [
          -10.21875,
          -10.21875,
          null,
          -12.46875,
          -12.46875,
          null,
          -8.21875,
          -8.21875,
          null,
          -0.21875,
          -0.21875,
          null,
          8.78125,
          8.78125,
          null,
          1.78125,
          1.78125,
          null,
          10.78125,
          10.78125,
          null,
          12.78125,
          12.78125,
          null,
          14.28125,
          14.28125,
          null,
          3.78125,
          3.78125,
          null,
          7.28125,
          7.28125,
          null,
          5.78125,
          5.78125,
          null,
          0.78125,
          -0.21875,
          null,
          0.78125,
          1.78125,
          null,
          -6.21875,
          -6.21875,
          null,
          8.78125,
          8.78125,
          null,
          -4.71875,
          -4.71875,
          null,
          -3.71875,
          -3.71875,
          null,
          -2.21875,
          -2.21875,
          null,
          -10.21875,
          -10.21875,
          null,
          10.78125,
          10.78125,
          null,
          13.53125,
          13.53125,
          null,
          6.03125,
          4.78125,
          null,
          6.03125,
          7.28125,
          null,
          -5.46875,
          -6.21875,
          null,
          -5.46875,
          -4.71875,
          null,
          -3.71875,
          -3.71875,
          null,
          -8.21875,
          -8.21875,
          null,
          3.78125,
          3.28125,
          null,
          3.78125,
          4.28125,
          null,
          -12.46875,
          -12.46875,
          null,
          -2.21875,
          -2.21875,
          null,
          1.78125,
          1.78125,
          null,
          14.28125,
          14.28125,
          null,
          8.78125,
          8.78125,
          null,
          -10.21875,
          -9.71875,
          null,
          -10.21875,
          -10.71875,
          null,
          10.78125,
          10.78125,
          null,
          7.28125,
          7.28125,
          null,
          12.78125,
          12.78125,
          null,
          5.78125,
          5.78125,
          null,
          -6.21875,
          -6.21875,
          null,
          -3.71875,
          -3.71875,
          null,
          -2.21875,
          -2.71875,
          null,
          -2.21875,
          -1.71875,
          null,
          -4.71875,
          -4.71875,
          null,
          -0.21875,
          -0.21875,
          null,
          -12.46875,
          -11.71875,
          null,
          -12.46875,
          -13.21875,
          null,
          -8.21875,
          -8.71875,
          null,
          -8.21875,
          -7.71875,
          null,
          1.78125,
          1.78125,
          null,
          8.78125,
          8.28125,
          null,
          8.78125,
          9.28125,
          null,
          -10.71875,
          -10.71875,
          null,
          5.78125,
          5.78125,
          null,
          3.28125,
          3.28125,
          null,
          12.78125,
          12.78125,
          null,
          -3.71875,
          -3.71875,
          null,
          -6.21875,
          -6.71875,
          null,
          -6.21875,
          -5.71875,
          null,
          -2.71875,
          -2.71875,
          null,
          -8.71875,
          -8.71875,
          null,
          -1.71875,
          -1.71875,
          null,
          -13.21875,
          -13.71875,
          null,
          -13.21875,
          -12.71875,
          null,
          -9.71875,
          -9.71875,
          null,
          -7.71875,
          -7.71875,
          null,
          -0.21875,
          0.28125,
          null,
          -0.21875,
          -0.71875,
          null,
          4.28125,
          4.28125,
          null,
          -11.71875,
          -11.71875,
          null,
          14.28125,
          14.28125,
          null,
          -4.71875,
          -4.71875,
          null,
          7.28125,
          7.28125,
          null,
          10.78125,
          11.28125,
          null,
          10.78125,
          10.28125,
          null,
          8.28125,
          8.28125,
          null,
          1.78125,
          1.28125,
          null,
          1.78125,
          2.28125,
          null,
          -10.71875,
          -10.71875,
          null,
          10.28125,
          10.28125,
          null,
          5.78125,
          6.28125,
          null,
          5.78125,
          5.28125,
          null,
          -6.71875,
          -6.71875,
          null,
          -3.71875,
          -3.71875,
          null,
          -8.71875,
          -8.71875,
          null,
          -1.71875,
          -1.71875,
          null,
          -2.71875,
          -2.71875,
          null,
          -13.71875,
          -13.71875,
          null,
          -7.71875,
          -7.71875,
          null,
          -9.71875,
          -9.71875,
          null,
          -0.71875,
          -0.71875,
          null,
          -12.71875,
          -12.71875,
          null,
          9.28125,
          9.28125,
          null,
          0,
          0,
          null,
          0.28125,
          0.28125,
          null,
          11.28125,
          11.28125,
          null,
          12.78125,
          12.28125,
          null,
          12.78125,
          13.28125,
          null,
          4.28125,
          4.28125,
          null,
          -7.53125,
          -7.53125,
          null,
          0,
          -7.53125,
          null,
          0,
          7.53125,
          null,
          -11.71875,
          -11.71875,
          null,
          -4.71875,
          -4.71875,
          null,
          14.28125,
          14.28125,
          null,
          7.53125,
          7.53125,
          null,
          3.28125,
          3.28125,
          null,
          7.28125,
          7.28125,
          null,
          -7.53125,
          -7.53125,
          null,
          7.53125,
          7.53125,
          null,
          7.53125,
          7.53125,
          null,
          -7.53125,
          -7.53125,
          null,
          0,
          0,
          null,
          -7.53125,
          -7.53125,
          null,
          7.53125,
          11.65625,
          null,
          7.53125,
          3.40625,
          null,
          -10.84375,
          -10.84375,
          null,
          3.40625,
          3.40625,
          null,
          -4.21875,
          -4.21875,
          null,
          11.65625,
          11.65625,
          null,
          3.40625,
          3.40625,
          null,
          -7.53125,
          -4.21875,
          null,
          -7.53125,
          -10.84375,
          null,
          11.65625,
          11.65625,
          null,
          -10.84375,
          -10.84375,
          null,
          3.40625,
          3.40625,
          null,
          11.65625,
          13.53125,
          null,
          11.65625,
          9.78125,
          null,
          -4.21875,
          -4.21875,
          null,
          -10.84375,
          -10.84375,
          null,
          3.40625,
          3.40625,
          null,
          11.65625,
          11.65625,
          null,
          -4.21875,
          -4.21875,
          null,
          0.78125,
          0.78125,
          null,
          9.78125,
          9.78125,
          null,
          13.53125,
          13.53125,
          null,
          -12.46875,
          -12.46875,
          null,
          -9.21875,
          -9.21875,
          null,
          9.78125,
          9.78125,
          null,
          -4.21875,
          -5.46875,
          null,
          -4.21875,
          -2.96875,
          null,
          6.03125,
          6.03125,
          null,
          -10.84375,
          -12.46875,
          null,
          -10.84375,
          -9.21875,
          null,
          13.53125,
          13.53125,
          null,
          3.40625,
          0.78125,
          null,
          3.40625,
          6.03125,
          null,
          -4.21875,
          -4.21875,
          null,
          0.78125,
          0.78125,
          null,
          9.78125,
          9.78125,
          null,
          3.40625,
          3.40625,
          null,
          13.53125,
          13.53125,
          null,
          -7.53125,
          -7.53125,
          null,
          11.65625,
          11.65625,
          null,
          -12.46875,
          -12.46875,
          null,
          -9.21875,
          -9.21875,
          null,
          6.03125,
          6.03125,
          null,
          -5.46875,
          -5.46875,
          null,
          0.78125,
          0.78125,
          null,
          -2.96875,
          -2.96875,
          null,
          -9.21875,
          -10.21875,
          null,
          -9.21875,
          -8.21875,
          null,
          9.78125,
          10.78125,
          null,
          9.78125,
          8.78125,
          null,
          13.53125,
          13.53125,
          null,
          6.03125,
          6.03125,
          null,
          -2.96875,
          -2.21875,
          null,
          -2.96875,
          -3.71875,
          null,
          -5.46875,
          -5.46875,
          null,
          -12.46875,
          -12.46875,
          null,
          8.78125,
          8.78125,
          null,
          -10.21875,
          -10.21875,
          null,
          10.78125,
          10.78125,
          null,
          13.53125,
          14.28125,
          null,
          13.53125,
          12.78125,
          null,
          -6.21875,
          -6.21875,
          null,
          -3.71875,
          -3.71875,
          null,
          -2.21875,
          -2.21875,
          null,
          -4.71875,
          -4.71875,
          null,
          -12.46875,
          -12.46875,
          null,
          -8.21875,
          -8.21875,
          null,
          4.78125,
          3.78125,
          null,
          4.78125,
          5.78125,
          null,
          -0.21875,
          -0.21875,
          null,
          1.78125,
          1.78125,
          null,
          7.28125,
          7.28125,
          null
         ],
         "y": [
          18,
          19,
          null,
          18,
          19,
          null,
          18,
          19,
          null,
          18,
          19,
          null,
          18,
          19,
          null,
          18,
          19,
          null,
          18,
          19,
          null,
          18,
          19,
          null,
          18,
          19,
          null,
          18,
          19,
          null,
          18,
          19,
          null,
          18,
          19,
          null,
          16,
          17,
          null,
          16,
          17,
          null,
          18,
          19,
          null,
          16,
          17,
          null,
          18,
          19,
          null,
          18,
          19,
          null,
          18,
          19,
          null,
          16,
          17,
          null,
          16,
          17,
          null,
          16,
          17,
          null,
          16,
          17,
          null,
          16,
          17,
          null,
          16,
          17,
          null,
          16,
          17,
          null,
          16,
          17,
          null,
          16,
          17,
          null,
          19,
          20,
          null,
          19,
          20,
          null,
          16,
          17,
          null,
          16,
          17,
          null,
          19,
          20,
          null,
          19,
          20,
          null,
          19,
          20,
          null,
          19,
          20,
          null,
          19,
          20,
          null,
          19,
          20,
          null,
          19,
          20,
          null,
          19,
          20,
          null,
          19,
          20,
          null,
          19,
          20,
          null,
          19,
          20,
          null,
          19,
          20,
          null,
          19,
          20,
          null,
          19,
          20,
          null,
          19,
          20,
          null,
          19,
          20,
          null,
          19,
          20,
          null,
          19,
          20,
          null,
          19,
          20,
          null,
          20,
          21,
          null,
          20,
          21,
          null,
          20,
          21,
          null,
          20,
          21,
          null,
          20,
          21,
          null,
          20,
          21,
          null,
          20,
          21,
          null,
          20,
          21,
          null,
          20,
          21,
          null,
          20,
          21,
          null,
          20,
          21,
          null,
          20,
          21,
          null,
          20,
          21,
          null,
          20,
          21,
          null,
          20,
          21,
          null,
          20,
          21,
          null,
          20,
          21,
          null,
          20,
          21,
          null,
          20,
          21,
          null,
          20,
          21,
          null,
          20,
          21,
          null,
          20,
          21,
          null,
          20,
          21,
          null,
          20,
          21,
          null,
          20,
          21,
          null,
          20,
          21,
          null,
          21,
          22,
          null,
          21,
          22,
          null,
          21,
          22,
          null,
          21,
          22,
          null,
          21,
          22,
          null,
          21,
          22,
          null,
          21,
          22,
          null,
          21,
          22,
          null,
          21,
          22,
          null,
          21,
          22,
          null,
          21,
          22,
          null,
          21,
          22,
          null,
          21,
          22,
          null,
          21,
          22,
          null,
          21,
          22,
          null,
          21,
          22,
          null,
          21,
          22,
          null,
          21,
          22,
          null,
          0,
          1,
          null,
          21,
          22,
          null,
          21,
          22,
          null,
          21,
          22,
          null,
          21,
          22,
          null,
          21,
          22,
          null,
          3,
          4,
          null,
          2,
          3,
          null,
          2,
          3,
          null,
          21,
          22,
          null,
          21,
          22,
          null,
          21,
          22,
          null,
          3,
          4,
          null,
          21,
          22,
          null,
          21,
          22,
          null,
          4,
          5,
          null,
          4,
          5,
          null,
          5,
          6,
          null,
          5,
          6,
          null,
          1,
          2,
          null,
          6,
          7,
          null,
          6,
          7,
          null,
          6,
          7,
          null,
          9,
          10,
          null,
          9,
          10,
          null,
          9,
          10,
          null,
          9,
          10,
          null,
          8,
          9,
          null,
          8,
          9,
          null,
          8,
          9,
          null,
          8,
          9,
          null,
          11,
          12,
          null,
          11,
          12,
          null,
          11,
          12,
          null,
          11,
          12,
          null,
          11,
          12,
          null,
          10,
          11,
          null,
          10,
          11,
          null,
          10,
          11,
          null,
          10,
          11,
          null,
          13,
          14,
          null,
          13,
          14,
          null,
          13,
          14,
          null,
          13,
          14,
          null,
          13,
          14,
          null,
          12,
          13,
          null,
          13,
          14,
          null,
          13,
          14,
          null,
          13,
          14,
          null,
          12,
          13,
          null,
          12,
          13,
          null,
          12,
          13,
          null,
          12,
          13,
          null,
          12,
          13,
          null,
          12,
          13,
          null,
          14,
          15,
          null,
          14,
          15,
          null,
          7,
          8,
          null,
          14,
          15,
          null,
          7,
          8,
          null,
          7,
          8,
          null,
          14,
          15,
          null,
          14,
          15,
          null,
          14,
          15,
          null,
          14,
          15,
          null,
          15,
          16,
          null,
          14,
          15,
          null,
          15,
          16,
          null,
          15,
          16,
          null,
          15,
          16,
          null,
          15,
          16,
          null,
          15,
          16,
          null,
          15,
          16,
          null,
          15,
          16,
          null,
          15,
          16,
          null,
          15,
          16,
          null,
          15,
          16,
          null,
          17,
          18,
          null,
          17,
          18,
          null,
          17,
          18,
          null,
          17,
          18,
          null,
          17,
          18,
          null,
          17,
          18,
          null,
          17,
          18,
          null,
          17,
          18,
          null,
          17,
          18,
          null,
          17,
          18,
          null,
          17,
          18,
          null,
          17,
          18,
          null,
          17,
          18,
          null,
          17,
          18,
          null,
          17,
          18,
          null,
          17,
          18,
          null
         ]
        },
        {
         "hoverinfo": "text",
         "hovertemplate": "%{text}",
         "marker": {
          "color": [
           3.8073474034601498,
           6.744753890232255,
           3.6099293899474016,
           3.258481937320311,
           3.5535242432294734,
           3.0805887822868456,
           3.5600325293892308,
           3.297531654278873,
           3.1695353598035796,
           3.7791448301011843,
           3.4732553805924185,
           2.2865778707960085,
           4.970161197337443,
           3.9874099872135345,
           2.3646773047131426,
           3.7965002598605446,
           3.7661282577816615,
           3.7574505429019824,
           2.544739888466525,
           2.4080658791115486,
           4.7900986135840515,
           5.102496349252573,
           5.46696037419919,
           2.3169498728748943,
           2.5273844587071657,
           4.143608855047797,
           4.66861060526851,
           2.6011450351844543,
           3.714061968503576,
           2.935237058052184,
           4.061170563690826,
           4.5579697405525765,
           3.957037985134653,
           4.093711994489631,
           4.013443131852578,
           2.982964489890433,
           3.803008546020307,
           2.8571376241350506,
           4.5427837395131325,
           4.8595203326215035,
           3.698875967464133,
           9.304679779738223,
           4.390923729118711,
           5.037413487654969,
           5.315100363804765,
           2.6900916127011847,
           3.7270785408230958,
           2.8744930538944127,
           4.8378260454222985,
           2.7291413296597544,
           5.317269792524687,
           2.611992178784057,
           2.549078745906367,
           2.7551744742987996,
           7.8880428256302695,
           2.6640584680621457,
           2.5295538874270846,
           4.43865116095696,
           2.588128462864933,
           2.336474731354175,
           3.1521799300442144,
           5.753324965228668,
           3.3994948041151307,
           5.386691511562141,
           3.4081725189948124,
           4.052492848811145,
           3.232448792681265,
           2.4666404545493936,
           4.041645705211542,
           3.438544521073694,
           4.080695422170113,
           3.9201576968960037,
           3.421189091314333,
           3.6511485356258837,
           7.406429649807948,
           3.2302793639613476,
           3.3604450871565628,
           1.6704601143386402,
           1.4643643859462108,
           8.870794035754159,
           3.9028022671366394,
           2.6380253234231006,
           5.373674939242613,
           3.2693290809199107,
           2.954761916531469,
           2.631517037263339,
           4.579664027751782,
           4.037306847771703,
           3.547015957069711,
           4.206522287925489,
           2.0587878552043777,
           2.520876172547407,
           3.935343697935444,
           2.442776738630272,
           3.306209369158556,
           3.0263530642888354,
           3.3430896573972033,
           2.763852189178478,
           3.356106229716726,
           3.1131302130856477,
           3.5730491017087544,
           3.2498042224406296,
           2.572942461825491,
           2.9786256324505898,
           3.074080496127081,
           2.388541020632265,
           6.091755845536241,
           2.99815049092987,
           2.596806177744612,
           2.5078596002278823,
           2.974286775010751,
           5.918201547942613,
           3.163027073643817,
           1.8331672683326625,
           3.245465365000785,
           0.55754318101952,
           2.7855464763776805,
           7.2155199224549555,
           2.2735612984764866,
           1.6899849728179233,
           3.011167063249395,
           2.5772813192653308,
           2.1976312932792768,
           2.154242718880869,
           2.4340990237505906,
           2.737819044539436,
           2.9395759154920214,
           3.19773793316254,
           3.1500105013242923,
           2.85062933797529,
           2.6575501819023835,
           2.9807950611705087,
           2.5686036043856513,
           1.9177749884095572,
           4.794437471023891,
           2.1433955752812675,
           3.9288354117756876,
           3.807347403460151,
           4.102389709369312,
           4.390923729118713,
           3.392986517955369,
           3.126146785405168,
           3.06757220996732,
           3.53616881347011,
           2.6445336095828593,
           2.796393619977281,
           2.7746993327780807,
           2.7291413296597518,
           2.9656090601310665,
           2.4471155960701116,
           6.464897585362532,
           3.035030779168517,
           4.866028618781259,
           2.1217012880820656,
           4.59485002879122,
           5.351980652043409,
           3.1543493587641365,
           3.3300730850776814,
           1.642257540979677,
           3.291023368119111,
           3.991748844653374,
           1.7637455492952125,
           3.2606513660402263,
           3.6186071048270803,
           3.6012516750677186,
           3.826872261939429,
           4.065509421130663,
           3.703214824903972,
           4.195675144325885,
           3.9809017010537753,
           3.9635462712944074,
           4.293299436722302,
           4.213030574085249,
           4.7966068997438125,
           4.039476276491623,
           2.8484599092553733,
           3.1478410726043764,
           2.9634396314111444,
           5.271711789406366,
           3.091435925886449,
           3.1066219269258895,
           3.1521799300442144,
           3.1543493587641356,
           5.469129802919105,
           3.0220142068489944,
           2.7204636147800727,
           2.731310758379675,
           2.7204636147800723,
           2.9829644898904273
          ],
          "colorbar": {
           "title": {
            "text": "AREA"
           }
          },
          "colorscale": [
           [
            0,
            "#0508b8"
           ],
           [
            0.08333333333333333,
            "#1910d8"
           ],
           [
            0.16666666666666666,
            "#3c19f0"
           ],
           [
            0.25,
            "#6b1cfb"
           ],
           [
            0.3333333333333333,
            "#981cfd"
           ],
           [
            0.4166666666666667,
            "#bf1cfd"
           ],
           [
            0.5,
            "#dd2bfd"
           ],
           [
            0.5833333333333334,
            "#f246fe"
           ],
           [
            0.6666666666666666,
            "#fc67fd"
           ],
           [
            0.75,
            "#fe88fc"
           ],
           [
            0.8333333333333334,
            "#fea5fd"
           ],
           [
            0.9166666666666666,
            "#febefe"
           ],
           [
            1,
            "#fec3fe"
           ]
          ]
         },
         "mode": "markers",
         "name": "lineage_ID: 1",
         "text": [
          "cell_ID: 9217<br>AREA: 3.8073474034601498<br>",
          "cell_ID: 9231<br>AREA: 6.744753890232255<br>",
          "cell_ID: 9232<br>AREA: 3.6099293899474016<br>",
          "cell_ID: 9236<br>AREA: 3.258481937320311<br>",
          "cell_ID: 9237<br>AREA: 3.5535242432294734<br>",
          "cell_ID: 9238<br>AREA: 3.0805887822868456<br>",
          "cell_ID: 9239<br>AREA: 3.5600325293892308<br>",
          "cell_ID: 9241<br>AREA: 3.297531654278873<br>",
          "cell_ID: 9242<br>AREA: 3.1695353598035796<br>",
          "cell_ID: 9245<br>AREA: 3.7791448301011843<br>",
          "cell_ID: 9247<br>AREA: 3.4732553805924185<br>",
          "cell_ID: 9248<br>AREA: 2.2865778707960085<br>",
          "cell_ID: 9249<br>AREA: 4.970161197337443<br>",
          "cell_ID: 9251<br>AREA: 3.9874099872135345<br>",
          "cell_ID: 9253<br>AREA: 2.3646773047131426<br>",
          "cell_ID: 9254<br>AREA: 3.7965002598605446<br>",
          "cell_ID: 9256<br>AREA: 3.7661282577816615<br>",
          "cell_ID: 9257<br>AREA: 3.7574505429019824<br>",
          "cell_ID: 9260<br>AREA: 2.544739888466525<br>",
          "cell_ID: 9261<br>AREA: 2.4080658791115486<br>",
          "cell_ID: 9264<br>AREA: 4.7900986135840515<br>",
          "cell_ID: 9267<br>AREA: 5.102496349252573<br>",
          "cell_ID: 9269<br>AREA: 5.46696037419919<br>",
          "cell_ID: 9270<br>AREA: 2.3169498728748943<br>",
          "cell_ID: 9273<br>AREA: 2.5273844587071657<br>",
          "cell_ID: 9276<br>AREA: 4.143608855047797<br>",
          "cell_ID: 9278<br>AREA: 4.66861060526851<br>",
          "cell_ID: 9280<br>AREA: 2.6011450351844543<br>",
          "cell_ID: 9285<br>AREA: 3.714061968503576<br>",
          "cell_ID: 9287<br>AREA: 2.935237058052184<br>",
          "cell_ID: 9288<br>AREA: 4.061170563690826<br>",
          "cell_ID: 9291<br>AREA: 4.5579697405525765<br>",
          "cell_ID: 9295<br>AREA: 3.957037985134653<br>",
          "cell_ID: 9296<br>AREA: 4.093711994489631<br>",
          "cell_ID: 9298<br>AREA: 4.013443131852578<br>",
          "cell_ID: 9300<br>AREA: 2.982964489890433<br>",
          "cell_ID: 9301<br>AREA: 3.803008546020307<br>",
          "cell_ID: 9303<br>AREA: 2.8571376241350506<br>",
          "cell_ID: 9304<br>AREA: 4.5427837395131325<br>",
          "cell_ID: 9307<br>AREA: 4.8595203326215035<br>",
          "cell_ID: 9311<br>AREA: 3.698875967464133<br>",
          "cell_ID: 9314<br>AREA: 9.304679779738223<br>",
          "cell_ID: 9316<br>AREA: 4.390923729118711<br>",
          "cell_ID: 9323<br>AREA: 5.037413487654969<br>",
          "cell_ID: 9331<br>AREA: 5.315100363804765<br>",
          "cell_ID: 9333<br>AREA: 2.6900916127011847<br>",
          "cell_ID: 9337<br>AREA: 3.7270785408230958<br>",
          "cell_ID: 9341<br>AREA: 2.8744930538944127<br>",
          "cell_ID: 9346<br>AREA: 4.8378260454222985<br>",
          "cell_ID: 9347<br>AREA: 2.7291413296597544<br>",
          "cell_ID: 9348<br>AREA: 5.317269792524687<br>",
          "cell_ID: 9349<br>AREA: 2.611992178784057<br>",
          "cell_ID: 9352<br>AREA: 2.549078745906367<br>",
          "cell_ID: 9353<br>AREA: 2.7551744742987996<br>",
          "cell_ID: 9359<br>AREA: 7.8880428256302695<br>",
          "cell_ID: 9360<br>AREA: 2.6640584680621457<br>",
          "cell_ID: 9361<br>AREA: 2.5295538874270846<br>",
          "cell_ID: 9367<br>AREA: 4.43865116095696<br>",
          "cell_ID: 9369<br>AREA: 2.588128462864933<br>",
          "cell_ID: 9370<br>AREA: 2.336474731354175<br>",
          "cell_ID: 9372<br>AREA: 3.1521799300442144<br>",
          "cell_ID: 9376<br>AREA: 5.753324965228668<br>",
          "cell_ID: 9381<br>AREA: 3.3994948041151307<br>",
          "cell_ID: 9383<br>AREA: 5.386691511562141<br>",
          "cell_ID: 9386<br>AREA: 3.4081725189948124<br>",
          "cell_ID: 9387<br>AREA: 4.052492848811145<br>",
          "cell_ID: 9391<br>AREA: 3.232448792681265<br>",
          "cell_ID: 9393<br>AREA: 2.4666404545493936<br>",
          "cell_ID: 9396<br>AREA: 4.041645705211542<br>",
          "cell_ID: 9399<br>AREA: 3.438544521073694<br>",
          "cell_ID: 9400<br>AREA: 4.080695422170113<br>",
          "cell_ID: 9401<br>AREA: 3.9201576968960037<br>",
          "cell_ID: 9403<br>AREA: 3.421189091314333<br>",
          "cell_ID: 9404<br>AREA: 3.6511485356258837<br>",
          "cell_ID: 9411<br>AREA: 7.406429649807948<br>",
          "cell_ID: 9421<br>AREA: 3.2302793639613476<br>",
          "cell_ID: 9422<br>AREA: 3.3604450871565628<br>",
          "cell_ID: 9423<br>AREA: 1.6704601143386402<br>",
          "cell_ID: 9425<br>AREA: 1.4643643859462108<br>",
          "cell_ID: 9426<br>AREA: 8.870794035754159<br>",
          "cell_ID: 9427<br>AREA: 3.9028022671366394<br>",
          "cell_ID: 9430<br>AREA: 2.6380253234231006<br>",
          "cell_ID: 9433<br>AREA: 5.373674939242613<br>",
          "cell_ID: 9435<br>AREA: 3.2693290809199107<br>",
          "cell_ID: 9442<br>AREA: 2.954761916531469<br>",
          "cell_ID: 9443<br>AREA: 2.631517037263339<br>",
          "cell_ID: 9447<br>AREA: 4.579664027751782<br>",
          "cell_ID: 9452<br>AREA: 4.037306847771703<br>",
          "cell_ID: 9453<br>AREA: 3.547015957069711<br>",
          "cell_ID: 9454<br>AREA: 4.206522287925489<br>",
          "cell_ID: 9455<br>AREA: 2.0587878552043777<br>",
          "cell_ID: 9456<br>AREA: 2.520876172547407<br>",
          "cell_ID: 9458<br>AREA: 3.935343697935444<br>",
          "cell_ID: 9459<br>AREA: 2.442776738630272<br>",
          "cell_ID: 9466<br>AREA: 3.306209369158556<br>",
          "cell_ID: 9468<br>AREA: 3.0263530642888354<br>",
          "cell_ID: 9472<br>AREA: 3.3430896573972033<br>",
          "cell_ID: 9473<br>AREA: 2.763852189178478<br>",
          "cell_ID: 9474<br>AREA: 3.356106229716726<br>",
          "cell_ID: 9477<br>AREA: 3.1131302130856477<br>",
          "cell_ID: 9478<br>AREA: 3.5730491017087544<br>",
          "cell_ID: 9479<br>AREA: 3.2498042224406296<br>",
          "cell_ID: 9484<br>AREA: 2.572942461825491<br>",
          "cell_ID: 9486<br>AREA: 2.9786256324505898<br>",
          "cell_ID: 9487<br>AREA: 3.074080496127081<br>",
          "cell_ID: 9489<br>AREA: 2.388541020632265<br>",
          "cell_ID: 9490<br>AREA: 6.091755845536241<br>",
          "cell_ID: 9496<br>AREA: 2.99815049092987<br>",
          "cell_ID: 8985<br>AREA: 2.596806177744612<br>",
          "cell_ID: 9497<br>AREA: 2.5078596002278823<br>",
          "cell_ID: 9499<br>AREA: 2.974286775010751<br>",
          "cell_ID: 9501<br>AREA: 5.918201547942613<br>",
          "cell_ID: 9502<br>AREA: 3.163027073643817<br>",
          "cell_ID: 8991<br>AREA: 1.8331672683326625<br>",
          "cell_ID: 8992<br>AREA: 3.245465365000785<br>",
          "cell_ID: 9503<br>AREA: 0.55754318101952<br>",
          "cell_ID: 9504<br>AREA: 2.7855464763776805<br>",
          "cell_ID: 9507<br>AREA: 7.2155199224549555<br>",
          "cell_ID: 9505<br>AREA: 2.2735612984764866<br>",
          "cell_ID: 8997<br>AREA: 1.6899849728179233<br>",
          "cell_ID: 9508<br>AREA: 3.011167063249395<br>",
          "cell_ID: 9506<br>AREA: 2.5772813192653308<br>",
          "cell_ID: 9000<br>AREA: 2.1976312932792768<br>",
          "cell_ID: 9002<br>AREA: 2.154242718880869<br>",
          "cell_ID: 9009<br>AREA: 2.4340990237505906<br>",
          "cell_ID: 9011<br>AREA: 2.737819044539436<br>",
          "cell_ID: 9015<br>AREA: 2.9395759154920214<br>",
          "cell_ID: 9021<br>AREA: 3.19773793316254<br>",
          "cell_ID: 9022<br>AREA: 3.1500105013242923<br>",
          "cell_ID: 9030<br>AREA: 2.85062933797529<br>",
          "cell_ID: 9032<br>AREA: 2.6575501819023835<br>",
          "cell_ID: 9033<br>AREA: 2.9807950611705087<br>",
          "cell_ID: 9034<br>AREA: 2.5686036043856513<br>",
          "cell_ID: 9044<br>AREA: 1.9177749884095572<br>",
          "cell_ID: 9045<br>AREA: 4.794437471023891<br>",
          "cell_ID: 9046<br>AREA: 2.1433955752812675<br>",
          "cell_ID: 9054<br>AREA: 3.9288354117756876<br>",
          "cell_ID: 9056<br>AREA: 3.807347403460151<br>",
          "cell_ID: 9057<br>AREA: 4.102389709369312<br>",
          "cell_ID: 9058<br>AREA: 4.390923729118713<br>",
          "cell_ID: 9066<br>AREA: 3.392986517955369<br>",
          "cell_ID: 9068<br>AREA: 3.126146785405168<br>",
          "cell_ID: 9069<br>AREA: 3.06757220996732<br>",
          "cell_ID: 9070<br>AREA: 3.53616881347011<br>",
          "cell_ID: 9079<br>AREA: 2.6445336095828593<br>",
          "cell_ID: 9085<br>AREA: 2.796393619977281<br>",
          "cell_ID: 9087<br>AREA: 2.7746993327780807<br>",
          "cell_ID: 9092<br>AREA: 2.7291413296597518<br>",
          "cell_ID: 9094<br>AREA: 2.9656090601310665<br>",
          "cell_ID: 9097<br>AREA: 2.4471155960701116<br>",
          "cell_ID: 9098<br>AREA: 6.464897585362532<br>",
          "cell_ID: 9100<br>AREA: 3.035030779168517<br>",
          "cell_ID: 9105<br>AREA: 4.866028618781259<br>",
          "cell_ID: 9107<br>AREA: 2.1217012880820656<br>",
          "cell_ID: 9109<br>AREA: 4.59485002879122<br>",
          "cell_ID: 9110<br>AREA: 5.351980652043409<br>",
          "cell_ID: 9117<br>AREA: 3.1543493587641365<br>",
          "cell_ID: 9125<br>AREA: 3.3300730850776814<br>",
          "cell_ID: 9128<br>AREA: 1.642257540979677<br>",
          "cell_ID: 9129<br>AREA: 3.291023368119111<br>",
          "cell_ID: 9130<br>AREA: 3.991748844653374<br>",
          "cell_ID: 9132<br>AREA: 1.7637455492952125<br>",
          "cell_ID: 9139<br>AREA: 3.2606513660402263<br>",
          "cell_ID: 9141<br>AREA: 3.6186071048270803<br>",
          "cell_ID: 9150<br>AREA: 3.6012516750677186<br>",
          "cell_ID: 9152<br>AREA: 3.826872261939429<br>",
          "cell_ID: 9153<br>AREA: 4.065509421130663<br>",
          "cell_ID: 9154<br>AREA: 3.703214824903972<br>",
          "cell_ID: 9157<br>AREA: 4.195675144325885<br>",
          "cell_ID: 9158<br>AREA: 3.9809017010537753<br>",
          "cell_ID: 9161<br>AREA: 3.9635462712944074<br>",
          "cell_ID: 9164<br>AREA: 4.293299436722302<br>",
          "cell_ID: 9165<br>AREA: 4.213030574085249<br>",
          "cell_ID: 9166<br>AREA: 4.7966068997438125<br>",
          "cell_ID: 9171<br>AREA: 4.039476276491623<br>",
          "cell_ID: 9177<br>AREA: 2.8484599092553733<br>",
          "cell_ID: 9179<br>AREA: 3.1478410726043764<br>",
          "cell_ID: 9180<br>AREA: 2.9634396314111444<br>",
          "cell_ID: 9183<br>AREA: 5.271711789406366<br>",
          "cell_ID: 9186<br>AREA: 3.091435925886449<br>",
          "cell_ID: 9188<br>AREA: 3.1066219269258895<br>",
          "cell_ID: 9189<br>AREA: 3.1521799300442144<br>",
          "cell_ID: 9192<br>AREA: 3.1543493587641356<br>",
          "cell_ID: 9197<br>AREA: 5.469129802919105<br>",
          "cell_ID: 9198<br>AREA: 3.0220142068489944<br>",
          "cell_ID: 9202<br>AREA: 2.7204636147800727<br>",
          "cell_ID: 9204<br>AREA: 2.731310758379675<br>",
          "cell_ID: 9205<br>AREA: 2.7204636147800723<br>",
          "cell_ID: 9209<br>AREA: 2.9829644898904273<br>"
         ],
         "type": "scatter",
         "x": [
          -10.21875,
          -12.46875,
          -8.21875,
          -0.21875,
          8.78125,
          1.78125,
          10.78125,
          12.78125,
          14.28125,
          3.78125,
          7.28125,
          5.78125,
          0.78125,
          -6.21875,
          8.78125,
          -4.71875,
          -3.71875,
          -2.21875,
          -10.21875,
          10.78125,
          13.53125,
          6.03125,
          -5.46875,
          -3.71875,
          -8.21875,
          3.78125,
          -12.46875,
          -2.21875,
          1.78125,
          14.28125,
          8.78125,
          -10.21875,
          10.78125,
          7.28125,
          12.78125,
          5.78125,
          -6.21875,
          -3.71875,
          -2.21875,
          -4.71875,
          -0.21875,
          -12.46875,
          -8.21875,
          1.78125,
          8.78125,
          -10.71875,
          5.78125,
          3.28125,
          12.78125,
          -3.71875,
          -6.21875,
          -2.71875,
          -8.71875,
          -1.71875,
          -13.21875,
          -9.71875,
          -7.71875,
          -0.21875,
          4.28125,
          -11.71875,
          14.28125,
          -4.71875,
          7.28125,
          10.78125,
          8.28125,
          -10.71875,
          10.28125,
          5.28125,
          -6.71875,
          -8.71875,
          -1.71875,
          -2.71875,
          12.28125,
          -7.71875,
          -12.71875,
          4.28125,
          -11.71875,
          14.28125,
          7.28125,
          -4.71875,
          3.28125,
          8.28125,
          1.78125,
          -10.71875,
          -0.71875,
          10.28125,
          5.78125,
          9.28125,
          -6.71875,
          11.28125,
          6.28125,
          -3.71875,
          -9.71875,
          -3.71875,
          0.28125,
          -13.71875,
          1.28125,
          -8.71875,
          2.28125,
          -1.71875,
          13.28125,
          -2.71875,
          -13.71875,
          -7.71875,
          -9.71875,
          -0.71875,
          -12.71875,
          9.28125,
          0,
          0.28125,
          11.28125,
          12.78125,
          4.28125,
          -7.53125,
          0,
          -5.71875,
          -11.71875,
          -4.71875,
          14.28125,
          7.53125,
          3.28125,
          7.28125,
          -7.53125,
          7.53125,
          7.53125,
          -7.53125,
          0,
          -7.53125,
          7.53125,
          -10.84375,
          3.40625,
          -4.21875,
          11.65625,
          3.40625,
          -7.53125,
          11.65625,
          -10.84375,
          3.40625,
          11.65625,
          -4.21875,
          -10.84375,
          3.40625,
          11.65625,
          -4.21875,
          0.78125,
          9.78125,
          13.53125,
          -12.46875,
          -9.21875,
          9.78125,
          -4.21875,
          6.03125,
          -10.84375,
          13.53125,
          3.40625,
          -4.21875,
          0.78125,
          9.78125,
          3.40625,
          13.53125,
          -7.53125,
          11.65625,
          -12.46875,
          -9.21875,
          6.03125,
          -5.46875,
          0.78125,
          -2.96875,
          -9.21875,
          9.78125,
          13.53125,
          6.03125,
          -2.96875,
          -5.46875,
          -12.46875,
          8.78125,
          -10.21875,
          10.78125,
          13.53125,
          -6.21875,
          -3.71875,
          -2.21875,
          -4.71875,
          -12.46875,
          -8.21875,
          4.78125,
          -0.21875,
          1.78125,
          7.28125
         ],
         "y": [
          18,
          18,
          18,
          18,
          18,
          18,
          18,
          18,
          18,
          18,
          18,
          18,
          16,
          18,
          16,
          18,
          18,
          18,
          16,
          16,
          16,
          16,
          16,
          16,
          16,
          19,
          16,
          16,
          19,
          19,
          19,
          19,
          19,
          19,
          19,
          19,
          19,
          19,
          19,
          19,
          19,
          19,
          19,
          20,
          20,
          20,
          20,
          20,
          20,
          20,
          20,
          20,
          20,
          20,
          20,
          20,
          20,
          20,
          20,
          20,
          20,
          20,
          20,
          20,
          22,
          22,
          22,
          22,
          22,
          22,
          22,
          22,
          22,
          22,
          22,
          22,
          22,
          22,
          22,
          22,
          22,
          21,
          21,
          21,
          22,
          21,
          21,
          22,
          21,
          22,
          22,
          21,
          22,
          22,
          22,
          22,
          22,
          21,
          22,
          21,
          22,
          21,
          21,
          21,
          21,
          21,
          21,
          21,
          0,
          21,
          21,
          21,
          21,
          3,
          2,
          21,
          21,
          21,
          21,
          3,
          21,
          21,
          4,
          4,
          5,
          5,
          1,
          6,
          6,
          9,
          9,
          9,
          9,
          8,
          8,
          8,
          11,
          11,
          11,
          11,
          10,
          10,
          10,
          10,
          13,
          13,
          13,
          13,
          13,
          12,
          13,
          13,
          12,
          12,
          12,
          12,
          14,
          14,
          7,
          14,
          7,
          7,
          14,
          14,
          14,
          14,
          15,
          14,
          15,
          15,
          15,
          15,
          15,
          15,
          15,
          17,
          17,
          17,
          17,
          17,
          17,
          17,
          17,
          17,
          17,
          17,
          17,
          17,
          17
         ]
        }
       ],
       "layout": {
        "hovermode": "closest",
        "showlegend": true,
        "template": {
         "data": {
          "bar": [
           {
            "error_x": {
             "color": "#2a3f5f"
            },
            "error_y": {
             "color": "#2a3f5f"
            },
            "marker": {
             "line": {
              "color": "#E5ECF6",
              "width": 0.5
             },
             "pattern": {
              "fillmode": "overlay",
              "size": 10,
              "solidity": 0.2
             }
            },
            "type": "bar"
           }
          ],
          "barpolar": [
           {
            "marker": {
             "line": {
              "color": "#E5ECF6",
              "width": 0.5
             },
             "pattern": {
              "fillmode": "overlay",
              "size": 10,
              "solidity": 0.2
             }
            },
            "type": "barpolar"
           }
          ],
          "carpet": [
           {
            "aaxis": {
             "endlinecolor": "#2a3f5f",
             "gridcolor": "white",
             "linecolor": "white",
             "minorgridcolor": "white",
             "startlinecolor": "#2a3f5f"
            },
            "baxis": {
             "endlinecolor": "#2a3f5f",
             "gridcolor": "white",
             "linecolor": "white",
             "minorgridcolor": "white",
             "startlinecolor": "#2a3f5f"
            },
            "type": "carpet"
           }
          ],
          "choropleth": [
           {
            "colorbar": {
             "outlinewidth": 0,
             "ticks": ""
            },
            "type": "choropleth"
           }
          ],
          "contour": [
           {
            "colorbar": {
             "outlinewidth": 0,
             "ticks": ""
            },
            "colorscale": [
             [
              0,
              "#0d0887"
             ],
             [
              0.1111111111111111,
              "#46039f"
             ],
             [
              0.2222222222222222,
              "#7201a8"
             ],
             [
              0.3333333333333333,
              "#9c179e"
             ],
             [
              0.4444444444444444,
              "#bd3786"
             ],
             [
              0.5555555555555556,
              "#d8576b"
             ],
             [
              0.6666666666666666,
              "#ed7953"
             ],
             [
              0.7777777777777778,
              "#fb9f3a"
             ],
             [
              0.8888888888888888,
              "#fdca26"
             ],
             [
              1,
              "#f0f921"
             ]
            ],
            "type": "contour"
           }
          ],
          "contourcarpet": [
           {
            "colorbar": {
             "outlinewidth": 0,
             "ticks": ""
            },
            "type": "contourcarpet"
           }
          ],
          "heatmap": [
           {
            "colorbar": {
             "outlinewidth": 0,
             "ticks": ""
            },
            "colorscale": [
             [
              0,
              "#0d0887"
             ],
             [
              0.1111111111111111,
              "#46039f"
             ],
             [
              0.2222222222222222,
              "#7201a8"
             ],
             [
              0.3333333333333333,
              "#9c179e"
             ],
             [
              0.4444444444444444,
              "#bd3786"
             ],
             [
              0.5555555555555556,
              "#d8576b"
             ],
             [
              0.6666666666666666,
              "#ed7953"
             ],
             [
              0.7777777777777778,
              "#fb9f3a"
             ],
             [
              0.8888888888888888,
              "#fdca26"
             ],
             [
              1,
              "#f0f921"
             ]
            ],
            "type": "heatmap"
           }
          ],
          "histogram": [
           {
            "marker": {
             "pattern": {
              "fillmode": "overlay",
              "size": 10,
              "solidity": 0.2
             }
            },
            "type": "histogram"
           }
          ],
          "histogram2d": [
           {
            "colorbar": {
             "outlinewidth": 0,
             "ticks": ""
            },
            "colorscale": [
             [
              0,
              "#0d0887"
             ],
             [
              0.1111111111111111,
              "#46039f"
             ],
             [
              0.2222222222222222,
              "#7201a8"
             ],
             [
              0.3333333333333333,
              "#9c179e"
             ],
             [
              0.4444444444444444,
              "#bd3786"
             ],
             [
              0.5555555555555556,
              "#d8576b"
             ],
             [
              0.6666666666666666,
              "#ed7953"
             ],
             [
              0.7777777777777778,
              "#fb9f3a"
             ],
             [
              0.8888888888888888,
              "#fdca26"
             ],
             [
              1,
              "#f0f921"
             ]
            ],
            "type": "histogram2d"
           }
          ],
          "histogram2dcontour": [
           {
            "colorbar": {
             "outlinewidth": 0,
             "ticks": ""
            },
            "colorscale": [
             [
              0,
              "#0d0887"
             ],
             [
              0.1111111111111111,
              "#46039f"
             ],
             [
              0.2222222222222222,
              "#7201a8"
             ],
             [
              0.3333333333333333,
              "#9c179e"
             ],
             [
              0.4444444444444444,
              "#bd3786"
             ],
             [
              0.5555555555555556,
              "#d8576b"
             ],
             [
              0.6666666666666666,
              "#ed7953"
             ],
             [
              0.7777777777777778,
              "#fb9f3a"
             ],
             [
              0.8888888888888888,
              "#fdca26"
             ],
             [
              1,
              "#f0f921"
             ]
            ],
            "type": "histogram2dcontour"
           }
          ],
          "mesh3d": [
           {
            "colorbar": {
             "outlinewidth": 0,
             "ticks": ""
            },
            "type": "mesh3d"
           }
          ],
          "parcoords": [
           {
            "line": {
             "colorbar": {
              "outlinewidth": 0,
              "ticks": ""
             }
            },
            "type": "parcoords"
           }
          ],
          "pie": [
           {
            "automargin": true,
            "type": "pie"
           }
          ],
          "scatter": [
           {
            "fillpattern": {
             "fillmode": "overlay",
             "size": 10,
             "solidity": 0.2
            },
            "type": "scatter"
           }
          ],
          "scatter3d": [
           {
            "line": {
             "colorbar": {
              "outlinewidth": 0,
              "ticks": ""
             }
            },
            "marker": {
             "colorbar": {
              "outlinewidth": 0,
              "ticks": ""
             }
            },
            "type": "scatter3d"
           }
          ],
          "scattercarpet": [
           {
            "marker": {
             "colorbar": {
              "outlinewidth": 0,
              "ticks": ""
             }
            },
            "type": "scattercarpet"
           }
          ],
          "scattergeo": [
           {
            "marker": {
             "colorbar": {
              "outlinewidth": 0,
              "ticks": ""
             }
            },
            "type": "scattergeo"
           }
          ],
          "scattergl": [
           {
            "marker": {
             "colorbar": {
              "outlinewidth": 0,
              "ticks": ""
             }
            },
            "type": "scattergl"
           }
          ],
          "scattermap": [
           {
            "marker": {
             "colorbar": {
              "outlinewidth": 0,
              "ticks": ""
             }
            },
            "type": "scattermap"
           }
          ],
          "scattermapbox": [
           {
            "marker": {
             "colorbar": {
              "outlinewidth": 0,
              "ticks": ""
             }
            },
            "type": "scattermapbox"
           }
          ],
          "scatterpolar": [
           {
            "marker": {
             "colorbar": {
              "outlinewidth": 0,
              "ticks": ""
             }
            },
            "type": "scatterpolar"
           }
          ],
          "scatterpolargl": [
           {
            "marker": {
             "colorbar": {
              "outlinewidth": 0,
              "ticks": ""
             }
            },
            "type": "scatterpolargl"
           }
          ],
          "scatterternary": [
           {
            "marker": {
             "colorbar": {
              "outlinewidth": 0,
              "ticks": ""
             }
            },
            "type": "scatterternary"
           }
          ],
          "surface": [
           {
            "colorbar": {
             "outlinewidth": 0,
             "ticks": ""
            },
            "colorscale": [
             [
              0,
              "#0d0887"
             ],
             [
              0.1111111111111111,
              "#46039f"
             ],
             [
              0.2222222222222222,
              "#7201a8"
             ],
             [
              0.3333333333333333,
              "#9c179e"
             ],
             [
              0.4444444444444444,
              "#bd3786"
             ],
             [
              0.5555555555555556,
              "#d8576b"
             ],
             [
              0.6666666666666666,
              "#ed7953"
             ],
             [
              0.7777777777777778,
              "#fb9f3a"
             ],
             [
              0.8888888888888888,
              "#fdca26"
             ],
             [
              1,
              "#f0f921"
             ]
            ],
            "type": "surface"
           }
          ],
          "table": [
           {
            "cells": {
             "fill": {
              "color": "#EBF0F8"
             },
             "line": {
              "color": "white"
             }
            },
            "header": {
             "fill": {
              "color": "#C8D4E3"
             },
             "line": {
              "color": "white"
             }
            },
            "type": "table"
           }
          ]
         },
         "layout": {
          "annotationdefaults": {
           "arrowcolor": "#2a3f5f",
           "arrowhead": 0,
           "arrowwidth": 1
          },
          "autotypenumbers": "strict",
          "coloraxis": {
           "colorbar": {
            "outlinewidth": 0,
            "ticks": ""
           }
          },
          "colorscale": {
           "diverging": [
            [
             0,
             "#8e0152"
            ],
            [
             0.1,
             "#c51b7d"
            ],
            [
             0.2,
             "#de77ae"
            ],
            [
             0.3,
             "#f1b6da"
            ],
            [
             0.4,
             "#fde0ef"
            ],
            [
             0.5,
             "#f7f7f7"
            ],
            [
             0.6,
             "#e6f5d0"
            ],
            [
             0.7,
             "#b8e186"
            ],
            [
             0.8,
             "#7fbc41"
            ],
            [
             0.9,
             "#4d9221"
            ],
            [
             1,
             "#276419"
            ]
           ],
           "sequential": [
            [
             0,
             "#0d0887"
            ],
            [
             0.1111111111111111,
             "#46039f"
            ],
            [
             0.2222222222222222,
             "#7201a8"
            ],
            [
             0.3333333333333333,
             "#9c179e"
            ],
            [
             0.4444444444444444,
             "#bd3786"
            ],
            [
             0.5555555555555556,
             "#d8576b"
            ],
            [
             0.6666666666666666,
             "#ed7953"
            ],
            [
             0.7777777777777778,
             "#fb9f3a"
            ],
            [
             0.8888888888888888,
             "#fdca26"
            ],
            [
             1,
             "#f0f921"
            ]
           ],
           "sequentialminus": [
            [
             0,
             "#0d0887"
            ],
            [
             0.1111111111111111,
             "#46039f"
            ],
            [
             0.2222222222222222,
             "#7201a8"
            ],
            [
             0.3333333333333333,
             "#9c179e"
            ],
            [
             0.4444444444444444,
             "#bd3786"
            ],
            [
             0.5555555555555556,
             "#d8576b"
            ],
            [
             0.6666666666666666,
             "#ed7953"
            ],
            [
             0.7777777777777778,
             "#fb9f3a"
            ],
            [
             0.8888888888888888,
             "#fdca26"
            ],
            [
             1,
             "#f0f921"
            ]
           ]
          },
          "colorway": [
           "#636efa",
           "#EF553B",
           "#00cc96",
           "#ab63fa",
           "#FFA15A",
           "#19d3f3",
           "#FF6692",
           "#B6E880",
           "#FF97FF",
           "#FECB52"
          ],
          "font": {
           "color": "#2a3f5f"
          },
          "geo": {
           "bgcolor": "white",
           "lakecolor": "white",
           "landcolor": "#E5ECF6",
           "showlakes": true,
           "showland": true,
           "subunitcolor": "white"
          },
          "hoverlabel": {
           "align": "left"
          },
          "hovermode": "closest",
          "mapbox": {
           "style": "light"
          },
          "paper_bgcolor": "white",
          "plot_bgcolor": "#E5ECF6",
          "polar": {
           "angularaxis": {
            "gridcolor": "white",
            "linecolor": "white",
            "ticks": ""
           },
           "bgcolor": "#E5ECF6",
           "radialaxis": {
            "gridcolor": "white",
            "linecolor": "white",
            "ticks": ""
           }
          },
          "scene": {
           "xaxis": {
            "backgroundcolor": "#E5ECF6",
            "gridcolor": "white",
            "gridwidth": 2,
            "linecolor": "white",
            "showbackground": true,
            "ticks": "",
            "zerolinecolor": "white"
           },
           "yaxis": {
            "backgroundcolor": "#E5ECF6",
            "gridcolor": "white",
            "gridwidth": 2,
            "linecolor": "white",
            "showbackground": true,
            "ticks": "",
            "zerolinecolor": "white"
           },
           "zaxis": {
            "backgroundcolor": "#E5ECF6",
            "gridcolor": "white",
            "gridwidth": 2,
            "linecolor": "white",
            "showbackground": true,
            "ticks": "",
            "zerolinecolor": "white"
           }
          },
          "shapedefaults": {
           "line": {
            "color": "#2a3f5f"
           }
          },
          "ternary": {
           "aaxis": {
            "gridcolor": "white",
            "linecolor": "white",
            "ticks": ""
           },
           "baxis": {
            "gridcolor": "white",
            "linecolor": "white",
            "ticks": ""
           },
           "bgcolor": "#E5ECF6",
           "caxis": {
            "gridcolor": "white",
            "linecolor": "white",
            "ticks": ""
           }
          },
          "title": {
           "x": 0.05
          },
          "xaxis": {
           "automargin": true,
           "gridcolor": "white",
           "linecolor": "white",
           "ticks": "",
           "title": {
            "standoff": 15
           },
           "zerolinecolor": "white",
           "zerolinewidth": 2
          },
          "yaxis": {
           "automargin": true,
           "gridcolor": "white",
           "linecolor": "white",
           "ticks": "",
           "title": {
            "standoff": 15
           },
           "zerolinecolor": "white",
           "zerolinewidth": 2
          }
         }
        },
        "title": {
         "text": "Cell lineage of ID = 1"
        },
        "xaxis": {
         "showgrid": false,
         "showticklabels": false,
         "zeroline": false
        },
        "yaxis": {
         "autorange": "reversed",
         "showgrid": true,
         "title": {
          "text": "Time (frames)"
         },
         "zeroline": true
        }
       }
      }
     },
     "metadata": {},
     "output_type": "display_data"
    }
   ],
   "source": [
    "lin_ID = lin1.graph[\"lineage_ID\"]\n",
    "lin1.plot(\n",
    "    title=f\"Cell lineage of ID = {lin_ID}\",  # title of the plot\n",
    "    node_colormap_prop=\"AREA\",  # property to use to color the nodes\n",
    "    node_color_scale=\"plotly3\",  # color scale for the node colors\n",
    "    node_hover_props=[\"cell_ID\", \"AREA\"],  # which properties to display\n",
    ")"
   ]
  },
  {
   "cell_type": "markdown",
   "metadata": {},
   "source": [
    "See Pycellin `plot()` documentation for more information on the available customization parameters."
   ]
  },
  {
   "cell_type": "markdown",
   "metadata": {},
   "source": [
    "##### Accessing data in a cell lineage"
   ]
  },
  {
   "cell_type": "markdown",
   "metadata": {},
   "source": [
    "Just as lineages are identified by their `lineage_ID`, cells are identified by their `cell_ID`, a positive integer. Links between cells (edges) are identified by a tuple of their incoming cell ID and their outgoing cell ID, in this order: `(source_cell_ID, target_cell_ID)`.\n",
    "\n",
    "Data can be stored at the cell level, at the link level or at the lineage level depending on the information you want to store. Since lineages are implemented as NetworkX DAGs, you can access any properties (called attributes in NetworkX) like in any other NetworkX graph (cf [NetworkX tutorial](https://networkx.org/documentation/stable/tutorial.html)).\n",
    "\n",
    "For example, if we take the first cell of the lineage above, we can list all the properties associated to the cell (node) as well as their values:"
   ]
  },
  {
   "cell_type": "code",
   "execution_count": 22,
   "metadata": {},
   "outputs": [
    {
     "data": {
      "text/plain": [
       "{'STD_INTENSITY_CH1': 0.7303613935746522,\n",
       " 'SOLIDITY': 0.8801470588235286,\n",
       " 'STD_INTENSITY_CH2': 5.07251276088164,\n",
       " 'QUALITY': 605.0,\n",
       " 'POSITION_T': 0.0,\n",
       " 'TOTAL_INTENSITY_CH2': 67609.0,\n",
       " 'TOTAL_INTENSITY_CH1': 2920.0,\n",
       " 'CONTRAST_CH1': -0.9910059194034286,\n",
       " 'ELLIPSE_MINOR': 0.33679824175103523,\n",
       " 'ELLIPSE_THETA': -0.38208393640136984,\n",
       " 'ELLIPSE_Y0': -0.016039040053655834,\n",
       " 'CIRCULARITY': 0.3340965639336479,\n",
       " 'AREA': 2.596806177744612,\n",
       " 'ELLIPSE_MAJOR': 2.448401561458347,\n",
       " 'CONTRAST_CH2': -0.9914983350220509,\n",
       " 'MEAN_INTENSITY_CH1': 4.891122278056951,\n",
       " 'MAX_INTENSITY_CH2': 130.0,\n",
       " 'MEAN_INTENSITY_CH2': 113.24790619765494,\n",
       " 'MAX_INTENSITY_CH1': 5.0,\n",
       " 'MIN_INTENSITY_CH2': 100.0,\n",
       " 'MIN_INTENSITY_CH1': 0.0,\n",
       " 'SNR_CH1': -1475.7751085884477,\n",
       " 'ELLIPSE_X0': 0.03782613542727112,\n",
       " 'SHAPE_INDEX': 6.132942987585787,\n",
       " 'SNR_CH2': -5207.449068381545,\n",
       " 'MEDIAN_INTENSITY_CH1': 5.0,\n",
       " 'VISIBILITY': 1,\n",
       " 'RADIUS': 0.9091694445367442,\n",
       " 'MEDIAN_INTENSITY_CH2': 113.0,\n",
       " 'ELLIPSE_ASPECTRATIO': 7.269638786500052,\n",
       " 'PERIMETER': 9.882997722744939,\n",
       " 'ROI_N_POINTS': '39',\n",
       " 'ROI_coords': [(-1.6318738637019692, 1.0442532618442293),\n",
       "  (-0.9731738227242399, 0.6490332372575907),\n",
       "  (-0.8414338145286937, 0.5831632331598193),\n",
       "  (-0.5779537981376013, 0.5172932290620444),\n",
       "  (-0.4462137899420551, 0.5172932290620444),\n",
       "  (-0.38034378584428197, 0.38555322086649824),\n",
       "  (-0.24860377764873753, 0.38555322086649824),\n",
       "  (-0.11686376945319132, 0.38555322086649824),\n",
       "  (0.08074624284012799, 0.2538132126709556),\n",
       "  (0.2124862510356742, 0.1879432085731807),\n",
       "  (0.3442262592312204, 0.1879432085731807),\n",
       "  (0.47596626742676484, 0.12207320447540937),\n",
       "  (0.607706275622311, 0.12207320447540937),\n",
       "  (0.8053162879156304, -0.00966680372013684),\n",
       "  (0.9370562961111766, -0.07553680781791172),\n",
       "  (1.5298863329911327, -0.27314682011122926),\n",
       "  (1.661626341186679, -0.27314682011122926),\n",
       "  (2.122716369871089, -0.5366268365023217),\n",
       "  (2.188586373968862, -0.6683668446978679),\n",
       "  (1.9909763616755427, -0.8659768569911854),\n",
       "  (1.9251063575777714, -0.9318468610889603),\n",
       "  (1.5298863329911327, -0.8659768569911854),\n",
       "  (1.3981463247955865, -0.8659768569911854),\n",
       "  (1.0029263002089497, -0.7342368487956392),\n",
       "  (0.8711862920134035, -0.7342368487956392),\n",
       "  (0.8053162879156304, -0.6683668446978679),\n",
       "  (0.3442262592312204, -0.4707568324045468),\n",
       "  (0.2124862510356742, -0.4707568324045468),\n",
       "  (-0.18273377355096443, -0.27314682011122926),\n",
       "  (-0.24860377764873753, -0.20727681601345793),\n",
       "  (-0.38034378584428197, -0.20727681601345793),\n",
       "  (-0.9731738227242399, 0.05620320037763449),\n",
       "  (-1.1049138309197861, 0.05620320037763449),\n",
       "  (-2.027093888288606, 0.5831632331598193),\n",
       "  (-2.092963892386379, 0.7149032413553655),\n",
       "  (-2.092963892386379, 0.8466432495509117),\n",
       "  (-2.027093888288606, 0.9125132536486831),\n",
       "  (-1.961223884190833, 1.0442532618442293),\n",
       "  (-1.6977438677997423, 1.0442532618442293)],\n",
       " 'lineage_ID': 1,\n",
       " 'cell_ID': 8985,\n",
       " 'frame': 0,\n",
       " 'cell_name': 'ID8985',\n",
       " 'cell_x': 11.084219451732388,\n",
       " 'cell_y': 21.516223141643007,\n",
       " 'cell_z': 0.0}"
      ]
     },
     "execution_count": 22,
     "metadata": {},
     "output_type": "execute_result"
    }
   ],
   "source": [
    "cell_ID = 8985\n",
    "lin1.nodes[8985]"
   ]
  },
  {
   "cell_type": "markdown",
   "metadata": {},
   "source": [
    "To get a specific property value:"
   ]
  },
  {
   "cell_type": "code",
   "execution_count": 23,
   "metadata": {},
   "outputs": [
    {
     "data": {
      "text/plain": [
       "2.596806177744612"
      ]
     },
     "execution_count": 23,
     "metadata": {},
     "output_type": "execute_result"
    }
   ],
   "source": [
    "lin1.nodes[8985][\"AREA\"]"
   ]
  },
  {
   "cell_type": "markdown",
   "metadata": {},
   "source": [
    "This is the same for links (edges):"
   ]
  },
  {
   "cell_type": "code",
   "execution_count": 24,
   "metadata": {},
   "outputs": [
    {
     "data": {
      "text/plain": [
       "{'SPOT_SOURCE_ID': 8985,\n",
       " 'SPOT_TARGET_ID': 9015,\n",
       " 'LINK_COST': 0.5539550418894829,\n",
       " 'DIRECTIONAL_CHANGE_RATE': nan,\n",
       " 'SPEED': 0.05992454257732503,\n",
       " 'DISPLACEMENT': 0.2996227128866252,\n",
       " 'EDGE_TIME': 2.5,\n",
       " 'link_x': 11.133820855399392,\n",
       " 'link_y': 21.374861395496293,\n",
       " 'link_z': 0.0}"
      ]
     },
     "execution_count": 24,
     "metadata": {},
     "output_type": "execute_result"
    }
   ],
   "source": [
    "lin1.edges[8985, 9015]  # link between cells 8985 and 9015"
   ]
  },
  {
   "cell_type": "code",
   "execution_count": 25,
   "metadata": {},
   "outputs": [
    {
     "data": {
      "text/plain": [
       "0.2996227128866252"
      ]
     },
     "execution_count": 25,
     "metadata": {},
     "output_type": "execute_result"
    }
   ],
   "source": [
    "lin1.edges[8985, 9015][\"DISPLACEMENT\"]  # property loaded from TrackMate"
   ]
  },
  {
   "cell_type": "markdown",
   "metadata": {},
   "source": [
    "And for lineages:"
   ]
  },
  {
   "cell_type": "code",
   "execution_count": 26,
   "metadata": {},
   "outputs": [
    {
     "data": {
      "text/plain": [
       "{'TRACK_INDEX': 1,\n",
       " 'DIVISION_TIME_MEAN': 15.37037037037037,\n",
       " 'DIVISION_TIME_STD': 7.195875678513824,\n",
       " 'NUMBER_SPOTS': 189,\n",
       " 'NUMBER_GAPS': 0,\n",
       " 'NUMBER_SPLITS': 28,\n",
       " 'NUMBER_MERGES': 0,\n",
       " 'NUMBER_COMPLEX': 0,\n",
       " 'LONGEST_GAP': 0,\n",
       " 'TRACK_DURATION': 110.0,\n",
       " 'TRACK_START': 0.0,\n",
       " 'TRACK_STOP': 110.0,\n",
       " 'TRACK_DISPLACEMENT': 10.24707606539736,\n",
       " 'TRACK_MEAN_SPEED': 0.24165350122434,\n",
       " 'TRACK_MAX_SPEED': 1.5301701671007144,\n",
       " 'TRACK_MIN_SPEED': 0.01049273749583099,\n",
       " 'TRACK_MEDIAN_SPEED': 0.16348567401042208,\n",
       " 'TRACK_STD_SPEED': 0.2204287856906754,\n",
       " 'TRACK_MEAN_QUALITY': 817.8201058201058,\n",
       " 'TOTAL_DISTANCE_TRAVELED': 227.15429115087966,\n",
       " 'MAX_DISTANCE_TRAVELED': 24.429157080704854,\n",
       " 'CONFINEMENT_RATIO': 0.04511064269787922,\n",
       " 'MEAN_STRAIGHT_LINE_SPEED': 0.09315523695815782,\n",
       " 'LINEARITY_OF_FORWARD_PROGRESSION': 0.38549094669096795,\n",
       " 'MEAN_DIRECTIONAL_CHANGE_RATE': 0.23933007611391033,\n",
       " 'lineage_ID': 1,\n",
       " 'lineage_name': 'Track_1',\n",
       " 'lineage_x': 11.299502880687372,\n",
       " 'lineage_y': 20.138498761300276,\n",
       " 'lineage_z': 0.0,\n",
       " 'FilteredTrack': True}"
      ]
     },
     "execution_count": 26,
     "metadata": {},
     "output_type": "execute_result"
    }
   ],
   "source": [
    "lin1.graph"
   ]
  },
  {
   "cell_type": "code",
   "execution_count": 27,
   "metadata": {},
   "outputs": [
    {
     "data": {
      "text/plain": [
       "189"
      ]
     },
     "execution_count": 27,
     "metadata": {},
     "output_type": "execute_result"
    }
   ],
   "source": [
    "lin1.graph[\"NUMBER_SPOTS\"]  # number of cells in the lineage, from TrackMate"
   ]
  },
  {
   "cell_type": "markdown",
   "metadata": {},
   "source": [
    "Aside from accessing data stored in lineages, Pycellin allows you to retrieve noteworthy lineage elements.\n",
    "\n",
    "In our lineage plotted above, we can easily identify the cells that are dividing with `get_divisions()`:"
   ]
  },
  {
   "cell_type": "code",
   "execution_count": 28,
   "metadata": {},
   "outputs": [
    {
     "name": "stdout",
     "output_type": "stream",
     "text": [
      "[9249, 9267, 9269, 9276, 9291, 9304, 9314, 9316, 9331, 9348, 9359, 9367, 9383, 9433, 9447, 9501, 8992, 9022, 9045, 9057, 9098, 9105, 9109, 9157, 9158, 9165, 9183, 9202]\n"
     ]
    }
   ],
   "source": [
    "print(lin1.get_divisions())"
   ]
  },
  {
   "cell_type": "markdown",
   "metadata": {},
   "source": [
    "We can similarly identify the first cell of the lineage (root of the graph) and the last cells (leaves of the graph):"
   ]
  },
  {
   "cell_type": "code",
   "execution_count": 29,
   "metadata": {},
   "outputs": [
    {
     "name": "stdout",
     "output_type": "stream",
     "text": [
      "First cell: 8985\n",
      "Last cells: [9386, 9387, 9391, 9393, 9396, 9399, 9400, 9401, 9403, 9404, 9411, 9421, 9422, 9423, 9425, 9426, 9427, 9442, 9452, 9454, 9455, 9458, 9459, 9466, 9468, 9472, 9474, 9478, 9503]\n"
     ]
    }
   ],
   "source": [
    "print(f\"First cell: {lin1.get_root()}\")\n",
    "print(f\"Last cells: {lin1.get_leaves()}\")"
   ]
  },
  {
   "cell_type": "markdown",
   "metadata": {},
   "source": [
    "We can list all the ancestor cells of a specific cell, in chronological order (from the root of the lineage to the cell of interest):"
   ]
  },
  {
   "cell_type": "code",
   "execution_count": 30,
   "metadata": {},
   "outputs": [
    {
     "name": "stdout",
     "output_type": "stream",
     "text": [
      "[8985, 9015, 8992, 8991, 9000, 9011, 9021, 9130, 9045, 9030, 9066, 9054, 9105, 9092, 9139, 9171, 9278]\n"
     ]
    }
   ],
   "source": [
    "cell_ID = 9197\n",
    "print(lin1.get_ancestors(cell_ID))"
   ]
  },
  {
   "cell_type": "markdown",
   "metadata": {},
   "source": [
    "Or the descendants, unordered:"
   ]
  },
  {
   "cell_type": "code",
   "execution_count": 31,
   "metadata": {},
   "outputs": [
    {
     "name": "stdout",
     "output_type": "stream",
     "text": [
      "[9504, 9314, 9411, 9484, 9422, 9359, 9231, 9490, 9370, 9468]\n"
     ]
    }
   ],
   "source": [
    "print(lin1.get_descendants(cell_ID))"
   ]
  },
  {
   "cell_type": "markdown",
   "metadata": {},
   "source": [
    "We can also identify sister cells, i.e. cells that are on the same frame and share the same parent cell:"
   ]
  },
  {
   "cell_type": "code",
   "execution_count": 32,
   "metadata": {},
   "outputs": [
    {
     "data": {
      "text/plain": [
       "[8997]"
      ]
     },
     "execution_count": 32,
     "metadata": {},
     "output_type": "execute_result"
    }
   ],
   "source": [
    "cell_ID = 8991\n",
    "lin1.get_sister_cells(cell_ID)"
   ]
  },
  {
   "cell_type": "markdown",
   "metadata": {},
   "source": [
    "Or all the cells in a cell cycle, from the cell just after division to the next division, in chronological order:"
   ]
  },
  {
   "cell_type": "code",
   "execution_count": 33,
   "metadata": {},
   "outputs": [
    {
     "data": {
      "text/plain": [
       "[8991, 9000, 9011, 9021, 9130, 9045]"
      ]
     },
     "execution_count": 33,
     "metadata": {},
     "output_type": "execute_result"
    }
   ],
   "source": [
    "lin1.get_cell_cycle(cell_ID)"
   ]
  },
  {
   "cell_type": "markdown",
   "metadata": {},
   "source": [
    "Similarly, we can list all cell cycles in a lineage with `get_cell_cycles()`:"
   ]
  },
  {
   "cell_type": "code",
   "execution_count": 34,
   "metadata": {},
   "outputs": [
    {
     "data": {
      "text/plain": [
       "[[9079, 9117, 9153, 9249],\n",
       " [9100, 9150, 9164, 9267],\n",
       " [9152, 9166, 9269],\n",
       " [9245, 9276],\n",
       " [9260, 9179, 9217, 9291],\n",
       " [9280, 9189, 9257, 9304],\n",
       " [9092, 9139, 9171, 9278, 9197, 9231, 9314],\n",
       " [9273, 9198, 9232, 9316],\n",
       " [9253, 9177, 9237, 9288, 9331],\n",
       " [9186, 9251, 9301, 9348],\n",
       " [9359],\n",
       " [9204, 9236, 9311, 9367],\n",
       " [9261, 9180, 9239, 9295, 9383],\n",
       " [9205, 9238, 9285, 9323, 9433],\n",
       " [9248, 9300, 9337, 9447],\n",
       " [9241, 9298, 9346, 9501],\n",
       " [8985, 9015, 8992],\n",
       " [8997, 9002, 9009, 9022],\n",
       " [8991, 9000, 9011, 9021, 9130, 9045],\n",
       " [9132, 9046, 9034, 9069, 9057],\n",
       " [9033, 9070, 9058, 9110, 9098],\n",
       " [9030, 9066, 9054, 9105],\n",
       " [9128, 9044, 9032, 9068, 9056, 9109],\n",
       " [9094, 9141, 9157],\n",
       " [9097, 9085, 9125, 9158],\n",
       " [9154, 9165],\n",
       " [9107, 9087, 9129, 9161, 9264, 9183],\n",
       " [9202],\n",
       " [9430, 9386],\n",
       " [9333, 9435, 9387],\n",
       " [9443, 9391],\n",
       " [9393],\n",
       " [9453, 9396],\n",
       " [9352, 9473, 9399],\n",
       " [9353, 9477, 9400],\n",
       " [9349, 9479, 9401],\n",
       " [9403],\n",
       " [9361, 9486, 9404],\n",
       " [9490, 9411],\n",
       " [9369, 9502, 9421],\n",
       " [9370, 9504, 9422],\n",
       " [9242, 9287, 9372, 9505, 9423],\n",
       " [9209, 9247, 9296, 9381, 9506, 9425],\n",
       " [9192, 9254, 9307, 9376, 9507, 9426],\n",
       " [9341, 9508, 9427],\n",
       " [9489, 9442],\n",
       " [9496, 9452],\n",
       " [9499, 9454],\n",
       " [9455],\n",
       " [9360, 9487, 9458],\n",
       " [9270, 9188, 9256, 9303, 9347, 9456, 9459],\n",
       " [9497, 9466],\n",
       " [9484, 9468],\n",
       " [9472],\n",
       " [9474],\n",
       " [9478],\n",
       " [9503]]"
      ]
     },
     "execution_count": 34,
     "metadata": {},
     "output_type": "execute_result"
    }
   ],
   "source": [
    "lin1.get_cell_cycles()"
   ]
  },
  {
   "cell_type": "markdown",
   "metadata": {},
   "source": [
    "Finally, we can find if a cell is a root, a leaf or a division with `is_root()`, `is_leaf()` or `is_division()` respectively:"
   ]
  },
  {
   "cell_type": "code",
   "execution_count": 35,
   "metadata": {},
   "outputs": [
    {
     "name": "stdout",
     "output_type": "stream",
     "text": [
      "For cell 9105:\n",
      "  is root? False\n",
      "  is leaf? False\n",
      "  is division? True\n",
      "\n",
      "For cell 9401:\n",
      "  is root? False\n",
      "  is leaf? True\n",
      "  is division? False\n"
     ]
    }
   ],
   "source": [
    "cell_ID = 9105\n",
    "print(f\"For cell {cell_ID}:\")\n",
    "print(f\"  is root? {lin1.is_root(cell_ID)}\")\n",
    "print(f\"  is leaf? {lin1.is_leaf(cell_ID)}\")\n",
    "print(f\"  is division? {lin1.is_division(cell_ID)}\")\n",
    "print()\n",
    "\n",
    "cell_ID = 9401\n",
    "print(f\"For cell {cell_ID}:\")\n",
    "print(f\"  is root? {lin1.is_root(cell_ID)}\")\n",
    "print(f\"  is leaf? {lin1.is_leaf(cell_ID)}\")\n",
    "print(f\"  is division? {lin1.is_division(cell_ID)}\")"
   ]
  },
  {
   "cell_type": "markdown",
   "metadata": {},
   "source": [
    "#### Cell cycle lineages"
   ]
  },
  {
   "cell_type": "markdown",
   "metadata": {},
   "source": [
    "Cell cycle lineages, or cycle lineages for short, are like cell lineages except that a node models a whole cell cycle instead of a cell at a specific time point.\n",
    "\n",
    "When creating a model or loading data for the first time, there is no cycle lineage data. You don't always need it: it depends on the goals of your exploration / analysis.  \n",
    "If you need it, you can compute and add it with `add_cycle_data()`:\n"
   ]
  },
  {
   "cell_type": "code",
   "execution_count": 36,
   "metadata": {},
   "outputs": [],
   "source": [
    "tm_model.add_cycle_data()"
   ]
  },
  {
   "cell_type": "markdown",
   "metadata": {},
   "source": [
    "Similar to cell lineages, all cycle lineages are stored in `cycle_data`, a dictionary where keys are the IDs of the lineages, and values the lineages themselves (instances of the CycleLineage class):"
   ]
  },
  {
   "cell_type": "code",
   "execution_count": 37,
   "metadata": {},
   "outputs": [
    {
     "data": {
      "text/plain": [
       "{0: <pycellin.classes.lineage.CycleLineage at 0x76a6eeea1ad0>,\n",
       " 1: <pycellin.classes.lineage.CycleLineage at 0x76a6eee8bc10>,\n",
       " 2: <pycellin.classes.lineage.CycleLineage at 0x76a6eef3b490>}"
      ]
     },
     "execution_count": 37,
     "metadata": {},
     "output_type": "execute_result"
    }
   ],
   "source": [
    "# The dict of all cycle lineages.\n",
    "tm_model.data.cycle_data"
   ]
  },
  {
   "cell_type": "markdown",
   "metadata": {},
   "source": [
    "It is also possible to directly get a list of the cycle lineages:"
   ]
  },
  {
   "cell_type": "code",
   "execution_count": 38,
   "metadata": {},
   "outputs": [
    {
     "name": "stdout",
     "output_type": "stream",
     "text": [
      "CycleLineage of ID 0 with 37 cell cycles and 36 links.\n",
      "CycleLineage of ID 1 with 57 cell cycles and 56 links.\n",
      "CycleLineage of ID 2 with 51 cell cycles and 50 links.\n"
     ]
    }
   ],
   "source": [
    "cycle_lins = tm_model.get_cycle_lineages()\n",
    "for lin in cycle_lins:\n",
    "    print(lin)"
   ]
  },
  {
   "cell_type": "markdown",
   "metadata": {},
   "source": [
    "To get a specific cycle lineage, identified by its `lineage_ID`:"
   ]
  },
  {
   "cell_type": "code",
   "execution_count": 39,
   "metadata": {},
   "outputs": [
    {
     "name": "stdout",
     "output_type": "stream",
     "text": [
      "CycleLineage of ID 1 with 57 cell cycles and 56 links.\n",
      "CycleLineage of ID 2 with 51 cell cycles and 50 links.\n"
     ]
    }
   ],
   "source": [
    "# Via the dictionary of cycle lineages.\n",
    "clin1 = tm_model.data.cycle_data[1]  # lineage_ID is 1\n",
    "print(clin1)\n",
    "\n",
    "# Via the method get_cycle_lineage_from_ID.\n",
    "clin2 = tm_model.get_cycle_lineage_from_ID(2)  # lineage_ID is 2\n",
    "print(clin2)"
   ]
  },
  {
   "cell_type": "markdown",
   "metadata": {},
   "source": [
    "Cell lineages and cycle lineages share their `lineage_ID`. Thanks to that, it is easier to work with both cell and cycle lineages in parallel. A cell lineage and a cycle lineage with the same ID are just 2 different views of the same underlying lineage."
   ]
  },
  {
   "cell_type": "code",
   "execution_count": 40,
   "metadata": {},
   "outputs": [
    {
     "name": "stdout",
     "output_type": "stream",
     "text": [
      "Lineage of ID 0 is made of 152 cells and has 37 cell cycles.\n"
     ]
    }
   ],
   "source": [
    "lin_ID = 0\n",
    "lin0 = tm_model.data.cell_data[lin_ID]\n",
    "clin0 = tm_model.data.cycle_data[lin_ID]\n",
    "print(f\"Lineage of ID {lin_ID} is made of {len(lin0)} cells and has {len(clin0)} cell cycles.\")"
   ]
  },
  {
   "cell_type": "markdown",
   "metadata": {},
   "source": [
    "Cycle lineages are view only: they cannot be modified. This is because cycle data must stay mapped onto cell data to ensure data consistency."
   ]
  },
  {
   "cell_type": "markdown",
   "metadata": {},
   "source": [
    "##### Plotting a cycle lineage"
   ]
  },
  {
   "cell_type": "markdown",
   "metadata": {},
   "source": [
    "Cycle lineages can be plotted like cell lineages. However, while time still flows from top to bottom in the plot, it doesn't flow homogeneously between the different branches of the graph since cell cycles do not have the same length. Consequently, the y-axis represents the level of the cell cycle (i.e. how many cell cycles before the current cycle) instead of time."
   ]
  },
  {
   "cell_type": "code",
   "execution_count": 41,
   "metadata": {},
   "outputs": [
    {
     "data": {
      "application/vnd.plotly.v1+json": {
       "config": {
        "plotlyServerURL": "https://plot.ly"
       },
       "data": [
        {
         "mode": "lines",
         "name": "Edges",
         "text": [],
         "type": "scatter",
         "x": [
          -4.25,
          -5.25,
          null,
          -4.25,
          -3.25,
          null,
          -0.25,
          -0.75,
          null,
          -0.25,
          0.25,
          null,
          2.25,
          1.75,
          null,
          2.25,
          2.75,
          null,
          -1.75,
          -1.25,
          null,
          -1.75,
          -2.25,
          null,
          7.75,
          8.25,
          null,
          7.75,
          7.25,
          null,
          3.75,
          4.25,
          null,
          3.75,
          3.25,
          null,
          6.25,
          6.75,
          null,
          6.25,
          5.75,
          null,
          9.75,
          9.25,
          null,
          9.75,
          10.25,
          null,
          -11.25,
          -11.75,
          null,
          -11.25,
          -10.75,
          null,
          1.75,
          1.25,
          null,
          1.75,
          2.25,
          null,
          5.75,
          6.25,
          null,
          5.75,
          5.25,
          null,
          -5.25,
          -4.75,
          null,
          -5.25,
          -5.75,
          null,
          -9.25,
          -8.75,
          null,
          -9.25,
          -9.75,
          null,
          -3.25,
          -3.75,
          null,
          -3.25,
          -2.75,
          null,
          0.25,
          0.75,
          null,
          0.25,
          -0.25,
          null,
          -7.25,
          -7.75,
          null,
          -7.25,
          -6.75,
          null,
          0,
          5.375,
          null,
          0,
          -5.375,
          null,
          -5.375,
          -8.5,
          null,
          -5.375,
          -2.25,
          null,
          5.375,
          3.25,
          null,
          5.375,
          7.5,
          null,
          -8.5,
          -6.75,
          null,
          -8.5,
          -10.25,
          null,
          3.25,
          2.25,
          null,
          3.25,
          4.25,
          null,
          7.5,
          6.25,
          null,
          7.5,
          8.75,
          null,
          -2.25,
          -4.25,
          null,
          -2.25,
          -0.25,
          null,
          8.75,
          7.75,
          null,
          8.75,
          9.75,
          null,
          -10.25,
          -9.25,
          null,
          -10.25,
          -11.25,
          null,
          4.25,
          3.75,
          null,
          4.25,
          4.75,
          null,
          -6.75,
          -6.25,
          null,
          -6.75,
          -7.25,
          null,
          -0.75,
          -1.75,
          null,
          -0.75,
          0.25,
          null
         ],
         "y": [
          3,
          4,
          null,
          3,
          4,
          null,
          3,
          4,
          null,
          3,
          4,
          null,
          3,
          4,
          null,
          3,
          4,
          null,
          5,
          6,
          null,
          5,
          6,
          null,
          4,
          5,
          null,
          4,
          5,
          null,
          4,
          5,
          null,
          4,
          5,
          null,
          3,
          4,
          null,
          3,
          4,
          null,
          4,
          5,
          null,
          4,
          5,
          null,
          4,
          5,
          null,
          4,
          5,
          null,
          4,
          5,
          null,
          4,
          5,
          null,
          4,
          5,
          null,
          4,
          5,
          null,
          4,
          5,
          null,
          4,
          5,
          null,
          4,
          5,
          null,
          4,
          5,
          null,
          4,
          5,
          null,
          4,
          5,
          null,
          5,
          6,
          null,
          5,
          6,
          null,
          4,
          5,
          null,
          4,
          5,
          null,
          0,
          1,
          null,
          0,
          1,
          null,
          1,
          2,
          null,
          1,
          2,
          null,
          1,
          2,
          null,
          1,
          2,
          null,
          2,
          3,
          null,
          2,
          3,
          null,
          2,
          3,
          null,
          2,
          3,
          null,
          2,
          3,
          null,
          2,
          3,
          null,
          2,
          3,
          null,
          2,
          3,
          null,
          3,
          4,
          null,
          3,
          4,
          null,
          3,
          4,
          null,
          3,
          4,
          null,
          3,
          4,
          null,
          3,
          4,
          null,
          3,
          4,
          null,
          3,
          4,
          null,
          4,
          5,
          null,
          4,
          5,
          null
         ]
        },
        {
         "hoverinfo": "text",
         "hovertemplate": "%{text}",
         "mode": "markers",
         "name": "lineage_ID: 1",
         "text": [
          "cycle_ID: 9249<br>level: 3",
          "cycle_ID: 9267<br>level: 3",
          "cycle_ID: 9269<br>level: 3",
          "cycle_ID: 9276<br>level: 5",
          "cycle_ID: 9291<br>level: 4",
          "cycle_ID: 9304<br>level: 4",
          "cycle_ID: 9314<br>level: 3",
          "cycle_ID: 9316<br>level: 4",
          "cycle_ID: 9331<br>level: 4",
          "cycle_ID: 9348<br>level: 4",
          "cycle_ID: 9359<br>level: 4",
          "cycle_ID: 9367<br>level: 4",
          "cycle_ID: 9383<br>level: 4",
          "cycle_ID: 9433<br>level: 4",
          "cycle_ID: 9447<br>level: 5",
          "cycle_ID: 9501<br>level: 4",
          "cycle_ID: 8992<br>level: 0",
          "cycle_ID: 9022<br>level: 1",
          "cycle_ID: 9045<br>level: 1",
          "cycle_ID: 9057<br>level: 2",
          "cycle_ID: 9098<br>level: 2",
          "cycle_ID: 9105<br>level: 2",
          "cycle_ID: 9109<br>level: 2",
          "cycle_ID: 9157<br>level: 3",
          "cycle_ID: 9158<br>level: 3",
          "cycle_ID: 9165<br>level: 3",
          "cycle_ID: 9183<br>level: 3",
          "cycle_ID: 9202<br>level: 4",
          "cycle_ID: 9386<br>level: 5",
          "cycle_ID: 9387<br>level: 5",
          "cycle_ID: 9391<br>level: 5",
          "cycle_ID: 9393<br>level: 6",
          "cycle_ID: 9396<br>level: 5",
          "cycle_ID: 9399<br>level: 5",
          "cycle_ID: 9400<br>level: 5",
          "cycle_ID: 9401<br>level: 5",
          "cycle_ID: 9403<br>level: 5",
          "cycle_ID: 9404<br>level: 5",
          "cycle_ID: 9411<br>level: 5",
          "cycle_ID: 9421<br>level: 6",
          "cycle_ID: 9422<br>level: 4",
          "cycle_ID: 9423<br>level: 4",
          "cycle_ID: 9425<br>level: 4",
          "cycle_ID: 9426<br>level: 4",
          "cycle_ID: 9427<br>level: 6",
          "cycle_ID: 9442<br>level: 5",
          "cycle_ID: 9452<br>level: 5",
          "cycle_ID: 9454<br>level: 5",
          "cycle_ID: 9455<br>level: 6",
          "cycle_ID: 9458<br>level: 5",
          "cycle_ID: 9459<br>level: 4",
          "cycle_ID: 9466<br>level: 5",
          "cycle_ID: 9468<br>level: 5",
          "cycle_ID: 9472<br>level: 5",
          "cycle_ID: 9474<br>level: 5",
          "cycle_ID: 9478<br>level: 5",
          "cycle_ID: 9503<br>level: 5"
         ],
         "type": "scatter",
         "x": [
          -4.25,
          -0.25,
          2.25,
          -1.75,
          7.75,
          3.75,
          6.25,
          9.75,
          -11.25,
          1.75,
          5.75,
          -5.25,
          -9.25,
          -3.25,
          0.25,
          -7.25,
          0,
          -5.375,
          5.375,
          -8.5,
          3.25,
          7.5,
          -2.25,
          8.75,
          -10.25,
          4.25,
          -6.75,
          -0.75,
          -11.75,
          7.25,
          -9.75,
          -0.25,
          1.25,
          9.25,
          3.25,
          4.25,
          -7.75,
          10.25,
          5.25,
          -2.25,
          6.75,
          -6.25,
          0.25,
          2.75,
          -1.25,
          -5.75,
          -10.75,
          -8.75,
          0.75,
          8.25,
          4.75,
          -4.75,
          6.25,
          -3.75,
          -2.75,
          -6.75,
          2.25
         ],
         "y": [
          3,
          3,
          3,
          5,
          4,
          4,
          3,
          4,
          4,
          4,
          4,
          4,
          4,
          4,
          5,
          4,
          0,
          1,
          1,
          2,
          2,
          2,
          2,
          3,
          3,
          3,
          3,
          4,
          5,
          5,
          5,
          6,
          5,
          5,
          5,
          5,
          5,
          5,
          5,
          6,
          4,
          4,
          4,
          4,
          6,
          5,
          5,
          5,
          6,
          5,
          4,
          5,
          5,
          5,
          5,
          5,
          5
         ]
        }
       ],
       "layout": {
        "hovermode": "closest",
        "showlegend": true,
        "template": {
         "data": {
          "bar": [
           {
            "error_x": {
             "color": "#2a3f5f"
            },
            "error_y": {
             "color": "#2a3f5f"
            },
            "marker": {
             "line": {
              "color": "#E5ECF6",
              "width": 0.5
             },
             "pattern": {
              "fillmode": "overlay",
              "size": 10,
              "solidity": 0.2
             }
            },
            "type": "bar"
           }
          ],
          "barpolar": [
           {
            "marker": {
             "line": {
              "color": "#E5ECF6",
              "width": 0.5
             },
             "pattern": {
              "fillmode": "overlay",
              "size": 10,
              "solidity": 0.2
             }
            },
            "type": "barpolar"
           }
          ],
          "carpet": [
           {
            "aaxis": {
             "endlinecolor": "#2a3f5f",
             "gridcolor": "white",
             "linecolor": "white",
             "minorgridcolor": "white",
             "startlinecolor": "#2a3f5f"
            },
            "baxis": {
             "endlinecolor": "#2a3f5f",
             "gridcolor": "white",
             "linecolor": "white",
             "minorgridcolor": "white",
             "startlinecolor": "#2a3f5f"
            },
            "type": "carpet"
           }
          ],
          "choropleth": [
           {
            "colorbar": {
             "outlinewidth": 0,
             "ticks": ""
            },
            "type": "choropleth"
           }
          ],
          "contour": [
           {
            "colorbar": {
             "outlinewidth": 0,
             "ticks": ""
            },
            "colorscale": [
             [
              0,
              "#0d0887"
             ],
             [
              0.1111111111111111,
              "#46039f"
             ],
             [
              0.2222222222222222,
              "#7201a8"
             ],
             [
              0.3333333333333333,
              "#9c179e"
             ],
             [
              0.4444444444444444,
              "#bd3786"
             ],
             [
              0.5555555555555556,
              "#d8576b"
             ],
             [
              0.6666666666666666,
              "#ed7953"
             ],
             [
              0.7777777777777778,
              "#fb9f3a"
             ],
             [
              0.8888888888888888,
              "#fdca26"
             ],
             [
              1,
              "#f0f921"
             ]
            ],
            "type": "contour"
           }
          ],
          "contourcarpet": [
           {
            "colorbar": {
             "outlinewidth": 0,
             "ticks": ""
            },
            "type": "contourcarpet"
           }
          ],
          "heatmap": [
           {
            "colorbar": {
             "outlinewidth": 0,
             "ticks": ""
            },
            "colorscale": [
             [
              0,
              "#0d0887"
             ],
             [
              0.1111111111111111,
              "#46039f"
             ],
             [
              0.2222222222222222,
              "#7201a8"
             ],
             [
              0.3333333333333333,
              "#9c179e"
             ],
             [
              0.4444444444444444,
              "#bd3786"
             ],
             [
              0.5555555555555556,
              "#d8576b"
             ],
             [
              0.6666666666666666,
              "#ed7953"
             ],
             [
              0.7777777777777778,
              "#fb9f3a"
             ],
             [
              0.8888888888888888,
              "#fdca26"
             ],
             [
              1,
              "#f0f921"
             ]
            ],
            "type": "heatmap"
           }
          ],
          "histogram": [
           {
            "marker": {
             "pattern": {
              "fillmode": "overlay",
              "size": 10,
              "solidity": 0.2
             }
            },
            "type": "histogram"
           }
          ],
          "histogram2d": [
           {
            "colorbar": {
             "outlinewidth": 0,
             "ticks": ""
            },
            "colorscale": [
             [
              0,
              "#0d0887"
             ],
             [
              0.1111111111111111,
              "#46039f"
             ],
             [
              0.2222222222222222,
              "#7201a8"
             ],
             [
              0.3333333333333333,
              "#9c179e"
             ],
             [
              0.4444444444444444,
              "#bd3786"
             ],
             [
              0.5555555555555556,
              "#d8576b"
             ],
             [
              0.6666666666666666,
              "#ed7953"
             ],
             [
              0.7777777777777778,
              "#fb9f3a"
             ],
             [
              0.8888888888888888,
              "#fdca26"
             ],
             [
              1,
              "#f0f921"
             ]
            ],
            "type": "histogram2d"
           }
          ],
          "histogram2dcontour": [
           {
            "colorbar": {
             "outlinewidth": 0,
             "ticks": ""
            },
            "colorscale": [
             [
              0,
              "#0d0887"
             ],
             [
              0.1111111111111111,
              "#46039f"
             ],
             [
              0.2222222222222222,
              "#7201a8"
             ],
             [
              0.3333333333333333,
              "#9c179e"
             ],
             [
              0.4444444444444444,
              "#bd3786"
             ],
             [
              0.5555555555555556,
              "#d8576b"
             ],
             [
              0.6666666666666666,
              "#ed7953"
             ],
             [
              0.7777777777777778,
              "#fb9f3a"
             ],
             [
              0.8888888888888888,
              "#fdca26"
             ],
             [
              1,
              "#f0f921"
             ]
            ],
            "type": "histogram2dcontour"
           }
          ],
          "mesh3d": [
           {
            "colorbar": {
             "outlinewidth": 0,
             "ticks": ""
            },
            "type": "mesh3d"
           }
          ],
          "parcoords": [
           {
            "line": {
             "colorbar": {
              "outlinewidth": 0,
              "ticks": ""
             }
            },
            "type": "parcoords"
           }
          ],
          "pie": [
           {
            "automargin": true,
            "type": "pie"
           }
          ],
          "scatter": [
           {
            "fillpattern": {
             "fillmode": "overlay",
             "size": 10,
             "solidity": 0.2
            },
            "type": "scatter"
           }
          ],
          "scatter3d": [
           {
            "line": {
             "colorbar": {
              "outlinewidth": 0,
              "ticks": ""
             }
            },
            "marker": {
             "colorbar": {
              "outlinewidth": 0,
              "ticks": ""
             }
            },
            "type": "scatter3d"
           }
          ],
          "scattercarpet": [
           {
            "marker": {
             "colorbar": {
              "outlinewidth": 0,
              "ticks": ""
             }
            },
            "type": "scattercarpet"
           }
          ],
          "scattergeo": [
           {
            "marker": {
             "colorbar": {
              "outlinewidth": 0,
              "ticks": ""
             }
            },
            "type": "scattergeo"
           }
          ],
          "scattergl": [
           {
            "marker": {
             "colorbar": {
              "outlinewidth": 0,
              "ticks": ""
             }
            },
            "type": "scattergl"
           }
          ],
          "scattermap": [
           {
            "marker": {
             "colorbar": {
              "outlinewidth": 0,
              "ticks": ""
             }
            },
            "type": "scattermap"
           }
          ],
          "scattermapbox": [
           {
            "marker": {
             "colorbar": {
              "outlinewidth": 0,
              "ticks": ""
             }
            },
            "type": "scattermapbox"
           }
          ],
          "scatterpolar": [
           {
            "marker": {
             "colorbar": {
              "outlinewidth": 0,
              "ticks": ""
             }
            },
            "type": "scatterpolar"
           }
          ],
          "scatterpolargl": [
           {
            "marker": {
             "colorbar": {
              "outlinewidth": 0,
              "ticks": ""
             }
            },
            "type": "scatterpolargl"
           }
          ],
          "scatterternary": [
           {
            "marker": {
             "colorbar": {
              "outlinewidth": 0,
              "ticks": ""
             }
            },
            "type": "scatterternary"
           }
          ],
          "surface": [
           {
            "colorbar": {
             "outlinewidth": 0,
             "ticks": ""
            },
            "colorscale": [
             [
              0,
              "#0d0887"
             ],
             [
              0.1111111111111111,
              "#46039f"
             ],
             [
              0.2222222222222222,
              "#7201a8"
             ],
             [
              0.3333333333333333,
              "#9c179e"
             ],
             [
              0.4444444444444444,
              "#bd3786"
             ],
             [
              0.5555555555555556,
              "#d8576b"
             ],
             [
              0.6666666666666666,
              "#ed7953"
             ],
             [
              0.7777777777777778,
              "#fb9f3a"
             ],
             [
              0.8888888888888888,
              "#fdca26"
             ],
             [
              1,
              "#f0f921"
             ]
            ],
            "type": "surface"
           }
          ],
          "table": [
           {
            "cells": {
             "fill": {
              "color": "#EBF0F8"
             },
             "line": {
              "color": "white"
             }
            },
            "header": {
             "fill": {
              "color": "#C8D4E3"
             },
             "line": {
              "color": "white"
             }
            },
            "type": "table"
           }
          ]
         },
         "layout": {
          "annotationdefaults": {
           "arrowcolor": "#2a3f5f",
           "arrowhead": 0,
           "arrowwidth": 1
          },
          "autotypenumbers": "strict",
          "coloraxis": {
           "colorbar": {
            "outlinewidth": 0,
            "ticks": ""
           }
          },
          "colorscale": {
           "diverging": [
            [
             0,
             "#8e0152"
            ],
            [
             0.1,
             "#c51b7d"
            ],
            [
             0.2,
             "#de77ae"
            ],
            [
             0.3,
             "#f1b6da"
            ],
            [
             0.4,
             "#fde0ef"
            ],
            [
             0.5,
             "#f7f7f7"
            ],
            [
             0.6,
             "#e6f5d0"
            ],
            [
             0.7,
             "#b8e186"
            ],
            [
             0.8,
             "#7fbc41"
            ],
            [
             0.9,
             "#4d9221"
            ],
            [
             1,
             "#276419"
            ]
           ],
           "sequential": [
            [
             0,
             "#0d0887"
            ],
            [
             0.1111111111111111,
             "#46039f"
            ],
            [
             0.2222222222222222,
             "#7201a8"
            ],
            [
             0.3333333333333333,
             "#9c179e"
            ],
            [
             0.4444444444444444,
             "#bd3786"
            ],
            [
             0.5555555555555556,
             "#d8576b"
            ],
            [
             0.6666666666666666,
             "#ed7953"
            ],
            [
             0.7777777777777778,
             "#fb9f3a"
            ],
            [
             0.8888888888888888,
             "#fdca26"
            ],
            [
             1,
             "#f0f921"
            ]
           ],
           "sequentialminus": [
            [
             0,
             "#0d0887"
            ],
            [
             0.1111111111111111,
             "#46039f"
            ],
            [
             0.2222222222222222,
             "#7201a8"
            ],
            [
             0.3333333333333333,
             "#9c179e"
            ],
            [
             0.4444444444444444,
             "#bd3786"
            ],
            [
             0.5555555555555556,
             "#d8576b"
            ],
            [
             0.6666666666666666,
             "#ed7953"
            ],
            [
             0.7777777777777778,
             "#fb9f3a"
            ],
            [
             0.8888888888888888,
             "#fdca26"
            ],
            [
             1,
             "#f0f921"
            ]
           ]
          },
          "colorway": [
           "#636efa",
           "#EF553B",
           "#00cc96",
           "#ab63fa",
           "#FFA15A",
           "#19d3f3",
           "#FF6692",
           "#B6E880",
           "#FF97FF",
           "#FECB52"
          ],
          "font": {
           "color": "#2a3f5f"
          },
          "geo": {
           "bgcolor": "white",
           "lakecolor": "white",
           "landcolor": "#E5ECF6",
           "showlakes": true,
           "showland": true,
           "subunitcolor": "white"
          },
          "hoverlabel": {
           "align": "left"
          },
          "hovermode": "closest",
          "mapbox": {
           "style": "light"
          },
          "paper_bgcolor": "white",
          "plot_bgcolor": "#E5ECF6",
          "polar": {
           "angularaxis": {
            "gridcolor": "white",
            "linecolor": "white",
            "ticks": ""
           },
           "bgcolor": "#E5ECF6",
           "radialaxis": {
            "gridcolor": "white",
            "linecolor": "white",
            "ticks": ""
           }
          },
          "scene": {
           "xaxis": {
            "backgroundcolor": "#E5ECF6",
            "gridcolor": "white",
            "gridwidth": 2,
            "linecolor": "white",
            "showbackground": true,
            "ticks": "",
            "zerolinecolor": "white"
           },
           "yaxis": {
            "backgroundcolor": "#E5ECF6",
            "gridcolor": "white",
            "gridwidth": 2,
            "linecolor": "white",
            "showbackground": true,
            "ticks": "",
            "zerolinecolor": "white"
           },
           "zaxis": {
            "backgroundcolor": "#E5ECF6",
            "gridcolor": "white",
            "gridwidth": 2,
            "linecolor": "white",
            "showbackground": true,
            "ticks": "",
            "zerolinecolor": "white"
           }
          },
          "shapedefaults": {
           "line": {
            "color": "#2a3f5f"
           }
          },
          "ternary": {
           "aaxis": {
            "gridcolor": "white",
            "linecolor": "white",
            "ticks": ""
           },
           "baxis": {
            "gridcolor": "white",
            "linecolor": "white",
            "ticks": ""
           },
           "bgcolor": "#E5ECF6",
           "caxis": {
            "gridcolor": "white",
            "linecolor": "white",
            "ticks": ""
           }
          },
          "title": {
           "x": 0.05
          },
          "xaxis": {
           "automargin": true,
           "gridcolor": "white",
           "linecolor": "white",
           "ticks": "",
           "title": {
            "standoff": 15
           },
           "zerolinecolor": "white",
           "zerolinewidth": 2
          },
          "yaxis": {
           "automargin": true,
           "gridcolor": "white",
           "linecolor": "white",
           "ticks": "",
           "title": {
            "standoff": 15
           },
           "zerolinecolor": "white",
           "zerolinewidth": 2
          }
         }
        },
        "title": {},
        "xaxis": {
         "showgrid": false,
         "showticklabels": false,
         "zeroline": false
        },
        "yaxis": {
         "autorange": "reversed",
         "showgrid": true,
         "title": {
          "text": "Cell cycle level"
         },
         "zeroline": true
        }
       }
      }
     },
     "metadata": {},
     "output_type": "display_data"
    }
   ],
   "source": [
    "clin1.plot()"
   ]
  },
  {
   "cell_type": "code",
   "execution_count": 42,
   "metadata": {},
   "outputs": [
    {
     "data": {
      "application/vnd.plotly.v1+json": {
       "config": {
        "plotlyServerURL": "https://plot.ly"
       },
       "data": [
        {
         "mode": "lines",
         "name": "Edges",
         "text": [],
         "type": "scatter",
         "x": [
          -4.25,
          -5.25,
          null,
          -4.25,
          -3.25,
          null,
          -0.25,
          -0.75,
          null,
          -0.25,
          0.25,
          null,
          2.25,
          1.75,
          null,
          2.25,
          2.75,
          null,
          -1.75,
          -1.25,
          null,
          -1.75,
          -2.25,
          null,
          7.75,
          8.25,
          null,
          7.75,
          7.25,
          null,
          3.75,
          4.25,
          null,
          3.75,
          3.25,
          null,
          6.25,
          6.75,
          null,
          6.25,
          5.75,
          null,
          9.75,
          9.25,
          null,
          9.75,
          10.25,
          null,
          -11.25,
          -11.75,
          null,
          -11.25,
          -10.75,
          null,
          1.75,
          1.25,
          null,
          1.75,
          2.25,
          null,
          5.75,
          6.25,
          null,
          5.75,
          5.25,
          null,
          -5.25,
          -4.75,
          null,
          -5.25,
          -5.75,
          null,
          -9.25,
          -8.75,
          null,
          -9.25,
          -9.75,
          null,
          -3.25,
          -3.75,
          null,
          -3.25,
          -2.75,
          null,
          0.25,
          0.75,
          null,
          0.25,
          -0.25,
          null,
          -7.25,
          -7.75,
          null,
          -7.25,
          -6.75,
          null,
          0,
          5.375,
          null,
          0,
          -5.375,
          null,
          -5.375,
          -8.5,
          null,
          -5.375,
          -2.25,
          null,
          5.375,
          3.25,
          null,
          5.375,
          7.5,
          null,
          -8.5,
          -6.75,
          null,
          -8.5,
          -10.25,
          null,
          3.25,
          2.25,
          null,
          3.25,
          4.25,
          null,
          7.5,
          6.25,
          null,
          7.5,
          8.75,
          null,
          -2.25,
          -4.25,
          null,
          -2.25,
          -0.25,
          null,
          8.75,
          7.75,
          null,
          8.75,
          9.75,
          null,
          -10.25,
          -9.25,
          null,
          -10.25,
          -11.25,
          null,
          4.25,
          3.75,
          null,
          4.25,
          4.75,
          null,
          -6.75,
          -6.25,
          null,
          -6.75,
          -7.25,
          null,
          -0.75,
          -1.75,
          null,
          -0.75,
          0.25,
          null
         ],
         "y": [
          3,
          4,
          null,
          3,
          4,
          null,
          3,
          4,
          null,
          3,
          4,
          null,
          3,
          4,
          null,
          3,
          4,
          null,
          5,
          6,
          null,
          5,
          6,
          null,
          4,
          5,
          null,
          4,
          5,
          null,
          4,
          5,
          null,
          4,
          5,
          null,
          3,
          4,
          null,
          3,
          4,
          null,
          4,
          5,
          null,
          4,
          5,
          null,
          4,
          5,
          null,
          4,
          5,
          null,
          4,
          5,
          null,
          4,
          5,
          null,
          4,
          5,
          null,
          4,
          5,
          null,
          4,
          5,
          null,
          4,
          5,
          null,
          4,
          5,
          null,
          4,
          5,
          null,
          4,
          5,
          null,
          4,
          5,
          null,
          5,
          6,
          null,
          5,
          6,
          null,
          4,
          5,
          null,
          4,
          5,
          null,
          0,
          1,
          null,
          0,
          1,
          null,
          1,
          2,
          null,
          1,
          2,
          null,
          1,
          2,
          null,
          1,
          2,
          null,
          2,
          3,
          null,
          2,
          3,
          null,
          2,
          3,
          null,
          2,
          3,
          null,
          2,
          3,
          null,
          2,
          3,
          null,
          2,
          3,
          null,
          2,
          3,
          null,
          3,
          4,
          null,
          3,
          4,
          null,
          3,
          4,
          null,
          3,
          4,
          null,
          3,
          4,
          null,
          3,
          4,
          null,
          3,
          4,
          null,
          3,
          4,
          null,
          4,
          5,
          null,
          4,
          5,
          null
         ]
        },
        {
         "hoverinfo": "text",
         "hovertemplate": "%{text}",
         "marker": {
          "color": [
           4,
           4,
           3,
           2,
           4,
           4,
           7,
           4,
           5,
           4,
           1,
           4,
           5,
           5,
           4,
           4,
           3,
           4,
           6,
           5,
           5,
           4,
           6,
           3,
           4,
           2,
           6,
           1,
           2,
           3,
           2,
           1,
           2,
           3,
           3,
           3,
           1,
           3,
           2,
           3,
           3,
           5,
           6,
           6,
           3,
           2,
           2,
           2,
           1,
           3,
           7,
           2,
           2,
           1,
           1,
           1,
           1
          ],
          "colorbar": {
           "title": {
            "text": "cycle_length"
           }
          },
          "colorscale": [
           [
            0,
            "#0508b8"
           ],
           [
            0.08333333333333333,
            "#1910d8"
           ],
           [
            0.16666666666666666,
            "#3c19f0"
           ],
           [
            0.25,
            "#6b1cfb"
           ],
           [
            0.3333333333333333,
            "#981cfd"
           ],
           [
            0.4166666666666667,
            "#bf1cfd"
           ],
           [
            0.5,
            "#dd2bfd"
           ],
           [
            0.5833333333333334,
            "#f246fe"
           ],
           [
            0.6666666666666666,
            "#fc67fd"
           ],
           [
            0.75,
            "#fe88fc"
           ],
           [
            0.8333333333333334,
            "#fea5fd"
           ],
           [
            0.9166666666666666,
            "#febefe"
           ],
           [
            1,
            "#fec3fe"
           ]
          ],
          "size": 35
         },
         "mode": "markers",
         "name": "lineage_ID: 1",
         "text": [
          "cycle_ID: 9249<br>cycle_length: 4<br>",
          "cycle_ID: 9267<br>cycle_length: 4<br>",
          "cycle_ID: 9269<br>cycle_length: 3<br>",
          "cycle_ID: 9276<br>cycle_length: 2<br>",
          "cycle_ID: 9291<br>cycle_length: 4<br>",
          "cycle_ID: 9304<br>cycle_length: 4<br>",
          "cycle_ID: 9314<br>cycle_length: 7<br>",
          "cycle_ID: 9316<br>cycle_length: 4<br>",
          "cycle_ID: 9331<br>cycle_length: 5<br>",
          "cycle_ID: 9348<br>cycle_length: 4<br>",
          "cycle_ID: 9359<br>cycle_length: 1<br>",
          "cycle_ID: 9367<br>cycle_length: 4<br>",
          "cycle_ID: 9383<br>cycle_length: 5<br>",
          "cycle_ID: 9433<br>cycle_length: 5<br>",
          "cycle_ID: 9447<br>cycle_length: 4<br>",
          "cycle_ID: 9501<br>cycle_length: 4<br>",
          "cycle_ID: 8992<br>cycle_length: 3<br>",
          "cycle_ID: 9022<br>cycle_length: 4<br>",
          "cycle_ID: 9045<br>cycle_length: 6<br>",
          "cycle_ID: 9057<br>cycle_length: 5<br>",
          "cycle_ID: 9098<br>cycle_length: 5<br>",
          "cycle_ID: 9105<br>cycle_length: 4<br>",
          "cycle_ID: 9109<br>cycle_length: 6<br>",
          "cycle_ID: 9157<br>cycle_length: 3<br>",
          "cycle_ID: 9158<br>cycle_length: 4<br>",
          "cycle_ID: 9165<br>cycle_length: 2<br>",
          "cycle_ID: 9183<br>cycle_length: 6<br>",
          "cycle_ID: 9202<br>cycle_length: 1<br>",
          "cycle_ID: 9386<br>cycle_length: 2<br>",
          "cycle_ID: 9387<br>cycle_length: 3<br>",
          "cycle_ID: 9391<br>cycle_length: 2<br>",
          "cycle_ID: 9393<br>cycle_length: 1<br>",
          "cycle_ID: 9396<br>cycle_length: 2<br>",
          "cycle_ID: 9399<br>cycle_length: 3<br>",
          "cycle_ID: 9400<br>cycle_length: 3<br>",
          "cycle_ID: 9401<br>cycle_length: 3<br>",
          "cycle_ID: 9403<br>cycle_length: 1<br>",
          "cycle_ID: 9404<br>cycle_length: 3<br>",
          "cycle_ID: 9411<br>cycle_length: 2<br>",
          "cycle_ID: 9421<br>cycle_length: 3<br>",
          "cycle_ID: 9422<br>cycle_length: 3<br>",
          "cycle_ID: 9423<br>cycle_length: 5<br>",
          "cycle_ID: 9425<br>cycle_length: 6<br>",
          "cycle_ID: 9426<br>cycle_length: 6<br>",
          "cycle_ID: 9427<br>cycle_length: 3<br>",
          "cycle_ID: 9442<br>cycle_length: 2<br>",
          "cycle_ID: 9452<br>cycle_length: 2<br>",
          "cycle_ID: 9454<br>cycle_length: 2<br>",
          "cycle_ID: 9455<br>cycle_length: 1<br>",
          "cycle_ID: 9458<br>cycle_length: 3<br>",
          "cycle_ID: 9459<br>cycle_length: 7<br>",
          "cycle_ID: 9466<br>cycle_length: 2<br>",
          "cycle_ID: 9468<br>cycle_length: 2<br>",
          "cycle_ID: 9472<br>cycle_length: 1<br>",
          "cycle_ID: 9474<br>cycle_length: 1<br>",
          "cycle_ID: 9478<br>cycle_length: 1<br>",
          "cycle_ID: 9503<br>cycle_length: 1<br>"
         ],
         "type": "scatter",
         "x": [
          -4.25,
          -0.25,
          2.25,
          -1.75,
          7.75,
          3.75,
          6.25,
          9.75,
          -11.25,
          1.75,
          5.75,
          -5.25,
          -9.25,
          -3.25,
          0.25,
          -7.25,
          0,
          -5.375,
          5.375,
          -8.5,
          3.25,
          7.5,
          -2.25,
          8.75,
          -10.25,
          4.25,
          -6.75,
          -0.75,
          -11.75,
          7.25,
          -9.75,
          -0.25,
          1.25,
          9.25,
          3.25,
          4.25,
          -7.75,
          10.25,
          5.25,
          -2.25,
          6.75,
          -6.25,
          0.25,
          2.75,
          -1.25,
          -5.75,
          -10.75,
          -8.75,
          0.75,
          8.25,
          4.75,
          -4.75,
          6.25,
          -3.75,
          -2.75,
          -6.75,
          2.25
         ],
         "y": [
          3,
          3,
          3,
          5,
          4,
          4,
          3,
          4,
          4,
          4,
          4,
          4,
          4,
          4,
          5,
          4,
          0,
          1,
          1,
          2,
          2,
          2,
          2,
          3,
          3,
          3,
          3,
          4,
          5,
          5,
          5,
          6,
          5,
          5,
          5,
          5,
          5,
          5,
          5,
          6,
          4,
          4,
          4,
          4,
          6,
          5,
          5,
          5,
          6,
          5,
          4,
          5,
          5,
          5,
          5,
          5,
          5
         ]
        }
       ],
       "layout": {
        "annotations": [
         {
          "font": {
           "color": "white"
          },
          "showarrow": false,
          "text": "9249",
          "x": -4.25,
          "xref": "x",
          "y": 3,
          "yref": "y"
         },
         {
          "font": {
           "color": "white"
          },
          "showarrow": false,
          "text": "9267",
          "x": -0.25,
          "xref": "x",
          "y": 3,
          "yref": "y"
         },
         {
          "font": {
           "color": "white"
          },
          "showarrow": false,
          "text": "9269",
          "x": 2.25,
          "xref": "x",
          "y": 3,
          "yref": "y"
         },
         {
          "font": {
           "color": "white"
          },
          "showarrow": false,
          "text": "9276",
          "x": -1.75,
          "xref": "x",
          "y": 5,
          "yref": "y"
         },
         {
          "font": {
           "color": "white"
          },
          "showarrow": false,
          "text": "9291",
          "x": 7.75,
          "xref": "x",
          "y": 4,
          "yref": "y"
         },
         {
          "font": {
           "color": "white"
          },
          "showarrow": false,
          "text": "9304",
          "x": 3.75,
          "xref": "x",
          "y": 4,
          "yref": "y"
         },
         {
          "font": {
           "color": "white"
          },
          "showarrow": false,
          "text": "9314",
          "x": 6.25,
          "xref": "x",
          "y": 3,
          "yref": "y"
         },
         {
          "font": {
           "color": "white"
          },
          "showarrow": false,
          "text": "9316",
          "x": 9.75,
          "xref": "x",
          "y": 4,
          "yref": "y"
         },
         {
          "font": {
           "color": "white"
          },
          "showarrow": false,
          "text": "9331",
          "x": -11.25,
          "xref": "x",
          "y": 4,
          "yref": "y"
         },
         {
          "font": {
           "color": "white"
          },
          "showarrow": false,
          "text": "9348",
          "x": 1.75,
          "xref": "x",
          "y": 4,
          "yref": "y"
         },
         {
          "font": {
           "color": "white"
          },
          "showarrow": false,
          "text": "9359",
          "x": 5.75,
          "xref": "x",
          "y": 4,
          "yref": "y"
         },
         {
          "font": {
           "color": "white"
          },
          "showarrow": false,
          "text": "9367",
          "x": -5.25,
          "xref": "x",
          "y": 4,
          "yref": "y"
         },
         {
          "font": {
           "color": "white"
          },
          "showarrow": false,
          "text": "9383",
          "x": -9.25,
          "xref": "x",
          "y": 4,
          "yref": "y"
         },
         {
          "font": {
           "color": "white"
          },
          "showarrow": false,
          "text": "9433",
          "x": -3.25,
          "xref": "x",
          "y": 4,
          "yref": "y"
         },
         {
          "font": {
           "color": "white"
          },
          "showarrow": false,
          "text": "9447",
          "x": 0.25,
          "xref": "x",
          "y": 5,
          "yref": "y"
         },
         {
          "font": {
           "color": "white"
          },
          "showarrow": false,
          "text": "9501",
          "x": -7.25,
          "xref": "x",
          "y": 4,
          "yref": "y"
         },
         {
          "font": {
           "color": "white"
          },
          "showarrow": false,
          "text": "8992",
          "x": 0,
          "xref": "x",
          "y": 0,
          "yref": "y"
         },
         {
          "font": {
           "color": "white"
          },
          "showarrow": false,
          "text": "9022",
          "x": -5.375,
          "xref": "x",
          "y": 1,
          "yref": "y"
         },
         {
          "font": {
           "color": "white"
          },
          "showarrow": false,
          "text": "9045",
          "x": 5.375,
          "xref": "x",
          "y": 1,
          "yref": "y"
         },
         {
          "font": {
           "color": "white"
          },
          "showarrow": false,
          "text": "9057",
          "x": -8.5,
          "xref": "x",
          "y": 2,
          "yref": "y"
         },
         {
          "font": {
           "color": "white"
          },
          "showarrow": false,
          "text": "9098",
          "x": 3.25,
          "xref": "x",
          "y": 2,
          "yref": "y"
         },
         {
          "font": {
           "color": "white"
          },
          "showarrow": false,
          "text": "9105",
          "x": 7.5,
          "xref": "x",
          "y": 2,
          "yref": "y"
         },
         {
          "font": {
           "color": "white"
          },
          "showarrow": false,
          "text": "9109",
          "x": -2.25,
          "xref": "x",
          "y": 2,
          "yref": "y"
         },
         {
          "font": {
           "color": "white"
          },
          "showarrow": false,
          "text": "9157",
          "x": 8.75,
          "xref": "x",
          "y": 3,
          "yref": "y"
         },
         {
          "font": {
           "color": "white"
          },
          "showarrow": false,
          "text": "9158",
          "x": -10.25,
          "xref": "x",
          "y": 3,
          "yref": "y"
         },
         {
          "font": {
           "color": "white"
          },
          "showarrow": false,
          "text": "9165",
          "x": 4.25,
          "xref": "x",
          "y": 3,
          "yref": "y"
         },
         {
          "font": {
           "color": "white"
          },
          "showarrow": false,
          "text": "9183",
          "x": -6.75,
          "xref": "x",
          "y": 3,
          "yref": "y"
         },
         {
          "font": {
           "color": "white"
          },
          "showarrow": false,
          "text": "9202",
          "x": -0.75,
          "xref": "x",
          "y": 4,
          "yref": "y"
         },
         {
          "font": {
           "color": "white"
          },
          "showarrow": false,
          "text": "9386",
          "x": -11.75,
          "xref": "x",
          "y": 5,
          "yref": "y"
         },
         {
          "font": {
           "color": "white"
          },
          "showarrow": false,
          "text": "9387",
          "x": 7.25,
          "xref": "x",
          "y": 5,
          "yref": "y"
         },
         {
          "font": {
           "color": "white"
          },
          "showarrow": false,
          "text": "9391",
          "x": -9.75,
          "xref": "x",
          "y": 5,
          "yref": "y"
         },
         {
          "font": {
           "color": "white"
          },
          "showarrow": false,
          "text": "9393",
          "x": -0.25,
          "xref": "x",
          "y": 6,
          "yref": "y"
         },
         {
          "font": {
           "color": "white"
          },
          "showarrow": false,
          "text": "9396",
          "x": 1.25,
          "xref": "x",
          "y": 5,
          "yref": "y"
         },
         {
          "font": {
           "color": "white"
          },
          "showarrow": false,
          "text": "9399",
          "x": 9.25,
          "xref": "x",
          "y": 5,
          "yref": "y"
         },
         {
          "font": {
           "color": "white"
          },
          "showarrow": false,
          "text": "9400",
          "x": 3.25,
          "xref": "x",
          "y": 5,
          "yref": "y"
         },
         {
          "font": {
           "color": "white"
          },
          "showarrow": false,
          "text": "9401",
          "x": 4.25,
          "xref": "x",
          "y": 5,
          "yref": "y"
         },
         {
          "font": {
           "color": "white"
          },
          "showarrow": false,
          "text": "9403",
          "x": -7.75,
          "xref": "x",
          "y": 5,
          "yref": "y"
         },
         {
          "font": {
           "color": "white"
          },
          "showarrow": false,
          "text": "9404",
          "x": 10.25,
          "xref": "x",
          "y": 5,
          "yref": "y"
         },
         {
          "font": {
           "color": "white"
          },
          "showarrow": false,
          "text": "9411",
          "x": 5.25,
          "xref": "x",
          "y": 5,
          "yref": "y"
         },
         {
          "font": {
           "color": "white"
          },
          "showarrow": false,
          "text": "9421",
          "x": -2.25,
          "xref": "x",
          "y": 6,
          "yref": "y"
         },
         {
          "font": {
           "color": "white"
          },
          "showarrow": false,
          "text": "9422",
          "x": 6.75,
          "xref": "x",
          "y": 4,
          "yref": "y"
         },
         {
          "font": {
           "color": "white"
          },
          "showarrow": false,
          "text": "9423",
          "x": -6.25,
          "xref": "x",
          "y": 4,
          "yref": "y"
         },
         {
          "font": {
           "color": "white"
          },
          "showarrow": false,
          "text": "9425",
          "x": 0.25,
          "xref": "x",
          "y": 4,
          "yref": "y"
         },
         {
          "font": {
           "color": "white"
          },
          "showarrow": false,
          "text": "9426",
          "x": 2.75,
          "xref": "x",
          "y": 4,
          "yref": "y"
         },
         {
          "font": {
           "color": "white"
          },
          "showarrow": false,
          "text": "9427",
          "x": -1.25,
          "xref": "x",
          "y": 6,
          "yref": "y"
         },
         {
          "font": {
           "color": "white"
          },
          "showarrow": false,
          "text": "9442",
          "x": -5.75,
          "xref": "x",
          "y": 5,
          "yref": "y"
         },
         {
          "font": {
           "color": "white"
          },
          "showarrow": false,
          "text": "9452",
          "x": -10.75,
          "xref": "x",
          "y": 5,
          "yref": "y"
         },
         {
          "font": {
           "color": "white"
          },
          "showarrow": false,
          "text": "9454",
          "x": -8.75,
          "xref": "x",
          "y": 5,
          "yref": "y"
         },
         {
          "font": {
           "color": "white"
          },
          "showarrow": false,
          "text": "9455",
          "x": 0.75,
          "xref": "x",
          "y": 6,
          "yref": "y"
         },
         {
          "font": {
           "color": "white"
          },
          "showarrow": false,
          "text": "9458",
          "x": 8.25,
          "xref": "x",
          "y": 5,
          "yref": "y"
         },
         {
          "font": {
           "color": "white"
          },
          "showarrow": false,
          "text": "9459",
          "x": 4.75,
          "xref": "x",
          "y": 4,
          "yref": "y"
         },
         {
          "font": {
           "color": "white"
          },
          "showarrow": false,
          "text": "9466",
          "x": -4.75,
          "xref": "x",
          "y": 5,
          "yref": "y"
         },
         {
          "font": {
           "color": "white"
          },
          "showarrow": false,
          "text": "9468",
          "x": 6.25,
          "xref": "x",
          "y": 5,
          "yref": "y"
         },
         {
          "font": {
           "color": "white"
          },
          "showarrow": false,
          "text": "9472",
          "x": -3.75,
          "xref": "x",
          "y": 5,
          "yref": "y"
         },
         {
          "font": {
           "color": "white"
          },
          "showarrow": false,
          "text": "9474",
          "x": -2.75,
          "xref": "x",
          "y": 5,
          "yref": "y"
         },
         {
          "font": {
           "color": "white"
          },
          "showarrow": false,
          "text": "9478",
          "x": -6.75,
          "xref": "x",
          "y": 5,
          "yref": "y"
         },
         {
          "font": {
           "color": "white"
          },
          "showarrow": false,
          "text": "9503",
          "x": 2.25,
          "xref": "x",
          "y": 5,
          "yref": "y"
         }
        ],
        "height": 600,
        "hovermode": "closest",
        "showlegend": true,
        "template": {
         "data": {
          "bar": [
           {
            "error_x": {
             "color": "#2a3f5f"
            },
            "error_y": {
             "color": "#2a3f5f"
            },
            "marker": {
             "line": {
              "color": "#E5ECF6",
              "width": 0.5
             },
             "pattern": {
              "fillmode": "overlay",
              "size": 10,
              "solidity": 0.2
             }
            },
            "type": "bar"
           }
          ],
          "barpolar": [
           {
            "marker": {
             "line": {
              "color": "#E5ECF6",
              "width": 0.5
             },
             "pattern": {
              "fillmode": "overlay",
              "size": 10,
              "solidity": 0.2
             }
            },
            "type": "barpolar"
           }
          ],
          "carpet": [
           {
            "aaxis": {
             "endlinecolor": "#2a3f5f",
             "gridcolor": "white",
             "linecolor": "white",
             "minorgridcolor": "white",
             "startlinecolor": "#2a3f5f"
            },
            "baxis": {
             "endlinecolor": "#2a3f5f",
             "gridcolor": "white",
             "linecolor": "white",
             "minorgridcolor": "white",
             "startlinecolor": "#2a3f5f"
            },
            "type": "carpet"
           }
          ],
          "choropleth": [
           {
            "colorbar": {
             "outlinewidth": 0,
             "ticks": ""
            },
            "type": "choropleth"
           }
          ],
          "contour": [
           {
            "colorbar": {
             "outlinewidth": 0,
             "ticks": ""
            },
            "colorscale": [
             [
              0,
              "#0d0887"
             ],
             [
              0.1111111111111111,
              "#46039f"
             ],
             [
              0.2222222222222222,
              "#7201a8"
             ],
             [
              0.3333333333333333,
              "#9c179e"
             ],
             [
              0.4444444444444444,
              "#bd3786"
             ],
             [
              0.5555555555555556,
              "#d8576b"
             ],
             [
              0.6666666666666666,
              "#ed7953"
             ],
             [
              0.7777777777777778,
              "#fb9f3a"
             ],
             [
              0.8888888888888888,
              "#fdca26"
             ],
             [
              1,
              "#f0f921"
             ]
            ],
            "type": "contour"
           }
          ],
          "contourcarpet": [
           {
            "colorbar": {
             "outlinewidth": 0,
             "ticks": ""
            },
            "type": "contourcarpet"
           }
          ],
          "heatmap": [
           {
            "colorbar": {
             "outlinewidth": 0,
             "ticks": ""
            },
            "colorscale": [
             [
              0,
              "#0d0887"
             ],
             [
              0.1111111111111111,
              "#46039f"
             ],
             [
              0.2222222222222222,
              "#7201a8"
             ],
             [
              0.3333333333333333,
              "#9c179e"
             ],
             [
              0.4444444444444444,
              "#bd3786"
             ],
             [
              0.5555555555555556,
              "#d8576b"
             ],
             [
              0.6666666666666666,
              "#ed7953"
             ],
             [
              0.7777777777777778,
              "#fb9f3a"
             ],
             [
              0.8888888888888888,
              "#fdca26"
             ],
             [
              1,
              "#f0f921"
             ]
            ],
            "type": "heatmap"
           }
          ],
          "histogram": [
           {
            "marker": {
             "pattern": {
              "fillmode": "overlay",
              "size": 10,
              "solidity": 0.2
             }
            },
            "type": "histogram"
           }
          ],
          "histogram2d": [
           {
            "colorbar": {
             "outlinewidth": 0,
             "ticks": ""
            },
            "colorscale": [
             [
              0,
              "#0d0887"
             ],
             [
              0.1111111111111111,
              "#46039f"
             ],
             [
              0.2222222222222222,
              "#7201a8"
             ],
             [
              0.3333333333333333,
              "#9c179e"
             ],
             [
              0.4444444444444444,
              "#bd3786"
             ],
             [
              0.5555555555555556,
              "#d8576b"
             ],
             [
              0.6666666666666666,
              "#ed7953"
             ],
             [
              0.7777777777777778,
              "#fb9f3a"
             ],
             [
              0.8888888888888888,
              "#fdca26"
             ],
             [
              1,
              "#f0f921"
             ]
            ],
            "type": "histogram2d"
           }
          ],
          "histogram2dcontour": [
           {
            "colorbar": {
             "outlinewidth": 0,
             "ticks": ""
            },
            "colorscale": [
             [
              0,
              "#0d0887"
             ],
             [
              0.1111111111111111,
              "#46039f"
             ],
             [
              0.2222222222222222,
              "#7201a8"
             ],
             [
              0.3333333333333333,
              "#9c179e"
             ],
             [
              0.4444444444444444,
              "#bd3786"
             ],
             [
              0.5555555555555556,
              "#d8576b"
             ],
             [
              0.6666666666666666,
              "#ed7953"
             ],
             [
              0.7777777777777778,
              "#fb9f3a"
             ],
             [
              0.8888888888888888,
              "#fdca26"
             ],
             [
              1,
              "#f0f921"
             ]
            ],
            "type": "histogram2dcontour"
           }
          ],
          "mesh3d": [
           {
            "colorbar": {
             "outlinewidth": 0,
             "ticks": ""
            },
            "type": "mesh3d"
           }
          ],
          "parcoords": [
           {
            "line": {
             "colorbar": {
              "outlinewidth": 0,
              "ticks": ""
             }
            },
            "type": "parcoords"
           }
          ],
          "pie": [
           {
            "automargin": true,
            "type": "pie"
           }
          ],
          "scatter": [
           {
            "fillpattern": {
             "fillmode": "overlay",
             "size": 10,
             "solidity": 0.2
            },
            "type": "scatter"
           }
          ],
          "scatter3d": [
           {
            "line": {
             "colorbar": {
              "outlinewidth": 0,
              "ticks": ""
             }
            },
            "marker": {
             "colorbar": {
              "outlinewidth": 0,
              "ticks": ""
             }
            },
            "type": "scatter3d"
           }
          ],
          "scattercarpet": [
           {
            "marker": {
             "colorbar": {
              "outlinewidth": 0,
              "ticks": ""
             }
            },
            "type": "scattercarpet"
           }
          ],
          "scattergeo": [
           {
            "marker": {
             "colorbar": {
              "outlinewidth": 0,
              "ticks": ""
             }
            },
            "type": "scattergeo"
           }
          ],
          "scattergl": [
           {
            "marker": {
             "colorbar": {
              "outlinewidth": 0,
              "ticks": ""
             }
            },
            "type": "scattergl"
           }
          ],
          "scattermap": [
           {
            "marker": {
             "colorbar": {
              "outlinewidth": 0,
              "ticks": ""
             }
            },
            "type": "scattermap"
           }
          ],
          "scattermapbox": [
           {
            "marker": {
             "colorbar": {
              "outlinewidth": 0,
              "ticks": ""
             }
            },
            "type": "scattermapbox"
           }
          ],
          "scatterpolar": [
           {
            "marker": {
             "colorbar": {
              "outlinewidth": 0,
              "ticks": ""
             }
            },
            "type": "scatterpolar"
           }
          ],
          "scatterpolargl": [
           {
            "marker": {
             "colorbar": {
              "outlinewidth": 0,
              "ticks": ""
             }
            },
            "type": "scatterpolargl"
           }
          ],
          "scatterternary": [
           {
            "marker": {
             "colorbar": {
              "outlinewidth": 0,
              "ticks": ""
             }
            },
            "type": "scatterternary"
           }
          ],
          "surface": [
           {
            "colorbar": {
             "outlinewidth": 0,
             "ticks": ""
            },
            "colorscale": [
             [
              0,
              "#0d0887"
             ],
             [
              0.1111111111111111,
              "#46039f"
             ],
             [
              0.2222222222222222,
              "#7201a8"
             ],
             [
              0.3333333333333333,
              "#9c179e"
             ],
             [
              0.4444444444444444,
              "#bd3786"
             ],
             [
              0.5555555555555556,
              "#d8576b"
             ],
             [
              0.6666666666666666,
              "#ed7953"
             ],
             [
              0.7777777777777778,
              "#fb9f3a"
             ],
             [
              0.8888888888888888,
              "#fdca26"
             ],
             [
              1,
              "#f0f921"
             ]
            ],
            "type": "surface"
           }
          ],
          "table": [
           {
            "cells": {
             "fill": {
              "color": "#EBF0F8"
             },
             "line": {
              "color": "white"
             }
            },
            "header": {
             "fill": {
              "color": "#C8D4E3"
             },
             "line": {
              "color": "white"
             }
            },
            "type": "table"
           }
          ]
         },
         "layout": {
          "annotationdefaults": {
           "arrowcolor": "#2a3f5f",
           "arrowhead": 0,
           "arrowwidth": 1
          },
          "autotypenumbers": "strict",
          "coloraxis": {
           "colorbar": {
            "outlinewidth": 0,
            "ticks": ""
           }
          },
          "colorscale": {
           "diverging": [
            [
             0,
             "#8e0152"
            ],
            [
             0.1,
             "#c51b7d"
            ],
            [
             0.2,
             "#de77ae"
            ],
            [
             0.3,
             "#f1b6da"
            ],
            [
             0.4,
             "#fde0ef"
            ],
            [
             0.5,
             "#f7f7f7"
            ],
            [
             0.6,
             "#e6f5d0"
            ],
            [
             0.7,
             "#b8e186"
            ],
            [
             0.8,
             "#7fbc41"
            ],
            [
             0.9,
             "#4d9221"
            ],
            [
             1,
             "#276419"
            ]
           ],
           "sequential": [
            [
             0,
             "#0d0887"
            ],
            [
             0.1111111111111111,
             "#46039f"
            ],
            [
             0.2222222222222222,
             "#7201a8"
            ],
            [
             0.3333333333333333,
             "#9c179e"
            ],
            [
             0.4444444444444444,
             "#bd3786"
            ],
            [
             0.5555555555555556,
             "#d8576b"
            ],
            [
             0.6666666666666666,
             "#ed7953"
            ],
            [
             0.7777777777777778,
             "#fb9f3a"
            ],
            [
             0.8888888888888888,
             "#fdca26"
            ],
            [
             1,
             "#f0f921"
            ]
           ],
           "sequentialminus": [
            [
             0,
             "#0d0887"
            ],
            [
             0.1111111111111111,
             "#46039f"
            ],
            [
             0.2222222222222222,
             "#7201a8"
            ],
            [
             0.3333333333333333,
             "#9c179e"
            ],
            [
             0.4444444444444444,
             "#bd3786"
            ],
            [
             0.5555555555555556,
             "#d8576b"
            ],
            [
             0.6666666666666666,
             "#ed7953"
            ],
            [
             0.7777777777777778,
             "#fb9f3a"
            ],
            [
             0.8888888888888888,
             "#fdca26"
            ],
            [
             1,
             "#f0f921"
            ]
           ]
          },
          "colorway": [
           "#636efa",
           "#EF553B",
           "#00cc96",
           "#ab63fa",
           "#FFA15A",
           "#19d3f3",
           "#FF6692",
           "#B6E880",
           "#FF97FF",
           "#FECB52"
          ],
          "font": {
           "color": "#2a3f5f"
          },
          "geo": {
           "bgcolor": "white",
           "lakecolor": "white",
           "landcolor": "#E5ECF6",
           "showlakes": true,
           "showland": true,
           "subunitcolor": "white"
          },
          "hoverlabel": {
           "align": "left"
          },
          "hovermode": "closest",
          "mapbox": {
           "style": "light"
          },
          "paper_bgcolor": "white",
          "plot_bgcolor": "#E5ECF6",
          "polar": {
           "angularaxis": {
            "gridcolor": "white",
            "linecolor": "white",
            "ticks": ""
           },
           "bgcolor": "#E5ECF6",
           "radialaxis": {
            "gridcolor": "white",
            "linecolor": "white",
            "ticks": ""
           }
          },
          "scene": {
           "xaxis": {
            "backgroundcolor": "#E5ECF6",
            "gridcolor": "white",
            "gridwidth": 2,
            "linecolor": "white",
            "showbackground": true,
            "ticks": "",
            "zerolinecolor": "white"
           },
           "yaxis": {
            "backgroundcolor": "#E5ECF6",
            "gridcolor": "white",
            "gridwidth": 2,
            "linecolor": "white",
            "showbackground": true,
            "ticks": "",
            "zerolinecolor": "white"
           },
           "zaxis": {
            "backgroundcolor": "#E5ECF6",
            "gridcolor": "white",
            "gridwidth": 2,
            "linecolor": "white",
            "showbackground": true,
            "ticks": "",
            "zerolinecolor": "white"
           }
          },
          "shapedefaults": {
           "line": {
            "color": "#2a3f5f"
           }
          },
          "ternary": {
           "aaxis": {
            "gridcolor": "white",
            "linecolor": "white",
            "ticks": ""
           },
           "baxis": {
            "gridcolor": "white",
            "linecolor": "white",
            "ticks": ""
           },
           "bgcolor": "#E5ECF6",
           "caxis": {
            "gridcolor": "white",
            "linecolor": "white",
            "ticks": ""
           }
          },
          "title": {
           "x": 0.05
          },
          "xaxis": {
           "automargin": true,
           "gridcolor": "white",
           "linecolor": "white",
           "ticks": "",
           "title": {
            "standoff": 15
           },
           "zerolinecolor": "white",
           "zerolinewidth": 2
          },
          "yaxis": {
           "automargin": true,
           "gridcolor": "white",
           "linecolor": "white",
           "ticks": "",
           "title": {
            "standoff": 15
           },
           "zerolinecolor": "white",
           "zerolinewidth": 2
          }
         }
        },
        "title": {
         "text": "Cycle lineage of ID = 1"
        },
        "width": 1500,
        "xaxis": {
         "showgrid": false,
         "showticklabels": false,
         "zeroline": false
        },
        "yaxis": {
         "autorange": "reversed",
         "showgrid": true,
         "title": {
          "text": "Cell cycle level"
         },
         "zeroline": true
        }
       }
      }
     },
     "metadata": {},
     "output_type": "display_data"
    }
   ],
   "source": [
    "lin_ID = lin1.graph[\"lineage_ID\"]\n",
    "clin1.plot(\n",
    "    title=f\"Cycle lineage of ID = {lin_ID}\",  # title of the plot\n",
    "    width=1500,  # width of the plot\n",
    "    height=600,  # height of the plot\n",
    "    node_text=\"cycle_ID\",  # property to use as text for the nodes\n",
    "    node_text_font={\"color\": \"white\"},  # style of the nodes text\n",
    "    node_marker_style={\"size\": 35},  # style of the nodes markers\n",
    "    node_colormap_prop=\"cycle_length\",  # property to use to color the nodes\n",
    "    node_color_scale=\"plotly3\",  # color scale for the node colors\n",
    "    node_hover_props=[\"cycle_ID\", \"cycle_length\"],  # properties to display\n",
    ")"
   ]
  },
  {
   "cell_type": "markdown",
   "metadata": {},
   "source": [
    "##### Accessing data in a cycle lineage"
   ]
  },
  {
   "cell_type": "markdown",
   "metadata": {},
   "source": [
    "In cycle lineages, cell cycles (nodes) are identified by their `cycle_ID`. The `cycle_ID` is the `cell_ID` of the last cell of the cell cycle, i.e. the division cell.\n",
    "\n",
    "Otherwise, cycle lineages can be manipulated like cell lineages."
   ]
  },
  {
   "cell_type": "code",
   "execution_count": 43,
   "metadata": {},
   "outputs": [
    {
     "name": "stdout",
     "output_type": "stream",
     "text": [
      "{'cycle_ID': 9022, 'cells': [8997, 9002, 9009, 9022], 'cycle_length': 4, 'cycle_duration': 4, 'level': 1}\n",
      "[8997, 9002, 9009, 9022]\n"
     ]
    }
   ],
   "source": [
    "cycle_ID = 9022\n",
    "\n",
    "# All properties stored in the cell cycle (node).\n",
    "print(clin1.nodes[cycle_ID])\n",
    "# Accessing a specific property value.\n",
    "print(clin1.nodes[cycle_ID][\"cells\"])"
   ]
  },
  {
   "cell_type": "markdown",
   "metadata": {},
   "source": [
    "For now, there is no properties stored in the cycle lineages links and only one property, the `lineage_ID`, in the lineage itself. But accessing the links and lineages properties dictionary is still possible:"
   ]
  },
  {
   "cell_type": "code",
   "execution_count": 44,
   "metadata": {},
   "outputs": [
    {
     "name": "stdout",
     "output_type": "stream",
     "text": [
      "{}\n",
      "{'lineage_ID': 1}\n",
      "1\n"
     ]
    }
   ],
   "source": [
    "# Properties for links between cell cycles (edges).\n",
    "print(clin1.edges[cycle_ID, 9057])\n",
    "\n",
    "# Properties for the cell cycle lineage (graph).\n",
    "print(clin1.graph)\n",
    "print(clin1.graph[\"lineage_ID\"])"
   ]
  },
  {
   "cell_type": "markdown",
   "metadata": {},
   "source": [
    "Like cell lineages, noteworthy cycle lineage elements can be retrieved. Some methods, like `get_divisions()` or `get_sister_cells()` do not make sense on a cycle lineage and are not defined. Others are used in the same way on cell or cycle lineages."
   ]
  },
  {
   "cell_type": "code",
   "execution_count": 45,
   "metadata": {},
   "outputs": [
    {
     "name": "stdout",
     "output_type": "stream",
     "text": [
      "First cycle: 8992\n",
      "Last cycles: [9386, 9387, 9391, 9393, 9396, 9399, 9400, 9401, 9403, 9404, 9411, 9421, 9422, 9423, 9425, 9426, 9427, 9442, 9452, 9454, 9455, 9458, 9459, 9466, 9468, 9472, 9474, 9478, 9503]\n",
      "Ancestor cycles of cycle 9158: [8992, 9022, 9057]\n",
      "Descendant cycles of cycle 9158: [9443, 9253, 9383, 9288, 9386, 9452, 9261, 9454, 9295, 9391, 9331, 9237, 9430, 9239, 9496, 9177, 9499, 9180]\n",
      "Cycle is root? False\n",
      "Cycle is leaf? False\n"
     ]
    }
   ],
   "source": [
    "cycle_ID = 9158\n",
    "\n",
    "print(f\"First cycle: {clin1.get_root()}\")\n",
    "print(f\"Last cycles: {clin1.get_leaves()}\")\n",
    "\n",
    "print(f\"Ancestor cycles of cycle {cycle_ID}: {clin1.get_ancestors(cycle_ID)}\")\n",
    "print(f\"Descendant cycles of cycle {cycle_ID}: {lin1.get_descendants(cycle_ID)}\")\n",
    "\n",
    "print(f\"Cycle is root? {clin1.is_root(cycle_ID)}\")\n",
    "print(f\"Cycle is leaf? {clin1.is_leaf(cycle_ID)}\")"
   ]
  },
  {
   "cell_type": "markdown",
   "metadata": {},
   "source": [
    "### Declaration of properties"
   ]
  },
  {
   "cell_type": "markdown",
   "metadata": {},
   "source": [
    "In Pycellin, a property is any data that can be stored into a lineage and that is related to part or all of the lineage (e.g. shape of a cell, velocity of a cell, number of divisions in a lineage...). The definition of a property (i.e. metadata of the property, like its name or units) is stored into a property object.\n",
    "\n",
    "Here is an example of a mandatory Pycellin property, the `cell_ID`:"
   ]
  },
  {
   "cell_type": "code",
   "execution_count": 46,
   "metadata": {},
   "outputs": [
    {
     "name": "stdout",
     "output_type": "stream",
     "text": [
      "Property 'cell_ID'\n",
      "  Name: cell ID\n",
      "  Description: Unique identifier of the cell\n",
      "  Provenance: pycellin\n",
      "  Type: node\n",
      "  Lineage type: CellLineage\n",
      "  Data type: int\n",
      "  Unit: None\n"
     ]
    }
   ],
   "source": [
    "print(pycellin.graph.properties.core.create_cell_id_property())"
   ]
  },
  {
   "cell_type": "markdown",
   "metadata": {},
   "source": [
    "You can see that a property is defined by different fields:\n",
    "\n",
    "**name**  \n",
    "The name and identifier of the property. It must be **UNIQUE**: two properties cannot share the same name.\n",
    "\n",
    "**description**  \n",
    "A concise description of the property.\n",
    "\n",
    "**provenance**  \n",
    "Where does the property come from? For imported properties, Pycellin uses the name of the tool the data was imported from, like `TrackMate` or `CTC`. For Pycellin computed properties, Pycellin uses `Pycellin`.\n",
    "\n",
    "**prop_type**  \n",
    "The type of graph element the property applies to, either `node`, `edge`, `lineage`.\n",
    "\n",
    "**lin_type**    \n",
    "Either `CellLineage`, `CycleLineage` or just `Lineage` depending on which type of lineage your property is related to.\n",
    "\n",
    "**dtype**   \n",
    "The Python type of the property values, e.g. `int`, `bool`...\n",
    "\n",
    "**unit**    \n",
    "The unit of the property values, e.g. `µm`, `min`, `cell`..."
   ]
  },
  {
   "cell_type": "markdown",
   "metadata": {},
   "source": [
    "The definition of the all the properties present in a given model is stored into a `PropsMetadata` object as a dictionary (`props`) whose keys are the name of the properties and the values the properties themselves:"
   ]
  },
  {
   "cell_type": "code",
   "execution_count": 47,
   "metadata": {},
   "outputs": [
    {
     "name": "stdout",
     "output_type": "stream",
     "text": [
      "Node properties: QUALITY, POSITION_T, RADIUS, VISIBILITY, MANUAL_SPOT_COLOR, MEAN_INTENSITY_CH1, MEDIAN_INTENSITY_CH1, MIN_INTENSITY_CH1, MAX_INTENSITY_CH1, TOTAL_INTENSITY_CH1, STD_INTENSITY_CH1, MEAN_INTENSITY_CH2, MEDIAN_INTENSITY_CH2, MIN_INTENSITY_CH2, MAX_INTENSITY_CH2, TOTAL_INTENSITY_CH2, STD_INTENSITY_CH2, CONTRAST_CH1, SNR_CH1, CONTRAST_CH2, SNR_CH2, ELLIPSE_X0, ELLIPSE_Y0, ELLIPSE_MAJOR, ELLIPSE_MINOR, ELLIPSE_THETA, ELLIPSE_ASPECTRATIO, AREA, PERIMETER, CIRCULARITY, SOLIDITY, SHAPE_INDEX, cell_name, cell_ID, cell_x, cell_y, cell_z, frame, ROI_coords, cycle_ID, cells, cycle_length, cycle_duration, level\n",
      "Edge properties: SPOT_SOURCE_ID, SPOT_TARGET_ID, LINK_COST, DIRECTIONAL_CHANGE_RATE, SPEED, DISPLACEMENT, EDGE_TIME, MANUAL_EDGE_COLOR, link_x, link_y, link_z\n",
      "Lineage properties: TRACK_INDEX, DIVISION_TIME_MEAN, DIVISION_TIME_STD, NUMBER_SPOTS, NUMBER_GAPS, NUMBER_SPLITS, NUMBER_MERGES, NUMBER_COMPLEX, LONGEST_GAP, TRACK_DURATION, TRACK_START, TRACK_STOP, TRACK_DISPLACEMENT, TRACK_MEAN_SPEED, TRACK_MAX_SPEED, TRACK_MIN_SPEED, TRACK_MEDIAN_SPEED, TRACK_STD_SPEED, TRACK_MEAN_QUALITY, TOTAL_DISTANCE_TRAVELED, MAX_DISTANCE_TRAVELED, CONFINEMENT_RATIO, MEAN_STRAIGHT_LINE_SPEED, LINEARITY_OF_FORWARD_PROGRESSION, MEAN_DIRECTIONAL_CHANGE_RATE, lineage_name, lineage_ID, FilteredTrack, lineage_x, lineage_y, lineage_z\n",
      "\n",
      "Property(identifier='QUALITY', name='Quality', description='Quality', provenance='TrackMate', prop_type='node', lin_type='CellLineage', dtype='float', unit=None)\n",
      "Property(identifier='POSITION_T', name='T', description='T', provenance='TrackMate', prop_type='node', lin_type='CellLineage', dtype='float', unit='minute')\n",
      "Property(identifier='RADIUS', name='Radius', description='Radius', provenance='TrackMate', prop_type='node', lin_type='CellLineage', dtype='float', unit='micrometer')\n",
      "Property(identifier='VISIBILITY', name='Visibility', description='Visibility', provenance='TrackMate', prop_type='node', lin_type='CellLineage', dtype='int', unit=None)\n",
      "Property(identifier='MANUAL_SPOT_COLOR', name='Manual spot color', description='Manual spot color', provenance='TrackMate', prop_type='node', lin_type='CellLineage', dtype='int', unit=None)\n",
      "Property(identifier='MEAN_INTENSITY_CH1', name='Mean intensity ch1', description='Mean intensity ch1', provenance='TrackMate', prop_type='node', lin_type='CellLineage', dtype='float', unit=None)\n",
      "Property(identifier='MEDIAN_INTENSITY_CH1', name='Median intensity ch1', description='Median intensity ch1', provenance='TrackMate', prop_type='node', lin_type='CellLineage', dtype='float', unit=None)\n",
      "Property(identifier='MIN_INTENSITY_CH1', name='Min intensity ch1', description='Min intensity ch1', provenance='TrackMate', prop_type='node', lin_type='CellLineage', dtype='float', unit=None)\n",
      "Property(identifier='MAX_INTENSITY_CH1', name='Max intensity ch1', description='Max intensity ch1', provenance='TrackMate', prop_type='node', lin_type='CellLineage', dtype='float', unit=None)\n",
      "Property(identifier='TOTAL_INTENSITY_CH1', name='Sum intensity ch1', description='Sum intensity ch1', provenance='TrackMate', prop_type='node', lin_type='CellLineage', dtype='float', unit=None)\n",
      "Property(identifier='STD_INTENSITY_CH1', name='Std intensity ch1', description='Std intensity ch1', provenance='TrackMate', prop_type='node', lin_type='CellLineage', dtype='float', unit=None)\n",
      "Property(identifier='MEAN_INTENSITY_CH2', name='Mean intensity ch2', description='Mean intensity ch2', provenance='TrackMate', prop_type='node', lin_type='CellLineage', dtype='float', unit=None)\n",
      "Property(identifier='MEDIAN_INTENSITY_CH2', name='Median intensity ch2', description='Median intensity ch2', provenance='TrackMate', prop_type='node', lin_type='CellLineage', dtype='float', unit=None)\n",
      "Property(identifier='MIN_INTENSITY_CH2', name='Min intensity ch2', description='Min intensity ch2', provenance='TrackMate', prop_type='node', lin_type='CellLineage', dtype='float', unit=None)\n",
      "Property(identifier='MAX_INTENSITY_CH2', name='Max intensity ch2', description='Max intensity ch2', provenance='TrackMate', prop_type='node', lin_type='CellLineage', dtype='float', unit=None)\n",
      "Property(identifier='TOTAL_INTENSITY_CH2', name='Sum intensity ch2', description='Sum intensity ch2', provenance='TrackMate', prop_type='node', lin_type='CellLineage', dtype='float', unit=None)\n",
      "Property(identifier='STD_INTENSITY_CH2', name='Std intensity ch2', description='Std intensity ch2', provenance='TrackMate', prop_type='node', lin_type='CellLineage', dtype='float', unit=None)\n",
      "Property(identifier='CONTRAST_CH1', name='Contrast ch1', description='Contrast ch1', provenance='TrackMate', prop_type='node', lin_type='CellLineage', dtype='float', unit=None)\n",
      "Property(identifier='SNR_CH1', name='Signal/Noise ratio ch1', description='Signal/Noise ratio ch1', provenance='TrackMate', prop_type='node', lin_type='CellLineage', dtype='float', unit=None)\n",
      "Property(identifier='CONTRAST_CH2', name='Contrast ch2', description='Contrast ch2', provenance='TrackMate', prop_type='node', lin_type='CellLineage', dtype='float', unit=None)\n",
      "Property(identifier='SNR_CH2', name='Signal/Noise ratio ch2', description='Signal/Noise ratio ch2', provenance='TrackMate', prop_type='node', lin_type='CellLineage', dtype='float', unit=None)\n",
      "Property(identifier='ELLIPSE_X0', name='Ellipse center x0', description='Ellipse center x0', provenance='TrackMate', prop_type='node', lin_type='CellLineage', dtype='float', unit='micrometer')\n",
      "Property(identifier='ELLIPSE_Y0', name='Ellipse center y0', description='Ellipse center y0', provenance='TrackMate', prop_type='node', lin_type='CellLineage', dtype='float', unit='micrometer')\n",
      "Property(identifier='ELLIPSE_MAJOR', name='Ellipse long axis', description='Ellipse long axis', provenance='TrackMate', prop_type='node', lin_type='CellLineage', dtype='float', unit='micrometer')\n",
      "Property(identifier='ELLIPSE_MINOR', name='Ellipse short axis', description='Ellipse short axis', provenance='TrackMate', prop_type='node', lin_type='CellLineage', dtype='float', unit='micrometer')\n",
      "Property(identifier='ELLIPSE_THETA', name='Ellipse angle', description='Ellipse angle', provenance='TrackMate', prop_type='node', lin_type='CellLineage', dtype='float', unit='rad')\n",
      "Property(identifier='ELLIPSE_ASPECTRATIO', name='Ellipse aspect ratio', description='Ellipse aspect ratio', provenance='TrackMate', prop_type='node', lin_type='CellLineage', dtype='float', unit=None)\n",
      "Property(identifier='AREA', name='Area', description='Area', provenance='TrackMate', prop_type='node', lin_type='CellLineage', dtype='float', unit='micrometer^2')\n",
      "Property(identifier='PERIMETER', name='Perimeter', description='Perimeter', provenance='TrackMate', prop_type='node', lin_type='CellLineage', dtype='float', unit='micrometer')\n",
      "Property(identifier='CIRCULARITY', name='Circularity', description='Circularity', provenance='TrackMate', prop_type='node', lin_type='CellLineage', dtype='float', unit=None)\n",
      "Property(identifier='SOLIDITY', name='Solidity', description='Solidity', provenance='TrackMate', prop_type='node', lin_type='CellLineage', dtype='float', unit=None)\n",
      "Property(identifier='SHAPE_INDEX', name='Shape index', description='Shape index', provenance='TrackMate', prop_type='node', lin_type='CellLineage', dtype='float', unit=None)\n",
      "Property(identifier='cell_name', name='cell name', description='Name of the spot', provenance='TrackMate', prop_type='node', lin_type='CellLineage', dtype='string', unit=None)\n",
      "Property(identifier='SPOT_SOURCE_ID', name='Source spot ID', description='Source spot ID', provenance='TrackMate', prop_type='edge', lin_type='CellLineage', dtype='int', unit=None)\n",
      "Property(identifier='SPOT_TARGET_ID', name='Target spot ID', description='Target spot ID', provenance='TrackMate', prop_type='edge', lin_type='CellLineage', dtype='int', unit=None)\n",
      "Property(identifier='LINK_COST', name='Edge cost', description='Edge cost', provenance='TrackMate', prop_type='edge', lin_type='CellLineage', dtype='float', unit=None)\n",
      "Property(identifier='DIRECTIONAL_CHANGE_RATE', name='Directional change rate', description='Directional change rate', provenance='TrackMate', prop_type='edge', lin_type='CellLineage', dtype='float', unit='rad/minute')\n",
      "Property(identifier='SPEED', name='Speed', description='Speed', provenance='TrackMate', prop_type='edge', lin_type='CellLineage', dtype='float', unit='micrometer/minute')\n",
      "Property(identifier='DISPLACEMENT', name='Displacement', description='Displacement', provenance='TrackMate', prop_type='edge', lin_type='CellLineage', dtype='float', unit='micrometer')\n",
      "Property(identifier='EDGE_TIME', name='Edge time', description='Edge time', provenance='TrackMate', prop_type='edge', lin_type='CellLineage', dtype='float', unit='minute')\n",
      "Property(identifier='MANUAL_EDGE_COLOR', name='Manual edge color', description='Manual edge color', provenance='TrackMate', prop_type='edge', lin_type='CellLineage', dtype='int', unit=None)\n",
      "Property(identifier='TRACK_INDEX', name='Track index', description='Track index', provenance='TrackMate', prop_type='lineage', lin_type='CellLineage', dtype='int', unit=None)\n",
      "Property(identifier='DIVISION_TIME_MEAN', name='Mean cell division time', description='Mean cell division time', provenance='TrackMate', prop_type='lineage', lin_type='CellLineage', dtype='float', unit='minute')\n",
      "Property(identifier='DIVISION_TIME_STD', name='Std cell division time', description='Std cell division time', provenance='TrackMate', prop_type='lineage', lin_type='CellLineage', dtype='float', unit='minute')\n",
      "Property(identifier='NUMBER_SPOTS', name='Number of spots in track', description='Number of spots in track', provenance='TrackMate', prop_type='lineage', lin_type='CellLineage', dtype='int', unit=None)\n",
      "Property(identifier='NUMBER_GAPS', name='Number of gaps', description='Number of gaps', provenance='TrackMate', prop_type='lineage', lin_type='CellLineage', dtype='int', unit=None)\n",
      "Property(identifier='NUMBER_SPLITS', name='Number of split events', description='Number of split events', provenance='TrackMate', prop_type='lineage', lin_type='CellLineage', dtype='int', unit=None)\n",
      "Property(identifier='NUMBER_MERGES', name='Number of merge events', description='Number of merge events', provenance='TrackMate', prop_type='lineage', lin_type='CellLineage', dtype='int', unit=None)\n",
      "Property(identifier='NUMBER_COMPLEX', name='Number of complex points', description='Number of complex points', provenance='TrackMate', prop_type='lineage', lin_type='CellLineage', dtype='int', unit=None)\n",
      "Property(identifier='LONGEST_GAP', name='Longest gap', description='Longest gap', provenance='TrackMate', prop_type='lineage', lin_type='CellLineage', dtype='int', unit=None)\n",
      "Property(identifier='TRACK_DURATION', name='Track duration', description='Track duration', provenance='TrackMate', prop_type='lineage', lin_type='CellLineage', dtype='float', unit='minute')\n",
      "Property(identifier='TRACK_START', name='Track start', description='Track start', provenance='TrackMate', prop_type='lineage', lin_type='CellLineage', dtype='float', unit='minute')\n",
      "Property(identifier='TRACK_STOP', name='Track stop', description='Track stop', provenance='TrackMate', prop_type='lineage', lin_type='CellLineage', dtype='float', unit='minute')\n",
      "Property(identifier='TRACK_DISPLACEMENT', name='Track displacement', description='Track displacement', provenance='TrackMate', prop_type='lineage', lin_type='CellLineage', dtype='float', unit='micrometer')\n",
      "Property(identifier='TRACK_MEAN_SPEED', name='Track mean speed', description='Track mean speed', provenance='TrackMate', prop_type='lineage', lin_type='CellLineage', dtype='float', unit='micrometer/minute')\n",
      "Property(identifier='TRACK_MAX_SPEED', name='Track max speed', description='Track max speed', provenance='TrackMate', prop_type='lineage', lin_type='CellLineage', dtype='float', unit='micrometer/minute')\n",
      "Property(identifier='TRACK_MIN_SPEED', name='Track min speed', description='Track min speed', provenance='TrackMate', prop_type='lineage', lin_type='CellLineage', dtype='float', unit='micrometer/minute')\n",
      "Property(identifier='TRACK_MEDIAN_SPEED', name='Track median speed', description='Track median speed', provenance='TrackMate', prop_type='lineage', lin_type='CellLineage', dtype='float', unit='micrometer/minute')\n",
      "Property(identifier='TRACK_STD_SPEED', name='Track std speed', description='Track std speed', provenance='TrackMate', prop_type='lineage', lin_type='CellLineage', dtype='float', unit='micrometer/minute')\n",
      "Property(identifier='TRACK_MEAN_QUALITY', name='Track mean quality', description='Track mean quality', provenance='TrackMate', prop_type='lineage', lin_type='CellLineage', dtype='float', unit=None)\n",
      "Property(identifier='TOTAL_DISTANCE_TRAVELED', name='Total distance traveled', description='Total distance traveled', provenance='TrackMate', prop_type='lineage', lin_type='CellLineage', dtype='float', unit='micrometer')\n",
      "Property(identifier='MAX_DISTANCE_TRAVELED', name='Max distance traveled', description='Max distance traveled', provenance='TrackMate', prop_type='lineage', lin_type='CellLineage', dtype='float', unit='micrometer')\n",
      "Property(identifier='CONFINEMENT_RATIO', name='Confinement ratio', description='Confinement ratio', provenance='TrackMate', prop_type='lineage', lin_type='CellLineage', dtype='float', unit=None)\n",
      "Property(identifier='MEAN_STRAIGHT_LINE_SPEED', name='Mean straight line speed', description='Mean straight line speed', provenance='TrackMate', prop_type='lineage', lin_type='CellLineage', dtype='float', unit='micrometer/minute')\n",
      "Property(identifier='LINEARITY_OF_FORWARD_PROGRESSION', name='Linearity of forward progression', description='Linearity of forward progression', provenance='TrackMate', prop_type='lineage', lin_type='CellLineage', dtype='float', unit=None)\n",
      "Property(identifier='MEAN_DIRECTIONAL_CHANGE_RATE', name='Mean directional change rate', description='Mean directional change rate', provenance='TrackMate', prop_type='lineage', lin_type='CellLineage', dtype='float', unit='rad/minute')\n",
      "Property(identifier='lineage_name', name='lineage name', description='Name of the track', provenance='TrackMate', prop_type='lineage', lin_type='CellLineage', dtype='string', unit=None)\n",
      "Property(identifier='cell_ID', name='cell ID', description='Unique identifier of the cell', provenance='TrackMate', prop_type='node', lin_type='CellLineage', dtype='int', unit=None)\n",
      "Property(identifier='cell_x', name='X', description='X coordinate of the cell', provenance='TrackMate', prop_type='node', lin_type='CellLineage', dtype='float', unit='micrometer')\n",
      "Property(identifier='cell_y', name='Y', description='Y coordinate of the cell', provenance='TrackMate', prop_type='node', lin_type='CellLineage', dtype='float', unit='micrometer')\n",
      "Property(identifier='cell_z', name='Z', description='Z coordinate of the cell', provenance='TrackMate', prop_type='node', lin_type='CellLineage', dtype='float', unit='micrometer')\n",
      "Property(identifier='frame', name='Frame', description='Frame', provenance='TrackMate', prop_type='node', lin_type='CellLineage', dtype='int', unit=None)\n",
      "Property(identifier='ROI_coords', name='ROI coords', description='List of coordinates of the region of interest', provenance='TrackMate', prop_type='node', lin_type='CellLineage', dtype='float', unit='micrometer')\n",
      "Property(identifier='link_x', name='Edge X', description='X coordinate of the link, i.e. mean coordinate of its two cells', provenance='TrackMate', prop_type='edge', lin_type='CellLineage', dtype='float', unit='micrometer')\n",
      "Property(identifier='link_y', name='Edge Y', description='Y coordinate of the link, i.e. mean coordinate of its two cells', provenance='TrackMate', prop_type='edge', lin_type='CellLineage', dtype='float', unit='micrometer')\n",
      "Property(identifier='link_z', name='Edge Z', description='Z coordinate of the link, i.e. mean coordinate of its two cells', provenance='TrackMate', prop_type='edge', lin_type='CellLineage', dtype='float', unit='micrometer')\n",
      "Property(identifier='lineage_ID', name='Track ID', description='Unique identifier of the lineage', provenance='TrackMate', prop_type='lineage', lin_type='CellLineage', dtype='int', unit=None)\n",
      "Property(identifier='FilteredTrack', name='FilteredTrack', description='True if the track was not filtered out in TrackMate', provenance='TrackMate', prop_type='lineage', lin_type='CellLineage', dtype='int', unit=None)\n",
      "Property(identifier='lineage_x', name='Track mean X', description='X coordinate of the lineage, i.e. mean coordinate of its cells', provenance='TrackMate', prop_type='lineage', lin_type='CellLineage', dtype='float', unit='micrometer')\n",
      "Property(identifier='lineage_y', name='Track mean Y', description='Y coordinate of the lineage, i.e. mean coordinate of its cells', provenance='TrackMate', prop_type='lineage', lin_type='CellLineage', dtype='float', unit='micrometer')\n",
      "Property(identifier='lineage_z', name='Track mean Z', description='Z coordinate of the lineage, i.e. mean coordinate of its cells', provenance='TrackMate', prop_type='lineage', lin_type='CellLineage', dtype='float', unit='micrometer')\n",
      "Property(identifier='cycle_ID', name='cycle ID', description='Unique identifier of the cell cycle, i.e. cell_ID of the last cell in the cell cycle', provenance='pycellin', prop_type='node', lin_type='CycleLineage', dtype='int', unit=None)\n",
      "Property(identifier='cells', name='cells', description='cell_IDs of the cells in the cell cycle, in chronological order', provenance='pycellin', prop_type='node', lin_type='CycleLineage', dtype='list[int]', unit=None)\n",
      "Property(identifier='cycle_length', name='cycle length', description='Number of cells in the cell cycle, minding gaps', provenance='pycellin', prop_type='node', lin_type='CycleLineage', dtype='int', unit=None)\n",
      "Property(identifier='cycle_duration', name='cycle duration', description='Number of frames in the cell cycle, regardless of gaps', provenance='pycellin', prop_type='node', lin_type='CycleLineage', dtype='int', unit='frame')\n",
      "Property(identifier='level', name='level', description='Level of the cell cycle in the lineage, i.e. number of cell cycles upstream of the current one', provenance='pycellin', prop_type='node', lin_type='CycleLineage', dtype='int', unit=None)\n"
     ]
    }
   ],
   "source": [
    "print(tm_model.props_metadata)\n",
    "print()\n",
    "for prop in tm_model.props_metadata.props.values():\n",
    "    print(f\"{prop!r}\")"
   ]
  },
  {
   "cell_type": "markdown",
   "metadata": {},
   "source": [
    "This might seem complicated but usually you don't need to manipulate the property declaration nor its properties dictionary. The properties present (i.e. declared) in a model are accessible via the model itself:"
   ]
  },
  {
   "cell_type": "code",
   "execution_count": 48,
   "metadata": {},
   "outputs": [
    {
     "name": "stdout",
     "output_type": "stream",
     "text": [
      "dict_keys(['QUALITY', 'POSITION_T', 'RADIUS', 'VISIBILITY', 'MANUAL_SPOT_COLOR', 'MEAN_INTENSITY_CH1', 'MEDIAN_INTENSITY_CH1', 'MIN_INTENSITY_CH1', 'MAX_INTENSITY_CH1', 'TOTAL_INTENSITY_CH1', 'STD_INTENSITY_CH1', 'MEAN_INTENSITY_CH2', 'MEDIAN_INTENSITY_CH2', 'MIN_INTENSITY_CH2', 'MAX_INTENSITY_CH2', 'TOTAL_INTENSITY_CH2', 'STD_INTENSITY_CH2', 'CONTRAST_CH1', 'SNR_CH1', 'CONTRAST_CH2', 'SNR_CH2', 'ELLIPSE_X0', 'ELLIPSE_Y0', 'ELLIPSE_MAJOR', 'ELLIPSE_MINOR', 'ELLIPSE_THETA', 'ELLIPSE_ASPECTRATIO', 'AREA', 'PERIMETER', 'CIRCULARITY', 'SOLIDITY', 'SHAPE_INDEX', 'cell_name', 'SPOT_SOURCE_ID', 'SPOT_TARGET_ID', 'LINK_COST', 'DIRECTIONAL_CHANGE_RATE', 'SPEED', 'DISPLACEMENT', 'EDGE_TIME', 'MANUAL_EDGE_COLOR', 'TRACK_INDEX', 'DIVISION_TIME_MEAN', 'DIVISION_TIME_STD', 'NUMBER_SPOTS', 'NUMBER_GAPS', 'NUMBER_SPLITS', 'NUMBER_MERGES', 'NUMBER_COMPLEX', 'LONGEST_GAP', 'TRACK_DURATION', 'TRACK_START', 'TRACK_STOP', 'TRACK_DISPLACEMENT', 'TRACK_MEAN_SPEED', 'TRACK_MAX_SPEED', 'TRACK_MIN_SPEED', 'TRACK_MEDIAN_SPEED', 'TRACK_STD_SPEED', 'TRACK_MEAN_QUALITY', 'TOTAL_DISTANCE_TRAVELED', 'MAX_DISTANCE_TRAVELED', 'CONFINEMENT_RATIO', 'MEAN_STRAIGHT_LINE_SPEED', 'LINEARITY_OF_FORWARD_PROGRESSION', 'MEAN_DIRECTIONAL_CHANGE_RATE', 'lineage_name', 'cell_ID', 'cell_x', 'cell_y', 'cell_z', 'frame', 'ROI_coords', 'link_x', 'link_y', 'link_z', 'lineage_ID', 'FilteredTrack', 'lineage_x', 'lineage_y', 'lineage_z', 'cycle_ID', 'cells', 'cycle_length', 'cycle_duration', 'level'])\n"
     ]
    }
   ],
   "source": [
    "print(tm_model.get_properties().keys())"
   ]
  },
  {
   "cell_type": "markdown",
   "metadata": {},
   "source": [
    "A few handy methods allow to get a specific subset of declared properties:"
   ]
  },
  {
   "cell_type": "code",
   "execution_count": 49,
   "metadata": {},
   "outputs": [
    {
     "name": "stdout",
     "output_type": "stream",
     "text": [
      "Node properties: dict_keys(['QUALITY', 'POSITION_T', 'RADIUS', 'VISIBILITY', 'MANUAL_SPOT_COLOR', 'MEAN_INTENSITY_CH1', 'MEDIAN_INTENSITY_CH1', 'MIN_INTENSITY_CH1', 'MAX_INTENSITY_CH1', 'TOTAL_INTENSITY_CH1', 'STD_INTENSITY_CH1', 'MEAN_INTENSITY_CH2', 'MEDIAN_INTENSITY_CH2', 'MIN_INTENSITY_CH2', 'MAX_INTENSITY_CH2', 'TOTAL_INTENSITY_CH2', 'STD_INTENSITY_CH2', 'CONTRAST_CH1', 'SNR_CH1', 'CONTRAST_CH2', 'SNR_CH2', 'ELLIPSE_X0', 'ELLIPSE_Y0', 'ELLIPSE_MAJOR', 'ELLIPSE_MINOR', 'ELLIPSE_THETA', 'ELLIPSE_ASPECTRATIO', 'AREA', 'PERIMETER', 'CIRCULARITY', 'SOLIDITY', 'SHAPE_INDEX', 'cell_name', 'cell_ID', 'cell_x', 'cell_y', 'cell_z', 'frame', 'ROI_coords', 'cycle_ID', 'cells', 'cycle_length', 'cycle_duration', 'level'])\n",
      "Edge properties: dict_keys(['SPOT_SOURCE_ID', 'SPOT_TARGET_ID', 'LINK_COST', 'DIRECTIONAL_CHANGE_RATE', 'SPEED', 'DISPLACEMENT', 'EDGE_TIME', 'MANUAL_EDGE_COLOR', 'link_x', 'link_y', 'link_z'])\n",
      "Lineage properties: dict_keys(['TRACK_INDEX', 'DIVISION_TIME_MEAN', 'DIVISION_TIME_STD', 'NUMBER_SPOTS', 'NUMBER_GAPS', 'NUMBER_SPLITS', 'NUMBER_MERGES', 'NUMBER_COMPLEX', 'LONGEST_GAP', 'TRACK_DURATION', 'TRACK_START', 'TRACK_STOP', 'TRACK_DISPLACEMENT', 'TRACK_MEAN_SPEED', 'TRACK_MAX_SPEED', 'TRACK_MIN_SPEED', 'TRACK_MEDIAN_SPEED', 'TRACK_STD_SPEED', 'TRACK_MEAN_QUALITY', 'TOTAL_DISTANCE_TRAVELED', 'MAX_DISTANCE_TRAVELED', 'CONFINEMENT_RATIO', 'MEAN_STRAIGHT_LINE_SPEED', 'LINEARITY_OF_FORWARD_PROGRESSION', 'MEAN_DIRECTIONAL_CHANGE_RATE', 'lineage_name', 'lineage_ID', 'FilteredTrack', 'lineage_x', 'lineage_y', 'lineage_z'])\n",
      "\n",
      "Cell lineage properties: dict_keys(['QUALITY', 'POSITION_T', 'RADIUS', 'VISIBILITY', 'MANUAL_SPOT_COLOR', 'MEAN_INTENSITY_CH1', 'MEDIAN_INTENSITY_CH1', 'MIN_INTENSITY_CH1', 'MAX_INTENSITY_CH1', 'TOTAL_INTENSITY_CH1', 'STD_INTENSITY_CH1', 'MEAN_INTENSITY_CH2', 'MEDIAN_INTENSITY_CH2', 'MIN_INTENSITY_CH2', 'MAX_INTENSITY_CH2', 'TOTAL_INTENSITY_CH2', 'STD_INTENSITY_CH2', 'CONTRAST_CH1', 'SNR_CH1', 'CONTRAST_CH2', 'SNR_CH2', 'ELLIPSE_X0', 'ELLIPSE_Y0', 'ELLIPSE_MAJOR', 'ELLIPSE_MINOR', 'ELLIPSE_THETA', 'ELLIPSE_ASPECTRATIO', 'AREA', 'PERIMETER', 'CIRCULARITY', 'SOLIDITY', 'SHAPE_INDEX', 'cell_name', 'SPOT_SOURCE_ID', 'SPOT_TARGET_ID', 'LINK_COST', 'DIRECTIONAL_CHANGE_RATE', 'SPEED', 'DISPLACEMENT', 'EDGE_TIME', 'MANUAL_EDGE_COLOR', 'TRACK_INDEX', 'DIVISION_TIME_MEAN', 'DIVISION_TIME_STD', 'NUMBER_SPOTS', 'NUMBER_GAPS', 'NUMBER_SPLITS', 'NUMBER_MERGES', 'NUMBER_COMPLEX', 'LONGEST_GAP', 'TRACK_DURATION', 'TRACK_START', 'TRACK_STOP', 'TRACK_DISPLACEMENT', 'TRACK_MEAN_SPEED', 'TRACK_MAX_SPEED', 'TRACK_MIN_SPEED', 'TRACK_MEDIAN_SPEED', 'TRACK_STD_SPEED', 'TRACK_MEAN_QUALITY', 'TOTAL_DISTANCE_TRAVELED', 'MAX_DISTANCE_TRAVELED', 'CONFINEMENT_RATIO', 'MEAN_STRAIGHT_LINE_SPEED', 'LINEARITY_OF_FORWARD_PROGRESSION', 'MEAN_DIRECTIONAL_CHANGE_RATE', 'lineage_name', 'cell_ID', 'cell_x', 'cell_y', 'cell_z', 'frame', 'ROI_coords', 'link_x', 'link_y', 'link_z', 'lineage_ID', 'FilteredTrack', 'lineage_x', 'lineage_y', 'lineage_z'])\n",
      "Cycle lineage properties: dict_keys(['cycle_ID', 'cells', 'cycle_length', 'cycle_duration', 'level'])\n"
     ]
    }
   ],
   "source": [
    "print(f\"Node properties: {tm_model.get_node_properties().keys()}\")\n",
    "print(f\"Edge properties: {tm_model.get_edge_properties().keys()}\")\n",
    "print(f\"Lineage properties: {tm_model.get_lineage_properties().keys()}\\n\")\n",
    "\n",
    "print(f\"Cell lineage properties: {tm_model.get_cell_lineage_properties().keys()}\")\n",
    "print(f\"Cycle lineage properties: {tm_model.get_cycle_lineage_properties().keys()}\")"
   ]
  },
  {
   "cell_type": "markdown",
   "metadata": {},
   "source": [
    "## Managing properties\n",
    "\n",
    "*Just the basics here, ref the properties notebooks*  \n",
    "[Managing properties](./Managing%20properties.ipynb)  \n",
    "[Custom properties](Custom%20properties.ipynb)"
   ]
  },
  {
   "cell_type": "markdown",
   "metadata": {},
   "source": [
    "Make a table of properties, mandatory, prop type, lin type\n",
    "- cell_ID\n",
    "- frame\n",
    "- lineage_ID"
   ]
  },
  {
   "cell_type": "markdown",
   "metadata": {},
   "source": [
    "Like previous section, we are using the TrackMate model as example."
   ]
  },
  {
   "cell_type": "code",
   "execution_count": 50,
   "metadata": {},
   "outputs": [
    {
     "name": "stdout",
     "output_type": "stream",
     "text": [
      "Model named 'Ecoli_growth_on_agar_pad' with 3 lineages, built from TrackMate.\n"
     ]
    }
   ],
   "source": [
    "print(tm_model)"
   ]
  },
  {
   "cell_type": "markdown",
   "metadata": {},
   "source": [
    "## Modification of the lineages"
   ]
  },
  {
   "cell_type": "markdown",
   "metadata": {},
   "source": [
    "Depending on what you want to do, you may need to manually modify a cell lineage: to remove fusion events, to correct tracking mistakes... or even to totally delete the lineage. Here we cover all the methods that allows you to modify the lineages topology."
   ]
  },
  {
   "cell_type": "markdown",
   "metadata": {},
   "source": [
    "### Adding and removing a lineage"
   ]
  },
  {
   "cell_type": "markdown",
   "metadata": {},
   "source": [
    "To add a lineage to a model, we can first create a new lineage."
   ]
  },
  {
   "cell_type": "code",
   "execution_count": 51,
   "metadata": {},
   "outputs": [
    {
     "name": "stdout",
     "output_type": "stream",
     "text": [
      "CellLineage of ID 4 with 0 cells and 0 links.\n"
     ]
    }
   ],
   "source": [
    "# Creation of the new and empty lineage.\n",
    "new_lin = pycellin.CellLineage(lid=4)  # a lineage_ID is mandatory here\n",
    "# Adding the lineage to the model.\n",
    "new_lin_ID = tm_model.add_lineage(new_lin)\n",
    "print(tm_model.get_cell_lineage_from_ID(new_lin_ID))"
   ]
  },
  {
   "cell_type": "markdown",
   "metadata": {},
   "source": [
    "Or let Pycellin create the empty lineage by itself:"
   ]
  },
  {
   "cell_type": "code",
   "execution_count": 52,
   "metadata": {},
   "outputs": [
    {
     "name": "stdout",
     "output_type": "stream",
     "text": [
      "CellLineage of ID 5 with 0 cells and 0 links.\n"
     ]
    }
   ],
   "source": [
    "new_lin_ID = tm_model.add_lineage()\n",
    "print(tm_model.get_cell_lineage_from_ID(new_lin_ID))"
   ]
  },
  {
   "cell_type": "markdown",
   "metadata": {},
   "source": [
    "Or just specify a lineage ID:"
   ]
  },
  {
   "cell_type": "code",
   "execution_count": 53,
   "metadata": {},
   "outputs": [
    {
     "name": "stdout",
     "output_type": "stream",
     "text": [
      "CellLineage of ID 10 with 0 cells and 0 links.\n"
     ]
    }
   ],
   "source": [
    "new_lin_ID = tm_model.add_lineage(lid=10)\n",
    "print(tm_model.get_cell_lineage_from_ID(new_lin_ID))"
   ]
  },
  {
   "cell_type": "markdown",
   "metadata": {},
   "source": [
    "To remove a lineage from a model, just specify the lineage_ID to `remove_lineage()`. The removed lineage is returned in case it is needed later."
   ]
  },
  {
   "cell_type": "code",
   "execution_count": 54,
   "metadata": {},
   "outputs": [
    {
     "name": "stdout",
     "output_type": "stream",
     "text": [
      "CellLineage of ID 10 with 0 cells and 0 links.\n"
     ]
    }
   ],
   "source": [
    "removed_lin = tm_model.remove_lineage(10)\n",
    "print(removed_lin)"
   ]
  },
  {
   "cell_type": "markdown",
   "metadata": {},
   "source": [
    "### Adding and removing cells"
   ]
  },
  {
   "cell_type": "markdown",
   "metadata": {},
   "source": [
    "To add a cell, simply call the `add_cell()` method:"
   ]
  },
  {
   "cell_type": "code",
   "execution_count": 55,
   "metadata": {},
   "outputs": [
    {
     "data": {
      "text/plain": [
       "1000"
      ]
     },
     "execution_count": 55,
     "metadata": {},
     "output_type": "execute_result"
    }
   ],
   "source": [
    "# Adding a cell with ID 1000 to lineage 1 at frame 22.\n",
    "tm_model.add_cell(\n",
    "    lid=1,\n",
    "    cid=1000,\n",
    "    frame=22,\n",
    ")"
   ]
  },
  {
   "cell_type": "markdown",
   "metadata": {},
   "source": [
    "If no `cell_ID` is given, Pycellin will use the next available `cell_ID` and return the value. If no `frame` is given, Pycellin will automatically put the cell at frame 0."
   ]
  },
  {
   "cell_type": "code",
   "execution_count": 56,
   "metadata": {},
   "outputs": [
    {
     "name": "stdout",
     "output_type": "stream",
     "text": [
      "New cell ID: 9509\n"
     ]
    }
   ],
   "source": [
    "# Adding a new cell.\n",
    "new_cell_ID = tm_model.add_cell(\n",
    "    lid=1,\n",
    ")\n",
    "print(f\"New cell ID: {new_cell_ID}\")\n",
    "\n",
    "# Then adding some properties that can't be computed to it.\n",
    "lin1.nodes[new_cell_ID][\"cell_x\"] = 1.5\n",
    "lin1.nodes[new_cell_ID][\"cell_y\"] = 2.5\n",
    "lin1.nodes[new_cell_ID][\"cell_z\"] = 0"
   ]
  },
  {
   "cell_type": "markdown",
   "metadata": {},
   "source": [
    "Properties values can also be assigned at cell creation with the `prop_values` argument, a dictionary with property names as key and property values as values:"
   ]
  },
  {
   "cell_type": "code",
   "execution_count": 57,
   "metadata": {},
   "outputs": [
    {
     "name": "stdout",
     "output_type": "stream",
     "text": [
      "{'cell_x': 1, 'cell_y': 2, 'cell_z': 0, 'cell_ID': 9510, 'frame': 1}\n"
     ]
    }
   ],
   "source": [
    "# Adding a new cell with some property values.\n",
    "new_cell_ID = tm_model.add_cell(\n",
    "    lid=1,\n",
    "    frame=1,\n",
    "    prop_values={\"cell_x\": 1, \"cell_y\": 2, \"cell_z\": 0},\n",
    ")\n",
    "print(lin1.nodes[new_cell_ID])"
   ]
  },
  {
   "cell_type": "markdown",
   "metadata": {},
   "source": [
    "To remove a cell, the `remove_cell()` method needs the ID of the cell to remove as well as the lineage ID. The properties dictionary of the removed node is returned."
   ]
  },
  {
   "cell_type": "code",
   "execution_count": 58,
   "metadata": {},
   "outputs": [
    {
     "data": {
      "text/plain": [
       "{'cell_ID': 9509, 'frame': 0, 'cell_x': 1.5, 'cell_y': 2.5, 'cell_z': 0}"
      ]
     },
     "execution_count": 58,
     "metadata": {},
     "output_type": "execute_result"
    }
   ],
   "source": [
    "tm_model.remove_cell(cid=9509, lid=1)"
   ]
  },
  {
   "cell_type": "markdown",
   "metadata": {},
   "source": [
    "### Adding and removing links"
   ]
  },
  {
   "cell_type": "markdown",
   "metadata": {},
   "source": [
    "Two cells can be linked with the `add_link()` method. It requires the ID of the 2 cells as well as the ID(s) of the lineage(s) the cells belong to. Like cells, properties values can be passed as a dictionary."
   ]
  },
  {
   "cell_type": "code",
   "execution_count": 59,
   "metadata": {},
   "outputs": [],
   "source": [
    "# Linking two cells of the same lineage.\n",
    "tm_model.add_link(\n",
    "    source_cid=9503,\n",
    "    source_lid=1,\n",
    "    target_cid=1000,\n",
    "    target_lid=1,  # can be omitted if the same as source\n",
    "    prop_values={\"link_x\": 0.5, \"link_y\": 0.5, \"link_z\": 0},  # optional\n",
    ")"
   ]
  },
  {
   "cell_type": "code",
   "execution_count": 60,
   "metadata": {},
   "outputs": [
    {
     "name": "stdout",
     "output_type": "stream",
     "text": [
      "0\n"
     ]
    }
   ],
   "source": [
    "# Linking two cells from different lineages.\n",
    "# First we need to add a cell to one of our previously created lineage.\n",
    "new_cell_ID = tm_model.add_cell(lid=4, frame=1)\n",
    "print(new_cell_ID)\n",
    "\n",
    "tm_model.add_link(\n",
    "    source_cid=8985,\n",
    "    source_lid=1,\n",
    "    target_cid=new_cell_ID,\n",
    "    target_lid=4,\n",
    ")"
   ]
  },
  {
   "cell_type": "markdown",
   "metadata": {},
   "source": [
    "In the example above, lineage 4 only had one cell, of ID 0. When linking the cell 0, it was removed for lineage 4 and transferred to the source lineage, lineage 1. Lineage 4 is now empty and could be deleted.\n",
    "\n",
    "We can visualize the modifications done on lineage 1 by plotting it:"
   ]
  },
  {
   "cell_type": "code",
   "execution_count": 61,
   "metadata": {},
   "outputs": [
    {
     "data": {
      "application/vnd.plotly.v1+json": {
       "config": {
        "plotlyServerURL": "https://plot.ly"
       },
       "data": [
        {
         "mode": "lines",
         "name": "Edges",
         "text": [],
         "type": "scatter",
         "x": [
          -11.21875,
          -11.21875,
          null,
          -13.46875,
          -13.46875,
          null,
          -9.21875,
          -9.21875,
          null,
          -1.21875,
          -1.21875,
          null,
          7.78125,
          7.78125,
          null,
          0.78125,
          0.78125,
          null,
          9.78125,
          9.78125,
          null,
          11.78125,
          11.78125,
          null,
          13.28125,
          13.28125,
          null,
          2.78125,
          2.78125,
          null,
          6.28125,
          6.28125,
          null,
          4.78125,
          4.78125,
          null,
          -0.21875,
          -1.21875,
          null,
          -0.21875,
          0.78125,
          null,
          -7.21875,
          -7.21875,
          null,
          7.78125,
          7.78125,
          null,
          -5.71875,
          -5.71875,
          null,
          -4.71875,
          -4.71875,
          null,
          -3.21875,
          -3.21875,
          null,
          -11.21875,
          -11.21875,
          null,
          9.78125,
          9.78125,
          null,
          12.53125,
          12.53125,
          null,
          5.03125,
          3.78125,
          null,
          5.03125,
          6.28125,
          null,
          -6.46875,
          -7.21875,
          null,
          -6.46875,
          -5.71875,
          null,
          -4.71875,
          -4.71875,
          null,
          -9.21875,
          -9.21875,
          null,
          2.78125,
          2.28125,
          null,
          2.78125,
          3.28125,
          null,
          -13.46875,
          -13.46875,
          null,
          -3.21875,
          -3.21875,
          null,
          0.78125,
          0.78125,
          null,
          13.28125,
          13.28125,
          null,
          7.78125,
          7.78125,
          null,
          -11.21875,
          -10.71875,
          null,
          -11.21875,
          -11.71875,
          null,
          9.78125,
          9.78125,
          null,
          6.28125,
          6.28125,
          null,
          11.78125,
          11.78125,
          null,
          4.78125,
          4.78125,
          null,
          -7.21875,
          -7.21875,
          null,
          -4.71875,
          -4.71875,
          null,
          -3.21875,
          -3.71875,
          null,
          -3.21875,
          -2.71875,
          null,
          -5.71875,
          -5.71875,
          null,
          -1.21875,
          -1.21875,
          null,
          -13.46875,
          -12.71875,
          null,
          -13.46875,
          -14.21875,
          null,
          -9.21875,
          -9.71875,
          null,
          -9.21875,
          -8.71875,
          null,
          0.78125,
          0.78125,
          null,
          7.78125,
          7.28125,
          null,
          7.78125,
          8.28125,
          null,
          -11.71875,
          -11.71875,
          null,
          4.78125,
          4.78125,
          null,
          2.28125,
          2.28125,
          null,
          11.78125,
          11.78125,
          null,
          -4.71875,
          -4.71875,
          null,
          -7.21875,
          -7.71875,
          null,
          -7.21875,
          -6.71875,
          null,
          -3.71875,
          -3.71875,
          null,
          -9.71875,
          -9.71875,
          null,
          -2.71875,
          -2.71875,
          null,
          -14.21875,
          -14.71875,
          null,
          -14.21875,
          -13.71875,
          null,
          -10.71875,
          -10.71875,
          null,
          -8.71875,
          -8.71875,
          null,
          -1.21875,
          -0.71875,
          null,
          -1.21875,
          -1.71875,
          null,
          3.28125,
          3.28125,
          null,
          -12.71875,
          -12.71875,
          null,
          13.28125,
          13.28125,
          null,
          -5.71875,
          -5.71875,
          null,
          6.28125,
          6.28125,
          null,
          9.78125,
          10.28125,
          null,
          9.78125,
          9.28125,
          null,
          7.28125,
          7.28125,
          null,
          0.78125,
          0.28125,
          null,
          0.78125,
          1.28125,
          null,
          -11.71875,
          -11.71875,
          null,
          9.28125,
          9.28125,
          null,
          4.78125,
          5.28125,
          null,
          4.78125,
          4.28125,
          null,
          -7.71875,
          -7.71875,
          null,
          -4.71875,
          -4.71875,
          null,
          -9.71875,
          -9.71875,
          null,
          -2.71875,
          -2.71875,
          null,
          -3.71875,
          -3.71875,
          null,
          -14.71875,
          -14.71875,
          null,
          -8.71875,
          -8.71875,
          null,
          -10.71875,
          -10.71875,
          null,
          -1.71875,
          -1.71875,
          null,
          -13.71875,
          -13.71875,
          null,
          8.28125,
          8.28125,
          null,
          -0.5,
          -1,
          null,
          -0.5,
          0,
          null,
          -0.71875,
          -0.71875,
          null,
          10.28125,
          10.28125,
          null,
          11.78125,
          11.28125,
          null,
          11.78125,
          12.28125,
          null,
          3.28125,
          3.28125,
          null,
          -8.53125,
          -8.53125,
          null,
          -1,
          -8.53125,
          null,
          -1,
          6.53125,
          null,
          -6.71875,
          -6.71875,
          null,
          -12.71875,
          -12.71875,
          null,
          -5.71875,
          -5.71875,
          null,
          13.28125,
          13.28125,
          null,
          6.53125,
          6.53125,
          null,
          2.28125,
          2.28125,
          null,
          6.28125,
          6.28125,
          null,
          -8.53125,
          -8.53125,
          null,
          6.53125,
          6.53125,
          null,
          6.53125,
          6.53125,
          null,
          -8.53125,
          -8.53125,
          null,
          -1,
          -1,
          null,
          -8.53125,
          -8.53125,
          null,
          6.53125,
          10.65625,
          null,
          6.53125,
          2.40625,
          null,
          -11.84375,
          -11.84375,
          null,
          2.40625,
          2.40625,
          null,
          -5.21875,
          -5.21875,
          null,
          10.65625,
          10.65625,
          null,
          2.40625,
          2.40625,
          null,
          -8.53125,
          -5.21875,
          null,
          -8.53125,
          -11.84375,
          null,
          10.65625,
          10.65625,
          null,
          -11.84375,
          -11.84375,
          null,
          2.40625,
          2.40625,
          null,
          10.65625,
          12.53125,
          null,
          10.65625,
          8.78125,
          null,
          -5.21875,
          -5.21875,
          null,
          -11.84375,
          -11.84375,
          null,
          2.40625,
          2.40625,
          null,
          10.65625,
          10.65625,
          null,
          -5.21875,
          -5.21875,
          null,
          -0.21875,
          -0.21875,
          null,
          8.78125,
          8.78125,
          null,
          12.53125,
          12.53125,
          null,
          -13.46875,
          -13.46875,
          null,
          -10.21875,
          -10.21875,
          null,
          8.78125,
          8.78125,
          null,
          -5.21875,
          -6.46875,
          null,
          -5.21875,
          -3.96875,
          null,
          5.03125,
          5.03125,
          null,
          -11.84375,
          -13.46875,
          null,
          -11.84375,
          -10.21875,
          null,
          12.53125,
          12.53125,
          null,
          2.40625,
          -0.21875,
          null,
          2.40625,
          5.03125,
          null,
          -5.21875,
          -5.21875,
          null,
          -0.21875,
          -0.21875,
          null,
          8.78125,
          8.78125,
          null,
          2.40625,
          2.40625,
          null,
          12.53125,
          12.53125,
          null,
          -8.53125,
          -8.53125,
          null,
          10.65625,
          10.65625,
          null,
          -13.46875,
          -13.46875,
          null,
          -10.21875,
          -10.21875,
          null,
          5.03125,
          5.03125,
          null,
          -6.46875,
          -6.46875,
          null,
          -0.21875,
          -0.21875,
          null,
          -3.96875,
          -3.96875,
          null,
          -10.21875,
          -11.21875,
          null,
          -10.21875,
          -9.21875,
          null,
          8.78125,
          9.78125,
          null,
          8.78125,
          7.78125,
          null,
          12.53125,
          12.53125,
          null,
          5.03125,
          5.03125,
          null,
          -3.96875,
          -3.21875,
          null,
          -3.96875,
          -4.71875,
          null,
          -6.46875,
          -6.46875,
          null,
          -13.46875,
          -13.46875,
          null,
          7.78125,
          7.78125,
          null,
          -11.21875,
          -11.21875,
          null,
          9.78125,
          9.78125,
          null,
          12.53125,
          13.28125,
          null,
          12.53125,
          11.78125,
          null,
          -7.21875,
          -7.21875,
          null,
          -4.71875,
          -4.71875,
          null,
          -3.21875,
          -3.21875,
          null,
          -5.71875,
          -5.71875,
          null,
          -13.46875,
          -13.46875,
          null,
          -9.21875,
          -9.21875,
          null,
          3.78125,
          2.78125,
          null,
          3.78125,
          4.78125,
          null,
          -1.21875,
          -1.21875,
          null,
          0.78125,
          0.78125,
          null,
          6.28125,
          6.28125,
          null
         ],
         "y": [
          18,
          19,
          null,
          18,
          19,
          null,
          18,
          19,
          null,
          18,
          19,
          null,
          18,
          19,
          null,
          18,
          19,
          null,
          18,
          19,
          null,
          18,
          19,
          null,
          18,
          19,
          null,
          18,
          19,
          null,
          18,
          19,
          null,
          18,
          19,
          null,
          16,
          17,
          null,
          16,
          17,
          null,
          18,
          19,
          null,
          16,
          17,
          null,
          18,
          19,
          null,
          18,
          19,
          null,
          18,
          19,
          null,
          16,
          17,
          null,
          16,
          17,
          null,
          16,
          17,
          null,
          16,
          17,
          null,
          16,
          17,
          null,
          16,
          17,
          null,
          16,
          17,
          null,
          16,
          17,
          null,
          16,
          17,
          null,
          19,
          20,
          null,
          19,
          20,
          null,
          16,
          17,
          null,
          16,
          17,
          null,
          19,
          20,
          null,
          19,
          20,
          null,
          19,
          20,
          null,
          19,
          20,
          null,
          19,
          20,
          null,
          19,
          20,
          null,
          19,
          20,
          null,
          19,
          20,
          null,
          19,
          20,
          null,
          19,
          20,
          null,
          19,
          20,
          null,
          19,
          20,
          null,
          19,
          20,
          null,
          19,
          20,
          null,
          19,
          20,
          null,
          19,
          20,
          null,
          19,
          20,
          null,
          19,
          20,
          null,
          19,
          20,
          null,
          20,
          21,
          null,
          20,
          21,
          null,
          20,
          21,
          null,
          20,
          21,
          null,
          20,
          21,
          null,
          20,
          21,
          null,
          20,
          21,
          null,
          20,
          21,
          null,
          20,
          21,
          null,
          20,
          21,
          null,
          20,
          21,
          null,
          20,
          21,
          null,
          20,
          21,
          null,
          20,
          21,
          null,
          20,
          21,
          null,
          20,
          21,
          null,
          20,
          21,
          null,
          20,
          21,
          null,
          20,
          21,
          null,
          20,
          21,
          null,
          20,
          21,
          null,
          20,
          21,
          null,
          20,
          21,
          null,
          20,
          21,
          null,
          20,
          21,
          null,
          20,
          21,
          null,
          21,
          22,
          null,
          21,
          22,
          null,
          21,
          22,
          null,
          21,
          22,
          null,
          21,
          22,
          null,
          21,
          22,
          null,
          21,
          22,
          null,
          21,
          22,
          null,
          21,
          22,
          null,
          21,
          22,
          null,
          21,
          22,
          null,
          21,
          22,
          null,
          21,
          22,
          null,
          21,
          22,
          null,
          21,
          22,
          null,
          21,
          22,
          null,
          21,
          22,
          null,
          21,
          22,
          null,
          0,
          1,
          null,
          0,
          1,
          null,
          21,
          22,
          null,
          21,
          22,
          null,
          21,
          22,
          null,
          21,
          22,
          null,
          21,
          22,
          null,
          3,
          4,
          null,
          2,
          3,
          null,
          2,
          3,
          null,
          21,
          22,
          null,
          21,
          22,
          null,
          21,
          22,
          null,
          21,
          22,
          null,
          3,
          4,
          null,
          21,
          22,
          null,
          21,
          22,
          null,
          4,
          5,
          null,
          4,
          5,
          null,
          5,
          6,
          null,
          5,
          6,
          null,
          1,
          2,
          null,
          6,
          7,
          null,
          6,
          7,
          null,
          6,
          7,
          null,
          9,
          10,
          null,
          9,
          10,
          null,
          9,
          10,
          null,
          9,
          10,
          null,
          8,
          9,
          null,
          8,
          9,
          null,
          8,
          9,
          null,
          8,
          9,
          null,
          11,
          12,
          null,
          11,
          12,
          null,
          11,
          12,
          null,
          11,
          12,
          null,
          11,
          12,
          null,
          10,
          11,
          null,
          10,
          11,
          null,
          10,
          11,
          null,
          10,
          11,
          null,
          13,
          14,
          null,
          13,
          14,
          null,
          13,
          14,
          null,
          13,
          14,
          null,
          13,
          14,
          null,
          12,
          13,
          null,
          13,
          14,
          null,
          13,
          14,
          null,
          13,
          14,
          null,
          12,
          13,
          null,
          12,
          13,
          null,
          12,
          13,
          null,
          12,
          13,
          null,
          12,
          13,
          null,
          12,
          13,
          null,
          14,
          15,
          null,
          14,
          15,
          null,
          7,
          8,
          null,
          14,
          15,
          null,
          7,
          8,
          null,
          7,
          8,
          null,
          14,
          15,
          null,
          14,
          15,
          null,
          14,
          15,
          null,
          14,
          15,
          null,
          15,
          16,
          null,
          14,
          15,
          null,
          15,
          16,
          null,
          15,
          16,
          null,
          15,
          16,
          null,
          15,
          16,
          null,
          15,
          16,
          null,
          15,
          16,
          null,
          15,
          16,
          null,
          15,
          16,
          null,
          15,
          16,
          null,
          15,
          16,
          null,
          17,
          18,
          null,
          17,
          18,
          null,
          17,
          18,
          null,
          17,
          18,
          null,
          17,
          18,
          null,
          17,
          18,
          null,
          17,
          18,
          null,
          17,
          18,
          null,
          17,
          18,
          null,
          17,
          18,
          null,
          17,
          18,
          null,
          17,
          18,
          null,
          17,
          18,
          null,
          17,
          18,
          null,
          17,
          18,
          null,
          17,
          18,
          null
         ]
        },
        {
         "hoverinfo": "text",
         "hovertemplate": "%{text}",
         "mode": "markers",
         "name": "lineage_ID: 1",
         "text": [
          "cell_ID: 9217<br>frame: 18",
          "cell_ID: 9231<br>frame: 18",
          "cell_ID: 9232<br>frame: 18",
          "cell_ID: 9236<br>frame: 18",
          "cell_ID: 9237<br>frame: 18",
          "cell_ID: 9238<br>frame: 18",
          "cell_ID: 9239<br>frame: 18",
          "cell_ID: 9241<br>frame: 18",
          "cell_ID: 9242<br>frame: 18",
          "cell_ID: 9245<br>frame: 18",
          "cell_ID: 9247<br>frame: 18",
          "cell_ID: 9248<br>frame: 18",
          "cell_ID: 9249<br>frame: 16",
          "cell_ID: 9251<br>frame: 18",
          "cell_ID: 9253<br>frame: 16",
          "cell_ID: 9254<br>frame: 18",
          "cell_ID: 9256<br>frame: 18",
          "cell_ID: 9257<br>frame: 18",
          "cell_ID: 9260<br>frame: 16",
          "cell_ID: 9261<br>frame: 16",
          "cell_ID: 9264<br>frame: 16",
          "cell_ID: 9267<br>frame: 16",
          "cell_ID: 9269<br>frame: 16",
          "cell_ID: 9270<br>frame: 16",
          "cell_ID: 9273<br>frame: 16",
          "cell_ID: 9276<br>frame: 19",
          "cell_ID: 9278<br>frame: 16",
          "cell_ID: 9280<br>frame: 16",
          "cell_ID: 9285<br>frame: 19",
          "cell_ID: 9287<br>frame: 19",
          "cell_ID: 9288<br>frame: 19",
          "cell_ID: 9291<br>frame: 19",
          "cell_ID: 9295<br>frame: 19",
          "cell_ID: 9296<br>frame: 19",
          "cell_ID: 9298<br>frame: 19",
          "cell_ID: 9300<br>frame: 19",
          "cell_ID: 9301<br>frame: 19",
          "cell_ID: 9303<br>frame: 19",
          "cell_ID: 9304<br>frame: 19",
          "cell_ID: 9307<br>frame: 19",
          "cell_ID: 9311<br>frame: 19",
          "cell_ID: 9314<br>frame: 19",
          "cell_ID: 9316<br>frame: 19",
          "cell_ID: 9323<br>frame: 20",
          "cell_ID: 9331<br>frame: 20",
          "cell_ID: 9333<br>frame: 20",
          "cell_ID: 9337<br>frame: 20",
          "cell_ID: 9341<br>frame: 20",
          "cell_ID: 9346<br>frame: 20",
          "cell_ID: 9347<br>frame: 20",
          "cell_ID: 9348<br>frame: 20",
          "cell_ID: 9349<br>frame: 20",
          "cell_ID: 9352<br>frame: 20",
          "cell_ID: 9353<br>frame: 20",
          "cell_ID: 9359<br>frame: 20",
          "cell_ID: 9360<br>frame: 20",
          "cell_ID: 9361<br>frame: 20",
          "cell_ID: 9367<br>frame: 20",
          "cell_ID: 9369<br>frame: 20",
          "cell_ID: 9370<br>frame: 20",
          "cell_ID: 9372<br>frame: 20",
          "cell_ID: 9376<br>frame: 20",
          "cell_ID: 9381<br>frame: 20",
          "cell_ID: 9383<br>frame: 20",
          "cell_ID: 9386<br>frame: 22",
          "cell_ID: 9387<br>frame: 22",
          "cell_ID: 9391<br>frame: 22",
          "cell_ID: 9393<br>frame: 22",
          "cell_ID: 9396<br>frame: 22",
          "cell_ID: 9399<br>frame: 22",
          "cell_ID: 9400<br>frame: 22",
          "cell_ID: 9401<br>frame: 22",
          "cell_ID: 9403<br>frame: 22",
          "cell_ID: 9404<br>frame: 22",
          "cell_ID: 9411<br>frame: 22",
          "cell_ID: 9421<br>frame: 22",
          "cell_ID: 9422<br>frame: 22",
          "cell_ID: 9423<br>frame: 22",
          "cell_ID: 9425<br>frame: 22",
          "cell_ID: 9426<br>frame: 22",
          "cell_ID: 9427<br>frame: 22",
          "cell_ID: 9430<br>frame: 21",
          "cell_ID: 9433<br>frame: 21",
          "cell_ID: 9435<br>frame: 21",
          "cell_ID: 9442<br>frame: 22",
          "cell_ID: 9443<br>frame: 21",
          "cell_ID: 9447<br>frame: 21",
          "cell_ID: 9452<br>frame: 22",
          "cell_ID: 9453<br>frame: 21",
          "cell_ID: 9454<br>frame: 22",
          "cell_ID: 9455<br>frame: 22",
          "cell_ID: 9456<br>frame: 21",
          "cell_ID: 9458<br>frame: 22",
          "cell_ID: 9459<br>frame: 22",
          "cell_ID: 9466<br>frame: 22",
          "cell_ID: 9468<br>frame: 22",
          "cell_ID: 9472<br>frame: 22",
          "cell_ID: 9473<br>frame: 21",
          "cell_ID: 9474<br>frame: 22",
          "cell_ID: 9477<br>frame: 21",
          "cell_ID: 9478<br>frame: 22",
          "cell_ID: 9479<br>frame: 21",
          "cell_ID: 9484<br>frame: 21",
          "cell_ID: 9486<br>frame: 21",
          "cell_ID: 9487<br>frame: 21",
          "cell_ID: 9489<br>frame: 21",
          "cell_ID: 9490<br>frame: 21",
          "cell_ID: 9496<br>frame: 21",
          "cell_ID: 8985<br>frame: 0",
          "cell_ID: 9497<br>frame: 21",
          "cell_ID: 9499<br>frame: 21",
          "cell_ID: 9501<br>frame: 21",
          "cell_ID: 9502<br>frame: 21",
          "cell_ID: 8991<br>frame: 3",
          "cell_ID: 8992<br>frame: 2",
          "cell_ID: 9503<br>frame: 21",
          "cell_ID: 9504<br>frame: 21",
          "cell_ID: 9507<br>frame: 21",
          "cell_ID: 9505<br>frame: 21",
          "cell_ID: 8997<br>frame: 3",
          "cell_ID: 9508<br>frame: 21",
          "cell_ID: 9506<br>frame: 21",
          "cell_ID: 9000<br>frame: 4",
          "cell_ID: 9002<br>frame: 4",
          "cell_ID: 9009<br>frame: 5",
          "cell_ID: 9011<br>frame: 5",
          "cell_ID: 9015<br>frame: 1",
          "cell_ID: 9021<br>frame: 6",
          "cell_ID: 9022<br>frame: 6",
          "cell_ID: 9030<br>frame: 9",
          "cell_ID: 9032<br>frame: 9",
          "cell_ID: 9033<br>frame: 9",
          "cell_ID: 9034<br>frame: 9",
          "cell_ID: 9044<br>frame: 8",
          "cell_ID: 9045<br>frame: 8",
          "cell_ID: 9046<br>frame: 8",
          "cell_ID: 9054<br>frame: 11",
          "cell_ID: 9056<br>frame: 11",
          "cell_ID: 9057<br>frame: 11",
          "cell_ID: 9058<br>frame: 11",
          "cell_ID: 9066<br>frame: 10",
          "cell_ID: 9068<br>frame: 10",
          "cell_ID: 9069<br>frame: 10",
          "cell_ID: 9070<br>frame: 10",
          "cell_ID: 9079<br>frame: 13",
          "cell_ID: 9085<br>frame: 13",
          "cell_ID: 9087<br>frame: 13",
          "cell_ID: 9092<br>frame: 13",
          "cell_ID: 9094<br>frame: 13",
          "cell_ID: 9097<br>frame: 12",
          "cell_ID: 9098<br>frame: 13",
          "cell_ID: 9100<br>frame: 13",
          "cell_ID: 9105<br>frame: 12",
          "cell_ID: 9107<br>frame: 12",
          "cell_ID: 9109<br>frame: 12",
          "cell_ID: 9110<br>frame: 12",
          "cell_ID: 9117<br>frame: 14",
          "cell_ID: 9125<br>frame: 14",
          "cell_ID: 9128<br>frame: 7",
          "cell_ID: 9129<br>frame: 14",
          "cell_ID: 9130<br>frame: 7",
          "cell_ID: 9132<br>frame: 7",
          "cell_ID: 9139<br>frame: 14",
          "cell_ID: 9141<br>frame: 14",
          "cell_ID: 9150<br>frame: 14",
          "cell_ID: 9152<br>frame: 14",
          "cell_ID: 9153<br>frame: 15",
          "cell_ID: 9154<br>frame: 14",
          "cell_ID: 9157<br>frame: 15",
          "cell_ID: 9158<br>frame: 15",
          "cell_ID: 9161<br>frame: 15",
          "cell_ID: 9164<br>frame: 15",
          "cell_ID: 9165<br>frame: 15",
          "cell_ID: 9166<br>frame: 15",
          "cell_ID: 9171<br>frame: 15",
          "cell_ID: 9177<br>frame: 17",
          "cell_ID: 9179<br>frame: 17",
          "cell_ID: 9180<br>frame: 17",
          "cell_ID: 9183<br>frame: 17",
          "cell_ID: 9186<br>frame: 17",
          "cell_ID: 9188<br>frame: 17",
          "cell_ID: 9189<br>frame: 17",
          "cell_ID: 9192<br>frame: 17",
          "cell_ID: 9197<br>frame: 17",
          "cell_ID: 9198<br>frame: 17",
          "cell_ID: 9202<br>frame: 17",
          "cell_ID: 9204<br>frame: 17",
          "cell_ID: 9205<br>frame: 17",
          "cell_ID: 9209<br>frame: 17",
          "cell_ID: 1000<br>frame: 22",
          "cell_ID: 9510<br>frame: 1",
          "cell_ID: 0<br>frame: 1"
         ],
         "type": "scatter",
         "x": [
          -11.21875,
          -13.46875,
          -9.21875,
          -1.21875,
          7.78125,
          0.78125,
          9.78125,
          11.78125,
          13.28125,
          2.78125,
          6.28125,
          4.78125,
          -0.21875,
          -7.21875,
          7.78125,
          -5.71875,
          -4.71875,
          -3.21875,
          -11.21875,
          9.78125,
          12.53125,
          5.03125,
          -6.46875,
          -4.71875,
          -9.21875,
          2.78125,
          -13.46875,
          -3.21875,
          0.78125,
          13.28125,
          7.78125,
          -11.21875,
          9.78125,
          6.28125,
          11.78125,
          4.78125,
          -7.21875,
          -4.71875,
          -3.21875,
          -5.71875,
          -1.21875,
          -13.46875,
          -9.21875,
          0.78125,
          7.78125,
          -11.71875,
          4.78125,
          2.28125,
          11.78125,
          -4.71875,
          -7.21875,
          -3.71875,
          -9.71875,
          -2.71875,
          -14.21875,
          -10.71875,
          -8.71875,
          -1.21875,
          3.28125,
          -12.71875,
          13.28125,
          -5.71875,
          6.28125,
          9.78125,
          7.28125,
          -11.71875,
          9.28125,
          4.28125,
          -7.71875,
          -9.71875,
          -2.71875,
          -3.71875,
          11.28125,
          -8.71875,
          -13.71875,
          3.28125,
          -12.71875,
          13.28125,
          6.28125,
          -5.71875,
          2.28125,
          7.28125,
          0.78125,
          -11.71875,
          -1.71875,
          9.28125,
          4.78125,
          8.28125,
          -7.71875,
          10.28125,
          5.28125,
          -4.71875,
          -10.71875,
          -4.71875,
          -0.71875,
          -14.71875,
          0.28125,
          -9.71875,
          1.28125,
          -2.71875,
          12.28125,
          -3.71875,
          -14.71875,
          -8.71875,
          -10.71875,
          -1.71875,
          -13.71875,
          8.28125,
          -0.5,
          -0.71875,
          10.28125,
          11.78125,
          3.28125,
          -8.53125,
          -1,
          -6.71875,
          -12.71875,
          -5.71875,
          13.28125,
          6.53125,
          2.28125,
          6.28125,
          -8.53125,
          6.53125,
          6.53125,
          -8.53125,
          -1,
          -8.53125,
          6.53125,
          -11.84375,
          2.40625,
          -5.21875,
          10.65625,
          2.40625,
          -8.53125,
          10.65625,
          -11.84375,
          2.40625,
          10.65625,
          -5.21875,
          -11.84375,
          2.40625,
          10.65625,
          -5.21875,
          -0.21875,
          8.78125,
          12.53125,
          -13.46875,
          -10.21875,
          8.78125,
          -5.21875,
          5.03125,
          -11.84375,
          12.53125,
          2.40625,
          -5.21875,
          -0.21875,
          8.78125,
          2.40625,
          12.53125,
          -8.53125,
          10.65625,
          -13.46875,
          -10.21875,
          5.03125,
          -6.46875,
          -0.21875,
          -3.96875,
          -10.21875,
          8.78125,
          12.53125,
          5.03125,
          -3.96875,
          -6.46875,
          -13.46875,
          7.78125,
          -11.21875,
          9.78125,
          12.53125,
          -7.21875,
          -4.71875,
          -3.21875,
          -5.71875,
          -13.46875,
          -9.21875,
          3.78125,
          -1.21875,
          0.78125,
          6.28125,
          -6.71875,
          0.5,
          0
         ],
         "y": [
          18,
          18,
          18,
          18,
          18,
          18,
          18,
          18,
          18,
          18,
          18,
          18,
          16,
          18,
          16,
          18,
          18,
          18,
          16,
          16,
          16,
          16,
          16,
          16,
          16,
          19,
          16,
          16,
          19,
          19,
          19,
          19,
          19,
          19,
          19,
          19,
          19,
          19,
          19,
          19,
          19,
          19,
          19,
          20,
          20,
          20,
          20,
          20,
          20,
          20,
          20,
          20,
          20,
          20,
          20,
          20,
          20,
          20,
          20,
          20,
          20,
          20,
          20,
          20,
          22,
          22,
          22,
          22,
          22,
          22,
          22,
          22,
          22,
          22,
          22,
          22,
          22,
          22,
          22,
          22,
          22,
          21,
          21,
          21,
          22,
          21,
          21,
          22,
          21,
          22,
          22,
          21,
          22,
          22,
          22,
          22,
          22,
          21,
          22,
          21,
          22,
          21,
          21,
          21,
          21,
          21,
          21,
          21,
          0,
          21,
          21,
          21,
          21,
          3,
          2,
          21,
          21,
          21,
          21,
          3,
          21,
          21,
          4,
          4,
          5,
          5,
          1,
          6,
          6,
          9,
          9,
          9,
          9,
          8,
          8,
          8,
          11,
          11,
          11,
          11,
          10,
          10,
          10,
          10,
          13,
          13,
          13,
          13,
          13,
          12,
          13,
          13,
          12,
          12,
          12,
          12,
          14,
          14,
          7,
          14,
          7,
          7,
          14,
          14,
          14,
          14,
          15,
          14,
          15,
          15,
          15,
          15,
          15,
          15,
          15,
          17,
          17,
          17,
          17,
          17,
          17,
          17,
          17,
          17,
          17,
          17,
          17,
          17,
          17,
          22,
          1,
          1
         ]
        }
       ],
       "layout": {
        "hovermode": "closest",
        "showlegend": true,
        "template": {
         "data": {
          "bar": [
           {
            "error_x": {
             "color": "#2a3f5f"
            },
            "error_y": {
             "color": "#2a3f5f"
            },
            "marker": {
             "line": {
              "color": "#E5ECF6",
              "width": 0.5
             },
             "pattern": {
              "fillmode": "overlay",
              "size": 10,
              "solidity": 0.2
             }
            },
            "type": "bar"
           }
          ],
          "barpolar": [
           {
            "marker": {
             "line": {
              "color": "#E5ECF6",
              "width": 0.5
             },
             "pattern": {
              "fillmode": "overlay",
              "size": 10,
              "solidity": 0.2
             }
            },
            "type": "barpolar"
           }
          ],
          "carpet": [
           {
            "aaxis": {
             "endlinecolor": "#2a3f5f",
             "gridcolor": "white",
             "linecolor": "white",
             "minorgridcolor": "white",
             "startlinecolor": "#2a3f5f"
            },
            "baxis": {
             "endlinecolor": "#2a3f5f",
             "gridcolor": "white",
             "linecolor": "white",
             "minorgridcolor": "white",
             "startlinecolor": "#2a3f5f"
            },
            "type": "carpet"
           }
          ],
          "choropleth": [
           {
            "colorbar": {
             "outlinewidth": 0,
             "ticks": ""
            },
            "type": "choropleth"
           }
          ],
          "contour": [
           {
            "colorbar": {
             "outlinewidth": 0,
             "ticks": ""
            },
            "colorscale": [
             [
              0,
              "#0d0887"
             ],
             [
              0.1111111111111111,
              "#46039f"
             ],
             [
              0.2222222222222222,
              "#7201a8"
             ],
             [
              0.3333333333333333,
              "#9c179e"
             ],
             [
              0.4444444444444444,
              "#bd3786"
             ],
             [
              0.5555555555555556,
              "#d8576b"
             ],
             [
              0.6666666666666666,
              "#ed7953"
             ],
             [
              0.7777777777777778,
              "#fb9f3a"
             ],
             [
              0.8888888888888888,
              "#fdca26"
             ],
             [
              1,
              "#f0f921"
             ]
            ],
            "type": "contour"
           }
          ],
          "contourcarpet": [
           {
            "colorbar": {
             "outlinewidth": 0,
             "ticks": ""
            },
            "type": "contourcarpet"
           }
          ],
          "heatmap": [
           {
            "colorbar": {
             "outlinewidth": 0,
             "ticks": ""
            },
            "colorscale": [
             [
              0,
              "#0d0887"
             ],
             [
              0.1111111111111111,
              "#46039f"
             ],
             [
              0.2222222222222222,
              "#7201a8"
             ],
             [
              0.3333333333333333,
              "#9c179e"
             ],
             [
              0.4444444444444444,
              "#bd3786"
             ],
             [
              0.5555555555555556,
              "#d8576b"
             ],
             [
              0.6666666666666666,
              "#ed7953"
             ],
             [
              0.7777777777777778,
              "#fb9f3a"
             ],
             [
              0.8888888888888888,
              "#fdca26"
             ],
             [
              1,
              "#f0f921"
             ]
            ],
            "type": "heatmap"
           }
          ],
          "histogram": [
           {
            "marker": {
             "pattern": {
              "fillmode": "overlay",
              "size": 10,
              "solidity": 0.2
             }
            },
            "type": "histogram"
           }
          ],
          "histogram2d": [
           {
            "colorbar": {
             "outlinewidth": 0,
             "ticks": ""
            },
            "colorscale": [
             [
              0,
              "#0d0887"
             ],
             [
              0.1111111111111111,
              "#46039f"
             ],
             [
              0.2222222222222222,
              "#7201a8"
             ],
             [
              0.3333333333333333,
              "#9c179e"
             ],
             [
              0.4444444444444444,
              "#bd3786"
             ],
             [
              0.5555555555555556,
              "#d8576b"
             ],
             [
              0.6666666666666666,
              "#ed7953"
             ],
             [
              0.7777777777777778,
              "#fb9f3a"
             ],
             [
              0.8888888888888888,
              "#fdca26"
             ],
             [
              1,
              "#f0f921"
             ]
            ],
            "type": "histogram2d"
           }
          ],
          "histogram2dcontour": [
           {
            "colorbar": {
             "outlinewidth": 0,
             "ticks": ""
            },
            "colorscale": [
             [
              0,
              "#0d0887"
             ],
             [
              0.1111111111111111,
              "#46039f"
             ],
             [
              0.2222222222222222,
              "#7201a8"
             ],
             [
              0.3333333333333333,
              "#9c179e"
             ],
             [
              0.4444444444444444,
              "#bd3786"
             ],
             [
              0.5555555555555556,
              "#d8576b"
             ],
             [
              0.6666666666666666,
              "#ed7953"
             ],
             [
              0.7777777777777778,
              "#fb9f3a"
             ],
             [
              0.8888888888888888,
              "#fdca26"
             ],
             [
              1,
              "#f0f921"
             ]
            ],
            "type": "histogram2dcontour"
           }
          ],
          "mesh3d": [
           {
            "colorbar": {
             "outlinewidth": 0,
             "ticks": ""
            },
            "type": "mesh3d"
           }
          ],
          "parcoords": [
           {
            "line": {
             "colorbar": {
              "outlinewidth": 0,
              "ticks": ""
             }
            },
            "type": "parcoords"
           }
          ],
          "pie": [
           {
            "automargin": true,
            "type": "pie"
           }
          ],
          "scatter": [
           {
            "fillpattern": {
             "fillmode": "overlay",
             "size": 10,
             "solidity": 0.2
            },
            "type": "scatter"
           }
          ],
          "scatter3d": [
           {
            "line": {
             "colorbar": {
              "outlinewidth": 0,
              "ticks": ""
             }
            },
            "marker": {
             "colorbar": {
              "outlinewidth": 0,
              "ticks": ""
             }
            },
            "type": "scatter3d"
           }
          ],
          "scattercarpet": [
           {
            "marker": {
             "colorbar": {
              "outlinewidth": 0,
              "ticks": ""
             }
            },
            "type": "scattercarpet"
           }
          ],
          "scattergeo": [
           {
            "marker": {
             "colorbar": {
              "outlinewidth": 0,
              "ticks": ""
             }
            },
            "type": "scattergeo"
           }
          ],
          "scattergl": [
           {
            "marker": {
             "colorbar": {
              "outlinewidth": 0,
              "ticks": ""
             }
            },
            "type": "scattergl"
           }
          ],
          "scattermap": [
           {
            "marker": {
             "colorbar": {
              "outlinewidth": 0,
              "ticks": ""
             }
            },
            "type": "scattermap"
           }
          ],
          "scattermapbox": [
           {
            "marker": {
             "colorbar": {
              "outlinewidth": 0,
              "ticks": ""
             }
            },
            "type": "scattermapbox"
           }
          ],
          "scatterpolar": [
           {
            "marker": {
             "colorbar": {
              "outlinewidth": 0,
              "ticks": ""
             }
            },
            "type": "scatterpolar"
           }
          ],
          "scatterpolargl": [
           {
            "marker": {
             "colorbar": {
              "outlinewidth": 0,
              "ticks": ""
             }
            },
            "type": "scatterpolargl"
           }
          ],
          "scatterternary": [
           {
            "marker": {
             "colorbar": {
              "outlinewidth": 0,
              "ticks": ""
             }
            },
            "type": "scatterternary"
           }
          ],
          "surface": [
           {
            "colorbar": {
             "outlinewidth": 0,
             "ticks": ""
            },
            "colorscale": [
             [
              0,
              "#0d0887"
             ],
             [
              0.1111111111111111,
              "#46039f"
             ],
             [
              0.2222222222222222,
              "#7201a8"
             ],
             [
              0.3333333333333333,
              "#9c179e"
             ],
             [
              0.4444444444444444,
              "#bd3786"
             ],
             [
              0.5555555555555556,
              "#d8576b"
             ],
             [
              0.6666666666666666,
              "#ed7953"
             ],
             [
              0.7777777777777778,
              "#fb9f3a"
             ],
             [
              0.8888888888888888,
              "#fdca26"
             ],
             [
              1,
              "#f0f921"
             ]
            ],
            "type": "surface"
           }
          ],
          "table": [
           {
            "cells": {
             "fill": {
              "color": "#EBF0F8"
             },
             "line": {
              "color": "white"
             }
            },
            "header": {
             "fill": {
              "color": "#C8D4E3"
             },
             "line": {
              "color": "white"
             }
            },
            "type": "table"
           }
          ]
         },
         "layout": {
          "annotationdefaults": {
           "arrowcolor": "#2a3f5f",
           "arrowhead": 0,
           "arrowwidth": 1
          },
          "autotypenumbers": "strict",
          "coloraxis": {
           "colorbar": {
            "outlinewidth": 0,
            "ticks": ""
           }
          },
          "colorscale": {
           "diverging": [
            [
             0,
             "#8e0152"
            ],
            [
             0.1,
             "#c51b7d"
            ],
            [
             0.2,
             "#de77ae"
            ],
            [
             0.3,
             "#f1b6da"
            ],
            [
             0.4,
             "#fde0ef"
            ],
            [
             0.5,
             "#f7f7f7"
            ],
            [
             0.6,
             "#e6f5d0"
            ],
            [
             0.7,
             "#b8e186"
            ],
            [
             0.8,
             "#7fbc41"
            ],
            [
             0.9,
             "#4d9221"
            ],
            [
             1,
             "#276419"
            ]
           ],
           "sequential": [
            [
             0,
             "#0d0887"
            ],
            [
             0.1111111111111111,
             "#46039f"
            ],
            [
             0.2222222222222222,
             "#7201a8"
            ],
            [
             0.3333333333333333,
             "#9c179e"
            ],
            [
             0.4444444444444444,
             "#bd3786"
            ],
            [
             0.5555555555555556,
             "#d8576b"
            ],
            [
             0.6666666666666666,
             "#ed7953"
            ],
            [
             0.7777777777777778,
             "#fb9f3a"
            ],
            [
             0.8888888888888888,
             "#fdca26"
            ],
            [
             1,
             "#f0f921"
            ]
           ],
           "sequentialminus": [
            [
             0,
             "#0d0887"
            ],
            [
             0.1111111111111111,
             "#46039f"
            ],
            [
             0.2222222222222222,
             "#7201a8"
            ],
            [
             0.3333333333333333,
             "#9c179e"
            ],
            [
             0.4444444444444444,
             "#bd3786"
            ],
            [
             0.5555555555555556,
             "#d8576b"
            ],
            [
             0.6666666666666666,
             "#ed7953"
            ],
            [
             0.7777777777777778,
             "#fb9f3a"
            ],
            [
             0.8888888888888888,
             "#fdca26"
            ],
            [
             1,
             "#f0f921"
            ]
           ]
          },
          "colorway": [
           "#636efa",
           "#EF553B",
           "#00cc96",
           "#ab63fa",
           "#FFA15A",
           "#19d3f3",
           "#FF6692",
           "#B6E880",
           "#FF97FF",
           "#FECB52"
          ],
          "font": {
           "color": "#2a3f5f"
          },
          "geo": {
           "bgcolor": "white",
           "lakecolor": "white",
           "landcolor": "#E5ECF6",
           "showlakes": true,
           "showland": true,
           "subunitcolor": "white"
          },
          "hoverlabel": {
           "align": "left"
          },
          "hovermode": "closest",
          "mapbox": {
           "style": "light"
          },
          "paper_bgcolor": "white",
          "plot_bgcolor": "#E5ECF6",
          "polar": {
           "angularaxis": {
            "gridcolor": "white",
            "linecolor": "white",
            "ticks": ""
           },
           "bgcolor": "#E5ECF6",
           "radialaxis": {
            "gridcolor": "white",
            "linecolor": "white",
            "ticks": ""
           }
          },
          "scene": {
           "xaxis": {
            "backgroundcolor": "#E5ECF6",
            "gridcolor": "white",
            "gridwidth": 2,
            "linecolor": "white",
            "showbackground": true,
            "ticks": "",
            "zerolinecolor": "white"
           },
           "yaxis": {
            "backgroundcolor": "#E5ECF6",
            "gridcolor": "white",
            "gridwidth": 2,
            "linecolor": "white",
            "showbackground": true,
            "ticks": "",
            "zerolinecolor": "white"
           },
           "zaxis": {
            "backgroundcolor": "#E5ECF6",
            "gridcolor": "white",
            "gridwidth": 2,
            "linecolor": "white",
            "showbackground": true,
            "ticks": "",
            "zerolinecolor": "white"
           }
          },
          "shapedefaults": {
           "line": {
            "color": "#2a3f5f"
           }
          },
          "ternary": {
           "aaxis": {
            "gridcolor": "white",
            "linecolor": "white",
            "ticks": ""
           },
           "baxis": {
            "gridcolor": "white",
            "linecolor": "white",
            "ticks": ""
           },
           "bgcolor": "#E5ECF6",
           "caxis": {
            "gridcolor": "white",
            "linecolor": "white",
            "ticks": ""
           }
          },
          "title": {
           "x": 0.05
          },
          "xaxis": {
           "automargin": true,
           "gridcolor": "white",
           "linecolor": "white",
           "ticks": "",
           "title": {
            "standoff": 15
           },
           "zerolinecolor": "white",
           "zerolinewidth": 2
          },
          "yaxis": {
           "automargin": true,
           "gridcolor": "white",
           "linecolor": "white",
           "ticks": "",
           "title": {
            "standoff": 15
           },
           "zerolinecolor": "white",
           "zerolinewidth": 2
          }
         }
        },
        "title": {},
        "xaxis": {
         "showgrid": false,
         "showticklabels": false,
         "zeroline": false
        },
        "yaxis": {
         "autorange": "reversed",
         "showgrid": true,
         "title": {
          "text": "Time (frames)"
         },
         "zeroline": true
        }
       }
      }
     },
     "metadata": {},
     "output_type": "display_data"
    }
   ],
   "source": [
    "lin1.plot()"
   ]
  },
  {
   "cell_type": "markdown",
   "metadata": {},
   "source": [
    "Note that you cannot link 2 cells as you want. First, the link is directed to respect the flow of time. The source cell cannot have a time value (`frame` property) greater than the target cell or a `TimeFlowError` will be raised.\n",
    "\n",
    "Second, creating a link cannot lead to a fusion event since a cell cannot have more than one parent. If it happens, a `FusionError` will be raised."
   ]
  },
  {
   "cell_type": "markdown",
   "metadata": {},
   "source": [
    "To remove a cell, specify the IDs of the cells involved in the link and the lineage ID of the cells to `remove_link()`. Like `remove_cell()`, the method returns the properties dictionary of the removed link."
   ]
  },
  {
   "cell_type": "code",
   "execution_count": 62,
   "metadata": {},
   "outputs": [
    {
     "data": {
      "text/plain": [
       "{}"
      ]
     },
     "execution_count": 62,
     "metadata": {},
     "output_type": "execute_result"
    }
   ],
   "source": [
    "# We remove the link we created above.\n",
    "tm_model.remove_link(source_cid=8985, target_cid=0, lid=1)"
   ]
  },
  {
   "cell_type": "markdown",
   "metadata": {},
   "source": [
    "### Updating the model"
   ]
  },
  {
   "cell_type": "markdown",
   "metadata": {},
   "source": [
    "Once you have finished modifying the lineages, you need to update it as seen in the [Managing properties](#managing-properties) section. The update will recompute the properties as needed, as well as the cycle lineages if they were added to the model."
   ]
  },
  {
   "cell_type": "code",
   "execution_count": 63,
   "metadata": {},
   "outputs": [],
   "source": [
    "tm_model.update()"
   ]
  },
  {
   "cell_type": "markdown",
   "metadata": {},
   "source": [
    "As stated before, cycle lineages are read only: you cannot directly add nor remove cell cycles and links. The modifications must be done on the cell lineages. The update of the model will propagate these changes to the cycle lineages. "
   ]
  },
  {
   "cell_type": "markdown",
   "metadata": {},
   "source": [
    "## Export"
   ]
  },
  {
   "cell_type": "markdown",
   "metadata": {},
   "source": [
    "### Pickled Pycellin model"
   ]
  },
  {
   "cell_type": "markdown",
   "metadata": {},
   "source": [
    "You can save a model on disk anytime with the `save_to_pickle()` method:"
   ]
  },
  {
   "cell_type": "code",
   "execution_count": 64,
   "metadata": {},
   "outputs": [],
   "source": [
    "my_model.save_to_pickle(\"../sample_data/results/FakeTracks_saved.pickle\")"
   ]
  },
  {
   "cell_type": "markdown",
   "metadata": {},
   "source": [
    "A Pycellin model is a complex Python object that can be serialized. Pickling a model is a lossless way to save the model on disk for later use.\n",
    "\n",
    "However, as stated in [Loading from a Pycellin pickle file](#Loading-from-a-Pycellin-pickle-file), `pickle` module is not secure. Malicious code could be executed when unpickling a file from an unknown source. Because of this safety issue, pickle is not the preferred format for sharing a model with the community.\n",
    "\n",
    "Indeed, the intended use of `save_to_pickle()` and `load_from_pickle()` is to allow you to save your model whenever you want and to be able to resume working on it at a later time or in another Python session. "
   ]
  },
  {
   "cell_type": "markdown",
   "metadata": {},
   "source": [
    "### Tables: DataFrames and CSVs"
   ]
  },
  {
   "cell_type": "markdown",
   "metadata": {},
   "source": [
    "Lineage data from a Pycellin model can be exported into [Pandas](https://pandas.pydata.org/) [DataFrames](https://pandas.pydata.org/docs/reference/api/pandas.DataFrame.html) and saved as comma-separated values (CSV) files.  \n",
    "\n",
    "Each type of lineage elements generates a different kind of table, as reviewed below."
   ]
  },
  {
   "cell_type": "markdown",
   "metadata": {},
   "source": [
    "#### Cells table"
   ]
  },
  {
   "cell_type": "markdown",
   "metadata": {},
   "source": [
    "A cell table contains all the properties stored in the **cells (nodes) of the cell lineages** of the model. There is one row per cell and one column per cell property. The DataFrame is ordered by increasing `lineage_ID` first, then by `frame`, then by `cell_ID`."
   ]
  },
  {
   "cell_type": "code",
   "execution_count": 65,
   "metadata": {},
   "outputs": [
    {
     "name": "stdout",
     "output_type": "stream",
     "text": [
      "(529, 40)\n",
      "Index(['lineage_ID', 'frame', 'cell_ID', 'STD_INTENSITY_CH1', 'SOLIDITY',\n",
      "       'STD_INTENSITY_CH2', 'QUALITY', 'POSITION_T', 'TOTAL_INTENSITY_CH2',\n",
      "       'TOTAL_INTENSITY_CH1', 'CONTRAST_CH1', 'ELLIPSE_MINOR', 'ELLIPSE_THETA',\n",
      "       'ELLIPSE_Y0', 'CIRCULARITY', 'AREA', 'ELLIPSE_MAJOR', 'CONTRAST_CH2',\n",
      "       'MEAN_INTENSITY_CH1', 'MAX_INTENSITY_CH2', 'MEAN_INTENSITY_CH2',\n",
      "       'MAX_INTENSITY_CH1', 'MIN_INTENSITY_CH2', 'MIN_INTENSITY_CH1',\n",
      "       'SNR_CH1', 'ELLIPSE_X0', 'SHAPE_INDEX', 'SNR_CH2',\n",
      "       'MEDIAN_INTENSITY_CH1', 'VISIBILITY', 'RADIUS', 'MEDIAN_INTENSITY_CH2',\n",
      "       'ELLIPSE_ASPECTRATIO', 'PERIMETER', 'ROI_N_POINTS', 'ROI_coords',\n",
      "       'cell_name', 'cell_x', 'cell_y', 'cell_z'],\n",
      "      dtype='object')\n"
     ]
    }
   ],
   "source": [
    "cell_df = tm_model.to_cell_dataframe()\n",
    "print(cell_df.shape)\n",
    "print(cell_df.columns)"
   ]
  },
  {
   "cell_type": "code",
   "execution_count": 66,
   "metadata": {},
   "outputs": [
    {
     "data": {
      "text/html": [
       "<div>\n",
       "<style scoped>\n",
       "    .dataframe tbody tr th:only-of-type {\n",
       "        vertical-align: middle;\n",
       "    }\n",
       "\n",
       "    .dataframe tbody tr th {\n",
       "        vertical-align: top;\n",
       "    }\n",
       "\n",
       "    .dataframe thead th {\n",
       "        text-align: right;\n",
       "    }\n",
       "</style>\n",
       "<table border=\"1\" class=\"dataframe\">\n",
       "  <thead>\n",
       "    <tr style=\"text-align: right;\">\n",
       "      <th></th>\n",
       "      <th>lineage_ID</th>\n",
       "      <th>frame</th>\n",
       "      <th>cell_ID</th>\n",
       "      <th>STD_INTENSITY_CH1</th>\n",
       "      <th>SOLIDITY</th>\n",
       "      <th>STD_INTENSITY_CH2</th>\n",
       "      <th>QUALITY</th>\n",
       "      <th>POSITION_T</th>\n",
       "      <th>TOTAL_INTENSITY_CH2</th>\n",
       "      <th>TOTAL_INTENSITY_CH1</th>\n",
       "      <th>...</th>\n",
       "      <th>RADIUS</th>\n",
       "      <th>MEDIAN_INTENSITY_CH2</th>\n",
       "      <th>ELLIPSE_ASPECTRATIO</th>\n",
       "      <th>PERIMETER</th>\n",
       "      <th>ROI_N_POINTS</th>\n",
       "      <th>ROI_coords</th>\n",
       "      <th>cell_name</th>\n",
       "      <th>cell_x</th>\n",
       "      <th>cell_y</th>\n",
       "      <th>cell_z</th>\n",
       "    </tr>\n",
       "  </thead>\n",
       "  <tbody>\n",
       "    <tr>\n",
       "      <th>0</th>\n",
       "      <td>-9510</td>\n",
       "      <td>1</td>\n",
       "      <td>9510</td>\n",
       "      <td>NaN</td>\n",
       "      <td>NaN</td>\n",
       "      <td>NaN</td>\n",
       "      <td>NaN</td>\n",
       "      <td>NaN</td>\n",
       "      <td>NaN</td>\n",
       "      <td>NaN</td>\n",
       "      <td>...</td>\n",
       "      <td>NaN</td>\n",
       "      <td>NaN</td>\n",
       "      <td>NaN</td>\n",
       "      <td>NaN</td>\n",
       "      <td>NaN</td>\n",
       "      <td>NaN</td>\n",
       "      <td>NaN</td>\n",
       "      <td>1.000000</td>\n",
       "      <td>2.000000</td>\n",
       "      <td>0.0</td>\n",
       "    </tr>\n",
       "    <tr>\n",
       "      <th>1</th>\n",
       "      <td>-3</td>\n",
       "      <td>1</td>\n",
       "      <td>3</td>\n",
       "      <td>NaN</td>\n",
       "      <td>NaN</td>\n",
       "      <td>NaN</td>\n",
       "      <td>NaN</td>\n",
       "      <td>NaN</td>\n",
       "      <td>NaN</td>\n",
       "      <td>NaN</td>\n",
       "      <td>...</td>\n",
       "      <td>NaN</td>\n",
       "      <td>NaN</td>\n",
       "      <td>NaN</td>\n",
       "      <td>NaN</td>\n",
       "      <td>NaN</td>\n",
       "      <td>NaN</td>\n",
       "      <td>NaN</td>\n",
       "      <td>NaN</td>\n",
       "      <td>NaN</td>\n",
       "      <td>NaN</td>\n",
       "    </tr>\n",
       "    <tr>\n",
       "      <th>2</th>\n",
       "      <td>0</td>\n",
       "      <td>0</td>\n",
       "      <td>8993</td>\n",
       "      <td>6.578459</td>\n",
       "      <td>0.854065</td>\n",
       "      <td>5.656838</td>\n",
       "      <td>601.0</td>\n",
       "      <td>0.0</td>\n",
       "      <td>70098.0</td>\n",
       "      <td>26356.0</td>\n",
       "      <td>...</td>\n",
       "      <td>0.921242</td>\n",
       "      <td>114.0</td>\n",
       "      <td>6.703090</td>\n",
       "      <td>10.285699</td>\n",
       "      <td>52</td>\n",
       "      <td>[(-1.5894197951076556, 1.1551815744407925), (-...</td>\n",
       "      <td>ID8993</td>\n",
       "      <td>15.389186</td>\n",
       "      <td>19.363325</td>\n",
       "      <td>0.0</td>\n",
       "    </tr>\n",
       "    <tr>\n",
       "      <th>3</th>\n",
       "      <td>0</td>\n",
       "      <td>1</td>\n",
       "      <td>9013</td>\n",
       "      <td>2.968181</td>\n",
       "      <td>0.916279</td>\n",
       "      <td>5.726043</td>\n",
       "      <td>293.0</td>\n",
       "      <td>5.0</td>\n",
       "      <td>34098.0</td>\n",
       "      <td>4245.0</td>\n",
       "      <td>...</td>\n",
       "      <td>0.638839</td>\n",
       "      <td>115.0</td>\n",
       "      <td>4.279183</td>\n",
       "      <td>5.944787</td>\n",
       "      <td>30</td>\n",
       "      <td>[(-0.727319272545234, 0.8544524671426856), (-0...</td>\n",
       "      <td>ID9013</td>\n",
       "      <td>16.832535</td>\n",
       "      <td>18.214914</td>\n",
       "      <td>0.0</td>\n",
       "    </tr>\n",
       "    <tr>\n",
       "      <th>4</th>\n",
       "      <td>0</td>\n",
       "      <td>1</td>\n",
       "      <td>9014</td>\n",
       "      <td>0.000000</td>\n",
       "      <td>0.881818</td>\n",
       "      <td>5.309714</td>\n",
       "      <td>291.0</td>\n",
       "      <td>5.0</td>\n",
       "      <td>33523.0</td>\n",
       "      <td>4350.0</td>\n",
       "      <td>...</td>\n",
       "      <td>0.633956</td>\n",
       "      <td>115.0</td>\n",
       "      <td>3.903724</td>\n",
       "      <td>5.747940</td>\n",
       "      <td>34</td>\n",
       "      <td>[(-0.6141453589387584, 0.5208483829178867), (-...</td>\n",
       "      <td>ID9014</td>\n",
       "      <td>14.282171</td>\n",
       "      <td>19.470698</td>\n",
       "      <td>0.0</td>\n",
       "    </tr>\n",
       "  </tbody>\n",
       "</table>\n",
       "<p>5 rows × 40 columns</p>\n",
       "</div>"
      ],
      "text/plain": [
       "   lineage_ID  frame  cell_ID  STD_INTENSITY_CH1  SOLIDITY  STD_INTENSITY_CH2  \\\n",
       "0       -9510      1     9510                NaN       NaN                NaN   \n",
       "1          -3      1        3                NaN       NaN                NaN   \n",
       "2           0      0     8993           6.578459  0.854065           5.656838   \n",
       "3           0      1     9013           2.968181  0.916279           5.726043   \n",
       "4           0      1     9014           0.000000  0.881818           5.309714   \n",
       "\n",
       "   QUALITY  POSITION_T  TOTAL_INTENSITY_CH2  TOTAL_INTENSITY_CH1  ...  \\\n",
       "0      NaN         NaN                  NaN                  NaN  ...   \n",
       "1      NaN         NaN                  NaN                  NaN  ...   \n",
       "2    601.0         0.0              70098.0              26356.0  ...   \n",
       "3    293.0         5.0              34098.0               4245.0  ...   \n",
       "4    291.0         5.0              33523.0               4350.0  ...   \n",
       "\n",
       "     RADIUS  MEDIAN_INTENSITY_CH2  ELLIPSE_ASPECTRATIO  PERIMETER  \\\n",
       "0       NaN                   NaN                  NaN        NaN   \n",
       "1       NaN                   NaN                  NaN        NaN   \n",
       "2  0.921242                 114.0             6.703090  10.285699   \n",
       "3  0.638839                 115.0             4.279183   5.944787   \n",
       "4  0.633956                 115.0             3.903724   5.747940   \n",
       "\n",
       "   ROI_N_POINTS                                         ROI_coords  cell_name  \\\n",
       "0           NaN                                                NaN        NaN   \n",
       "1           NaN                                                NaN        NaN   \n",
       "2            52  [(-1.5894197951076556, 1.1551815744407925), (-...     ID8993   \n",
       "3            30  [(-0.727319272545234, 0.8544524671426856), (-0...     ID9013   \n",
       "4            34  [(-0.6141453589387584, 0.5208483829178867), (-...     ID9014   \n",
       "\n",
       "      cell_x     cell_y  cell_z  \n",
       "0   1.000000   2.000000     0.0  \n",
       "1        NaN        NaN     NaN  \n",
       "2  15.389186  19.363325     0.0  \n",
       "3  16.832535  18.214914     0.0  \n",
       "4  14.282171  19.470698     0.0  \n",
       "\n",
       "[5 rows x 40 columns]"
      ]
     },
     "execution_count": 66,
     "metadata": {},
     "output_type": "execute_result"
    }
   ],
   "source": [
    "cell_df.head()"
   ]
  },
  {
   "cell_type": "markdown",
   "metadata": {},
   "source": [
    "You can then process the DataFrame however you want and save it as a CSV file."
   ]
  },
  {
   "cell_type": "code",
   "execution_count": 67,
   "metadata": {},
   "outputs": [],
   "source": [
    "filename = tm_model.model_metadata[\"name\"] + \"_cell_df.csv\"\n",
    "cell_df.to_csv(\"../sample_data/results/\" + filename, index=False)"
   ]
  },
  {
   "cell_type": "markdown",
   "metadata": {},
   "source": [
    "#### Links table"
   ]
  },
  {
   "cell_type": "markdown",
   "metadata": {},
   "source": [
    "A link table contains all the properties stored in the **links (edges) of the cell lineages** of the model. There is one row per link and one column per link property. The DataFrame is ordered by increasing `lineage_ID`."
   ]
  },
  {
   "cell_type": "code",
   "execution_count": 68,
   "metadata": {},
   "outputs": [
    {
     "name": "stdout",
     "output_type": "stream",
     "text": [
      "(524, 13)\n",
      "Index(['lineage_ID', 'source_cell_ID', 'target_cell_ID', 'DISPLACEMENT',\n",
      "       'link_z', 'DIRECTIONAL_CHANGE_RATE', 'SPOT_SOURCE_ID', 'SPEED',\n",
      "       'EDGE_TIME', 'SPOT_TARGET_ID', 'LINK_COST', 'link_y', 'link_x'],\n",
      "      dtype='object')\n"
     ]
    }
   ],
   "source": [
    "link_df = tm_model.to_link_dataframe()\n",
    "print(link_df.shape)\n",
    "print(link_df.columns)"
   ]
  },
  {
   "cell_type": "code",
   "execution_count": 69,
   "metadata": {},
   "outputs": [
    {
     "data": {
      "text/html": [
       "<div>\n",
       "<style scoped>\n",
       "    .dataframe tbody tr th:only-of-type {\n",
       "        vertical-align: middle;\n",
       "    }\n",
       "\n",
       "    .dataframe tbody tr th {\n",
       "        vertical-align: top;\n",
       "    }\n",
       "\n",
       "    .dataframe thead th {\n",
       "        text-align: right;\n",
       "    }\n",
       "</style>\n",
       "<table border=\"1\" class=\"dataframe\">\n",
       "  <thead>\n",
       "    <tr style=\"text-align: right;\">\n",
       "      <th></th>\n",
       "      <th>lineage_ID</th>\n",
       "      <th>source_cell_ID</th>\n",
       "      <th>target_cell_ID</th>\n",
       "      <th>DISPLACEMENT</th>\n",
       "      <th>link_z</th>\n",
       "      <th>DIRECTIONAL_CHANGE_RATE</th>\n",
       "      <th>SPOT_SOURCE_ID</th>\n",
       "      <th>SPEED</th>\n",
       "      <th>EDGE_TIME</th>\n",
       "      <th>SPOT_TARGET_ID</th>\n",
       "      <th>LINK_COST</th>\n",
       "      <th>link_y</th>\n",
       "      <th>link_x</th>\n",
       "    </tr>\n",
       "  </thead>\n",
       "  <tbody>\n",
       "    <tr>\n",
       "      <th>0</th>\n",
       "      <td>0</td>\n",
       "      <td>9216.0</td>\n",
       "      <td>9290.0</td>\n",
       "      <td>0.437667</td>\n",
       "      <td>0.0</td>\n",
       "      <td>0.556800</td>\n",
       "      <td>9216.0</td>\n",
       "      <td>0.087533</td>\n",
       "      <td>92.5</td>\n",
       "      <td>9290.0</td>\n",
       "      <td>0.397900</td>\n",
       "      <td>18.700692</td>\n",
       "      <td>15.776474</td>\n",
       "    </tr>\n",
       "    <tr>\n",
       "      <th>1</th>\n",
       "      <td>0</td>\n",
       "      <td>9218.0</td>\n",
       "      <td>9294.0</td>\n",
       "      <td>1.422631</td>\n",
       "      <td>0.0</td>\n",
       "      <td>0.608195</td>\n",
       "      <td>9218.0</td>\n",
       "      <td>0.284526</td>\n",
       "      <td>92.5</td>\n",
       "      <td>9294.0</td>\n",
       "      <td>0.467842</td>\n",
       "      <td>15.808225</td>\n",
       "      <td>20.106089</td>\n",
       "    </tr>\n",
       "    <tr>\n",
       "      <th>2</th>\n",
       "      <td>0</td>\n",
       "      <td>9222.0</td>\n",
       "      <td>9306.0</td>\n",
       "      <td>0.631321</td>\n",
       "      <td>0.0</td>\n",
       "      <td>0.055708</td>\n",
       "      <td>9222.0</td>\n",
       "      <td>0.126264</td>\n",
       "      <td>92.5</td>\n",
       "      <td>9306.0</td>\n",
       "      <td>0.403972</td>\n",
       "      <td>22.138865</td>\n",
       "      <td>11.621851</td>\n",
       "    </tr>\n",
       "    <tr>\n",
       "      <th>3</th>\n",
       "      <td>0</td>\n",
       "      <td>9223.0</td>\n",
       "      <td>9293.0</td>\n",
       "      <td>1.365206</td>\n",
       "      <td>0.0</td>\n",
       "      <td>0.606456</td>\n",
       "      <td>9223.0</td>\n",
       "      <td>0.273041</td>\n",
       "      <td>92.5</td>\n",
       "      <td>9293.0</td>\n",
       "      <td>0.491012</td>\n",
       "      <td>15.591736</td>\n",
       "      <td>18.851734</td>\n",
       "    </tr>\n",
       "    <tr>\n",
       "      <th>4</th>\n",
       "      <td>0</td>\n",
       "      <td>9227.0</td>\n",
       "      <td>9308.0</td>\n",
       "      <td>2.009642</td>\n",
       "      <td>0.0</td>\n",
       "      <td>0.011716</td>\n",
       "      <td>9227.0</td>\n",
       "      <td>0.401928</td>\n",
       "      <td>92.5</td>\n",
       "      <td>9308.0</td>\n",
       "      <td>0.616573</td>\n",
       "      <td>12.818797</td>\n",
       "      <td>22.279749</td>\n",
       "    </tr>\n",
       "  </tbody>\n",
       "</table>\n",
       "</div>"
      ],
      "text/plain": [
       "   lineage_ID  source_cell_ID  target_cell_ID  DISPLACEMENT  link_z  \\\n",
       "0           0          9216.0          9290.0      0.437667     0.0   \n",
       "1           0          9218.0          9294.0      1.422631     0.0   \n",
       "2           0          9222.0          9306.0      0.631321     0.0   \n",
       "3           0          9223.0          9293.0      1.365206     0.0   \n",
       "4           0          9227.0          9308.0      2.009642     0.0   \n",
       "\n",
       "   DIRECTIONAL_CHANGE_RATE  SPOT_SOURCE_ID     SPEED  EDGE_TIME  \\\n",
       "0                 0.556800          9216.0  0.087533       92.5   \n",
       "1                 0.608195          9218.0  0.284526       92.5   \n",
       "2                 0.055708          9222.0  0.126264       92.5   \n",
       "3                 0.606456          9223.0  0.273041       92.5   \n",
       "4                 0.011716          9227.0  0.401928       92.5   \n",
       "\n",
       "   SPOT_TARGET_ID  LINK_COST     link_y     link_x  \n",
       "0          9290.0   0.397900  18.700692  15.776474  \n",
       "1          9294.0   0.467842  15.808225  20.106089  \n",
       "2          9306.0   0.403972  22.138865  11.621851  \n",
       "3          9293.0   0.491012  15.591736  18.851734  \n",
       "4          9308.0   0.616573  12.818797  22.279749  "
      ]
     },
     "execution_count": 69,
     "metadata": {},
     "output_type": "execute_result"
    }
   ],
   "source": [
    "link_df.head()"
   ]
  },
  {
   "cell_type": "code",
   "execution_count": 70,
   "metadata": {},
   "outputs": [],
   "source": [
    "filename = tm_model.model_metadata[\"name\"] + \"_link_df.csv\"\n",
    "link_df.to_csv(\"../sample_data/results/\" + filename, index=False)"
   ]
  },
  {
   "cell_type": "markdown",
   "metadata": {},
   "source": [
    "#### Cell cycles table"
   ]
  },
  {
   "cell_type": "markdown",
   "metadata": {},
   "source": [
    "A cell cycle table contains all the properties stored in the **cell cycles (nodes) of the cycle lineages** of the model. There is one row per cell cycle and one column per cell cycle property. The DataFrame is ordered by increasing `lineage_ID` first, then by `level`, then by `cycle_ID`."
   ]
  },
  {
   "cell_type": "code",
   "execution_count": 71,
   "metadata": {},
   "outputs": [
    {
     "name": "stdout",
     "output_type": "stream",
     "text": [
      "(147, 6)\n",
      "Index(['lineage_ID', 'level', 'cycle_ID', 'cells', 'cycle_length',\n",
      "       'cycle_duration'],\n",
      "      dtype='object')\n"
     ]
    }
   ],
   "source": [
    "cycle_df = tm_model.to_cycle_dataframe()\n",
    "print(cycle_df.shape)\n",
    "print(cycle_df.columns)"
   ]
  },
  {
   "cell_type": "code",
   "execution_count": 72,
   "metadata": {},
   "outputs": [
    {
     "data": {
      "text/html": [
       "<div>\n",
       "<style scoped>\n",
       "    .dataframe tbody tr th:only-of-type {\n",
       "        vertical-align: middle;\n",
       "    }\n",
       "\n",
       "    .dataframe tbody tr th {\n",
       "        vertical-align: top;\n",
       "    }\n",
       "\n",
       "    .dataframe thead th {\n",
       "        text-align: right;\n",
       "    }\n",
       "</style>\n",
       "<table border=\"1\" class=\"dataframe\">\n",
       "  <thead>\n",
       "    <tr style=\"text-align: right;\">\n",
       "      <th></th>\n",
       "      <th>lineage_ID</th>\n",
       "      <th>level</th>\n",
       "      <th>cycle_ID</th>\n",
       "      <th>cells</th>\n",
       "      <th>cycle_length</th>\n",
       "      <th>cycle_duration</th>\n",
       "    </tr>\n",
       "  </thead>\n",
       "  <tbody>\n",
       "    <tr>\n",
       "      <th>0</th>\n",
       "      <td>-9510</td>\n",
       "      <td>0</td>\n",
       "      <td>9510</td>\n",
       "      <td>[9510]</td>\n",
       "      <td>1</td>\n",
       "      <td>1</td>\n",
       "    </tr>\n",
       "    <tr>\n",
       "      <th>1</th>\n",
       "      <td>-3</td>\n",
       "      <td>0</td>\n",
       "      <td>3</td>\n",
       "      <td>[3]</td>\n",
       "      <td>1</td>\n",
       "      <td>1</td>\n",
       "    </tr>\n",
       "    <tr>\n",
       "      <th>2</th>\n",
       "      <td>0</td>\n",
       "      <td>0</td>\n",
       "      <td>8993</td>\n",
       "      <td>[8993]</td>\n",
       "      <td>1</td>\n",
       "      <td>1</td>\n",
       "    </tr>\n",
       "    <tr>\n",
       "      <th>3</th>\n",
       "      <td>0</td>\n",
       "      <td>1</td>\n",
       "      <td>9019</td>\n",
       "      <td>[9013, 8989, 8996, 9001, 9010, 9019]</td>\n",
       "      <td>6</td>\n",
       "      <td>6</td>\n",
       "    </tr>\n",
       "    <tr>\n",
       "      <th>4</th>\n",
       "      <td>0</td>\n",
       "      <td>1</td>\n",
       "      <td>9020</td>\n",
       "      <td>[9014, 8986, 8988, 8999, 9008, 9020]</td>\n",
       "      <td>6</td>\n",
       "      <td>6</td>\n",
       "    </tr>\n",
       "  </tbody>\n",
       "</table>\n",
       "</div>"
      ],
      "text/plain": [
       "   lineage_ID  level  cycle_ID                                 cells  \\\n",
       "0       -9510      0      9510                                [9510]   \n",
       "1          -3      0         3                                   [3]   \n",
       "2           0      0      8993                                [8993]   \n",
       "3           0      1      9019  [9013, 8989, 8996, 9001, 9010, 9019]   \n",
       "4           0      1      9020  [9014, 8986, 8988, 8999, 9008, 9020]   \n",
       "\n",
       "   cycle_length  cycle_duration  \n",
       "0             1               1  \n",
       "1             1               1  \n",
       "2             1               1  \n",
       "3             6               6  \n",
       "4             6               6  "
      ]
     },
     "execution_count": 72,
     "metadata": {},
     "output_type": "execute_result"
    }
   ],
   "source": [
    "cycle_df.head()"
   ]
  },
  {
   "cell_type": "code",
   "execution_count": 73,
   "metadata": {},
   "outputs": [],
   "source": [
    "filename = tm_model.model_metadata[\"name\"] + \"_cycle_df.csv\"\n",
    "cycle_df.to_csv(\"../sample_data/results/\" + filename, index=False)"
   ]
  },
  {
   "cell_type": "markdown",
   "metadata": {},
   "source": [
    "#### Lineages table"
   ]
  },
  {
   "cell_type": "markdown",
   "metadata": {},
   "source": [
    "A lineage table contains all the properties stored in the **cell lineages (graphs)** of the model. There is one row per lineage and one column per lineage property. The DataFrame is ordered by increasing `lineage_ID`."
   ]
  },
  {
   "cell_type": "code",
   "execution_count": 74,
   "metadata": {},
   "outputs": [
    {
     "name": "stdout",
     "output_type": "stream",
     "text": [
      "(5, 31)\n",
      "Index(['lineage_ID', 'TRACK_INDEX', 'DIVISION_TIME_MEAN', 'DIVISION_TIME_STD',\n",
      "       'NUMBER_SPOTS', 'NUMBER_GAPS', 'NUMBER_SPLITS', 'NUMBER_MERGES',\n",
      "       'NUMBER_COMPLEX', 'LONGEST_GAP', 'TRACK_DURATION', 'TRACK_START',\n",
      "       'TRACK_STOP', 'TRACK_DISPLACEMENT', 'TRACK_MEAN_SPEED',\n",
      "       'TRACK_MAX_SPEED', 'TRACK_MIN_SPEED', 'TRACK_MEDIAN_SPEED',\n",
      "       'TRACK_STD_SPEED', 'TRACK_MEAN_QUALITY', 'TOTAL_DISTANCE_TRAVELED',\n",
      "       'MAX_DISTANCE_TRAVELED', 'CONFINEMENT_RATIO',\n",
      "       'MEAN_STRAIGHT_LINE_SPEED', 'LINEARITY_OF_FORWARD_PROGRESSION',\n",
      "       'MEAN_DIRECTIONAL_CHANGE_RATE', 'lineage_name', 'lineage_x',\n",
      "       'lineage_y', 'lineage_z', 'FilteredTrack'],\n",
      "      dtype='object')\n"
     ]
    }
   ],
   "source": [
    "lin_df = tm_model.to_lineage_dataframe()\n",
    "print(lin_df.shape)\n",
    "print(lin_df.columns)"
   ]
  },
  {
   "cell_type": "code",
   "execution_count": 75,
   "metadata": {},
   "outputs": [
    {
     "data": {
      "text/html": [
       "<div>\n",
       "<style scoped>\n",
       "    .dataframe tbody tr th:only-of-type {\n",
       "        vertical-align: middle;\n",
       "    }\n",
       "\n",
       "    .dataframe tbody tr th {\n",
       "        vertical-align: top;\n",
       "    }\n",
       "\n",
       "    .dataframe thead th {\n",
       "        text-align: right;\n",
       "    }\n",
       "</style>\n",
       "<table border=\"1\" class=\"dataframe\">\n",
       "  <thead>\n",
       "    <tr style=\"text-align: right;\">\n",
       "      <th></th>\n",
       "      <th>lineage_ID</th>\n",
       "      <th>TRACK_INDEX</th>\n",
       "      <th>DIVISION_TIME_MEAN</th>\n",
       "      <th>DIVISION_TIME_STD</th>\n",
       "      <th>NUMBER_SPOTS</th>\n",
       "      <th>NUMBER_GAPS</th>\n",
       "      <th>NUMBER_SPLITS</th>\n",
       "      <th>NUMBER_MERGES</th>\n",
       "      <th>NUMBER_COMPLEX</th>\n",
       "      <th>LONGEST_GAP</th>\n",
       "      <th>...</th>\n",
       "      <th>MAX_DISTANCE_TRAVELED</th>\n",
       "      <th>CONFINEMENT_RATIO</th>\n",
       "      <th>MEAN_STRAIGHT_LINE_SPEED</th>\n",
       "      <th>LINEARITY_OF_FORWARD_PROGRESSION</th>\n",
       "      <th>MEAN_DIRECTIONAL_CHANGE_RATE</th>\n",
       "      <th>lineage_name</th>\n",
       "      <th>lineage_x</th>\n",
       "      <th>lineage_y</th>\n",
       "      <th>lineage_z</th>\n",
       "      <th>FilteredTrack</th>\n",
       "    </tr>\n",
       "  </thead>\n",
       "  <tbody>\n",
       "    <tr>\n",
       "      <th>0</th>\n",
       "      <td>-9510</td>\n",
       "      <td>1</td>\n",
       "      <td>15.370370</td>\n",
       "      <td>7.195876</td>\n",
       "      <td>189</td>\n",
       "      <td>0</td>\n",
       "      <td>28</td>\n",
       "      <td>0</td>\n",
       "      <td>0</td>\n",
       "      <td>0</td>\n",
       "      <td>...</td>\n",
       "      <td>24.429157</td>\n",
       "      <td>0.045111</td>\n",
       "      <td>0.093155</td>\n",
       "      <td>0.385491</td>\n",
       "      <td>0.239330</td>\n",
       "      <td>Track_1</td>\n",
       "      <td>11.299503</td>\n",
       "      <td>20.138499</td>\n",
       "      <td>0.0</td>\n",
       "      <td>True</td>\n",
       "    </tr>\n",
       "    <tr>\n",
       "      <th>1</th>\n",
       "      <td>-3</td>\n",
       "      <td>1</td>\n",
       "      <td>15.370370</td>\n",
       "      <td>7.195876</td>\n",
       "      <td>189</td>\n",
       "      <td>0</td>\n",
       "      <td>28</td>\n",
       "      <td>0</td>\n",
       "      <td>0</td>\n",
       "      <td>0</td>\n",
       "      <td>...</td>\n",
       "      <td>24.429157</td>\n",
       "      <td>0.045111</td>\n",
       "      <td>0.093155</td>\n",
       "      <td>0.385491</td>\n",
       "      <td>0.239330</td>\n",
       "      <td>Track_1</td>\n",
       "      <td>11.299503</td>\n",
       "      <td>20.138499</td>\n",
       "      <td>0.0</td>\n",
       "      <td>True</td>\n",
       "    </tr>\n",
       "    <tr>\n",
       "      <th>2</th>\n",
       "      <td>0</td>\n",
       "      <td>0</td>\n",
       "      <td>20.937500</td>\n",
       "      <td>5.543389</td>\n",
       "      <td>152</td>\n",
       "      <td>0</td>\n",
       "      <td>18</td>\n",
       "      <td>0</td>\n",
       "      <td>0</td>\n",
       "      <td>0</td>\n",
       "      <td>...</td>\n",
       "      <td>21.091779</td>\n",
       "      <td>0.021150</td>\n",
       "      <td>0.034013</td>\n",
       "      <td>0.145166</td>\n",
       "      <td>0.222930</td>\n",
       "      <td>Track_0</td>\n",
       "      <td>16.866163</td>\n",
       "      <td>17.210040</td>\n",
       "      <td>0.0</td>\n",
       "      <td>True</td>\n",
       "    </tr>\n",
       "    <tr>\n",
       "      <th>3</th>\n",
       "      <td>1</td>\n",
       "      <td>1</td>\n",
       "      <td>15.370370</td>\n",
       "      <td>7.195876</td>\n",
       "      <td>189</td>\n",
       "      <td>0</td>\n",
       "      <td>28</td>\n",
       "      <td>0</td>\n",
       "      <td>0</td>\n",
       "      <td>0</td>\n",
       "      <td>...</td>\n",
       "      <td>24.429157</td>\n",
       "      <td>0.045111</td>\n",
       "      <td>0.093155</td>\n",
       "      <td>0.385491</td>\n",
       "      <td>0.239330</td>\n",
       "      <td>Track_1</td>\n",
       "      <td>11.299503</td>\n",
       "      <td>20.138499</td>\n",
       "      <td>0.0</td>\n",
       "      <td>True</td>\n",
       "    </tr>\n",
       "    <tr>\n",
       "      <th>4</th>\n",
       "      <td>2</td>\n",
       "      <td>2</td>\n",
       "      <td>20.652174</td>\n",
       "      <td>9.083495</td>\n",
       "      <td>185</td>\n",
       "      <td>0</td>\n",
       "      <td>25</td>\n",
       "      <td>0</td>\n",
       "      <td>0</td>\n",
       "      <td>0</td>\n",
       "      <td>...</td>\n",
       "      <td>16.092759</td>\n",
       "      <td>0.048998</td>\n",
       "      <td>0.085048</td>\n",
       "      <td>0.409802</td>\n",
       "      <td>0.242049</td>\n",
       "      <td>Track_2</td>\n",
       "      <td>32.125552</td>\n",
       "      <td>36.839327</td>\n",
       "      <td>0.0</td>\n",
       "      <td>True</td>\n",
       "    </tr>\n",
       "  </tbody>\n",
       "</table>\n",
       "<p>5 rows × 31 columns</p>\n",
       "</div>"
      ],
      "text/plain": [
       "   lineage_ID  TRACK_INDEX  DIVISION_TIME_MEAN  DIVISION_TIME_STD  \\\n",
       "0       -9510            1           15.370370           7.195876   \n",
       "1          -3            1           15.370370           7.195876   \n",
       "2           0            0           20.937500           5.543389   \n",
       "3           1            1           15.370370           7.195876   \n",
       "4           2            2           20.652174           9.083495   \n",
       "\n",
       "   NUMBER_SPOTS  NUMBER_GAPS  NUMBER_SPLITS  NUMBER_MERGES  NUMBER_COMPLEX  \\\n",
       "0           189            0             28              0               0   \n",
       "1           189            0             28              0               0   \n",
       "2           152            0             18              0               0   \n",
       "3           189            0             28              0               0   \n",
       "4           185            0             25              0               0   \n",
       "\n",
       "   LONGEST_GAP  ...  MAX_DISTANCE_TRAVELED  CONFINEMENT_RATIO  \\\n",
       "0            0  ...              24.429157           0.045111   \n",
       "1            0  ...              24.429157           0.045111   \n",
       "2            0  ...              21.091779           0.021150   \n",
       "3            0  ...              24.429157           0.045111   \n",
       "4            0  ...              16.092759           0.048998   \n",
       "\n",
       "   MEAN_STRAIGHT_LINE_SPEED  LINEARITY_OF_FORWARD_PROGRESSION  \\\n",
       "0                  0.093155                          0.385491   \n",
       "1                  0.093155                          0.385491   \n",
       "2                  0.034013                          0.145166   \n",
       "3                  0.093155                          0.385491   \n",
       "4                  0.085048                          0.409802   \n",
       "\n",
       "   MEAN_DIRECTIONAL_CHANGE_RATE  lineage_name  lineage_x  lineage_y  \\\n",
       "0                      0.239330       Track_1  11.299503  20.138499   \n",
       "1                      0.239330       Track_1  11.299503  20.138499   \n",
       "2                      0.222930       Track_0  16.866163  17.210040   \n",
       "3                      0.239330       Track_1  11.299503  20.138499   \n",
       "4                      0.242049       Track_2  32.125552  36.839327   \n",
       "\n",
       "   lineage_z  FilteredTrack  \n",
       "0        0.0           True  \n",
       "1        0.0           True  \n",
       "2        0.0           True  \n",
       "3        0.0           True  \n",
       "4        0.0           True  \n",
       "\n",
       "[5 rows x 31 columns]"
      ]
     },
     "execution_count": 75,
     "metadata": {},
     "output_type": "execute_result"
    }
   ],
   "source": [
    "lin_df.head()"
   ]
  },
  {
   "cell_type": "code",
   "execution_count": 76,
   "metadata": {},
   "outputs": [],
   "source": [
    "filename = tm_model.model_metadata[\"name\"] + \"_lin_df.csv\"\n",
    "lin_df.to_csv(\"../sample_data/results/\" + filename, index=False)"
   ]
  },
  {
   "cell_type": "markdown",
   "metadata": {},
   "source": [
    "#### Exporting a subset of lineages"
   ]
  },
  {
   "cell_type": "markdown",
   "metadata": {},
   "source": [
    "For each of the 4 methods above, `to_xxx_dataframe()`, all lineages in the model are processed. If you are interested in just a subset of lineages, you can choose the lineages by passing a list of the `lineage_ID`:"
   ]
  },
  {
   "cell_type": "code",
   "execution_count": 77,
   "metadata": {},
   "outputs": [
    {
     "name": "stdout",
     "output_type": "stream",
     "text": [
      "(152, 40)\n"
     ]
    },
    {
     "data": {
      "text/html": [
       "<div>\n",
       "<style scoped>\n",
       "    .dataframe tbody tr th:only-of-type {\n",
       "        vertical-align: middle;\n",
       "    }\n",
       "\n",
       "    .dataframe tbody tr th {\n",
       "        vertical-align: top;\n",
       "    }\n",
       "\n",
       "    .dataframe thead th {\n",
       "        text-align: right;\n",
       "    }\n",
       "</style>\n",
       "<table border=\"1\" class=\"dataframe\">\n",
       "  <thead>\n",
       "    <tr style=\"text-align: right;\">\n",
       "      <th></th>\n",
       "      <th>lineage_ID</th>\n",
       "      <th>frame</th>\n",
       "      <th>cell_ID</th>\n",
       "      <th>STD_INTENSITY_CH1</th>\n",
       "      <th>SOLIDITY</th>\n",
       "      <th>STD_INTENSITY_CH2</th>\n",
       "      <th>QUALITY</th>\n",
       "      <th>POSITION_T</th>\n",
       "      <th>TOTAL_INTENSITY_CH2</th>\n",
       "      <th>TOTAL_INTENSITY_CH1</th>\n",
       "      <th>...</th>\n",
       "      <th>RADIUS</th>\n",
       "      <th>MEDIAN_INTENSITY_CH2</th>\n",
       "      <th>ELLIPSE_ASPECTRATIO</th>\n",
       "      <th>PERIMETER</th>\n",
       "      <th>ROI_N_POINTS</th>\n",
       "      <th>ROI_coords</th>\n",
       "      <th>cell_name</th>\n",
       "      <th>cell_x</th>\n",
       "      <th>cell_y</th>\n",
       "      <th>cell_z</th>\n",
       "    </tr>\n",
       "  </thead>\n",
       "  <tbody>\n",
       "    <tr>\n",
       "      <th>0</th>\n",
       "      <td>0</td>\n",
       "      <td>0</td>\n",
       "      <td>8993</td>\n",
       "      <td>6.578459</td>\n",
       "      <td>0.854065</td>\n",
       "      <td>5.656838</td>\n",
       "      <td>601.0</td>\n",
       "      <td>0.0</td>\n",
       "      <td>70098.0</td>\n",
       "      <td>26356.0</td>\n",
       "      <td>...</td>\n",
       "      <td>0.921242</td>\n",
       "      <td>114.0</td>\n",
       "      <td>6.703090</td>\n",
       "      <td>10.285699</td>\n",
       "      <td>52</td>\n",
       "      <td>[(-1.5894197951076556, 1.1551815744407925), (-...</td>\n",
       "      <td>ID8993</td>\n",
       "      <td>15.389186</td>\n",
       "      <td>19.363325</td>\n",
       "      <td>0.0</td>\n",
       "    </tr>\n",
       "    <tr>\n",
       "      <th>1</th>\n",
       "      <td>0</td>\n",
       "      <td>1</td>\n",
       "      <td>9013</td>\n",
       "      <td>2.968181</td>\n",
       "      <td>0.916279</td>\n",
       "      <td>5.726043</td>\n",
       "      <td>293.0</td>\n",
       "      <td>5.0</td>\n",
       "      <td>34098.0</td>\n",
       "      <td>4245.0</td>\n",
       "      <td>...</td>\n",
       "      <td>0.638839</td>\n",
       "      <td>115.0</td>\n",
       "      <td>4.279183</td>\n",
       "      <td>5.944787</td>\n",
       "      <td>30</td>\n",
       "      <td>[(-0.727319272545234, 0.8544524671426856), (-0...</td>\n",
       "      <td>ID9013</td>\n",
       "      <td>16.832535</td>\n",
       "      <td>18.214914</td>\n",
       "      <td>0.0</td>\n",
       "    </tr>\n",
       "    <tr>\n",
       "      <th>2</th>\n",
       "      <td>0</td>\n",
       "      <td>1</td>\n",
       "      <td>9014</td>\n",
       "      <td>0.000000</td>\n",
       "      <td>0.881818</td>\n",
       "      <td>5.309714</td>\n",
       "      <td>291.0</td>\n",
       "      <td>5.0</td>\n",
       "      <td>33523.0</td>\n",
       "      <td>4350.0</td>\n",
       "      <td>...</td>\n",
       "      <td>0.633956</td>\n",
       "      <td>115.0</td>\n",
       "      <td>3.903724</td>\n",
       "      <td>5.747940</td>\n",
       "      <td>34</td>\n",
       "      <td>[(-0.6141453589387584, 0.5208483829178867), (-...</td>\n",
       "      <td>ID9014</td>\n",
       "      <td>14.282171</td>\n",
       "      <td>19.470698</td>\n",
       "      <td>0.0</td>\n",
       "    </tr>\n",
       "    <tr>\n",
       "      <th>3</th>\n",
       "      <td>0</td>\n",
       "      <td>2</td>\n",
       "      <td>8986</td>\n",
       "      <td>0.000000</td>\n",
       "      <td>0.915761</td>\n",
       "      <td>5.841083</td>\n",
       "      <td>338.0</td>\n",
       "      <td>10.0</td>\n",
       "      <td>39655.0</td>\n",
       "      <td>1014.0</td>\n",
       "      <td>...</td>\n",
       "      <td>0.682225</td>\n",
       "      <td>117.0</td>\n",
       "      <td>4.359176</td>\n",
       "      <td>6.355476</td>\n",
       "      <td>31</td>\n",
       "      <td>[(-0.6357009198638028, 0.43737422107603763), (...</td>\n",
       "      <td>ID8986</td>\n",
       "      <td>13.908507</td>\n",
       "      <td>19.290692</td>\n",
       "      <td>0.0</td>\n",
       "    </tr>\n",
       "    <tr>\n",
       "      <th>4</th>\n",
       "      <td>0</td>\n",
       "      <td>2</td>\n",
       "      <td>8989</td>\n",
       "      <td>0.238197</td>\n",
       "      <td>0.842262</td>\n",
       "      <td>5.303366</td>\n",
       "      <td>288.0</td>\n",
       "      <td>10.0</td>\n",
       "      <td>32526.0</td>\n",
       "      <td>1124.0</td>\n",
       "      <td>...</td>\n",
       "      <td>0.625181</td>\n",
       "      <td>115.0</td>\n",
       "      <td>5.287340</td>\n",
       "      <td>6.341672</td>\n",
       "      <td>35</td>\n",
       "      <td>[(-0.801263212391051, 0.8421507178785816), (-0...</td>\n",
       "      <td>ID8989</td>\n",
       "      <td>16.774739</td>\n",
       "      <td>18.029605</td>\n",
       "      <td>0.0</td>\n",
       "    </tr>\n",
       "  </tbody>\n",
       "</table>\n",
       "<p>5 rows × 40 columns</p>\n",
       "</div>"
      ],
      "text/plain": [
       "   lineage_ID  frame  cell_ID  STD_INTENSITY_CH1  SOLIDITY  STD_INTENSITY_CH2  \\\n",
       "0           0      0     8993           6.578459  0.854065           5.656838   \n",
       "1           0      1     9013           2.968181  0.916279           5.726043   \n",
       "2           0      1     9014           0.000000  0.881818           5.309714   \n",
       "3           0      2     8986           0.000000  0.915761           5.841083   \n",
       "4           0      2     8989           0.238197  0.842262           5.303366   \n",
       "\n",
       "   QUALITY  POSITION_T  TOTAL_INTENSITY_CH2  TOTAL_INTENSITY_CH1  ...  \\\n",
       "0    601.0         0.0              70098.0              26356.0  ...   \n",
       "1    293.0         5.0              34098.0               4245.0  ...   \n",
       "2    291.0         5.0              33523.0               4350.0  ...   \n",
       "3    338.0        10.0              39655.0               1014.0  ...   \n",
       "4    288.0        10.0              32526.0               1124.0  ...   \n",
       "\n",
       "     RADIUS  MEDIAN_INTENSITY_CH2  ELLIPSE_ASPECTRATIO  PERIMETER  \\\n",
       "0  0.921242                 114.0             6.703090  10.285699   \n",
       "1  0.638839                 115.0             4.279183   5.944787   \n",
       "2  0.633956                 115.0             3.903724   5.747940   \n",
       "3  0.682225                 117.0             4.359176   6.355476   \n",
       "4  0.625181                 115.0             5.287340   6.341672   \n",
       "\n",
       "   ROI_N_POINTS                                         ROI_coords  cell_name  \\\n",
       "0            52  [(-1.5894197951076556, 1.1551815744407925), (-...     ID8993   \n",
       "1            30  [(-0.727319272545234, 0.8544524671426856), (-0...     ID9013   \n",
       "2            34  [(-0.6141453589387584, 0.5208483829178867), (-...     ID9014   \n",
       "3            31  [(-0.6357009198638028, 0.43737422107603763), (...     ID8986   \n",
       "4            35  [(-0.801263212391051, 0.8421507178785816), (-0...     ID8989   \n",
       "\n",
       "      cell_x     cell_y  cell_z  \n",
       "0  15.389186  19.363325     0.0  \n",
       "1  16.832535  18.214914     0.0  \n",
       "2  14.282171  19.470698     0.0  \n",
       "3  13.908507  19.290692     0.0  \n",
       "4  16.774739  18.029605     0.0  \n",
       "\n",
       "[5 rows x 40 columns]"
      ]
     },
     "execution_count": 77,
     "metadata": {},
     "output_type": "execute_result"
    }
   ],
   "source": [
    "# Cell dataframe of lineage of ID = 0.\n",
    "lin0_cell_df = tm_model.to_cell_dataframe([0])\n",
    "print(lin0_cell_df.shape)\n",
    "lin0_cell_df.head()"
   ]
  },
  {
   "cell_type": "code",
   "execution_count": 78,
   "metadata": {},
   "outputs": [
    {
     "name": "stdout",
     "output_type": "stream",
     "text": [
      "(2, 31)\n"
     ]
    },
    {
     "data": {
      "text/html": [
       "<div>\n",
       "<style scoped>\n",
       "    .dataframe tbody tr th:only-of-type {\n",
       "        vertical-align: middle;\n",
       "    }\n",
       "\n",
       "    .dataframe tbody tr th {\n",
       "        vertical-align: top;\n",
       "    }\n",
       "\n",
       "    .dataframe thead th {\n",
       "        text-align: right;\n",
       "    }\n",
       "</style>\n",
       "<table border=\"1\" class=\"dataframe\">\n",
       "  <thead>\n",
       "    <tr style=\"text-align: right;\">\n",
       "      <th></th>\n",
       "      <th>lineage_ID</th>\n",
       "      <th>TRACK_INDEX</th>\n",
       "      <th>DIVISION_TIME_MEAN</th>\n",
       "      <th>DIVISION_TIME_STD</th>\n",
       "      <th>NUMBER_SPOTS</th>\n",
       "      <th>NUMBER_GAPS</th>\n",
       "      <th>NUMBER_SPLITS</th>\n",
       "      <th>NUMBER_MERGES</th>\n",
       "      <th>NUMBER_COMPLEX</th>\n",
       "      <th>LONGEST_GAP</th>\n",
       "      <th>...</th>\n",
       "      <th>MAX_DISTANCE_TRAVELED</th>\n",
       "      <th>CONFINEMENT_RATIO</th>\n",
       "      <th>MEAN_STRAIGHT_LINE_SPEED</th>\n",
       "      <th>LINEARITY_OF_FORWARD_PROGRESSION</th>\n",
       "      <th>MEAN_DIRECTIONAL_CHANGE_RATE</th>\n",
       "      <th>lineage_name</th>\n",
       "      <th>lineage_x</th>\n",
       "      <th>lineage_y</th>\n",
       "      <th>lineage_z</th>\n",
       "      <th>FilteredTrack</th>\n",
       "    </tr>\n",
       "  </thead>\n",
       "  <tbody>\n",
       "    <tr>\n",
       "      <th>0</th>\n",
       "      <td>0</td>\n",
       "      <td>0</td>\n",
       "      <td>20.937500</td>\n",
       "      <td>5.543389</td>\n",
       "      <td>152</td>\n",
       "      <td>0</td>\n",
       "      <td>18</td>\n",
       "      <td>0</td>\n",
       "      <td>0</td>\n",
       "      <td>0</td>\n",
       "      <td>...</td>\n",
       "      <td>21.091779</td>\n",
       "      <td>0.021150</td>\n",
       "      <td>0.034013</td>\n",
       "      <td>0.145166</td>\n",
       "      <td>0.222930</td>\n",
       "      <td>Track_0</td>\n",
       "      <td>16.866163</td>\n",
       "      <td>17.210040</td>\n",
       "      <td>0.0</td>\n",
       "      <td>True</td>\n",
       "    </tr>\n",
       "    <tr>\n",
       "      <th>1</th>\n",
       "      <td>2</td>\n",
       "      <td>2</td>\n",
       "      <td>20.652174</td>\n",
       "      <td>9.083495</td>\n",
       "      <td>185</td>\n",
       "      <td>0</td>\n",
       "      <td>25</td>\n",
       "      <td>0</td>\n",
       "      <td>0</td>\n",
       "      <td>0</td>\n",
       "      <td>...</td>\n",
       "      <td>16.092759</td>\n",
       "      <td>0.048998</td>\n",
       "      <td>0.085048</td>\n",
       "      <td>0.409802</td>\n",
       "      <td>0.242049</td>\n",
       "      <td>Track_2</td>\n",
       "      <td>32.125552</td>\n",
       "      <td>36.839327</td>\n",
       "      <td>0.0</td>\n",
       "      <td>True</td>\n",
       "    </tr>\n",
       "  </tbody>\n",
       "</table>\n",
       "<p>2 rows × 31 columns</p>\n",
       "</div>"
      ],
      "text/plain": [
       "   lineage_ID  TRACK_INDEX  DIVISION_TIME_MEAN  DIVISION_TIME_STD  \\\n",
       "0           0            0           20.937500           5.543389   \n",
       "1           2            2           20.652174           9.083495   \n",
       "\n",
       "   NUMBER_SPOTS  NUMBER_GAPS  NUMBER_SPLITS  NUMBER_MERGES  NUMBER_COMPLEX  \\\n",
       "0           152            0             18              0               0   \n",
       "1           185            0             25              0               0   \n",
       "\n",
       "   LONGEST_GAP  ...  MAX_DISTANCE_TRAVELED  CONFINEMENT_RATIO  \\\n",
       "0            0  ...              21.091779           0.021150   \n",
       "1            0  ...              16.092759           0.048998   \n",
       "\n",
       "   MEAN_STRAIGHT_LINE_SPEED  LINEARITY_OF_FORWARD_PROGRESSION  \\\n",
       "0                  0.034013                          0.145166   \n",
       "1                  0.085048                          0.409802   \n",
       "\n",
       "   MEAN_DIRECTIONAL_CHANGE_RATE  lineage_name  lineage_x  lineage_y  \\\n",
       "0                      0.222930       Track_0  16.866163  17.210040   \n",
       "1                      0.242049       Track_2  32.125552  36.839327   \n",
       "\n",
       "   lineage_z  FilteredTrack  \n",
       "0        0.0           True  \n",
       "1        0.0           True  \n",
       "\n",
       "[2 rows x 31 columns]"
      ]
     },
     "execution_count": 78,
     "metadata": {},
     "output_type": "execute_result"
    }
   ],
   "source": [
    "# Lineage dataframe of lineages of ID 0 and 2.\n",
    "subset_lin_df = tm_model.to_lineage_dataframe([0, 2])\n",
    "print(subset_lin_df.shape)\n",
    "subset_lin_df.head()"
   ]
  },
  {
   "cell_type": "markdown",
   "metadata": {},
   "source": [
    "### Tracking formats"
   ]
  },
  {
   "cell_type": "markdown",
   "metadata": {},
   "source": [
    "Pycellin can export data to different external tracking file formats. It currently supports:\n",
    "- Cell Tracking Challenge text files\n",
    "- TrackMate XML files\n",
    "\n",
    "More tracking file formats will be supported in the future."
   ]
  },
  {
   "cell_type": "markdown",
   "metadata": {},
   "source": [
    "#### Cell Tracking Challenge"
   ]
  },
  {
   "cell_type": "markdown",
   "metadata": {},
   "source": [
    "Simply use the `export_CTC_file()` function to export a model to a CTC compatible text file:"
   ]
  },
  {
   "cell_type": "code",
   "execution_count": 79,
   "metadata": {},
   "outputs": [],
   "source": [
    "filename = my_model.model_metadata[\"name\"] + \"_CTC_export.txt\"\n",
    "ctc_out = \"../sample_data/results/\" + filename\n",
    "pycellin.export_CTC_file(my_model, ctc_out)"
   ]
  },
  {
   "cell_type": "markdown",
   "metadata": {},
   "source": [
    "The CTC file format does not support properties: only the topology of the lineages is exported. Moreover, `lineage_ID` and `cell_ID` are not carried over.\n",
    "\n",
    "See the [CTC file format specifications](https://public.celltrackingchallenge.net/documents/Naming%20and%20file%20content%20conventions.pdf) if you want more information on the format."
   ]
  },
  {
   "cell_type": "markdown",
   "metadata": {},
   "source": [
    "#### TrackMate"
   ]
  },
  {
   "cell_type": "markdown",
   "metadata": {},
   "source": [
    "A Pycellin model is exported as a TrackMate XML file with the function `export_TrackMate_XML()`. However, TrackMate requires properties to be given in a unique temporal and a unique spatial unit while Pycellin properties can each have different units. So you need to specify the space and time units for TrackMate and to ensure that your units are consistent across the Pycellin properties of the model."
   ]
  },
  {
   "cell_type": "code",
   "execution_count": 80,
   "metadata": {},
   "outputs": [
    {
     "data": {
      "text/plain": [
       "Model(model_metadata={'name': 'FakeTracks', 'file_location': '../sample_data/FakeTracks.xml', 'provenance': 'TrackMate', 'date': '2025-09-10 17:22:15.792372', 'space_unit': 'pixel', 'time_unit': 'sec', 'pycellin_version': '0.4.0', 'TrackMate_version': '8.0.0-SNAPSHOT-f411154ed1a4b9de350bbfe91c230cf3ae7639a3', 'time_step': 1.0, 'pixel_size': {'width': 1.0, 'height': 1.0, 'depth': 1.0}, 'Log': \"<Log>0.1101/2021.09.03.458852\\nand / or:\\nTinevez, JY.; Perry, N. &amp; Schindelin, J. et al. (2017), 'TrackMate: An open and extensible platform for single-particle tracking.', Methods 115: 80-90, PMID 27713081.\\nhttps://www.sciencedirect.com/science/article/pii/S1046202316303346\\n\\nNumerical feature analyzers:\\nSpot feature analyzers:\\n - Manual spot color provides: Spot color; is manual.\\n - Spot intensity provides: Mean ch1, Median ch1, Min ch1, Max ch1, Sum ch1, Std ch1.\\n - Spot contrast and SNR provides: Ctrst ch1, SNR ch1.\\n - Spot fit 2D ellipse provides: El. x0, El. y0, El. long axis, El. sh. axis, El. angle, El. a.r.\\n - Spot 2D shape descriptors provides: Area, Perim., Circ., Solidity.\\nEdge feature analyzers:\\n - Directional change provides: γ rate.\\n - Edge speed provides: Speed, Disp.\\n - Edge target provides: Source ID, Target ID, Cost.\\n - Edge location provides: Edge T, Edge X, Edge Y, Edge Z.\\n - Manual edge color provides: Edge color; is manual.\\nTrack feature analyzers:\\n - Branching analyzer provides: N spots, N gaps, N splits, N merges, N complex, Lgst gap.\\n - Track duration provides: Duration, Track start, Track stop, Track disp.\\n - Track index provides: Index, ID.\\n - Track location provides: Track X, Track Y, Track Z.\\n - Track speed provides: Mean sp., Max speed, Min speed, Med. speed, Std speed.\\n - Track quality provides: Mean Q.\\n - Track motility analysis provides: Total dist., Max dist., Cfn. ratio, Mn. v. line, Fwd. progr., Mn. γ rate.\\n\\nImage region of interest:\\nImage data:\\nFor the image named: FakeTracks.tif.\\nMatching file FakeTracks.tif in current folder.\\nGeometry:\\n  X =    0 -  127, dx = 1.00000\\n  Y =    0 -  127, dy = 1.00000\\n  Z =    0 -    0, dz = 1.00000\\n  T =    0 -   49, dt = 1.00000\\n\\nConfigured detector StarDist detector with settings:\\n  - target channel: 1\\n\\nStarting detection process using 24 threads.\\nDetection processes 1 frame simultaneously and allocates 24 threads per frame.\\nFound 107 spots.\\nDetection done in 2.3 s.\\n\\nComputing spot quality histogram...\\nInitial thresholding with a quality threshold above 0.4 ...\\nStarting initial filtering process.\\nRetained 107 spots out of 107.\\n\\nAdding morphology analyzers...\\n - Spot fit 2D ellipse provides: El. x0, El. y0, El. long axis, El. sh. axis, El. angle, El. a.r.\\n - Spot 2D shape descriptors provides: Area, Perim., Circ., Solidity.\\n\\nCalculating spot features...\\nCalculating features done in 0.1 s.\\n\\nPerforming spot filtering on the following features:\\n  - on Area below 49.9\\nKept 106 spots out of 107.\\n\\nConfigured tracker LAP Tracker with settings:\\n  - max frame gap: 2\\n  - alternative linking cost factor: 1.05\\n  - linking feature penalties: \\n  - linking max distance: 5.0\\n  - gap closing max distance: 5.0\\n  - merging feature penalties: \\n  - splitting max distance: 5.0\\n  - blocking value: Infinity\\n  - allow gap closing: true\\n  - allow track splitting: true\\n  - allow track merging: true\\n  - merging max distance: 5.0\\n  - splitting feature penalties: \\n  - cutoff percentile: 0.9\\n  - gap closing feature penalties: \\n\\nStarting tracking process.\\nTracking done in 0.0 s.\\nFound 17 tracks.\\n  - avg size: 5.1 spots.\\n  - min size: 2 spots.\\n  - max size: 12 spots.\\n\\nConfigured tracker LAP Tracker with settings:\\n  - max frame gap: 2\\n  - alternative linking cost factor: 1.05\\n  - linking feature penalties: \\n  - linking max distance: 8.0\\n  - gap closing max distance: 5.0\\n  - merging feature penalties: \\n  - splitting max distance: 5.0\\n  - blocking value: Infinity\\n  - allow gap closing: true\\n  - allow track splitting: true\\n  - allow track merging: true\\n  - merging max distance: 5.0\\n  - splitting feature penalties: \\n  - cutoff percentile: 0.9\\n  - gap closing feature penalties: \\n\\nStarting tracking process.\\nTracking done in 0.0 s.\\nFound 9 tracks.\\n  - avg size: 10.7 spots.\\n  - min size: 2 spots.\\n  - max size: 42 spots.\\n\\nCalculating features done in 0.0 s.\\n\\nPerforming track filtering on the following features:\\n  - on Track start below 78.0\\n  - on Total distance traveled above 23.9\\nKept 4 spots out of 9.\\n\\nPerforming track filtering on the following features:\\n  - on Track start below 78.0\\n  - on Total distance traveled above 23.9\\nKept 4 spots out of 9.\\n\\nConfigured tracker LAP Tracker with settings:\\n  - max frame gap: 2\\n  - alternative linking cost factor: 1.05\\n  - linking feature penalties: \\n  - linking max distance: 8.0\\n  - gap closing max distance: 5.0\\n  - merging feature penalties: \\n  - splitting max distance: 8.0\\n  - blocking value: Infinity\\n  - allow gap closing: true\\n  - allow track splitting: true\\n  - allow track merging: true\\n  - merging max distance: 8.0\\n  - splitting feature penalties: \\n  - cutoff percentile: 0.9\\n  - gap closing feature penalties: \\n\\nStarting tracking process.\\nTracking done in 0.0 s.\\nFound 7 tracks.\\n  - avg size: 13.7 spots.\\n  - min size: 2 spots.\\n  - max size: 74 spots.\\n\\nCalculating features done in 0.0 s.\\n\\nPerforming track filtering on the following features:\\n  - on Track start below 78.0\\n  - on Total distance traveled above 20.8\\nKept 2 spots out of 7.\\n\\nPerforming track filtering on the following features:\\n  - on Track start below 78.0\\n  - on Total distance traveled above 20.8\\nKept 2 spots out of 7.\\n\\nConfigured tracker LAP Tracker with settings:\\n  - max frame gap: 2\\n  - alternative linking cost factor: 1.05\\n  - linking feature penalties: \\n  - linking max distance: 10.0\\n  - gap closing max distance: 5.0\\n  - merging feature penalties: \\n  - splitting max distance: 8.0\\n  - blocking value: Infinity\\n  - allow gap closing: true\\n  - allow track splitting: true\\n  - allow track merging: true\\n  - merging max distance: 8.0\\n  - splitting feature penalties: \\n  - cutoff percentile: 0.9\\n  - gap closing feature penalties: \\n\\nStarting tracking process.\\nTracking done in 0.0 s.\\nFound 7 tracks.\\n  - avg size: 13.7 spots.\\n  - min size: 2 spots.\\n  - max size: 74 spots.\\n\\nCalculating features done in 0.0 s.\\n\\nPerforming track filtering on the following features:\\n  - on Track start below 78.0\\n  - on Total distance traveled above 20.8\\nKept 2 spots out of 7.\\n\\nPerforming track filtering on the following features:\\n  - on Track start below 78.0\\n  - on Total distance traveled above 20.8\\nKept 2 spots out of 7.\\n\\nConfigured tracker LAP Tracker with settings:\\n  - max frame gap: 2\\n  - alternative linking cost factor: 1.05\\n  - linking feature penalties: \\n  - linking max distance: 10.0\\n  - gap closing max distance: 8.0\\n  - merging feature penalties: \\n  - splitting max distance: 8.0\\n  - blocking value: Infinity\\n  - allow gap closing: true\\n  - allow track splitting: true\\n  - allow track merging: true\\n  - merging max distance: 8.0\\n  - splitting feature penalties: \\n  - cutoff percentile: 0.9\\n  - gap closing feature penalties: \\n\\nStarting tracking process.\\nTracking done in 0.0 s.\\nFound 7 tracks.\\n  - avg size: 13.7 spots.\\n  - min size: 2 spots.\\n  - max size: 74 spots.\\n\\nCalculating features done in 0.0 s.\\n\\nPerforming track filtering on the following features:\\n  - on Track start below 78.0\\n  - on Total distance traveled above 20.8\\nKept 2 spots out of 7.\\n\\nPerforming track filtering on the following features:\\n  - on Track start below 78.0\\n  - on Total distance traveled above 20.8\\nKept 2 spots out of 7.\\n\\nConfigured tracker LAP Tracker with settings:\\n  - max frame gap: 2\\n  - alternative linking cost factor: 1.05\\n  - linking feature penalties: \\n  - linking max distance: 10.0\\n  - gap closing max distance: 10.0\\n  - merging feature penalties: \\n  - splitting max distance: 10.0\\n  - blocking value: Infinity\\n  - allow gap closing: true\\n  - allow track splitting: true\\n  - allow track merging: true\\n  - merging max distance: 10.0\\n  - splitting feature penalties: \\n  - cutoff percentile: 0.9\\n  - gap closing feature penalties: \\n\\nStarting tracking process.\\nTracking done in 0.0 s.\\nFound 7 tracks.\\n  - avg size: 13.7 spots.\\n  - min size: 2 spots.\\n  - max size: 74 spots.\\n\\nCalculating features done in 0.0 s.\\n\\nPerforming track filtering on the following features:\\n  - on Track start below 78.0\\n  - on Total distance traveled above 20.8\\nKept 2 spots out of 7.\\nSaving data...\\nComputing edge features:\\n  - Directional change in 2 ms.\\n  - Edge speed in 0 ms.\\n  - Edge target in 1 ms.\\n  - Edge location in 1 ms.\\nComputation done in 4 ms.\\nComputing track features:\\n  - Branching analyzer in 0 ms.\\n  - Track duration in 0 ms.\\n  - Track index in 0 ms.\\n  - Track location in 4 ms.\\n  - Track speed in 0 ms.\\n  - Track quality in 1 ms.\\n  - Track motility analysis in 0 ms.\\nComputation done in 6 ms.\\n--------------------\\nWarnings occurred during reading the file:\\n--------------------\\nCannot read image file: /mnt/data/Code/pycellin/sample_data/FakeTracks.tif.\\n--------------------\\nFile loaded on Tue, 17 Oct 2023 18:15:18\\nTrackMate v8.0.0-SNAPSHOT-f411154ed1a4b9de350bbfe91c230cf3ae7639a3\\nPlease note that TrackMate is available through Fiji, and is based on a publication. If you use it successfully for your research please be so kind to cite our work:\\nErshov, D., Phan, MS., Pylvänäinen, J.W., Rigaud S.U., et al. TrackMate 7: integrating state-of-the-art segmentation algorithms into tracking pipelines. Nat Methods (2022). https://doi.org/10.1038/s41592-022-01507-1\\nhttps://doi.org/10.1038/s41592-022-01507-1\\nand / or:\\nTinevez, JY.; Perry, N. &amp; Schindelin, J. et al. (2017), 'TrackMate: An open and extensible platform for single-particle tracking.', Methods 115: 80-90, PMID 27713081.\\nhttps://www.sciencedirect.com/science/article/pii/S1046202316303346\\nSaving data...\\nWarning: The source image does not match a file on the system.TrackMate won't be able to reload it when opening this XML file.\\nTo fix this, save the source image to a TIF file before saving the TrackMate session.\\nComputing edge features:\\n  - Directional change in 4 ms.\\n  - Edge speed in 14 ms.\\n  - Edge target in 11 ms.\\n  - Edge location in 5 ms.\\nComputation done in 34 ms.\\nComputing track features:\\n  - Branching analyzer in 0 ms.\\n  - Track duration in 3 ms.\\n  - Track index in 0 ms.\\n  - Track location in 0 ms.\\n  - Track speed in 1 ms.\\n  - Track quality in 0 ms.\\n  - Track motility analysis in 1 ms.\\nComputation done in 5 ms.</Log>\\n  \", 'Settings': '<Settings>\\n    <ImageData filename=\"FakeTracks.tif\" folder=\"\" width=\"128\" height=\"128\" nslices=\"1\" nframes=\"50\" pixelwidth=\"1.0\" pixelheight=\"1.0\" voxeldepth=\"1.0\" timeinterval=\"1.0\"/>\\n    <BasicSettings xstart=\"0\" xend=\"127\" ystart=\"0\" yend=\"127\" zstart=\"0\" zend=\"0\" tstart=\"0\" tend=\"49\"/>\\n    <DetectorSettings DETECTOR_NAME=\"STARDIST_DETECTOR\" TARGET_CHANNEL=\"1\"/>\\n    <InitialSpotFilter feature=\"QUALITY\" value=\"0.4237962850817928\" isabove=\"true\"/>\\n    <SpotFilterCollection>\\n      <Filter feature=\"AREA\" value=\"49.86274509803923\" isabove=\"false\"/>\\n    </SpotFilterCollection>\\n    <TrackerSettings TRACKER_NAME=\"SPARSE_LAP_TRACKER\" CUTOFF_PERCENTILE=\"0.9\" ALTERNATIVE_LINKING_COST_FACTOR=\"1.05\" BLOCKING_VALUE=\"Infinity\">\\n      <Linking LINKING_MAX_DISTANCE=\"10.0\">\\n        <FeaturePenalties/>\\n      </Linking>\\n      <GapClosing ALLOW_GAP_CLOSING=\"true\" GAP_CLOSING_MAX_DISTANCE=\"10.0\" MAX_FRAME_GAP=\"2\">\\n        <FeaturePenalties/>\\n      </GapClosing>\\n      <TrackSplitting ALLOW_TRACK_SPLITTING=\"true\" SPLITTING_MAX_DISTANCE=\"10.0\">\\n        <FeaturePenalties/>\\n      </TrackSplitting>\\n      <TrackMerging ALLOW_TRACK_MERGING=\"true\" MERGING_MAX_DISTANCE=\"10.0\">\\n        <FeaturePenalties/>\\n      </TrackMerging>\\n    </TrackerSettings>\\n    <TrackFilterCollection>\\n      <Filter feature=\"TRACK_START\" value=\"77.9607843137255\" isabove=\"false\"/>\\n      <Filter feature=\"TOTAL_DISTANCE_TRAVELED\" value=\"20.75402586236767\" isabove=\"true\"/>\\n    </TrackFilterCollection>\\n    <AnalyzerCollection>\\n      <SpotAnalyzers>\\n        <Analyzer key=\"Manual spot color\"/>\\n        <Analyzer key=\"Spot intensity\"/>\\n        <Analyzer key=\"Spot contrast and SNR\"/>\\n        <Analyzer key=\"Spot fit 2D ellipse\"/>\\n        <Analyzer key=\"Spot 2D shape descriptors\"/>\\n      </SpotAnalyzers>\\n      <EdgeAnalyzers>\\n        <Analyzer key=\"Directional change\"/>\\n        <Analyzer key=\"Edge speed\"/>\\n        <Analyzer key=\"Edge target\"/>\\n        <Analyzer key=\"Edge location\"/>\\n        <Analyzer key=\"Manual edge color\"/>\\n      </EdgeAnalyzers>\\n      <TrackAnalyzers>\\n        <Analyzer key=\"Branching analyzer\"/>\\n        <Analyzer key=\"Track duration\"/>\\n        <Analyzer key=\"Track index\"/>\\n        <Analyzer key=\"Track location\"/>\\n        <Analyzer key=\"Track speed\"/>\\n        <Analyzer key=\"Track quality\"/>\\n        <Analyzer key=\"Track motility analysis\"/>\\n      </TrackAnalyzers>\\n    </AnalyzerCollection>\\n  </Settings>\\n  ', 'GUIState': '<GUIState state=\"ConfigureViews\"/>\\n  ', 'DisplaySettings': '<DisplaySettings>{\\n  \"name\": \"CurrentDisplaySettings\",\\n  \"spotUniformColor\": \"204, 51, 204, 255\",\\n  \"spotColorByType\": \"TRACKS\",\\n  \"spotColorByFeature\": \"TRACK_INDEX\",\\n  \"spotDisplayRadius\": 1.0,\\n  \"spotDisplayedAsRoi\": true,\\n  \"spotMin\": 0.0,\\n  \"spotMax\": 75.0,\\n  \"spotShowName\": false,\\n  \"trackMin\": 0.0,\\n  \"trackMax\": 10.0,\\n  \"trackColorByType\": \"TRACKS\",\\n  \"trackColorByFeature\": \"TRACK_INDEX\",\\n  \"trackUniformColor\": \"204, 204, 51, 255\",\\n  \"undefinedValueColor\": \"0, 0, 0, 255\",\\n  \"missingValueColor\": \"89, 89, 89, 255\",\\n  \"highlightColor\": \"51, 230, 51, 255\",\\n  \"trackDisplayMode\": \"LOCAL\",\\n  \"colormap\": \"Jet\",\\n  \"limitZDrawingDepth\": false,\\n  \"drawingZDepth\": 10.0,\\n  \"fadeTracks\": true,\\n  \"fadeTrackRange\": 15,\\n  \"useAntialiasing\": true,\\n  \"spotVisible\": true,\\n  \"trackVisible\": true,\\n  \"font\": {\\n    \"name\": \"Arial\",\\n    \"style\": 1,\\n    \"size\": 12,\\n    \"pointSize\": 12.0,\\n    \"fontSerializedDataVersion\": 1\\n  },\\n  \"lineThickness\": 1.0,\\n  \"selectionLineThickness\": 4.0,\\n  \"trackschemeBackgroundColor1\": \"128, 128, 128, 255\",\\n  \"trackschemeBackgroundColor2\": \"192, 192, 192, 255\",\\n  \"trackschemeForegroundColor\": \"0, 0, 0, 255\",\\n  \"trackschemeDecorationColor\": \"0, 0, 0, 255\",\\n  \"trackschemeFillBox\": false,\\n  \"spotFilled\": true,\\n  \"spotTransparencyAlpha\": 0.42000000000000004\\n}</DisplaySettings>\\n'}, props_metadata=PropsMetadata(props={'QUALITY': Property(identifier='QUALITY', name='Quality', description='Quality', provenance='TrackMate', prop_type='node', lin_type='CellLineage', dtype='float', unit=None), 'POSITION_T': Property(identifier='POSITION_T', name='T', description='T', provenance='TrackMate', prop_type='node', lin_type='CellLineage', dtype='float', unit='sec'), 'RADIUS': Property(identifier='RADIUS', name='Radius', description='Radius', provenance='TrackMate', prop_type='node', lin_type='CellLineage', dtype='float', unit='pixel'), 'VISIBILITY': Property(identifier='VISIBILITY', name='Visibility', description='Visibility', provenance='TrackMate', prop_type='node', lin_type='CellLineage', dtype='int', unit=None), 'MANUAL_SPOT_COLOR': Property(identifier='MANUAL_SPOT_COLOR', name='Manual spot color', description='Manual spot color', provenance='TrackMate', prop_type='node', lin_type='CellLineage', dtype='int', unit=None), 'MEAN_INTENSITY_CH1': Property(identifier='MEAN_INTENSITY_CH1', name='Mean intensity ch1', description='Mean intensity ch1', provenance='TrackMate', prop_type='node', lin_type='CellLineage', dtype='float', unit=None), 'MEDIAN_INTENSITY_CH1': Property(identifier='MEDIAN_INTENSITY_CH1', name='Median intensity ch1', description='Median intensity ch1', provenance='TrackMate', prop_type='node', lin_type='CellLineage', dtype='float', unit=None), 'MIN_INTENSITY_CH1': Property(identifier='MIN_INTENSITY_CH1', name='Min intensity ch1', description='Min intensity ch1', provenance='TrackMate', prop_type='node', lin_type='CellLineage', dtype='float', unit=None), 'MAX_INTENSITY_CH1': Property(identifier='MAX_INTENSITY_CH1', name='Max intensity ch1', description='Max intensity ch1', provenance='TrackMate', prop_type='node', lin_type='CellLineage', dtype='float', unit=None), 'TOTAL_INTENSITY_CH1': Property(identifier='TOTAL_INTENSITY_CH1', name='Sum intensity ch1', description='Sum intensity ch1', provenance='TrackMate', prop_type='node', lin_type='CellLineage', dtype='float', unit=None), 'STD_INTENSITY_CH1': Property(identifier='STD_INTENSITY_CH1', name='Std intensity ch1', description='Std intensity ch1', provenance='TrackMate', prop_type='node', lin_type='CellLineage', dtype='float', unit=None), 'CONTRAST_CH1': Property(identifier='CONTRAST_CH1', name='Contrast ch1', description='Contrast ch1', provenance='TrackMate', prop_type='node', lin_type='CellLineage', dtype='float', unit=None), 'SNR_CH1': Property(identifier='SNR_CH1', name='Signal/Noise ratio ch1', description='Signal/Noise ratio ch1', provenance='TrackMate', prop_type='node', lin_type='CellLineage', dtype='float', unit=None), 'ELLIPSE_X0': Property(identifier='ELLIPSE_X0', name='Ellipse center x0', description='Ellipse center x0', provenance='TrackMate', prop_type='node', lin_type='CellLineage', dtype='float', unit='pixel'), 'ELLIPSE_Y0': Property(identifier='ELLIPSE_Y0', name='Ellipse center y0', description='Ellipse center y0', provenance='TrackMate', prop_type='node', lin_type='CellLineage', dtype='float', unit='pixel'), 'ELLIPSE_MAJOR': Property(identifier='ELLIPSE_MAJOR', name='Ellipse long axis', description='Ellipse long axis', provenance='TrackMate', prop_type='node', lin_type='CellLineage', dtype='float', unit='pixel'), 'ELLIPSE_MINOR': Property(identifier='ELLIPSE_MINOR', name='Ellipse short axis', description='Ellipse short axis', provenance='TrackMate', prop_type='node', lin_type='CellLineage', dtype='float', unit='pixel'), 'ELLIPSE_THETA': Property(identifier='ELLIPSE_THETA', name='Ellipse angle', description='Ellipse angle', provenance='TrackMate', prop_type='node', lin_type='CellLineage', dtype='float', unit='rad'), 'ELLIPSE_ASPECTRATIO': Property(identifier='ELLIPSE_ASPECTRATIO', name='Ellipse aspect ratio', description='Ellipse aspect ratio', provenance='TrackMate', prop_type='node', lin_type='CellLineage', dtype='float', unit=None), 'AREA': Property(identifier='AREA', name='Area', description='Area', provenance='TrackMate', prop_type='node', lin_type='CellLineage', dtype='float', unit='pixel^2'), 'PERIMETER': Property(identifier='PERIMETER', name='Perimeter', description='Perimeter', provenance='TrackMate', prop_type='node', lin_type='CellLineage', dtype='float', unit='pixel'), 'CIRCULARITY': Property(identifier='CIRCULARITY', name='Circularity', description='Circularity', provenance='TrackMate', prop_type='node', lin_type='CellLineage', dtype='float', unit=None), 'SOLIDITY': Property(identifier='SOLIDITY', name='Solidity', description='Solidity', provenance='TrackMate', prop_type='node', lin_type='CellLineage', dtype='float', unit=None), 'SHAPE_INDEX': Property(identifier='SHAPE_INDEX', name='Shape index', description='Shape index', provenance='TrackMate', prop_type='node', lin_type='CellLineage', dtype='float', unit=None), 'SPOT_SOURCE_ID': Property(identifier='SPOT_SOURCE_ID', name='Source spot ID', description='Source spot ID', provenance='TrackMate', prop_type='edge', lin_type='CellLineage', dtype='int', unit=None), 'SPOT_TARGET_ID': Property(identifier='SPOT_TARGET_ID', name='Target spot ID', description='Target spot ID', provenance='TrackMate', prop_type='edge', lin_type='CellLineage', dtype='int', unit=None), 'LINK_COST': Property(identifier='LINK_COST', name='Edge cost', description='Edge cost', provenance='TrackMate', prop_type='edge', lin_type='CellLineage', dtype='float', unit=None), 'DIRECTIONAL_CHANGE_RATE': Property(identifier='DIRECTIONAL_CHANGE_RATE', name='Directional change rate', description='Directional change rate', provenance='TrackMate', prop_type='edge', lin_type='CellLineage', dtype='float', unit='rad/sec'), 'SPEED': Property(identifier='SPEED', name='Speed', description='Speed', provenance='TrackMate', prop_type='edge', lin_type='CellLineage', dtype='float', unit='pixel/sec'), 'DISPLACEMENT': Property(identifier='DISPLACEMENT', name='Displacement', description='Displacement', provenance='TrackMate', prop_type='edge', lin_type='CellLineage', dtype='float', unit='pixel'), 'EDGE_TIME': Property(identifier='EDGE_TIME', name='Edge time', description='Edge time', provenance='TrackMate', prop_type='edge', lin_type='CellLineage', dtype='float', unit='sec'), 'MANUAL_EDGE_COLOR': Property(identifier='MANUAL_EDGE_COLOR', name='Manual edge color', description='Manual edge color', provenance='TrackMate', prop_type='edge', lin_type='CellLineage', dtype='int', unit=None), 'TRACK_INDEX': Property(identifier='TRACK_INDEX', name='Track index', description='Track index', provenance='TrackMate', prop_type='lineage', lin_type='CellLineage', dtype='int', unit=None), 'NUMBER_SPOTS': Property(identifier='NUMBER_SPOTS', name='Number of spots in track', description='Number of spots in track', provenance='TrackMate', prop_type='lineage', lin_type='CellLineage', dtype='int', unit=None), 'NUMBER_GAPS': Property(identifier='NUMBER_GAPS', name='Number of gaps', description='Number of gaps', provenance='TrackMate', prop_type='lineage', lin_type='CellLineage', dtype='int', unit=None), 'NUMBER_SPLITS': Property(identifier='NUMBER_SPLITS', name='Number of split events', description='Number of split events', provenance='TrackMate', prop_type='lineage', lin_type='CellLineage', dtype='int', unit=None), 'NUMBER_MERGES': Property(identifier='NUMBER_MERGES', name='Number of merge events', description='Number of merge events', provenance='TrackMate', prop_type='lineage', lin_type='CellLineage', dtype='int', unit=None), 'NUMBER_COMPLEX': Property(identifier='NUMBER_COMPLEX', name='Number of complex points', description='Number of complex points', provenance='TrackMate', prop_type='lineage', lin_type='CellLineage', dtype='int', unit=None), 'LONGEST_GAP': Property(identifier='LONGEST_GAP', name='Longest gap', description='Longest gap', provenance='TrackMate', prop_type='lineage', lin_type='CellLineage', dtype='int', unit=None), 'TRACK_DURATION': Property(identifier='TRACK_DURATION', name='Track duration', description='Track duration', provenance='TrackMate', prop_type='lineage', lin_type='CellLineage', dtype='float', unit='sec'), 'TRACK_START': Property(identifier='TRACK_START', name='Track start', description='Track start', provenance='TrackMate', prop_type='lineage', lin_type='CellLineage', dtype='float', unit='sec'), 'TRACK_STOP': Property(identifier='TRACK_STOP', name='Track stop', description='Track stop', provenance='TrackMate', prop_type='lineage', lin_type='CellLineage', dtype='float', unit='sec'), 'TRACK_DISPLACEMENT': Property(identifier='TRACK_DISPLACEMENT', name='Track displacement', description='Track displacement', provenance='TrackMate', prop_type='lineage', lin_type='CellLineage', dtype='float', unit='pixel'), 'TRACK_MEAN_SPEED': Property(identifier='TRACK_MEAN_SPEED', name='Track mean speed', description='Track mean speed', provenance='TrackMate', prop_type='lineage', lin_type='CellLineage', dtype='float', unit='pixel/sec'), 'TRACK_MAX_SPEED': Property(identifier='TRACK_MAX_SPEED', name='Track max speed', description='Track max speed', provenance='TrackMate', prop_type='lineage', lin_type='CellLineage', dtype='float', unit='pixel/sec'), 'TRACK_MIN_SPEED': Property(identifier='TRACK_MIN_SPEED', name='Track min speed', description='Track min speed', provenance='TrackMate', prop_type='lineage', lin_type='CellLineage', dtype='float', unit='pixel/sec'), 'TRACK_MEDIAN_SPEED': Property(identifier='TRACK_MEDIAN_SPEED', name='Track median speed', description='Track median speed', provenance='TrackMate', prop_type='lineage', lin_type='CellLineage', dtype='float', unit='pixel/sec'), 'TRACK_STD_SPEED': Property(identifier='TRACK_STD_SPEED', name='Track std speed', description='Track std speed', provenance='TrackMate', prop_type='lineage', lin_type='CellLineage', dtype='float', unit='pixel/sec'), 'TRACK_MEAN_QUALITY': Property(identifier='TRACK_MEAN_QUALITY', name='Track mean quality', description='Track mean quality', provenance='TrackMate', prop_type='lineage', lin_type='CellLineage', dtype='float', unit=None), 'TOTAL_DISTANCE_TRAVELED': Property(identifier='TOTAL_DISTANCE_TRAVELED', name='Total distance traveled', description='Total distance traveled', provenance='TrackMate', prop_type='lineage', lin_type='CellLineage', dtype='float', unit='pixel'), 'MAX_DISTANCE_TRAVELED': Property(identifier='MAX_DISTANCE_TRAVELED', name='Max distance traveled', description='Max distance traveled', provenance='TrackMate', prop_type='lineage', lin_type='CellLineage', dtype='float', unit='pixel'), 'CONFINEMENT_RATIO': Property(identifier='CONFINEMENT_RATIO', name='Confinement ratio', description='Confinement ratio', provenance='TrackMate', prop_type='lineage', lin_type='CellLineage', dtype='float', unit=None), 'MEAN_STRAIGHT_LINE_SPEED': Property(identifier='MEAN_STRAIGHT_LINE_SPEED', name='Mean straight line speed', description='Mean straight line speed', provenance='TrackMate', prop_type='lineage', lin_type='CellLineage', dtype='float', unit='pixel/sec'), 'LINEARITY_OF_FORWARD_PROGRESSION': Property(identifier='LINEARITY_OF_FORWARD_PROGRESSION', name='Linearity of forward progression', description='Linearity of forward progression', provenance='TrackMate', prop_type='lineage', lin_type='CellLineage', dtype='float', unit=None), 'MEAN_DIRECTIONAL_CHANGE_RATE': Property(identifier='MEAN_DIRECTIONAL_CHANGE_RATE', name='Mean directional change rate', description='Mean directional change rate', provenance='TrackMate', prop_type='lineage', lin_type='CellLineage', dtype='float', unit='rad/sec'), 'TRACK_ID': Property(identifier='TRACK_ID', name='Track ID', description='Track ID', provenance='TrackMate', prop_type='lineage', lin_type='CellLineage', dtype='int', unit=None), 'FRAME': Property(identifier='FRAME', name='Frame', description='Frame', provenance='TrackMate', prop_type='node', lin_type='CellLineage', dtype='int', unit=None), 'POSITION_X': Property(identifier='POSITION_X', name='X', description='X coordinate of the cell', provenance='TrackMate', prop_type='node', lin_type='CellLineage', dtype='float', unit='pixel'), 'EDGE_X_LOCATION': Property(identifier='EDGE_X_LOCATION', name='Edge X', description='X coordinate of the link, i.e. mean coordinate of its two cells', provenance='TrackMate', prop_type='edge', lin_type='CellLineage', dtype='float', unit='pixel'), 'TRACK_X_LOCATION': Property(identifier='TRACK_X_LOCATION', name='Track mean X', description='X coordinate of the lineage, i.e. mean coordinate of its cells', provenance='TrackMate', prop_type='lineage', lin_type='CellLineage', dtype='float', unit='pixel'), 'POSITION_Y': Property(identifier='POSITION_Y', name='Y', description='Y coordinate of the cell', provenance='TrackMate', prop_type='node', lin_type='CellLineage', dtype='float', unit='pixel'), 'EDGE_Y_LOCATION': Property(identifier='EDGE_Y_LOCATION', name='Edge Y', description='Y coordinate of the link, i.e. mean coordinate of its two cells', provenance='TrackMate', prop_type='edge', lin_type='CellLineage', dtype='float', unit='pixel'), 'TRACK_Y_LOCATION': Property(identifier='TRACK_Y_LOCATION', name='Track mean Y', description='Y coordinate of the lineage, i.e. mean coordinate of its cells', provenance='TrackMate', prop_type='lineage', lin_type='CellLineage', dtype='float', unit='pixel'), 'POSITION_Z': Property(identifier='POSITION_Z', name='Z', description='Z coordinate of the cell', provenance='TrackMate', prop_type='node', lin_type='CellLineage', dtype='float', unit='pixel'), 'EDGE_Z_LOCATION': Property(identifier='EDGE_Z_LOCATION', name='Edge Z', description='Z coordinate of the link, i.e. mean coordinate of its two cells', provenance='TrackMate', prop_type='edge', lin_type='CellLineage', dtype='float', unit='pixel'), 'TRACK_Z_LOCATION': Property(identifier='TRACK_Z_LOCATION', name='Track mean Z', description='Z coordinate of the lineage, i.e. mean coordinate of its cells', provenance='TrackMate', prop_type='lineage', lin_type='CellLineage', dtype='float', unit='pixel')}), data=Data(cell_data={0: <pycellin.classes.lineage.CellLineage object at 0x76a6eed7f950>, 4: <pycellin.classes.lineage.CellLineage object at 0x76a6eed90810>}, cycle_data=None))"
      ]
     },
     "execution_count": 80,
     "metadata": {},
     "output_type": "execute_result"
    }
   ],
   "source": [
    "filename = my_model.model_metadata[\"name\"] + \"_TrackMate_export.xml\"\n",
    "xml_out = \"../sample_data/results/\" + filename\n",
    "pycellin.export_TrackMate_XML(my_model, xml_out, {\"spatialunits\": \"pixel\", \"temporalunits\": \"sec\"})"
   ]
  },
  {
   "cell_type": "markdown",
   "metadata": {},
   "source": [
    "Properties added to the model with Pycellin will be carried over to TrackMate if the data type of the property is integer, float or boolean. `lineage_ID` and `cell_ID` are converted into their TrackMate equivalent: `TRACK_ID` and `SPOT_ID` respectively.\n",
    "\n",
    "For a more detailed explanation, please refer to the dedicated notebook: [Working with TrackMate data](./Working%20with%20TrackMate%20data.ipynb)."
   ]
  }
 ],
 "metadata": {
  "kernelspec": {
   "display_name": "pycellin_dev",
   "language": "python",
   "name": "python3"
  },
  "language_info": {
   "codemirror_mode": {
    "name": "ipython",
    "version": 3
   },
   "file_extension": ".py",
   "mimetype": "text/x-python",
   "name": "python",
   "nbconvert_exporter": "python",
   "pygments_lexer": "ipython3",
   "version": "3.11.13"
  }
 },
 "nbformat": 4,
 "nbformat_minor": 2
}
