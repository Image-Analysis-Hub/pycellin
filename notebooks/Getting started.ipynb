{
 "cells": [
  {
   "cell_type": "markdown",
   "metadata": {},
   "source": [
    "# Getting started"
   ]
  },
  {
   "cell_type": "markdown",
   "metadata": {},
   "source": [
    "In this notebook we cover the basics of Pycellin:\n",
    "- how to obtain a Pycellin model,\n",
    "- how Pycellin models cell tracking data,\n",
    "- how to manipulate, modify and enrich the cell lineages,\n",
    "- how to export the data to other formats."
   ]
  },
  {
   "cell_type": "code",
   "execution_count": 1,
   "metadata": {},
   "outputs": [],
   "source": [
    "import pycellin as pc"
   ]
  },
  {
   "cell_type": "markdown",
   "metadata": {},
   "source": [
    "## How to get a Pycellin model"
   ]
  },
  {
   "cell_type": "markdown",
   "metadata": {},
   "source": [
    "### Building from scratch"
   ]
  },
  {
   "cell_type": "markdown",
   "metadata": {},
   "source": [
    "It is possible to build a Pycellin model manually, starting with an empty model."
   ]
  },
  {
   "cell_type": "code",
   "execution_count": 2,
   "metadata": {},
   "outputs": [
    {
     "name": "stdout",
     "output_type": "stream",
     "text": [
      "Empty model.\n",
      "Model(metadata=None, feat_declaration=None, data=None)\n"
     ]
    }
   ],
   "source": [
    "my_model = pc.Model()\n",
    "print(my_model)\n",
    "# The model is completely empty: no metadata, no features declaration, no lineages.\n",
    "print(my_model.__repr__())"
   ]
  },
  {
   "cell_type": "markdown",
   "metadata": {},
   "source": [
    "You can then fill up the metadata and build cell lineages by adding cells and links. This is covered in details in the notebook [Creating a model from scratch](./Creating%20a%20model%20from%20scratch.ipynb) (WIP)."
   ]
  },
  {
   "cell_type": "markdown",
   "metadata": {},
   "source": [
    "### Loading from a Pycellin pickle file"
   ]
  },
  {
   "cell_type": "markdown",
   "metadata": {},
   "source": [
    "You can load a model from a Pycellin pickle file saved on disk with the `load_from_pickle()` method:"
   ]
  },
  {
   "cell_type": "code",
   "execution_count": 3,
   "metadata": {},
   "outputs": [
    {
     "name": "stdout",
     "output_type": "stream",
     "text": [
      "Model named 'FakeTracks' with 2 lineages, built from TrackMate.\n"
     ]
    }
   ],
   "source": [
    "pycellin_pickle = \"../sample_data/FakeTracks.pickle\"\n",
    "my_model = pc.Model.load_from_pickle(pycellin_pickle)\n",
    "print(my_model)"
   ]
  },
  {
   "cell_type": "markdown",
   "metadata": {},
   "source": [
    "However, please note that while `pickle` is a module of the Python Standard Library, is it not secure. **You should only load data from sources you trust.** Please refer to the [documentation of the `pickle` module](https://docs.python.org/3/library/pickle.html) for more information."
   ]
  },
  {
   "cell_type": "markdown",
   "metadata": {},
   "source": [
    "### Loading from external tools"
   ]
  },
  {
   "cell_type": "markdown",
   "metadata": {},
   "source": [
    "Pycellin can load data from different tracking file formats. It currently supports:\n",
    "- TrackMate XML files\n",
    "- Cell Tracking Challenge (CTC) text files\n",
    "\n",
    "More tracking file formats will be supported in the future."
   ]
  },
  {
   "cell_type": "markdown",
   "metadata": {},
   "source": [
    "#### TrackMate\n",
    "\n"
   ]
  },
  {
   "cell_type": "markdown",
   "metadata": {},
   "source": [
    "Data generated with [TrackMate](https://imagej.net/plugins/trackmate/) can be loaded into a Pycellin model thanks to the `load_TrackMate_XML()` function:"
   ]
  },
  {
   "cell_type": "code",
   "execution_count": 4,
   "metadata": {},
   "outputs": [
    {
     "name": "stdout",
     "output_type": "stream",
     "text": [
      "Model named 'Ecoli_growth_on_agar_pad' with 3 lineages, built from TrackMate.\n"
     ]
    }
   ],
   "source": [
    "trackmate_xml = \"../sample_data/Ecoli_growth_on_agar_pad.xml\"\n",
    "tm_model = pc.load_TrackMate_XML(trackmate_xml)\n",
    "print(tm_model)"
   ]
  },
  {
   "cell_type": "markdown",
   "metadata": {},
   "source": [
    "All data within the TrackMate XML file is loaded into the Pycellin model: there is no loss of information. Most notably, TrackMate features are accessible within Pycellin under the same name (e.g. AREA, MEAN_INTENSITY_CH1).\n",
    "\n",
    "To know more about the specifics of using Pycellin with TrackMate data, please refer to the dedicated notebook: [Pycellin with TrackMate](./Pycellin%20with%20TrackMate.ipynb)."
   ]
  },
  {
   "cell_type": "markdown",
   "metadata": {},
   "source": [
    "#### Cell Tracking Challenge"
   ]
  },
  {
   "cell_type": "markdown",
   "metadata": {},
   "source": [
    "Tracking data formatted as per the [Cell Tracking Challenge](https://celltrackingchallenge.net/) file format [specifications](https://public.celltrackingchallenge.net/documents/Naming%20and%20file%20content%20conventions.pdf) can be loaded with\n",
    "the `load_CTC_file()` function:"
   ]
  },
  {
   "cell_type": "code",
   "execution_count": 5,
   "metadata": {},
   "outputs": [],
   "source": [
    "# FIXME: need to update the loader\n",
    "# ctc_file = \"\"\n",
    "# ctc_model = pc.load_CTC_file(ctc_file)\n",
    "# print(ctc_model)"
   ]
  },
  {
   "cell_type": "markdown",
   "metadata": {},
   "source": [
    "For this format, only track topology is read: no cell segmentation is extracted in the case of associated label images (this might get supported later if there is a need)."
   ]
  },
  {
   "cell_type": "markdown",
   "metadata": {},
   "source": [
    "## Pycellin model structure"
   ]
  },
  {
   "cell_type": "markdown",
   "metadata": {},
   "source": [
    "In this section, we are using the TrackMate model previously loaded as example."
   ]
  },
  {
   "cell_type": "code",
   "execution_count": 6,
   "metadata": {},
   "outputs": [
    {
     "name": "stdout",
     "output_type": "stream",
     "text": [
      "Model named 'Ecoli_growth_on_agar_pad' with 3 lineages, built from TrackMate.\n"
     ]
    }
   ],
   "source": [
    "print(tm_model)"
   ]
  },
  {
   "cell_type": "markdown",
   "metadata": {},
   "source": [
    "A Pycellin model consists of 3 different elements that we describe in separate sections below:\n",
    "- the metadata of the model\n",
    "- the data, i.e. the lineages\n",
    "- the declaration of the features present in the lineages\n",
    "\n",
    "*simplified scheme of a model*"
   ]
  },
  {
   "cell_type": "markdown",
   "metadata": {},
   "source": [
    "### Metadata"
   ]
  },
  {
   "cell_type": "markdown",
   "metadata": {},
   "source": [
    "Metadata holds information about the model and the data of the model.\n",
    "\n",
    "In Pycellin, the metadata is versatile and stored as a dictionnary. It is accessible by calling `metadata` on your model:"
   ]
  },
  {
   "cell_type": "code",
   "execution_count": 7,
   "metadata": {},
   "outputs": [
    {
     "name": "stdout",
     "output_type": "stream",
     "text": [
      "name\n",
      "file_location\n",
      "provenance\n",
      "date\n",
      "space_unit\n",
      "time_unit\n",
      "pycellin_version\n",
      "TrackMate_version\n",
      "time_step\n",
      "pixel_size\n",
      "Log\n",
      "Settings\n",
      "GUIState\n",
      "DisplaySettings\n"
     ]
    }
   ],
   "source": [
    "for metadata_field in tm_model.metadata:\n",
    "    print(metadata_field)"
   ]
  },
  {
   "cell_type": "code",
   "execution_count": 8,
   "metadata": {},
   "outputs": [
    {
     "name": "stdout",
     "output_type": "stream",
     "text": [
      "TrackMate 7.10.2\n"
     ]
    }
   ],
   "source": [
    "print(tm_model.metadata[\"provenance\"], tm_model.metadata[\"TrackMate_version\"])"
   ]
  },
  {
   "cell_type": "markdown",
   "metadata": {},
   "source": [
    "Some metadata fields are common to most Pycellin models, like `provenance`, `date` or `space_unit`. Others are specific to TrackMate models like `TrackMate_version` or `Log`.\n",
    "\n",
    "The more information you store in metadata, the better it is for traceability. For example, you could describe the different channels of your timelapse, or list some image acquisition parameters:"
   ]
  },
  {
   "cell_type": "code",
   "execution_count": 9,
   "metadata": {},
   "outputs": [],
   "source": [
    "tm_model.metadata[\"channel1\"] = \"segmentation\"\n",
    "tm_model.metadata[\"channel2\"] = \"ZipA-mCherry\"\n",
    "tm_model.metadata[\"objective\"] = \"100x oil\""
   ]
  },
  {
   "cell_type": "markdown",
   "metadata": {},
   "source": [
    "### Data"
   ]
  },
  {
   "cell_type": "markdown",
   "metadata": {},
   "source": [
    "In Pycellin, lineages are modeled as directed acyclic graphs. It means that splitting events (i.e. divisions) are allowed, they even are recommended if you want to take full advantage of Pycellin. **However, MERGING EVENTS (i.e. fusions) ARE NOT SUPPORTED.** If you try to use Pycellin on a lineage with merging events, it may crash or produce incorrect results, especially if you are computing features related to tracking.\n",
    "\n",
    "Below is an example of a dataset with fusions. If Pycellin detects fusions, a warning will be raised and the cells involved in the fusions will be displayed. It is then up to you to decide if you want to proceed or to correct the fusions."
   ]
  },
  {
   "cell_type": "code",
   "execution_count": 10,
   "metadata": {},
   "outputs": [
    {
     "name": "stdout",
     "output_type": "stream",
     "text": [
      "WARNING: Cell fusions detected!! Since Pycellin does not support fusions, it is advised to deal with them before any other processing. Be especially careful with tracking related features. Crashes and incorrect results can occur.\n",
      "Fusions location:\n",
      "  Lineage 0 => cell IDs: [9065]\n",
      "  Lineage 1 => cell IDs: [9232, 9257]\n"
     ]
    }
   ],
   "source": [
    "trackmate_xml_fusions = \"../sample_data/Ecoli_growth_on_agar_pad_with_fusions.xml\"\n",
    "fusion_model = pc.load_TrackMate_XML(trackmate_xml_fusions)"
   ]
  },
  {
   "cell_type": "markdown",
   "metadata": {},
   "source": [
    "You can manually check for fusions whenever you want with the `check_for_fusions()` `Model` method:"
   ]
  },
  {
   "cell_type": "code",
   "execution_count": 11,
   "metadata": {},
   "outputs": [
    {
     "data": {
      "text/plain": [
       "[Cell(cell_ID=9065, lineage_ID=0),\n",
       " Cell(cell_ID=9232, lineage_ID=1),\n",
       " Cell(cell_ID=9257, lineage_ID=1)]"
      ]
     },
     "execution_count": 11,
     "metadata": {},
     "output_type": "execute_result"
    }
   ],
   "source": [
    "fusion_model.check_for_fusions()"
   ]
  },
  {
   "cell_type": "markdown",
   "metadata": {},
   "source": [
    "`Data` can contain cell lineages data and cycle lineages data."
   ]
  },
  {
   "cell_type": "code",
   "execution_count": 23,
   "metadata": {},
   "outputs": [
    {
     "name": "stdout",
     "output_type": "stream",
     "text": [
      "Data object with 3 cell lineages and 3 cycle lineages.\n"
     ]
    }
   ],
   "source": [
    "print(tm_model.data)"
   ]
  },
  {
   "cell_type": "markdown",
   "metadata": {},
   "source": [
    "#### Cell lineages"
   ]
  },
  {
   "cell_type": "code",
   "execution_count": 19,
   "metadata": {},
   "outputs": [
    {
     "data": {
      "text/plain": [
       "{0: <pycellin.classes.lineage.CellLineage at 0x7f8eac831210>,\n",
       " 1: <pycellin.classes.lineage.CellLineage at 0x7f8eabdb4950>,\n",
       " 2: <pycellin.classes.lineage.CellLineage at 0x7f8eab1a8250>}"
      ]
     },
     "execution_count": 19,
     "metadata": {},
     "output_type": "execute_result"
    }
   ],
   "source": [
    "tm_model.data.cell_data"
   ]
  },
  {
   "cell_type": "code",
   "execution_count": 20,
   "metadata": {},
   "outputs": [
    {
     "name": "stdout",
     "output_type": "stream",
     "text": [
      "CellLineage of ID 0 named Track_0 with 152 cells and 151 links.\n"
     ]
    }
   ],
   "source": [
    "print(tm_model.data.cell_data[0])"
   ]
  },
  {
   "cell_type": "markdown",
   "metadata": {},
   "source": [
    "#### Cell cycle lineages"
   ]
  },
  {
   "cell_type": "markdown",
   "metadata": {},
   "source": []
  },
  {
   "cell_type": "code",
   "execution_count": 24,
   "metadata": {},
   "outputs": [
    {
     "ename": "ValueError",
     "evalue": "A Feature called cycle_ID already exists in node features.",
     "output_type": "error",
     "traceback": [
      "\u001b[0;31m---------------------------------------------------------------------------\u001b[0m",
      "\u001b[0;31mValueError\u001b[0m                                Traceback (most recent call last)",
      "Cell \u001b[0;32mIn[24], line 1\u001b[0m\n\u001b[0;32m----> 1\u001b[0m \u001b[43mtm_model\u001b[49m\u001b[38;5;241;43m.\u001b[39;49m\u001b[43madd_cycle_data\u001b[49m\u001b[43m(\u001b[49m\u001b[43m)\u001b[49m\n",
      "File \u001b[0;32m/mnt/data/Code/pycellin/pycellin/pycellin/classes/model.py:1363\u001b[0m, in \u001b[0;36mModel.add_cycle_data\u001b[0;34m(self)\u001b[0m\n\u001b[1;32m   1359\u001b[0m \u001b[38;5;250m\u001b[39m\u001b[38;5;124;03m\"\"\"\u001b[39;00m\n\u001b[1;32m   1360\u001b[0m \u001b[38;5;124;03mCompute and add the cycle lineages of the model.\u001b[39;00m\n\u001b[1;32m   1361\u001b[0m \u001b[38;5;124;03m\"\"\"\u001b[39;00m\n\u001b[1;32m   1362\u001b[0m \u001b[38;5;28mself\u001b[39m\u001b[38;5;241m.\u001b[39mdata\u001b[38;5;241m.\u001b[39m_add_cycle_lineages()\n\u001b[0;32m-> 1363\u001b[0m \u001b[38;5;28;43mself\u001b[39;49m\u001b[38;5;241;43m.\u001b[39;49m\u001b[43mfeat_declaration\u001b[49m\u001b[38;5;241;43m.\u001b[39;49m\u001b[43m_add_cycle_lineage_features\u001b[49m\u001b[43m(\u001b[49m\u001b[43m)\u001b[49m\n",
      "File \u001b[0;32m/mnt/data/Code/pycellin/pycellin/pycellin/classes/feature.py:376\u001b[0m, in \u001b[0;36mFeaturesDeclaration._add_cycle_lineage_features\u001b[0;34m(self)\u001b[0m\n\u001b[1;32m    363\u001b[0m feat_length \u001b[38;5;241m=\u001b[39m Feature(\n\u001b[1;32m    364\u001b[0m     name\u001b[38;5;241m=\u001b[39m\u001b[38;5;124m\"\u001b[39m\u001b[38;5;124mcycle_length\u001b[39m\u001b[38;5;124m\"\u001b[39m,\n\u001b[1;32m    365\u001b[0m     description\u001b[38;5;241m=\u001b[39m\u001b[38;5;124m\"\u001b[39m\u001b[38;5;124mNumber of cells in the cell cycle.\u001b[39m\u001b[38;5;124m\"\u001b[39m,\n\u001b[1;32m    366\u001b[0m     \u001b[38;5;241m*\u001b[39m\u001b[38;5;241m*\u001b[39mcommon_fields,\n\u001b[1;32m    367\u001b[0m )\n\u001b[1;32m    368\u001b[0m feat_level \u001b[38;5;241m=\u001b[39m Feature(\n\u001b[1;32m    369\u001b[0m     name\u001b[38;5;241m=\u001b[39m\u001b[38;5;124m\"\u001b[39m\u001b[38;5;124mlevel\u001b[39m\u001b[38;5;124m\"\u001b[39m,\n\u001b[1;32m    370\u001b[0m     description\u001b[38;5;241m=\u001b[39m(\n\u001b[0;32m   (...)\u001b[0m\n\u001b[1;32m    374\u001b[0m     \u001b[38;5;241m*\u001b[39m\u001b[38;5;241m*\u001b[39mcommon_fields,\n\u001b[1;32m    375\u001b[0m )\n\u001b[0;32m--> 376\u001b[0m \u001b[38;5;28;43mself\u001b[39;49m\u001b[38;5;241;43m.\u001b[39;49m\u001b[43m_add_features\u001b[49m\u001b[43m(\u001b[49m\u001b[43m[\u001b[49m\u001b[43mfeat_ID\u001b[49m\u001b[43m,\u001b[49m\u001b[43m \u001b[49m\u001b[43mfeat_cells\u001b[49m\u001b[43m,\u001b[49m\u001b[43m \u001b[49m\u001b[43mfeat_length\u001b[49m\u001b[43m,\u001b[49m\u001b[43m \u001b[49m\u001b[43mfeat_level\u001b[49m\u001b[43m]\u001b[49m\u001b[43m,\u001b[49m\u001b[43m \u001b[49m\u001b[43m[\u001b[49m\u001b[38;5;124;43m\"\u001b[39;49m\u001b[38;5;124;43mnode\u001b[39;49m\u001b[38;5;124;43m\"\u001b[39;49m\u001b[43m]\u001b[49m\u001b[43m \u001b[49m\u001b[38;5;241;43m*\u001b[39;49m\u001b[43m \u001b[49m\u001b[38;5;241;43m4\u001b[39;49m\u001b[43m)\u001b[49m\n",
      "File \u001b[0;32m/mnt/data/Code/pycellin/pycellin/pycellin/classes/feature.py:334\u001b[0m, in \u001b[0;36mFeaturesDeclaration._add_features\u001b[0;34m(self, features, feature_types)\u001b[0m\n\u001b[1;32m    323\u001b[0m \u001b[38;5;250m\u001b[39m\u001b[38;5;124;03m\"\"\"\u001b[39;00m\n\u001b[1;32m    324\u001b[0m \u001b[38;5;124;03mAdd the specified features to the FeaturesDeclaration.\u001b[39;00m\n\u001b[1;32m    325\u001b[0m \n\u001b[0;32m   (...)\u001b[0m\n\u001b[1;32m    331\u001b[0m \u001b[38;5;124;03m    The types of the features to add (node, edge, or lineage).\u001b[39;00m\n\u001b[1;32m    332\u001b[0m \u001b[38;5;124;03m\"\"\"\u001b[39;00m\n\u001b[1;32m    333\u001b[0m \u001b[38;5;28;01mfor\u001b[39;00m feature, feature_type \u001b[38;5;129;01min\u001b[39;00m \u001b[38;5;28mzip\u001b[39m(features, feature_types):\n\u001b[0;32m--> 334\u001b[0m     \u001b[38;5;28;43mself\u001b[39;49m\u001b[38;5;241;43m.\u001b[39;49m\u001b[43m_add_feature\u001b[49m\u001b[43m(\u001b[49m\u001b[43mfeature\u001b[49m\u001b[43m,\u001b[49m\u001b[43m \u001b[49m\u001b[43mfeature_type\u001b[49m\u001b[43m)\u001b[49m\n",
      "File \u001b[0;32m/mnt/data/Code/pycellin/pycellin/pycellin/classes/feature.py:312\u001b[0m, in \u001b[0;36mFeaturesDeclaration._add_feature\u001b[0;34m(self, feature, feature_type)\u001b[0m\n\u001b[1;32m    310\u001b[0m \u001b[38;5;28;01mif\u001b[39;00m dict_feats:\n\u001b[1;32m    311\u001b[0m     \u001b[38;5;28;01mif\u001b[39;00m feature\u001b[38;5;241m.\u001b[39mname \u001b[38;5;129;01min\u001b[39;00m dict_feats:\n\u001b[0;32m--> 312\u001b[0m         \u001b[38;5;28;01mraise\u001b[39;00m \u001b[38;5;167;01mValueError\u001b[39;00m(\n\u001b[1;32m    313\u001b[0m             \u001b[38;5;124mf\u001b[39m\u001b[38;5;124m\"\u001b[39m\u001b[38;5;124mA Feature called \u001b[39m\u001b[38;5;132;01m{\u001b[39;00mfeature\u001b[38;5;241m.\u001b[39mname\u001b[38;5;132;01m}\u001b[39;00m\u001b[38;5;124m already exists in \u001b[39m\u001b[38;5;124m\"\u001b[39m\n\u001b[1;32m    314\u001b[0m             \u001b[38;5;124mf\u001b[39m\u001b[38;5;124m\"\u001b[39m\u001b[38;5;132;01m{\u001b[39;00mfeature_type\u001b[38;5;132;01m}\u001b[39;00m\u001b[38;5;124m features.\u001b[39m\u001b[38;5;124m\"\u001b[39m\n\u001b[1;32m    315\u001b[0m         )\n\u001b[1;32m    316\u001b[0m dict_feats[feature\u001b[38;5;241m.\u001b[39mname] \u001b[38;5;241m=\u001b[39m feature\n",
      "\u001b[0;31mValueError\u001b[0m: A Feature called cycle_ID already exists in node features."
     ]
    }
   ],
   "source": [
    "tm_model.add_cycle_data()"
   ]
  },
  {
   "cell_type": "code",
   "execution_count": 21,
   "metadata": {},
   "outputs": [
    {
     "data": {
      "text/plain": [
       "{0: <pycellin.classes.lineage.CycleLineage at 0x7f8eaa9863d0>,\n",
       " 1: <pycellin.classes.lineage.CycleLineage at 0x7f8eab5dc550>,\n",
       " 2: <pycellin.classes.lineage.CycleLineage at 0x7f8eaa9900d0>}"
      ]
     },
     "execution_count": 21,
     "metadata": {},
     "output_type": "execute_result"
    }
   ],
   "source": [
    "tm_model.data.cycle_data"
   ]
  },
  {
   "cell_type": "code",
   "execution_count": 22,
   "metadata": {},
   "outputs": [
    {
     "name": "stdout",
     "output_type": "stream",
     "text": [
      "CycleLineage of ID 0 with 37 cycles and 36 links.\n"
     ]
    }
   ],
   "source": [
    "print(tm_model.data.cycle_data[0])"
   ]
  },
  {
   "cell_type": "markdown",
   "metadata": {},
   "source": [
    "### Declaration of Features"
   ]
  },
  {
   "cell_type": "markdown",
   "metadata": {},
   "source": [
    "The declaration of features is a Python object, an instance of the class `FeaturesDeclaration`. It holds all the information about the features that have been or will be computed on your data: name, description, units... "
   ]
  },
  {
   "cell_type": "code",
   "execution_count": null,
   "metadata": {},
   "outputs": [],
   "source": [
    "# TODO: to finish when the features dict will be updated"
   ]
  },
  {
   "cell_type": "markdown",
   "metadata": {},
   "source": [
    "Feature names must be unique: two features cannot share the same name. However, the same feature can apply to different lineage elements. For example, the `lineage_ID` feature is a lineage feature, but also a node feature to ease processing."
   ]
  },
  {
   "cell_type": "code",
   "execution_count": null,
   "metadata": {},
   "outputs": [],
   "source": []
  },
  {
   "cell_type": "markdown",
   "metadata": {},
   "source": [
    "## Modification of the lineages"
   ]
  },
  {
   "cell_type": "markdown",
   "metadata": {},
   "source": [
    "\n",
    "*add node, edge, lineage...*  \n",
    "*remove...*"
   ]
  },
  {
   "cell_type": "markdown",
   "metadata": {},
   "source": [
    "## Managing features\n",
    "\n",
    "*Just the basics here, ref the features notebooks*  \n",
    "[Managing features](./Managing%20features.ipynb)  \n",
    "[Advanced - Custom features](Advanced%20-%20Custom%20features.ipynb)"
   ]
  },
  {
   "cell_type": "markdown",
   "metadata": {},
   "source": [
    "Like previous section, we are using the TrackMate model as example."
   ]
  },
  {
   "cell_type": "code",
   "execution_count": 8,
   "metadata": {},
   "outputs": [
    {
     "name": "stdout",
     "output_type": "stream",
     "text": [
      "Model named 'Ecoli_growth_on_agar_pad' with 3 lineages, built from TrackMate.\n"
     ]
    }
   ],
   "source": [
    "print(tm_model)"
   ]
  },
  {
   "cell_type": "markdown",
   "metadata": {},
   "source": []
  },
  {
   "cell_type": "markdown",
   "metadata": {},
   "source": [
    "## Export"
   ]
  },
  {
   "cell_type": "markdown",
   "metadata": {},
   "source": [
    "### Pickled Pycellin model"
   ]
  },
  {
   "cell_type": "markdown",
   "metadata": {},
   "source": [
    "You can save a model on disk anytime with the `save_to_pickle()` method:"
   ]
  },
  {
   "cell_type": "code",
   "execution_count": 9,
   "metadata": {},
   "outputs": [],
   "source": [
    "my_model.save_to_pickle(\"../sample_data/FakeTracks_saved.pickle\")"
   ]
  },
  {
   "cell_type": "markdown",
   "metadata": {},
   "source": [
    "A Pycellin model is a complex Python object that can be serialized. Pickling a model is a lossless way to save the model on disk for later use.\n",
    "\n",
    "However, as stated in [Loading from a Pycellin pickle file](#Loading-from-a-Pycellin-pickle-file), `pickle` module is not secure. Malicious code could be executed when unpickling a file from an unknown source. Because of this safety issue, pickle is not the preferred format for sharing a model with the community.\n",
    "\n",
    "Indeed, the intended use of `save_to_pickle()` and `load_from_pickle()` is to allow you to save your model whenever you want and to be able to resume working on it at a later time or in another Python session. "
   ]
  },
  {
   "cell_type": "markdown",
   "metadata": {},
   "source": [
    "### Tables: dataframes and CSVs"
   ]
  },
  {
   "cell_type": "markdown",
   "metadata": {},
   "source": [
    "#### Cells table"
   ]
  },
  {
   "cell_type": "markdown",
   "metadata": {},
   "source": []
  },
  {
   "cell_type": "markdown",
   "metadata": {},
   "source": [
    "#### Links table"
   ]
  },
  {
   "cell_type": "markdown",
   "metadata": {},
   "source": []
  },
  {
   "cell_type": "markdown",
   "metadata": {},
   "source": [
    "#### Cell cycles table"
   ]
  },
  {
   "cell_type": "markdown",
   "metadata": {},
   "source": []
  },
  {
   "cell_type": "markdown",
   "metadata": {},
   "source": [
    "#### Lineages table"
   ]
  },
  {
   "cell_type": "markdown",
   "metadata": {},
   "source": []
  },
  {
   "cell_type": "markdown",
   "metadata": {},
   "source": [
    "### Tracking formats"
   ]
  },
  {
   "cell_type": "markdown",
   "metadata": {},
   "source": [
    "#### TrackMate"
   ]
  },
  {
   "cell_type": "markdown",
   "metadata": {},
   "source": []
  },
  {
   "cell_type": "markdown",
   "metadata": {},
   "source": [
    "#### Cell Tracking Challenge"
   ]
  },
  {
   "cell_type": "markdown",
   "metadata": {},
   "source": []
  }
 ],
 "metadata": {
  "kernelspec": {
   "display_name": "pycellin_iah",
   "language": "python",
   "name": "python3"
  },
  "language_info": {
   "codemirror_mode": {
    "name": "ipython",
    "version": 3
   },
   "file_extension": ".py",
   "mimetype": "text/x-python",
   "name": "python",
   "nbconvert_exporter": "python",
   "pygments_lexer": "ipython3",
   "version": "3.11.7"
  }
 },
 "nbformat": 4,
 "nbformat_minor": 2
}
