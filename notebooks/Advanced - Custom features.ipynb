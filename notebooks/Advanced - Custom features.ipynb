{
 "cells": [
  {
   "cell_type": "markdown",
   "metadata": {},
   "source": [
    "# Advanced - Custom features"
   ]
  },
  {
   "cell_type": "markdown",
   "metadata": {},
   "source": [
    "This notebook requires Python coding knowledge. It is also recommended to first read the notebooks [Pycellin data structure](./Pycellin%20data%20structure.ipynb) and [Managing features](./Managing%20features.ipynb).\n",
    "\n",
    "In this notebook, we will cover how to augment a model with a user-defined feature.\n",
    "\n",
    "- describe the new feature  \n",
    "- implement the way to compute it (i.e. its calculator)\n",
    "- add the new feature and its associated calculator to the model  \n",
    "- update the model so the new feature values are computed and stored properly for all relevant elements of the lineages"
   ]
  },
  {
   "cell_type": "code",
   "execution_count": 1,
   "metadata": {},
   "outputs": [],
   "source": [
    "import pycellin as pc"
   ]
  },
  {
   "cell_type": "code",
   "execution_count": 2,
   "metadata": {},
   "outputs": [
    {
     "name": "stdout",
     "output_type": "stream",
     "text": [
      "Model with 3 lineages.\n",
      "This model contains 3 lineages:\n",
      "- ID 0: CellLineage named 'Track_0' with 152 nodes and 151 edges\n",
      "- ID 1: CellLineage named 'Track_1' with 189 nodes and 188 edges\n",
      "- ID 2: CellLineage named 'Track_2' with 185 nodes and 184 edges\n"
     ]
    }
   ],
   "source": [
    "# Path to the TrackMate XML file.\n",
    "xml_path = \"../sample_data/Ecoli_growth_on_agar_pad.xml\"\n",
    "\n",
    "# Parse the XML file and create a Pycellin Model object\n",
    "# that contains all the data from the XML file.\n",
    "model = pc.load_TrackMate_XML(xml_path)\n",
    "\n",
    "# We can display basic information about this model.\n",
    "print(model)\n",
    "print(f\"This model contains {model.data.number_of_lineages()} lineages:\")\n",
    "for lin_ID, lineage in model.data.cell_data.items():\n",
    "    print(f\"- ID {lin_ID}: {lineage}\")"
   ]
  },
  {
   "cell_type": "markdown",
   "metadata": {},
   "source": [
    "## Definition of the new feature "
   ]
  },
  {
   "cell_type": "markdown",
   "metadata": {},
   "source": [
    "A new feature is defined by creating a new instance of the `Feature` class, with 6 fields that describe the feature:\n",
    "\n",
    "**name**  \n",
    "The name/identifier of the feature. This will be the name of the associated Python variable and must follow variable naming rules (no punctuations except underscore, no whitespaces, no numbers).\n",
    "\n",
    "**description**  \n",
    "A concise description of the feature.\n",
    "\n",
    "**lineage_type**    \n",
    "Either `CellLineage` or `CycleLineage` depending on which type of lineage your feature is related to. See [Pycellin data structure](./Pycellin%20data%20structure.ipynb) if in doubt.\n",
    "\n",
    "**provenance**  \n",
    "Where does the feature come from? For imported features, it is the name of the tool the data was imported from. For custom features, you can use `custom`, your initials or whatever works for you. This field is useful for traceability (e.g. reopening a model after a long time, sharing a model with other people...).\n",
    "\n",
    "**data_type**   \n",
    "Python type of the feature values, e.g. `int`, `bool`...\n",
    "\n",
    "**unit**    \n",
    "Unit of the feature values, e.g. `µm`, `min`, `cell`...\n"
   ]
  },
  {
   "cell_type": "markdown",
   "metadata": {},
   "source": [
    "All these fields are strings. They are mandatory except `unit` which will be set to `None` if not provided.\n",
    "\n",
    "Here is an example on a basic feature, the age of the cells:"
   ]
  },
  {
   "cell_type": "code",
   "execution_count": 3,
   "metadata": {},
   "outputs": [],
   "source": [
    "age_feat = pc.Feature(\n",
    "    \"age\",  # name\n",
    "    \"Age of the cell since the beginning of the lineage\",  # description\n",
    "    \"CellLineage\",  # lineage_type\n",
    "    \"Pycellin\",  # provenance\n",
    "    \"int\",  # data_type\n",
    "    \"frame\",  # unit\n",
    ")"
   ]
  },
  {
   "cell_type": "markdown",
   "metadata": {},
   "source": [
    "You can then access the different fields of the feature:"
   ]
  },
  {
   "cell_type": "code",
   "execution_count": 4,
   "metadata": {},
   "outputs": [
    {
     "name": "stdout",
     "output_type": "stream",
     "text": [
      "age: Age of the cell since the beginning of the lineage in frame(s)\n"
     ]
    }
   ],
   "source": [
    "print(f\"{age_feat.name}: {age_feat.description} in {age_feat.unit}(s)\")"
   ]
  },
  {
   "cell_type": "markdown",
   "metadata": {},
   "source": [
    "## Calculators"
   ]
  },
  {
   "cell_type": "markdown",
   "metadata": {},
   "source": [
    "In Pycellin, a calculator is a class that defines and structures how to compute a specific feature. A feature cannot be associated to more than one calculator. As we will see, calculators can be very simple with just a few lines of code, or really complex. \n",
    "\n",
    "Currently, imported features do not have calculators. This means that imported features cannot be recomputed unless you define a calculator yourself and associate it with the imported feature.  \n",
    "Pycellin features come with their own calculators and are stored within the `pycellin.graph.features` subpackage. This is a useful place to look for real examples of calculators.\n",
    "\n",
    "When you want to compute something that is not provided by Pycellin nor imported from a tracking tool, you need to define your own calculator. Here is the stripped-down generic structure of a calculator:\n",
    "\n",
    "```python\n",
    "class MyCalculator(CalculatorToInheritFrom):\n",
    "\n",
    "    def compute(self, *args):\n",
    "        # Code to compute the value of the feature for a single element, \n",
    "        # either a node, an edge or a lineage graph.        \n",
    "        return feature_value\n",
    "```\n",
    "\n",
    "The calculator class must ALWAYS define at least a `compute()` method. In more complex calculators, you can also have an `__init__()`method (see the [In case of additional arguments](#in-case-of-additional-arguments) section)."
   ]
  },
  {
   "cell_type": "code",
   "execution_count": 5,
   "metadata": {},
   "outputs": [],
   "source": [
    "class AgeCalculator(pc.NodeGlobalFeatureCalculator):\n",
    "\n",
    "    def compute(self, data: pc.Data, lineage: pc.CellLineage, noi: int) -> int:\n",
    "        root = lineage.get_root()\n",
    "        return lineage.nodes[noi][\"frame\"] - lineage.nodes[root][\"frame\"]"
   ]
  },
  {
   "cell_type": "markdown",
   "metadata": {},
   "source": [
    "### How to choose the calculator to inherit from?\n",
    "\n",
    "In the example above, we have built our `AgeCalculator` by inheriting from `NodeGlobalFeatureCalculator`. But there are several `FeatureCalculator` base classes you can inherit from, represented in orange in the following calculators tree: \n",
    "\n",
    "![Calculators tree scheme](./imgs/Pycellin_calculators_scheme.png)"
   ]
  },
  {
   "cell_type": "markdown",
   "metadata": {},
   "source": [
    "To know which calculator to use, you need to answer 2 questions:\n",
    "1. Where do you want to store the feature values? On nodes, edges, or lineage graphs?\n",
    "2. What information do you need to compute your new feature?"
   ]
  },
  {
   "cell_type": "markdown",
   "metadata": {},
   "source": [
    "Question 1 is already answered in the previous part (not currently, but will be in next update since the feature type (node, edge, lineage) is going to be one of the mandatory field of a Feature). \n",
    "\n",
    "Question 2 requires to think about **the reach of your feature**: local vs global.  \n",
    "A local feature is a feature that only needs data from the element it will be stored in. For example, cell area would be a local feature since it only needs information about the shape of the cell itself to be computed. But some features require data from several elements or maybe from the whole lineage. In that case they are global. A simple example is our AgeCalculator. To compute the age of a cell you need to know when the first cell of the lineage appeared. So you need to access the data stored into 2 different cells: the cell of interest and the root of the lineage.  \n",
    "\n",
    "These 2 examples, area and age, are examples of node features, so their calculators would have to inherit from `NodeLocalFeatureCalculator` and `NodeGlobalFeatureCalculator` respectively.  \n",
    "Computing the speed of a cell between 2 frames would need an `EdgeLocalFeatureCalculator` since only the position of the 2 cells forming the edge is needed.  \n",
    "For lineage, mean cell speed is an example of a feature based on a `LineageLocalFeatureCalculator`. It requires information from all the edges of the current lineage, but nothing from other lineages."
   ]
  },
  {
   "cell_type": "markdown",
   "metadata": {},
   "source": [
    "## Adding the new feature and its calculator to the model"
   ]
  },
  {
   "cell_type": "markdown",
   "metadata": {},
   "source": [
    "```python\n",
    "model.add_custom_feature(\n",
    "    my_feature,  # Feature defined above\n",
    "    MyCalculator,  # Calculator class defined above (not instanciated!)\n",
    ")\n",
    "```"
   ]
  },
  {
   "cell_type": "markdown",
   "metadata": {},
   "source": []
  },
  {
   "cell_type": "markdown",
   "metadata": {},
   "source": [
    "## Updating the model"
   ]
  },
  {
   "cell_type": "markdown",
   "metadata": {},
   "source": [
    "When a new feature is added, a full update of the model is automatically planned.  \n",
    "Same as imported features and Pycellin features, features values are added to the data by calling the `update()` method on the model:"
   ]
  },
  {
   "cell_type": "code",
   "execution_count": null,
   "metadata": {},
   "outputs": [],
   "source": [
    "model.update()"
   ]
  },
  {
   "cell_type": "markdown",
   "metadata": {},
   "source": [
    "## Examples"
   ]
  },
  {
   "cell_type": "markdown",
   "metadata": {},
   "source": []
  },
  {
   "cell_type": "markdown",
   "metadata": {},
   "source": [
    "### Importance of `compute()` signature"
   ]
  },
  {
   "cell_type": "markdown",
   "metadata": {},
   "source": [
    "The signature of the `compute` method must be respected, even if one of the argument is not needed to compute the feature."
   ]
  },
  {
   "cell_type": "code",
   "execution_count": null,
   "metadata": {},
   "outputs": [],
   "source": [
    "feat_incorrect = pc.Feature(\n",
    "    name=\"node_ID_parity_incorrect\",\n",
    "    description=\"Parity of the node ID\",\n",
    "    lineage_type=\"CellLineage\",\n",
    "    provenance=\"Pycellin\",\n",
    "    data_type=\"int\",\n",
    ")\n",
    "\n",
    "\n",
    "class ParityCalculator_incorrect(pc.NodeLocalFeatureCalculator):\n",
    "\n",
    "    def compute(self, noi):\n",
    "        if noi % 2 == 0:\n",
    "            return True\n",
    "        else:\n",
    "            return False"
   ]
  },
  {
   "cell_type": "code",
   "execution_count": null,
   "metadata": {},
   "outputs": [],
   "source": [
    "model.add_custom_feature(feat_incorrect, ParityCalculator_incorrect)"
   ]
  },
  {
   "cell_type": "code",
   "execution_count": null,
   "metadata": {},
   "outputs": [],
   "source": [
    "feat_correct = pc.Feature(\n",
    "    name=\"node_ID_parity_correct\",\n",
    "    description=\"Parity of the node ID\",\n",
    "    lineage_type=\"CellLineage\",\n",
    "    provenance=\"Pycellin\",\n",
    "    data_type=\"int\",\n",
    ")\n",
    "\n",
    "\n",
    "class ParityCalculator_correct(pc.NodeLocalFeatureCalculator):\n",
    "\n",
    "    def compute(self, lineage, noi):\n",
    "        if noi % 2 == 0:\n",
    "            return True\n",
    "        else:\n",
    "            return False"
   ]
  },
  {
   "cell_type": "code",
   "execution_count": null,
   "metadata": {},
   "outputs": [],
   "source": [
    "model.add_custom_feature(feat_correct, ParityCalculator_correct)"
   ]
  },
  {
   "cell_type": "markdown",
   "metadata": {},
   "source": [
    "### In case of additional arguments"
   ]
  }
 ],
 "metadata": {
  "kernelspec": {
   "display_name": "pycellin_iah",
   "language": "python",
   "name": "python3"
  },
  "language_info": {
   "codemirror_mode": {
    "name": "ipython",
    "version": 3
   },
   "file_extension": ".py",
   "mimetype": "text/x-python",
   "name": "python",
   "nbconvert_exporter": "python",
   "pygments_lexer": "ipython3",
   "version": "3.11.7"
  }
 },
 "nbformat": 4,
 "nbformat_minor": 2
}
