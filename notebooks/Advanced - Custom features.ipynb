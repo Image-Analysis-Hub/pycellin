{
 "cells": [
  {
   "cell_type": "markdown",
   "metadata": {},
   "source": [
    "# Advanced - Custom features"
   ]
  },
  {
   "cell_type": "markdown",
   "metadata": {},
   "source": [
    "This notebook requires Python coding knowledge. It is also recommended to first read the notebooks [Pycellin data structure](./Pycellin%20data%20structure.ipynb) and [Managing features](./Managing%20features.ipynb).\n",
    "\n",
    "In this notebook, we will cover how to augment a model with a user-defined feature.\n",
    "\n",
    "- describe the new feature  \n",
    "- implement the way to compute it (i.e. its calculator)\n",
    "- add the new feature and its associated calculator to the model  \n",
    "- update the model so the new feature values are computed and stored properly for all relevant elements of the lineages"
   ]
  },
  {
   "cell_type": "code",
   "execution_count": 1,
   "metadata": {},
   "outputs": [],
   "source": [
    "import pycellin as pc"
   ]
  },
  {
   "cell_type": "code",
   "execution_count": 2,
   "metadata": {},
   "outputs": [
    {
     "name": "stdout",
     "output_type": "stream",
     "text": [
      "Model with 3 lineages.\n",
      "This model contains 3 lineages:\n",
      "- ID 0: CellLineage named 'Track_0' with 152 nodes and 151 edges\n",
      "- ID 1: CellLineage named 'Track_1' with 189 nodes and 188 edges\n",
      "- ID 2: CellLineage named 'Track_2' with 185 nodes and 184 edges\n"
     ]
    }
   ],
   "source": [
    "# Path to the TrackMate XML file.\n",
    "xml_path = \"../sample_data/Ecoli_growth_on_agar_pad.xml\"\n",
    "\n",
    "# Parse the XML file and create a Pycellin Model object\n",
    "# that contains all the data from the XML file.\n",
    "model = pc.load_TrackMate_XML(xml_path)\n",
    "\n",
    "# We can display basic information about this model.\n",
    "print(model)\n",
    "print(f\"This model contains {model.data.number_of_lineages()} lineages:\")\n",
    "for lin_ID, lineage in model.data.cell_data.items():\n",
    "    print(f\"- ID {lin_ID}: {lineage}\")"
   ]
  },
  {
   "cell_type": "markdown",
   "metadata": {},
   "source": [
    "## Definition of the new feature "
   ]
  },
  {
   "cell_type": "markdown",
   "metadata": {},
   "source": [
    "A new feature is defined by creating a new instance of the `Feature` class, with 6 fields that describe the feature:\n",
    "\n",
    "**name**  \n",
    "The name/identifier of the feature. This will be the name of the associated Python variable and must follow variable naming rules (no punctuations except underscore, no whitespaces, no numbers).\n",
    "\n",
    "**description**  \n",
    "A concise description of the feature.\n",
    "\n",
    "**lineage_type**    \n",
    "Either `CellLineage` or `CycleLineage` depending on which type of lineage your feature is related to. See [Pycellin data structure](./Pycellin%20data%20structure.ipynb) if in doubt.\n",
    "\n",
    "**provenance**  \n",
    "Where does the feature come from? For imported features, it is the name of the tool the data was imported from. For custom features, you can use `custom`, your initials or whatever works for you. This field is useful for traceability (e.g. reopening a model after a long time, sharing a model with other people...).\n",
    "\n",
    "**data_type**   \n",
    "Python type of the feature values, e.g. `int`, `bool`...\n",
    "\n",
    "**unit**    \n",
    "Unit of the feature values, e.g. `µm`, `min`, `cell`...\n"
   ]
  },
  {
   "cell_type": "markdown",
   "metadata": {},
   "source": [
    "All these fields are strings. They are mandatory except `unit` which will be set to `None` if not provided.\n",
    "\n",
    "Here is an example on a basic feature, the age of the cells:"
   ]
  },
  {
   "cell_type": "code",
   "execution_count": 3,
   "metadata": {},
   "outputs": [],
   "source": [
    "age_feat = pc.Feature(\n",
    "    \"age\",  # name\n",
    "    \"Age of the cell since the beginning of the lineage\",  # description\n",
    "    \"CellLineage\",  # lineage_type\n",
    "    \"Pycellin\",  # provenance\n",
    "    \"int\",  # data_type\n",
    "    \"frame\",  # unit\n",
    ")"
   ]
  },
  {
   "cell_type": "markdown",
   "metadata": {},
   "source": [
    "You can then access the different fields of the feature:"
   ]
  },
  {
   "cell_type": "code",
   "execution_count": 4,
   "metadata": {},
   "outputs": [
    {
     "name": "stdout",
     "output_type": "stream",
     "text": [
      "age: Age of the cell since the beginning of the lineage in frame(s)\n"
     ]
    }
   ],
   "source": [
    "print(f\"{age_feat.name}: {age_feat.description} in {age_feat.unit}(s)\")"
   ]
  },
  {
   "cell_type": "markdown",
   "metadata": {},
   "source": [
    "## Calculators"
   ]
  },
  {
   "cell_type": "markdown",
   "metadata": {},
   "source": [
    "In Pycellin, a calculator is a class that defines and structures how to compute a specific feature. A feature cannot be associated to more than one calculator. As we will see, calculators can be very simple with just a few lines of code, or really complex. \n",
    "\n",
    "Currently, imported features do not have calculators. This means that imported features cannot be recomputed unless you define a calculator yourself and associate it with the imported feature.  \n",
    "Pycellin features come with their own calculators and are stored within the `pycellin.graph.features` subpackage. This is a useful place to look for real examples of calculators.\n",
    "\n",
    "When you want to compute something that is not provided by Pycellin nor imported from a tracking tool, you need to define your own calculator. Here is the stripped-down generic structure of a calculator:\n",
    "\n",
    "```python\n",
    "class MyCalculator(CalculatorToInheritFrom):\n",
    "\n",
    "    def compute(self, *args):\n",
    "        # Code to compute the value of the feature for a single element, \n",
    "        # either a node, an edge or a lineage graph.        \n",
    "        return feature_value\n",
    "```\n",
    "\n",
    "The calculator class must ALWAYS define at least a `compute()` method. In more complex calculators, you can also have an `__init__()`method (see the [In case of additional arguments](#in-case-of-additional-arguments) section).\n",
    "\n",
    "With our `age` feature previously defined, the calculator could be:"
   ]
  },
  {
   "cell_type": "code",
   "execution_count": 5,
   "metadata": {},
   "outputs": [],
   "source": [
    "class AgeCalculator(pc.NodeGlobalFeatureCalculator):\n",
    "\n",
    "    def compute(self, data: pc.Data, lineage: pc.CellLineage, noi: int) -> int:\n",
    "        root = lineage.get_root()\n",
    "        return lineage.nodes[noi][\"frame\"] - lineage.nodes[root][\"frame\"]"
   ]
  },
  {
   "cell_type": "markdown",
   "metadata": {},
   "source": [
    "### How to choose the calculator to inherit from?\n",
    "\n",
    "In the example above, we have built our `AgeCalculator` by inheriting from `NodeGlobalFeatureCalculator`. But there are several `FeatureCalculator` base classes you can inherit from, represented in orange in the following calculators tree: \n",
    "\n",
    "![Calculators tree scheme](./imgs/Pycellin_calculators_scheme.png)"
   ]
  },
  {
   "cell_type": "markdown",
   "metadata": {},
   "source": [
    "To know which calculator to use, you need to answer 2 questions:\n",
    "1. Where do you want to store the feature values? On nodes, edges, or lineage graphs?\n",
    "2. What information do you need to compute your new feature?"
   ]
  },
  {
   "cell_type": "markdown",
   "metadata": {},
   "source": [
    "Question 1 is already answered in the previous part (not currently, but will be in next update since the feature type (node, edge, lineage) is going to be one of the mandatory field of a Feature). \n",
    "\n",
    "Question 2 requires to think about **the reach of your feature**: local vs global.  \n",
    "A local feature is a feature that only needs data from the element it will be stored in. For example, cell area would be a local feature since it only needs information about the shape of the cell itself to be computed. But some features require data from several elements or maybe from the whole lineage. In that case they are global. A simple example is our AgeCalculator. To compute the age of a cell you need to know when the first cell of the lineage appeared. So you need to access the data stored into 2 different cells: the cell of interest and the root of the lineage.  \n",
    "\n",
    "These 2 examples, area and age, are examples of node features, so their calculators would have to inherit from `NodeLocalFeatureCalculator` and `NodeGlobalFeatureCalculator` respectively.  \n",
    "Computing the speed of a cell between 2 frames would need an `EdgeLocalFeatureCalculator` since only the position of the 2 cells forming the edge is needed.  \n",
    "For lineage, mean cell speed is an example of a feature based on a `LineageLocalFeatureCalculator`. It requires information from all the edges of the current lineage, but nothing from other lineages."
   ]
  },
  {
   "cell_type": "markdown",
   "metadata": {},
   "source": [
    "## Adding the new feature and its calculator to the model"
   ]
  },
  {
   "cell_type": "markdown",
   "metadata": {},
   "source": [
    "Once the feature and its calculator are defined, they need to be linked together and added to the model. This is done with the `add_custom_feature()` method:\n",
    "\n",
    "```python\n",
    "model.add_custom_feature(\n",
    "    my_feature,  # instance of Feature defined above\n",
    "    MyCalculator,  # Calculator class defined above (not instanciated!)\n",
    ")\n",
    "```"
   ]
  },
  {
   "cell_type": "markdown",
   "metadata": {},
   "source": [
    "For our `age` example:"
   ]
  },
  {
   "cell_type": "code",
   "execution_count": 6,
   "metadata": {},
   "outputs": [],
   "source": [
    "model.add_custom_feature(age_feat, AgeCalculator)"
   ]
  },
  {
   "cell_type": "markdown",
   "metadata": {},
   "source": [
    "## Updating the model"
   ]
  },
  {
   "cell_type": "markdown",
   "metadata": {},
   "source": [
    "When a new feature is added with `add_custom_feature()`, a full update of the model is automatically planned.  \n",
    "\n",
    "To actually run the update that will compute and add the feature values for the newly added custom feature, you need to call the `update()` method on the model:"
   ]
  },
  {
   "cell_type": "code",
   "execution_count": 7,
   "metadata": {},
   "outputs": [],
   "source": [
    "model.update()"
   ]
  },
  {
   "cell_type": "markdown",
   "metadata": {},
   "source": [
    "During the update, all the features associated with a calculator will be computed or recomputed. See [Managing features](./Managing%20features.ipynb) for more information.\n",
    "\n",
    "We can check that our custom `age` feature has been added to all nodes by plotting a lineage and hovering over its cells:"
   ]
  },
  {
   "cell_type": "code",
   "execution_count": 8,
   "metadata": {},
   "outputs": [
    {
     "data": {
      "application/vnd.plotly.v1+json": {
       "config": {
        "plotlyServerURL": "https://plot.ly"
       },
       "data": [
        {
         "mode": "lines",
         "name": "Edges",
         "type": "scatter",
         "x": [
          0.8125,
          0.8125,
          null,
          -10.6875,
          -10.6875,
          null,
          2.8125,
          2.8125,
          null,
          -7.1875,
          -7.1875,
          null,
          -5.6875,
          -5.6875,
          null,
          -9.1875,
          -9.1875,
          null,
          -4.1875,
          -4.1875,
          null,
          4.8125,
          4.3125,
          null,
          4.8125,
          5.3125,
          null,
          -2.1875,
          -2.1875,
          null,
          -0.6875,
          -0.6875,
          null,
          7.3125,
          7.3125,
          null,
          6.3125,
          6.3125,
          null,
          -3.1875,
          -3.1875,
          null,
          -6.4375,
          -6.4375,
          null,
          0.8125,
          0.8125,
          null,
          -0.6875,
          -0.6875,
          null,
          7.3125,
          7.3125,
          null,
          2.8125,
          2.8125,
          null,
          -9.9375,
          -9.9375,
          null,
          4.8125,
          4.8125,
          null,
          7.3125,
          7.3125,
          null,
          -0.6875,
          -0.6875,
          null,
          0.8125,
          0.8125,
          null,
          -2.1875,
          -2.1875,
          null,
          -7.1875,
          -7.1875,
          null,
          -10.6875,
          -10.6875,
          null,
          4.3125,
          4.3125,
          null,
          2.8125,
          2.8125,
          null,
          -5.6875,
          -5.6875,
          null,
          -9.1875,
          -9.1875,
          null,
          -4.1875,
          -4.1875,
          null,
          5.3125,
          5.3125,
          null,
          -0.6875,
          -0.6875,
          null,
          6.3125,
          6.3125,
          null,
          6.3125,
          6.3125,
          null,
          0.8125,
          0.8125,
          null,
          -7.1875,
          -7.1875,
          null,
          -10.6875,
          -10.6875,
          null,
          4.3125,
          4.3125,
          null,
          7.3125,
          7.3125,
          null,
          -2.1875,
          -2.1875,
          null,
          2.8125,
          2.8125,
          null,
          -5.6875,
          -5.6875,
          null,
          -4.1875,
          -4.6875,
          null,
          -4.1875,
          -3.6875,
          null,
          -9.1875,
          -9.1875,
          null,
          5.3125,
          5.3125,
          null,
          -0.6875,
          -0.6875,
          null,
          6.3125,
          6.3125,
          null,
          -2.1875,
          -2.6875,
          null,
          -2.1875,
          -1.6875,
          null,
          4.3125,
          4.3125,
          null,
          7.3125,
          7.3125,
          null,
          2.8125,
          2.3125,
          null,
          2.8125,
          3.3125,
          null,
          -10.6875,
          -10.6875,
          null,
          -4.6875,
          -4.6875,
          null,
          -9.1875,
          -8.6875,
          null,
          -9.1875,
          -9.6875,
          null,
          5.3125,
          5.3125,
          null,
          -5.6875,
          -5.6875,
          null,
          0.8125,
          0.3125,
          null,
          0.8125,
          1.3125,
          null,
          -3.6875,
          -3.6875,
          null,
          5.0625,
          5.0625,
          null,
          -7.1875,
          -6.6875,
          null,
          -7.1875,
          -7.6875,
          null,
          5.0625,
          5.0625,
          null,
          -5.0625,
          -5.0625,
          null,
          0,
          5.0625,
          null,
          0,
          -5.0625,
          null,
          -5.0625,
          -5.0625,
          null,
          5.0625,
          5.0625,
          null,
          -5.0625,
          -5.0625,
          null,
          5.0625,
          5.0625,
          null,
          -5.0625,
          -5.0625,
          null,
          -5.0625,
          -5.0625,
          null,
          5.0625,
          5.0625,
          null,
          -5.0625,
          -1.9375,
          null,
          -5.0625,
          -8.1875,
          null,
          5.0625,
          3.3125,
          null,
          5.0625,
          6.8125,
          null,
          -8.1875,
          -8.1875,
          null,
          -1.9375,
          -1.9375,
          null,
          3.3125,
          3.3125,
          null,
          6.8125,
          6.8125,
          null,
          -8.1875,
          -8.1875,
          null,
          -1.9375,
          -1.9375,
          null,
          3.3125,
          3.3125,
          null,
          6.8125,
          6.8125,
          null,
          -8.1875,
          -6.4375,
          null,
          -8.1875,
          -9.9375,
          null,
          3.3125,
          1.8125,
          null,
          3.3125,
          4.8125,
          null,
          -1.9375,
          -1.9375,
          null,
          6.8125,
          6.8125,
          null,
          -8.1875,
          -8.1875,
          null,
          3.3125,
          3.3125,
          null,
          -1.9375,
          -1.9375,
          null,
          6.8125,
          6.8125,
          null,
          6.3125,
          6.3125,
          null,
          -3.1875,
          -3.1875,
          null,
          -6.4375,
          -6.4375,
          null,
          1.8125,
          1.8125,
          null,
          7.3125,
          7.3125,
          null,
          -9.9375,
          -9.9375,
          null,
          4.8125,
          4.8125,
          null,
          -0.6875,
          -0.6875,
          null,
          1.8125,
          1.8125,
          null,
          -9.9375,
          -9.9375,
          null,
          4.8125,
          4.8125,
          null,
          -6.4375,
          -6.4375,
          null,
          -1.9375,
          -0.6875,
          null,
          -1.9375,
          -3.1875,
          null,
          6.8125,
          6.3125,
          null,
          6.8125,
          7.3125,
          null,
          6.3125,
          6.3125,
          null,
          -3.1875,
          -3.1875,
          null,
          -6.4375,
          -6.4375,
          null,
          -8.1875,
          -8.1875,
          null,
          1.8125,
          1.8125,
          null,
          -1.9375,
          -1.9375,
          null,
          3.3125,
          3.3125,
          null,
          6.8125,
          6.8125,
          null,
          7.3125,
          7.3125,
          null,
          -9.9375,
          -9.9375,
          null,
          4.8125,
          4.8125,
          null,
          -0.6875,
          -0.6875,
          null,
          6.3125,
          6.3125,
          null,
          1.8125,
          0.8125,
          null,
          1.8125,
          2.8125,
          null,
          -0.6875,
          -0.6875,
          null,
          7.3125,
          7.3125,
          null,
          -9.9375,
          -9.9375,
          null,
          -3.1875,
          -3.1875,
          null,
          4.8125,
          4.8125,
          null,
          -6.4375,
          -6.4375,
          null,
          6.3125,
          6.3125,
          null,
          0.8125,
          0.8125,
          null,
          -0.6875,
          -0.6875,
          null,
          7.3125,
          7.3125,
          null,
          2.8125,
          2.8125,
          null,
          -6.4375,
          -5.6875,
          null,
          -6.4375,
          -7.1875,
          null,
          -9.9375,
          -9.1875,
          null,
          -9.9375,
          -10.6875,
          null,
          4.8125,
          4.8125,
          null,
          -3.1875,
          -2.1875,
          null,
          -3.1875,
          -4.1875,
          null,
          6.3125,
          6.3125,
          null
         ],
         "y": [
          18,
          19,
          null,
          18,
          19,
          null,
          18,
          19,
          null,
          18,
          19,
          null,
          18,
          19,
          null,
          18,
          19,
          null,
          18,
          19,
          null,
          18,
          19,
          null,
          18,
          19,
          null,
          18,
          19,
          null,
          18,
          19,
          null,
          18,
          19,
          null,
          16,
          17,
          null,
          16,
          17,
          null,
          16,
          17,
          null,
          16,
          17,
          null,
          16,
          17,
          null,
          16,
          17,
          null,
          16,
          17,
          null,
          16,
          17,
          null,
          16,
          17,
          null,
          19,
          20,
          null,
          19,
          20,
          null,
          19,
          20,
          null,
          19,
          20,
          null,
          19,
          20,
          null,
          19,
          20,
          null,
          19,
          20,
          null,
          19,
          20,
          null,
          19,
          20,
          null,
          19,
          20,
          null,
          19,
          20,
          null,
          19,
          20,
          null,
          20,
          21,
          null,
          19,
          20,
          null,
          20,
          21,
          null,
          20,
          21,
          null,
          20,
          21,
          null,
          20,
          21,
          null,
          20,
          21,
          null,
          20,
          21,
          null,
          20,
          21,
          null,
          20,
          21,
          null,
          20,
          21,
          null,
          20,
          21,
          null,
          20,
          21,
          null,
          20,
          21,
          null,
          20,
          21,
          null,
          21,
          22,
          null,
          21,
          22,
          null,
          21,
          22,
          null,
          21,
          22,
          null,
          21,
          22,
          null,
          21,
          22,
          null,
          21,
          22,
          null,
          21,
          22,
          null,
          21,
          22,
          null,
          21,
          22,
          null,
          21,
          22,
          null,
          21,
          22,
          null,
          21,
          22,
          null,
          21,
          22,
          null,
          21,
          22,
          null,
          21,
          22,
          null,
          21,
          22,
          null,
          2,
          3,
          null,
          21,
          22,
          null,
          21,
          22,
          null,
          3,
          4,
          null,
          2,
          3,
          null,
          0,
          1,
          null,
          0,
          1,
          null,
          3,
          4,
          null,
          4,
          5,
          null,
          4,
          5,
          null,
          5,
          6,
          null,
          5,
          6,
          null,
          1,
          2,
          null,
          1,
          2,
          null,
          6,
          7,
          null,
          6,
          7,
          null,
          6,
          7,
          null,
          6,
          7,
          null,
          9,
          10,
          null,
          9,
          10,
          null,
          9,
          10,
          null,
          9,
          10,
          null,
          8,
          9,
          null,
          8,
          9,
          null,
          8,
          9,
          null,
          8,
          9,
          null,
          11,
          12,
          null,
          11,
          12,
          null,
          11,
          12,
          null,
          11,
          12,
          null,
          11,
          12,
          null,
          11,
          12,
          null,
          10,
          11,
          null,
          10,
          11,
          null,
          10,
          11,
          null,
          10,
          11,
          null,
          13,
          14,
          null,
          13,
          14,
          null,
          13,
          14,
          null,
          13,
          14,
          null,
          13,
          14,
          null,
          13,
          14,
          null,
          13,
          14,
          null,
          13,
          14,
          null,
          12,
          13,
          null,
          12,
          13,
          null,
          12,
          13,
          null,
          12,
          13,
          null,
          12,
          13,
          null,
          12,
          13,
          null,
          12,
          13,
          null,
          12,
          13,
          null,
          14,
          15,
          null,
          14,
          15,
          null,
          14,
          15,
          null,
          7,
          8,
          null,
          14,
          15,
          null,
          7,
          8,
          null,
          7,
          8,
          null,
          7,
          8,
          null,
          14,
          15,
          null,
          14,
          15,
          null,
          14,
          15,
          null,
          14,
          15,
          null,
          15,
          16,
          null,
          15,
          16,
          null,
          15,
          16,
          null,
          15,
          16,
          null,
          15,
          16,
          null,
          15,
          16,
          null,
          15,
          16,
          null,
          15,
          16,
          null,
          15,
          16,
          null,
          17,
          18,
          null,
          17,
          18,
          null,
          17,
          18,
          null,
          17,
          18,
          null,
          17,
          18,
          null,
          17,
          18,
          null,
          17,
          18,
          null,
          17,
          18,
          null,
          17,
          18,
          null,
          17,
          18,
          null,
          17,
          18,
          null,
          17,
          18,
          null,
          18,
          19,
          null
         ]
        },
        {
         "hoverinfo": "text",
         "hovertemplate": "%{text}",
         "mode": "markers",
         "name": "lineage_ID: 0",
         "text": [
          "cell_ID: 9216<br>age: 18<br>",
          "cell_ID: 9218<br>age: 18<br>",
          "cell_ID: 9222<br>age: 18<br>",
          "cell_ID: 9223<br>age: 18<br>",
          "cell_ID: 9227<br>age: 18<br>",
          "cell_ID: 9228<br>age: 18<br>",
          "cell_ID: 9229<br>age: 18<br>",
          "cell_ID: 9230<br>age: 18<br>",
          "cell_ID: 9235<br>age: 18<br>",
          "cell_ID: 9240<br>age: 18<br>",
          "cell_ID: 9250<br>age: 18<br>",
          "cell_ID: 9252<br>age: 16<br>",
          "cell_ID: 9255<br>age: 16<br>",
          "cell_ID: 9258<br>age: 16<br>",
          "cell_ID: 9259<br>age: 16<br>",
          "cell_ID: 9262<br>age: 16<br>",
          "cell_ID: 9263<br>age: 16<br>",
          "cell_ID: 9271<br>age: 16<br>",
          "cell_ID: 9274<br>age: 16<br>",
          "cell_ID: 9277<br>age: 16<br>",
          "cell_ID: 9279<br>age: 19<br>",
          "cell_ID: 9286<br>age: 19<br>",
          "cell_ID: 9290<br>age: 19<br>",
          "cell_ID: 9292<br>age: 19<br>",
          "cell_ID: 9293<br>age: 19<br>",
          "cell_ID: 9294<br>age: 19<br>",
          "cell_ID: 9299<br>age: 19<br>",
          "cell_ID: 9306<br>age: 19<br>",
          "cell_ID: 9308<br>age: 19<br>",
          "cell_ID: 9309<br>age: 19<br>",
          "cell_ID: 9310<br>age: 19<br>",
          "cell_ID: 9312<br>age: 19<br>",
          "cell_ID: 9326<br>age: 20<br>",
          "cell_ID: 9328<br>age: 19<br>",
          "cell_ID: 9330<br>age: 20<br>",
          "cell_ID: 9332<br>age: 20<br>",
          "cell_ID: 9334<br>age: 20<br>",
          "cell_ID: 9335<br>age: 20<br>",
          "cell_ID: 9339<br>age: 20<br>",
          "cell_ID: 9343<br>age: 20<br>",
          "cell_ID: 9344<br>age: 20<br>",
          "cell_ID: 9351<br>age: 20<br>",
          "cell_ID: 9355<br>age: 20<br>",
          "cell_ID: 9356<br>age: 20<br>",
          "cell_ID: 9357<br>age: 20<br>",
          "cell_ID: 9358<br>age: 20<br>",
          "cell_ID: 9375<br>age: 22<br>",
          "cell_ID: 9382<br>age: 22<br>",
          "cell_ID: 9384<br>age: 22<br>",
          "cell_ID: 9389<br>age: 22<br>",
          "cell_ID: 9390<br>age: 22<br>",
          "cell_ID: 9395<br>age: 22<br>",
          "cell_ID: 9398<br>age: 22<br>",
          "cell_ID: 9402<br>age: 22<br>",
          "cell_ID: 9416<br>age: 22<br>",
          "cell_ID: 9424<br>age: 21<br>",
          "cell_ID: 9428<br>age: 21<br>",
          "cell_ID: 9438<br>age: 21<br>",
          "cell_ID: 9440<br>age: 22<br>",
          "cell_ID: 9441<br>age: 21<br>",
          "cell_ID: 9444<br>age: 22<br>",
          "cell_ID: 9446<br>age: 22<br>",
          "cell_ID: 9448<br>age: 22<br>",
          "cell_ID: 9449<br>age: 22<br>",
          "cell_ID: 9450<br>age: 21<br>",
          "cell_ID: 9463<br>age: 22<br>",
          "cell_ID: 9464<br>age: 21<br>",
          "cell_ID: 9465<br>age: 22<br>",
          "cell_ID: 9470<br>age: 22<br>",
          "cell_ID: 9476<br>age: 22<br>",
          "cell_ID: 9480<br>age: 22<br>",
          "cell_ID: 9481<br>age: 21<br>",
          "cell_ID: 9482<br>age: 21<br>",
          "cell_ID: 9483<br>age: 21<br>",
          "cell_ID: 9485<br>age: 21<br>",
          "cell_ID: 9491<br>age: 21<br>",
          "cell_ID: 9492<br>age: 21<br>",
          "cell_ID: 9494<br>age: 21<br>",
          "cell_ID: 8986<br>age: 2<br>",
          "cell_ID: 9498<br>age: 21<br>",
          "cell_ID: 8988<br>age: 3<br>",
          "cell_ID: 8989<br>age: 2<br>",
          "cell_ID: 8993<br>age: 0<br>",
          "cell_ID: 8996<br>age: 3<br>",
          "cell_ID: 8999<br>age: 4<br>",
          "cell_ID: 9001<br>age: 4<br>",
          "cell_ID: 9008<br>age: 5<br>",
          "cell_ID: 9010<br>age: 5<br>",
          "cell_ID: 9013<br>age: 1<br>",
          "cell_ID: 9014<br>age: 1<br>",
          "cell_ID: 9019<br>age: 6<br>",
          "cell_ID: 9020<br>age: 6<br>",
          "cell_ID: 9027<br>age: 9<br>",
          "cell_ID: 9028<br>age: 9<br>",
          "cell_ID: 9029<br>age: 9<br>",
          "cell_ID: 9031<br>age: 9<br>",
          "cell_ID: 9040<br>age: 8<br>",
          "cell_ID: 9041<br>age: 8<br>",
          "cell_ID: 9042<br>age: 8<br>",
          "cell_ID: 9043<br>age: 8<br>",
          "cell_ID: 9051<br>age: 11<br>",
          "cell_ID: 9052<br>age: 11<br>",
          "cell_ID: 9053<br>age: 11<br>",
          "cell_ID: 9055<br>age: 11<br>",
          "cell_ID: 9062<br>age: 10<br>",
          "cell_ID: 9064<br>age: 10<br>",
          "cell_ID: 9065<br>age: 10<br>",
          "cell_ID: 9067<br>age: 10<br>",
          "cell_ID: 9080<br>age: 13<br>",
          "cell_ID: 9081<br>age: 13<br>",
          "cell_ID: 9082<br>age: 13<br>",
          "cell_ID: 9084<br>age: 13<br>",
          "cell_ID: 9086<br>age: 13<br>",
          "cell_ID: 9090<br>age: 13<br>",
          "cell_ID: 9091<br>age: 13<br>",
          "cell_ID: 9095<br>age: 13<br>",
          "cell_ID: 9096<br>age: 12<br>",
          "cell_ID: 9102<br>age: 12<br>",
          "cell_ID: 9103<br>age: 12<br>",
          "cell_ID: 9104<br>age: 12<br>",
          "cell_ID: 9106<br>age: 12<br>",
          "cell_ID: 9108<br>age: 12<br>",
          "cell_ID: 9118<br>age: 14<br>",
          "cell_ID: 9119<br>age: 14<br>",
          "cell_ID: 9120<br>age: 14<br>",
          "cell_ID: 9121<br>age: 7<br>",
          "cell_ID: 9122<br>age: 14<br>",
          "cell_ID: 9123<br>age: 7<br>",
          "cell_ID: 9124<br>age: 7<br>",
          "cell_ID: 9126<br>age: 7<br>",
          "cell_ID: 9127<br>age: 14<br>",
          "cell_ID: 9136<br>age: 14<br>",
          "cell_ID: 9138<br>age: 14<br>",
          "cell_ID: 9143<br>age: 14<br>",
          "cell_ID: 9155<br>age: 15<br>",
          "cell_ID: 9156<br>age: 15<br>",
          "cell_ID: 9159<br>age: 15<br>",
          "cell_ID: 9160<br>age: 15<br>",
          "cell_ID: 9167<br>age: 15<br>",
          "cell_ID: 9168<br>age: 15<br>",
          "cell_ID: 9169<br>age: 15<br>",
          "cell_ID: 9170<br>age: 15<br>",
          "cell_ID: 9176<br>age: 17<br>",
          "cell_ID: 9178<br>age: 17<br>",
          "cell_ID: 9181<br>age: 17<br>",
          "cell_ID: 9182<br>age: 17<br>",
          "cell_ID: 9191<br>age: 17<br>",
          "cell_ID: 9194<br>age: 17<br>",
          "cell_ID: 9195<br>age: 17<br>",
          "cell_ID: 9196<br>age: 17<br>",
          "cell_ID: 9206<br>age: 17<br>",
          "cell_ID: 9215<br>age: 18<br>"
         ],
         "type": "scatter",
         "x": [
          0.8125,
          -10.6875,
          2.8125,
          -7.1875,
          -5.6875,
          -9.1875,
          -4.1875,
          4.8125,
          -2.1875,
          -0.6875,
          7.3125,
          6.3125,
          -3.1875,
          -6.4375,
          0.8125,
          -0.6875,
          7.3125,
          2.8125,
          -9.9375,
          4.8125,
          7.3125,
          -0.6875,
          0.8125,
          -2.1875,
          -7.1875,
          -10.6875,
          4.3125,
          2.8125,
          -5.6875,
          -9.1875,
          -4.1875,
          5.3125,
          -0.6875,
          6.3125,
          6.3125,
          0.8125,
          -7.1875,
          -10.6875,
          4.3125,
          7.3125,
          -2.1875,
          2.8125,
          -5.6875,
          -4.1875,
          -9.1875,
          5.3125,
          2.3125,
          -0.6875,
          6.3125,
          -2.6875,
          4.3125,
          7.3125,
          3.3125,
          -9.6875,
          -7.6875,
          -0.6875,
          6.3125,
          -2.1875,
          -4.6875,
          4.3125,
          -3.6875,
          5.3125,
          -6.6875,
          -1.6875,
          7.3125,
          -5.6875,
          2.8125,
          -8.6875,
          -10.6875,
          0.3125,
          1.3125,
          -10.6875,
          -4.6875,
          -9.1875,
          5.3125,
          -5.6875,
          0.8125,
          -3.6875,
          5.0625,
          -7.1875,
          5.0625,
          -5.0625,
          0,
          -5.0625,
          5.0625,
          -5.0625,
          5.0625,
          -5.0625,
          -5.0625,
          5.0625,
          -5.0625,
          5.0625,
          -8.1875,
          -1.9375,
          3.3125,
          6.8125,
          -8.1875,
          -1.9375,
          3.3125,
          6.8125,
          -8.1875,
          3.3125,
          -1.9375,
          6.8125,
          -8.1875,
          3.3125,
          -1.9375,
          6.8125,
          6.3125,
          -3.1875,
          -6.4375,
          1.8125,
          7.3125,
          -9.9375,
          4.8125,
          -0.6875,
          1.8125,
          -9.9375,
          4.8125,
          -6.4375,
          -1.9375,
          6.8125,
          6.3125,
          -3.1875,
          -6.4375,
          -8.1875,
          1.8125,
          -1.9375,
          3.3125,
          6.8125,
          7.3125,
          -9.9375,
          4.8125,
          -0.6875,
          6.3125,
          1.8125,
          -0.6875,
          7.3125,
          -9.9375,
          -3.1875,
          4.8125,
          -6.4375,
          6.3125,
          0.8125,
          -0.6875,
          7.3125,
          2.8125,
          -6.4375,
          -9.9375,
          4.8125,
          -3.1875,
          6.3125
         ],
         "y": [
          18,
          18,
          18,
          18,
          18,
          18,
          18,
          18,
          18,
          18,
          18,
          16,
          16,
          16,
          16,
          16,
          16,
          16,
          16,
          16,
          19,
          19,
          19,
          19,
          19,
          19,
          19,
          19,
          19,
          19,
          19,
          19,
          20,
          19,
          20,
          20,
          20,
          20,
          20,
          20,
          20,
          20,
          20,
          20,
          20,
          20,
          22,
          22,
          22,
          22,
          22,
          22,
          22,
          22,
          22,
          21,
          21,
          21,
          22,
          21,
          22,
          22,
          22,
          22,
          21,
          22,
          21,
          22,
          22,
          22,
          22,
          21,
          21,
          21,
          21,
          21,
          21,
          21,
          2,
          21,
          3,
          2,
          0,
          3,
          4,
          4,
          5,
          5,
          1,
          1,
          6,
          6,
          9,
          9,
          9,
          9,
          8,
          8,
          8,
          8,
          11,
          11,
          11,
          11,
          10,
          10,
          10,
          10,
          13,
          13,
          13,
          13,
          13,
          13,
          13,
          13,
          12,
          12,
          12,
          12,
          12,
          12,
          14,
          14,
          14,
          7,
          14,
          7,
          7,
          7,
          14,
          14,
          14,
          14,
          15,
          15,
          15,
          15,
          15,
          15,
          15,
          15,
          17,
          17,
          17,
          17,
          17,
          17,
          17,
          17,
          17,
          18
         ]
        }
       ],
       "layout": {
        "hovermode": "closest",
        "showlegend": true,
        "template": {
         "data": {
          "bar": [
           {
            "error_x": {
             "color": "#2a3f5f"
            },
            "error_y": {
             "color": "#2a3f5f"
            },
            "marker": {
             "line": {
              "color": "#E5ECF6",
              "width": 0.5
             },
             "pattern": {
              "fillmode": "overlay",
              "size": 10,
              "solidity": 0.2
             }
            },
            "type": "bar"
           }
          ],
          "barpolar": [
           {
            "marker": {
             "line": {
              "color": "#E5ECF6",
              "width": 0.5
             },
             "pattern": {
              "fillmode": "overlay",
              "size": 10,
              "solidity": 0.2
             }
            },
            "type": "barpolar"
           }
          ],
          "carpet": [
           {
            "aaxis": {
             "endlinecolor": "#2a3f5f",
             "gridcolor": "white",
             "linecolor": "white",
             "minorgridcolor": "white",
             "startlinecolor": "#2a3f5f"
            },
            "baxis": {
             "endlinecolor": "#2a3f5f",
             "gridcolor": "white",
             "linecolor": "white",
             "minorgridcolor": "white",
             "startlinecolor": "#2a3f5f"
            },
            "type": "carpet"
           }
          ],
          "choropleth": [
           {
            "colorbar": {
             "outlinewidth": 0,
             "ticks": ""
            },
            "type": "choropleth"
           }
          ],
          "contour": [
           {
            "colorbar": {
             "outlinewidth": 0,
             "ticks": ""
            },
            "colorscale": [
             [
              0,
              "#0d0887"
             ],
             [
              0.1111111111111111,
              "#46039f"
             ],
             [
              0.2222222222222222,
              "#7201a8"
             ],
             [
              0.3333333333333333,
              "#9c179e"
             ],
             [
              0.4444444444444444,
              "#bd3786"
             ],
             [
              0.5555555555555556,
              "#d8576b"
             ],
             [
              0.6666666666666666,
              "#ed7953"
             ],
             [
              0.7777777777777778,
              "#fb9f3a"
             ],
             [
              0.8888888888888888,
              "#fdca26"
             ],
             [
              1,
              "#f0f921"
             ]
            ],
            "type": "contour"
           }
          ],
          "contourcarpet": [
           {
            "colorbar": {
             "outlinewidth": 0,
             "ticks": ""
            },
            "type": "contourcarpet"
           }
          ],
          "heatmap": [
           {
            "colorbar": {
             "outlinewidth": 0,
             "ticks": ""
            },
            "colorscale": [
             [
              0,
              "#0d0887"
             ],
             [
              0.1111111111111111,
              "#46039f"
             ],
             [
              0.2222222222222222,
              "#7201a8"
             ],
             [
              0.3333333333333333,
              "#9c179e"
             ],
             [
              0.4444444444444444,
              "#bd3786"
             ],
             [
              0.5555555555555556,
              "#d8576b"
             ],
             [
              0.6666666666666666,
              "#ed7953"
             ],
             [
              0.7777777777777778,
              "#fb9f3a"
             ],
             [
              0.8888888888888888,
              "#fdca26"
             ],
             [
              1,
              "#f0f921"
             ]
            ],
            "type": "heatmap"
           }
          ],
          "heatmapgl": [
           {
            "colorbar": {
             "outlinewidth": 0,
             "ticks": ""
            },
            "colorscale": [
             [
              0,
              "#0d0887"
             ],
             [
              0.1111111111111111,
              "#46039f"
             ],
             [
              0.2222222222222222,
              "#7201a8"
             ],
             [
              0.3333333333333333,
              "#9c179e"
             ],
             [
              0.4444444444444444,
              "#bd3786"
             ],
             [
              0.5555555555555556,
              "#d8576b"
             ],
             [
              0.6666666666666666,
              "#ed7953"
             ],
             [
              0.7777777777777778,
              "#fb9f3a"
             ],
             [
              0.8888888888888888,
              "#fdca26"
             ],
             [
              1,
              "#f0f921"
             ]
            ],
            "type": "heatmapgl"
           }
          ],
          "histogram": [
           {
            "marker": {
             "pattern": {
              "fillmode": "overlay",
              "size": 10,
              "solidity": 0.2
             }
            },
            "type": "histogram"
           }
          ],
          "histogram2d": [
           {
            "colorbar": {
             "outlinewidth": 0,
             "ticks": ""
            },
            "colorscale": [
             [
              0,
              "#0d0887"
             ],
             [
              0.1111111111111111,
              "#46039f"
             ],
             [
              0.2222222222222222,
              "#7201a8"
             ],
             [
              0.3333333333333333,
              "#9c179e"
             ],
             [
              0.4444444444444444,
              "#bd3786"
             ],
             [
              0.5555555555555556,
              "#d8576b"
             ],
             [
              0.6666666666666666,
              "#ed7953"
             ],
             [
              0.7777777777777778,
              "#fb9f3a"
             ],
             [
              0.8888888888888888,
              "#fdca26"
             ],
             [
              1,
              "#f0f921"
             ]
            ],
            "type": "histogram2d"
           }
          ],
          "histogram2dcontour": [
           {
            "colorbar": {
             "outlinewidth": 0,
             "ticks": ""
            },
            "colorscale": [
             [
              0,
              "#0d0887"
             ],
             [
              0.1111111111111111,
              "#46039f"
             ],
             [
              0.2222222222222222,
              "#7201a8"
             ],
             [
              0.3333333333333333,
              "#9c179e"
             ],
             [
              0.4444444444444444,
              "#bd3786"
             ],
             [
              0.5555555555555556,
              "#d8576b"
             ],
             [
              0.6666666666666666,
              "#ed7953"
             ],
             [
              0.7777777777777778,
              "#fb9f3a"
             ],
             [
              0.8888888888888888,
              "#fdca26"
             ],
             [
              1,
              "#f0f921"
             ]
            ],
            "type": "histogram2dcontour"
           }
          ],
          "mesh3d": [
           {
            "colorbar": {
             "outlinewidth": 0,
             "ticks": ""
            },
            "type": "mesh3d"
           }
          ],
          "parcoords": [
           {
            "line": {
             "colorbar": {
              "outlinewidth": 0,
              "ticks": ""
             }
            },
            "type": "parcoords"
           }
          ],
          "pie": [
           {
            "automargin": true,
            "type": "pie"
           }
          ],
          "scatter": [
           {
            "fillpattern": {
             "fillmode": "overlay",
             "size": 10,
             "solidity": 0.2
            },
            "type": "scatter"
           }
          ],
          "scatter3d": [
           {
            "line": {
             "colorbar": {
              "outlinewidth": 0,
              "ticks": ""
             }
            },
            "marker": {
             "colorbar": {
              "outlinewidth": 0,
              "ticks": ""
             }
            },
            "type": "scatter3d"
           }
          ],
          "scattercarpet": [
           {
            "marker": {
             "colorbar": {
              "outlinewidth": 0,
              "ticks": ""
             }
            },
            "type": "scattercarpet"
           }
          ],
          "scattergeo": [
           {
            "marker": {
             "colorbar": {
              "outlinewidth": 0,
              "ticks": ""
             }
            },
            "type": "scattergeo"
           }
          ],
          "scattergl": [
           {
            "marker": {
             "colorbar": {
              "outlinewidth": 0,
              "ticks": ""
             }
            },
            "type": "scattergl"
           }
          ],
          "scattermapbox": [
           {
            "marker": {
             "colorbar": {
              "outlinewidth": 0,
              "ticks": ""
             }
            },
            "type": "scattermapbox"
           }
          ],
          "scatterpolar": [
           {
            "marker": {
             "colorbar": {
              "outlinewidth": 0,
              "ticks": ""
             }
            },
            "type": "scatterpolar"
           }
          ],
          "scatterpolargl": [
           {
            "marker": {
             "colorbar": {
              "outlinewidth": 0,
              "ticks": ""
             }
            },
            "type": "scatterpolargl"
           }
          ],
          "scatterternary": [
           {
            "marker": {
             "colorbar": {
              "outlinewidth": 0,
              "ticks": ""
             }
            },
            "type": "scatterternary"
           }
          ],
          "surface": [
           {
            "colorbar": {
             "outlinewidth": 0,
             "ticks": ""
            },
            "colorscale": [
             [
              0,
              "#0d0887"
             ],
             [
              0.1111111111111111,
              "#46039f"
             ],
             [
              0.2222222222222222,
              "#7201a8"
             ],
             [
              0.3333333333333333,
              "#9c179e"
             ],
             [
              0.4444444444444444,
              "#bd3786"
             ],
             [
              0.5555555555555556,
              "#d8576b"
             ],
             [
              0.6666666666666666,
              "#ed7953"
             ],
             [
              0.7777777777777778,
              "#fb9f3a"
             ],
             [
              0.8888888888888888,
              "#fdca26"
             ],
             [
              1,
              "#f0f921"
             ]
            ],
            "type": "surface"
           }
          ],
          "table": [
           {
            "cells": {
             "fill": {
              "color": "#EBF0F8"
             },
             "line": {
              "color": "white"
             }
            },
            "header": {
             "fill": {
              "color": "#C8D4E3"
             },
             "line": {
              "color": "white"
             }
            },
            "type": "table"
           }
          ]
         },
         "layout": {
          "annotationdefaults": {
           "arrowcolor": "#2a3f5f",
           "arrowhead": 0,
           "arrowwidth": 1
          },
          "autotypenumbers": "strict",
          "coloraxis": {
           "colorbar": {
            "outlinewidth": 0,
            "ticks": ""
           }
          },
          "colorscale": {
           "diverging": [
            [
             0,
             "#8e0152"
            ],
            [
             0.1,
             "#c51b7d"
            ],
            [
             0.2,
             "#de77ae"
            ],
            [
             0.3,
             "#f1b6da"
            ],
            [
             0.4,
             "#fde0ef"
            ],
            [
             0.5,
             "#f7f7f7"
            ],
            [
             0.6,
             "#e6f5d0"
            ],
            [
             0.7,
             "#b8e186"
            ],
            [
             0.8,
             "#7fbc41"
            ],
            [
             0.9,
             "#4d9221"
            ],
            [
             1,
             "#276419"
            ]
           ],
           "sequential": [
            [
             0,
             "#0d0887"
            ],
            [
             0.1111111111111111,
             "#46039f"
            ],
            [
             0.2222222222222222,
             "#7201a8"
            ],
            [
             0.3333333333333333,
             "#9c179e"
            ],
            [
             0.4444444444444444,
             "#bd3786"
            ],
            [
             0.5555555555555556,
             "#d8576b"
            ],
            [
             0.6666666666666666,
             "#ed7953"
            ],
            [
             0.7777777777777778,
             "#fb9f3a"
            ],
            [
             0.8888888888888888,
             "#fdca26"
            ],
            [
             1,
             "#f0f921"
            ]
           ],
           "sequentialminus": [
            [
             0,
             "#0d0887"
            ],
            [
             0.1111111111111111,
             "#46039f"
            ],
            [
             0.2222222222222222,
             "#7201a8"
            ],
            [
             0.3333333333333333,
             "#9c179e"
            ],
            [
             0.4444444444444444,
             "#bd3786"
            ],
            [
             0.5555555555555556,
             "#d8576b"
            ],
            [
             0.6666666666666666,
             "#ed7953"
            ],
            [
             0.7777777777777778,
             "#fb9f3a"
            ],
            [
             0.8888888888888888,
             "#fdca26"
            ],
            [
             1,
             "#f0f921"
            ]
           ]
          },
          "colorway": [
           "#636efa",
           "#EF553B",
           "#00cc96",
           "#ab63fa",
           "#FFA15A",
           "#19d3f3",
           "#FF6692",
           "#B6E880",
           "#FF97FF",
           "#FECB52"
          ],
          "font": {
           "color": "#2a3f5f"
          },
          "geo": {
           "bgcolor": "white",
           "lakecolor": "white",
           "landcolor": "#E5ECF6",
           "showlakes": true,
           "showland": true,
           "subunitcolor": "white"
          },
          "hoverlabel": {
           "align": "left"
          },
          "hovermode": "closest",
          "mapbox": {
           "style": "light"
          },
          "paper_bgcolor": "white",
          "plot_bgcolor": "#E5ECF6",
          "polar": {
           "angularaxis": {
            "gridcolor": "white",
            "linecolor": "white",
            "ticks": ""
           },
           "bgcolor": "#E5ECF6",
           "radialaxis": {
            "gridcolor": "white",
            "linecolor": "white",
            "ticks": ""
           }
          },
          "scene": {
           "xaxis": {
            "backgroundcolor": "#E5ECF6",
            "gridcolor": "white",
            "gridwidth": 2,
            "linecolor": "white",
            "showbackground": true,
            "ticks": "",
            "zerolinecolor": "white"
           },
           "yaxis": {
            "backgroundcolor": "#E5ECF6",
            "gridcolor": "white",
            "gridwidth": 2,
            "linecolor": "white",
            "showbackground": true,
            "ticks": "",
            "zerolinecolor": "white"
           },
           "zaxis": {
            "backgroundcolor": "#E5ECF6",
            "gridcolor": "white",
            "gridwidth": 2,
            "linecolor": "white",
            "showbackground": true,
            "ticks": "",
            "zerolinecolor": "white"
           }
          },
          "shapedefaults": {
           "line": {
            "color": "#2a3f5f"
           }
          },
          "ternary": {
           "aaxis": {
            "gridcolor": "white",
            "linecolor": "white",
            "ticks": ""
           },
           "baxis": {
            "gridcolor": "white",
            "linecolor": "white",
            "ticks": ""
           },
           "bgcolor": "#E5ECF6",
           "caxis": {
            "gridcolor": "white",
            "linecolor": "white",
            "ticks": ""
           }
          },
          "title": {
           "x": 0.05
          },
          "xaxis": {
           "automargin": true,
           "gridcolor": "white",
           "linecolor": "white",
           "ticks": "",
           "title": {
            "standoff": 15
           },
           "zerolinecolor": "white",
           "zerolinewidth": 2
          },
          "yaxis": {
           "automargin": true,
           "gridcolor": "white",
           "linecolor": "white",
           "ticks": "",
           "title": {
            "standoff": 15
           },
           "zerolinecolor": "white",
           "zerolinewidth": 2
          }
         }
        },
        "title": {},
        "xaxis": {
         "showgrid": false,
         "showticklabels": false,
         "zeroline": false
        },
        "yaxis": {
         "autorange": "reversed",
         "showgrid": true,
         "title": {
          "text": "Time (frames)"
         },
         "zeroline": true
        }
       }
      }
     },
     "metadata": {},
     "output_type": "display_data"
    }
   ],
   "source": [
    "lin0 = model.data.cell_data[0]\n",
    "lin0.plot(node_hover_features=[\"cell_ID\", \"age\"])"
   ]
  },
  {
   "cell_type": "markdown",
   "metadata": {},
   "source": [
    "## Removing a custom feature"
   ]
  },
  {
   "cell_type": "markdown",
   "metadata": {},
   "source": [
    "A custom feature is removed from a model like any other features:"
   ]
  },
  {
   "cell_type": "code",
   "execution_count": 9,
   "metadata": {},
   "outputs": [],
   "source": [
    "model.remove_feature(\"age\", \"node\")"
   ]
  },
  {
   "cell_type": "markdown",
   "metadata": {},
   "source": [
    "See [Managing features](./Managing%20features.ipynb) for more information."
   ]
  },
  {
   "cell_type": "markdown",
   "metadata": {},
   "source": [
    "## Examples"
   ]
  },
  {
   "cell_type": "markdown",
   "metadata": {},
   "source": [
    "### Importance of `compute()` signature"
   ]
  },
  {
   "cell_type": "markdown",
   "metadata": {},
   "source": [
    "The signature of the `compute` method must be respected, even if one of the argument is not needed to compute the feature."
   ]
  },
  {
   "cell_type": "code",
   "execution_count": null,
   "metadata": {},
   "outputs": [],
   "source": [
    "feat_incorrect = pc.Feature(\n",
    "    name=\"node_ID_parity_incorrect\",\n",
    "    description=\"Parity of the node ID\",\n",
    "    lineage_type=\"CellLineage\",\n",
    "    provenance=\"Pycellin\",\n",
    "    data_type=\"int\",\n",
    ")\n",
    "\n",
    "\n",
    "class ParityCalculator_incorrect(pc.NodeLocalFeatureCalculator):\n",
    "\n",
    "    def compute(self, noi):\n",
    "        if noi % 2 == 0:\n",
    "            return True\n",
    "        else:\n",
    "            return False"
   ]
  },
  {
   "cell_type": "code",
   "execution_count": null,
   "metadata": {},
   "outputs": [
    {
     "ename": "TypeError",
     "evalue": "ParityCalculator_incorrect.compute() takes 2 positional arguments but 3 were given",
     "output_type": "error",
     "traceback": [
      "\u001b[0;31m---------------------------------------------------------------------------\u001b[0m\n",
      "\u001b[0;31mTypeError\u001b[0m                                 Traceback (most recent call last)\n",
      "Cell \u001b[0;32mIn[11], line 2\u001b[0m\n",
      "\u001b[1;32m      1\u001b[0m model\u001b[38;5;241m.\u001b[39madd_custom_feature(feat_incorrect, ParityCalculator_incorrect)\n",
      "\u001b[0;32m----> 2\u001b[0m \u001b[43mmodel\u001b[49m\u001b[38;5;241;43m.\u001b[39;49m\u001b[43mupdate\u001b[49m\u001b[43m(\u001b[49m\u001b[43m)\u001b[49m\n",
      "\n",
      "File \u001b[0;32m/mnt/data/Code/pycellin/pycellin/pycellin/classes/model.py:276\u001b[0m, in \u001b[0;36mModel.update\u001b[0;34m(self)\u001b[0m\n",
      "\u001b[1;32m    268\u001b[0m     \u001b[38;5;28;01mreturn\u001b[39;00m\n",
      "\u001b[1;32m    270\u001b[0m \u001b[38;5;66;03m# self.data._freeze_lineage_data()\u001b[39;00m\n",
      "\u001b[1;32m    271\u001b[0m \n",
      "\u001b[1;32m    272\u001b[0m \u001b[38;5;66;03m# TODO: need to handle all the errors that can be raised\u001b[39;00m\n",
      "\u001b[1;32m    273\u001b[0m \u001b[38;5;66;03m# by the updater methods to avoid incoherent states.\u001b[39;00m\n",
      "\u001b[1;32m    274\u001b[0m \u001b[38;5;66;03m# => saving a copy of the model before the update so we can roll back?\u001b[39;00m\n",
      "\u001b[0;32m--> 276\u001b[0m \u001b[38;5;28;43mself\u001b[39;49m\u001b[38;5;241;43m.\u001b[39;49m\u001b[43m_updater\u001b[49m\u001b[38;5;241;43m.\u001b[39;49m\u001b[43m_update\u001b[49m\u001b[43m(\u001b[49m\u001b[38;5;28;43mself\u001b[39;49m\u001b[38;5;241;43m.\u001b[39;49m\u001b[43mdata\u001b[49m\u001b[43m)\u001b[49m\n",
      "\n",
      "File \u001b[0;32m/mnt/data/Code/pycellin/pycellin/pycellin/classes/updater.py:149\u001b[0m, in \u001b[0;36mModelUpdater._update\u001b[0;34m(self, data, features_to_update)\u001b[0m\n",
      "\u001b[1;32m    147\u001b[0m     \u001b[38;5;28;01mfor\u001b[39;00m cell_ID, lin_ID \u001b[38;5;129;01min\u001b[39;00m \u001b[38;5;28mself\u001b[39m\u001b[38;5;241m.\u001b[39m_added_cells:\n",
      "\u001b[1;32m    148\u001b[0m         lineage \u001b[38;5;241m=\u001b[39m data\u001b[38;5;241m.\u001b[39mcell_data[lin_ID]\n",
      "\u001b[0;32m--> 149\u001b[0m         \u001b[43mcalc\u001b[49m\u001b[38;5;241;43m.\u001b[39;49m\u001b[43madd_to_one\u001b[49m\u001b[43m(\u001b[49m\u001b[43mlineage\u001b[49m\u001b[43m,\u001b[49m\u001b[43m \u001b[49m\u001b[43mcell_ID\u001b[49m\u001b[43m)\u001b[49m\n",
      "\u001b[1;32m    150\u001b[0m \u001b[38;5;28;01mcase\u001b[39;00m \u001b[38;5;124m\"\u001b[39m\u001b[38;5;124medge\u001b[39m\u001b[38;5;124m\"\u001b[39m:\n",
      "\u001b[1;32m    151\u001b[0m     \u001b[38;5;28;01mfor\u001b[39;00m link \u001b[38;5;129;01min\u001b[39;00m \u001b[38;5;28mself\u001b[39m\u001b[38;5;241m.\u001b[39m_added_links:\n",
      "\n",
      "File \u001b[0;32m/mnt/data/Code/pycellin/pycellin/pycellin/classes/feature_calculator.py:111\u001b[0m, in \u001b[0;36mNodeLocalFeatureCalculator.add_to_one\u001b[0;34m(self, lineage, noi)\u001b[0m\n",
      "\u001b[1;32m    100\u001b[0m \u001b[38;5;28;01mdef\u001b[39;00m \u001b[38;5;21madd_to_one\u001b[39m(\u001b[38;5;28mself\u001b[39m, lineage: Lineage, noi: \u001b[38;5;28mint\u001b[39m) \u001b[38;5;241m-\u001b[39m\u001b[38;5;241m>\u001b[39m \u001b[38;5;28;01mNone\u001b[39;00m:\n",
      "\u001b[1;32m    101\u001b[0m \u001b[38;5;250m    \u001b[39m\u001b[38;5;124;03m\"\"\"\u001b[39;00m\n",
      "\u001b[1;32m    102\u001b[0m \u001b[38;5;124;03m    Compute and add the value of a local feature to a single node.\u001b[39;00m\n",
      "\u001b[1;32m    103\u001b[0m \n",
      "\u001b[0;32m   (...)\u001b[0m\n",
      "\u001b[1;32m    109\u001b[0m \u001b[38;5;124;03m        Node ID of the node of interest.\u001b[39;00m\n",
      "\u001b[1;32m    110\u001b[0m \u001b[38;5;124;03m    \"\"\"\u001b[39;00m\n",
      "\u001b[0;32m--> 111\u001b[0m     lineage\u001b[38;5;241m.\u001b[39mnodes[noi][\u001b[38;5;28mself\u001b[39m\u001b[38;5;241m.\u001b[39mfeature\u001b[38;5;241m.\u001b[39mname] \u001b[38;5;241m=\u001b[39m \u001b[38;5;28;43mself\u001b[39;49m\u001b[38;5;241;43m.\u001b[39;49m\u001b[43mcompute\u001b[49m\u001b[43m(\u001b[49m\u001b[43mlineage\u001b[49m\u001b[43m,\u001b[49m\u001b[43m \u001b[49m\u001b[43mnoi\u001b[49m\u001b[43m)\u001b[49m\n",
      "\n",
      "\u001b[0;31mTypeError\u001b[0m: ParityCalculator_incorrect.compute() takes 2 positional arguments but 3 were given"
     ]
    }
   ],
   "source": [
    "model.add_custom_feature(feat_incorrect, ParityCalculator_incorrect)\n",
    "model.update()"
   ]
  },
  {
   "cell_type": "markdown",
   "metadata": {},
   "source": [
    "Error"
   ]
  },
  {
   "cell_type": "code",
   "execution_count": null,
   "metadata": {},
   "outputs": [],
   "source": [
    "feat_correct = pc.Feature(\n",
    "    name=\"node_ID_parity_correct\",\n",
    "    description=\"Parity of the node ID\",\n",
    "    lineage_type=\"CellLineage\",\n",
    "    provenance=\"Pycellin\",\n",
    "    data_type=\"int\",\n",
    ")\n",
    "\n",
    "\n",
    "class ParityCalculator_correct(pc.NodeLocalFeatureCalculator):\n",
    "\n",
    "    def compute(self, lineage, noi):\n",
    "        if noi % 2 == 0:\n",
    "            return True\n",
    "        else:\n",
    "            return False"
   ]
  },
  {
   "cell_type": "code",
   "execution_count": null,
   "metadata": {},
   "outputs": [
    {
     "ename": "TypeError",
     "evalue": "ParityCalculator_incorrect.compute() takes 2 positional arguments but 3 were given",
     "output_type": "error",
     "traceback": [
      "\u001b[0;31m---------------------------------------------------------------------------\u001b[0m\n",
      "\u001b[0;31mTypeError\u001b[0m                                 Traceback (most recent call last)\n",
      "Cell \u001b[0;32mIn[12], line 3\u001b[0m\n",
      "\u001b[1;32m      1\u001b[0m model\u001b[38;5;241m.\u001b[39madd_custom_feature(feat_incorrect, ParityCalculator_incorrect)\n",
      "\u001b[1;32m      2\u001b[0m model\u001b[38;5;241m.\u001b[39madd_custom_feature(feat_correct, ParityCalculator_correct)\n",
      "\u001b[0;32m----> 3\u001b[0m \u001b[43mmodel\u001b[49m\u001b[38;5;241;43m.\u001b[39;49m\u001b[43mupdate\u001b[49m\u001b[43m(\u001b[49m\u001b[43m)\u001b[49m\n",
      "\n",
      "File \u001b[0;32m/mnt/data/Code/pycellin/pycellin/pycellin/classes/model.py:276\u001b[0m, in \u001b[0;36mModel.update\u001b[0;34m(self)\u001b[0m\n",
      "\u001b[1;32m    268\u001b[0m     \u001b[38;5;28;01mreturn\u001b[39;00m\n",
      "\u001b[1;32m    270\u001b[0m \u001b[38;5;66;03m# self.data._freeze_lineage_data()\u001b[39;00m\n",
      "\u001b[1;32m    271\u001b[0m \n",
      "\u001b[1;32m    272\u001b[0m \u001b[38;5;66;03m# TODO: need to handle all the errors that can be raised\u001b[39;00m\n",
      "\u001b[1;32m    273\u001b[0m \u001b[38;5;66;03m# by the updater methods to avoid incoherent states.\u001b[39;00m\n",
      "\u001b[1;32m    274\u001b[0m \u001b[38;5;66;03m# => saving a copy of the model before the update so we can roll back?\u001b[39;00m\n",
      "\u001b[0;32m--> 276\u001b[0m \u001b[38;5;28;43mself\u001b[39;49m\u001b[38;5;241;43m.\u001b[39;49m\u001b[43m_updater\u001b[49m\u001b[38;5;241;43m.\u001b[39;49m\u001b[43m_update\u001b[49m\u001b[43m(\u001b[49m\u001b[38;5;28;43mself\u001b[39;49m\u001b[38;5;241;43m.\u001b[39;49m\u001b[43mdata\u001b[49m\u001b[43m)\u001b[49m\n",
      "\n",
      "File \u001b[0;32m/mnt/data/Code/pycellin/pycellin/pycellin/classes/updater.py:149\u001b[0m, in \u001b[0;36mModelUpdater._update\u001b[0;34m(self, data, features_to_update)\u001b[0m\n",
      "\u001b[1;32m    147\u001b[0m     \u001b[38;5;28;01mfor\u001b[39;00m cell_ID, lin_ID \u001b[38;5;129;01min\u001b[39;00m \u001b[38;5;28mself\u001b[39m\u001b[38;5;241m.\u001b[39m_added_cells:\n",
      "\u001b[1;32m    148\u001b[0m         lineage \u001b[38;5;241m=\u001b[39m data\u001b[38;5;241m.\u001b[39mcell_data[lin_ID]\n",
      "\u001b[0;32m--> 149\u001b[0m         \u001b[43mcalc\u001b[49m\u001b[38;5;241;43m.\u001b[39;49m\u001b[43madd_to_one\u001b[49m\u001b[43m(\u001b[49m\u001b[43mlineage\u001b[49m\u001b[43m,\u001b[49m\u001b[43m \u001b[49m\u001b[43mcell_ID\u001b[49m\u001b[43m)\u001b[49m\n",
      "\u001b[1;32m    150\u001b[0m \u001b[38;5;28;01mcase\u001b[39;00m \u001b[38;5;124m\"\u001b[39m\u001b[38;5;124medge\u001b[39m\u001b[38;5;124m\"\u001b[39m:\n",
      "\u001b[1;32m    151\u001b[0m     \u001b[38;5;28;01mfor\u001b[39;00m link \u001b[38;5;129;01min\u001b[39;00m \u001b[38;5;28mself\u001b[39m\u001b[38;5;241m.\u001b[39m_added_links:\n",
      "\n",
      "File \u001b[0;32m/mnt/data/Code/pycellin/pycellin/pycellin/classes/feature_calculator.py:111\u001b[0m, in \u001b[0;36mNodeLocalFeatureCalculator.add_to_one\u001b[0;34m(self, lineage, noi)\u001b[0m\n",
      "\u001b[1;32m    100\u001b[0m \u001b[38;5;28;01mdef\u001b[39;00m \u001b[38;5;21madd_to_one\u001b[39m(\u001b[38;5;28mself\u001b[39m, lineage: Lineage, noi: \u001b[38;5;28mint\u001b[39m) \u001b[38;5;241m-\u001b[39m\u001b[38;5;241m>\u001b[39m \u001b[38;5;28;01mNone\u001b[39;00m:\n",
      "\u001b[1;32m    101\u001b[0m \u001b[38;5;250m    \u001b[39m\u001b[38;5;124;03m\"\"\"\u001b[39;00m\n",
      "\u001b[1;32m    102\u001b[0m \u001b[38;5;124;03m    Compute and add the value of a local feature to a single node.\u001b[39;00m\n",
      "\u001b[1;32m    103\u001b[0m \n",
      "\u001b[0;32m   (...)\u001b[0m\n",
      "\u001b[1;32m    109\u001b[0m \u001b[38;5;124;03m        Node ID of the node of interest.\u001b[39;00m\n",
      "\u001b[1;32m    110\u001b[0m \u001b[38;5;124;03m    \"\"\"\u001b[39;00m\n",
      "\u001b[0;32m--> 111\u001b[0m     lineage\u001b[38;5;241m.\u001b[39mnodes[noi][\u001b[38;5;28mself\u001b[39m\u001b[38;5;241m.\u001b[39mfeature\u001b[38;5;241m.\u001b[39mname] \u001b[38;5;241m=\u001b[39m \u001b[38;5;28;43mself\u001b[39;49m\u001b[38;5;241;43m.\u001b[39;49m\u001b[43mcompute\u001b[49m\u001b[43m(\u001b[49m\u001b[43mlineage\u001b[49m\u001b[43m,\u001b[49m\u001b[43m \u001b[49m\u001b[43mnoi\u001b[49m\u001b[43m)\u001b[49m\n",
      "\n",
      "\u001b[0;31mTypeError\u001b[0m: ParityCalculator_incorrect.compute() takes 2 positional arguments but 3 were given"
     ]
    }
   ],
   "source": [
    "model.add_custom_feature(feat_correct, ParityCalculator_correct)\n",
    "model.update()"
   ]
  },
  {
   "cell_type": "markdown",
   "metadata": {},
   "source": [
    "### In case of additional arguments"
   ]
  }
 ],
 "metadata": {
  "kernelspec": {
   "display_name": "pycellin_iah",
   "language": "python",
   "name": "python3"
  },
  "language_info": {
   "codemirror_mode": {
    "name": "ipython",
    "version": 3
   },
   "file_extension": ".py",
   "mimetype": "text/x-python",
   "name": "python",
   "nbconvert_exporter": "python",
   "pygments_lexer": "ipython3",
   "version": "3.11.7"
  }
 },
 "nbformat": 4,
 "nbformat_minor": 2
}
