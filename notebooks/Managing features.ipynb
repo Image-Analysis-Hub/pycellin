{
 "cells": [
  {
   "cell_type": "markdown",
   "metadata": {},
   "source": [
    "# Managing features"
   ]
  },
  {
   "cell_type": "markdown",
   "metadata": {},
   "source": [
    "*Blabla what is covered in this notebook*"
   ]
  },
  {
   "cell_type": "code",
   "execution_count": 1,
   "metadata": {},
   "outputs": [],
   "source": [
    "import pycellin as pc"
   ]
  },
  {
   "cell_type": "markdown",
   "metadata": {},
   "source": [
    "*describe example, display movie*"
   ]
  },
  {
   "cell_type": "code",
   "execution_count": 2,
   "metadata": {},
   "outputs": [
    {
     "name": "stdout",
     "output_type": "stream",
     "text": [
      "Model named 'Ecoli_growth_on_agar_pad' with 3 lineages, built from TrackMate.\n",
      "This model contains 3 lineages:\n",
      "- ID 0: CellLineage of ID 0 with 152 cells and 151 links.\n",
      "- ID 1: CellLineage of ID 1 with 189 cells and 188 links.\n",
      "- ID 2: CellLineage of ID 2 with 185 cells and 184 links.\n"
     ]
    }
   ],
   "source": [
    "# Path to the TrackMate XML file.\n",
    "xml_path = \"../sample_data/Ecoli_growth_on_agar_pad.xml\"\n",
    "\n",
    "# Parse the XML file and create a Pycellin Model object\n",
    "# that contains all the data from the XML file.\n",
    "model = pc.load_TrackMate_XML(xml_path)\n",
    "\n",
    "# We can display basic information about this model.\n",
    "print(model)\n",
    "print(f\"This model contains {model.data.number_of_lineages()} lineages:\")\n",
    "for lin_ID, lineage in model.data.cell_data.items():\n",
    "    print(f\"- ID {lin_ID}: {lineage}\")"
   ]
  },
  {
   "cell_type": "markdown",
   "metadata": {},
   "source": [
    "## What is a feature in Pycellin?\n",
    "\n",
    "Information that can be stored into a lineage and that is related to part or all of the lineage (e.g. shape of a cell, velocity of a cell, number of divisions in a lineage...)  \n",
    "*add schematic with the different types of features and a few examples depending on where the features are stored?*  \n",
    "*link to the notebook about Pycellin data structure?*\n",
    "\n",
    "Can be automatically computed from existing data or added manually.\n",
    "\n",
    "Different type of features depending on where they come from."
   ]
  },
  {
   "cell_type": "markdown",
   "metadata": {},
   "source": [
    "### Imported features\n",
    "\n",
    "When the data was created with an external tool, e.g. TrackMate.  \n",
    "Cannot be recomputed, added automatically when importing data."
   ]
  },
  {
   "cell_type": "markdown",
   "metadata": {},
   "source": [
    "### Pycellin features\n",
    "\n",
    "Predefined features that can be added to the model as needed:\n",
    "- morphological features, e.g. bacterial length\n",
    "- tracking related features, e.g. division time"
   ]
  },
  {
   "cell_type": "markdown",
   "metadata": {},
   "source": [
    "### Custom features\n",
    "\n",
    "User-defined features, usually less generic and more tailored to a specific experiment or data type.   \n",
    "More advanced, requires more Python knowledge. See dedicated notebook."
   ]
  },
  {
   "cell_type": "markdown",
   "metadata": {},
   "source": [
    "## Adding features to a model"
   ]
  },
  {
   "cell_type": "markdown",
   "metadata": {},
   "source": [
    "When you add a feature to a model, it lets the model know which features are expected on the lineages.\n",
    "It is also a way for the user to have a clear description of the features (provenance, units, the type of data it applies to...). However, features do not have values at this stage: the features are just *declared*, not *computed*. In the model, the information about the added features are stored in the FeatureDeclaration of the model:\n"
   ]
  },
  {
   "cell_type": "code",
   "execution_count": 3,
   "metadata": {},
   "outputs": [
    {
     "name": "stdout",
     "output_type": "stream",
     "text": [
      "List of the name of all features already registered in the model:\n",
      "Node properties: QUALITY, POSITION_T, RADIUS, VISIBILITY, MANUAL_SPOT_COLOR, MEAN_INTENSITY_CH1, MEDIAN_INTENSITY_CH1, MIN_INTENSITY_CH1, MAX_INTENSITY_CH1, TOTAL_INTENSITY_CH1, STD_INTENSITY_CH1, MEAN_INTENSITY_CH2, MEDIAN_INTENSITY_CH2, MIN_INTENSITY_CH2, MAX_INTENSITY_CH2, TOTAL_INTENSITY_CH2, STD_INTENSITY_CH2, CONTRAST_CH1, SNR_CH1, CONTRAST_CH2, SNR_CH2, ELLIPSE_X0, ELLIPSE_Y0, ELLIPSE_MAJOR, ELLIPSE_MINOR, ELLIPSE_THETA, ELLIPSE_ASPECTRATIO, AREA, PERIMETER, CIRCULARITY, SOLIDITY, SHAPE_INDEX, cell_name, cell_ID, cell_x, cell_y, cell_z, frame, ROI_coords\n",
      "Edge properties: SPOT_SOURCE_ID, SPOT_TARGET_ID, LINK_COST, DIRECTIONAL_CHANGE_RATE, SPEED, DISPLACEMENT, EDGE_TIME, MANUAL_EDGE_COLOR, link_x, link_y, link_z\n",
      "Lineage properties: TRACK_INDEX, DIVISION_TIME_MEAN, DIVISION_TIME_STD, NUMBER_SPOTS, NUMBER_GAPS, NUMBER_SPLITS, NUMBER_MERGES, NUMBER_COMPLEX, LONGEST_GAP, TRACK_DURATION, TRACK_START, TRACK_STOP, TRACK_DISPLACEMENT, TRACK_MEAN_SPEED, TRACK_MAX_SPEED, TRACK_MIN_SPEED, TRACK_MEDIAN_SPEED, TRACK_STD_SPEED, TRACK_MEAN_QUALITY, TOTAL_DISTANCE_TRAVELED, MAX_DISTANCE_TRAVELED, CONFINEMENT_RATIO, MEAN_STRAIGHT_LINE_SPEED, LINEARITY_OF_FORWARD_PROGRESSION, MEAN_DIRECTIONAL_CHANGE_RATE, lineage_name, lineage_ID, FilteredTrack, lineage_x, lineage_y, lineage_z\n",
      "\n",
      "Detailed information on each node feature:\n",
      "Property 'QUALITY'\n",
      "  Name: Quality\n",
      "  Description: Quality\n",
      "  Provenance: TrackMate\n",
      "  Type: node\n",
      "  Lineage type: CellLineage\n",
      "  Data type: float\n",
      "  Unit: None\n",
      "Property 'POSITION_T'\n",
      "  Name: T\n",
      "  Description: T\n",
      "  Provenance: TrackMate\n",
      "  Type: node\n",
      "  Lineage type: CellLineage\n",
      "  Data type: float\n",
      "  Unit: min\n",
      "Property 'RADIUS'\n",
      "  Name: Radius\n",
      "  Description: Radius\n",
      "  Provenance: TrackMate\n",
      "  Type: node\n",
      "  Lineage type: CellLineage\n",
      "  Data type: float\n",
      "  Unit: µm\n",
      "Property 'VISIBILITY'\n",
      "  Name: Visibility\n",
      "  Description: Visibility\n",
      "  Provenance: TrackMate\n",
      "  Type: node\n",
      "  Lineage type: CellLineage\n",
      "  Data type: int\n",
      "  Unit: None\n",
      "Property 'MANUAL_SPOT_COLOR'\n",
      "  Name: Manual spot color\n",
      "  Description: Manual spot color\n",
      "  Provenance: TrackMate\n",
      "  Type: node\n",
      "  Lineage type: CellLineage\n",
      "  Data type: int\n",
      "  Unit: None\n",
      "Property 'MEAN_INTENSITY_CH1'\n",
      "  Name: Mean intensity ch1\n",
      "  Description: Mean intensity ch1\n",
      "  Provenance: TrackMate\n",
      "  Type: node\n",
      "  Lineage type: CellLineage\n",
      "  Data type: float\n",
      "  Unit: None\n",
      "Property 'MEDIAN_INTENSITY_CH1'\n",
      "  Name: Median intensity ch1\n",
      "  Description: Median intensity ch1\n",
      "  Provenance: TrackMate\n",
      "  Type: node\n",
      "  Lineage type: CellLineage\n",
      "  Data type: float\n",
      "  Unit: None\n",
      "Property 'MIN_INTENSITY_CH1'\n",
      "  Name: Min intensity ch1\n",
      "  Description: Min intensity ch1\n",
      "  Provenance: TrackMate\n",
      "  Type: node\n",
      "  Lineage type: CellLineage\n",
      "  Data type: float\n",
      "  Unit: None\n",
      "Property 'MAX_INTENSITY_CH1'\n",
      "  Name: Max intensity ch1\n",
      "  Description: Max intensity ch1\n",
      "  Provenance: TrackMate\n",
      "  Type: node\n",
      "  Lineage type: CellLineage\n",
      "  Data type: float\n",
      "  Unit: None\n",
      "Property 'TOTAL_INTENSITY_CH1'\n",
      "  Name: Sum intensity ch1\n",
      "  Description: Sum intensity ch1\n",
      "  Provenance: TrackMate\n",
      "  Type: node\n",
      "  Lineage type: CellLineage\n",
      "  Data type: float\n",
      "  Unit: None\n",
      "Property 'STD_INTENSITY_CH1'\n",
      "  Name: Std intensity ch1\n",
      "  Description: Std intensity ch1\n",
      "  Provenance: TrackMate\n",
      "  Type: node\n",
      "  Lineage type: CellLineage\n",
      "  Data type: float\n",
      "  Unit: None\n",
      "Property 'MEAN_INTENSITY_CH2'\n",
      "  Name: Mean intensity ch2\n",
      "  Description: Mean intensity ch2\n",
      "  Provenance: TrackMate\n",
      "  Type: node\n",
      "  Lineage type: CellLineage\n",
      "  Data type: float\n",
      "  Unit: None\n",
      "Property 'MEDIAN_INTENSITY_CH2'\n",
      "  Name: Median intensity ch2\n",
      "  Description: Median intensity ch2\n",
      "  Provenance: TrackMate\n",
      "  Type: node\n",
      "  Lineage type: CellLineage\n",
      "  Data type: float\n",
      "  Unit: None\n",
      "Property 'MIN_INTENSITY_CH2'\n",
      "  Name: Min intensity ch2\n",
      "  Description: Min intensity ch2\n",
      "  Provenance: TrackMate\n",
      "  Type: node\n",
      "  Lineage type: CellLineage\n",
      "  Data type: float\n",
      "  Unit: None\n",
      "Property 'MAX_INTENSITY_CH2'\n",
      "  Name: Max intensity ch2\n",
      "  Description: Max intensity ch2\n",
      "  Provenance: TrackMate\n",
      "  Type: node\n",
      "  Lineage type: CellLineage\n",
      "  Data type: float\n",
      "  Unit: None\n",
      "Property 'TOTAL_INTENSITY_CH2'\n",
      "  Name: Sum intensity ch2\n",
      "  Description: Sum intensity ch2\n",
      "  Provenance: TrackMate\n",
      "  Type: node\n",
      "  Lineage type: CellLineage\n",
      "  Data type: float\n",
      "  Unit: None\n",
      "Property 'STD_INTENSITY_CH2'\n",
      "  Name: Std intensity ch2\n",
      "  Description: Std intensity ch2\n",
      "  Provenance: TrackMate\n",
      "  Type: node\n",
      "  Lineage type: CellLineage\n",
      "  Data type: float\n",
      "  Unit: None\n",
      "Property 'CONTRAST_CH1'\n",
      "  Name: Contrast ch1\n",
      "  Description: Contrast ch1\n",
      "  Provenance: TrackMate\n",
      "  Type: node\n",
      "  Lineage type: CellLineage\n",
      "  Data type: float\n",
      "  Unit: None\n",
      "Property 'SNR_CH1'\n",
      "  Name: Signal/Noise ratio ch1\n",
      "  Description: Signal/Noise ratio ch1\n",
      "  Provenance: TrackMate\n",
      "  Type: node\n",
      "  Lineage type: CellLineage\n",
      "  Data type: float\n",
      "  Unit: None\n",
      "Property 'CONTRAST_CH2'\n",
      "  Name: Contrast ch2\n",
      "  Description: Contrast ch2\n",
      "  Provenance: TrackMate\n",
      "  Type: node\n",
      "  Lineage type: CellLineage\n",
      "  Data type: float\n",
      "  Unit: None\n",
      "Property 'SNR_CH2'\n",
      "  Name: Signal/Noise ratio ch2\n",
      "  Description: Signal/Noise ratio ch2\n",
      "  Provenance: TrackMate\n",
      "  Type: node\n",
      "  Lineage type: CellLineage\n",
      "  Data type: float\n",
      "  Unit: None\n",
      "Property 'ELLIPSE_X0'\n",
      "  Name: Ellipse center x0\n",
      "  Description: Ellipse center x0\n",
      "  Provenance: TrackMate\n",
      "  Type: node\n",
      "  Lineage type: CellLineage\n",
      "  Data type: float\n",
      "  Unit: µm\n",
      "Property 'ELLIPSE_Y0'\n",
      "  Name: Ellipse center y0\n",
      "  Description: Ellipse center y0\n",
      "  Provenance: TrackMate\n",
      "  Type: node\n",
      "  Lineage type: CellLineage\n",
      "  Data type: float\n",
      "  Unit: µm\n",
      "Property 'ELLIPSE_MAJOR'\n",
      "  Name: Ellipse long axis\n",
      "  Description: Ellipse long axis\n",
      "  Provenance: TrackMate\n",
      "  Type: node\n",
      "  Lineage type: CellLineage\n",
      "  Data type: float\n",
      "  Unit: µm\n",
      "Property 'ELLIPSE_MINOR'\n",
      "  Name: Ellipse short axis\n",
      "  Description: Ellipse short axis\n",
      "  Provenance: TrackMate\n",
      "  Type: node\n",
      "  Lineage type: CellLineage\n",
      "  Data type: float\n",
      "  Unit: µm\n",
      "Property 'ELLIPSE_THETA'\n",
      "  Name: Ellipse angle\n",
      "  Description: Ellipse angle\n",
      "  Provenance: TrackMate\n",
      "  Type: node\n",
      "  Lineage type: CellLineage\n",
      "  Data type: float\n",
      "  Unit: rad\n",
      "Property 'ELLIPSE_ASPECTRATIO'\n",
      "  Name: Ellipse aspect ratio\n",
      "  Description: Ellipse aspect ratio\n",
      "  Provenance: TrackMate\n",
      "  Type: node\n",
      "  Lineage type: CellLineage\n",
      "  Data type: float\n",
      "  Unit: None\n",
      "Property 'AREA'\n",
      "  Name: Area\n",
      "  Description: Area\n",
      "  Provenance: TrackMate\n",
      "  Type: node\n",
      "  Lineage type: CellLineage\n",
      "  Data type: float\n",
      "  Unit: µm^2\n",
      "Property 'PERIMETER'\n",
      "  Name: Perimeter\n",
      "  Description: Perimeter\n",
      "  Provenance: TrackMate\n",
      "  Type: node\n",
      "  Lineage type: CellLineage\n",
      "  Data type: float\n",
      "  Unit: µm\n",
      "Property 'CIRCULARITY'\n",
      "  Name: Circularity\n",
      "  Description: Circularity\n",
      "  Provenance: TrackMate\n",
      "  Type: node\n",
      "  Lineage type: CellLineage\n",
      "  Data type: float\n",
      "  Unit: None\n",
      "Property 'SOLIDITY'\n",
      "  Name: Solidity\n",
      "  Description: Solidity\n",
      "  Provenance: TrackMate\n",
      "  Type: node\n",
      "  Lineage type: CellLineage\n",
      "  Data type: float\n",
      "  Unit: None\n",
      "Property 'SHAPE_INDEX'\n",
      "  Name: Shape index\n",
      "  Description: Shape index\n",
      "  Provenance: TrackMate\n",
      "  Type: node\n",
      "  Lineage type: CellLineage\n",
      "  Data type: float\n",
      "  Unit: None\n",
      "Property 'cell_name'\n",
      "  Name: cell name\n",
      "  Description: Name of the spot\n",
      "  Provenance: TrackMate\n",
      "  Type: node\n",
      "  Lineage type: CellLineage\n",
      "  Data type: string\n",
      "  Unit: None\n",
      "Property 'SPOT_SOURCE_ID'\n",
      "  Name: Source spot ID\n",
      "  Description: Source spot ID\n",
      "  Provenance: TrackMate\n",
      "  Type: edge\n",
      "  Lineage type: CellLineage\n",
      "  Data type: int\n",
      "  Unit: None\n",
      "Property 'SPOT_TARGET_ID'\n",
      "  Name: Target spot ID\n",
      "  Description: Target spot ID\n",
      "  Provenance: TrackMate\n",
      "  Type: edge\n",
      "  Lineage type: CellLineage\n",
      "  Data type: int\n",
      "  Unit: None\n",
      "Property 'LINK_COST'\n",
      "  Name: Edge cost\n",
      "  Description: Edge cost\n",
      "  Provenance: TrackMate\n",
      "  Type: edge\n",
      "  Lineage type: CellLineage\n",
      "  Data type: float\n",
      "  Unit: None\n",
      "Property 'DIRECTIONAL_CHANGE_RATE'\n",
      "  Name: Directional change rate\n",
      "  Description: Directional change rate\n",
      "  Provenance: TrackMate\n",
      "  Type: edge\n",
      "  Lineage type: CellLineage\n",
      "  Data type: float\n",
      "  Unit: rad/min\n",
      "Property 'SPEED'\n",
      "  Name: Speed\n",
      "  Description: Speed\n",
      "  Provenance: TrackMate\n",
      "  Type: edge\n",
      "  Lineage type: CellLineage\n",
      "  Data type: float\n",
      "  Unit: µm/min\n",
      "Property 'DISPLACEMENT'\n",
      "  Name: Displacement\n",
      "  Description: Displacement\n",
      "  Provenance: TrackMate\n",
      "  Type: edge\n",
      "  Lineage type: CellLineage\n",
      "  Data type: float\n",
      "  Unit: µm\n",
      "Property 'EDGE_TIME'\n",
      "  Name: Edge time\n",
      "  Description: Edge time\n",
      "  Provenance: TrackMate\n",
      "  Type: edge\n",
      "  Lineage type: CellLineage\n",
      "  Data type: float\n",
      "  Unit: min\n",
      "Property 'MANUAL_EDGE_COLOR'\n",
      "  Name: Manual edge color\n",
      "  Description: Manual edge color\n",
      "  Provenance: TrackMate\n",
      "  Type: edge\n",
      "  Lineage type: CellLineage\n",
      "  Data type: int\n",
      "  Unit: None\n",
      "Property 'TRACK_INDEX'\n",
      "  Name: Track index\n",
      "  Description: Track index\n",
      "  Provenance: TrackMate\n",
      "  Type: lineage\n",
      "  Lineage type: CellLineage\n",
      "  Data type: int\n",
      "  Unit: None\n",
      "Property 'DIVISION_TIME_MEAN'\n",
      "  Name: Mean cell division time\n",
      "  Description: Mean cell division time\n",
      "  Provenance: TrackMate\n",
      "  Type: lineage\n",
      "  Lineage type: CellLineage\n",
      "  Data type: float\n",
      "  Unit: min\n",
      "Property 'DIVISION_TIME_STD'\n",
      "  Name: Std cell division time\n",
      "  Description: Std cell division time\n",
      "  Provenance: TrackMate\n",
      "  Type: lineage\n",
      "  Lineage type: CellLineage\n",
      "  Data type: float\n",
      "  Unit: min\n",
      "Property 'NUMBER_SPOTS'\n",
      "  Name: Number of spots in track\n",
      "  Description: Number of spots in track\n",
      "  Provenance: TrackMate\n",
      "  Type: lineage\n",
      "  Lineage type: CellLineage\n",
      "  Data type: int\n",
      "  Unit: None\n",
      "Property 'NUMBER_GAPS'\n",
      "  Name: Number of gaps\n",
      "  Description: Number of gaps\n",
      "  Provenance: TrackMate\n",
      "  Type: lineage\n",
      "  Lineage type: CellLineage\n",
      "  Data type: int\n",
      "  Unit: None\n",
      "Property 'NUMBER_SPLITS'\n",
      "  Name: Number of split events\n",
      "  Description: Number of split events\n",
      "  Provenance: TrackMate\n",
      "  Type: lineage\n",
      "  Lineage type: CellLineage\n",
      "  Data type: int\n",
      "  Unit: None\n",
      "Property 'NUMBER_MERGES'\n",
      "  Name: Number of merge events\n",
      "  Description: Number of merge events\n",
      "  Provenance: TrackMate\n",
      "  Type: lineage\n",
      "  Lineage type: CellLineage\n",
      "  Data type: int\n",
      "  Unit: None\n",
      "Property 'NUMBER_COMPLEX'\n",
      "  Name: Number of complex points\n",
      "  Description: Number of complex points\n",
      "  Provenance: TrackMate\n",
      "  Type: lineage\n",
      "  Lineage type: CellLineage\n",
      "  Data type: int\n",
      "  Unit: None\n",
      "Property 'LONGEST_GAP'\n",
      "  Name: Longest gap\n",
      "  Description: Longest gap\n",
      "  Provenance: TrackMate\n",
      "  Type: lineage\n",
      "  Lineage type: CellLineage\n",
      "  Data type: int\n",
      "  Unit: None\n",
      "Property 'TRACK_DURATION'\n",
      "  Name: Track duration\n",
      "  Description: Track duration\n",
      "  Provenance: TrackMate\n",
      "  Type: lineage\n",
      "  Lineage type: CellLineage\n",
      "  Data type: float\n",
      "  Unit: min\n",
      "Property 'TRACK_START'\n",
      "  Name: Track start\n",
      "  Description: Track start\n",
      "  Provenance: TrackMate\n",
      "  Type: lineage\n",
      "  Lineage type: CellLineage\n",
      "  Data type: float\n",
      "  Unit: min\n",
      "Property 'TRACK_STOP'\n",
      "  Name: Track stop\n",
      "  Description: Track stop\n",
      "  Provenance: TrackMate\n",
      "  Type: lineage\n",
      "  Lineage type: CellLineage\n",
      "  Data type: float\n",
      "  Unit: min\n",
      "Property 'TRACK_DISPLACEMENT'\n",
      "  Name: Track displacement\n",
      "  Description: Track displacement\n",
      "  Provenance: TrackMate\n",
      "  Type: lineage\n",
      "  Lineage type: CellLineage\n",
      "  Data type: float\n",
      "  Unit: µm\n",
      "Property 'TRACK_MEAN_SPEED'\n",
      "  Name: Track mean speed\n",
      "  Description: Track mean speed\n",
      "  Provenance: TrackMate\n",
      "  Type: lineage\n",
      "  Lineage type: CellLineage\n",
      "  Data type: float\n",
      "  Unit: µm/min\n",
      "Property 'TRACK_MAX_SPEED'\n",
      "  Name: Track max speed\n",
      "  Description: Track max speed\n",
      "  Provenance: TrackMate\n",
      "  Type: lineage\n",
      "  Lineage type: CellLineage\n",
      "  Data type: float\n",
      "  Unit: µm/min\n",
      "Property 'TRACK_MIN_SPEED'\n",
      "  Name: Track min speed\n",
      "  Description: Track min speed\n",
      "  Provenance: TrackMate\n",
      "  Type: lineage\n",
      "  Lineage type: CellLineage\n",
      "  Data type: float\n",
      "  Unit: µm/min\n",
      "Property 'TRACK_MEDIAN_SPEED'\n",
      "  Name: Track median speed\n",
      "  Description: Track median speed\n",
      "  Provenance: TrackMate\n",
      "  Type: lineage\n",
      "  Lineage type: CellLineage\n",
      "  Data type: float\n",
      "  Unit: µm/min\n",
      "Property 'TRACK_STD_SPEED'\n",
      "  Name: Track std speed\n",
      "  Description: Track std speed\n",
      "  Provenance: TrackMate\n",
      "  Type: lineage\n",
      "  Lineage type: CellLineage\n",
      "  Data type: float\n",
      "  Unit: µm/min\n",
      "Property 'TRACK_MEAN_QUALITY'\n",
      "  Name: Track mean quality\n",
      "  Description: Track mean quality\n",
      "  Provenance: TrackMate\n",
      "  Type: lineage\n",
      "  Lineage type: CellLineage\n",
      "  Data type: float\n",
      "  Unit: None\n",
      "Property 'TOTAL_DISTANCE_TRAVELED'\n",
      "  Name: Total distance traveled\n",
      "  Description: Total distance traveled\n",
      "  Provenance: TrackMate\n",
      "  Type: lineage\n",
      "  Lineage type: CellLineage\n",
      "  Data type: float\n",
      "  Unit: µm\n",
      "Property 'MAX_DISTANCE_TRAVELED'\n",
      "  Name: Max distance traveled\n",
      "  Description: Max distance traveled\n",
      "  Provenance: TrackMate\n",
      "  Type: lineage\n",
      "  Lineage type: CellLineage\n",
      "  Data type: float\n",
      "  Unit: µm\n",
      "Property 'CONFINEMENT_RATIO'\n",
      "  Name: Confinement ratio\n",
      "  Description: Confinement ratio\n",
      "  Provenance: TrackMate\n",
      "  Type: lineage\n",
      "  Lineage type: CellLineage\n",
      "  Data type: float\n",
      "  Unit: None\n",
      "Property 'MEAN_STRAIGHT_LINE_SPEED'\n",
      "  Name: Mean straight line speed\n",
      "  Description: Mean straight line speed\n",
      "  Provenance: TrackMate\n",
      "  Type: lineage\n",
      "  Lineage type: CellLineage\n",
      "  Data type: float\n",
      "  Unit: µm/min\n",
      "Property 'LINEARITY_OF_FORWARD_PROGRESSION'\n",
      "  Name: Linearity of forward progression\n",
      "  Description: Linearity of forward progression\n",
      "  Provenance: TrackMate\n",
      "  Type: lineage\n",
      "  Lineage type: CellLineage\n",
      "  Data type: float\n",
      "  Unit: None\n",
      "Property 'MEAN_DIRECTIONAL_CHANGE_RATE'\n",
      "  Name: Mean directional change rate\n",
      "  Description: Mean directional change rate\n",
      "  Provenance: TrackMate\n",
      "  Type: lineage\n",
      "  Lineage type: CellLineage\n",
      "  Data type: float\n",
      "  Unit: rad/min\n",
      "Property 'lineage_name'\n",
      "  Name: lineage name\n",
      "  Description: Name of the track\n",
      "  Provenance: TrackMate\n",
      "  Type: lineage\n",
      "  Lineage type: CellLineage\n",
      "  Data type: string\n",
      "  Unit: None\n",
      "Property 'cell_ID'\n",
      "  Name: cell ID\n",
      "  Description: Unique identifier of the cell\n",
      "  Provenance: TrackMate\n",
      "  Type: node\n",
      "  Lineage type: CellLineage\n",
      "  Data type: int\n",
      "  Unit: None\n",
      "Property 'cell_x'\n",
      "  Name: X\n",
      "  Description: X coordinate of the cell\n",
      "  Provenance: TrackMate\n",
      "  Type: node\n",
      "  Lineage type: CellLineage\n",
      "  Data type: float\n",
      "  Unit: µm\n",
      "Property 'cell_y'\n",
      "  Name: Y\n",
      "  Description: Y coordinate of the cell\n",
      "  Provenance: TrackMate\n",
      "  Type: node\n",
      "  Lineage type: CellLineage\n",
      "  Data type: float\n",
      "  Unit: µm\n",
      "Property 'cell_z'\n",
      "  Name: Z\n",
      "  Description: Z coordinate of the cell\n",
      "  Provenance: TrackMate\n",
      "  Type: node\n",
      "  Lineage type: CellLineage\n",
      "  Data type: float\n",
      "  Unit: µm\n",
      "Property 'frame'\n",
      "  Name: Frame\n",
      "  Description: Frame\n",
      "  Provenance: TrackMate\n",
      "  Type: node\n",
      "  Lineage type: CellLineage\n",
      "  Data type: int\n",
      "  Unit: None\n",
      "Property 'ROI_coords'\n",
      "  Name: ROI coords\n",
      "  Description: List of coordinates of the region of interest\n",
      "  Provenance: TrackMate\n",
      "  Type: node\n",
      "  Lineage type: CellLineage\n",
      "  Data type: float\n",
      "  Unit: µm\n",
      "Property 'link_x'\n",
      "  Name: Edge X\n",
      "  Description: X coordinate of the link, i.e. mean coordinate of its two cells\n",
      "  Provenance: TrackMate\n",
      "  Type: edge\n",
      "  Lineage type: CellLineage\n",
      "  Data type: float\n",
      "  Unit: µm\n",
      "Property 'link_y'\n",
      "  Name: Edge Y\n",
      "  Description: Y coordinate of the link, i.e. mean coordinate of its two cells\n",
      "  Provenance: TrackMate\n",
      "  Type: edge\n",
      "  Lineage type: CellLineage\n",
      "  Data type: float\n",
      "  Unit: µm\n",
      "Property 'link_z'\n",
      "  Name: Edge Z\n",
      "  Description: Z coordinate of the link, i.e. mean coordinate of its two cells\n",
      "  Provenance: TrackMate\n",
      "  Type: edge\n",
      "  Lineage type: CellLineage\n",
      "  Data type: float\n",
      "  Unit: µm\n",
      "Property 'lineage_ID'\n",
      "  Name: Track ID\n",
      "  Description: Unique identifier of the lineage\n",
      "  Provenance: TrackMate\n",
      "  Type: lineage\n",
      "  Lineage type: CellLineage\n",
      "  Data type: int\n",
      "  Unit: None\n",
      "Property 'FilteredTrack'\n",
      "  Name: FilteredTrack\n",
      "  Description: True if the track was not filtered out in TrackMate\n",
      "  Provenance: TrackMate\n",
      "  Type: lineage\n",
      "  Lineage type: CellLineage\n",
      "  Data type: int\n",
      "  Unit: None\n",
      "Property 'lineage_x'\n",
      "  Name: Track mean X\n",
      "  Description: X coordinate of the lineage, i.e. mean coordinate of its cells\n",
      "  Provenance: TrackMate\n",
      "  Type: lineage\n",
      "  Lineage type: CellLineage\n",
      "  Data type: float\n",
      "  Unit: µm\n",
      "Property 'lineage_y'\n",
      "  Name: Track mean Y\n",
      "  Description: Y coordinate of the lineage, i.e. mean coordinate of its cells\n",
      "  Provenance: TrackMate\n",
      "  Type: lineage\n",
      "  Lineage type: CellLineage\n",
      "  Data type: float\n",
      "  Unit: µm\n",
      "Property 'lineage_z'\n",
      "  Name: Track mean Z\n",
      "  Description: Z coordinate of the lineage, i.e. mean coordinate of its cells\n",
      "  Provenance: TrackMate\n",
      "  Type: lineage\n",
      "  Lineage type: CellLineage\n",
      "  Data type: float\n",
      "  Unit: µm\n"
     ]
    }
   ],
   "source": [
    "print(\"List of the name of all features already registered in the model:\")\n",
    "print(model.props_metadata)\n",
    "print()\n",
    "\n",
    "print(\"Detailed information on each node feature:\")\n",
    "for feat_info in model.props_metadata.props.values():\n",
    "    print(feat_info)"
   ]
  },
  {
   "cell_type": "markdown",
   "metadata": {},
   "source": [
    "Here you can see that there are already a lot of features declared in the model. These features were imported from TrackMate when the XML file was loaded in Pycellin (see code in the second cell, at the top the notebook). Depending on the goal of your analysis, you may want to add features more relevant to your study, like growth rate or division rate of your cells.\n",
    "Of course, if you build a Pycellin model from scratch instead of importing a pre-existing tracking file (from TrackMate or another tracking tool), then your model will first be devoid of features.\n",
    "\n",
    "In this part, we will only see how to add pre-defined Pycellin features to a model. Indeed, imported features are automatically added during importation, and custom features are more complex and will be covered in a separate notebook."
   ]
  },
  {
   "cell_type": "markdown",
   "metadata": {},
   "source": [
    "There are 2 types of lineages in Pycellin: cell lineages and cell cycle lineages (cycle lineages for short). Each lineage type has their own features. If you are unsure about the difference between a cell lineage (`CellLineage`) and a cell cycle lineage (`CycleLineage`), I invite you to refer to Pycellin data structure notebook (*add ref*) before going further.\n"
   ]
  },
  {
   "cell_type": "markdown",
   "metadata": {},
   "source": [
    "### For cell lineages"
   ]
  },
  {
   "cell_type": "code",
   "execution_count": 4,
   "metadata": {},
   "outputs": [
    {
     "data": {
      "application/vnd.plotly.v1+json": {
       "config": {
        "plotlyServerURL": "https://plot.ly"
       },
       "data": [
        {
         "mode": "lines",
         "name": "Edges",
         "text": [],
         "type": "scatter",
         "x": [
          0.8125,
          0.8125,
          null,
          -10.6875,
          -10.6875,
          null,
          2.8125,
          2.8125,
          null,
          -7.1875,
          -7.1875,
          null,
          -5.6875,
          -5.6875,
          null,
          -9.1875,
          -9.1875,
          null,
          -4.1875,
          -4.1875,
          null,
          4.8125,
          4.3125,
          null,
          4.8125,
          5.3125,
          null,
          -2.1875,
          -2.1875,
          null,
          -0.6875,
          -0.6875,
          null,
          7.3125,
          7.3125,
          null,
          6.3125,
          6.3125,
          null,
          -3.1875,
          -3.1875,
          null,
          -6.4375,
          -6.4375,
          null,
          0.8125,
          0.8125,
          null,
          -0.6875,
          -0.6875,
          null,
          7.3125,
          7.3125,
          null,
          2.8125,
          2.8125,
          null,
          -9.9375,
          -9.9375,
          null,
          4.8125,
          4.8125,
          null,
          7.3125,
          7.3125,
          null,
          -0.6875,
          -0.6875,
          null,
          0.8125,
          0.8125,
          null,
          -2.1875,
          -2.1875,
          null,
          -7.1875,
          -7.1875,
          null,
          -10.6875,
          -10.6875,
          null,
          4.3125,
          4.3125,
          null,
          2.8125,
          2.8125,
          null,
          -5.6875,
          -5.6875,
          null,
          -9.1875,
          -9.1875,
          null,
          -4.1875,
          -4.1875,
          null,
          5.3125,
          5.3125,
          null,
          -0.6875,
          -0.6875,
          null,
          6.3125,
          6.3125,
          null,
          6.3125,
          6.3125,
          null,
          0.8125,
          0.8125,
          null,
          -7.1875,
          -7.1875,
          null,
          -10.6875,
          -10.6875,
          null,
          4.3125,
          4.3125,
          null,
          7.3125,
          7.3125,
          null,
          -2.1875,
          -2.1875,
          null,
          2.8125,
          2.8125,
          null,
          -5.6875,
          -5.6875,
          null,
          -4.1875,
          -4.6875,
          null,
          -4.1875,
          -3.6875,
          null,
          -9.1875,
          -9.1875,
          null,
          5.3125,
          5.3125,
          null,
          -0.6875,
          -0.6875,
          null,
          6.3125,
          6.3125,
          null,
          -2.1875,
          -2.6875,
          null,
          -2.1875,
          -1.6875,
          null,
          4.3125,
          4.3125,
          null,
          7.3125,
          7.3125,
          null,
          2.8125,
          2.3125,
          null,
          2.8125,
          3.3125,
          null,
          -10.6875,
          -10.6875,
          null,
          -4.6875,
          -4.6875,
          null,
          -9.1875,
          -8.6875,
          null,
          -9.1875,
          -9.6875,
          null,
          5.3125,
          5.3125,
          null,
          -5.6875,
          -5.6875,
          null,
          0.8125,
          0.3125,
          null,
          0.8125,
          1.3125,
          null,
          -3.6875,
          -3.6875,
          null,
          5.0625,
          5.0625,
          null,
          -7.1875,
          -6.6875,
          null,
          -7.1875,
          -7.6875,
          null,
          5.0625,
          5.0625,
          null,
          -5.0625,
          -5.0625,
          null,
          0,
          5.0625,
          null,
          0,
          -5.0625,
          null,
          -5.0625,
          -5.0625,
          null,
          5.0625,
          5.0625,
          null,
          -5.0625,
          -5.0625,
          null,
          5.0625,
          5.0625,
          null,
          -5.0625,
          -5.0625,
          null,
          -5.0625,
          -5.0625,
          null,
          5.0625,
          5.0625,
          null,
          -5.0625,
          -1.9375,
          null,
          -5.0625,
          -8.1875,
          null,
          5.0625,
          3.3125,
          null,
          5.0625,
          6.8125,
          null,
          -8.1875,
          -8.1875,
          null,
          -1.9375,
          -1.9375,
          null,
          3.3125,
          3.3125,
          null,
          6.8125,
          6.8125,
          null,
          -8.1875,
          -8.1875,
          null,
          -1.9375,
          -1.9375,
          null,
          3.3125,
          3.3125,
          null,
          6.8125,
          6.8125,
          null,
          -8.1875,
          -6.4375,
          null,
          -8.1875,
          -9.9375,
          null,
          3.3125,
          1.8125,
          null,
          3.3125,
          4.8125,
          null,
          -1.9375,
          -1.9375,
          null,
          6.8125,
          6.8125,
          null,
          -8.1875,
          -8.1875,
          null,
          3.3125,
          3.3125,
          null,
          -1.9375,
          -1.9375,
          null,
          6.8125,
          6.8125,
          null,
          6.3125,
          6.3125,
          null,
          -3.1875,
          -3.1875,
          null,
          -6.4375,
          -6.4375,
          null,
          1.8125,
          1.8125,
          null,
          7.3125,
          7.3125,
          null,
          -9.9375,
          -9.9375,
          null,
          4.8125,
          4.8125,
          null,
          -0.6875,
          -0.6875,
          null,
          1.8125,
          1.8125,
          null,
          -9.9375,
          -9.9375,
          null,
          4.8125,
          4.8125,
          null,
          -6.4375,
          -6.4375,
          null,
          -1.9375,
          -0.6875,
          null,
          -1.9375,
          -3.1875,
          null,
          6.8125,
          6.3125,
          null,
          6.8125,
          7.3125,
          null,
          6.3125,
          6.3125,
          null,
          -3.1875,
          -3.1875,
          null,
          -6.4375,
          -6.4375,
          null,
          -8.1875,
          -8.1875,
          null,
          1.8125,
          1.8125,
          null,
          -1.9375,
          -1.9375,
          null,
          3.3125,
          3.3125,
          null,
          6.8125,
          6.8125,
          null,
          7.3125,
          7.3125,
          null,
          -9.9375,
          -9.9375,
          null,
          4.8125,
          4.8125,
          null,
          -0.6875,
          -0.6875,
          null,
          6.3125,
          6.3125,
          null,
          1.8125,
          0.8125,
          null,
          1.8125,
          2.8125,
          null,
          -0.6875,
          -0.6875,
          null,
          7.3125,
          7.3125,
          null,
          -9.9375,
          -9.9375,
          null,
          -3.1875,
          -3.1875,
          null,
          4.8125,
          4.8125,
          null,
          -6.4375,
          -6.4375,
          null,
          6.3125,
          6.3125,
          null,
          0.8125,
          0.8125,
          null,
          -0.6875,
          -0.6875,
          null,
          7.3125,
          7.3125,
          null,
          2.8125,
          2.8125,
          null,
          -6.4375,
          -5.6875,
          null,
          -6.4375,
          -7.1875,
          null,
          -9.9375,
          -9.1875,
          null,
          -9.9375,
          -10.6875,
          null,
          4.8125,
          4.8125,
          null,
          -3.1875,
          -2.1875,
          null,
          -3.1875,
          -4.1875,
          null,
          6.3125,
          6.3125,
          null
         ],
         "y": [
          18,
          19,
          null,
          18,
          19,
          null,
          18,
          19,
          null,
          18,
          19,
          null,
          18,
          19,
          null,
          18,
          19,
          null,
          18,
          19,
          null,
          18,
          19,
          null,
          18,
          19,
          null,
          18,
          19,
          null,
          18,
          19,
          null,
          18,
          19,
          null,
          16,
          17,
          null,
          16,
          17,
          null,
          16,
          17,
          null,
          16,
          17,
          null,
          16,
          17,
          null,
          16,
          17,
          null,
          16,
          17,
          null,
          16,
          17,
          null,
          16,
          17,
          null,
          19,
          20,
          null,
          19,
          20,
          null,
          19,
          20,
          null,
          19,
          20,
          null,
          19,
          20,
          null,
          19,
          20,
          null,
          19,
          20,
          null,
          19,
          20,
          null,
          19,
          20,
          null,
          19,
          20,
          null,
          19,
          20,
          null,
          19,
          20,
          null,
          20,
          21,
          null,
          19,
          20,
          null,
          20,
          21,
          null,
          20,
          21,
          null,
          20,
          21,
          null,
          20,
          21,
          null,
          20,
          21,
          null,
          20,
          21,
          null,
          20,
          21,
          null,
          20,
          21,
          null,
          20,
          21,
          null,
          20,
          21,
          null,
          20,
          21,
          null,
          20,
          21,
          null,
          20,
          21,
          null,
          21,
          22,
          null,
          21,
          22,
          null,
          21,
          22,
          null,
          21,
          22,
          null,
          21,
          22,
          null,
          21,
          22,
          null,
          21,
          22,
          null,
          21,
          22,
          null,
          21,
          22,
          null,
          21,
          22,
          null,
          21,
          22,
          null,
          21,
          22,
          null,
          21,
          22,
          null,
          21,
          22,
          null,
          21,
          22,
          null,
          21,
          22,
          null,
          21,
          22,
          null,
          2,
          3,
          null,
          21,
          22,
          null,
          21,
          22,
          null,
          3,
          4,
          null,
          2,
          3,
          null,
          0,
          1,
          null,
          0,
          1,
          null,
          3,
          4,
          null,
          4,
          5,
          null,
          4,
          5,
          null,
          5,
          6,
          null,
          5,
          6,
          null,
          1,
          2,
          null,
          1,
          2,
          null,
          6,
          7,
          null,
          6,
          7,
          null,
          6,
          7,
          null,
          6,
          7,
          null,
          9,
          10,
          null,
          9,
          10,
          null,
          9,
          10,
          null,
          9,
          10,
          null,
          8,
          9,
          null,
          8,
          9,
          null,
          8,
          9,
          null,
          8,
          9,
          null,
          11,
          12,
          null,
          11,
          12,
          null,
          11,
          12,
          null,
          11,
          12,
          null,
          11,
          12,
          null,
          11,
          12,
          null,
          10,
          11,
          null,
          10,
          11,
          null,
          10,
          11,
          null,
          10,
          11,
          null,
          13,
          14,
          null,
          13,
          14,
          null,
          13,
          14,
          null,
          13,
          14,
          null,
          13,
          14,
          null,
          13,
          14,
          null,
          13,
          14,
          null,
          13,
          14,
          null,
          12,
          13,
          null,
          12,
          13,
          null,
          12,
          13,
          null,
          12,
          13,
          null,
          12,
          13,
          null,
          12,
          13,
          null,
          12,
          13,
          null,
          12,
          13,
          null,
          14,
          15,
          null,
          14,
          15,
          null,
          14,
          15,
          null,
          7,
          8,
          null,
          14,
          15,
          null,
          7,
          8,
          null,
          7,
          8,
          null,
          7,
          8,
          null,
          14,
          15,
          null,
          14,
          15,
          null,
          14,
          15,
          null,
          14,
          15,
          null,
          15,
          16,
          null,
          15,
          16,
          null,
          15,
          16,
          null,
          15,
          16,
          null,
          15,
          16,
          null,
          15,
          16,
          null,
          15,
          16,
          null,
          15,
          16,
          null,
          15,
          16,
          null,
          17,
          18,
          null,
          17,
          18,
          null,
          17,
          18,
          null,
          17,
          18,
          null,
          17,
          18,
          null,
          17,
          18,
          null,
          17,
          18,
          null,
          17,
          18,
          null,
          17,
          18,
          null,
          17,
          18,
          null,
          17,
          18,
          null,
          17,
          18,
          null,
          18,
          19,
          null
         ]
        },
        {
         "hoverinfo": "text",
         "hovertemplate": "%{text}",
         "mode": "markers",
         "name": "lineage_ID: 0",
         "text": [
          "cell_ID: 9216<br>frame: 18",
          "cell_ID: 9218<br>frame: 18",
          "cell_ID: 9222<br>frame: 18",
          "cell_ID: 9223<br>frame: 18",
          "cell_ID: 9227<br>frame: 18",
          "cell_ID: 9228<br>frame: 18",
          "cell_ID: 9229<br>frame: 18",
          "cell_ID: 9230<br>frame: 18",
          "cell_ID: 9235<br>frame: 18",
          "cell_ID: 9240<br>frame: 18",
          "cell_ID: 9250<br>frame: 18",
          "cell_ID: 9252<br>frame: 16",
          "cell_ID: 9255<br>frame: 16",
          "cell_ID: 9258<br>frame: 16",
          "cell_ID: 9259<br>frame: 16",
          "cell_ID: 9262<br>frame: 16",
          "cell_ID: 9263<br>frame: 16",
          "cell_ID: 9271<br>frame: 16",
          "cell_ID: 9274<br>frame: 16",
          "cell_ID: 9277<br>frame: 16",
          "cell_ID: 9279<br>frame: 19",
          "cell_ID: 9286<br>frame: 19",
          "cell_ID: 9290<br>frame: 19",
          "cell_ID: 9292<br>frame: 19",
          "cell_ID: 9293<br>frame: 19",
          "cell_ID: 9294<br>frame: 19",
          "cell_ID: 9299<br>frame: 19",
          "cell_ID: 9306<br>frame: 19",
          "cell_ID: 9308<br>frame: 19",
          "cell_ID: 9309<br>frame: 19",
          "cell_ID: 9310<br>frame: 19",
          "cell_ID: 9312<br>frame: 19",
          "cell_ID: 9326<br>frame: 20",
          "cell_ID: 9328<br>frame: 19",
          "cell_ID: 9330<br>frame: 20",
          "cell_ID: 9332<br>frame: 20",
          "cell_ID: 9334<br>frame: 20",
          "cell_ID: 9335<br>frame: 20",
          "cell_ID: 9339<br>frame: 20",
          "cell_ID: 9343<br>frame: 20",
          "cell_ID: 9344<br>frame: 20",
          "cell_ID: 9351<br>frame: 20",
          "cell_ID: 9355<br>frame: 20",
          "cell_ID: 9356<br>frame: 20",
          "cell_ID: 9357<br>frame: 20",
          "cell_ID: 9358<br>frame: 20",
          "cell_ID: 9375<br>frame: 22",
          "cell_ID: 9382<br>frame: 22",
          "cell_ID: 9384<br>frame: 22",
          "cell_ID: 9389<br>frame: 22",
          "cell_ID: 9390<br>frame: 22",
          "cell_ID: 9395<br>frame: 22",
          "cell_ID: 9398<br>frame: 22",
          "cell_ID: 9402<br>frame: 22",
          "cell_ID: 9416<br>frame: 22",
          "cell_ID: 9424<br>frame: 21",
          "cell_ID: 9428<br>frame: 21",
          "cell_ID: 9438<br>frame: 21",
          "cell_ID: 9440<br>frame: 22",
          "cell_ID: 9441<br>frame: 21",
          "cell_ID: 9444<br>frame: 22",
          "cell_ID: 9446<br>frame: 22",
          "cell_ID: 9448<br>frame: 22",
          "cell_ID: 9449<br>frame: 22",
          "cell_ID: 9450<br>frame: 21",
          "cell_ID: 9463<br>frame: 22",
          "cell_ID: 9464<br>frame: 21",
          "cell_ID: 9465<br>frame: 22",
          "cell_ID: 9470<br>frame: 22",
          "cell_ID: 9476<br>frame: 22",
          "cell_ID: 9480<br>frame: 22",
          "cell_ID: 9481<br>frame: 21",
          "cell_ID: 9482<br>frame: 21",
          "cell_ID: 9483<br>frame: 21",
          "cell_ID: 9485<br>frame: 21",
          "cell_ID: 9491<br>frame: 21",
          "cell_ID: 9492<br>frame: 21",
          "cell_ID: 9494<br>frame: 21",
          "cell_ID: 8986<br>frame: 2",
          "cell_ID: 9498<br>frame: 21",
          "cell_ID: 8988<br>frame: 3",
          "cell_ID: 8989<br>frame: 2",
          "cell_ID: 8993<br>frame: 0",
          "cell_ID: 8996<br>frame: 3",
          "cell_ID: 8999<br>frame: 4",
          "cell_ID: 9001<br>frame: 4",
          "cell_ID: 9008<br>frame: 5",
          "cell_ID: 9010<br>frame: 5",
          "cell_ID: 9013<br>frame: 1",
          "cell_ID: 9014<br>frame: 1",
          "cell_ID: 9019<br>frame: 6",
          "cell_ID: 9020<br>frame: 6",
          "cell_ID: 9027<br>frame: 9",
          "cell_ID: 9028<br>frame: 9",
          "cell_ID: 9029<br>frame: 9",
          "cell_ID: 9031<br>frame: 9",
          "cell_ID: 9040<br>frame: 8",
          "cell_ID: 9041<br>frame: 8",
          "cell_ID: 9042<br>frame: 8",
          "cell_ID: 9043<br>frame: 8",
          "cell_ID: 9051<br>frame: 11",
          "cell_ID: 9052<br>frame: 11",
          "cell_ID: 9053<br>frame: 11",
          "cell_ID: 9055<br>frame: 11",
          "cell_ID: 9062<br>frame: 10",
          "cell_ID: 9064<br>frame: 10",
          "cell_ID: 9065<br>frame: 10",
          "cell_ID: 9067<br>frame: 10",
          "cell_ID: 9080<br>frame: 13",
          "cell_ID: 9081<br>frame: 13",
          "cell_ID: 9082<br>frame: 13",
          "cell_ID: 9084<br>frame: 13",
          "cell_ID: 9086<br>frame: 13",
          "cell_ID: 9090<br>frame: 13",
          "cell_ID: 9091<br>frame: 13",
          "cell_ID: 9095<br>frame: 13",
          "cell_ID: 9096<br>frame: 12",
          "cell_ID: 9102<br>frame: 12",
          "cell_ID: 9103<br>frame: 12",
          "cell_ID: 9104<br>frame: 12",
          "cell_ID: 9106<br>frame: 12",
          "cell_ID: 9108<br>frame: 12",
          "cell_ID: 9118<br>frame: 14",
          "cell_ID: 9119<br>frame: 14",
          "cell_ID: 9120<br>frame: 14",
          "cell_ID: 9121<br>frame: 7",
          "cell_ID: 9122<br>frame: 14",
          "cell_ID: 9123<br>frame: 7",
          "cell_ID: 9124<br>frame: 7",
          "cell_ID: 9126<br>frame: 7",
          "cell_ID: 9127<br>frame: 14",
          "cell_ID: 9136<br>frame: 14",
          "cell_ID: 9138<br>frame: 14",
          "cell_ID: 9143<br>frame: 14",
          "cell_ID: 9155<br>frame: 15",
          "cell_ID: 9156<br>frame: 15",
          "cell_ID: 9159<br>frame: 15",
          "cell_ID: 9160<br>frame: 15",
          "cell_ID: 9167<br>frame: 15",
          "cell_ID: 9168<br>frame: 15",
          "cell_ID: 9169<br>frame: 15",
          "cell_ID: 9170<br>frame: 15",
          "cell_ID: 9176<br>frame: 17",
          "cell_ID: 9178<br>frame: 17",
          "cell_ID: 9181<br>frame: 17",
          "cell_ID: 9182<br>frame: 17",
          "cell_ID: 9191<br>frame: 17",
          "cell_ID: 9194<br>frame: 17",
          "cell_ID: 9195<br>frame: 17",
          "cell_ID: 9196<br>frame: 17",
          "cell_ID: 9206<br>frame: 17",
          "cell_ID: 9215<br>frame: 18"
         ],
         "type": "scatter",
         "x": [
          0.8125,
          -10.6875,
          2.8125,
          -7.1875,
          -5.6875,
          -9.1875,
          -4.1875,
          4.8125,
          -2.1875,
          -0.6875,
          7.3125,
          6.3125,
          -3.1875,
          -6.4375,
          0.8125,
          -0.6875,
          7.3125,
          2.8125,
          -9.9375,
          4.8125,
          7.3125,
          -0.6875,
          0.8125,
          -2.1875,
          -7.1875,
          -10.6875,
          4.3125,
          2.8125,
          -5.6875,
          -9.1875,
          -4.1875,
          5.3125,
          -0.6875,
          6.3125,
          6.3125,
          0.8125,
          -7.1875,
          -10.6875,
          4.3125,
          7.3125,
          -2.1875,
          2.8125,
          -5.6875,
          -4.1875,
          -9.1875,
          5.3125,
          2.3125,
          -0.6875,
          6.3125,
          -2.6875,
          4.3125,
          7.3125,
          3.3125,
          -9.6875,
          -7.6875,
          -0.6875,
          6.3125,
          -2.1875,
          -4.6875,
          4.3125,
          -3.6875,
          5.3125,
          -6.6875,
          -1.6875,
          7.3125,
          -5.6875,
          2.8125,
          -8.6875,
          -10.6875,
          0.3125,
          1.3125,
          -10.6875,
          -4.6875,
          -9.1875,
          5.3125,
          -5.6875,
          0.8125,
          -3.6875,
          5.0625,
          -7.1875,
          5.0625,
          -5.0625,
          0,
          -5.0625,
          5.0625,
          -5.0625,
          5.0625,
          -5.0625,
          -5.0625,
          5.0625,
          -5.0625,
          5.0625,
          -8.1875,
          -1.9375,
          3.3125,
          6.8125,
          -8.1875,
          -1.9375,
          3.3125,
          6.8125,
          -8.1875,
          3.3125,
          -1.9375,
          6.8125,
          -8.1875,
          3.3125,
          -1.9375,
          6.8125,
          6.3125,
          -3.1875,
          -6.4375,
          1.8125,
          7.3125,
          -9.9375,
          4.8125,
          -0.6875,
          1.8125,
          -9.9375,
          4.8125,
          -6.4375,
          -1.9375,
          6.8125,
          6.3125,
          -3.1875,
          -6.4375,
          -8.1875,
          1.8125,
          -1.9375,
          3.3125,
          6.8125,
          7.3125,
          -9.9375,
          4.8125,
          -0.6875,
          6.3125,
          1.8125,
          -0.6875,
          7.3125,
          -9.9375,
          -3.1875,
          4.8125,
          -6.4375,
          6.3125,
          0.8125,
          -0.6875,
          7.3125,
          2.8125,
          -6.4375,
          -9.9375,
          4.8125,
          -3.1875,
          6.3125
         ],
         "y": [
          18,
          18,
          18,
          18,
          18,
          18,
          18,
          18,
          18,
          18,
          18,
          16,
          16,
          16,
          16,
          16,
          16,
          16,
          16,
          16,
          19,
          19,
          19,
          19,
          19,
          19,
          19,
          19,
          19,
          19,
          19,
          19,
          20,
          19,
          20,
          20,
          20,
          20,
          20,
          20,
          20,
          20,
          20,
          20,
          20,
          20,
          22,
          22,
          22,
          22,
          22,
          22,
          22,
          22,
          22,
          21,
          21,
          21,
          22,
          21,
          22,
          22,
          22,
          22,
          21,
          22,
          21,
          22,
          22,
          22,
          22,
          21,
          21,
          21,
          21,
          21,
          21,
          21,
          2,
          21,
          3,
          2,
          0,
          3,
          4,
          4,
          5,
          5,
          1,
          1,
          6,
          6,
          9,
          9,
          9,
          9,
          8,
          8,
          8,
          8,
          11,
          11,
          11,
          11,
          10,
          10,
          10,
          10,
          13,
          13,
          13,
          13,
          13,
          13,
          13,
          13,
          12,
          12,
          12,
          12,
          12,
          12,
          14,
          14,
          14,
          7,
          14,
          7,
          7,
          7,
          14,
          14,
          14,
          14,
          15,
          15,
          15,
          15,
          15,
          15,
          15,
          15,
          17,
          17,
          17,
          17,
          17,
          17,
          17,
          17,
          17,
          18
         ]
        }
       ],
       "layout": {
        "hovermode": "closest",
        "showlegend": true,
        "template": {
         "data": {
          "bar": [
           {
            "error_x": {
             "color": "#2a3f5f"
            },
            "error_y": {
             "color": "#2a3f5f"
            },
            "marker": {
             "line": {
              "color": "#E5ECF6",
              "width": 0.5
             },
             "pattern": {
              "fillmode": "overlay",
              "size": 10,
              "solidity": 0.2
             }
            },
            "type": "bar"
           }
          ],
          "barpolar": [
           {
            "marker": {
             "line": {
              "color": "#E5ECF6",
              "width": 0.5
             },
             "pattern": {
              "fillmode": "overlay",
              "size": 10,
              "solidity": 0.2
             }
            },
            "type": "barpolar"
           }
          ],
          "carpet": [
           {
            "aaxis": {
             "endlinecolor": "#2a3f5f",
             "gridcolor": "white",
             "linecolor": "white",
             "minorgridcolor": "white",
             "startlinecolor": "#2a3f5f"
            },
            "baxis": {
             "endlinecolor": "#2a3f5f",
             "gridcolor": "white",
             "linecolor": "white",
             "minorgridcolor": "white",
             "startlinecolor": "#2a3f5f"
            },
            "type": "carpet"
           }
          ],
          "choropleth": [
           {
            "colorbar": {
             "outlinewidth": 0,
             "ticks": ""
            },
            "type": "choropleth"
           }
          ],
          "contour": [
           {
            "colorbar": {
             "outlinewidth": 0,
             "ticks": ""
            },
            "colorscale": [
             [
              0,
              "#0d0887"
             ],
             [
              0.1111111111111111,
              "#46039f"
             ],
             [
              0.2222222222222222,
              "#7201a8"
             ],
             [
              0.3333333333333333,
              "#9c179e"
             ],
             [
              0.4444444444444444,
              "#bd3786"
             ],
             [
              0.5555555555555556,
              "#d8576b"
             ],
             [
              0.6666666666666666,
              "#ed7953"
             ],
             [
              0.7777777777777778,
              "#fb9f3a"
             ],
             [
              0.8888888888888888,
              "#fdca26"
             ],
             [
              1,
              "#f0f921"
             ]
            ],
            "type": "contour"
           }
          ],
          "contourcarpet": [
           {
            "colorbar": {
             "outlinewidth": 0,
             "ticks": ""
            },
            "type": "contourcarpet"
           }
          ],
          "heatmap": [
           {
            "colorbar": {
             "outlinewidth": 0,
             "ticks": ""
            },
            "colorscale": [
             [
              0,
              "#0d0887"
             ],
             [
              0.1111111111111111,
              "#46039f"
             ],
             [
              0.2222222222222222,
              "#7201a8"
             ],
             [
              0.3333333333333333,
              "#9c179e"
             ],
             [
              0.4444444444444444,
              "#bd3786"
             ],
             [
              0.5555555555555556,
              "#d8576b"
             ],
             [
              0.6666666666666666,
              "#ed7953"
             ],
             [
              0.7777777777777778,
              "#fb9f3a"
             ],
             [
              0.8888888888888888,
              "#fdca26"
             ],
             [
              1,
              "#f0f921"
             ]
            ],
            "type": "heatmap"
           }
          ],
          "histogram": [
           {
            "marker": {
             "pattern": {
              "fillmode": "overlay",
              "size": 10,
              "solidity": 0.2
             }
            },
            "type": "histogram"
           }
          ],
          "histogram2d": [
           {
            "colorbar": {
             "outlinewidth": 0,
             "ticks": ""
            },
            "colorscale": [
             [
              0,
              "#0d0887"
             ],
             [
              0.1111111111111111,
              "#46039f"
             ],
             [
              0.2222222222222222,
              "#7201a8"
             ],
             [
              0.3333333333333333,
              "#9c179e"
             ],
             [
              0.4444444444444444,
              "#bd3786"
             ],
             [
              0.5555555555555556,
              "#d8576b"
             ],
             [
              0.6666666666666666,
              "#ed7953"
             ],
             [
              0.7777777777777778,
              "#fb9f3a"
             ],
             [
              0.8888888888888888,
              "#fdca26"
             ],
             [
              1,
              "#f0f921"
             ]
            ],
            "type": "histogram2d"
           }
          ],
          "histogram2dcontour": [
           {
            "colorbar": {
             "outlinewidth": 0,
             "ticks": ""
            },
            "colorscale": [
             [
              0,
              "#0d0887"
             ],
             [
              0.1111111111111111,
              "#46039f"
             ],
             [
              0.2222222222222222,
              "#7201a8"
             ],
             [
              0.3333333333333333,
              "#9c179e"
             ],
             [
              0.4444444444444444,
              "#bd3786"
             ],
             [
              0.5555555555555556,
              "#d8576b"
             ],
             [
              0.6666666666666666,
              "#ed7953"
             ],
             [
              0.7777777777777778,
              "#fb9f3a"
             ],
             [
              0.8888888888888888,
              "#fdca26"
             ],
             [
              1,
              "#f0f921"
             ]
            ],
            "type": "histogram2dcontour"
           }
          ],
          "mesh3d": [
           {
            "colorbar": {
             "outlinewidth": 0,
             "ticks": ""
            },
            "type": "mesh3d"
           }
          ],
          "parcoords": [
           {
            "line": {
             "colorbar": {
              "outlinewidth": 0,
              "ticks": ""
             }
            },
            "type": "parcoords"
           }
          ],
          "pie": [
           {
            "automargin": true,
            "type": "pie"
           }
          ],
          "scatter": [
           {
            "fillpattern": {
             "fillmode": "overlay",
             "size": 10,
             "solidity": 0.2
            },
            "type": "scatter"
           }
          ],
          "scatter3d": [
           {
            "line": {
             "colorbar": {
              "outlinewidth": 0,
              "ticks": ""
             }
            },
            "marker": {
             "colorbar": {
              "outlinewidth": 0,
              "ticks": ""
             }
            },
            "type": "scatter3d"
           }
          ],
          "scattercarpet": [
           {
            "marker": {
             "colorbar": {
              "outlinewidth": 0,
              "ticks": ""
             }
            },
            "type": "scattercarpet"
           }
          ],
          "scattergeo": [
           {
            "marker": {
             "colorbar": {
              "outlinewidth": 0,
              "ticks": ""
             }
            },
            "type": "scattergeo"
           }
          ],
          "scattergl": [
           {
            "marker": {
             "colorbar": {
              "outlinewidth": 0,
              "ticks": ""
             }
            },
            "type": "scattergl"
           }
          ],
          "scattermap": [
           {
            "marker": {
             "colorbar": {
              "outlinewidth": 0,
              "ticks": ""
             }
            },
            "type": "scattermap"
           }
          ],
          "scattermapbox": [
           {
            "marker": {
             "colorbar": {
              "outlinewidth": 0,
              "ticks": ""
             }
            },
            "type": "scattermapbox"
           }
          ],
          "scatterpolar": [
           {
            "marker": {
             "colorbar": {
              "outlinewidth": 0,
              "ticks": ""
             }
            },
            "type": "scatterpolar"
           }
          ],
          "scatterpolargl": [
           {
            "marker": {
             "colorbar": {
              "outlinewidth": 0,
              "ticks": ""
             }
            },
            "type": "scatterpolargl"
           }
          ],
          "scatterternary": [
           {
            "marker": {
             "colorbar": {
              "outlinewidth": 0,
              "ticks": ""
             }
            },
            "type": "scatterternary"
           }
          ],
          "surface": [
           {
            "colorbar": {
             "outlinewidth": 0,
             "ticks": ""
            },
            "colorscale": [
             [
              0,
              "#0d0887"
             ],
             [
              0.1111111111111111,
              "#46039f"
             ],
             [
              0.2222222222222222,
              "#7201a8"
             ],
             [
              0.3333333333333333,
              "#9c179e"
             ],
             [
              0.4444444444444444,
              "#bd3786"
             ],
             [
              0.5555555555555556,
              "#d8576b"
             ],
             [
              0.6666666666666666,
              "#ed7953"
             ],
             [
              0.7777777777777778,
              "#fb9f3a"
             ],
             [
              0.8888888888888888,
              "#fdca26"
             ],
             [
              1,
              "#f0f921"
             ]
            ],
            "type": "surface"
           }
          ],
          "table": [
           {
            "cells": {
             "fill": {
              "color": "#EBF0F8"
             },
             "line": {
              "color": "white"
             }
            },
            "header": {
             "fill": {
              "color": "#C8D4E3"
             },
             "line": {
              "color": "white"
             }
            },
            "type": "table"
           }
          ]
         },
         "layout": {
          "annotationdefaults": {
           "arrowcolor": "#2a3f5f",
           "arrowhead": 0,
           "arrowwidth": 1
          },
          "autotypenumbers": "strict",
          "coloraxis": {
           "colorbar": {
            "outlinewidth": 0,
            "ticks": ""
           }
          },
          "colorscale": {
           "diverging": [
            [
             0,
             "#8e0152"
            ],
            [
             0.1,
             "#c51b7d"
            ],
            [
             0.2,
             "#de77ae"
            ],
            [
             0.3,
             "#f1b6da"
            ],
            [
             0.4,
             "#fde0ef"
            ],
            [
             0.5,
             "#f7f7f7"
            ],
            [
             0.6,
             "#e6f5d0"
            ],
            [
             0.7,
             "#b8e186"
            ],
            [
             0.8,
             "#7fbc41"
            ],
            [
             0.9,
             "#4d9221"
            ],
            [
             1,
             "#276419"
            ]
           ],
           "sequential": [
            [
             0,
             "#0d0887"
            ],
            [
             0.1111111111111111,
             "#46039f"
            ],
            [
             0.2222222222222222,
             "#7201a8"
            ],
            [
             0.3333333333333333,
             "#9c179e"
            ],
            [
             0.4444444444444444,
             "#bd3786"
            ],
            [
             0.5555555555555556,
             "#d8576b"
            ],
            [
             0.6666666666666666,
             "#ed7953"
            ],
            [
             0.7777777777777778,
             "#fb9f3a"
            ],
            [
             0.8888888888888888,
             "#fdca26"
            ],
            [
             1,
             "#f0f921"
            ]
           ],
           "sequentialminus": [
            [
             0,
             "#0d0887"
            ],
            [
             0.1111111111111111,
             "#46039f"
            ],
            [
             0.2222222222222222,
             "#7201a8"
            ],
            [
             0.3333333333333333,
             "#9c179e"
            ],
            [
             0.4444444444444444,
             "#bd3786"
            ],
            [
             0.5555555555555556,
             "#d8576b"
            ],
            [
             0.6666666666666666,
             "#ed7953"
            ],
            [
             0.7777777777777778,
             "#fb9f3a"
            ],
            [
             0.8888888888888888,
             "#fdca26"
            ],
            [
             1,
             "#f0f921"
            ]
           ]
          },
          "colorway": [
           "#636efa",
           "#EF553B",
           "#00cc96",
           "#ab63fa",
           "#FFA15A",
           "#19d3f3",
           "#FF6692",
           "#B6E880",
           "#FF97FF",
           "#FECB52"
          ],
          "font": {
           "color": "#2a3f5f"
          },
          "geo": {
           "bgcolor": "white",
           "lakecolor": "white",
           "landcolor": "#E5ECF6",
           "showlakes": true,
           "showland": true,
           "subunitcolor": "white"
          },
          "hoverlabel": {
           "align": "left"
          },
          "hovermode": "closest",
          "mapbox": {
           "style": "light"
          },
          "paper_bgcolor": "white",
          "plot_bgcolor": "#E5ECF6",
          "polar": {
           "angularaxis": {
            "gridcolor": "white",
            "linecolor": "white",
            "ticks": ""
           },
           "bgcolor": "#E5ECF6",
           "radialaxis": {
            "gridcolor": "white",
            "linecolor": "white",
            "ticks": ""
           }
          },
          "scene": {
           "xaxis": {
            "backgroundcolor": "#E5ECF6",
            "gridcolor": "white",
            "gridwidth": 2,
            "linecolor": "white",
            "showbackground": true,
            "ticks": "",
            "zerolinecolor": "white"
           },
           "yaxis": {
            "backgroundcolor": "#E5ECF6",
            "gridcolor": "white",
            "gridwidth": 2,
            "linecolor": "white",
            "showbackground": true,
            "ticks": "",
            "zerolinecolor": "white"
           },
           "zaxis": {
            "backgroundcolor": "#E5ECF6",
            "gridcolor": "white",
            "gridwidth": 2,
            "linecolor": "white",
            "showbackground": true,
            "ticks": "",
            "zerolinecolor": "white"
           }
          },
          "shapedefaults": {
           "line": {
            "color": "#2a3f5f"
           }
          },
          "ternary": {
           "aaxis": {
            "gridcolor": "white",
            "linecolor": "white",
            "ticks": ""
           },
           "baxis": {
            "gridcolor": "white",
            "linecolor": "white",
            "ticks": ""
           },
           "bgcolor": "#E5ECF6",
           "caxis": {
            "gridcolor": "white",
            "linecolor": "white",
            "ticks": ""
           }
          },
          "title": {
           "x": 0.05
          },
          "xaxis": {
           "automargin": true,
           "gridcolor": "white",
           "linecolor": "white",
           "ticks": "",
           "title": {
            "standoff": 15
           },
           "zerolinecolor": "white",
           "zerolinewidth": 2
          },
          "yaxis": {
           "automargin": true,
           "gridcolor": "white",
           "linecolor": "white",
           "ticks": "",
           "title": {
            "standoff": 15
           },
           "zerolinecolor": "white",
           "zerolinewidth": 2
          }
         }
        },
        "title": {
         "text": "Cell lineage of lineage ID 0"
        },
        "xaxis": {
         "showgrid": false,
         "showticklabels": false,
         "zeroline": false
        },
        "yaxis": {
         "autorange": "reversed",
         "showgrid": true,
         "title": {
          "text": "Time (frames)"
         },
         "zeroline": true
        }
       }
      }
     },
     "metadata": {},
     "output_type": "display_data"
    }
   ],
   "source": [
    "lin0 = model.data.cell_data[0]\n",
    "lin0.plot(title=\"Cell lineage of lineage ID 0\")"
   ]
  },
  {
   "cell_type": "markdown",
   "metadata": {},
   "source": [
    "List of available Pycellin features for cell lineages:"
   ]
  },
  {
   "cell_type": "code",
   "execution_count": 5,
   "metadata": {},
   "outputs": [
    {
     "data": {
      "text/plain": [
       "{'absolute_age': 'Age of the cell since the beginning of the lineage',\n",
       " 'angle': 'Angle of the cell trajectory between two consecutive detections',\n",
       " 'cell_displacement': 'Displacement of the cell between two consecutive detections',\n",
       " 'cell_speed': 'Speed of the cell between two consecutive detections',\n",
       " 'rod_length': 'Length of the cell, for rod-shaped cells only',\n",
       " 'rod_width': 'Width of the cell, for rod-shaped cells only',\n",
       " 'relative_age': 'Age of the cell since the beginning of the current cell cycle'}"
      ]
     },
     "execution_count": 5,
     "metadata": {},
     "output_type": "execute_result"
    }
   ],
   "source": [
    "pc.get_pycellin_cell_lineage_features()"
   ]
  },
  {
   "cell_type": "markdown",
   "metadata": {},
   "source": [
    "Possibility of adding features one by one, either by calling the dedicated method:"
   ]
  },
  {
   "cell_type": "code",
   "execution_count": 6,
   "metadata": {},
   "outputs": [],
   "source": [
    "model.add_absolute_age()"
   ]
  },
  {
   "cell_type": "markdown",
   "metadata": {},
   "source": [
    "Or by using the more generic `add_pycellin_feature()` method:  \n",
    "(but attempting to add an already present feature into a model will throw a warning)"
   ]
  },
  {
   "cell_type": "code",
   "execution_count": 7,
   "metadata": {
    "tags": [
     "raises-exception"
    ]
   },
   "outputs": [
    {
     "name": "stderr",
     "output_type": "stream",
     "text": [
      "/media/lxenard/data/Code/pycellin/pycellin/pycellin/classes/model.py:936: UserWarning:\n",
      "\n",
      "A Property 'absolute_age' already exists with the same type. Not overwriting the old Property.\n",
      "\n"
     ]
    }
   ],
   "source": [
    "model.add_pycellin_property(\"absolute_age\")"
   ]
  },
  {
   "cell_type": "markdown",
   "metadata": {},
   "source": [
    "When you want to add a lot of features, it might be easier to add them all at once with the `add_pycellin_features()` shortcut method that accepts a list of Pycellin feature names:"
   ]
  },
  {
   "cell_type": "code",
   "execution_count": 8,
   "metadata": {},
   "outputs": [],
   "source": [
    "model.add_pycellin_properties([\"relative_age\", \"rod_length\"])"
   ]
  },
  {
   "cell_type": "markdown",
   "metadata": {},
   "source": [
    "At any time, you can check which cell lineage features are currently present in the model, regardless of their provenance (imported, pre-defined by Pycellin or custom built):"
   ]
  },
  {
   "cell_type": "code",
   "execution_count": 10,
   "metadata": {},
   "outputs": [
    {
     "data": {
      "text/plain": [
       "{'QUALITY': Property(identifier='QUALITY', name='Quality', description='Quality', provenance='TrackMate', prop_type='node', lin_type='CellLineage', dtype='float', unit=None),\n",
       " 'POSITION_T': Property(identifier='POSITION_T', name='T', description='T', provenance='TrackMate', prop_type='node', lin_type='CellLineage', dtype='float', unit='min'),\n",
       " 'RADIUS': Property(identifier='RADIUS', name='Radius', description='Radius', provenance='TrackMate', prop_type='node', lin_type='CellLineage', dtype='float', unit='µm'),\n",
       " 'VISIBILITY': Property(identifier='VISIBILITY', name='Visibility', description='Visibility', provenance='TrackMate', prop_type='node', lin_type='CellLineage', dtype='int', unit=None),\n",
       " 'MANUAL_SPOT_COLOR': Property(identifier='MANUAL_SPOT_COLOR', name='Manual spot color', description='Manual spot color', provenance='TrackMate', prop_type='node', lin_type='CellLineage', dtype='int', unit=None),\n",
       " 'MEAN_INTENSITY_CH1': Property(identifier='MEAN_INTENSITY_CH1', name='Mean intensity ch1', description='Mean intensity ch1', provenance='TrackMate', prop_type='node', lin_type='CellLineage', dtype='float', unit=None),\n",
       " 'MEDIAN_INTENSITY_CH1': Property(identifier='MEDIAN_INTENSITY_CH1', name='Median intensity ch1', description='Median intensity ch1', provenance='TrackMate', prop_type='node', lin_type='CellLineage', dtype='float', unit=None),\n",
       " 'MIN_INTENSITY_CH1': Property(identifier='MIN_INTENSITY_CH1', name='Min intensity ch1', description='Min intensity ch1', provenance='TrackMate', prop_type='node', lin_type='CellLineage', dtype='float', unit=None),\n",
       " 'MAX_INTENSITY_CH1': Property(identifier='MAX_INTENSITY_CH1', name='Max intensity ch1', description='Max intensity ch1', provenance='TrackMate', prop_type='node', lin_type='CellLineage', dtype='float', unit=None),\n",
       " 'TOTAL_INTENSITY_CH1': Property(identifier='TOTAL_INTENSITY_CH1', name='Sum intensity ch1', description='Sum intensity ch1', provenance='TrackMate', prop_type='node', lin_type='CellLineage', dtype='float', unit=None),\n",
       " 'STD_INTENSITY_CH1': Property(identifier='STD_INTENSITY_CH1', name='Std intensity ch1', description='Std intensity ch1', provenance='TrackMate', prop_type='node', lin_type='CellLineage', dtype='float', unit=None),\n",
       " 'MEAN_INTENSITY_CH2': Property(identifier='MEAN_INTENSITY_CH2', name='Mean intensity ch2', description='Mean intensity ch2', provenance='TrackMate', prop_type='node', lin_type='CellLineage', dtype='float', unit=None),\n",
       " 'MEDIAN_INTENSITY_CH2': Property(identifier='MEDIAN_INTENSITY_CH2', name='Median intensity ch2', description='Median intensity ch2', provenance='TrackMate', prop_type='node', lin_type='CellLineage', dtype='float', unit=None),\n",
       " 'MIN_INTENSITY_CH2': Property(identifier='MIN_INTENSITY_CH2', name='Min intensity ch2', description='Min intensity ch2', provenance='TrackMate', prop_type='node', lin_type='CellLineage', dtype='float', unit=None),\n",
       " 'MAX_INTENSITY_CH2': Property(identifier='MAX_INTENSITY_CH2', name='Max intensity ch2', description='Max intensity ch2', provenance='TrackMate', prop_type='node', lin_type='CellLineage', dtype='float', unit=None),\n",
       " 'TOTAL_INTENSITY_CH2': Property(identifier='TOTAL_INTENSITY_CH2', name='Sum intensity ch2', description='Sum intensity ch2', provenance='TrackMate', prop_type='node', lin_type='CellLineage', dtype='float', unit=None),\n",
       " 'STD_INTENSITY_CH2': Property(identifier='STD_INTENSITY_CH2', name='Std intensity ch2', description='Std intensity ch2', provenance='TrackMate', prop_type='node', lin_type='CellLineage', dtype='float', unit=None),\n",
       " 'CONTRAST_CH1': Property(identifier='CONTRAST_CH1', name='Contrast ch1', description='Contrast ch1', provenance='TrackMate', prop_type='node', lin_type='CellLineage', dtype='float', unit=None),\n",
       " 'SNR_CH1': Property(identifier='SNR_CH1', name='Signal/Noise ratio ch1', description='Signal/Noise ratio ch1', provenance='TrackMate', prop_type='node', lin_type='CellLineage', dtype='float', unit=None),\n",
       " 'CONTRAST_CH2': Property(identifier='CONTRAST_CH2', name='Contrast ch2', description='Contrast ch2', provenance='TrackMate', prop_type='node', lin_type='CellLineage', dtype='float', unit=None),\n",
       " 'SNR_CH2': Property(identifier='SNR_CH2', name='Signal/Noise ratio ch2', description='Signal/Noise ratio ch2', provenance='TrackMate', prop_type='node', lin_type='CellLineage', dtype='float', unit=None),\n",
       " 'ELLIPSE_X0': Property(identifier='ELLIPSE_X0', name='Ellipse center x0', description='Ellipse center x0', provenance='TrackMate', prop_type='node', lin_type='CellLineage', dtype='float', unit='µm'),\n",
       " 'ELLIPSE_Y0': Property(identifier='ELLIPSE_Y0', name='Ellipse center y0', description='Ellipse center y0', provenance='TrackMate', prop_type='node', lin_type='CellLineage', dtype='float', unit='µm'),\n",
       " 'ELLIPSE_MAJOR': Property(identifier='ELLIPSE_MAJOR', name='Ellipse long axis', description='Ellipse long axis', provenance='TrackMate', prop_type='node', lin_type='CellLineage', dtype='float', unit='µm'),\n",
       " 'ELLIPSE_MINOR': Property(identifier='ELLIPSE_MINOR', name='Ellipse short axis', description='Ellipse short axis', provenance='TrackMate', prop_type='node', lin_type='CellLineage', dtype='float', unit='µm'),\n",
       " 'ELLIPSE_THETA': Property(identifier='ELLIPSE_THETA', name='Ellipse angle', description='Ellipse angle', provenance='TrackMate', prop_type='node', lin_type='CellLineage', dtype='float', unit='rad'),\n",
       " 'ELLIPSE_ASPECTRATIO': Property(identifier='ELLIPSE_ASPECTRATIO', name='Ellipse aspect ratio', description='Ellipse aspect ratio', provenance='TrackMate', prop_type='node', lin_type='CellLineage', dtype='float', unit=None),\n",
       " 'AREA': Property(identifier='AREA', name='Area', description='Area', provenance='TrackMate', prop_type='node', lin_type='CellLineage', dtype='float', unit='µm^2'),\n",
       " 'PERIMETER': Property(identifier='PERIMETER', name='Perimeter', description='Perimeter', provenance='TrackMate', prop_type='node', lin_type='CellLineage', dtype='float', unit='µm'),\n",
       " 'CIRCULARITY': Property(identifier='CIRCULARITY', name='Circularity', description='Circularity', provenance='TrackMate', prop_type='node', lin_type='CellLineage', dtype='float', unit=None),\n",
       " 'SOLIDITY': Property(identifier='SOLIDITY', name='Solidity', description='Solidity', provenance='TrackMate', prop_type='node', lin_type='CellLineage', dtype='float', unit=None),\n",
       " 'SHAPE_INDEX': Property(identifier='SHAPE_INDEX', name='Shape index', description='Shape index', provenance='TrackMate', prop_type='node', lin_type='CellLineage', dtype='float', unit=None),\n",
       " 'cell_name': Property(identifier='cell_name', name='cell name', description='Name of the spot', provenance='TrackMate', prop_type='node', lin_type='CellLineage', dtype='string', unit=None),\n",
       " 'SPOT_SOURCE_ID': Property(identifier='SPOT_SOURCE_ID', name='Source spot ID', description='Source spot ID', provenance='TrackMate', prop_type='edge', lin_type='CellLineage', dtype='int', unit=None),\n",
       " 'SPOT_TARGET_ID': Property(identifier='SPOT_TARGET_ID', name='Target spot ID', description='Target spot ID', provenance='TrackMate', prop_type='edge', lin_type='CellLineage', dtype='int', unit=None),\n",
       " 'LINK_COST': Property(identifier='LINK_COST', name='Edge cost', description='Edge cost', provenance='TrackMate', prop_type='edge', lin_type='CellLineage', dtype='float', unit=None),\n",
       " 'DIRECTIONAL_CHANGE_RATE': Property(identifier='DIRECTIONAL_CHANGE_RATE', name='Directional change rate', description='Directional change rate', provenance='TrackMate', prop_type='edge', lin_type='CellLineage', dtype='float', unit='rad/min'),\n",
       " 'SPEED': Property(identifier='SPEED', name='Speed', description='Speed', provenance='TrackMate', prop_type='edge', lin_type='CellLineage', dtype='float', unit='µm/min'),\n",
       " 'DISPLACEMENT': Property(identifier='DISPLACEMENT', name='Displacement', description='Displacement', provenance='TrackMate', prop_type='edge', lin_type='CellLineage', dtype='float', unit='µm'),\n",
       " 'EDGE_TIME': Property(identifier='EDGE_TIME', name='Edge time', description='Edge time', provenance='TrackMate', prop_type='edge', lin_type='CellLineage', dtype='float', unit='min'),\n",
       " 'MANUAL_EDGE_COLOR': Property(identifier='MANUAL_EDGE_COLOR', name='Manual edge color', description='Manual edge color', provenance='TrackMate', prop_type='edge', lin_type='CellLineage', dtype='int', unit=None),\n",
       " 'TRACK_INDEX': Property(identifier='TRACK_INDEX', name='Track index', description='Track index', provenance='TrackMate', prop_type='lineage', lin_type='CellLineage', dtype='int', unit=None),\n",
       " 'DIVISION_TIME_MEAN': Property(identifier='DIVISION_TIME_MEAN', name='Mean cell division time', description='Mean cell division time', provenance='TrackMate', prop_type='lineage', lin_type='CellLineage', dtype='float', unit='min'),\n",
       " 'DIVISION_TIME_STD': Property(identifier='DIVISION_TIME_STD', name='Std cell division time', description='Std cell division time', provenance='TrackMate', prop_type='lineage', lin_type='CellLineage', dtype='float', unit='min'),\n",
       " 'NUMBER_SPOTS': Property(identifier='NUMBER_SPOTS', name='Number of spots in track', description='Number of spots in track', provenance='TrackMate', prop_type='lineage', lin_type='CellLineage', dtype='int', unit=None),\n",
       " 'NUMBER_GAPS': Property(identifier='NUMBER_GAPS', name='Number of gaps', description='Number of gaps', provenance='TrackMate', prop_type='lineage', lin_type='CellLineage', dtype='int', unit=None),\n",
       " 'NUMBER_SPLITS': Property(identifier='NUMBER_SPLITS', name='Number of split events', description='Number of split events', provenance='TrackMate', prop_type='lineage', lin_type='CellLineage', dtype='int', unit=None),\n",
       " 'NUMBER_MERGES': Property(identifier='NUMBER_MERGES', name='Number of merge events', description='Number of merge events', provenance='TrackMate', prop_type='lineage', lin_type='CellLineage', dtype='int', unit=None),\n",
       " 'NUMBER_COMPLEX': Property(identifier='NUMBER_COMPLEX', name='Number of complex points', description='Number of complex points', provenance='TrackMate', prop_type='lineage', lin_type='CellLineage', dtype='int', unit=None),\n",
       " 'LONGEST_GAP': Property(identifier='LONGEST_GAP', name='Longest gap', description='Longest gap', provenance='TrackMate', prop_type='lineage', lin_type='CellLineage', dtype='int', unit=None),\n",
       " 'TRACK_DURATION': Property(identifier='TRACK_DURATION', name='Track duration', description='Track duration', provenance='TrackMate', prop_type='lineage', lin_type='CellLineage', dtype='float', unit='min'),\n",
       " 'TRACK_START': Property(identifier='TRACK_START', name='Track start', description='Track start', provenance='TrackMate', prop_type='lineage', lin_type='CellLineage', dtype='float', unit='min'),\n",
       " 'TRACK_STOP': Property(identifier='TRACK_STOP', name='Track stop', description='Track stop', provenance='TrackMate', prop_type='lineage', lin_type='CellLineage', dtype='float', unit='min'),\n",
       " 'TRACK_DISPLACEMENT': Property(identifier='TRACK_DISPLACEMENT', name='Track displacement', description='Track displacement', provenance='TrackMate', prop_type='lineage', lin_type='CellLineage', dtype='float', unit='µm'),\n",
       " 'TRACK_MEAN_SPEED': Property(identifier='TRACK_MEAN_SPEED', name='Track mean speed', description='Track mean speed', provenance='TrackMate', prop_type='lineage', lin_type='CellLineage', dtype='float', unit='µm/min'),\n",
       " 'TRACK_MAX_SPEED': Property(identifier='TRACK_MAX_SPEED', name='Track max speed', description='Track max speed', provenance='TrackMate', prop_type='lineage', lin_type='CellLineage', dtype='float', unit='µm/min'),\n",
       " 'TRACK_MIN_SPEED': Property(identifier='TRACK_MIN_SPEED', name='Track min speed', description='Track min speed', provenance='TrackMate', prop_type='lineage', lin_type='CellLineage', dtype='float', unit='µm/min'),\n",
       " 'TRACK_MEDIAN_SPEED': Property(identifier='TRACK_MEDIAN_SPEED', name='Track median speed', description='Track median speed', provenance='TrackMate', prop_type='lineage', lin_type='CellLineage', dtype='float', unit='µm/min'),\n",
       " 'TRACK_STD_SPEED': Property(identifier='TRACK_STD_SPEED', name='Track std speed', description='Track std speed', provenance='TrackMate', prop_type='lineage', lin_type='CellLineage', dtype='float', unit='µm/min'),\n",
       " 'TRACK_MEAN_QUALITY': Property(identifier='TRACK_MEAN_QUALITY', name='Track mean quality', description='Track mean quality', provenance='TrackMate', prop_type='lineage', lin_type='CellLineage', dtype='float', unit=None),\n",
       " 'TOTAL_DISTANCE_TRAVELED': Property(identifier='TOTAL_DISTANCE_TRAVELED', name='Total distance traveled', description='Total distance traveled', provenance='TrackMate', prop_type='lineage', lin_type='CellLineage', dtype='float', unit='µm'),\n",
       " 'MAX_DISTANCE_TRAVELED': Property(identifier='MAX_DISTANCE_TRAVELED', name='Max distance traveled', description='Max distance traveled', provenance='TrackMate', prop_type='lineage', lin_type='CellLineage', dtype='float', unit='µm'),\n",
       " 'CONFINEMENT_RATIO': Property(identifier='CONFINEMENT_RATIO', name='Confinement ratio', description='Confinement ratio', provenance='TrackMate', prop_type='lineage', lin_type='CellLineage', dtype='float', unit=None),\n",
       " 'MEAN_STRAIGHT_LINE_SPEED': Property(identifier='MEAN_STRAIGHT_LINE_SPEED', name='Mean straight line speed', description='Mean straight line speed', provenance='TrackMate', prop_type='lineage', lin_type='CellLineage', dtype='float', unit='µm/min'),\n",
       " 'LINEARITY_OF_FORWARD_PROGRESSION': Property(identifier='LINEARITY_OF_FORWARD_PROGRESSION', name='Linearity of forward progression', description='Linearity of forward progression', provenance='TrackMate', prop_type='lineage', lin_type='CellLineage', dtype='float', unit=None),\n",
       " 'MEAN_DIRECTIONAL_CHANGE_RATE': Property(identifier='MEAN_DIRECTIONAL_CHANGE_RATE', name='Mean directional change rate', description='Mean directional change rate', provenance='TrackMate', prop_type='lineage', lin_type='CellLineage', dtype='float', unit='rad/min'),\n",
       " 'lineage_name': Property(identifier='lineage_name', name='lineage name', description='Name of the track', provenance='TrackMate', prop_type='lineage', lin_type='CellLineage', dtype='string', unit=None),\n",
       " 'cell_ID': Property(identifier='cell_ID', name='cell ID', description='Unique identifier of the cell', provenance='TrackMate', prop_type='node', lin_type='CellLineage', dtype='int', unit=None),\n",
       " 'cell_x': Property(identifier='cell_x', name='X', description='X coordinate of the cell', provenance='TrackMate', prop_type='node', lin_type='CellLineage', dtype='float', unit='µm'),\n",
       " 'cell_y': Property(identifier='cell_y', name='Y', description='Y coordinate of the cell', provenance='TrackMate', prop_type='node', lin_type='CellLineage', dtype='float', unit='µm'),\n",
       " 'cell_z': Property(identifier='cell_z', name='Z', description='Z coordinate of the cell', provenance='TrackMate', prop_type='node', lin_type='CellLineage', dtype='float', unit='µm'),\n",
       " 'frame': Property(identifier='frame', name='Frame', description='Frame', provenance='TrackMate', prop_type='node', lin_type='CellLineage', dtype='int', unit=None),\n",
       " 'ROI_coords': Property(identifier='ROI_coords', name='ROI coords', description='List of coordinates of the region of interest', provenance='TrackMate', prop_type='node', lin_type='CellLineage', dtype='float', unit='µm'),\n",
       " 'link_x': Property(identifier='link_x', name='Edge X', description='X coordinate of the link, i.e. mean coordinate of its two cells', provenance='TrackMate', prop_type='edge', lin_type='CellLineage', dtype='float', unit='µm'),\n",
       " 'link_y': Property(identifier='link_y', name='Edge Y', description='Y coordinate of the link, i.e. mean coordinate of its two cells', provenance='TrackMate', prop_type='edge', lin_type='CellLineage', dtype='float', unit='µm'),\n",
       " 'link_z': Property(identifier='link_z', name='Edge Z', description='Z coordinate of the link, i.e. mean coordinate of its two cells', provenance='TrackMate', prop_type='edge', lin_type='CellLineage', dtype='float', unit='µm'),\n",
       " 'lineage_ID': Property(identifier='lineage_ID', name='Track ID', description='Unique identifier of the lineage', provenance='TrackMate', prop_type='lineage', lin_type='CellLineage', dtype='int', unit=None),\n",
       " 'FilteredTrack': Property(identifier='FilteredTrack', name='FilteredTrack', description='True if the track was not filtered out in TrackMate', provenance='TrackMate', prop_type='lineage', lin_type='CellLineage', dtype='int', unit=None),\n",
       " 'lineage_x': Property(identifier='lineage_x', name='Track mean X', description='X coordinate of the lineage, i.e. mean coordinate of its cells', provenance='TrackMate', prop_type='lineage', lin_type='CellLineage', dtype='float', unit='µm'),\n",
       " 'lineage_y': Property(identifier='lineage_y', name='Track mean Y', description='Y coordinate of the lineage, i.e. mean coordinate of its cells', provenance='TrackMate', prop_type='lineage', lin_type='CellLineage', dtype='float', unit='µm'),\n",
       " 'lineage_z': Property(identifier='lineage_z', name='Track mean Z', description='Z coordinate of the lineage, i.e. mean coordinate of its cells', provenance='TrackMate', prop_type='lineage', lin_type='CellLineage', dtype='float', unit='µm'),\n",
       " 'absolute_age': Property(identifier='absolute_age', name='Absolute age', description='Age of the cell since the beginning of the lineage', provenance='pycellin', prop_type='node', lin_type='CellLineage', dtype='int', unit='frame'),\n",
       " 'relative_age': Property(identifier='relative_age', name='Relative age', description='Age of the cell since the beginning of the current cell cycle', provenance='pycellin', prop_type='node', lin_type='CellLineage', dtype='int', unit='frame'),\n",
       " 'rod_length': Property(identifier='rod_length', name='Rod length', description='Length of the cell, for rod-shaped cells only', provenance='pycellin', prop_type='node', lin_type='CellLineage', dtype='float', unit='µm')}"
      ]
     },
     "execution_count": 10,
     "metadata": {},
     "output_type": "execute_result"
    }
   ],
   "source": [
    "model.get_cell_lineage_properties()"
   ]
  },
  {
   "cell_type": "markdown",
   "metadata": {},
   "source": [
    "Most of Pycellin features, if not all, are expressed in time and/or space units. These units are defined at the model level, usually during the model creation. So the exact units of a specific Pycellin feature will only be known once the feature has been added to the model.  \n",
    "\n",
    "Information on a feature, units included, is accessible through the FeatureDeclaration of the model, regardless of the feature provenance:"
   ]
  },
  {
   "cell_type": "code",
   "execution_count": 11,
   "metadata": {},
   "outputs": [
    {
     "name": "stdout",
     "output_type": "stream",
     "text": [
      "Property 'absolute_age'\n",
      "  Name: Absolute age\n",
      "  Description: Age of the cell since the beginning of the lineage\n",
      "  Provenance: pycellin\n",
      "  Type: node\n",
      "  Lineage type: CellLineage\n",
      "  Data type: int\n",
      "  Unit: frame\n",
      "Property 'SPEED'\n",
      "  Name: Speed\n",
      "  Description: Speed\n",
      "  Provenance: TrackMate\n",
      "  Type: edge\n",
      "  Lineage type: CellLineage\n",
      "  Data type: float\n",
      "  Unit: µm/min\n"
     ]
    }
   ],
   "source": [
    "print(model.props_metadata.props[\"absolute_age\"])  # Pycellin feature.\n",
    "print(model.props_metadata.props[\"SPEED\"])  # Imported feature."
   ]
  },
  {
   "cell_type": "markdown",
   "metadata": {},
   "source": [
    "### For cell cycle lineages"
   ]
  },
  {
   "cell_type": "markdown",
   "metadata": {},
   "source": [
    "Cell cycle features (or cycle features for short) behave like cell features. However, you first need to compute the cycle lineages, otherwise you will get the following error:"
   ]
  },
  {
   "cell_type": "code",
   "execution_count": 12,
   "metadata": {
    "tags": [
     "raises-exception"
    ]
   },
   "outputs": [
    {
     "ename": "ValueError",
     "evalue": "Cycle lineages have not been computed yet. Please compute the cycle lineages first with `model.add_cycle_data()`.",
     "output_type": "error",
     "traceback": [
      "\u001b[31m---------------------------------------------------------------------------\u001b[39m",
      "\u001b[31mValueError\u001b[39m                                Traceback (most recent call last)",
      "\u001b[36mCell\u001b[39m\u001b[36m \u001b[39m\u001b[32mIn[12]\u001b[39m\u001b[32m, line 1\u001b[39m\n\u001b[32m----> \u001b[39m\u001b[32m1\u001b[39m \u001b[43mmodel\u001b[49m\u001b[43m.\u001b[49m\u001b[43madd_division_time\u001b[49m\u001b[43m(\u001b[49m\u001b[43m)\u001b[49m\n",
      "\u001b[36mFile \u001b[39m\u001b[32m/media/lxenard/data/Code/pycellin/pycellin/pycellin/classes/model.py:1310\u001b[39m, in \u001b[36mModel.add_division_time\u001b[39m\u001b[34m(self, in_time_unit, custom_identifier)\u001b[39m\n\u001b[32m   1299\u001b[39m prop = Property(\n\u001b[32m   1300\u001b[39m     identifier=custom_identifier \u001b[38;5;28;01mif\u001b[39;00m custom_identifier \u001b[38;5;28;01melse\u001b[39;00m \u001b[33m\"\u001b[39m\u001b[33mdivision_time\u001b[39m\u001b[33m\"\u001b[39m,\n\u001b[32m   1301\u001b[39m     name=\u001b[33m\"\u001b[39m\u001b[33mDivision time\u001b[39m\u001b[33m\"\u001b[39m,\n\u001b[32m   (...)\u001b[39m\u001b[32m   1307\u001b[39m     unit=\u001b[38;5;28mself\u001b[39m.model_metadata[\u001b[33m\"\u001b[39m\u001b[33mtime_step\u001b[39m\u001b[33m\"\u001b[39m] \u001b[38;5;28;01mif\u001b[39;00m in_time_unit \u001b[38;5;28;01melse\u001b[39;00m \u001b[33m\"\u001b[39m\u001b[33mframe\u001b[39m\u001b[33m\"\u001b[39m,\n\u001b[32m   1308\u001b[39m )\n\u001b[32m   1309\u001b[39m time_step = \u001b[38;5;28mself\u001b[39m.model_metadata[\u001b[33m\"\u001b[39m\u001b[33mtime_step\u001b[39m\u001b[33m\"\u001b[39m] \u001b[38;5;28;01mif\u001b[39;00m in_time_unit \u001b[38;5;28;01melse\u001b[39;00m \u001b[32m1\u001b[39m\n\u001b[32m-> \u001b[39m\u001b[32m1310\u001b[39m \u001b[38;5;28;43mself\u001b[39;49m\u001b[43m.\u001b[49m\u001b[43madd_custom_property\u001b[49m\u001b[43m(\u001b[49m\u001b[43mtracking\u001b[49m\u001b[43m.\u001b[49m\u001b[43mDivisionTime\u001b[49m\u001b[43m(\u001b[49m\u001b[43mprop\u001b[49m\u001b[43m,\u001b[49m\u001b[43m \u001b[49m\u001b[43mtime_step\u001b[49m\u001b[43m)\u001b[49m\u001b[43m)\u001b[49m\n",
      "\u001b[36mFile \u001b[39m\u001b[32m/media/lxenard/data/Code/pycellin/pycellin/pycellin/classes/model.py:932\u001b[39m, in \u001b[36mModel.add_custom_property\u001b[39m\u001b[34m(self, calculator)\u001b[39m\n\u001b[32m    912\u001b[39m \u001b[38;5;250m\u001b[39m\u001b[33;03m\"\"\"\u001b[39;00m\n\u001b[32m    913\u001b[39m \u001b[33;03mAdd a custom property to the model.\u001b[39;00m\n\u001b[32m    914\u001b[39m \n\u001b[32m   (...)\u001b[39m\u001b[32m    929\u001b[39m \u001b[33;03m    have not been computed yet.\u001b[39;00m\n\u001b[32m    930\u001b[39m \u001b[33;03m\"\"\"\u001b[39;00m\n\u001b[32m    931\u001b[39m \u001b[38;5;28;01mif\u001b[39;00m calculator.feature.lin_type == \u001b[33m\"\u001b[39m\u001b[33mCycleLineage\u001b[39m\u001b[33m\"\u001b[39m \u001b[38;5;129;01mand\u001b[39;00m \u001b[38;5;129;01mnot\u001b[39;00m \u001b[38;5;28mself\u001b[39m.data.cycle_data:\n\u001b[32m--> \u001b[39m\u001b[32m932\u001b[39m     \u001b[38;5;28;01mraise\u001b[39;00m \u001b[38;5;167;01mValueError\u001b[39;00m(\n\u001b[32m    933\u001b[39m         \u001b[33m\"\u001b[39m\u001b[33mCycle lineages have not been computed yet. \u001b[39m\u001b[33m\"\u001b[39m\n\u001b[32m    934\u001b[39m         \u001b[33m\"\u001b[39m\u001b[33mPlease compute the cycle lineages first with `model.add_cycle_data()`.\u001b[39m\u001b[33m\"\u001b[39m\n\u001b[32m    935\u001b[39m     )\n\u001b[32m    936\u001b[39m \u001b[38;5;28mself\u001b[39m.props_metadata._add_prop(calculator.feature)\n\u001b[32m    937\u001b[39m \u001b[38;5;28mself\u001b[39m._updater.register_calculator(calculator)\n",
      "\u001b[31mValueError\u001b[39m: Cycle lineages have not been computed yet. Please compute the cycle lineages first with `model.add_cycle_data()`."
     ]
    }
   ],
   "source": [
    "model.add_division_time()"
   ]
  },
  {
   "cell_type": "markdown",
   "metadata": {},
   "source": [
    "To compute and add the cycle lineages to the model, just call the `add_cycle_data()` method on the model:"
   ]
  },
  {
   "cell_type": "code",
   "execution_count": 13,
   "metadata": {},
   "outputs": [],
   "source": [
    "model.add_cycle_data()"
   ]
  },
  {
   "cell_type": "markdown",
   "metadata": {},
   "source": [
    "A few mandatory cycle lineage features are automatically computed:\n",
    "- cycle_ID: node ID of the cell cycle, i.e. node ID of the last cell in the cell cycle;\n",
    "- cells: node IDs of the cells in the cell cycle, in chronological order;\n",
    "- cycle_length: number of cells in the cell cycle;\n",
    "- level: level of the cell cycle in the lineage, i.e. number of cell cycles upstream of the current one."
   ]
  },
  {
   "cell_type": "code",
   "execution_count": 15,
   "metadata": {},
   "outputs": [
    {
     "data": {
      "application/vnd.plotly.v1+json": {
       "config": {
        "plotlyServerURL": "https://plot.ly"
       },
       "data": [
        {
         "mode": "lines",
         "name": "Edges",
         "text": [],
         "type": "scatter",
         "x": [
          0.6875,
          0.1875,
          null,
          0.6875,
          1.1875,
          null,
          -2.8125,
          -3.3125,
          null,
          -2.8125,
          -2.3125,
          null,
          -0.8125,
          -1.3125,
          null,
          -0.8125,
          -0.3125,
          null,
          2.1875,
          1.6875,
          null,
          2.1875,
          2.6875,
          null,
          -4.8125,
          -4.3125,
          null,
          -4.8125,
          -5.3125,
          null,
          4.1875,
          3.6875,
          null,
          4.1875,
          4.6875,
          null,
          -6.8125,
          -6.3125,
          null,
          -6.8125,
          -7.3125,
          null,
          0,
          3.3125,
          null,
          0,
          -3.3125,
          null,
          -3.3125,
          -1.3125,
          null,
          -3.3125,
          -5.3125,
          null,
          3.3125,
          1.9375,
          null,
          3.3125,
          4.6875,
          null,
          -5.3125,
          -6.3125,
          null,
          -5.3125,
          -4.3125,
          null,
          1.9375,
          3.1875,
          null,
          1.9375,
          0.6875,
          null,
          -1.3125,
          -0.8125,
          null,
          -1.3125,
          -1.8125,
          null,
          4.6875,
          4.1875,
          null,
          4.6875,
          5.1875,
          null,
          3.1875,
          4.1875,
          null,
          3.1875,
          2.1875,
          null,
          -6.3125,
          -5.8125,
          null,
          -6.3125,
          -6.8125,
          null,
          -4.3125,
          -4.8125,
          null,
          -4.3125,
          -3.8125,
          null,
          -1.8125,
          -0.8125,
          null,
          -1.8125,
          -2.8125,
          null
         ],
         "y": [
          3,
          4,
          null,
          3,
          4,
          null,
          4,
          5,
          null,
          4,
          5,
          null,
          4,
          5,
          null,
          4,
          5,
          null,
          4,
          5,
          null,
          4,
          5,
          null,
          4,
          5,
          null,
          4,
          5,
          null,
          4,
          5,
          null,
          4,
          5,
          null,
          4,
          5,
          null,
          4,
          5,
          null,
          0,
          1,
          null,
          0,
          1,
          null,
          1,
          2,
          null,
          1,
          2,
          null,
          1,
          2,
          null,
          1,
          2,
          null,
          2,
          3,
          null,
          2,
          3,
          null,
          2,
          3,
          null,
          2,
          3,
          null,
          2,
          3,
          null,
          2,
          3,
          null,
          2,
          3,
          null,
          2,
          3,
          null,
          3,
          4,
          null,
          3,
          4,
          null,
          3,
          4,
          null,
          3,
          4,
          null,
          3,
          4,
          null,
          3,
          4,
          null,
          3,
          4,
          null,
          3,
          4,
          null
         ]
        },
        {
         "hoverinfo": "text",
         "hovertemplate": "%{text}",
         "mode": "markers",
         "name": "lineage_ID: 0",
         "text": [
          "cycle_ID: 9230<br>level: 3<br>cycle_length: 7<br>",
          "cycle_ID: 9356<br>level: 4<br>cycle_length: 3<br>",
          "cycle_ID: 9438<br>level: 4<br>cycle_length: 4<br>",
          "cycle_ID: 9464<br>level: 4<br>cycle_length: 6<br>",
          "cycle_ID: 9483<br>level: 4<br>cycle_length: 4<br>",
          "cycle_ID: 9492<br>level: 4<br>cycle_length: 6<br>",
          "cycle_ID: 9498<br>level: 4<br>cycle_length: 4<br>",
          "cycle_ID: 8993<br>level: 0<br>cycle_length: 1<br>",
          "cycle_ID: 9019<br>level: 1<br>cycle_length: 6<br>",
          "cycle_ID: 9020<br>level: 1<br>cycle_length: 6<br>",
          "cycle_ID: 9051<br>level: 2<br>cycle_length: 5<br>",
          "cycle_ID: 9052<br>level: 2<br>cycle_length: 5<br>",
          "cycle_ID: 9106<br>level: 2<br>cycle_length: 6<br>",
          "cycle_ID: 9108<br>level: 2<br>cycle_length: 6<br>",
          "cycle_ID: 9156<br>level: 3<br>cycle_length: 4<br>",
          "cycle_ID: 9194<br>level: 3<br>cycle_length: 6<br>",
          "cycle_ID: 9195<br>level: 3<br>cycle_length: 6<br>",
          "cycle_ID: 9206<br>level: 3<br>cycle_length: 5<br>",
          "cycle_ID: 9375<br>level: 5<br>cycle_length: 1<br>",
          "cycle_ID: 9382<br>level: 3<br>cycle_length: 10<br>",
          "cycle_ID: 9384<br>level: 3<br>cycle_length: 10<br>",
          "cycle_ID: 9389<br>level: 5<br>cycle_length: 1<br>",
          "cycle_ID: 9390<br>level: 4<br>cycle_length: 4<br>",
          "cycle_ID: 9395<br>level: 3<br>cycle_length: 10<br>",
          "cycle_ID: 9398<br>level: 5<br>cycle_length: 1<br>",
          "cycle_ID: 9402<br>level: 5<br>cycle_length: 1<br>",
          "cycle_ID: 9416<br>level: 5<br>cycle_length: 1<br>",
          "cycle_ID: 9440<br>level: 5<br>cycle_length: 2<br>",
          "cycle_ID: 9444<br>level: 5<br>cycle_length: 2<br>",
          "cycle_ID: 9446<br>level: 4<br>cycle_length: 4<br>",
          "cycle_ID: 9448<br>level: 5<br>cycle_length: 1<br>",
          "cycle_ID: 9449<br>level: 5<br>cycle_length: 1<br>",
          "cycle_ID: 9463<br>level: 4<br>cycle_length: 5<br>",
          "cycle_ID: 9465<br>level: 5<br>cycle_length: 1<br>",
          "cycle_ID: 9470<br>level: 4<br>cycle_length: 5<br>",
          "cycle_ID: 9476<br>level: 5<br>cycle_length: 1<br>",
          "cycle_ID: 9480<br>level: 5<br>cycle_length: 1<br>"
         ],
         "type": "scatter",
         "x": [
          0.6875,
          -2.8125,
          -0.8125,
          2.1875,
          -4.8125,
          4.1875,
          -6.8125,
          0,
          -3.3125,
          3.3125,
          -5.3125,
          1.9375,
          -1.3125,
          4.6875,
          3.1875,
          -6.3125,
          -4.3125,
          -1.8125,
          1.6875,
          -0.8125,
          4.1875,
          -1.3125,
          0.1875,
          5.1875,
          2.6875,
          -5.3125,
          -7.3125,
          -3.3125,
          -2.3125,
          1.1875,
          -6.3125,
          -0.3125,
          -5.8125,
          -4.3125,
          -3.8125,
          3.6875,
          4.6875
         ],
         "y": [
          3,
          4,
          4,
          4,
          4,
          4,
          4,
          0,
          1,
          1,
          2,
          2,
          2,
          2,
          3,
          3,
          3,
          3,
          5,
          3,
          3,
          5,
          4,
          3,
          5,
          5,
          5,
          5,
          5,
          4,
          5,
          5,
          4,
          5,
          4,
          5,
          5
         ]
        }
       ],
       "layout": {
        "hovermode": "closest",
        "showlegend": true,
        "template": {
         "data": {
          "bar": [
           {
            "error_x": {
             "color": "#2a3f5f"
            },
            "error_y": {
             "color": "#2a3f5f"
            },
            "marker": {
             "line": {
              "color": "#E5ECF6",
              "width": 0.5
             },
             "pattern": {
              "fillmode": "overlay",
              "size": 10,
              "solidity": 0.2
             }
            },
            "type": "bar"
           }
          ],
          "barpolar": [
           {
            "marker": {
             "line": {
              "color": "#E5ECF6",
              "width": 0.5
             },
             "pattern": {
              "fillmode": "overlay",
              "size": 10,
              "solidity": 0.2
             }
            },
            "type": "barpolar"
           }
          ],
          "carpet": [
           {
            "aaxis": {
             "endlinecolor": "#2a3f5f",
             "gridcolor": "white",
             "linecolor": "white",
             "minorgridcolor": "white",
             "startlinecolor": "#2a3f5f"
            },
            "baxis": {
             "endlinecolor": "#2a3f5f",
             "gridcolor": "white",
             "linecolor": "white",
             "minorgridcolor": "white",
             "startlinecolor": "#2a3f5f"
            },
            "type": "carpet"
           }
          ],
          "choropleth": [
           {
            "colorbar": {
             "outlinewidth": 0,
             "ticks": ""
            },
            "type": "choropleth"
           }
          ],
          "contour": [
           {
            "colorbar": {
             "outlinewidth": 0,
             "ticks": ""
            },
            "colorscale": [
             [
              0,
              "#0d0887"
             ],
             [
              0.1111111111111111,
              "#46039f"
             ],
             [
              0.2222222222222222,
              "#7201a8"
             ],
             [
              0.3333333333333333,
              "#9c179e"
             ],
             [
              0.4444444444444444,
              "#bd3786"
             ],
             [
              0.5555555555555556,
              "#d8576b"
             ],
             [
              0.6666666666666666,
              "#ed7953"
             ],
             [
              0.7777777777777778,
              "#fb9f3a"
             ],
             [
              0.8888888888888888,
              "#fdca26"
             ],
             [
              1,
              "#f0f921"
             ]
            ],
            "type": "contour"
           }
          ],
          "contourcarpet": [
           {
            "colorbar": {
             "outlinewidth": 0,
             "ticks": ""
            },
            "type": "contourcarpet"
           }
          ],
          "heatmap": [
           {
            "colorbar": {
             "outlinewidth": 0,
             "ticks": ""
            },
            "colorscale": [
             [
              0,
              "#0d0887"
             ],
             [
              0.1111111111111111,
              "#46039f"
             ],
             [
              0.2222222222222222,
              "#7201a8"
             ],
             [
              0.3333333333333333,
              "#9c179e"
             ],
             [
              0.4444444444444444,
              "#bd3786"
             ],
             [
              0.5555555555555556,
              "#d8576b"
             ],
             [
              0.6666666666666666,
              "#ed7953"
             ],
             [
              0.7777777777777778,
              "#fb9f3a"
             ],
             [
              0.8888888888888888,
              "#fdca26"
             ],
             [
              1,
              "#f0f921"
             ]
            ],
            "type": "heatmap"
           }
          ],
          "histogram": [
           {
            "marker": {
             "pattern": {
              "fillmode": "overlay",
              "size": 10,
              "solidity": 0.2
             }
            },
            "type": "histogram"
           }
          ],
          "histogram2d": [
           {
            "colorbar": {
             "outlinewidth": 0,
             "ticks": ""
            },
            "colorscale": [
             [
              0,
              "#0d0887"
             ],
             [
              0.1111111111111111,
              "#46039f"
             ],
             [
              0.2222222222222222,
              "#7201a8"
             ],
             [
              0.3333333333333333,
              "#9c179e"
             ],
             [
              0.4444444444444444,
              "#bd3786"
             ],
             [
              0.5555555555555556,
              "#d8576b"
             ],
             [
              0.6666666666666666,
              "#ed7953"
             ],
             [
              0.7777777777777778,
              "#fb9f3a"
             ],
             [
              0.8888888888888888,
              "#fdca26"
             ],
             [
              1,
              "#f0f921"
             ]
            ],
            "type": "histogram2d"
           }
          ],
          "histogram2dcontour": [
           {
            "colorbar": {
             "outlinewidth": 0,
             "ticks": ""
            },
            "colorscale": [
             [
              0,
              "#0d0887"
             ],
             [
              0.1111111111111111,
              "#46039f"
             ],
             [
              0.2222222222222222,
              "#7201a8"
             ],
             [
              0.3333333333333333,
              "#9c179e"
             ],
             [
              0.4444444444444444,
              "#bd3786"
             ],
             [
              0.5555555555555556,
              "#d8576b"
             ],
             [
              0.6666666666666666,
              "#ed7953"
             ],
             [
              0.7777777777777778,
              "#fb9f3a"
             ],
             [
              0.8888888888888888,
              "#fdca26"
             ],
             [
              1,
              "#f0f921"
             ]
            ],
            "type": "histogram2dcontour"
           }
          ],
          "mesh3d": [
           {
            "colorbar": {
             "outlinewidth": 0,
             "ticks": ""
            },
            "type": "mesh3d"
           }
          ],
          "parcoords": [
           {
            "line": {
             "colorbar": {
              "outlinewidth": 0,
              "ticks": ""
             }
            },
            "type": "parcoords"
           }
          ],
          "pie": [
           {
            "automargin": true,
            "type": "pie"
           }
          ],
          "scatter": [
           {
            "fillpattern": {
             "fillmode": "overlay",
             "size": 10,
             "solidity": 0.2
            },
            "type": "scatter"
           }
          ],
          "scatter3d": [
           {
            "line": {
             "colorbar": {
              "outlinewidth": 0,
              "ticks": ""
             }
            },
            "marker": {
             "colorbar": {
              "outlinewidth": 0,
              "ticks": ""
             }
            },
            "type": "scatter3d"
           }
          ],
          "scattercarpet": [
           {
            "marker": {
             "colorbar": {
              "outlinewidth": 0,
              "ticks": ""
             }
            },
            "type": "scattercarpet"
           }
          ],
          "scattergeo": [
           {
            "marker": {
             "colorbar": {
              "outlinewidth": 0,
              "ticks": ""
             }
            },
            "type": "scattergeo"
           }
          ],
          "scattergl": [
           {
            "marker": {
             "colorbar": {
              "outlinewidth": 0,
              "ticks": ""
             }
            },
            "type": "scattergl"
           }
          ],
          "scattermap": [
           {
            "marker": {
             "colorbar": {
              "outlinewidth": 0,
              "ticks": ""
             }
            },
            "type": "scattermap"
           }
          ],
          "scattermapbox": [
           {
            "marker": {
             "colorbar": {
              "outlinewidth": 0,
              "ticks": ""
             }
            },
            "type": "scattermapbox"
           }
          ],
          "scatterpolar": [
           {
            "marker": {
             "colorbar": {
              "outlinewidth": 0,
              "ticks": ""
             }
            },
            "type": "scatterpolar"
           }
          ],
          "scatterpolargl": [
           {
            "marker": {
             "colorbar": {
              "outlinewidth": 0,
              "ticks": ""
             }
            },
            "type": "scatterpolargl"
           }
          ],
          "scatterternary": [
           {
            "marker": {
             "colorbar": {
              "outlinewidth": 0,
              "ticks": ""
             }
            },
            "type": "scatterternary"
           }
          ],
          "surface": [
           {
            "colorbar": {
             "outlinewidth": 0,
             "ticks": ""
            },
            "colorscale": [
             [
              0,
              "#0d0887"
             ],
             [
              0.1111111111111111,
              "#46039f"
             ],
             [
              0.2222222222222222,
              "#7201a8"
             ],
             [
              0.3333333333333333,
              "#9c179e"
             ],
             [
              0.4444444444444444,
              "#bd3786"
             ],
             [
              0.5555555555555556,
              "#d8576b"
             ],
             [
              0.6666666666666666,
              "#ed7953"
             ],
             [
              0.7777777777777778,
              "#fb9f3a"
             ],
             [
              0.8888888888888888,
              "#fdca26"
             ],
             [
              1,
              "#f0f921"
             ]
            ],
            "type": "surface"
           }
          ],
          "table": [
           {
            "cells": {
             "fill": {
              "color": "#EBF0F8"
             },
             "line": {
              "color": "white"
             }
            },
            "header": {
             "fill": {
              "color": "#C8D4E3"
             },
             "line": {
              "color": "white"
             }
            },
            "type": "table"
           }
          ]
         },
         "layout": {
          "annotationdefaults": {
           "arrowcolor": "#2a3f5f",
           "arrowhead": 0,
           "arrowwidth": 1
          },
          "autotypenumbers": "strict",
          "coloraxis": {
           "colorbar": {
            "outlinewidth": 0,
            "ticks": ""
           }
          },
          "colorscale": {
           "diverging": [
            [
             0,
             "#8e0152"
            ],
            [
             0.1,
             "#c51b7d"
            ],
            [
             0.2,
             "#de77ae"
            ],
            [
             0.3,
             "#f1b6da"
            ],
            [
             0.4,
             "#fde0ef"
            ],
            [
             0.5,
             "#f7f7f7"
            ],
            [
             0.6,
             "#e6f5d0"
            ],
            [
             0.7,
             "#b8e186"
            ],
            [
             0.8,
             "#7fbc41"
            ],
            [
             0.9,
             "#4d9221"
            ],
            [
             1,
             "#276419"
            ]
           ],
           "sequential": [
            [
             0,
             "#0d0887"
            ],
            [
             0.1111111111111111,
             "#46039f"
            ],
            [
             0.2222222222222222,
             "#7201a8"
            ],
            [
             0.3333333333333333,
             "#9c179e"
            ],
            [
             0.4444444444444444,
             "#bd3786"
            ],
            [
             0.5555555555555556,
             "#d8576b"
            ],
            [
             0.6666666666666666,
             "#ed7953"
            ],
            [
             0.7777777777777778,
             "#fb9f3a"
            ],
            [
             0.8888888888888888,
             "#fdca26"
            ],
            [
             1,
             "#f0f921"
            ]
           ],
           "sequentialminus": [
            [
             0,
             "#0d0887"
            ],
            [
             0.1111111111111111,
             "#46039f"
            ],
            [
             0.2222222222222222,
             "#7201a8"
            ],
            [
             0.3333333333333333,
             "#9c179e"
            ],
            [
             0.4444444444444444,
             "#bd3786"
            ],
            [
             0.5555555555555556,
             "#d8576b"
            ],
            [
             0.6666666666666666,
             "#ed7953"
            ],
            [
             0.7777777777777778,
             "#fb9f3a"
            ],
            [
             0.8888888888888888,
             "#fdca26"
            ],
            [
             1,
             "#f0f921"
            ]
           ]
          },
          "colorway": [
           "#636efa",
           "#EF553B",
           "#00cc96",
           "#ab63fa",
           "#FFA15A",
           "#19d3f3",
           "#FF6692",
           "#B6E880",
           "#FF97FF",
           "#FECB52"
          ],
          "font": {
           "color": "#2a3f5f"
          },
          "geo": {
           "bgcolor": "white",
           "lakecolor": "white",
           "landcolor": "#E5ECF6",
           "showlakes": true,
           "showland": true,
           "subunitcolor": "white"
          },
          "hoverlabel": {
           "align": "left"
          },
          "hovermode": "closest",
          "mapbox": {
           "style": "light"
          },
          "paper_bgcolor": "white",
          "plot_bgcolor": "#E5ECF6",
          "polar": {
           "angularaxis": {
            "gridcolor": "white",
            "linecolor": "white",
            "ticks": ""
           },
           "bgcolor": "#E5ECF6",
           "radialaxis": {
            "gridcolor": "white",
            "linecolor": "white",
            "ticks": ""
           }
          },
          "scene": {
           "xaxis": {
            "backgroundcolor": "#E5ECF6",
            "gridcolor": "white",
            "gridwidth": 2,
            "linecolor": "white",
            "showbackground": true,
            "ticks": "",
            "zerolinecolor": "white"
           },
           "yaxis": {
            "backgroundcolor": "#E5ECF6",
            "gridcolor": "white",
            "gridwidth": 2,
            "linecolor": "white",
            "showbackground": true,
            "ticks": "",
            "zerolinecolor": "white"
           },
           "zaxis": {
            "backgroundcolor": "#E5ECF6",
            "gridcolor": "white",
            "gridwidth": 2,
            "linecolor": "white",
            "showbackground": true,
            "ticks": "",
            "zerolinecolor": "white"
           }
          },
          "shapedefaults": {
           "line": {
            "color": "#2a3f5f"
           }
          },
          "ternary": {
           "aaxis": {
            "gridcolor": "white",
            "linecolor": "white",
            "ticks": ""
           },
           "baxis": {
            "gridcolor": "white",
            "linecolor": "white",
            "ticks": ""
           },
           "bgcolor": "#E5ECF6",
           "caxis": {
            "gridcolor": "white",
            "linecolor": "white",
            "ticks": ""
           }
          },
          "title": {
           "x": 0.05
          },
          "xaxis": {
           "automargin": true,
           "gridcolor": "white",
           "linecolor": "white",
           "ticks": "",
           "title": {
            "standoff": 15
           },
           "zerolinecolor": "white",
           "zerolinewidth": 2
          },
          "yaxis": {
           "automargin": true,
           "gridcolor": "white",
           "linecolor": "white",
           "ticks": "",
           "title": {
            "standoff": 15
           },
           "zerolinecolor": "white",
           "zerolinewidth": 2
          }
         }
        },
        "title": {
         "text": "Cycle lineage of lineage ID 0"
        },
        "xaxis": {
         "showgrid": false,
         "showticklabels": false,
         "zeroline": false
        },
        "yaxis": {
         "autorange": "reversed",
         "showgrid": true,
         "title": {
          "text": "Cell cycle level"
         },
         "zeroline": true
        }
       }
      }
     },
     "metadata": {},
     "output_type": "display_data"
    }
   ],
   "source": [
    "cyclelin0 = model.data.cycle_data[0]\n",
    "cyclelin0.plot(\n",
    "    title=\"Cycle lineage of lineage ID 0\",\n",
    "    node_hover_props=[\"cycle_ID\", \"level\", \"cycle_length\"],\n",
    ")"
   ]
  },
  {
   "cell_type": "markdown",
   "metadata": {},
   "source": [
    "List of available Pycellin features for cell cycle lineages:"
   ]
  },
  {
   "cell_type": "code",
   "execution_count": 16,
   "metadata": {},
   "outputs": [
    {
     "data": {
      "text/plain": [
       "{'branch_total_displacement': 'Displacement of the cell during the cell cycle',\n",
       " 'branch_mean_displacement': 'Mean displacement of the cell during the cell cycle',\n",
       " 'branch_mean_speed': 'Mean speed of the cell during the cell cycle',\n",
       " 'cycle_completeness': 'Completeness of the cell cycle, i.e. does it start and end with a division',\n",
       " 'division_time': 'Time elapsed between the birth of a cell and its division',\n",
       " 'division_rate': 'Number of divisions per time unit',\n",
       " 'straightness': 'Straightness of the cell trajectory'}"
      ]
     },
     "execution_count": 16,
     "metadata": {},
     "output_type": "execute_result"
    }
   ],
   "source": [
    "pc.get_pycellin_cycle_lineage_features()"
   ]
  },
  {
   "cell_type": "markdown",
   "metadata": {},
   "source": [
    "Like for cell lineages, you can add new features either one by one by calling the method specific to your feature:"
   ]
  },
  {
   "cell_type": "code",
   "execution_count": 17,
   "metadata": {},
   "outputs": [],
   "source": [
    "model.add_division_time()"
   ]
  },
  {
   "cell_type": "markdown",
   "metadata": {},
   "source": [
    "Or the generic `add_pycellin_feature()`:"
   ]
  },
  {
   "cell_type": "code",
   "execution_count": 18,
   "metadata": {},
   "outputs": [
    {
     "name": "stderr",
     "output_type": "stream",
     "text": [
      "/media/lxenard/data/Code/pycellin/pycellin/pycellin/classes/model.py:936: UserWarning:\n",
      "\n",
      "A Property 'division_time' already exists with the same type. Not overwriting the old Property.\n",
      "\n"
     ]
    }
   ],
   "source": [
    "model.add_pycellin_property(\"division_time\")"
   ]
  },
  {
   "cell_type": "markdown",
   "metadata": {},
   "source": [
    "Or several features at once with `add_pycellin_features()`:"
   ]
  },
  {
   "cell_type": "code",
   "execution_count": 19,
   "metadata": {},
   "outputs": [],
   "source": [
    "model.add_pycellin_properties([\"division_time\", \"cycle_completeness\"])"
   ]
  },
  {
   "cell_type": "markdown",
   "metadata": {},
   "source": [
    "Cell lineage and cycle lineage features can be added at the same time without issue, given that cycle lineage data has already been computed:"
   ]
  },
  {
   "cell_type": "code",
   "execution_count": 20,
   "metadata": {},
   "outputs": [],
   "source": [
    "model.add_pycellin_properties(\n",
    "    [\n",
    "        \"cell_displacement\",  # cell lineage feature\n",
    "        \"branch_total_displacement\",  # cycle lineage feature\n",
    "        \"cell_speed\",  # cell lineage feature\n",
    "    ]\n",
    ")"
   ]
  },
  {
   "cell_type": "markdown",
   "metadata": {},
   "source": [
    "To check which cell lineage features are currently present in the model:"
   ]
  },
  {
   "cell_type": "code",
   "execution_count": 22,
   "metadata": {},
   "outputs": [
    {
     "data": {
      "text/plain": [
       "{'cycle_ID': Property(identifier='cycle_ID', name='cycle ID', description='Unique identifier of the cell cycle, i.e. cell_ID of the last cell in the cell cycle', provenance='pycellin', prop_type='node', lin_type='CycleLineage', dtype='int', unit=None),\n",
       " 'cells': Property(identifier='cells', name='cells', description='cell_IDs of the cells in the cell cycle, in chronological order', provenance='pycellin', prop_type='node', lin_type='CycleLineage', dtype='list[int]', unit=None),\n",
       " 'cycle_length': Property(identifier='cycle_length', name='cycle length', description='Number of cells in the cell cycle, minding gaps', provenance='pycellin', prop_type='node', lin_type='CycleLineage', dtype='int', unit=None),\n",
       " 'cycle_duration': Property(identifier='cycle_duration', name='cycle duration', description='Number of frames in the cell cycle, regardless of gaps', provenance='pycellin', prop_type='node', lin_type='CycleLineage', dtype='int', unit='frame'),\n",
       " 'level': Property(identifier='level', name='level', description='Level of the cell cycle in the lineage, i.e. number of cell cycles upstream of the current one', provenance='pycellin', prop_type='node', lin_type='CycleLineage', dtype='int', unit=None),\n",
       " 'division_time': Property(identifier='division_time', name='Division time', description='Time elapsed between the birth of a cell and its division', provenance='pycellin', prop_type='node', lin_type='CycleLineage', dtype='int', unit='frame'),\n",
       " 'cycle_completeness': Property(identifier='cycle_completeness', name='Cycle completeness', description='Completeness of the cell cycle', provenance='pycellin', prop_type='node', lin_type='CycleLineage', dtype='bool', unit='none'),\n",
       " 'branch_total_displacement': Property(identifier='branch_total_displacement', name='Branch total displacement', description='Displacement of the cell during the cell cycle', provenance='pycellin', prop_type='node', lin_type='CycleLineage', dtype='float', unit='µm')}"
      ]
     },
     "execution_count": 22,
     "metadata": {},
     "output_type": "execute_result"
    }
   ],
   "source": [
    "model.get_cycle_lineage_properties()"
   ]
  },
  {
   "cell_type": "markdown",
   "metadata": {},
   "source": [
    "### For optional arguments"
   ]
  },
  {
   "cell_type": "markdown",
   "metadata": {},
   "source": [
    "Some features accept optional arguments, often to tweak the way the feature is defined and computed: change of unit, change of algorithm...\n",
    "\n",
    "When adding features one by one, additional arguments are given like classic optional argument.\n",
    "\n",
    "For example, with feature specific methods:\n",
    "\n",
    "``` python\n",
    "model.add_relative_age(in_time_unit=True)\n",
    "model.add_rod_length(skel_algo=\"lee\", tolerance=0.6)\n",
    "```"
   ]
  },
  {
   "cell_type": "markdown",
   "metadata": {},
   "source": [
    "And with the generic `add_pycellin_feature()`:\n",
    "\n",
    "``` python\n",
    "model.add_pycellin_feature(\"relative_age\", in_time_unit=True)\n",
    "model.add_pycellin_feature(\"rod_length\", skel_algo=\"lee\", tolerance=0.6)\n",
    "```"
   ]
  },
  {
   "cell_type": "markdown",
   "metadata": {},
   "source": [
    "When adding several features at the same time, features are given as a dictionary with the name of the feature as the key and additional keyword arguments as values:\n",
    "\n",
    "``` python\n",
    "model.add_pycellin_features(\n",
    "    {\n",
    "        \"relative_age\": {\"in_time_unit\": True},\n",
    "        \"rod_length\": {\"skel_algo\": \"lee\", \"tolerance\": 0.6},\n",
    "    }\n",
    ")\n",
    "```"
   ]
  },
  {
   "cell_type": "markdown",
   "metadata": {},
   "source": [
    "It is also possible to mix features with and without additional arguments:\n",
    "\n",
    "``` python\n",
    "model.add_pycellin_features(\n",
    "    [{\"relative_age\": {\"in_time_unit\": True}}, \"cell_cycle_completeness\"]\n",
    ")\n",
    "```"
   ]
  },
  {
   "cell_type": "markdown",
   "metadata": {},
   "source": [
    "## Computing or recomputing features"
   ]
  },
  {
   "cell_type": "markdown",
   "metadata": {},
   "source": [
    "Now that the Pycellin features we are interested in have been declared, we want to actually compute their values to enrich the lineages. To do this, we need to ask the model to perform an update:"
   ]
  },
  {
   "cell_type": "code",
   "execution_count": 23,
   "metadata": {
    "tags": []
   },
   "outputs": [
    {
     "name": "stdout",
     "output_type": "stream",
     "text": [
      "WARNING: Circular skeleton on node 9350 of track 2! The object is probably roundish and the radius is a better metric in that case. Setting the length and width to NaN.\n"
     ]
    }
   ],
   "source": [
    "model.update()"
   ]
  },
  {
   "cell_type": "markdown",
   "metadata": {},
   "source": [
    "More generally, an update computes or recomputes all the needed features on the impacted structural elements of the model (cells, cycles (if cycle data is present), links and lineages).\n",
    "\n",
    "We can now check that the values have been computed and stored in the lineage by directly accessing the feature value of a specific cell or cell cycle:"
   ]
  },
  {
   "cell_type": "code",
   "execution_count": 24,
   "metadata": {},
   "outputs": [
    {
     "name": "stdout",
     "output_type": "stream",
     "text": [
      "0\n",
      "2.7544300640764128\n",
      "6\n"
     ]
    }
   ],
   "source": [
    "# For the cell lineage\n",
    "print(lin0.nodes[9013][\"relative_age\"])\n",
    "print(lin0.nodes[9013][\"rod_length\"])\n",
    "\n",
    "# For the cycle lineage\n",
    "# After an update, references to the cycle lineage are lost,\n",
    "# so we cannot use cyclelin0 anymore.\n",
    "print(model.get_cycle_lineage_from_ID(0).nodes[9019][\"division_time\"])"
   ]
  },
  {
   "cell_type": "markdown",
   "metadata": {},
   "source": [
    "Or by plotting a lineage of the model and asking for the feature of interest when hovering over the lineage elements:"
   ]
  },
  {
   "cell_type": "code",
   "execution_count": 26,
   "metadata": {},
   "outputs": [
    {
     "data": {
      "application/vnd.plotly.v1+json": {
       "config": {
        "plotlyServerURL": "https://plot.ly"
       },
       "data": [
        {
         "mode": "lines",
         "name": "Edges",
         "text": [],
         "type": "scatter",
         "x": [
          0.8125,
          0.8125,
          null,
          -10.6875,
          -10.6875,
          null,
          2.8125,
          2.8125,
          null,
          -7.1875,
          -7.1875,
          null,
          -5.6875,
          -5.6875,
          null,
          -9.1875,
          -9.1875,
          null,
          -4.1875,
          -4.1875,
          null,
          4.8125,
          4.3125,
          null,
          4.8125,
          5.3125,
          null,
          -2.1875,
          -2.1875,
          null,
          -0.6875,
          -0.6875,
          null,
          7.3125,
          7.3125,
          null,
          6.3125,
          6.3125,
          null,
          -3.1875,
          -3.1875,
          null,
          -6.4375,
          -6.4375,
          null,
          0.8125,
          0.8125,
          null,
          -0.6875,
          -0.6875,
          null,
          7.3125,
          7.3125,
          null,
          2.8125,
          2.8125,
          null,
          -9.9375,
          -9.9375,
          null,
          4.8125,
          4.8125,
          null,
          7.3125,
          7.3125,
          null,
          -0.6875,
          -0.6875,
          null,
          0.8125,
          0.8125,
          null,
          -2.1875,
          -2.1875,
          null,
          -7.1875,
          -7.1875,
          null,
          -10.6875,
          -10.6875,
          null,
          4.3125,
          4.3125,
          null,
          2.8125,
          2.8125,
          null,
          -5.6875,
          -5.6875,
          null,
          -9.1875,
          -9.1875,
          null,
          -4.1875,
          -4.1875,
          null,
          5.3125,
          5.3125,
          null,
          -0.6875,
          -0.6875,
          null,
          6.3125,
          6.3125,
          null,
          6.3125,
          6.3125,
          null,
          0.8125,
          0.8125,
          null,
          -7.1875,
          -7.1875,
          null,
          -10.6875,
          -10.6875,
          null,
          4.3125,
          4.3125,
          null,
          7.3125,
          7.3125,
          null,
          -2.1875,
          -2.1875,
          null,
          2.8125,
          2.8125,
          null,
          -5.6875,
          -5.6875,
          null,
          -4.1875,
          -4.6875,
          null,
          -4.1875,
          -3.6875,
          null,
          -9.1875,
          -9.1875,
          null,
          5.3125,
          5.3125,
          null,
          -0.6875,
          -0.6875,
          null,
          6.3125,
          6.3125,
          null,
          -2.1875,
          -2.6875,
          null,
          -2.1875,
          -1.6875,
          null,
          4.3125,
          4.3125,
          null,
          7.3125,
          7.3125,
          null,
          2.8125,
          2.3125,
          null,
          2.8125,
          3.3125,
          null,
          -10.6875,
          -10.6875,
          null,
          -4.6875,
          -4.6875,
          null,
          -9.1875,
          -8.6875,
          null,
          -9.1875,
          -9.6875,
          null,
          5.3125,
          5.3125,
          null,
          -5.6875,
          -5.6875,
          null,
          0.8125,
          0.3125,
          null,
          0.8125,
          1.3125,
          null,
          -3.6875,
          -3.6875,
          null,
          5.0625,
          5.0625,
          null,
          -7.1875,
          -6.6875,
          null,
          -7.1875,
          -7.6875,
          null,
          5.0625,
          5.0625,
          null,
          -5.0625,
          -5.0625,
          null,
          0,
          5.0625,
          null,
          0,
          -5.0625,
          null,
          -5.0625,
          -5.0625,
          null,
          5.0625,
          5.0625,
          null,
          -5.0625,
          -5.0625,
          null,
          5.0625,
          5.0625,
          null,
          -5.0625,
          -5.0625,
          null,
          -5.0625,
          -5.0625,
          null,
          5.0625,
          5.0625,
          null,
          -5.0625,
          -1.9375,
          null,
          -5.0625,
          -8.1875,
          null,
          5.0625,
          3.3125,
          null,
          5.0625,
          6.8125,
          null,
          -8.1875,
          -8.1875,
          null,
          -1.9375,
          -1.9375,
          null,
          3.3125,
          3.3125,
          null,
          6.8125,
          6.8125,
          null,
          -8.1875,
          -8.1875,
          null,
          -1.9375,
          -1.9375,
          null,
          3.3125,
          3.3125,
          null,
          6.8125,
          6.8125,
          null,
          -8.1875,
          -6.4375,
          null,
          -8.1875,
          -9.9375,
          null,
          3.3125,
          1.8125,
          null,
          3.3125,
          4.8125,
          null,
          -1.9375,
          -1.9375,
          null,
          6.8125,
          6.8125,
          null,
          -8.1875,
          -8.1875,
          null,
          3.3125,
          3.3125,
          null,
          -1.9375,
          -1.9375,
          null,
          6.8125,
          6.8125,
          null,
          6.3125,
          6.3125,
          null,
          -3.1875,
          -3.1875,
          null,
          -6.4375,
          -6.4375,
          null,
          1.8125,
          1.8125,
          null,
          7.3125,
          7.3125,
          null,
          -9.9375,
          -9.9375,
          null,
          4.8125,
          4.8125,
          null,
          -0.6875,
          -0.6875,
          null,
          1.8125,
          1.8125,
          null,
          -9.9375,
          -9.9375,
          null,
          4.8125,
          4.8125,
          null,
          -6.4375,
          -6.4375,
          null,
          -1.9375,
          -0.6875,
          null,
          -1.9375,
          -3.1875,
          null,
          6.8125,
          6.3125,
          null,
          6.8125,
          7.3125,
          null,
          6.3125,
          6.3125,
          null,
          -3.1875,
          -3.1875,
          null,
          -6.4375,
          -6.4375,
          null,
          -8.1875,
          -8.1875,
          null,
          1.8125,
          1.8125,
          null,
          -1.9375,
          -1.9375,
          null,
          3.3125,
          3.3125,
          null,
          6.8125,
          6.8125,
          null,
          7.3125,
          7.3125,
          null,
          -9.9375,
          -9.9375,
          null,
          4.8125,
          4.8125,
          null,
          -0.6875,
          -0.6875,
          null,
          6.3125,
          6.3125,
          null,
          1.8125,
          0.8125,
          null,
          1.8125,
          2.8125,
          null,
          -0.6875,
          -0.6875,
          null,
          7.3125,
          7.3125,
          null,
          -9.9375,
          -9.9375,
          null,
          -3.1875,
          -3.1875,
          null,
          4.8125,
          4.8125,
          null,
          -6.4375,
          -6.4375,
          null,
          6.3125,
          6.3125,
          null,
          0.8125,
          0.8125,
          null,
          -0.6875,
          -0.6875,
          null,
          7.3125,
          7.3125,
          null,
          2.8125,
          2.8125,
          null,
          -6.4375,
          -5.6875,
          null,
          -6.4375,
          -7.1875,
          null,
          -9.9375,
          -9.1875,
          null,
          -9.9375,
          -10.6875,
          null,
          4.8125,
          4.8125,
          null,
          -3.1875,
          -2.1875,
          null,
          -3.1875,
          -4.1875,
          null,
          6.3125,
          6.3125,
          null
         ],
         "y": [
          18,
          19,
          null,
          18,
          19,
          null,
          18,
          19,
          null,
          18,
          19,
          null,
          18,
          19,
          null,
          18,
          19,
          null,
          18,
          19,
          null,
          18,
          19,
          null,
          18,
          19,
          null,
          18,
          19,
          null,
          18,
          19,
          null,
          18,
          19,
          null,
          16,
          17,
          null,
          16,
          17,
          null,
          16,
          17,
          null,
          16,
          17,
          null,
          16,
          17,
          null,
          16,
          17,
          null,
          16,
          17,
          null,
          16,
          17,
          null,
          16,
          17,
          null,
          19,
          20,
          null,
          19,
          20,
          null,
          19,
          20,
          null,
          19,
          20,
          null,
          19,
          20,
          null,
          19,
          20,
          null,
          19,
          20,
          null,
          19,
          20,
          null,
          19,
          20,
          null,
          19,
          20,
          null,
          19,
          20,
          null,
          19,
          20,
          null,
          20,
          21,
          null,
          19,
          20,
          null,
          20,
          21,
          null,
          20,
          21,
          null,
          20,
          21,
          null,
          20,
          21,
          null,
          20,
          21,
          null,
          20,
          21,
          null,
          20,
          21,
          null,
          20,
          21,
          null,
          20,
          21,
          null,
          20,
          21,
          null,
          20,
          21,
          null,
          20,
          21,
          null,
          20,
          21,
          null,
          21,
          22,
          null,
          21,
          22,
          null,
          21,
          22,
          null,
          21,
          22,
          null,
          21,
          22,
          null,
          21,
          22,
          null,
          21,
          22,
          null,
          21,
          22,
          null,
          21,
          22,
          null,
          21,
          22,
          null,
          21,
          22,
          null,
          21,
          22,
          null,
          21,
          22,
          null,
          21,
          22,
          null,
          21,
          22,
          null,
          21,
          22,
          null,
          21,
          22,
          null,
          2,
          3,
          null,
          21,
          22,
          null,
          21,
          22,
          null,
          3,
          4,
          null,
          2,
          3,
          null,
          0,
          1,
          null,
          0,
          1,
          null,
          3,
          4,
          null,
          4,
          5,
          null,
          4,
          5,
          null,
          5,
          6,
          null,
          5,
          6,
          null,
          1,
          2,
          null,
          1,
          2,
          null,
          6,
          7,
          null,
          6,
          7,
          null,
          6,
          7,
          null,
          6,
          7,
          null,
          9,
          10,
          null,
          9,
          10,
          null,
          9,
          10,
          null,
          9,
          10,
          null,
          8,
          9,
          null,
          8,
          9,
          null,
          8,
          9,
          null,
          8,
          9,
          null,
          11,
          12,
          null,
          11,
          12,
          null,
          11,
          12,
          null,
          11,
          12,
          null,
          11,
          12,
          null,
          11,
          12,
          null,
          10,
          11,
          null,
          10,
          11,
          null,
          10,
          11,
          null,
          10,
          11,
          null,
          13,
          14,
          null,
          13,
          14,
          null,
          13,
          14,
          null,
          13,
          14,
          null,
          13,
          14,
          null,
          13,
          14,
          null,
          13,
          14,
          null,
          13,
          14,
          null,
          12,
          13,
          null,
          12,
          13,
          null,
          12,
          13,
          null,
          12,
          13,
          null,
          12,
          13,
          null,
          12,
          13,
          null,
          12,
          13,
          null,
          12,
          13,
          null,
          14,
          15,
          null,
          14,
          15,
          null,
          14,
          15,
          null,
          7,
          8,
          null,
          14,
          15,
          null,
          7,
          8,
          null,
          7,
          8,
          null,
          7,
          8,
          null,
          14,
          15,
          null,
          14,
          15,
          null,
          14,
          15,
          null,
          14,
          15,
          null,
          15,
          16,
          null,
          15,
          16,
          null,
          15,
          16,
          null,
          15,
          16,
          null,
          15,
          16,
          null,
          15,
          16,
          null,
          15,
          16,
          null,
          15,
          16,
          null,
          15,
          16,
          null,
          17,
          18,
          null,
          17,
          18,
          null,
          17,
          18,
          null,
          17,
          18,
          null,
          17,
          18,
          null,
          17,
          18,
          null,
          17,
          18,
          null,
          17,
          18,
          null,
          17,
          18,
          null,
          17,
          18,
          null,
          17,
          18,
          null,
          17,
          18,
          null,
          18,
          19,
          null
         ]
        },
        {
         "hoverinfo": "text",
         "hovertemplate": "%{text}",
         "mode": "markers",
         "name": "lineage_ID: 0",
         "text": [
          "cell_ID: 9216<br>relative_age: 2<br>rod_length: 4.930526300938619<br>",
          "cell_ID: 9218<br>relative_age: 0<br>rod_length: 4.2430460705541515<br>",
          "cell_ID: 9222<br>relative_age: 2<br>rod_length: 4.780371845473989<br>",
          "cell_ID: 9223<br>relative_age: 0<br>rod_length: 3.723828917512829<br>",
          "cell_ID: 9227<br>relative_age: 0<br>rod_length: 3.8384197005154115<br>",
          "cell_ID: 9228<br>relative_age: 0<br>rod_length: 3.845455605737252<br>",
          "cell_ID: 9229<br>relative_age: 0<br>rod_length: 4.14867244382556<br>",
          "cell_ID: 9230<br>relative_age: 6<br>rod_length: 9.867543381637548<br>",
          "cell_ID: 9235<br>relative_age: 0<br>rod_length: 4.059291922468395<br>",
          "cell_ID: 9240<br>relative_age: 5<br>rod_length: 4.433631906988562<br>",
          "cell_ID: 9250<br>relative_age: 5<br>rod_length: 9.660441077185743<br>",
          "cell_ID: 9252<br>relative_age: 3<br>rod_length: 6.899216442908778<br>",
          "cell_ID: 9255<br>relative_age: 3<br>rod_length: 6.03366572154965<br>",
          "cell_ID: 9258<br>relative_age: 4<br>rod_length: 5.688368292316746<br>",
          "cell_ID: 9259<br>relative_age: 0<br>rod_length: 3.4872219883761857<br>",
          "cell_ID: 9262<br>relative_age: 3<br>rod_length: 5.882585744733147<br>",
          "cell_ID: 9263<br>relative_age: 3<br>rod_length: 6.634948226181641<br>",
          "cell_ID: 9271<br>relative_age: 0<br>rod_length: 3.4132635033760392<br>",
          "cell_ID: 9274<br>relative_age: 4<br>rod_length: 5.952322273978106<br>",
          "cell_ID: 9277<br>relative_age: 4<br>rod_length: 6.737543170663676<br>",
          "cell_ID: 9279<br>relative_age: 6<br>rod_length: 10.781224095053572<br>",
          "cell_ID: 9286<br>relative_age: 6<br>rod_length: 5.297900412760819<br>",
          "cell_ID: 9290<br>relative_age: 3<br>rod_length: 6.057483295523557<br>",
          "cell_ID: 9292<br>relative_age: 1<br>rod_length: 4.801621228229314<br>",
          "cell_ID: 9293<br>relative_age: 1<br>rod_length: 4.625416887655278<br>",
          "cell_ID: 9294<br>relative_age: 1<br>rod_length: 5.141954833038497<br>",
          "cell_ID: 9299<br>relative_age: 0<br>rod_length: 5.582093032224828<br>",
          "cell_ID: 9306<br>relative_age: 3<br>rod_length: 5.620801325662102<br>",
          "cell_ID: 9308<br>relative_age: 1<br>rod_length: 4.564734818320847<br>",
          "cell_ID: 9309<br>relative_age: 1<br>rod_length: 4.731520282343154<br>",
          "cell_ID: 9310<br>relative_age: 1<br>rod_length: 5.105264233156268<br>",
          "cell_ID: 9312<br>relative_age: 0<br>rod_length: 5.7388002066731785<br>",
          "cell_ID: 9326<br>relative_age: 7<br>rod_length: 6.577661233628781<br>",
          "cell_ID: 9328<br>relative_age: 6<br>rod_length: 12.199121753656195<br>",
          "cell_ID: 9330<br>relative_age: 7<br>rod_length: 14.482209059413165<br>",
          "cell_ID: 9332<br>relative_age: 4<br>rod_length: 7.083612081829673<br>",
          "cell_ID: 9334<br>relative_age: 2<br>rod_length: 5.362153131767942<br>",
          "cell_ID: 9335<br>relative_age: 2<br>rod_length: 6.052137747067361<br>",
          "cell_ID: 9339<br>relative_age: 1<br>rod_length: 6.98759164050164<br>",
          "cell_ID: 9343<br>relative_age: 7<br>rod_length: 9.389872696677173<br>",
          "cell_ID: 9344<br>relative_age: 2<br>rod_length: 5.687544322578037<br>",
          "cell_ID: 9351<br>relative_age: 4<br>rod_length: 6.585055803759342<br>",
          "cell_ID: 9355<br>relative_age: 2<br>rod_length: 5.271352654408649<br>",
          "cell_ID: 9356<br>relative_age: 2<br>rod_length: 5.77449113972883<br>",
          "cell_ID: 9357<br>relative_age: 2<br>rod_length: 5.945154716295418<br>",
          "cell_ID: 9358<br>relative_age: 1<br>rod_length: 6.845461292872975<br>",
          "cell_ID: 9375<br>relative_age: 0<br>rod_length: 4.778831186266793<br>",
          "cell_ID: 9382<br>relative_age: 9<br>rod_length: 8.839561358074318<br>",
          "cell_ID: 9384<br>relative_age: 9<br>rod_length: 21.03201741992427<br>",
          "cell_ID: 9389<br>relative_age: 0<br>rod_length: 4.056283434746635<br>",
          "cell_ID: 9390<br>relative_age: 3<br>rod_length: 10.182864973801287<br>",
          "cell_ID: 9395<br>relative_age: 9<br>rod_length: 8.852432133491092<br>",
          "cell_ID: 9398<br>relative_age: 0<br>rod_length: 4.324927661939148<br>",
          "cell_ID: 9402<br>relative_age: 0<br>rod_length: 4.068580604238192<br>",
          "cell_ID: 9416<br>relative_age: 0<br>rod_length: 3.7090378091010523<br>",
          "cell_ID: 9424<br>relative_age: 8<br>rod_length: 7.389383388848094<br>",
          "cell_ID: 9428<br>relative_age: 8<br>rod_length: 17.210226569499984<br>",
          "cell_ID: 9438<br>relative_age: 3<br>rod_length: 7.37388105966103<br>",
          "cell_ID: 9440<br>relative_age: 1<br>rod_length: 4.279047672017448<br>",
          "cell_ID: 9441<br>relative_age: 2<br>rod_length: 8.49516296414055<br>",
          "cell_ID: 9444<br>relative_age: 1<br>rod_length: 3.975778823831887<br>",
          "cell_ID: 9446<br>relative_age: 3<br>rod_length: 9.909043779745332<br>",
          "cell_ID: 9448<br>relative_age: 0<br>rod_length: 3.2654302464534726<br>",
          "cell_ID: 9449<br>relative_age: 0<br>rod_length: 3.7707040447603246<br>",
          "cell_ID: 9450<br>relative_age: 8<br>rod_length: 8.983979726166195<br>",
          "cell_ID: 9463<br>relative_age: 4<br>rod_length: 7.958193901066442<br>",
          "cell_ID: 9464<br>relative_age: 5<br>rod_length: 7.820575015335347<br>",
          "cell_ID: 9465<br>relative_age: 0<br>rod_length: 3.981865794851059<br>",
          "cell_ID: 9470<br>relative_age: 4<br>rod_length: 8.459530187674396<br>",
          "cell_ID: 9476<br>relative_age: 0<br>rod_length: 5.110368695720583<br>",
          "cell_ID: 9480<br>relative_age: 0<br>rod_length: 5.248576502058922<br>",
          "cell_ID: 9481<br>relative_age: 3<br>rod_length: 7.139841878144971<br>",
          "cell_ID: 9482<br>relative_age: 0<br>rod_length: 3.2449451988897065<br>",
          "cell_ID: 9483<br>relative_age: 3<br>rod_length: 6.85234257183024<br>",
          "cell_ID: 9485<br>relative_age: 2<br>rod_length: 8.056153063905688<br>",
          "cell_ID: 9491<br>relative_age: 3<br>rod_length: 6.341494994621816<br>",
          "cell_ID: 9492<br>relative_age: 5<br>rod_length: 8.77705907047015<br>",
          "cell_ID: 9494<br>relative_age: 0<br>rod_length: 3.039031751473618<br>",
          "cell_ID: 8986<br>relative_age: 1<br>rod_length: 2.867300880830515<br>",
          "cell_ID: 9498<br>relative_age: 3<br>rod_length: 6.003661777665361<br>",
          "cell_ID: 8988<br>relative_age: 2<br>rod_length: 3.3800339788281257<br>",
          "cell_ID: 8989<br>relative_age: 1<br>rod_length: 2.8389785030567083<br>",
          "cell_ID: 8993<br>relative_age: 0<br>rod_length: 4.781699065897662<br>",
          "cell_ID: 8996<br>relative_age: 2<br>rod_length: 3.220463886747807<br>",
          "cell_ID: 8999<br>relative_age: 3<br>rod_length: 4.085428699034045<br>",
          "cell_ID: 9001<br>relative_age: 3<br>rod_length: 3.74113720670436<br>",
          "cell_ID: 9008<br>relative_age: 4<br>rod_length: 4.741468463554788<br>",
          "cell_ID: 9010<br>relative_age: 4<br>rod_length: 4.4994825709301445<br>",
          "cell_ID: 9013<br>relative_age: 0<br>rod_length: 2.7544300640764128<br>",
          "cell_ID: 9014<br>relative_age: 0<br>rod_length: 2.6055797976090935<br>",
          "cell_ID: 9019<br>relative_age: 5<br>rod_length: 5.407042198697897<br>",
          "cell_ID: 9020<br>relative_age: 5<br>rod_length: 5.5273156721316905<br>",
          "cell_ID: 9027<br>relative_age: 2<br>rod_length: 3.762493006689266<br>",
          "cell_ID: 9028<br>relative_age: 2<br>rod_length: 3.89904736442479<br>",
          "cell_ID: 9029<br>relative_age: 2<br>rod_length: 4.083329268923118<br>",
          "cell_ID: 9031<br>relative_age: 2<br>rod_length: 4.126360497022<br>",
          "cell_ID: 9040<br>relative_age: 1<br>rod_length: 3.2861934701340965<br>",
          "cell_ID: 9041<br>relative_age: 1<br>rod_length: 3.305398334811051<br>",
          "cell_ID: 9042<br>relative_age: 1<br>rod_length: 3.4857568486218486<br>",
          "cell_ID: 9043<br>relative_age: 1<br>rod_length: 3.245249984076333<br>",
          "cell_ID: 9051<br>relative_age: 4<br>rod_length: 5.158516039045189<br>",
          "cell_ID: 9052<br>relative_age: 4<br>rod_length: 6.122189439226117<br>",
          "cell_ID: 9053<br>relative_age: 4<br>rod_length: 5.238016637576055<br>",
          "cell_ID: 9055<br>relative_age: 4<br>rod_length: 5.716031031858014<br>",
          "cell_ID: 9062<br>relative_age: 3<br>rod_length: 4.416273118498433<br>",
          "cell_ID: 9064<br>relative_age: 3<br>rod_length: 5.027423888304035<br>",
          "cell_ID: 9065<br>relative_age: 3<br>rod_length: 4.535232055729178<br>",
          "cell_ID: 9067<br>relative_age: 3<br>rod_length: 4.854091139713023<br>",
          "cell_ID: 9080<br>relative_age: 0<br>rod_length: 4.131429278658118<br>",
          "cell_ID: 9081<br>relative_age: 0<br>rod_length: 3.6129744098592904<br>",
          "cell_ID: 9082<br>relative_age: 1<br>rod_length: 3.3139525099811054<br>",
          "cell_ID: 9084<br>relative_age: 1<br>rod_length: 4.161014655601077<br>",
          "cell_ID: 9086<br>relative_age: 0<br>rod_length: 4.061432117836726<br>",
          "cell_ID: 9090<br>relative_age: 1<br>rod_length: 3.337012170338382<br>",
          "cell_ID: 9091<br>relative_age: 1<br>rod_length: 4.095207758041626<br>",
          "cell_ID: 9095<br>relative_age: 0<br>rod_length: 3.5647992233341737<br>",
          "cell_ID: 9096<br>relative_age: 0<br>rod_length: 3.5601613028332446<br>",
          "cell_ID: 9102<br>relative_age: 0<br>rod_length: 2.7202332134754705<br>",
          "cell_ID: 9103<br>relative_age: 0<br>rod_length: 3.4291078601634757<br>",
          "cell_ID: 9104<br>relative_age: 0<br>rod_length: 2.8251228303250784<br>",
          "cell_ID: 9106<br>relative_age: 5<br>rod_length: 6.490942932213138<br>",
          "cell_ID: 9108<br>relative_age: 5<br>rod_length: 7.08257356894477<br>",
          "cell_ID: 9118<br>relative_age: 1<br>rod_length: 4.887027784513961<br>",
          "cell_ID: 9119<br>relative_age: 1<br>rod_length: 4.2276056739384735<br>",
          "cell_ID: 9120<br>relative_age: 2<br>rod_length: 3.8890227557373414<br>",
          "cell_ID: 9121<br>relative_age: 0<br>rod_length: 2.863872523466915<br>",
          "cell_ID: 9122<br>relative_age: 2<br>rod_length: 4.937738936678342<br>",
          "cell_ID: 9123<br>relative_age: 0<br>rod_length: 2.919212870977988<br>",
          "cell_ID: 9124<br>relative_age: 0<br>rod_length: 3.0293818327306976<br>",
          "cell_ID: 9126<br>relative_age: 0<br>rod_length: 2.9206819097995114<br>",
          "cell_ID: 9127<br>relative_age: 1<br>rod_length: 4.624176043550804<br>",
          "cell_ID: 9136<br>relative_age: 2<br>rod_length: 4.032096174496967<br>",
          "cell_ID: 9138<br>relative_age: 2<br>rod_length: 4.835352382338385<br>",
          "cell_ID: 9143<br>relative_age: 1<br>rod_length: 4.334462393779705<br>",
          "cell_ID: 9155<br>relative_age: 2<br>rod_length: 6.0531882189773505<br>",
          "cell_ID: 9156<br>relative_age: 3<br>rod_length: 5.986620940418377<br>",
          "cell_ID: 9159<br>relative_age: 2<br>rod_length: 5.01085862948995<br>",
          "cell_ID: 9160<br>relative_age: 2<br>rod_length: 5.732705678899019<br>",
          "cell_ID: 9167<br>relative_age: 3<br>rod_length: 4.8799599677737575<br>",
          "cell_ID: 9168<br>relative_age: 2<br>rod_length: 4.847272959757815<br>",
          "cell_ID: 9169<br>relative_age: 3<br>rod_length: 5.582417848754671<br>",
          "cell_ID: 9170<br>relative_age: 3<br>rod_length: 4.642911046982718<br>",
          "cell_ID: 9176<br>relative_age: 4<br>rod_length: 8.304948565504066<br>",
          "cell_ID: 9178<br>relative_age: 1<br>rod_length: 4.162089770617746<br>",
          "cell_ID: 9181<br>relative_age: 4<br>rod_length: 6.797635890240298<br>",
          "cell_ID: 9182<br>relative_age: 4<br>rod_length: 8.135277393989423<br>",
          "cell_ID: 9191<br>relative_age: 1<br>rod_length: 3.7435339151835842<br>",
          "cell_ID: 9194<br>relative_age: 5<br>rod_length: 6.723447482348039<br>",
          "cell_ID: 9195<br>relative_age: 5<br>rod_length: 6.866119119104479<br>",
          "cell_ID: 9196<br>relative_age: 5<br>rod_length: 7.884795730331697<br>",
          "cell_ID: 9206<br>relative_age: 4<br>rod_length: 7.045719526303172<br>",
          "cell_ID: 9215<br>relative_age: 5<br>rod_length: 9.162149952936739<br>"
         ],
         "type": "scatter",
         "x": [
          0.8125,
          -10.6875,
          2.8125,
          -7.1875,
          -5.6875,
          -9.1875,
          -4.1875,
          4.8125,
          -2.1875,
          -0.6875,
          7.3125,
          6.3125,
          -3.1875,
          -6.4375,
          0.8125,
          -0.6875,
          7.3125,
          2.8125,
          -9.9375,
          4.8125,
          7.3125,
          -0.6875,
          0.8125,
          -2.1875,
          -7.1875,
          -10.6875,
          4.3125,
          2.8125,
          -5.6875,
          -9.1875,
          -4.1875,
          5.3125,
          -0.6875,
          6.3125,
          6.3125,
          0.8125,
          -7.1875,
          -10.6875,
          4.3125,
          7.3125,
          -2.1875,
          2.8125,
          -5.6875,
          -4.1875,
          -9.1875,
          5.3125,
          2.3125,
          -0.6875,
          6.3125,
          -2.6875,
          4.3125,
          7.3125,
          3.3125,
          -9.6875,
          -7.6875,
          -0.6875,
          6.3125,
          -2.1875,
          -4.6875,
          4.3125,
          -3.6875,
          5.3125,
          -6.6875,
          -1.6875,
          7.3125,
          -5.6875,
          2.8125,
          -8.6875,
          -10.6875,
          0.3125,
          1.3125,
          -10.6875,
          -4.6875,
          -9.1875,
          5.3125,
          -5.6875,
          0.8125,
          -3.6875,
          5.0625,
          -7.1875,
          5.0625,
          -5.0625,
          0,
          -5.0625,
          5.0625,
          -5.0625,
          5.0625,
          -5.0625,
          -5.0625,
          5.0625,
          -5.0625,
          5.0625,
          -8.1875,
          -1.9375,
          3.3125,
          6.8125,
          -8.1875,
          -1.9375,
          3.3125,
          6.8125,
          -8.1875,
          3.3125,
          -1.9375,
          6.8125,
          -8.1875,
          3.3125,
          -1.9375,
          6.8125,
          6.3125,
          -3.1875,
          -6.4375,
          1.8125,
          7.3125,
          -9.9375,
          4.8125,
          -0.6875,
          1.8125,
          -9.9375,
          4.8125,
          -6.4375,
          -1.9375,
          6.8125,
          6.3125,
          -3.1875,
          -6.4375,
          -8.1875,
          1.8125,
          -1.9375,
          3.3125,
          6.8125,
          7.3125,
          -9.9375,
          4.8125,
          -0.6875,
          6.3125,
          1.8125,
          -0.6875,
          7.3125,
          -9.9375,
          -3.1875,
          4.8125,
          -6.4375,
          6.3125,
          0.8125,
          -0.6875,
          7.3125,
          2.8125,
          -6.4375,
          -9.9375,
          4.8125,
          -3.1875,
          6.3125
         ],
         "y": [
          18,
          18,
          18,
          18,
          18,
          18,
          18,
          18,
          18,
          18,
          18,
          16,
          16,
          16,
          16,
          16,
          16,
          16,
          16,
          16,
          19,
          19,
          19,
          19,
          19,
          19,
          19,
          19,
          19,
          19,
          19,
          19,
          20,
          19,
          20,
          20,
          20,
          20,
          20,
          20,
          20,
          20,
          20,
          20,
          20,
          20,
          22,
          22,
          22,
          22,
          22,
          22,
          22,
          22,
          22,
          21,
          21,
          21,
          22,
          21,
          22,
          22,
          22,
          22,
          21,
          22,
          21,
          22,
          22,
          22,
          22,
          21,
          21,
          21,
          21,
          21,
          21,
          21,
          2,
          21,
          3,
          2,
          0,
          3,
          4,
          4,
          5,
          5,
          1,
          1,
          6,
          6,
          9,
          9,
          9,
          9,
          8,
          8,
          8,
          8,
          11,
          11,
          11,
          11,
          10,
          10,
          10,
          10,
          13,
          13,
          13,
          13,
          13,
          13,
          13,
          13,
          12,
          12,
          12,
          12,
          12,
          12,
          14,
          14,
          14,
          7,
          14,
          7,
          7,
          7,
          14,
          14,
          14,
          14,
          15,
          15,
          15,
          15,
          15,
          15,
          15,
          15,
          17,
          17,
          17,
          17,
          17,
          17,
          17,
          17,
          17,
          18
         ]
        }
       ],
       "layout": {
        "hovermode": "closest",
        "showlegend": true,
        "template": {
         "data": {
          "bar": [
           {
            "error_x": {
             "color": "#2a3f5f"
            },
            "error_y": {
             "color": "#2a3f5f"
            },
            "marker": {
             "line": {
              "color": "#E5ECF6",
              "width": 0.5
             },
             "pattern": {
              "fillmode": "overlay",
              "size": 10,
              "solidity": 0.2
             }
            },
            "type": "bar"
           }
          ],
          "barpolar": [
           {
            "marker": {
             "line": {
              "color": "#E5ECF6",
              "width": 0.5
             },
             "pattern": {
              "fillmode": "overlay",
              "size": 10,
              "solidity": 0.2
             }
            },
            "type": "barpolar"
           }
          ],
          "carpet": [
           {
            "aaxis": {
             "endlinecolor": "#2a3f5f",
             "gridcolor": "white",
             "linecolor": "white",
             "minorgridcolor": "white",
             "startlinecolor": "#2a3f5f"
            },
            "baxis": {
             "endlinecolor": "#2a3f5f",
             "gridcolor": "white",
             "linecolor": "white",
             "minorgridcolor": "white",
             "startlinecolor": "#2a3f5f"
            },
            "type": "carpet"
           }
          ],
          "choropleth": [
           {
            "colorbar": {
             "outlinewidth": 0,
             "ticks": ""
            },
            "type": "choropleth"
           }
          ],
          "contour": [
           {
            "colorbar": {
             "outlinewidth": 0,
             "ticks": ""
            },
            "colorscale": [
             [
              0,
              "#0d0887"
             ],
             [
              0.1111111111111111,
              "#46039f"
             ],
             [
              0.2222222222222222,
              "#7201a8"
             ],
             [
              0.3333333333333333,
              "#9c179e"
             ],
             [
              0.4444444444444444,
              "#bd3786"
             ],
             [
              0.5555555555555556,
              "#d8576b"
             ],
             [
              0.6666666666666666,
              "#ed7953"
             ],
             [
              0.7777777777777778,
              "#fb9f3a"
             ],
             [
              0.8888888888888888,
              "#fdca26"
             ],
             [
              1,
              "#f0f921"
             ]
            ],
            "type": "contour"
           }
          ],
          "contourcarpet": [
           {
            "colorbar": {
             "outlinewidth": 0,
             "ticks": ""
            },
            "type": "contourcarpet"
           }
          ],
          "heatmap": [
           {
            "colorbar": {
             "outlinewidth": 0,
             "ticks": ""
            },
            "colorscale": [
             [
              0,
              "#0d0887"
             ],
             [
              0.1111111111111111,
              "#46039f"
             ],
             [
              0.2222222222222222,
              "#7201a8"
             ],
             [
              0.3333333333333333,
              "#9c179e"
             ],
             [
              0.4444444444444444,
              "#bd3786"
             ],
             [
              0.5555555555555556,
              "#d8576b"
             ],
             [
              0.6666666666666666,
              "#ed7953"
             ],
             [
              0.7777777777777778,
              "#fb9f3a"
             ],
             [
              0.8888888888888888,
              "#fdca26"
             ],
             [
              1,
              "#f0f921"
             ]
            ],
            "type": "heatmap"
           }
          ],
          "histogram": [
           {
            "marker": {
             "pattern": {
              "fillmode": "overlay",
              "size": 10,
              "solidity": 0.2
             }
            },
            "type": "histogram"
           }
          ],
          "histogram2d": [
           {
            "colorbar": {
             "outlinewidth": 0,
             "ticks": ""
            },
            "colorscale": [
             [
              0,
              "#0d0887"
             ],
             [
              0.1111111111111111,
              "#46039f"
             ],
             [
              0.2222222222222222,
              "#7201a8"
             ],
             [
              0.3333333333333333,
              "#9c179e"
             ],
             [
              0.4444444444444444,
              "#bd3786"
             ],
             [
              0.5555555555555556,
              "#d8576b"
             ],
             [
              0.6666666666666666,
              "#ed7953"
             ],
             [
              0.7777777777777778,
              "#fb9f3a"
             ],
             [
              0.8888888888888888,
              "#fdca26"
             ],
             [
              1,
              "#f0f921"
             ]
            ],
            "type": "histogram2d"
           }
          ],
          "histogram2dcontour": [
           {
            "colorbar": {
             "outlinewidth": 0,
             "ticks": ""
            },
            "colorscale": [
             [
              0,
              "#0d0887"
             ],
             [
              0.1111111111111111,
              "#46039f"
             ],
             [
              0.2222222222222222,
              "#7201a8"
             ],
             [
              0.3333333333333333,
              "#9c179e"
             ],
             [
              0.4444444444444444,
              "#bd3786"
             ],
             [
              0.5555555555555556,
              "#d8576b"
             ],
             [
              0.6666666666666666,
              "#ed7953"
             ],
             [
              0.7777777777777778,
              "#fb9f3a"
             ],
             [
              0.8888888888888888,
              "#fdca26"
             ],
             [
              1,
              "#f0f921"
             ]
            ],
            "type": "histogram2dcontour"
           }
          ],
          "mesh3d": [
           {
            "colorbar": {
             "outlinewidth": 0,
             "ticks": ""
            },
            "type": "mesh3d"
           }
          ],
          "parcoords": [
           {
            "line": {
             "colorbar": {
              "outlinewidth": 0,
              "ticks": ""
             }
            },
            "type": "parcoords"
           }
          ],
          "pie": [
           {
            "automargin": true,
            "type": "pie"
           }
          ],
          "scatter": [
           {
            "fillpattern": {
             "fillmode": "overlay",
             "size": 10,
             "solidity": 0.2
            },
            "type": "scatter"
           }
          ],
          "scatter3d": [
           {
            "line": {
             "colorbar": {
              "outlinewidth": 0,
              "ticks": ""
             }
            },
            "marker": {
             "colorbar": {
              "outlinewidth": 0,
              "ticks": ""
             }
            },
            "type": "scatter3d"
           }
          ],
          "scattercarpet": [
           {
            "marker": {
             "colorbar": {
              "outlinewidth": 0,
              "ticks": ""
             }
            },
            "type": "scattercarpet"
           }
          ],
          "scattergeo": [
           {
            "marker": {
             "colorbar": {
              "outlinewidth": 0,
              "ticks": ""
             }
            },
            "type": "scattergeo"
           }
          ],
          "scattergl": [
           {
            "marker": {
             "colorbar": {
              "outlinewidth": 0,
              "ticks": ""
             }
            },
            "type": "scattergl"
           }
          ],
          "scattermap": [
           {
            "marker": {
             "colorbar": {
              "outlinewidth": 0,
              "ticks": ""
             }
            },
            "type": "scattermap"
           }
          ],
          "scattermapbox": [
           {
            "marker": {
             "colorbar": {
              "outlinewidth": 0,
              "ticks": ""
             }
            },
            "type": "scattermapbox"
           }
          ],
          "scatterpolar": [
           {
            "marker": {
             "colorbar": {
              "outlinewidth": 0,
              "ticks": ""
             }
            },
            "type": "scatterpolar"
           }
          ],
          "scatterpolargl": [
           {
            "marker": {
             "colorbar": {
              "outlinewidth": 0,
              "ticks": ""
             }
            },
            "type": "scatterpolargl"
           }
          ],
          "scatterternary": [
           {
            "marker": {
             "colorbar": {
              "outlinewidth": 0,
              "ticks": ""
             }
            },
            "type": "scatterternary"
           }
          ],
          "surface": [
           {
            "colorbar": {
             "outlinewidth": 0,
             "ticks": ""
            },
            "colorscale": [
             [
              0,
              "#0d0887"
             ],
             [
              0.1111111111111111,
              "#46039f"
             ],
             [
              0.2222222222222222,
              "#7201a8"
             ],
             [
              0.3333333333333333,
              "#9c179e"
             ],
             [
              0.4444444444444444,
              "#bd3786"
             ],
             [
              0.5555555555555556,
              "#d8576b"
             ],
             [
              0.6666666666666666,
              "#ed7953"
             ],
             [
              0.7777777777777778,
              "#fb9f3a"
             ],
             [
              0.8888888888888888,
              "#fdca26"
             ],
             [
              1,
              "#f0f921"
             ]
            ],
            "type": "surface"
           }
          ],
          "table": [
           {
            "cells": {
             "fill": {
              "color": "#EBF0F8"
             },
             "line": {
              "color": "white"
             }
            },
            "header": {
             "fill": {
              "color": "#C8D4E3"
             },
             "line": {
              "color": "white"
             }
            },
            "type": "table"
           }
          ]
         },
         "layout": {
          "annotationdefaults": {
           "arrowcolor": "#2a3f5f",
           "arrowhead": 0,
           "arrowwidth": 1
          },
          "autotypenumbers": "strict",
          "coloraxis": {
           "colorbar": {
            "outlinewidth": 0,
            "ticks": ""
           }
          },
          "colorscale": {
           "diverging": [
            [
             0,
             "#8e0152"
            ],
            [
             0.1,
             "#c51b7d"
            ],
            [
             0.2,
             "#de77ae"
            ],
            [
             0.3,
             "#f1b6da"
            ],
            [
             0.4,
             "#fde0ef"
            ],
            [
             0.5,
             "#f7f7f7"
            ],
            [
             0.6,
             "#e6f5d0"
            ],
            [
             0.7,
             "#b8e186"
            ],
            [
             0.8,
             "#7fbc41"
            ],
            [
             0.9,
             "#4d9221"
            ],
            [
             1,
             "#276419"
            ]
           ],
           "sequential": [
            [
             0,
             "#0d0887"
            ],
            [
             0.1111111111111111,
             "#46039f"
            ],
            [
             0.2222222222222222,
             "#7201a8"
            ],
            [
             0.3333333333333333,
             "#9c179e"
            ],
            [
             0.4444444444444444,
             "#bd3786"
            ],
            [
             0.5555555555555556,
             "#d8576b"
            ],
            [
             0.6666666666666666,
             "#ed7953"
            ],
            [
             0.7777777777777778,
             "#fb9f3a"
            ],
            [
             0.8888888888888888,
             "#fdca26"
            ],
            [
             1,
             "#f0f921"
            ]
           ],
           "sequentialminus": [
            [
             0,
             "#0d0887"
            ],
            [
             0.1111111111111111,
             "#46039f"
            ],
            [
             0.2222222222222222,
             "#7201a8"
            ],
            [
             0.3333333333333333,
             "#9c179e"
            ],
            [
             0.4444444444444444,
             "#bd3786"
            ],
            [
             0.5555555555555556,
             "#d8576b"
            ],
            [
             0.6666666666666666,
             "#ed7953"
            ],
            [
             0.7777777777777778,
             "#fb9f3a"
            ],
            [
             0.8888888888888888,
             "#fdca26"
            ],
            [
             1,
             "#f0f921"
            ]
           ]
          },
          "colorway": [
           "#636efa",
           "#EF553B",
           "#00cc96",
           "#ab63fa",
           "#FFA15A",
           "#19d3f3",
           "#FF6692",
           "#B6E880",
           "#FF97FF",
           "#FECB52"
          ],
          "font": {
           "color": "#2a3f5f"
          },
          "geo": {
           "bgcolor": "white",
           "lakecolor": "white",
           "landcolor": "#E5ECF6",
           "showlakes": true,
           "showland": true,
           "subunitcolor": "white"
          },
          "hoverlabel": {
           "align": "left"
          },
          "hovermode": "closest",
          "mapbox": {
           "style": "light"
          },
          "paper_bgcolor": "white",
          "plot_bgcolor": "#E5ECF6",
          "polar": {
           "angularaxis": {
            "gridcolor": "white",
            "linecolor": "white",
            "ticks": ""
           },
           "bgcolor": "#E5ECF6",
           "radialaxis": {
            "gridcolor": "white",
            "linecolor": "white",
            "ticks": ""
           }
          },
          "scene": {
           "xaxis": {
            "backgroundcolor": "#E5ECF6",
            "gridcolor": "white",
            "gridwidth": 2,
            "linecolor": "white",
            "showbackground": true,
            "ticks": "",
            "zerolinecolor": "white"
           },
           "yaxis": {
            "backgroundcolor": "#E5ECF6",
            "gridcolor": "white",
            "gridwidth": 2,
            "linecolor": "white",
            "showbackground": true,
            "ticks": "",
            "zerolinecolor": "white"
           },
           "zaxis": {
            "backgroundcolor": "#E5ECF6",
            "gridcolor": "white",
            "gridwidth": 2,
            "linecolor": "white",
            "showbackground": true,
            "ticks": "",
            "zerolinecolor": "white"
           }
          },
          "shapedefaults": {
           "line": {
            "color": "#2a3f5f"
           }
          },
          "ternary": {
           "aaxis": {
            "gridcolor": "white",
            "linecolor": "white",
            "ticks": ""
           },
           "baxis": {
            "gridcolor": "white",
            "linecolor": "white",
            "ticks": ""
           },
           "bgcolor": "#E5ECF6",
           "caxis": {
            "gridcolor": "white",
            "linecolor": "white",
            "ticks": ""
           }
          },
          "title": {
           "x": 0.05
          },
          "xaxis": {
           "automargin": true,
           "gridcolor": "white",
           "linecolor": "white",
           "ticks": "",
           "title": {
            "standoff": 15
           },
           "zerolinecolor": "white",
           "zerolinewidth": 2
          },
          "yaxis": {
           "automargin": true,
           "gridcolor": "white",
           "linecolor": "white",
           "ticks": "",
           "title": {
            "standoff": 15
           },
           "zerolinecolor": "white",
           "zerolinewidth": 2
          }
         }
        },
        "title": {},
        "xaxis": {
         "showgrid": false,
         "showticklabels": false,
         "zeroline": false
        },
        "yaxis": {
         "autorange": "reversed",
         "showgrid": true,
         "title": {
          "text": "Time (frames)"
         },
         "zeroline": true
        }
       }
      }
     },
     "metadata": {},
     "output_type": "display_data"
    }
   ],
   "source": [
    "lin0.plot(node_hover_props=[\"cell_ID\", \"relative_age\", \"rod_length\"])"
   ]
  },
  {
   "cell_type": "code",
   "execution_count": 27,
   "metadata": {},
   "outputs": [
    {
     "data": {
      "application/vnd.plotly.v1+json": {
       "config": {
        "plotlyServerURL": "https://plot.ly"
       },
       "data": [
        {
         "mode": "lines",
         "name": "Edges",
         "text": [],
         "type": "scatter",
         "x": [
          0.6875,
          0.1875,
          null,
          0.6875,
          1.1875,
          null,
          -2.8125,
          -3.3125,
          null,
          -2.8125,
          -2.3125,
          null,
          -0.8125,
          -1.3125,
          null,
          -0.8125,
          -0.3125,
          null,
          2.1875,
          1.6875,
          null,
          2.1875,
          2.6875,
          null,
          -4.8125,
          -4.3125,
          null,
          -4.8125,
          -5.3125,
          null,
          4.1875,
          3.6875,
          null,
          4.1875,
          4.6875,
          null,
          -6.8125,
          -6.3125,
          null,
          -6.8125,
          -7.3125,
          null,
          0,
          3.3125,
          null,
          0,
          -3.3125,
          null,
          -3.3125,
          -1.3125,
          null,
          -3.3125,
          -5.3125,
          null,
          3.3125,
          1.9375,
          null,
          3.3125,
          4.6875,
          null,
          -5.3125,
          -6.3125,
          null,
          -5.3125,
          -4.3125,
          null,
          1.9375,
          3.1875,
          null,
          1.9375,
          0.6875,
          null,
          -1.3125,
          -0.8125,
          null,
          -1.3125,
          -1.8125,
          null,
          4.6875,
          4.1875,
          null,
          4.6875,
          5.1875,
          null,
          3.1875,
          4.1875,
          null,
          3.1875,
          2.1875,
          null,
          -6.3125,
          -5.8125,
          null,
          -6.3125,
          -6.8125,
          null,
          -4.3125,
          -4.8125,
          null,
          -4.3125,
          -3.8125,
          null,
          -1.8125,
          -0.8125,
          null,
          -1.8125,
          -2.8125,
          null
         ],
         "y": [
          3,
          4,
          null,
          3,
          4,
          null,
          4,
          5,
          null,
          4,
          5,
          null,
          4,
          5,
          null,
          4,
          5,
          null,
          4,
          5,
          null,
          4,
          5,
          null,
          4,
          5,
          null,
          4,
          5,
          null,
          4,
          5,
          null,
          4,
          5,
          null,
          4,
          5,
          null,
          4,
          5,
          null,
          0,
          1,
          null,
          0,
          1,
          null,
          1,
          2,
          null,
          1,
          2,
          null,
          1,
          2,
          null,
          1,
          2,
          null,
          2,
          3,
          null,
          2,
          3,
          null,
          2,
          3,
          null,
          2,
          3,
          null,
          2,
          3,
          null,
          2,
          3,
          null,
          2,
          3,
          null,
          2,
          3,
          null,
          3,
          4,
          null,
          3,
          4,
          null,
          3,
          4,
          null,
          3,
          4,
          null,
          3,
          4,
          null,
          3,
          4,
          null,
          3,
          4,
          null,
          3,
          4,
          null
         ]
        },
        {
         "hoverinfo": "text",
         "hovertemplate": "%{text}",
         "mode": "markers",
         "name": "lineage_ID: 0",
         "text": [
          "cycle_ID: 9230<br>division_time: 7<br>cycle_completeness: True<br>",
          "cycle_ID: 9356<br>division_time: 3<br>cycle_completeness: True<br>",
          "cycle_ID: 9438<br>division_time: 4<br>cycle_completeness: True<br>",
          "cycle_ID: 9464<br>division_time: 6<br>cycle_completeness: True<br>",
          "cycle_ID: 9483<br>division_time: 4<br>cycle_completeness: True<br>",
          "cycle_ID: 9492<br>division_time: 6<br>cycle_completeness: True<br>",
          "cycle_ID: 9498<br>division_time: 4<br>cycle_completeness: True<br>",
          "cycle_ID: 8993<br>division_time: 0<br>cycle_completeness: False<br>",
          "cycle_ID: 9019<br>division_time: 6<br>cycle_completeness: True<br>",
          "cycle_ID: 9020<br>division_time: 6<br>cycle_completeness: True<br>",
          "cycle_ID: 9051<br>division_time: 5<br>cycle_completeness: True<br>",
          "cycle_ID: 9052<br>division_time: 5<br>cycle_completeness: True<br>",
          "cycle_ID: 9106<br>division_time: 6<br>cycle_completeness: True<br>",
          "cycle_ID: 9108<br>division_time: 6<br>cycle_completeness: True<br>",
          "cycle_ID: 9156<br>division_time: 4<br>cycle_completeness: True<br>",
          "cycle_ID: 9194<br>division_time: 6<br>cycle_completeness: True<br>",
          "cycle_ID: 9195<br>division_time: 6<br>cycle_completeness: True<br>",
          "cycle_ID: 9206<br>division_time: 5<br>cycle_completeness: True<br>",
          "cycle_ID: 9375<br>division_time: 1<br>cycle_completeness: False<br>",
          "cycle_ID: 9382<br>division_time: 10<br>cycle_completeness: False<br>",
          "cycle_ID: 9384<br>division_time: 10<br>cycle_completeness: False<br>",
          "cycle_ID: 9389<br>division_time: 1<br>cycle_completeness: False<br>",
          "cycle_ID: 9390<br>division_time: 4<br>cycle_completeness: False<br>",
          "cycle_ID: 9395<br>division_time: 10<br>cycle_completeness: False<br>",
          "cycle_ID: 9398<br>division_time: 1<br>cycle_completeness: False<br>",
          "cycle_ID: 9402<br>division_time: 1<br>cycle_completeness: False<br>",
          "cycle_ID: 9416<br>division_time: 1<br>cycle_completeness: False<br>",
          "cycle_ID: 9440<br>division_time: 2<br>cycle_completeness: False<br>",
          "cycle_ID: 9444<br>division_time: 2<br>cycle_completeness: False<br>",
          "cycle_ID: 9446<br>division_time: 4<br>cycle_completeness: False<br>",
          "cycle_ID: 9448<br>division_time: 1<br>cycle_completeness: False<br>",
          "cycle_ID: 9449<br>division_time: 1<br>cycle_completeness: False<br>",
          "cycle_ID: 9463<br>division_time: 5<br>cycle_completeness: False<br>",
          "cycle_ID: 9465<br>division_time: 1<br>cycle_completeness: False<br>",
          "cycle_ID: 9470<br>division_time: 5<br>cycle_completeness: False<br>",
          "cycle_ID: 9476<br>division_time: 1<br>cycle_completeness: False<br>",
          "cycle_ID: 9480<br>division_time: 1<br>cycle_completeness: False<br>"
         ],
         "type": "scatter",
         "x": [
          0.6875,
          -2.8125,
          -0.8125,
          2.1875,
          -4.8125,
          4.1875,
          -6.8125,
          0,
          -3.3125,
          3.3125,
          -5.3125,
          1.9375,
          -1.3125,
          4.6875,
          3.1875,
          -6.3125,
          -4.3125,
          -1.8125,
          1.6875,
          -0.8125,
          4.1875,
          -1.3125,
          0.1875,
          5.1875,
          2.6875,
          -5.3125,
          -7.3125,
          -3.3125,
          -2.3125,
          1.1875,
          -6.3125,
          -0.3125,
          -5.8125,
          -4.3125,
          -3.8125,
          3.6875,
          4.6875
         ],
         "y": [
          3,
          4,
          4,
          4,
          4,
          4,
          4,
          0,
          1,
          1,
          2,
          2,
          2,
          2,
          3,
          3,
          3,
          3,
          5,
          3,
          3,
          5,
          4,
          3,
          5,
          5,
          5,
          5,
          5,
          4,
          5,
          5,
          4,
          5,
          4,
          5,
          5
         ]
        }
       ],
       "layout": {
        "hovermode": "closest",
        "showlegend": true,
        "template": {
         "data": {
          "bar": [
           {
            "error_x": {
             "color": "#2a3f5f"
            },
            "error_y": {
             "color": "#2a3f5f"
            },
            "marker": {
             "line": {
              "color": "#E5ECF6",
              "width": 0.5
             },
             "pattern": {
              "fillmode": "overlay",
              "size": 10,
              "solidity": 0.2
             }
            },
            "type": "bar"
           }
          ],
          "barpolar": [
           {
            "marker": {
             "line": {
              "color": "#E5ECF6",
              "width": 0.5
             },
             "pattern": {
              "fillmode": "overlay",
              "size": 10,
              "solidity": 0.2
             }
            },
            "type": "barpolar"
           }
          ],
          "carpet": [
           {
            "aaxis": {
             "endlinecolor": "#2a3f5f",
             "gridcolor": "white",
             "linecolor": "white",
             "minorgridcolor": "white",
             "startlinecolor": "#2a3f5f"
            },
            "baxis": {
             "endlinecolor": "#2a3f5f",
             "gridcolor": "white",
             "linecolor": "white",
             "minorgridcolor": "white",
             "startlinecolor": "#2a3f5f"
            },
            "type": "carpet"
           }
          ],
          "choropleth": [
           {
            "colorbar": {
             "outlinewidth": 0,
             "ticks": ""
            },
            "type": "choropleth"
           }
          ],
          "contour": [
           {
            "colorbar": {
             "outlinewidth": 0,
             "ticks": ""
            },
            "colorscale": [
             [
              0,
              "#0d0887"
             ],
             [
              0.1111111111111111,
              "#46039f"
             ],
             [
              0.2222222222222222,
              "#7201a8"
             ],
             [
              0.3333333333333333,
              "#9c179e"
             ],
             [
              0.4444444444444444,
              "#bd3786"
             ],
             [
              0.5555555555555556,
              "#d8576b"
             ],
             [
              0.6666666666666666,
              "#ed7953"
             ],
             [
              0.7777777777777778,
              "#fb9f3a"
             ],
             [
              0.8888888888888888,
              "#fdca26"
             ],
             [
              1,
              "#f0f921"
             ]
            ],
            "type": "contour"
           }
          ],
          "contourcarpet": [
           {
            "colorbar": {
             "outlinewidth": 0,
             "ticks": ""
            },
            "type": "contourcarpet"
           }
          ],
          "heatmap": [
           {
            "colorbar": {
             "outlinewidth": 0,
             "ticks": ""
            },
            "colorscale": [
             [
              0,
              "#0d0887"
             ],
             [
              0.1111111111111111,
              "#46039f"
             ],
             [
              0.2222222222222222,
              "#7201a8"
             ],
             [
              0.3333333333333333,
              "#9c179e"
             ],
             [
              0.4444444444444444,
              "#bd3786"
             ],
             [
              0.5555555555555556,
              "#d8576b"
             ],
             [
              0.6666666666666666,
              "#ed7953"
             ],
             [
              0.7777777777777778,
              "#fb9f3a"
             ],
             [
              0.8888888888888888,
              "#fdca26"
             ],
             [
              1,
              "#f0f921"
             ]
            ],
            "type": "heatmap"
           }
          ],
          "histogram": [
           {
            "marker": {
             "pattern": {
              "fillmode": "overlay",
              "size": 10,
              "solidity": 0.2
             }
            },
            "type": "histogram"
           }
          ],
          "histogram2d": [
           {
            "colorbar": {
             "outlinewidth": 0,
             "ticks": ""
            },
            "colorscale": [
             [
              0,
              "#0d0887"
             ],
             [
              0.1111111111111111,
              "#46039f"
             ],
             [
              0.2222222222222222,
              "#7201a8"
             ],
             [
              0.3333333333333333,
              "#9c179e"
             ],
             [
              0.4444444444444444,
              "#bd3786"
             ],
             [
              0.5555555555555556,
              "#d8576b"
             ],
             [
              0.6666666666666666,
              "#ed7953"
             ],
             [
              0.7777777777777778,
              "#fb9f3a"
             ],
             [
              0.8888888888888888,
              "#fdca26"
             ],
             [
              1,
              "#f0f921"
             ]
            ],
            "type": "histogram2d"
           }
          ],
          "histogram2dcontour": [
           {
            "colorbar": {
             "outlinewidth": 0,
             "ticks": ""
            },
            "colorscale": [
             [
              0,
              "#0d0887"
             ],
             [
              0.1111111111111111,
              "#46039f"
             ],
             [
              0.2222222222222222,
              "#7201a8"
             ],
             [
              0.3333333333333333,
              "#9c179e"
             ],
             [
              0.4444444444444444,
              "#bd3786"
             ],
             [
              0.5555555555555556,
              "#d8576b"
             ],
             [
              0.6666666666666666,
              "#ed7953"
             ],
             [
              0.7777777777777778,
              "#fb9f3a"
             ],
             [
              0.8888888888888888,
              "#fdca26"
             ],
             [
              1,
              "#f0f921"
             ]
            ],
            "type": "histogram2dcontour"
           }
          ],
          "mesh3d": [
           {
            "colorbar": {
             "outlinewidth": 0,
             "ticks": ""
            },
            "type": "mesh3d"
           }
          ],
          "parcoords": [
           {
            "line": {
             "colorbar": {
              "outlinewidth": 0,
              "ticks": ""
             }
            },
            "type": "parcoords"
           }
          ],
          "pie": [
           {
            "automargin": true,
            "type": "pie"
           }
          ],
          "scatter": [
           {
            "fillpattern": {
             "fillmode": "overlay",
             "size": 10,
             "solidity": 0.2
            },
            "type": "scatter"
           }
          ],
          "scatter3d": [
           {
            "line": {
             "colorbar": {
              "outlinewidth": 0,
              "ticks": ""
             }
            },
            "marker": {
             "colorbar": {
              "outlinewidth": 0,
              "ticks": ""
             }
            },
            "type": "scatter3d"
           }
          ],
          "scattercarpet": [
           {
            "marker": {
             "colorbar": {
              "outlinewidth": 0,
              "ticks": ""
             }
            },
            "type": "scattercarpet"
           }
          ],
          "scattergeo": [
           {
            "marker": {
             "colorbar": {
              "outlinewidth": 0,
              "ticks": ""
             }
            },
            "type": "scattergeo"
           }
          ],
          "scattergl": [
           {
            "marker": {
             "colorbar": {
              "outlinewidth": 0,
              "ticks": ""
             }
            },
            "type": "scattergl"
           }
          ],
          "scattermap": [
           {
            "marker": {
             "colorbar": {
              "outlinewidth": 0,
              "ticks": ""
             }
            },
            "type": "scattermap"
           }
          ],
          "scattermapbox": [
           {
            "marker": {
             "colorbar": {
              "outlinewidth": 0,
              "ticks": ""
             }
            },
            "type": "scattermapbox"
           }
          ],
          "scatterpolar": [
           {
            "marker": {
             "colorbar": {
              "outlinewidth": 0,
              "ticks": ""
             }
            },
            "type": "scatterpolar"
           }
          ],
          "scatterpolargl": [
           {
            "marker": {
             "colorbar": {
              "outlinewidth": 0,
              "ticks": ""
             }
            },
            "type": "scatterpolargl"
           }
          ],
          "scatterternary": [
           {
            "marker": {
             "colorbar": {
              "outlinewidth": 0,
              "ticks": ""
             }
            },
            "type": "scatterternary"
           }
          ],
          "surface": [
           {
            "colorbar": {
             "outlinewidth": 0,
             "ticks": ""
            },
            "colorscale": [
             [
              0,
              "#0d0887"
             ],
             [
              0.1111111111111111,
              "#46039f"
             ],
             [
              0.2222222222222222,
              "#7201a8"
             ],
             [
              0.3333333333333333,
              "#9c179e"
             ],
             [
              0.4444444444444444,
              "#bd3786"
             ],
             [
              0.5555555555555556,
              "#d8576b"
             ],
             [
              0.6666666666666666,
              "#ed7953"
             ],
             [
              0.7777777777777778,
              "#fb9f3a"
             ],
             [
              0.8888888888888888,
              "#fdca26"
             ],
             [
              1,
              "#f0f921"
             ]
            ],
            "type": "surface"
           }
          ],
          "table": [
           {
            "cells": {
             "fill": {
              "color": "#EBF0F8"
             },
             "line": {
              "color": "white"
             }
            },
            "header": {
             "fill": {
              "color": "#C8D4E3"
             },
             "line": {
              "color": "white"
             }
            },
            "type": "table"
           }
          ]
         },
         "layout": {
          "annotationdefaults": {
           "arrowcolor": "#2a3f5f",
           "arrowhead": 0,
           "arrowwidth": 1
          },
          "autotypenumbers": "strict",
          "coloraxis": {
           "colorbar": {
            "outlinewidth": 0,
            "ticks": ""
           }
          },
          "colorscale": {
           "diverging": [
            [
             0,
             "#8e0152"
            ],
            [
             0.1,
             "#c51b7d"
            ],
            [
             0.2,
             "#de77ae"
            ],
            [
             0.3,
             "#f1b6da"
            ],
            [
             0.4,
             "#fde0ef"
            ],
            [
             0.5,
             "#f7f7f7"
            ],
            [
             0.6,
             "#e6f5d0"
            ],
            [
             0.7,
             "#b8e186"
            ],
            [
             0.8,
             "#7fbc41"
            ],
            [
             0.9,
             "#4d9221"
            ],
            [
             1,
             "#276419"
            ]
           ],
           "sequential": [
            [
             0,
             "#0d0887"
            ],
            [
             0.1111111111111111,
             "#46039f"
            ],
            [
             0.2222222222222222,
             "#7201a8"
            ],
            [
             0.3333333333333333,
             "#9c179e"
            ],
            [
             0.4444444444444444,
             "#bd3786"
            ],
            [
             0.5555555555555556,
             "#d8576b"
            ],
            [
             0.6666666666666666,
             "#ed7953"
            ],
            [
             0.7777777777777778,
             "#fb9f3a"
            ],
            [
             0.8888888888888888,
             "#fdca26"
            ],
            [
             1,
             "#f0f921"
            ]
           ],
           "sequentialminus": [
            [
             0,
             "#0d0887"
            ],
            [
             0.1111111111111111,
             "#46039f"
            ],
            [
             0.2222222222222222,
             "#7201a8"
            ],
            [
             0.3333333333333333,
             "#9c179e"
            ],
            [
             0.4444444444444444,
             "#bd3786"
            ],
            [
             0.5555555555555556,
             "#d8576b"
            ],
            [
             0.6666666666666666,
             "#ed7953"
            ],
            [
             0.7777777777777778,
             "#fb9f3a"
            ],
            [
             0.8888888888888888,
             "#fdca26"
            ],
            [
             1,
             "#f0f921"
            ]
           ]
          },
          "colorway": [
           "#636efa",
           "#EF553B",
           "#00cc96",
           "#ab63fa",
           "#FFA15A",
           "#19d3f3",
           "#FF6692",
           "#B6E880",
           "#FF97FF",
           "#FECB52"
          ],
          "font": {
           "color": "#2a3f5f"
          },
          "geo": {
           "bgcolor": "white",
           "lakecolor": "white",
           "landcolor": "#E5ECF6",
           "showlakes": true,
           "showland": true,
           "subunitcolor": "white"
          },
          "hoverlabel": {
           "align": "left"
          },
          "hovermode": "closest",
          "mapbox": {
           "style": "light"
          },
          "paper_bgcolor": "white",
          "plot_bgcolor": "#E5ECF6",
          "polar": {
           "angularaxis": {
            "gridcolor": "white",
            "linecolor": "white",
            "ticks": ""
           },
           "bgcolor": "#E5ECF6",
           "radialaxis": {
            "gridcolor": "white",
            "linecolor": "white",
            "ticks": ""
           }
          },
          "scene": {
           "xaxis": {
            "backgroundcolor": "#E5ECF6",
            "gridcolor": "white",
            "gridwidth": 2,
            "linecolor": "white",
            "showbackground": true,
            "ticks": "",
            "zerolinecolor": "white"
           },
           "yaxis": {
            "backgroundcolor": "#E5ECF6",
            "gridcolor": "white",
            "gridwidth": 2,
            "linecolor": "white",
            "showbackground": true,
            "ticks": "",
            "zerolinecolor": "white"
           },
           "zaxis": {
            "backgroundcolor": "#E5ECF6",
            "gridcolor": "white",
            "gridwidth": 2,
            "linecolor": "white",
            "showbackground": true,
            "ticks": "",
            "zerolinecolor": "white"
           }
          },
          "shapedefaults": {
           "line": {
            "color": "#2a3f5f"
           }
          },
          "ternary": {
           "aaxis": {
            "gridcolor": "white",
            "linecolor": "white",
            "ticks": ""
           },
           "baxis": {
            "gridcolor": "white",
            "linecolor": "white",
            "ticks": ""
           },
           "bgcolor": "#E5ECF6",
           "caxis": {
            "gridcolor": "white",
            "linecolor": "white",
            "ticks": ""
           }
          },
          "title": {
           "x": 0.05
          },
          "xaxis": {
           "automargin": true,
           "gridcolor": "white",
           "linecolor": "white",
           "ticks": "",
           "title": {
            "standoff": 15
           },
           "zerolinecolor": "white",
           "zerolinewidth": 2
          },
          "yaxis": {
           "automargin": true,
           "gridcolor": "white",
           "linecolor": "white",
           "ticks": "",
           "title": {
            "standoff": 15
           },
           "zerolinecolor": "white",
           "zerolinewidth": 2
          }
         }
        },
        "title": {},
        "xaxis": {
         "showgrid": false,
         "showticklabels": false,
         "zeroline": false
        },
        "yaxis": {
         "autorange": "reversed",
         "showgrid": true,
         "title": {
          "text": "Cell cycle level"
         },
         "zeroline": true
        }
       }
      }
     },
     "metadata": {},
     "output_type": "display_data"
    }
   ],
   "source": [
    "model.get_cycle_lineage_from_ID(0).plot(\n",
    "    node_hover_props=[\"cycle_ID\", \"division_time\", \"cycle_completeness\"]\n",
    ")"
   ]
  },
  {
   "cell_type": "markdown",
   "metadata": {},
   "source": [
    "### When is an update required?"
   ]
  },
  {
   "cell_type": "markdown",
   "metadata": {},
   "source": [
    "An update is required in 2 different cases:\n",
    "- When you have added one or more features to a model. In that case, the added feature(s) will have no associated values and the update is needed to compute them. All cells, cycles (if cycle data is present), links and lineages will be affected by the update.\n",
    "- When the structure of a lineage has been modified, e.g. removal of a cell or correction of an inacurrate division. In that case, the features already have values but they may be incorrect. Depending on the features reach and the impacted elements of the model, only a subset of cells, cycles (if cycle data is present), links and lineages will be affected by the update."
   ]
  },
  {
   "cell_type": "markdown",
   "metadata": {},
   "source": [
    "You can check if an update is required with:"
   ]
  },
  {
   "cell_type": "code",
   "execution_count": 28,
   "metadata": {},
   "outputs": [
    {
     "data": {
      "text/plain": [
       "False"
      ]
     },
     "execution_count": 28,
     "metadata": {},
     "output_type": "execute_result"
    }
   ],
   "source": [
    "model.is_update_required()"
   ]
  },
  {
   "cell_type": "markdown",
   "metadata": {},
   "source": [
    "However, there is one case not taken into account by `update()` and `is_update_required()`: **when the value of a feature is manually modified on one or more elements**, which in turns should impact the value of another feature.\n",
    "A classic example is when the shape of a specific cell is modified by the user. Since cell length depends on the shape of the cell, length for this specific cell becomes incorrect. In that case, you can ask the model to recompute just the cell length:  \n",
    "**NOT IMPLEMENTED YET**"
   ]
  },
  {
   "cell_type": "code",
   "execution_count": 29,
   "metadata": {},
   "outputs": [],
   "source": [
    "# model.recompute_feature(\"rod_length\")  # NOT IMPLEMENTED YET"
   ]
  },
  {
   "cell_type": "markdown",
   "metadata": {},
   "source": [
    "## Removing features from a model"
   ]
  },
  {
   "cell_type": "markdown",
   "metadata": {},
   "source": [
    "Removing a feature both remove all the feature values stored in the lineages and unregister the feature itself from the model. It is a non-reversible operation. If you want to get the feature back, the only way is to re-add it to the model, then update the model to recompute all the values.\n",
    "\n",
    "All types of features can be removed, even if it breaks the model (like removing `cell_ID` or `frame`). Mandatory features will be protected in a later update to avoid breaking models.\n",
    "\n",
    "For now, features must be removed one by one and by specifying which type of object they applies to:"
   ]
  },
  {
   "cell_type": "code",
   "execution_count": 30,
   "metadata": {},
   "outputs": [],
   "source": [
    "model.remove_property(\"absolute_age\")\n",
    "model.remove_property(\"DISPLACEMENT\")\n",
    "model.remove_property(\"LONGEST_GAP\")"
   ]
  },
  {
   "cell_type": "markdown",
   "metadata": {},
   "source": [
    "After removal, trying to access the feature values will throw an error:"
   ]
  },
  {
   "cell_type": "code",
   "execution_count": 31,
   "metadata": {
    "tags": [
     "raises-exception"
    ]
   },
   "outputs": [
    {
     "ename": "KeyError",
     "evalue": "'absolute_age'",
     "output_type": "error",
     "traceback": [
      "\u001b[31m---------------------------------------------------------------------------\u001b[39m",
      "\u001b[31mKeyError\u001b[39m                                  Traceback (most recent call last)",
      "\u001b[36mCell\u001b[39m\u001b[36m \u001b[39m\u001b[32mIn[31]\u001b[39m\u001b[32m, line 1\u001b[39m\n\u001b[32m----> \u001b[39m\u001b[32m1\u001b[39m \u001b[43mlin0\u001b[49m\u001b[43m.\u001b[49m\u001b[43mnodes\u001b[49m\u001b[43m[\u001b[49m\u001b[32;43m9013\u001b[39;49m\u001b[43m]\u001b[49m\u001b[43m[\u001b[49m\u001b[33;43m\"\u001b[39;49m\u001b[33;43mabsolute_age\u001b[39;49m\u001b[33;43m\"\u001b[39;49m\u001b[43m]\u001b[49m\n",
      "\u001b[31mKeyError\u001b[39m: 'absolute_age'"
     ]
    }
   ],
   "source": [
    "lin0.nodes[9013][\"absolute_age\"]"
   ]
  }
 ],
 "metadata": {
  "kernelspec": {
   "display_name": "pycellin_dev",
   "language": "python",
   "name": "python3"
  },
  "language_info": {
   "codemirror_mode": {
    "name": "ipython",
    "version": 3
   },
   "file_extension": ".py",
   "mimetype": "text/x-python",
   "name": "python",
   "nbconvert_exporter": "python",
   "pygments_lexer": "ipython3",
   "version": "3.11.13"
  }
 },
 "nbformat": 4,
 "nbformat_minor": 2
}
