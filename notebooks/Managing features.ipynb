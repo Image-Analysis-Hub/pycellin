{
 "cells": [
  {
   "cell_type": "markdown",
   "metadata": {},
   "source": [
    "# Managing features"
   ]
  },
  {
   "cell_type": "code",
   "execution_count": null,
   "metadata": {},
   "outputs": [],
   "source": [
    "from pycellin.io.trackmate import load_TrackMate_XML"
   ]
  },
  {
   "cell_type": "code",
   "execution_count": null,
   "metadata": {},
   "outputs": [],
   "source": [
    "# Path to the TrackMate XML file.\n",
    "xml_path = \"../sample_data/FakeTracks.xml\"\n",
    "\n",
    "# Parse the XML file and create a Pycellin Model object\n",
    "# that contains all the data from the XML file.\n",
    "model = load_TrackMate_XML(xml_path)\n",
    "\n",
    "# We can display basic information about this model.\n",
    "print(model)\n",
    "print(f\"This model contains {model.data.number_of_lineages()} lineages:\")\n",
    "for lin_ID, lineage in model.data.cell_data.items():\n",
    "    print(f\"- ID {lin_ID}: {lineage}\")"
   ]
  },
  {
   "cell_type": "markdown",
   "metadata": {},
   "source": [
    "## Imported features\n",
    "\n",
    "When the data was created wih an external tool, e.g. TrackMate.\n",
    "Cannot be recomputed."
   ]
  },
  {
   "cell_type": "markdown",
   "metadata": {},
   "source": [
    "## Pycellin features"
   ]
  },
  {
   "cell_type": "markdown",
   "metadata": {},
   "source": [
    "## Custom features"
   ]
  },
  {
   "cell_type": "markdown",
   "metadata": {},
   "source": [
    "### How to choose which calculator to use?\n",
    "\n",
    "Tree diagram of FeatureCalculator classes"
   ]
  }
 ],
 "metadata": {
  "kernelspec": {
   "display_name": "pycellin_iah",
   "language": "python",
   "name": "python3"
  },
  "language_info": {
   "name": "python",
   "version": "3.11.7"
  }
 },
 "nbformat": 4,
 "nbformat_minor": 2
}
