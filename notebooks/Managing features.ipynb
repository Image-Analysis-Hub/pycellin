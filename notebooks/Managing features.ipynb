{
 "cells": [
  {
   "cell_type": "markdown",
   "metadata": {},
   "source": [
    "# Managing features"
   ]
  },
  {
   "cell_type": "code",
   "execution_count": 1,
   "metadata": {},
   "outputs": [
    {
     "name": "stderr",
     "output_type": "stream",
     "text": [
      "e:\\pasteur\\code\\pycellin\\pycellin\\pycellin\\graph\\features\\tracking.py:4: SyntaxWarning: invalid escape sequence '\\ '\n",
      "  \"\"\"\n"
     ]
    }
   ],
   "source": [
    "from pycellin.io.trackmate import load_TrackMate_XML"
   ]
  },
  {
   "cell_type": "code",
   "execution_count": 2,
   "metadata": {},
   "outputs": [
    {
     "name": "stdout",
     "output_type": "stream",
     "text": [
      "Model with 2 lineages.\n",
      "This model contains 2 lineages:\n",
      "- ID 0: CellLineage named 'Track_47' with 74 nodes and 73 edges\n",
      "- ID 4: CellLineage named 'Track_51' with 10 nodes and 9 edges\n"
     ]
    }
   ],
   "source": [
    "# Path to the TrackMate XML file.\n",
    "xml_path = \"../sample_data/FakeTracks.xml\"\n",
    "\n",
    "# Parse the XML file and create a Pycellin Model object\n",
    "# that contains all the data from the XML file.\n",
    "model = load_TrackMate_XML(xml_path)\n",
    "\n",
    "# We can display basic information about this model.\n",
    "print(model)\n",
    "print(f\"This model contains {model.data.number_of_lineages()} lineages:\")\n",
    "for lin_ID, lineage in model.data.cell_data.items():\n",
    "    print(f\"- ID {lin_ID}: {lineage}\")"
   ]
  },
  {
   "cell_type": "markdown",
   "metadata": {},
   "source": [
    "## The different types of features"
   ]
  },
  {
   "cell_type": "markdown",
   "metadata": {},
   "source": [
    "### Imported features\n",
    "\n",
    "When the data was created wih an external tool, e.g. TrackMate.  \n",
    "Cannot be recomputed."
   ]
  },
  {
   "cell_type": "markdown",
   "metadata": {},
   "source": [
    "### Pycellin features\n",
    "\n",
    "Predefined features that can be added to the model as needed:\n",
    "- morphological features, e.g. bacterial length\n",
    "- tracking related features, e.g. division time"
   ]
  },
  {
   "cell_type": "markdown",
   "metadata": {},
   "source": [
    "### Custom features\n",
    "\n",
    "More advanced. See dedicated notebook."
   ]
  },
  {
   "cell_type": "markdown",
   "metadata": {},
   "source": [
    "## Adding features to a model"
   ]
  },
  {
   "cell_type": "markdown",
   "metadata": {},
   "source": []
  },
  {
   "cell_type": "markdown",
   "metadata": {},
   "source": [
    "## Computing or recomputing features"
   ]
  },
  {
   "cell_type": "markdown",
   "metadata": {},
   "source": [
    "## Removing features from a model"
   ]
  }
 ],
 "metadata": {
  "kernelspec": {
   "display_name": "pycellin_iah",
   "language": "python",
   "name": "python3"
  },
  "language_info": {
   "codemirror_mode": {
    "name": "ipython",
    "version": 3
   },
   "file_extension": ".py",
   "mimetype": "text/x-python",
   "name": "python",
   "nbconvert_exporter": "python",
   "pygments_lexer": "ipython3",
   "version": "3.12.2"
  }
 },
 "nbformat": 4,
 "nbformat_minor": 2
}
