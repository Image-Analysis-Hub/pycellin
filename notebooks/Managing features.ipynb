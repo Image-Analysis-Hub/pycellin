{
 "cells": [
  {
   "cell_type": "markdown",
   "metadata": {},
   "source": [
    "# Managing features"
   ]
  },
  {
   "cell_type": "markdown",
   "metadata": {},
   "source": [
    "*Blabla what is covered in this notebook*"
   ]
  },
  {
   "cell_type": "code",
   "execution_count": 1,
   "metadata": {},
   "outputs": [],
   "source": [
    "import pycellin as pc"
   ]
  },
  {
   "cell_type": "markdown",
   "metadata": {},
   "source": [
    "*describe example, display movie*"
   ]
  },
  {
   "cell_type": "code",
   "execution_count": 2,
   "metadata": {},
   "outputs": [
    {
     "name": "stdout",
     "output_type": "stream",
     "text": [
      "Model named 'Ecoli_growth_on_agar_pad' with 3 lineages, built from TrackMate.\n",
      "This model contains 3 lineages:\n",
      "- ID 0: CellLineage of ID 0 named Track_0 with 152 cells and 151 links.\n",
      "- ID 1: CellLineage of ID 1 named Track_1 with 189 cells and 188 links.\n",
      "- ID 2: CellLineage of ID 2 named Track_2 with 185 cells and 184 links.\n"
     ]
    }
   ],
   "source": [
    "# Path to the TrackMate XML file.\n",
    "xml_path = \"../sample_data/Ecoli_growth_on_agar_pad.xml\"\n",
    "\n",
    "# Parse the XML file and create a Pycellin Model object\n",
    "# that contains all the data from the XML file.\n",
    "model = pc.load_TrackMate_XML(xml_path)\n",
    "\n",
    "# We can display basic information about this model.\n",
    "print(model)\n",
    "print(f\"This model contains {model.data.number_of_lineages()} lineages:\")\n",
    "for lin_ID, lineage in model.data.cell_data.items():\n",
    "    print(f\"- ID {lin_ID}: {lineage}\")"
   ]
  },
  {
   "cell_type": "markdown",
   "metadata": {},
   "source": [
    "## What is a feature in Pycellin?\n",
    "\n",
    "Information that can be stored into a lineage and that is related to part or all of the lineage (e.g. shape of a cell, velocity of a cell, number of divisions in a lineage...)  \n",
    "*add schematic with the different types of features and a few examples depending on where the features are stored?*  \n",
    "*link to the notebook about Pycellin data structure?*\n",
    "\n",
    "Can be automatically computed from existing data or added manually.\n",
    "\n",
    "Different type of features depending on where they come from."
   ]
  },
  {
   "cell_type": "markdown",
   "metadata": {},
   "source": [
    "### Imported features\n",
    "\n",
    "When the data was created with an external tool, e.g. TrackMate.  \n",
    "Cannot be recomputed, added automatically when importing data."
   ]
  },
  {
   "cell_type": "markdown",
   "metadata": {},
   "source": [
    "### Pycellin features\n",
    "\n",
    "Predefined features that can be added to the model as needed:\n",
    "- morphological features, e.g. bacterial length\n",
    "- tracking related features, e.g. division time"
   ]
  },
  {
   "cell_type": "markdown",
   "metadata": {},
   "source": [
    "### Custom features\n",
    "\n",
    "User-defined features, usually less generic and more tailored to a specific experiment or data type.   \n",
    "More advanced, requires more Python knowledge. See dedicated notebook."
   ]
  },
  {
   "cell_type": "markdown",
   "metadata": {},
   "source": [
    "## Adding features to a model"
   ]
  },
  {
   "cell_type": "markdown",
   "metadata": {},
   "source": [
    "When you add a feature to a model, it lets the model know which features are expected on the lineages.\n",
    "It is also a way for the user to have a clear description of the features (provenance, units, the type of data it applies to...). However, features do not have values at this stage: the features are just *declared*, not *computed*. In the model, the information about the added features are stored in the FeatureDeclaration of the model:\n"
   ]
  },
  {
   "cell_type": "code",
   "execution_count": 3,
   "metadata": {},
   "outputs": [
    {
     "name": "stdout",
     "output_type": "stream",
     "text": [
      "List of the name of all features already registered in the model:\n",
      "Node features: QUALITY, POSITION_T, RADIUS, VISIBILITY, MANUAL_SPOT_COLOR, MEAN_INTENSITY_CH1, MEDIAN_INTENSITY_CH1, MIN_INTENSITY_CH1, MAX_INTENSITY_CH1, TOTAL_INTENSITY_CH1, STD_INTENSITY_CH1, MEAN_INTENSITY_CH2, MEDIAN_INTENSITY_CH2, MIN_INTENSITY_CH2, MAX_INTENSITY_CH2, TOTAL_INTENSITY_CH2, STD_INTENSITY_CH2, CONTRAST_CH1, SNR_CH1, CONTRAST_CH2, SNR_CH2, ELLIPSE_X0, ELLIPSE_Y0, ELLIPSE_MAJOR, ELLIPSE_MINOR, ELLIPSE_THETA, ELLIPSE_ASPECTRATIO, AREA, PERIMETER, CIRCULARITY, SOLIDITY, SHAPE_INDEX, cell_name, cell_ID, cell_location, frame, ROI_coords\n",
      "Edge features: SPOT_SOURCE_ID, SPOT_TARGET_ID, LINK_COST, DIRECTIONAL_CHANGE_RATE, SPEED, DISPLACEMENT, EDGE_TIME, MANUAL_EDGE_COLOR, link_location\n",
      "Lineage features: TRACK_INDEX, DIVISION_TIME_MEAN, DIVISION_TIME_STD, NUMBER_SPOTS, NUMBER_GAPS, NUMBER_SPLITS, NUMBER_MERGES, NUMBER_COMPLEX, LONGEST_GAP, TRACK_DURATION, TRACK_START, TRACK_STOP, TRACK_DISPLACEMENT, TRACK_MEAN_SPEED, TRACK_MAX_SPEED, TRACK_MIN_SPEED, TRACK_MEDIAN_SPEED, TRACK_STD_SPEED, TRACK_MEAN_QUALITY, TOTAL_DISTANCE_TRAVELED, MAX_DISTANCE_TRAVELED, CONFINEMENT_RATIO, MEAN_STRAIGHT_LINE_SPEED, LINEARITY_OF_FORWARD_PROGRESSION, MEAN_DIRECTIONAL_CHANGE_RATE, lineage_name, lineage_ID, FilteredTrack, lineage_location\n",
      "\n",
      "Detailed information on each node feature:\n",
      "Feature(name='QUALITY', description='Quality', feat_type='node', lin_type='CellLineage', provenance='TrackMate', data_type='float', unit='none')\n",
      "Feature(name='POSITION_T', description='T', feat_type='node', lin_type='CellLineage', provenance='TrackMate', data_type='float', unit='min')\n",
      "Feature(name='RADIUS', description='Radius', feat_type='node', lin_type='CellLineage', provenance='TrackMate', data_type='float', unit='µm')\n",
      "Feature(name='VISIBILITY', description='Visibility', feat_type='node', lin_type='CellLineage', provenance='TrackMate', data_type='int', unit='none')\n",
      "Feature(name='MANUAL_SPOT_COLOR', description='Manual spot color', feat_type='node', lin_type='CellLineage', provenance='TrackMate', data_type='int', unit='none')\n",
      "Feature(name='MEAN_INTENSITY_CH1', description='Mean intensity ch1', feat_type='node', lin_type='CellLineage', provenance='TrackMate', data_type='float', unit='none')\n",
      "Feature(name='MEDIAN_INTENSITY_CH1', description='Median intensity ch1', feat_type='node', lin_type='CellLineage', provenance='TrackMate', data_type='float', unit='none')\n",
      "Feature(name='MIN_INTENSITY_CH1', description='Min intensity ch1', feat_type='node', lin_type='CellLineage', provenance='TrackMate', data_type='float', unit='none')\n",
      "Feature(name='MAX_INTENSITY_CH1', description='Max intensity ch1', feat_type='node', lin_type='CellLineage', provenance='TrackMate', data_type='float', unit='none')\n",
      "Feature(name='TOTAL_INTENSITY_CH1', description='Sum intensity ch1', feat_type='node', lin_type='CellLineage', provenance='TrackMate', data_type='float', unit='none')\n",
      "Feature(name='STD_INTENSITY_CH1', description='Std intensity ch1', feat_type='node', lin_type='CellLineage', provenance='TrackMate', data_type='float', unit='none')\n",
      "Feature(name='MEAN_INTENSITY_CH2', description='Mean intensity ch2', feat_type='node', lin_type='CellLineage', provenance='TrackMate', data_type='float', unit='none')\n",
      "Feature(name='MEDIAN_INTENSITY_CH2', description='Median intensity ch2', feat_type='node', lin_type='CellLineage', provenance='TrackMate', data_type='float', unit='none')\n",
      "Feature(name='MIN_INTENSITY_CH2', description='Min intensity ch2', feat_type='node', lin_type='CellLineage', provenance='TrackMate', data_type='float', unit='none')\n",
      "Feature(name='MAX_INTENSITY_CH2', description='Max intensity ch2', feat_type='node', lin_type='CellLineage', provenance='TrackMate', data_type='float', unit='none')\n",
      "Feature(name='TOTAL_INTENSITY_CH2', description='Sum intensity ch2', feat_type='node', lin_type='CellLineage', provenance='TrackMate', data_type='float', unit='none')\n",
      "Feature(name='STD_INTENSITY_CH2', description='Std intensity ch2', feat_type='node', lin_type='CellLineage', provenance='TrackMate', data_type='float', unit='none')\n",
      "Feature(name='CONTRAST_CH1', description='Contrast ch1', feat_type='node', lin_type='CellLineage', provenance='TrackMate', data_type='float', unit='none')\n",
      "Feature(name='SNR_CH1', description='Signal/Noise ratio ch1', feat_type='node', lin_type='CellLineage', provenance='TrackMate', data_type='float', unit='none')\n",
      "Feature(name='CONTRAST_CH2', description='Contrast ch2', feat_type='node', lin_type='CellLineage', provenance='TrackMate', data_type='float', unit='none')\n",
      "Feature(name='SNR_CH2', description='Signal/Noise ratio ch2', feat_type='node', lin_type='CellLineage', provenance='TrackMate', data_type='float', unit='none')\n",
      "Feature(name='ELLIPSE_X0', description='Ellipse center x0', feat_type='node', lin_type='CellLineage', provenance='TrackMate', data_type='float', unit='µm')\n",
      "Feature(name='ELLIPSE_Y0', description='Ellipse center y0', feat_type='node', lin_type='CellLineage', provenance='TrackMate', data_type='float', unit='µm')\n",
      "Feature(name='ELLIPSE_MAJOR', description='Ellipse long axis', feat_type='node', lin_type='CellLineage', provenance='TrackMate', data_type='float', unit='µm')\n",
      "Feature(name='ELLIPSE_MINOR', description='Ellipse short axis', feat_type='node', lin_type='CellLineage', provenance='TrackMate', data_type='float', unit='µm')\n",
      "Feature(name='ELLIPSE_THETA', description='Ellipse angle', feat_type='node', lin_type='CellLineage', provenance='TrackMate', data_type='float', unit='rad')\n",
      "Feature(name='ELLIPSE_ASPECTRATIO', description='Ellipse aspect ratio', feat_type='node', lin_type='CellLineage', provenance='TrackMate', data_type='float', unit='none')\n",
      "Feature(name='AREA', description='Area', feat_type='node', lin_type='CellLineage', provenance='TrackMate', data_type='float', unit='µm^2')\n",
      "Feature(name='PERIMETER', description='Perimeter', feat_type='node', lin_type='CellLineage', provenance='TrackMate', data_type='float', unit='µm')\n",
      "Feature(name='CIRCULARITY', description='Circularity', feat_type='node', lin_type='CellLineage', provenance='TrackMate', data_type='float', unit='none')\n",
      "Feature(name='SOLIDITY', description='Solidity', feat_type='node', lin_type='CellLineage', provenance='TrackMate', data_type='float', unit='none')\n",
      "Feature(name='SHAPE_INDEX', description='Shape index', feat_type='node', lin_type='CellLineage', provenance='TrackMate', data_type='float', unit='none')\n",
      "Feature(name='cell_name', description='Name of the spot', feat_type='node', lin_type='CellLineage', provenance='TrackMate', data_type='string', unit='none')\n",
      "Feature(name='SPOT_SOURCE_ID', description='Source spot ID', feat_type='edge', lin_type='CellLineage', provenance='TrackMate', data_type='int', unit='none')\n",
      "Feature(name='SPOT_TARGET_ID', description='Target spot ID', feat_type='edge', lin_type='CellLineage', provenance='TrackMate', data_type='int', unit='none')\n",
      "Feature(name='LINK_COST', description='Edge cost', feat_type='edge', lin_type='CellLineage', provenance='TrackMate', data_type='float', unit='none')\n",
      "Feature(name='DIRECTIONAL_CHANGE_RATE', description='Directional change rate', feat_type='edge', lin_type='CellLineage', provenance='TrackMate', data_type='float', unit='rad/min')\n",
      "Feature(name='SPEED', description='Speed', feat_type='edge', lin_type='CellLineage', provenance='TrackMate', data_type='float', unit='µm/min')\n",
      "Feature(name='DISPLACEMENT', description='Displacement', feat_type='edge', lin_type='CellLineage', provenance='TrackMate', data_type='float', unit='µm')\n",
      "Feature(name='EDGE_TIME', description='Edge time', feat_type='edge', lin_type='CellLineage', provenance='TrackMate', data_type='float', unit='min')\n",
      "Feature(name='MANUAL_EDGE_COLOR', description='Manual edge color', feat_type='edge', lin_type='CellLineage', provenance='TrackMate', data_type='int', unit='none')\n",
      "Feature(name='TRACK_INDEX', description='Track index', feat_type='lineage', lin_type='CellLineage', provenance='TrackMate', data_type='int', unit='none')\n",
      "Feature(name='DIVISION_TIME_MEAN', description='Mean cell division time', feat_type='lineage', lin_type='CellLineage', provenance='TrackMate', data_type='float', unit='min')\n",
      "Feature(name='DIVISION_TIME_STD', description='Std cell division time', feat_type='lineage', lin_type='CellLineage', provenance='TrackMate', data_type='float', unit='min')\n",
      "Feature(name='NUMBER_SPOTS', description='Number of spots in track', feat_type='lineage', lin_type='CellLineage', provenance='TrackMate', data_type='int', unit='none')\n",
      "Feature(name='NUMBER_GAPS', description='Number of gaps', feat_type='lineage', lin_type='CellLineage', provenance='TrackMate', data_type='int', unit='none')\n",
      "Feature(name='NUMBER_SPLITS', description='Number of split events', feat_type='lineage', lin_type='CellLineage', provenance='TrackMate', data_type='int', unit='none')\n",
      "Feature(name='NUMBER_MERGES', description='Number of merge events', feat_type='lineage', lin_type='CellLineage', provenance='TrackMate', data_type='int', unit='none')\n",
      "Feature(name='NUMBER_COMPLEX', description='Number of complex points', feat_type='lineage', lin_type='CellLineage', provenance='TrackMate', data_type='int', unit='none')\n",
      "Feature(name='LONGEST_GAP', description='Longest gap', feat_type='lineage', lin_type='CellLineage', provenance='TrackMate', data_type='int', unit='none')\n",
      "Feature(name='TRACK_DURATION', description='Track duration', feat_type='lineage', lin_type='CellLineage', provenance='TrackMate', data_type='float', unit='min')\n",
      "Feature(name='TRACK_START', description='Track start', feat_type='lineage', lin_type='CellLineage', provenance='TrackMate', data_type='float', unit='min')\n",
      "Feature(name='TRACK_STOP', description='Track stop', feat_type='lineage', lin_type='CellLineage', provenance='TrackMate', data_type='float', unit='min')\n",
      "Feature(name='TRACK_DISPLACEMENT', description='Track displacement', feat_type='lineage', lin_type='CellLineage', provenance='TrackMate', data_type='float', unit='µm')\n",
      "Feature(name='TRACK_MEAN_SPEED', description='Track mean speed', feat_type='lineage', lin_type='CellLineage', provenance='TrackMate', data_type='float', unit='µm/min')\n",
      "Feature(name='TRACK_MAX_SPEED', description='Track max speed', feat_type='lineage', lin_type='CellLineage', provenance='TrackMate', data_type='float', unit='µm/min')\n",
      "Feature(name='TRACK_MIN_SPEED', description='Track min speed', feat_type='lineage', lin_type='CellLineage', provenance='TrackMate', data_type='float', unit='µm/min')\n",
      "Feature(name='TRACK_MEDIAN_SPEED', description='Track median speed', feat_type='lineage', lin_type='CellLineage', provenance='TrackMate', data_type='float', unit='µm/min')\n",
      "Feature(name='TRACK_STD_SPEED', description='Track std speed', feat_type='lineage', lin_type='CellLineage', provenance='TrackMate', data_type='float', unit='µm/min')\n",
      "Feature(name='TRACK_MEAN_QUALITY', description='Track mean quality', feat_type='lineage', lin_type='CellLineage', provenance='TrackMate', data_type='float', unit='none')\n",
      "Feature(name='TOTAL_DISTANCE_TRAVELED', description='Total distance traveled', feat_type='lineage', lin_type='CellLineage', provenance='TrackMate', data_type='float', unit='µm')\n",
      "Feature(name='MAX_DISTANCE_TRAVELED', description='Max distance traveled', feat_type='lineage', lin_type='CellLineage', provenance='TrackMate', data_type='float', unit='µm')\n",
      "Feature(name='CONFINEMENT_RATIO', description='Confinement ratio', feat_type='lineage', lin_type='CellLineage', provenance='TrackMate', data_type='float', unit='none')\n",
      "Feature(name='MEAN_STRAIGHT_LINE_SPEED', description='Mean straight line speed', feat_type='lineage', lin_type='CellLineage', provenance='TrackMate', data_type='float', unit='µm/min')\n",
      "Feature(name='LINEARITY_OF_FORWARD_PROGRESSION', description='Linearity of forward progression', feat_type='lineage', lin_type='CellLineage', provenance='TrackMate', data_type='float', unit='none')\n",
      "Feature(name='MEAN_DIRECTIONAL_CHANGE_RATE', description='Mean directional change rate', feat_type='lineage', lin_type='CellLineage', provenance='TrackMate', data_type='float', unit='rad/min')\n",
      "Feature(name='lineage_name', description='Name of the track', feat_type='lineage', lin_type='CellLineage', provenance='TrackMate', data_type='string', unit='none')\n",
      "Feature(name='lineage_ID', description='Unique identifier of the lineage', feat_type='lineage', lin_type='CellLineage', provenance='TrackMate', data_type='int', unit='none')\n",
      "Feature(name='cell_ID', description='Unique identifier of the cell', feat_type='node', lin_type='CellLineage', provenance='TrackMate', data_type='int', unit='none')\n",
      "Feature(name='cell_location', description='Location of the cell', feat_type='node', lin_type='CellLineage', provenance='TrackMate', data_type='float', unit='µm')\n",
      "Feature(name='frame', description='Frame', feat_type='node', lin_type='CellLineage', provenance='TrackMate', data_type='int', unit='none')\n",
      "Feature(name='ROI_coords', description='List of coordinates of the region of interest', feat_type='node', lin_type='CellLineage', provenance='TrackMate', data_type='float', unit='µm')\n",
      "Feature(name='link_location', description='Location of the edge (i.e. mean location of its nodes)', feat_type='edge', lin_type='CellLineage', provenance='TrackMate', data_type='float', unit='µm')\n",
      "Feature(name='FilteredTrack', description='True if the track was not filtered out in TrackMate', feat_type='lineage', lin_type='CellLineage', provenance='TrackMate', data_type='int', unit='none')\n",
      "Feature(name='lineage_location', description='Location of the lineage (i.e. mean location of its nodes)', feat_type='lineage', lin_type='CellLineage', provenance='TrackMate', data_type='float', unit='µm')\n"
     ]
    }
   ],
   "source": [
    "print(\"List of the name of all features already registered in the model:\")\n",
    "print(model.feat_declaration)\n",
    "print()\n",
    "\n",
    "print(\"Detailed information on each node feature:\")\n",
    "for feat_info in model.feat_declaration.feats_dict.values():\n",
    "    print(feat_info)"
   ]
  },
  {
   "cell_type": "markdown",
   "metadata": {},
   "source": [
    "Here you can see that there are already a lot of features declared in the model. These features were imported from TrackMate when the XML file was loaded in Pycellin (see code in the second cell, at the top the notebook). Depending on the goal of your analysis, you may want to add features more relevant to your study, like growth rate or division rate of your cells.\n",
    "Of course, if you build a Pycellin model from scratch instead of importing a pre-existing tracking file (from TrackMate or another tracking tool), then your model will first be devoid of features.\n",
    "\n",
    "In this part, we will only see how to add pre-defined Pycellin features to a model. Indeed, imported features are automatically added during importation, and custom features are more complex and will be covered in a separate notebook."
   ]
  },
  {
   "cell_type": "markdown",
   "metadata": {},
   "source": [
    "There are 2 types of lineages in Pycellin: cell lineages and cell cycle lineages (cycle lineages for short). Each lineage type has their own features. If you are unsure about the difference between a cell lineage (`CellLineage`) and a cell cycle lineage (`CycleLineage`), I invite you to refer to Pycellin data structure notebook (*add ref*) before going further.\n"
   ]
  },
  {
   "cell_type": "markdown",
   "metadata": {},
   "source": [
    "### For cell lineages"
   ]
  },
  {
   "cell_type": "code",
   "execution_count": 4,
   "metadata": {},
   "outputs": [
    {
     "data": {
      "application/vnd.plotly.v1+json": {
       "config": {
        "plotlyServerURL": "https://plot.ly"
       },
       "data": [
        {
         "mode": "lines",
         "name": "Edges",
         "text": [],
         "type": "scatter",
         "x": [
          0.8125,
          0.8125,
          null,
          -10.6875,
          -10.6875,
          null,
          2.8125,
          2.8125,
          null,
          -7.1875,
          -7.1875,
          null,
          -5.6875,
          -5.6875,
          null,
          -9.1875,
          -9.1875,
          null,
          -4.1875,
          -4.1875,
          null,
          4.8125,
          4.3125,
          null,
          4.8125,
          5.3125,
          null,
          -2.1875,
          -2.1875,
          null,
          -0.6875,
          -0.6875,
          null,
          7.3125,
          7.3125,
          null,
          6.3125,
          6.3125,
          null,
          -3.1875,
          -3.1875,
          null,
          -6.4375,
          -6.4375,
          null,
          0.8125,
          0.8125,
          null,
          -0.6875,
          -0.6875,
          null,
          7.3125,
          7.3125,
          null,
          2.8125,
          2.8125,
          null,
          -9.9375,
          -9.9375,
          null,
          4.8125,
          4.8125,
          null,
          7.3125,
          7.3125,
          null,
          -0.6875,
          -0.6875,
          null,
          0.8125,
          0.8125,
          null,
          -2.1875,
          -2.1875,
          null,
          -7.1875,
          -7.1875,
          null,
          -10.6875,
          -10.6875,
          null,
          4.3125,
          4.3125,
          null,
          2.8125,
          2.8125,
          null,
          -5.6875,
          -5.6875,
          null,
          -9.1875,
          -9.1875,
          null,
          -4.1875,
          -4.1875,
          null,
          5.3125,
          5.3125,
          null,
          -0.6875,
          -0.6875,
          null,
          6.3125,
          6.3125,
          null,
          6.3125,
          6.3125,
          null,
          0.8125,
          0.8125,
          null,
          -7.1875,
          -7.1875,
          null,
          -10.6875,
          -10.6875,
          null,
          4.3125,
          4.3125,
          null,
          7.3125,
          7.3125,
          null,
          -2.1875,
          -2.1875,
          null,
          2.8125,
          2.8125,
          null,
          -5.6875,
          -5.6875,
          null,
          -4.1875,
          -4.6875,
          null,
          -4.1875,
          -3.6875,
          null,
          -9.1875,
          -9.1875,
          null,
          5.3125,
          5.3125,
          null,
          -0.6875,
          -0.6875,
          null,
          6.3125,
          6.3125,
          null,
          -2.1875,
          -2.6875,
          null,
          -2.1875,
          -1.6875,
          null,
          4.3125,
          4.3125,
          null,
          7.3125,
          7.3125,
          null,
          2.8125,
          2.3125,
          null,
          2.8125,
          3.3125,
          null,
          -10.6875,
          -10.6875,
          null,
          -4.6875,
          -4.6875,
          null,
          -9.1875,
          -8.6875,
          null,
          -9.1875,
          -9.6875,
          null,
          5.3125,
          5.3125,
          null,
          -5.6875,
          -5.6875,
          null,
          0.8125,
          0.3125,
          null,
          0.8125,
          1.3125,
          null,
          -3.6875,
          -3.6875,
          null,
          5.0625,
          5.0625,
          null,
          -7.1875,
          -6.6875,
          null,
          -7.1875,
          -7.6875,
          null,
          5.0625,
          5.0625,
          null,
          -5.0625,
          -5.0625,
          null,
          0,
          5.0625,
          null,
          0,
          -5.0625,
          null,
          -5.0625,
          -5.0625,
          null,
          5.0625,
          5.0625,
          null,
          -5.0625,
          -5.0625,
          null,
          5.0625,
          5.0625,
          null,
          -5.0625,
          -5.0625,
          null,
          -5.0625,
          -5.0625,
          null,
          5.0625,
          5.0625,
          null,
          -5.0625,
          -1.9375,
          null,
          -5.0625,
          -8.1875,
          null,
          5.0625,
          3.3125,
          null,
          5.0625,
          6.8125,
          null,
          -8.1875,
          -8.1875,
          null,
          -1.9375,
          -1.9375,
          null,
          3.3125,
          3.3125,
          null,
          6.8125,
          6.8125,
          null,
          -8.1875,
          -8.1875,
          null,
          -1.9375,
          -1.9375,
          null,
          3.3125,
          3.3125,
          null,
          6.8125,
          6.8125,
          null,
          -8.1875,
          -6.4375,
          null,
          -8.1875,
          -9.9375,
          null,
          3.3125,
          1.8125,
          null,
          3.3125,
          4.8125,
          null,
          -1.9375,
          -1.9375,
          null,
          6.8125,
          6.8125,
          null,
          -8.1875,
          -8.1875,
          null,
          3.3125,
          3.3125,
          null,
          -1.9375,
          -1.9375,
          null,
          6.8125,
          6.8125,
          null,
          6.3125,
          6.3125,
          null,
          -3.1875,
          -3.1875,
          null,
          -6.4375,
          -6.4375,
          null,
          1.8125,
          1.8125,
          null,
          7.3125,
          7.3125,
          null,
          -9.9375,
          -9.9375,
          null,
          4.8125,
          4.8125,
          null,
          -0.6875,
          -0.6875,
          null,
          1.8125,
          1.8125,
          null,
          -9.9375,
          -9.9375,
          null,
          4.8125,
          4.8125,
          null,
          -6.4375,
          -6.4375,
          null,
          -1.9375,
          -0.6875,
          null,
          -1.9375,
          -3.1875,
          null,
          6.8125,
          6.3125,
          null,
          6.8125,
          7.3125,
          null,
          6.3125,
          6.3125,
          null,
          -3.1875,
          -3.1875,
          null,
          -6.4375,
          -6.4375,
          null,
          -8.1875,
          -8.1875,
          null,
          1.8125,
          1.8125,
          null,
          -1.9375,
          -1.9375,
          null,
          3.3125,
          3.3125,
          null,
          6.8125,
          6.8125,
          null,
          7.3125,
          7.3125,
          null,
          -9.9375,
          -9.9375,
          null,
          4.8125,
          4.8125,
          null,
          -0.6875,
          -0.6875,
          null,
          6.3125,
          6.3125,
          null,
          1.8125,
          0.8125,
          null,
          1.8125,
          2.8125,
          null,
          -0.6875,
          -0.6875,
          null,
          7.3125,
          7.3125,
          null,
          -9.9375,
          -9.9375,
          null,
          -3.1875,
          -3.1875,
          null,
          4.8125,
          4.8125,
          null,
          -6.4375,
          -6.4375,
          null,
          6.3125,
          6.3125,
          null,
          0.8125,
          0.8125,
          null,
          -0.6875,
          -0.6875,
          null,
          7.3125,
          7.3125,
          null,
          2.8125,
          2.8125,
          null,
          -6.4375,
          -5.6875,
          null,
          -6.4375,
          -7.1875,
          null,
          -9.9375,
          -9.1875,
          null,
          -9.9375,
          -10.6875,
          null,
          4.8125,
          4.8125,
          null,
          -3.1875,
          -2.1875,
          null,
          -3.1875,
          -4.1875,
          null,
          6.3125,
          6.3125,
          null
         ],
         "y": [
          18,
          19,
          null,
          18,
          19,
          null,
          18,
          19,
          null,
          18,
          19,
          null,
          18,
          19,
          null,
          18,
          19,
          null,
          18,
          19,
          null,
          18,
          19,
          null,
          18,
          19,
          null,
          18,
          19,
          null,
          18,
          19,
          null,
          18,
          19,
          null,
          16,
          17,
          null,
          16,
          17,
          null,
          16,
          17,
          null,
          16,
          17,
          null,
          16,
          17,
          null,
          16,
          17,
          null,
          16,
          17,
          null,
          16,
          17,
          null,
          16,
          17,
          null,
          19,
          20,
          null,
          19,
          20,
          null,
          19,
          20,
          null,
          19,
          20,
          null,
          19,
          20,
          null,
          19,
          20,
          null,
          19,
          20,
          null,
          19,
          20,
          null,
          19,
          20,
          null,
          19,
          20,
          null,
          19,
          20,
          null,
          19,
          20,
          null,
          20,
          21,
          null,
          19,
          20,
          null,
          20,
          21,
          null,
          20,
          21,
          null,
          20,
          21,
          null,
          20,
          21,
          null,
          20,
          21,
          null,
          20,
          21,
          null,
          20,
          21,
          null,
          20,
          21,
          null,
          20,
          21,
          null,
          20,
          21,
          null,
          20,
          21,
          null,
          20,
          21,
          null,
          20,
          21,
          null,
          21,
          22,
          null,
          21,
          22,
          null,
          21,
          22,
          null,
          21,
          22,
          null,
          21,
          22,
          null,
          21,
          22,
          null,
          21,
          22,
          null,
          21,
          22,
          null,
          21,
          22,
          null,
          21,
          22,
          null,
          21,
          22,
          null,
          21,
          22,
          null,
          21,
          22,
          null,
          21,
          22,
          null,
          21,
          22,
          null,
          21,
          22,
          null,
          21,
          22,
          null,
          2,
          3,
          null,
          21,
          22,
          null,
          21,
          22,
          null,
          3,
          4,
          null,
          2,
          3,
          null,
          0,
          1,
          null,
          0,
          1,
          null,
          3,
          4,
          null,
          4,
          5,
          null,
          4,
          5,
          null,
          5,
          6,
          null,
          5,
          6,
          null,
          1,
          2,
          null,
          1,
          2,
          null,
          6,
          7,
          null,
          6,
          7,
          null,
          6,
          7,
          null,
          6,
          7,
          null,
          9,
          10,
          null,
          9,
          10,
          null,
          9,
          10,
          null,
          9,
          10,
          null,
          8,
          9,
          null,
          8,
          9,
          null,
          8,
          9,
          null,
          8,
          9,
          null,
          11,
          12,
          null,
          11,
          12,
          null,
          11,
          12,
          null,
          11,
          12,
          null,
          11,
          12,
          null,
          11,
          12,
          null,
          10,
          11,
          null,
          10,
          11,
          null,
          10,
          11,
          null,
          10,
          11,
          null,
          13,
          14,
          null,
          13,
          14,
          null,
          13,
          14,
          null,
          13,
          14,
          null,
          13,
          14,
          null,
          13,
          14,
          null,
          13,
          14,
          null,
          13,
          14,
          null,
          12,
          13,
          null,
          12,
          13,
          null,
          12,
          13,
          null,
          12,
          13,
          null,
          12,
          13,
          null,
          12,
          13,
          null,
          12,
          13,
          null,
          12,
          13,
          null,
          14,
          15,
          null,
          14,
          15,
          null,
          14,
          15,
          null,
          7,
          8,
          null,
          14,
          15,
          null,
          7,
          8,
          null,
          7,
          8,
          null,
          7,
          8,
          null,
          14,
          15,
          null,
          14,
          15,
          null,
          14,
          15,
          null,
          14,
          15,
          null,
          15,
          16,
          null,
          15,
          16,
          null,
          15,
          16,
          null,
          15,
          16,
          null,
          15,
          16,
          null,
          15,
          16,
          null,
          15,
          16,
          null,
          15,
          16,
          null,
          15,
          16,
          null,
          17,
          18,
          null,
          17,
          18,
          null,
          17,
          18,
          null,
          17,
          18,
          null,
          17,
          18,
          null,
          17,
          18,
          null,
          17,
          18,
          null,
          17,
          18,
          null,
          17,
          18,
          null,
          17,
          18,
          null,
          17,
          18,
          null,
          17,
          18,
          null,
          18,
          19,
          null
         ]
        },
        {
         "hoverinfo": "text",
         "hovertemplate": "%{text}",
         "mode": "markers",
         "name": "lineage_ID: 0",
         "text": [
          "cell_ID: 9216<br>frame: 18",
          "cell_ID: 9218<br>frame: 18",
          "cell_ID: 9222<br>frame: 18",
          "cell_ID: 9223<br>frame: 18",
          "cell_ID: 9227<br>frame: 18",
          "cell_ID: 9228<br>frame: 18",
          "cell_ID: 9229<br>frame: 18",
          "cell_ID: 9230<br>frame: 18",
          "cell_ID: 9235<br>frame: 18",
          "cell_ID: 9240<br>frame: 18",
          "cell_ID: 9250<br>frame: 18",
          "cell_ID: 9252<br>frame: 16",
          "cell_ID: 9255<br>frame: 16",
          "cell_ID: 9258<br>frame: 16",
          "cell_ID: 9259<br>frame: 16",
          "cell_ID: 9262<br>frame: 16",
          "cell_ID: 9263<br>frame: 16",
          "cell_ID: 9271<br>frame: 16",
          "cell_ID: 9274<br>frame: 16",
          "cell_ID: 9277<br>frame: 16",
          "cell_ID: 9279<br>frame: 19",
          "cell_ID: 9286<br>frame: 19",
          "cell_ID: 9290<br>frame: 19",
          "cell_ID: 9292<br>frame: 19",
          "cell_ID: 9293<br>frame: 19",
          "cell_ID: 9294<br>frame: 19",
          "cell_ID: 9299<br>frame: 19",
          "cell_ID: 9306<br>frame: 19",
          "cell_ID: 9308<br>frame: 19",
          "cell_ID: 9309<br>frame: 19",
          "cell_ID: 9310<br>frame: 19",
          "cell_ID: 9312<br>frame: 19",
          "cell_ID: 9326<br>frame: 20",
          "cell_ID: 9328<br>frame: 19",
          "cell_ID: 9330<br>frame: 20",
          "cell_ID: 9332<br>frame: 20",
          "cell_ID: 9334<br>frame: 20",
          "cell_ID: 9335<br>frame: 20",
          "cell_ID: 9339<br>frame: 20",
          "cell_ID: 9343<br>frame: 20",
          "cell_ID: 9344<br>frame: 20",
          "cell_ID: 9351<br>frame: 20",
          "cell_ID: 9355<br>frame: 20",
          "cell_ID: 9356<br>frame: 20",
          "cell_ID: 9357<br>frame: 20",
          "cell_ID: 9358<br>frame: 20",
          "cell_ID: 9375<br>frame: 22",
          "cell_ID: 9382<br>frame: 22",
          "cell_ID: 9384<br>frame: 22",
          "cell_ID: 9389<br>frame: 22",
          "cell_ID: 9390<br>frame: 22",
          "cell_ID: 9395<br>frame: 22",
          "cell_ID: 9398<br>frame: 22",
          "cell_ID: 9402<br>frame: 22",
          "cell_ID: 9416<br>frame: 22",
          "cell_ID: 9424<br>frame: 21",
          "cell_ID: 9428<br>frame: 21",
          "cell_ID: 9438<br>frame: 21",
          "cell_ID: 9440<br>frame: 22",
          "cell_ID: 9441<br>frame: 21",
          "cell_ID: 9444<br>frame: 22",
          "cell_ID: 9446<br>frame: 22",
          "cell_ID: 9448<br>frame: 22",
          "cell_ID: 9449<br>frame: 22",
          "cell_ID: 9450<br>frame: 21",
          "cell_ID: 9463<br>frame: 22",
          "cell_ID: 9464<br>frame: 21",
          "cell_ID: 9465<br>frame: 22",
          "cell_ID: 9470<br>frame: 22",
          "cell_ID: 9476<br>frame: 22",
          "cell_ID: 9480<br>frame: 22",
          "cell_ID: 9481<br>frame: 21",
          "cell_ID: 9482<br>frame: 21",
          "cell_ID: 9483<br>frame: 21",
          "cell_ID: 9485<br>frame: 21",
          "cell_ID: 9491<br>frame: 21",
          "cell_ID: 9492<br>frame: 21",
          "cell_ID: 9494<br>frame: 21",
          "cell_ID: 8986<br>frame: 2",
          "cell_ID: 9498<br>frame: 21",
          "cell_ID: 8988<br>frame: 3",
          "cell_ID: 8989<br>frame: 2",
          "cell_ID: 8993<br>frame: 0",
          "cell_ID: 8996<br>frame: 3",
          "cell_ID: 8999<br>frame: 4",
          "cell_ID: 9001<br>frame: 4",
          "cell_ID: 9008<br>frame: 5",
          "cell_ID: 9010<br>frame: 5",
          "cell_ID: 9013<br>frame: 1",
          "cell_ID: 9014<br>frame: 1",
          "cell_ID: 9019<br>frame: 6",
          "cell_ID: 9020<br>frame: 6",
          "cell_ID: 9027<br>frame: 9",
          "cell_ID: 9028<br>frame: 9",
          "cell_ID: 9029<br>frame: 9",
          "cell_ID: 9031<br>frame: 9",
          "cell_ID: 9040<br>frame: 8",
          "cell_ID: 9041<br>frame: 8",
          "cell_ID: 9042<br>frame: 8",
          "cell_ID: 9043<br>frame: 8",
          "cell_ID: 9051<br>frame: 11",
          "cell_ID: 9052<br>frame: 11",
          "cell_ID: 9053<br>frame: 11",
          "cell_ID: 9055<br>frame: 11",
          "cell_ID: 9062<br>frame: 10",
          "cell_ID: 9064<br>frame: 10",
          "cell_ID: 9065<br>frame: 10",
          "cell_ID: 9067<br>frame: 10",
          "cell_ID: 9080<br>frame: 13",
          "cell_ID: 9081<br>frame: 13",
          "cell_ID: 9082<br>frame: 13",
          "cell_ID: 9084<br>frame: 13",
          "cell_ID: 9086<br>frame: 13",
          "cell_ID: 9090<br>frame: 13",
          "cell_ID: 9091<br>frame: 13",
          "cell_ID: 9095<br>frame: 13",
          "cell_ID: 9096<br>frame: 12",
          "cell_ID: 9102<br>frame: 12",
          "cell_ID: 9103<br>frame: 12",
          "cell_ID: 9104<br>frame: 12",
          "cell_ID: 9106<br>frame: 12",
          "cell_ID: 9108<br>frame: 12",
          "cell_ID: 9118<br>frame: 14",
          "cell_ID: 9119<br>frame: 14",
          "cell_ID: 9120<br>frame: 14",
          "cell_ID: 9121<br>frame: 7",
          "cell_ID: 9122<br>frame: 14",
          "cell_ID: 9123<br>frame: 7",
          "cell_ID: 9124<br>frame: 7",
          "cell_ID: 9126<br>frame: 7",
          "cell_ID: 9127<br>frame: 14",
          "cell_ID: 9136<br>frame: 14",
          "cell_ID: 9138<br>frame: 14",
          "cell_ID: 9143<br>frame: 14",
          "cell_ID: 9155<br>frame: 15",
          "cell_ID: 9156<br>frame: 15",
          "cell_ID: 9159<br>frame: 15",
          "cell_ID: 9160<br>frame: 15",
          "cell_ID: 9167<br>frame: 15",
          "cell_ID: 9168<br>frame: 15",
          "cell_ID: 9169<br>frame: 15",
          "cell_ID: 9170<br>frame: 15",
          "cell_ID: 9176<br>frame: 17",
          "cell_ID: 9178<br>frame: 17",
          "cell_ID: 9181<br>frame: 17",
          "cell_ID: 9182<br>frame: 17",
          "cell_ID: 9191<br>frame: 17",
          "cell_ID: 9194<br>frame: 17",
          "cell_ID: 9195<br>frame: 17",
          "cell_ID: 9196<br>frame: 17",
          "cell_ID: 9206<br>frame: 17",
          "cell_ID: 9215<br>frame: 18"
         ],
         "type": "scatter",
         "x": [
          0.8125,
          -10.6875,
          2.8125,
          -7.1875,
          -5.6875,
          -9.1875,
          -4.1875,
          4.8125,
          -2.1875,
          -0.6875,
          7.3125,
          6.3125,
          -3.1875,
          -6.4375,
          0.8125,
          -0.6875,
          7.3125,
          2.8125,
          -9.9375,
          4.8125,
          7.3125,
          -0.6875,
          0.8125,
          -2.1875,
          -7.1875,
          -10.6875,
          4.3125,
          2.8125,
          -5.6875,
          -9.1875,
          -4.1875,
          5.3125,
          -0.6875,
          6.3125,
          6.3125,
          0.8125,
          -7.1875,
          -10.6875,
          4.3125,
          7.3125,
          -2.1875,
          2.8125,
          -5.6875,
          -4.1875,
          -9.1875,
          5.3125,
          2.3125,
          -0.6875,
          6.3125,
          -2.6875,
          4.3125,
          7.3125,
          3.3125,
          -9.6875,
          -7.6875,
          -0.6875,
          6.3125,
          -2.1875,
          -4.6875,
          4.3125,
          -3.6875,
          5.3125,
          -6.6875,
          -1.6875,
          7.3125,
          -5.6875,
          2.8125,
          -8.6875,
          -10.6875,
          0.3125,
          1.3125,
          -10.6875,
          -4.6875,
          -9.1875,
          5.3125,
          -5.6875,
          0.8125,
          -3.6875,
          5.0625,
          -7.1875,
          5.0625,
          -5.0625,
          0,
          -5.0625,
          5.0625,
          -5.0625,
          5.0625,
          -5.0625,
          -5.0625,
          5.0625,
          -5.0625,
          5.0625,
          -8.1875,
          -1.9375,
          3.3125,
          6.8125,
          -8.1875,
          -1.9375,
          3.3125,
          6.8125,
          -8.1875,
          3.3125,
          -1.9375,
          6.8125,
          -8.1875,
          3.3125,
          -1.9375,
          6.8125,
          6.3125,
          -3.1875,
          -6.4375,
          1.8125,
          7.3125,
          -9.9375,
          4.8125,
          -0.6875,
          1.8125,
          -9.9375,
          4.8125,
          -6.4375,
          -1.9375,
          6.8125,
          6.3125,
          -3.1875,
          -6.4375,
          -8.1875,
          1.8125,
          -1.9375,
          3.3125,
          6.8125,
          7.3125,
          -9.9375,
          4.8125,
          -0.6875,
          6.3125,
          1.8125,
          -0.6875,
          7.3125,
          -9.9375,
          -3.1875,
          4.8125,
          -6.4375,
          6.3125,
          0.8125,
          -0.6875,
          7.3125,
          2.8125,
          -6.4375,
          -9.9375,
          4.8125,
          -3.1875,
          6.3125
         ],
         "y": [
          18,
          18,
          18,
          18,
          18,
          18,
          18,
          18,
          18,
          18,
          18,
          16,
          16,
          16,
          16,
          16,
          16,
          16,
          16,
          16,
          19,
          19,
          19,
          19,
          19,
          19,
          19,
          19,
          19,
          19,
          19,
          19,
          20,
          19,
          20,
          20,
          20,
          20,
          20,
          20,
          20,
          20,
          20,
          20,
          20,
          20,
          22,
          22,
          22,
          22,
          22,
          22,
          22,
          22,
          22,
          21,
          21,
          21,
          22,
          21,
          22,
          22,
          22,
          22,
          21,
          22,
          21,
          22,
          22,
          22,
          22,
          21,
          21,
          21,
          21,
          21,
          21,
          21,
          2,
          21,
          3,
          2,
          0,
          3,
          4,
          4,
          5,
          5,
          1,
          1,
          6,
          6,
          9,
          9,
          9,
          9,
          8,
          8,
          8,
          8,
          11,
          11,
          11,
          11,
          10,
          10,
          10,
          10,
          13,
          13,
          13,
          13,
          13,
          13,
          13,
          13,
          12,
          12,
          12,
          12,
          12,
          12,
          14,
          14,
          14,
          7,
          14,
          7,
          7,
          7,
          14,
          14,
          14,
          14,
          15,
          15,
          15,
          15,
          15,
          15,
          15,
          15,
          17,
          17,
          17,
          17,
          17,
          17,
          17,
          17,
          17,
          18
         ]
        }
       ],
       "layout": {
        "hovermode": "closest",
        "showlegend": true,
        "template": {
         "data": {
          "bar": [
           {
            "error_x": {
             "color": "#2a3f5f"
            },
            "error_y": {
             "color": "#2a3f5f"
            },
            "marker": {
             "line": {
              "color": "#E5ECF6",
              "width": 0.5
             },
             "pattern": {
              "fillmode": "overlay",
              "size": 10,
              "solidity": 0.2
             }
            },
            "type": "bar"
           }
          ],
          "barpolar": [
           {
            "marker": {
             "line": {
              "color": "#E5ECF6",
              "width": 0.5
             },
             "pattern": {
              "fillmode": "overlay",
              "size": 10,
              "solidity": 0.2
             }
            },
            "type": "barpolar"
           }
          ],
          "carpet": [
           {
            "aaxis": {
             "endlinecolor": "#2a3f5f",
             "gridcolor": "white",
             "linecolor": "white",
             "minorgridcolor": "white",
             "startlinecolor": "#2a3f5f"
            },
            "baxis": {
             "endlinecolor": "#2a3f5f",
             "gridcolor": "white",
             "linecolor": "white",
             "minorgridcolor": "white",
             "startlinecolor": "#2a3f5f"
            },
            "type": "carpet"
           }
          ],
          "choropleth": [
           {
            "colorbar": {
             "outlinewidth": 0,
             "ticks": ""
            },
            "type": "choropleth"
           }
          ],
          "contour": [
           {
            "colorbar": {
             "outlinewidth": 0,
             "ticks": ""
            },
            "colorscale": [
             [
              0,
              "#0d0887"
             ],
             [
              0.1111111111111111,
              "#46039f"
             ],
             [
              0.2222222222222222,
              "#7201a8"
             ],
             [
              0.3333333333333333,
              "#9c179e"
             ],
             [
              0.4444444444444444,
              "#bd3786"
             ],
             [
              0.5555555555555556,
              "#d8576b"
             ],
             [
              0.6666666666666666,
              "#ed7953"
             ],
             [
              0.7777777777777778,
              "#fb9f3a"
             ],
             [
              0.8888888888888888,
              "#fdca26"
             ],
             [
              1,
              "#f0f921"
             ]
            ],
            "type": "contour"
           }
          ],
          "contourcarpet": [
           {
            "colorbar": {
             "outlinewidth": 0,
             "ticks": ""
            },
            "type": "contourcarpet"
           }
          ],
          "heatmap": [
           {
            "colorbar": {
             "outlinewidth": 0,
             "ticks": ""
            },
            "colorscale": [
             [
              0,
              "#0d0887"
             ],
             [
              0.1111111111111111,
              "#46039f"
             ],
             [
              0.2222222222222222,
              "#7201a8"
             ],
             [
              0.3333333333333333,
              "#9c179e"
             ],
             [
              0.4444444444444444,
              "#bd3786"
             ],
             [
              0.5555555555555556,
              "#d8576b"
             ],
             [
              0.6666666666666666,
              "#ed7953"
             ],
             [
              0.7777777777777778,
              "#fb9f3a"
             ],
             [
              0.8888888888888888,
              "#fdca26"
             ],
             [
              1,
              "#f0f921"
             ]
            ],
            "type": "heatmap"
           }
          ],
          "heatmapgl": [
           {
            "colorbar": {
             "outlinewidth": 0,
             "ticks": ""
            },
            "colorscale": [
             [
              0,
              "#0d0887"
             ],
             [
              0.1111111111111111,
              "#46039f"
             ],
             [
              0.2222222222222222,
              "#7201a8"
             ],
             [
              0.3333333333333333,
              "#9c179e"
             ],
             [
              0.4444444444444444,
              "#bd3786"
             ],
             [
              0.5555555555555556,
              "#d8576b"
             ],
             [
              0.6666666666666666,
              "#ed7953"
             ],
             [
              0.7777777777777778,
              "#fb9f3a"
             ],
             [
              0.8888888888888888,
              "#fdca26"
             ],
             [
              1,
              "#f0f921"
             ]
            ],
            "type": "heatmapgl"
           }
          ],
          "histogram": [
           {
            "marker": {
             "pattern": {
              "fillmode": "overlay",
              "size": 10,
              "solidity": 0.2
             }
            },
            "type": "histogram"
           }
          ],
          "histogram2d": [
           {
            "colorbar": {
             "outlinewidth": 0,
             "ticks": ""
            },
            "colorscale": [
             [
              0,
              "#0d0887"
             ],
             [
              0.1111111111111111,
              "#46039f"
             ],
             [
              0.2222222222222222,
              "#7201a8"
             ],
             [
              0.3333333333333333,
              "#9c179e"
             ],
             [
              0.4444444444444444,
              "#bd3786"
             ],
             [
              0.5555555555555556,
              "#d8576b"
             ],
             [
              0.6666666666666666,
              "#ed7953"
             ],
             [
              0.7777777777777778,
              "#fb9f3a"
             ],
             [
              0.8888888888888888,
              "#fdca26"
             ],
             [
              1,
              "#f0f921"
             ]
            ],
            "type": "histogram2d"
           }
          ],
          "histogram2dcontour": [
           {
            "colorbar": {
             "outlinewidth": 0,
             "ticks": ""
            },
            "colorscale": [
             [
              0,
              "#0d0887"
             ],
             [
              0.1111111111111111,
              "#46039f"
             ],
             [
              0.2222222222222222,
              "#7201a8"
             ],
             [
              0.3333333333333333,
              "#9c179e"
             ],
             [
              0.4444444444444444,
              "#bd3786"
             ],
             [
              0.5555555555555556,
              "#d8576b"
             ],
             [
              0.6666666666666666,
              "#ed7953"
             ],
             [
              0.7777777777777778,
              "#fb9f3a"
             ],
             [
              0.8888888888888888,
              "#fdca26"
             ],
             [
              1,
              "#f0f921"
             ]
            ],
            "type": "histogram2dcontour"
           }
          ],
          "mesh3d": [
           {
            "colorbar": {
             "outlinewidth": 0,
             "ticks": ""
            },
            "type": "mesh3d"
           }
          ],
          "parcoords": [
           {
            "line": {
             "colorbar": {
              "outlinewidth": 0,
              "ticks": ""
             }
            },
            "type": "parcoords"
           }
          ],
          "pie": [
           {
            "automargin": true,
            "type": "pie"
           }
          ],
          "scatter": [
           {
            "fillpattern": {
             "fillmode": "overlay",
             "size": 10,
             "solidity": 0.2
            },
            "type": "scatter"
           }
          ],
          "scatter3d": [
           {
            "line": {
             "colorbar": {
              "outlinewidth": 0,
              "ticks": ""
             }
            },
            "marker": {
             "colorbar": {
              "outlinewidth": 0,
              "ticks": ""
             }
            },
            "type": "scatter3d"
           }
          ],
          "scattercarpet": [
           {
            "marker": {
             "colorbar": {
              "outlinewidth": 0,
              "ticks": ""
             }
            },
            "type": "scattercarpet"
           }
          ],
          "scattergeo": [
           {
            "marker": {
             "colorbar": {
              "outlinewidth": 0,
              "ticks": ""
             }
            },
            "type": "scattergeo"
           }
          ],
          "scattergl": [
           {
            "marker": {
             "colorbar": {
              "outlinewidth": 0,
              "ticks": ""
             }
            },
            "type": "scattergl"
           }
          ],
          "scattermapbox": [
           {
            "marker": {
             "colorbar": {
              "outlinewidth": 0,
              "ticks": ""
             }
            },
            "type": "scattermapbox"
           }
          ],
          "scatterpolar": [
           {
            "marker": {
             "colorbar": {
              "outlinewidth": 0,
              "ticks": ""
             }
            },
            "type": "scatterpolar"
           }
          ],
          "scatterpolargl": [
           {
            "marker": {
             "colorbar": {
              "outlinewidth": 0,
              "ticks": ""
             }
            },
            "type": "scatterpolargl"
           }
          ],
          "scatterternary": [
           {
            "marker": {
             "colorbar": {
              "outlinewidth": 0,
              "ticks": ""
             }
            },
            "type": "scatterternary"
           }
          ],
          "surface": [
           {
            "colorbar": {
             "outlinewidth": 0,
             "ticks": ""
            },
            "colorscale": [
             [
              0,
              "#0d0887"
             ],
             [
              0.1111111111111111,
              "#46039f"
             ],
             [
              0.2222222222222222,
              "#7201a8"
             ],
             [
              0.3333333333333333,
              "#9c179e"
             ],
             [
              0.4444444444444444,
              "#bd3786"
             ],
             [
              0.5555555555555556,
              "#d8576b"
             ],
             [
              0.6666666666666666,
              "#ed7953"
             ],
             [
              0.7777777777777778,
              "#fb9f3a"
             ],
             [
              0.8888888888888888,
              "#fdca26"
             ],
             [
              1,
              "#f0f921"
             ]
            ],
            "type": "surface"
           }
          ],
          "table": [
           {
            "cells": {
             "fill": {
              "color": "#EBF0F8"
             },
             "line": {
              "color": "white"
             }
            },
            "header": {
             "fill": {
              "color": "#C8D4E3"
             },
             "line": {
              "color": "white"
             }
            },
            "type": "table"
           }
          ]
         },
         "layout": {
          "annotationdefaults": {
           "arrowcolor": "#2a3f5f",
           "arrowhead": 0,
           "arrowwidth": 1
          },
          "autotypenumbers": "strict",
          "coloraxis": {
           "colorbar": {
            "outlinewidth": 0,
            "ticks": ""
           }
          },
          "colorscale": {
           "diverging": [
            [
             0,
             "#8e0152"
            ],
            [
             0.1,
             "#c51b7d"
            ],
            [
             0.2,
             "#de77ae"
            ],
            [
             0.3,
             "#f1b6da"
            ],
            [
             0.4,
             "#fde0ef"
            ],
            [
             0.5,
             "#f7f7f7"
            ],
            [
             0.6,
             "#e6f5d0"
            ],
            [
             0.7,
             "#b8e186"
            ],
            [
             0.8,
             "#7fbc41"
            ],
            [
             0.9,
             "#4d9221"
            ],
            [
             1,
             "#276419"
            ]
           ],
           "sequential": [
            [
             0,
             "#0d0887"
            ],
            [
             0.1111111111111111,
             "#46039f"
            ],
            [
             0.2222222222222222,
             "#7201a8"
            ],
            [
             0.3333333333333333,
             "#9c179e"
            ],
            [
             0.4444444444444444,
             "#bd3786"
            ],
            [
             0.5555555555555556,
             "#d8576b"
            ],
            [
             0.6666666666666666,
             "#ed7953"
            ],
            [
             0.7777777777777778,
             "#fb9f3a"
            ],
            [
             0.8888888888888888,
             "#fdca26"
            ],
            [
             1,
             "#f0f921"
            ]
           ],
           "sequentialminus": [
            [
             0,
             "#0d0887"
            ],
            [
             0.1111111111111111,
             "#46039f"
            ],
            [
             0.2222222222222222,
             "#7201a8"
            ],
            [
             0.3333333333333333,
             "#9c179e"
            ],
            [
             0.4444444444444444,
             "#bd3786"
            ],
            [
             0.5555555555555556,
             "#d8576b"
            ],
            [
             0.6666666666666666,
             "#ed7953"
            ],
            [
             0.7777777777777778,
             "#fb9f3a"
            ],
            [
             0.8888888888888888,
             "#fdca26"
            ],
            [
             1,
             "#f0f921"
            ]
           ]
          },
          "colorway": [
           "#636efa",
           "#EF553B",
           "#00cc96",
           "#ab63fa",
           "#FFA15A",
           "#19d3f3",
           "#FF6692",
           "#B6E880",
           "#FF97FF",
           "#FECB52"
          ],
          "font": {
           "color": "#2a3f5f"
          },
          "geo": {
           "bgcolor": "white",
           "lakecolor": "white",
           "landcolor": "#E5ECF6",
           "showlakes": true,
           "showland": true,
           "subunitcolor": "white"
          },
          "hoverlabel": {
           "align": "left"
          },
          "hovermode": "closest",
          "mapbox": {
           "style": "light"
          },
          "paper_bgcolor": "white",
          "plot_bgcolor": "#E5ECF6",
          "polar": {
           "angularaxis": {
            "gridcolor": "white",
            "linecolor": "white",
            "ticks": ""
           },
           "bgcolor": "#E5ECF6",
           "radialaxis": {
            "gridcolor": "white",
            "linecolor": "white",
            "ticks": ""
           }
          },
          "scene": {
           "xaxis": {
            "backgroundcolor": "#E5ECF6",
            "gridcolor": "white",
            "gridwidth": 2,
            "linecolor": "white",
            "showbackground": true,
            "ticks": "",
            "zerolinecolor": "white"
           },
           "yaxis": {
            "backgroundcolor": "#E5ECF6",
            "gridcolor": "white",
            "gridwidth": 2,
            "linecolor": "white",
            "showbackground": true,
            "ticks": "",
            "zerolinecolor": "white"
           },
           "zaxis": {
            "backgroundcolor": "#E5ECF6",
            "gridcolor": "white",
            "gridwidth": 2,
            "linecolor": "white",
            "showbackground": true,
            "ticks": "",
            "zerolinecolor": "white"
           }
          },
          "shapedefaults": {
           "line": {
            "color": "#2a3f5f"
           }
          },
          "ternary": {
           "aaxis": {
            "gridcolor": "white",
            "linecolor": "white",
            "ticks": ""
           },
           "baxis": {
            "gridcolor": "white",
            "linecolor": "white",
            "ticks": ""
           },
           "bgcolor": "#E5ECF6",
           "caxis": {
            "gridcolor": "white",
            "linecolor": "white",
            "ticks": ""
           }
          },
          "title": {
           "x": 0.05
          },
          "xaxis": {
           "automargin": true,
           "gridcolor": "white",
           "linecolor": "white",
           "ticks": "",
           "title": {
            "standoff": 15
           },
           "zerolinecolor": "white",
           "zerolinewidth": 2
          },
          "yaxis": {
           "automargin": true,
           "gridcolor": "white",
           "linecolor": "white",
           "ticks": "",
           "title": {
            "standoff": 15
           },
           "zerolinecolor": "white",
           "zerolinewidth": 2
          }
         }
        },
        "title": {
         "text": "Cell lineage of lineage ID 0"
        },
        "xaxis": {
         "showgrid": false,
         "showticklabels": false,
         "zeroline": false
        },
        "yaxis": {
         "autorange": "reversed",
         "showgrid": true,
         "title": {
          "text": "Time (frames)"
         },
         "zeroline": true
        }
       }
      }
     },
     "metadata": {},
     "output_type": "display_data"
    }
   ],
   "source": [
    "lin0 = model.data.cell_data[0]\n",
    "lin0.plot(title=\"Cell lineage of lineage ID 0\")"
   ]
  },
  {
   "cell_type": "markdown",
   "metadata": {},
   "source": [
    "List of available Pycellin features for cell lineages:"
   ]
  },
  {
   "cell_type": "code",
   "execution_count": 5,
   "metadata": {},
   "outputs": [
    {
     "data": {
      "text/plain": [
       "{'absolute_age': 'Age of the cell since the beginning of the lineage',\n",
       " 'angle': 'Angle of the cell trajectory between two consecutive detections',\n",
       " 'cell_displacement': 'Displacement of the cell between two consecutive detections',\n",
       " 'cell_length': 'Length of the cell',\n",
       " 'cell_speed': 'Speed of the cell between two consecutive detections',\n",
       " 'cell_width': 'Width of the cell',\n",
       " 'relative_age': 'Age of the cell since the beginning of the current cell cycle'}"
      ]
     },
     "execution_count": 5,
     "metadata": {},
     "output_type": "execute_result"
    }
   ],
   "source": [
    "pc.get_pycellin_cell_lineage_features()"
   ]
  },
  {
   "cell_type": "markdown",
   "metadata": {},
   "source": [
    "Possibility of adding features one by one, either by calling the dedicated method:"
   ]
  },
  {
   "cell_type": "code",
   "execution_count": 6,
   "metadata": {},
   "outputs": [],
   "source": [
    "model.add_absolute_age()"
   ]
  },
  {
   "cell_type": "markdown",
   "metadata": {},
   "source": [
    "Or by using the more generic `add_pycellin_feature()` method:  \n",
    "(but attempting to add an already present feature into a model will throw a warning)"
   ]
  },
  {
   "cell_type": "code",
   "execution_count": 7,
   "metadata": {
    "tags": [
     "raises-exception"
    ]
   },
   "outputs": [
    {
     "name": "stderr",
     "output_type": "stream",
     "text": [
      "e:\\pasteur\\code\\pycellin\\pycellin\\classes\\feature.py:329: UserWarning:\n",
      "\n",
      "An identical Feature 'absolute_age' has already been declared.\n",
      "\n"
     ]
    }
   ],
   "source": [
    "model.add_pycellin_feature(\"absolute_age\")"
   ]
  },
  {
   "cell_type": "markdown",
   "metadata": {},
   "source": [
    "When you want to add a lot of features, it might be easier to add them all at once with the `add_pycellin_features()` shortcut method that accepts a list of Pycellin feature names:"
   ]
  },
  {
   "cell_type": "code",
   "execution_count": 8,
   "metadata": {},
   "outputs": [],
   "source": [
    "model.add_pycellin_features([\"relative_age\", \"cell_length\"])"
   ]
  },
  {
   "cell_type": "markdown",
   "metadata": {},
   "source": [
    "At any time, you can check which cell lineage features are currently present in the model, regardless of their provenance (imported, pre-defined by Pycellin or custom built):"
   ]
  },
  {
   "cell_type": "code",
   "execution_count": 9,
   "metadata": {},
   "outputs": [
    {
     "data": {
      "text/plain": [
       "['QUALITY',\n",
       " 'POSITION_T',\n",
       " 'RADIUS',\n",
       " 'VISIBILITY',\n",
       " 'MANUAL_SPOT_COLOR',\n",
       " 'MEAN_INTENSITY_CH1',\n",
       " 'MEDIAN_INTENSITY_CH1',\n",
       " 'MIN_INTENSITY_CH1',\n",
       " 'MAX_INTENSITY_CH1',\n",
       " 'TOTAL_INTENSITY_CH1',\n",
       " 'STD_INTENSITY_CH1',\n",
       " 'MEAN_INTENSITY_CH2',\n",
       " 'MEDIAN_INTENSITY_CH2',\n",
       " 'MIN_INTENSITY_CH2',\n",
       " 'MAX_INTENSITY_CH2',\n",
       " 'TOTAL_INTENSITY_CH2',\n",
       " 'STD_INTENSITY_CH2',\n",
       " 'CONTRAST_CH1',\n",
       " 'SNR_CH1',\n",
       " 'CONTRAST_CH2',\n",
       " 'SNR_CH2',\n",
       " 'ELLIPSE_X0',\n",
       " 'ELLIPSE_Y0',\n",
       " 'ELLIPSE_MAJOR',\n",
       " 'ELLIPSE_MINOR',\n",
       " 'ELLIPSE_THETA',\n",
       " 'ELLIPSE_ASPECTRATIO',\n",
       " 'AREA',\n",
       " 'PERIMETER',\n",
       " 'CIRCULARITY',\n",
       " 'SOLIDITY',\n",
       " 'SHAPE_INDEX',\n",
       " 'cell_name',\n",
       " 'SPOT_SOURCE_ID',\n",
       " 'SPOT_TARGET_ID',\n",
       " 'LINK_COST',\n",
       " 'DIRECTIONAL_CHANGE_RATE',\n",
       " 'SPEED',\n",
       " 'DISPLACEMENT',\n",
       " 'EDGE_TIME',\n",
       " 'MANUAL_EDGE_COLOR',\n",
       " 'TRACK_INDEX',\n",
       " 'DIVISION_TIME_MEAN',\n",
       " 'DIVISION_TIME_STD',\n",
       " 'NUMBER_SPOTS',\n",
       " 'NUMBER_GAPS',\n",
       " 'NUMBER_SPLITS',\n",
       " 'NUMBER_MERGES',\n",
       " 'NUMBER_COMPLEX',\n",
       " 'LONGEST_GAP',\n",
       " 'TRACK_DURATION',\n",
       " 'TRACK_START',\n",
       " 'TRACK_STOP',\n",
       " 'TRACK_DISPLACEMENT',\n",
       " 'TRACK_MEAN_SPEED',\n",
       " 'TRACK_MAX_SPEED',\n",
       " 'TRACK_MIN_SPEED',\n",
       " 'TRACK_MEDIAN_SPEED',\n",
       " 'TRACK_STD_SPEED',\n",
       " 'TRACK_MEAN_QUALITY',\n",
       " 'TOTAL_DISTANCE_TRAVELED',\n",
       " 'MAX_DISTANCE_TRAVELED',\n",
       " 'CONFINEMENT_RATIO',\n",
       " 'MEAN_STRAIGHT_LINE_SPEED',\n",
       " 'LINEARITY_OF_FORWARD_PROGRESSION',\n",
       " 'MEAN_DIRECTIONAL_CHANGE_RATE',\n",
       " 'lineage_name',\n",
       " 'lineage_ID',\n",
       " 'cell_ID',\n",
       " 'cell_location',\n",
       " 'frame',\n",
       " 'ROI_coords',\n",
       " 'link_location',\n",
       " 'FilteredTrack',\n",
       " 'lineage_location',\n",
       " 'absolute_age',\n",
       " 'relative_age',\n",
       " 'cell_length']"
      ]
     },
     "execution_count": 9,
     "metadata": {},
     "output_type": "execute_result"
    }
   ],
   "source": [
    "model.get_cell_lineage_features()"
   ]
  },
  {
   "cell_type": "markdown",
   "metadata": {},
   "source": [
    "Most of Pycellin features, if not all, are expressed in time and/or space units. These units are defined at the model level, usually during the model creation. So the exact units of a specific Pycellin feature will only be known once the feature has been added to the model.  \n",
    "\n",
    "Information on a feature, units included, is accessible through the FeatureDeclaration of the model, regardless of the feature provenance:"
   ]
  },
  {
   "cell_type": "code",
   "execution_count": 10,
   "metadata": {},
   "outputs": [
    {
     "name": "stdout",
     "output_type": "stream",
     "text": [
      "Feature(name='absolute_age', description='Age of the cell since the beginning of the lineage', feat_type='node', lin_type='CellLineage', provenance='Pycellin', data_type='int', unit='frame')\n",
      "Feature(name='SPEED', description='Speed', feat_type='edge', lin_type='CellLineage', provenance='TrackMate', data_type='float', unit='µm/min')\n"
     ]
    }
   ],
   "source": [
    "print(model.feat_declaration.feats_dict[\"absolute_age\"])  # Pycellin feature.\n",
    "print(model.feat_declaration.feats_dict[\"SPEED\"])  # Imported feature."
   ]
  },
  {
   "cell_type": "markdown",
   "metadata": {},
   "source": [
    "### For cell cycle lineages"
   ]
  },
  {
   "cell_type": "markdown",
   "metadata": {},
   "source": [
    "Cell cycle features (or cycle features for short) behave like cell features. However, you first need to compute the cycle lineages, otherwise you will get the following error:"
   ]
  },
  {
   "cell_type": "code",
   "execution_count": 11,
   "metadata": {
    "tags": [
     "raises-exception"
    ]
   },
   "outputs": [
    {
     "ename": "ValueError",
     "evalue": "Cycle lineages have not been computed yet. Please compute the cycle lineages first with `model.add_cycle_data()`.",
     "output_type": "error",
     "traceback": [
      "\u001b[1;31m---------------------------------------------------------------------------\u001b[0m",
      "\u001b[1;31mValueError\u001b[0m                                Traceback (most recent call last)",
      "Cell \u001b[1;32mIn[11], line 1\u001b[0m\n\u001b[1;32m----> 1\u001b[0m \u001b[43mmodel\u001b[49m\u001b[38;5;241;43m.\u001b[39;49m\u001b[43madd_division_time\u001b[49m\u001b[43m(\u001b[49m\u001b[43m)\u001b[49m\n",
      "File \u001b[1;32me:\\pasteur\\code\\pycellin\\pycellin\\classes\\model.py:884\u001b[0m, in \u001b[0;36mModel.add_division_time\u001b[1;34m(self, in_time_unit, rename)\u001b[0m\n\u001b[0;32m    874\u001b[0m feat \u001b[38;5;241m=\u001b[39m Feature(\n\u001b[0;32m    875\u001b[0m     rename \u001b[38;5;28;01mif\u001b[39;00m rename \u001b[38;5;28;01melse\u001b[39;00m \u001b[38;5;124m\"\u001b[39m\u001b[38;5;124mdivision_time\u001b[39m\u001b[38;5;124m\"\u001b[39m,\n\u001b[0;32m    876\u001b[0m     \u001b[38;5;124m\"\u001b[39m\u001b[38;5;124mTime elapsed between the birth of a cell and its division\u001b[39m\u001b[38;5;124m\"\u001b[39m,\n\u001b[1;32m   (...)\u001b[0m\n\u001b[0;32m    881\u001b[0m     \u001b[38;5;28mself\u001b[39m\u001b[38;5;241m.\u001b[39mmetadata[\u001b[38;5;124m\"\u001b[39m\u001b[38;5;124mtime_step\u001b[39m\u001b[38;5;124m\"\u001b[39m] \u001b[38;5;28;01mif\u001b[39;00m in_time_unit \u001b[38;5;28;01melse\u001b[39;00m \u001b[38;5;124m\"\u001b[39m\u001b[38;5;124mframe\u001b[39m\u001b[38;5;124m\"\u001b[39m,\n\u001b[0;32m    882\u001b[0m )\n\u001b[0;32m    883\u001b[0m time_step \u001b[38;5;241m=\u001b[39m \u001b[38;5;28mself\u001b[39m\u001b[38;5;241m.\u001b[39mmetadata[\u001b[38;5;124m\"\u001b[39m\u001b[38;5;124mtime_step\u001b[39m\u001b[38;5;124m\"\u001b[39m] \u001b[38;5;28;01mif\u001b[39;00m in_time_unit \u001b[38;5;28;01melse\u001b[39;00m \u001b[38;5;241m1\u001b[39m\n\u001b[1;32m--> 884\u001b[0m \u001b[38;5;28;43mself\u001b[39;49m\u001b[38;5;241;43m.\u001b[39;49m\u001b[43madd_custom_feature\u001b[49m\u001b[43m(\u001b[49m\u001b[43mtracking\u001b[49m\u001b[38;5;241;43m.\u001b[39;49m\u001b[43mDivisionTime\u001b[49m\u001b[43m(\u001b[49m\u001b[43mfeat\u001b[49m\u001b[43m,\u001b[49m\u001b[43m \u001b[49m\u001b[43mtime_step\u001b[49m\u001b[43m)\u001b[49m\u001b[43m)\u001b[49m\n",
      "File \u001b[1;32me:\\pasteur\\code\\pycellin\\pycellin\\classes\\model.py:691\u001b[0m, in \u001b[0;36mModel.add_custom_feature\u001b[1;34m(self, calculator)\u001b[0m\n\u001b[0;32m    671\u001b[0m \u001b[38;5;250m\u001b[39m\u001b[38;5;124;03m\"\"\"\u001b[39;00m\n\u001b[0;32m    672\u001b[0m \u001b[38;5;124;03mAdd a custom feature to the model.\u001b[39;00m\n\u001b[0;32m    673\u001b[0m \n\u001b[1;32m   (...)\u001b[0m\n\u001b[0;32m    688\u001b[0m \u001b[38;5;124;03m    have not been computed yet.\u001b[39;00m\n\u001b[0;32m    689\u001b[0m \u001b[38;5;124;03m\"\"\"\u001b[39;00m\n\u001b[0;32m    690\u001b[0m \u001b[38;5;28;01mif\u001b[39;00m calculator\u001b[38;5;241m.\u001b[39mfeature\u001b[38;5;241m.\u001b[39mlin_type \u001b[38;5;241m==\u001b[39m \u001b[38;5;124m\"\u001b[39m\u001b[38;5;124mCycleLineage\u001b[39m\u001b[38;5;124m\"\u001b[39m \u001b[38;5;129;01mand\u001b[39;00m \u001b[38;5;129;01mnot\u001b[39;00m \u001b[38;5;28mself\u001b[39m\u001b[38;5;241m.\u001b[39mdata\u001b[38;5;241m.\u001b[39mcycle_data:\n\u001b[1;32m--> 691\u001b[0m     \u001b[38;5;28;01mraise\u001b[39;00m \u001b[38;5;167;01mValueError\u001b[39;00m(\n\u001b[0;32m    692\u001b[0m         \u001b[38;5;124m\"\u001b[39m\u001b[38;5;124mCycle lineages have not been computed yet. \u001b[39m\u001b[38;5;124m\"\u001b[39m\n\u001b[0;32m    693\u001b[0m         \u001b[38;5;124m\"\u001b[39m\u001b[38;5;124mPlease compute the cycle lineages first with `model.add_cycle_data()`.\u001b[39m\u001b[38;5;124m\"\u001b[39m\n\u001b[0;32m    694\u001b[0m     )\n\u001b[0;32m    695\u001b[0m \u001b[38;5;28mself\u001b[39m\u001b[38;5;241m.\u001b[39mfeat_declaration\u001b[38;5;241m.\u001b[39m_add_feature(calculator\u001b[38;5;241m.\u001b[39mfeature)\n\u001b[0;32m    696\u001b[0m \u001b[38;5;28mself\u001b[39m\u001b[38;5;241m.\u001b[39m_updater\u001b[38;5;241m.\u001b[39mregister_calculator(calculator)\n",
      "\u001b[1;31mValueError\u001b[0m: Cycle lineages have not been computed yet. Please compute the cycle lineages first with `model.add_cycle_data()`."
     ]
    }
   ],
   "source": [
    "model.add_division_time()"
   ]
  },
  {
   "cell_type": "markdown",
   "metadata": {},
   "source": [
    "To compute and add the cycle lineages to the model, just call the `add_cycle_data()` method on the model:"
   ]
  },
  {
   "cell_type": "code",
   "execution_count": 12,
   "metadata": {},
   "outputs": [],
   "source": [
    "model.add_cycle_data()"
   ]
  },
  {
   "cell_type": "markdown",
   "metadata": {},
   "source": [
    "A few mandatory cycle lineage features are automatically computed:\n",
    "- cycle_ID: node ID of the cell cycle, i.e. node ID of the last cell in the cell cycle;\n",
    "- cells: node IDs of the cells in the cell cycle, in chronological order;\n",
    "- cycle_length: number of cells in the cell cycle;\n",
    "- level: level of the cell cycle in the lineage, i.e. number of cell cycles upstream of the current one."
   ]
  },
  {
   "cell_type": "code",
   "execution_count": 13,
   "metadata": {},
   "outputs": [
    {
     "data": {
      "application/vnd.plotly.v1+json": {
       "config": {
        "plotlyServerURL": "https://plot.ly"
       },
       "data": [
        {
         "mode": "lines",
         "name": "Edges",
         "text": [],
         "type": "scatter",
         "x": [
          0.6875,
          0.1875,
          null,
          0.6875,
          1.1875,
          null,
          -2.8125,
          -3.3125,
          null,
          -2.8125,
          -2.3125,
          null,
          -0.8125,
          -1.3125,
          null,
          -0.8125,
          -0.3125,
          null,
          2.1875,
          1.6875,
          null,
          2.1875,
          2.6875,
          null,
          -4.8125,
          -4.3125,
          null,
          -4.8125,
          -5.3125,
          null,
          4.1875,
          3.6875,
          null,
          4.1875,
          4.6875,
          null,
          -6.8125,
          -6.3125,
          null,
          -6.8125,
          -7.3125,
          null,
          0,
          3.3125,
          null,
          0,
          -3.3125,
          null,
          -3.3125,
          -1.3125,
          null,
          -3.3125,
          -5.3125,
          null,
          3.3125,
          1.9375,
          null,
          3.3125,
          4.6875,
          null,
          -5.3125,
          -6.3125,
          null,
          -5.3125,
          -4.3125,
          null,
          1.9375,
          3.1875,
          null,
          1.9375,
          0.6875,
          null,
          -1.3125,
          -0.8125,
          null,
          -1.3125,
          -1.8125,
          null,
          4.6875,
          4.1875,
          null,
          4.6875,
          5.1875,
          null,
          3.1875,
          4.1875,
          null,
          3.1875,
          2.1875,
          null,
          -6.3125,
          -5.8125,
          null,
          -6.3125,
          -6.8125,
          null,
          -4.3125,
          -4.8125,
          null,
          -4.3125,
          -3.8125,
          null,
          -1.8125,
          -0.8125,
          null,
          -1.8125,
          -2.8125,
          null
         ],
         "y": [
          3,
          4,
          null,
          3,
          4,
          null,
          4,
          5,
          null,
          4,
          5,
          null,
          4,
          5,
          null,
          4,
          5,
          null,
          4,
          5,
          null,
          4,
          5,
          null,
          4,
          5,
          null,
          4,
          5,
          null,
          4,
          5,
          null,
          4,
          5,
          null,
          4,
          5,
          null,
          4,
          5,
          null,
          0,
          1,
          null,
          0,
          1,
          null,
          1,
          2,
          null,
          1,
          2,
          null,
          1,
          2,
          null,
          1,
          2,
          null,
          2,
          3,
          null,
          2,
          3,
          null,
          2,
          3,
          null,
          2,
          3,
          null,
          2,
          3,
          null,
          2,
          3,
          null,
          2,
          3,
          null,
          2,
          3,
          null,
          3,
          4,
          null,
          3,
          4,
          null,
          3,
          4,
          null,
          3,
          4,
          null,
          3,
          4,
          null,
          3,
          4,
          null,
          3,
          4,
          null,
          3,
          4,
          null
         ]
        },
        {
         "hoverinfo": "text",
         "hovertemplate": "%{text}",
         "mode": "markers",
         "name": "lineage_ID: 0",
         "text": [
          "cycle_ID: 9230<br>level: 3<br>cycle_length: 7<br>",
          "cycle_ID: 9356<br>level: 4<br>cycle_length: 3<br>",
          "cycle_ID: 9438<br>level: 4<br>cycle_length: 4<br>",
          "cycle_ID: 9464<br>level: 4<br>cycle_length: 6<br>",
          "cycle_ID: 9483<br>level: 4<br>cycle_length: 4<br>",
          "cycle_ID: 9492<br>level: 4<br>cycle_length: 6<br>",
          "cycle_ID: 9498<br>level: 4<br>cycle_length: 4<br>",
          "cycle_ID: 8993<br>level: 0<br>cycle_length: 1<br>",
          "cycle_ID: 9019<br>level: 1<br>cycle_length: 6<br>",
          "cycle_ID: 9020<br>level: 1<br>cycle_length: 6<br>",
          "cycle_ID: 9051<br>level: 2<br>cycle_length: 5<br>",
          "cycle_ID: 9052<br>level: 2<br>cycle_length: 5<br>",
          "cycle_ID: 9106<br>level: 2<br>cycle_length: 6<br>",
          "cycle_ID: 9108<br>level: 2<br>cycle_length: 6<br>",
          "cycle_ID: 9156<br>level: 3<br>cycle_length: 4<br>",
          "cycle_ID: 9194<br>level: 3<br>cycle_length: 6<br>",
          "cycle_ID: 9195<br>level: 3<br>cycle_length: 6<br>",
          "cycle_ID: 9206<br>level: 3<br>cycle_length: 5<br>",
          "cycle_ID: 9375<br>level: 5<br>cycle_length: 1<br>",
          "cycle_ID: 9382<br>level: 3<br>cycle_length: 10<br>",
          "cycle_ID: 9384<br>level: 3<br>cycle_length: 10<br>",
          "cycle_ID: 9389<br>level: 5<br>cycle_length: 1<br>",
          "cycle_ID: 9390<br>level: 4<br>cycle_length: 4<br>",
          "cycle_ID: 9395<br>level: 3<br>cycle_length: 10<br>",
          "cycle_ID: 9398<br>level: 5<br>cycle_length: 1<br>",
          "cycle_ID: 9402<br>level: 5<br>cycle_length: 1<br>",
          "cycle_ID: 9416<br>level: 5<br>cycle_length: 1<br>",
          "cycle_ID: 9440<br>level: 5<br>cycle_length: 2<br>",
          "cycle_ID: 9444<br>level: 5<br>cycle_length: 2<br>",
          "cycle_ID: 9446<br>level: 4<br>cycle_length: 4<br>",
          "cycle_ID: 9448<br>level: 5<br>cycle_length: 1<br>",
          "cycle_ID: 9449<br>level: 5<br>cycle_length: 1<br>",
          "cycle_ID: 9463<br>level: 4<br>cycle_length: 5<br>",
          "cycle_ID: 9465<br>level: 5<br>cycle_length: 1<br>",
          "cycle_ID: 9470<br>level: 4<br>cycle_length: 5<br>",
          "cycle_ID: 9476<br>level: 5<br>cycle_length: 1<br>",
          "cycle_ID: 9480<br>level: 5<br>cycle_length: 1<br>"
         ],
         "type": "scatter",
         "x": [
          0.6875,
          -2.8125,
          -0.8125,
          2.1875,
          -4.8125,
          4.1875,
          -6.8125,
          0,
          -3.3125,
          3.3125,
          -5.3125,
          1.9375,
          -1.3125,
          4.6875,
          3.1875,
          -6.3125,
          -4.3125,
          -1.8125,
          1.6875,
          -0.8125,
          4.1875,
          -1.3125,
          0.1875,
          5.1875,
          2.6875,
          -5.3125,
          -7.3125,
          -3.3125,
          -2.3125,
          1.1875,
          -6.3125,
          -0.3125,
          -5.8125,
          -4.3125,
          -3.8125,
          3.6875,
          4.6875
         ],
         "y": [
          3,
          4,
          4,
          4,
          4,
          4,
          4,
          0,
          1,
          1,
          2,
          2,
          2,
          2,
          3,
          3,
          3,
          3,
          5,
          3,
          3,
          5,
          4,
          3,
          5,
          5,
          5,
          5,
          5,
          4,
          5,
          5,
          4,
          5,
          4,
          5,
          5
         ]
        }
       ],
       "layout": {
        "hovermode": "closest",
        "showlegend": true,
        "template": {
         "data": {
          "bar": [
           {
            "error_x": {
             "color": "#2a3f5f"
            },
            "error_y": {
             "color": "#2a3f5f"
            },
            "marker": {
             "line": {
              "color": "#E5ECF6",
              "width": 0.5
             },
             "pattern": {
              "fillmode": "overlay",
              "size": 10,
              "solidity": 0.2
             }
            },
            "type": "bar"
           }
          ],
          "barpolar": [
           {
            "marker": {
             "line": {
              "color": "#E5ECF6",
              "width": 0.5
             },
             "pattern": {
              "fillmode": "overlay",
              "size": 10,
              "solidity": 0.2
             }
            },
            "type": "barpolar"
           }
          ],
          "carpet": [
           {
            "aaxis": {
             "endlinecolor": "#2a3f5f",
             "gridcolor": "white",
             "linecolor": "white",
             "minorgridcolor": "white",
             "startlinecolor": "#2a3f5f"
            },
            "baxis": {
             "endlinecolor": "#2a3f5f",
             "gridcolor": "white",
             "linecolor": "white",
             "minorgridcolor": "white",
             "startlinecolor": "#2a3f5f"
            },
            "type": "carpet"
           }
          ],
          "choropleth": [
           {
            "colorbar": {
             "outlinewidth": 0,
             "ticks": ""
            },
            "type": "choropleth"
           }
          ],
          "contour": [
           {
            "colorbar": {
             "outlinewidth": 0,
             "ticks": ""
            },
            "colorscale": [
             [
              0,
              "#0d0887"
             ],
             [
              0.1111111111111111,
              "#46039f"
             ],
             [
              0.2222222222222222,
              "#7201a8"
             ],
             [
              0.3333333333333333,
              "#9c179e"
             ],
             [
              0.4444444444444444,
              "#bd3786"
             ],
             [
              0.5555555555555556,
              "#d8576b"
             ],
             [
              0.6666666666666666,
              "#ed7953"
             ],
             [
              0.7777777777777778,
              "#fb9f3a"
             ],
             [
              0.8888888888888888,
              "#fdca26"
             ],
             [
              1,
              "#f0f921"
             ]
            ],
            "type": "contour"
           }
          ],
          "contourcarpet": [
           {
            "colorbar": {
             "outlinewidth": 0,
             "ticks": ""
            },
            "type": "contourcarpet"
           }
          ],
          "heatmap": [
           {
            "colorbar": {
             "outlinewidth": 0,
             "ticks": ""
            },
            "colorscale": [
             [
              0,
              "#0d0887"
             ],
             [
              0.1111111111111111,
              "#46039f"
             ],
             [
              0.2222222222222222,
              "#7201a8"
             ],
             [
              0.3333333333333333,
              "#9c179e"
             ],
             [
              0.4444444444444444,
              "#bd3786"
             ],
             [
              0.5555555555555556,
              "#d8576b"
             ],
             [
              0.6666666666666666,
              "#ed7953"
             ],
             [
              0.7777777777777778,
              "#fb9f3a"
             ],
             [
              0.8888888888888888,
              "#fdca26"
             ],
             [
              1,
              "#f0f921"
             ]
            ],
            "type": "heatmap"
           }
          ],
          "heatmapgl": [
           {
            "colorbar": {
             "outlinewidth": 0,
             "ticks": ""
            },
            "colorscale": [
             [
              0,
              "#0d0887"
             ],
             [
              0.1111111111111111,
              "#46039f"
             ],
             [
              0.2222222222222222,
              "#7201a8"
             ],
             [
              0.3333333333333333,
              "#9c179e"
             ],
             [
              0.4444444444444444,
              "#bd3786"
             ],
             [
              0.5555555555555556,
              "#d8576b"
             ],
             [
              0.6666666666666666,
              "#ed7953"
             ],
             [
              0.7777777777777778,
              "#fb9f3a"
             ],
             [
              0.8888888888888888,
              "#fdca26"
             ],
             [
              1,
              "#f0f921"
             ]
            ],
            "type": "heatmapgl"
           }
          ],
          "histogram": [
           {
            "marker": {
             "pattern": {
              "fillmode": "overlay",
              "size": 10,
              "solidity": 0.2
             }
            },
            "type": "histogram"
           }
          ],
          "histogram2d": [
           {
            "colorbar": {
             "outlinewidth": 0,
             "ticks": ""
            },
            "colorscale": [
             [
              0,
              "#0d0887"
             ],
             [
              0.1111111111111111,
              "#46039f"
             ],
             [
              0.2222222222222222,
              "#7201a8"
             ],
             [
              0.3333333333333333,
              "#9c179e"
             ],
             [
              0.4444444444444444,
              "#bd3786"
             ],
             [
              0.5555555555555556,
              "#d8576b"
             ],
             [
              0.6666666666666666,
              "#ed7953"
             ],
             [
              0.7777777777777778,
              "#fb9f3a"
             ],
             [
              0.8888888888888888,
              "#fdca26"
             ],
             [
              1,
              "#f0f921"
             ]
            ],
            "type": "histogram2d"
           }
          ],
          "histogram2dcontour": [
           {
            "colorbar": {
             "outlinewidth": 0,
             "ticks": ""
            },
            "colorscale": [
             [
              0,
              "#0d0887"
             ],
             [
              0.1111111111111111,
              "#46039f"
             ],
             [
              0.2222222222222222,
              "#7201a8"
             ],
             [
              0.3333333333333333,
              "#9c179e"
             ],
             [
              0.4444444444444444,
              "#bd3786"
             ],
             [
              0.5555555555555556,
              "#d8576b"
             ],
             [
              0.6666666666666666,
              "#ed7953"
             ],
             [
              0.7777777777777778,
              "#fb9f3a"
             ],
             [
              0.8888888888888888,
              "#fdca26"
             ],
             [
              1,
              "#f0f921"
             ]
            ],
            "type": "histogram2dcontour"
           }
          ],
          "mesh3d": [
           {
            "colorbar": {
             "outlinewidth": 0,
             "ticks": ""
            },
            "type": "mesh3d"
           }
          ],
          "parcoords": [
           {
            "line": {
             "colorbar": {
              "outlinewidth": 0,
              "ticks": ""
             }
            },
            "type": "parcoords"
           }
          ],
          "pie": [
           {
            "automargin": true,
            "type": "pie"
           }
          ],
          "scatter": [
           {
            "fillpattern": {
             "fillmode": "overlay",
             "size": 10,
             "solidity": 0.2
            },
            "type": "scatter"
           }
          ],
          "scatter3d": [
           {
            "line": {
             "colorbar": {
              "outlinewidth": 0,
              "ticks": ""
             }
            },
            "marker": {
             "colorbar": {
              "outlinewidth": 0,
              "ticks": ""
             }
            },
            "type": "scatter3d"
           }
          ],
          "scattercarpet": [
           {
            "marker": {
             "colorbar": {
              "outlinewidth": 0,
              "ticks": ""
             }
            },
            "type": "scattercarpet"
           }
          ],
          "scattergeo": [
           {
            "marker": {
             "colorbar": {
              "outlinewidth": 0,
              "ticks": ""
             }
            },
            "type": "scattergeo"
           }
          ],
          "scattergl": [
           {
            "marker": {
             "colorbar": {
              "outlinewidth": 0,
              "ticks": ""
             }
            },
            "type": "scattergl"
           }
          ],
          "scattermapbox": [
           {
            "marker": {
             "colorbar": {
              "outlinewidth": 0,
              "ticks": ""
             }
            },
            "type": "scattermapbox"
           }
          ],
          "scatterpolar": [
           {
            "marker": {
             "colorbar": {
              "outlinewidth": 0,
              "ticks": ""
             }
            },
            "type": "scatterpolar"
           }
          ],
          "scatterpolargl": [
           {
            "marker": {
             "colorbar": {
              "outlinewidth": 0,
              "ticks": ""
             }
            },
            "type": "scatterpolargl"
           }
          ],
          "scatterternary": [
           {
            "marker": {
             "colorbar": {
              "outlinewidth": 0,
              "ticks": ""
             }
            },
            "type": "scatterternary"
           }
          ],
          "surface": [
           {
            "colorbar": {
             "outlinewidth": 0,
             "ticks": ""
            },
            "colorscale": [
             [
              0,
              "#0d0887"
             ],
             [
              0.1111111111111111,
              "#46039f"
             ],
             [
              0.2222222222222222,
              "#7201a8"
             ],
             [
              0.3333333333333333,
              "#9c179e"
             ],
             [
              0.4444444444444444,
              "#bd3786"
             ],
             [
              0.5555555555555556,
              "#d8576b"
             ],
             [
              0.6666666666666666,
              "#ed7953"
             ],
             [
              0.7777777777777778,
              "#fb9f3a"
             ],
             [
              0.8888888888888888,
              "#fdca26"
             ],
             [
              1,
              "#f0f921"
             ]
            ],
            "type": "surface"
           }
          ],
          "table": [
           {
            "cells": {
             "fill": {
              "color": "#EBF0F8"
             },
             "line": {
              "color": "white"
             }
            },
            "header": {
             "fill": {
              "color": "#C8D4E3"
             },
             "line": {
              "color": "white"
             }
            },
            "type": "table"
           }
          ]
         },
         "layout": {
          "annotationdefaults": {
           "arrowcolor": "#2a3f5f",
           "arrowhead": 0,
           "arrowwidth": 1
          },
          "autotypenumbers": "strict",
          "coloraxis": {
           "colorbar": {
            "outlinewidth": 0,
            "ticks": ""
           }
          },
          "colorscale": {
           "diverging": [
            [
             0,
             "#8e0152"
            ],
            [
             0.1,
             "#c51b7d"
            ],
            [
             0.2,
             "#de77ae"
            ],
            [
             0.3,
             "#f1b6da"
            ],
            [
             0.4,
             "#fde0ef"
            ],
            [
             0.5,
             "#f7f7f7"
            ],
            [
             0.6,
             "#e6f5d0"
            ],
            [
             0.7,
             "#b8e186"
            ],
            [
             0.8,
             "#7fbc41"
            ],
            [
             0.9,
             "#4d9221"
            ],
            [
             1,
             "#276419"
            ]
           ],
           "sequential": [
            [
             0,
             "#0d0887"
            ],
            [
             0.1111111111111111,
             "#46039f"
            ],
            [
             0.2222222222222222,
             "#7201a8"
            ],
            [
             0.3333333333333333,
             "#9c179e"
            ],
            [
             0.4444444444444444,
             "#bd3786"
            ],
            [
             0.5555555555555556,
             "#d8576b"
            ],
            [
             0.6666666666666666,
             "#ed7953"
            ],
            [
             0.7777777777777778,
             "#fb9f3a"
            ],
            [
             0.8888888888888888,
             "#fdca26"
            ],
            [
             1,
             "#f0f921"
            ]
           ],
           "sequentialminus": [
            [
             0,
             "#0d0887"
            ],
            [
             0.1111111111111111,
             "#46039f"
            ],
            [
             0.2222222222222222,
             "#7201a8"
            ],
            [
             0.3333333333333333,
             "#9c179e"
            ],
            [
             0.4444444444444444,
             "#bd3786"
            ],
            [
             0.5555555555555556,
             "#d8576b"
            ],
            [
             0.6666666666666666,
             "#ed7953"
            ],
            [
             0.7777777777777778,
             "#fb9f3a"
            ],
            [
             0.8888888888888888,
             "#fdca26"
            ],
            [
             1,
             "#f0f921"
            ]
           ]
          },
          "colorway": [
           "#636efa",
           "#EF553B",
           "#00cc96",
           "#ab63fa",
           "#FFA15A",
           "#19d3f3",
           "#FF6692",
           "#B6E880",
           "#FF97FF",
           "#FECB52"
          ],
          "font": {
           "color": "#2a3f5f"
          },
          "geo": {
           "bgcolor": "white",
           "lakecolor": "white",
           "landcolor": "#E5ECF6",
           "showlakes": true,
           "showland": true,
           "subunitcolor": "white"
          },
          "hoverlabel": {
           "align": "left"
          },
          "hovermode": "closest",
          "mapbox": {
           "style": "light"
          },
          "paper_bgcolor": "white",
          "plot_bgcolor": "#E5ECF6",
          "polar": {
           "angularaxis": {
            "gridcolor": "white",
            "linecolor": "white",
            "ticks": ""
           },
           "bgcolor": "#E5ECF6",
           "radialaxis": {
            "gridcolor": "white",
            "linecolor": "white",
            "ticks": ""
           }
          },
          "scene": {
           "xaxis": {
            "backgroundcolor": "#E5ECF6",
            "gridcolor": "white",
            "gridwidth": 2,
            "linecolor": "white",
            "showbackground": true,
            "ticks": "",
            "zerolinecolor": "white"
           },
           "yaxis": {
            "backgroundcolor": "#E5ECF6",
            "gridcolor": "white",
            "gridwidth": 2,
            "linecolor": "white",
            "showbackground": true,
            "ticks": "",
            "zerolinecolor": "white"
           },
           "zaxis": {
            "backgroundcolor": "#E5ECF6",
            "gridcolor": "white",
            "gridwidth": 2,
            "linecolor": "white",
            "showbackground": true,
            "ticks": "",
            "zerolinecolor": "white"
           }
          },
          "shapedefaults": {
           "line": {
            "color": "#2a3f5f"
           }
          },
          "ternary": {
           "aaxis": {
            "gridcolor": "white",
            "linecolor": "white",
            "ticks": ""
           },
           "baxis": {
            "gridcolor": "white",
            "linecolor": "white",
            "ticks": ""
           },
           "bgcolor": "#E5ECF6",
           "caxis": {
            "gridcolor": "white",
            "linecolor": "white",
            "ticks": ""
           }
          },
          "title": {
           "x": 0.05
          },
          "xaxis": {
           "automargin": true,
           "gridcolor": "white",
           "linecolor": "white",
           "ticks": "",
           "title": {
            "standoff": 15
           },
           "zerolinecolor": "white",
           "zerolinewidth": 2
          },
          "yaxis": {
           "automargin": true,
           "gridcolor": "white",
           "linecolor": "white",
           "ticks": "",
           "title": {
            "standoff": 15
           },
           "zerolinecolor": "white",
           "zerolinewidth": 2
          }
         }
        },
        "title": {
         "text": "Cycle lineage of lineage ID 0"
        },
        "xaxis": {
         "showgrid": false,
         "showticklabels": false,
         "zeroline": false
        },
        "yaxis": {
         "autorange": "reversed",
         "showgrid": true,
         "title": {
          "text": "Cell cycle level"
         },
         "zeroline": true
        }
       }
      }
     },
     "metadata": {},
     "output_type": "display_data"
    }
   ],
   "source": [
    "cyclelin0 = model.data.cycle_data[0]\n",
    "cyclelin0.plot(\n",
    "    title=\"Cycle lineage of lineage ID 0\",\n",
    "    node_hover_features=[\"cycle_ID\", \"level\", \"cycle_length\"],\n",
    ")"
   ]
  },
  {
   "cell_type": "markdown",
   "metadata": {},
   "source": [
    "List of available Pycellin features for cell cycle lineages:"
   ]
  },
  {
   "cell_type": "code",
   "execution_count": 14,
   "metadata": {},
   "outputs": [
    {
     "data": {
      "text/plain": [
       "{'branch_total_displacement': 'Displacement of the cell during the cell cycle',\n",
       " 'branch_mean_displacement': 'Mean displacement of the cell during the cell cycle',\n",
       " 'branch_mean_speed': 'Mean speed of the cell during the cell cycle',\n",
       " 'cell_cycle_completeness': 'Completeness of the cell cycle, i.e. does it start and end with a division',\n",
       " 'division_time': 'Time elapsed between the birth of a cell and its division',\n",
       " 'division_rate': 'Number of divisions per time unit',\n",
       " 'straightness': 'Straightness of the cell trajectory'}"
      ]
     },
     "execution_count": 14,
     "metadata": {},
     "output_type": "execute_result"
    }
   ],
   "source": [
    "pc.get_pycellin_cycle_lineage_features()"
   ]
  },
  {
   "cell_type": "markdown",
   "metadata": {},
   "source": [
    "Like for cell lineages, you can add new features either one by one by calling the method specific to your feature:"
   ]
  },
  {
   "cell_type": "code",
   "execution_count": 15,
   "metadata": {},
   "outputs": [],
   "source": [
    "model.add_division_rate()"
   ]
  },
  {
   "cell_type": "markdown",
   "metadata": {},
   "source": [
    "Or the generic `add_pycellin_feature()`:\n",
    "\n",
    "``` python\n",
    "model.add_pycellin_feature(\"division_rate\")\n",
    "```"
   ]
  },
  {
   "cell_type": "markdown",
   "metadata": {},
   "source": [
    "Or several features at once with `add_pycellin_features()`:"
   ]
  },
  {
   "cell_type": "code",
   "execution_count": 16,
   "metadata": {},
   "outputs": [],
   "source": [
    "model.add_pycellin_features([\"division_time\", \"cell_cycle_completeness\"])"
   ]
  },
  {
   "cell_type": "markdown",
   "metadata": {},
   "source": [
    "Cell lineage and cycle lineage features can be added at the same time without issue, given that cycle lineage data has already been computed:"
   ]
  },
  {
   "cell_type": "code",
   "execution_count": 17,
   "metadata": {},
   "outputs": [],
   "source": [
    "model.add_pycellin_features(\n",
    "    [\n",
    "        \"cell_displacement\",  # cell lineage feature\n",
    "        \"branch_total_displacement\",  # cycle lineage feature\n",
    "        \"cell_speed\",  # cell lineage feature\n",
    "    ]\n",
    ")"
   ]
  },
  {
   "cell_type": "markdown",
   "metadata": {},
   "source": [
    "To check which cell lineage features are currently present in the model:"
   ]
  },
  {
   "cell_type": "code",
   "execution_count": 18,
   "metadata": {},
   "outputs": [
    {
     "data": {
      "text/plain": [
       "['cycle_ID',\n",
       " 'cells',\n",
       " 'cycle_length',\n",
       " 'level',\n",
       " 'division_rate',\n",
       " 'division_time',\n",
       " 'cell_cycle_completeness',\n",
       " 'branch_total_displacement']"
      ]
     },
     "execution_count": 18,
     "metadata": {},
     "output_type": "execute_result"
    }
   ],
   "source": [
    "model.get_cycle_lineage_features()"
   ]
  },
  {
   "cell_type": "markdown",
   "metadata": {},
   "source": [
    "### For optional arguments"
   ]
  },
  {
   "cell_type": "markdown",
   "metadata": {},
   "source": [
    "Some features accept optional arguments, often to tweak the way the feature is defined and computed: change of unit, change of algorithm...\n",
    "\n",
    "When adding features one by one, additional arguments are given like classic optional argument.\n",
    "\n",
    "For example, with feature specific methods:\n",
    "\n",
    "``` python\n",
    "model.add_relative_age(in_time_unit=True)\n",
    "model.add_cell_length(skel_algo=\"lee\", tolerance=0.6)\n",
    "```"
   ]
  },
  {
   "cell_type": "markdown",
   "metadata": {},
   "source": [
    "And with the generic `add_pycellin_feature()`:\n",
    "\n",
    "``` python\n",
    "model.add_pycellin_feature(\"relative_age\", in_time_unit=True)\n",
    "model.add_pycellin_feature(\"cell_length\", skel_algo=\"lee\", tolerance=0.6)\n",
    "```"
   ]
  },
  {
   "cell_type": "markdown",
   "metadata": {},
   "source": [
    "When adding several features at the same time, features are given as a dictionary with the name of the feature as the key and additional keyword arguments as values:\n",
    "\n",
    "``` python\n",
    "model.add_pycellin_features(\n",
    "    {\n",
    "        \"relative_age\": {\"in_time_unit\": True},\n",
    "        \"cell_length\": {\"skel_algo\": \"lee\", \"tolerance\": 0.6},\n",
    "    }\n",
    ")\n",
    "```"
   ]
  },
  {
   "cell_type": "markdown",
   "metadata": {},
   "source": [
    "It is also possible to mix features with and without additional arguments:\n",
    "\n",
    "``` python\n",
    "model.add_pycellin_features(\n",
    "    [{\"relative_age\": {\"in_time_unit\": True}}, \"cell_cycle_completeness\"]\n",
    ")\n",
    "```"
   ]
  },
  {
   "cell_type": "markdown",
   "metadata": {},
   "source": [
    "## Computing or recomputing features"
   ]
  },
  {
   "cell_type": "markdown",
   "metadata": {},
   "source": [
    "Now that the Pycellin features we are interested in have been declared, we want to actually compute their values to enrich the lineages. To do this, we need to ask the model to perform an update:"
   ]
  },
  {
   "cell_type": "code",
   "execution_count": 19,
   "metadata": {
    "tags": []
   },
   "outputs": [
    {
     "name": "stdout",
     "output_type": "stream",
     "text": [
      "WARNING: One pixel skeleton on node 9350! The object is probably roundish and the radius is a better metric in that case. Setting the length and width to NaN.\n"
     ]
    }
   ],
   "source": [
    "model.update()"
   ]
  },
  {
   "cell_type": "markdown",
   "metadata": {},
   "source": [
    "More generally, an update computes or recomputes all the needed features on the impacted structural elements of the model (cells, cycles (if cycle data is present), links and lineages).\n",
    "\n",
    "We can now check that the values have been computed and stored in the lineage by directly accessing the feature value of a specific cell or cell cycle:"
   ]
  },
  {
   "cell_type": "code",
   "execution_count": 20,
   "metadata": {},
   "outputs": [
    {
     "name": "stdout",
     "output_type": "stream",
     "text": [
      "0\n",
      "2.754430235429518\n",
      "0.16666666666666666\n"
     ]
    }
   ],
   "source": [
    "# For the cell lineage\n",
    "print(lin0.nodes[9013][\"relative_age\"])\n",
    "print(lin0.nodes[9013][\"cell_length\"])\n",
    "\n",
    "# For the cycle lineage\n",
    "print(cyclelin0.nodes[9019][\"division_rate\"])"
   ]
  },
  {
   "cell_type": "markdown",
   "metadata": {},
   "source": [
    "Or by plotting a lineage of the model and asking for the feature of interest when hovering over the lineage elements:"
   ]
  },
  {
   "cell_type": "code",
   "execution_count": 21,
   "metadata": {},
   "outputs": [
    {
     "data": {
      "application/vnd.plotly.v1+json": {
       "config": {
        "plotlyServerURL": "https://plot.ly"
       },
       "data": [
        {
         "mode": "lines",
         "name": "Edges",
         "text": [],
         "type": "scatter",
         "x": [
          0.8125,
          0.8125,
          null,
          -10.6875,
          -10.6875,
          null,
          2.8125,
          2.8125,
          null,
          -7.1875,
          -7.1875,
          null,
          -5.6875,
          -5.6875,
          null,
          -9.1875,
          -9.1875,
          null,
          -4.1875,
          -4.1875,
          null,
          4.8125,
          4.3125,
          null,
          4.8125,
          5.3125,
          null,
          -2.1875,
          -2.1875,
          null,
          -0.6875,
          -0.6875,
          null,
          7.3125,
          7.3125,
          null,
          6.3125,
          6.3125,
          null,
          -3.1875,
          -3.1875,
          null,
          -6.4375,
          -6.4375,
          null,
          0.8125,
          0.8125,
          null,
          -0.6875,
          -0.6875,
          null,
          7.3125,
          7.3125,
          null,
          2.8125,
          2.8125,
          null,
          -9.9375,
          -9.9375,
          null,
          4.8125,
          4.8125,
          null,
          7.3125,
          7.3125,
          null,
          -0.6875,
          -0.6875,
          null,
          0.8125,
          0.8125,
          null,
          -2.1875,
          -2.1875,
          null,
          -7.1875,
          -7.1875,
          null,
          -10.6875,
          -10.6875,
          null,
          4.3125,
          4.3125,
          null,
          2.8125,
          2.8125,
          null,
          -5.6875,
          -5.6875,
          null,
          -9.1875,
          -9.1875,
          null,
          -4.1875,
          -4.1875,
          null,
          5.3125,
          5.3125,
          null,
          -0.6875,
          -0.6875,
          null,
          6.3125,
          6.3125,
          null,
          6.3125,
          6.3125,
          null,
          0.8125,
          0.8125,
          null,
          -7.1875,
          -7.1875,
          null,
          -10.6875,
          -10.6875,
          null,
          4.3125,
          4.3125,
          null,
          7.3125,
          7.3125,
          null,
          -2.1875,
          -2.1875,
          null,
          2.8125,
          2.8125,
          null,
          -5.6875,
          -5.6875,
          null,
          -4.1875,
          -4.6875,
          null,
          -4.1875,
          -3.6875,
          null,
          -9.1875,
          -9.1875,
          null,
          5.3125,
          5.3125,
          null,
          -0.6875,
          -0.6875,
          null,
          6.3125,
          6.3125,
          null,
          -2.1875,
          -2.6875,
          null,
          -2.1875,
          -1.6875,
          null,
          4.3125,
          4.3125,
          null,
          7.3125,
          7.3125,
          null,
          2.8125,
          2.3125,
          null,
          2.8125,
          3.3125,
          null,
          -10.6875,
          -10.6875,
          null,
          -4.6875,
          -4.6875,
          null,
          -9.1875,
          -8.6875,
          null,
          -9.1875,
          -9.6875,
          null,
          5.3125,
          5.3125,
          null,
          -5.6875,
          -5.6875,
          null,
          0.8125,
          0.3125,
          null,
          0.8125,
          1.3125,
          null,
          -3.6875,
          -3.6875,
          null,
          5.0625,
          5.0625,
          null,
          -7.1875,
          -6.6875,
          null,
          -7.1875,
          -7.6875,
          null,
          5.0625,
          5.0625,
          null,
          -5.0625,
          -5.0625,
          null,
          0,
          5.0625,
          null,
          0,
          -5.0625,
          null,
          -5.0625,
          -5.0625,
          null,
          5.0625,
          5.0625,
          null,
          -5.0625,
          -5.0625,
          null,
          5.0625,
          5.0625,
          null,
          -5.0625,
          -5.0625,
          null,
          -5.0625,
          -5.0625,
          null,
          5.0625,
          5.0625,
          null,
          -5.0625,
          -1.9375,
          null,
          -5.0625,
          -8.1875,
          null,
          5.0625,
          3.3125,
          null,
          5.0625,
          6.8125,
          null,
          -8.1875,
          -8.1875,
          null,
          -1.9375,
          -1.9375,
          null,
          3.3125,
          3.3125,
          null,
          6.8125,
          6.8125,
          null,
          -8.1875,
          -8.1875,
          null,
          -1.9375,
          -1.9375,
          null,
          3.3125,
          3.3125,
          null,
          6.8125,
          6.8125,
          null,
          -8.1875,
          -6.4375,
          null,
          -8.1875,
          -9.9375,
          null,
          3.3125,
          1.8125,
          null,
          3.3125,
          4.8125,
          null,
          -1.9375,
          -1.9375,
          null,
          6.8125,
          6.8125,
          null,
          -8.1875,
          -8.1875,
          null,
          3.3125,
          3.3125,
          null,
          -1.9375,
          -1.9375,
          null,
          6.8125,
          6.8125,
          null,
          6.3125,
          6.3125,
          null,
          -3.1875,
          -3.1875,
          null,
          -6.4375,
          -6.4375,
          null,
          1.8125,
          1.8125,
          null,
          7.3125,
          7.3125,
          null,
          -9.9375,
          -9.9375,
          null,
          4.8125,
          4.8125,
          null,
          -0.6875,
          -0.6875,
          null,
          1.8125,
          1.8125,
          null,
          -9.9375,
          -9.9375,
          null,
          4.8125,
          4.8125,
          null,
          -6.4375,
          -6.4375,
          null,
          -1.9375,
          -0.6875,
          null,
          -1.9375,
          -3.1875,
          null,
          6.8125,
          6.3125,
          null,
          6.8125,
          7.3125,
          null,
          6.3125,
          6.3125,
          null,
          -3.1875,
          -3.1875,
          null,
          -6.4375,
          -6.4375,
          null,
          -8.1875,
          -8.1875,
          null,
          1.8125,
          1.8125,
          null,
          -1.9375,
          -1.9375,
          null,
          3.3125,
          3.3125,
          null,
          6.8125,
          6.8125,
          null,
          7.3125,
          7.3125,
          null,
          -9.9375,
          -9.9375,
          null,
          4.8125,
          4.8125,
          null,
          -0.6875,
          -0.6875,
          null,
          6.3125,
          6.3125,
          null,
          1.8125,
          0.8125,
          null,
          1.8125,
          2.8125,
          null,
          -0.6875,
          -0.6875,
          null,
          7.3125,
          7.3125,
          null,
          -9.9375,
          -9.9375,
          null,
          -3.1875,
          -3.1875,
          null,
          4.8125,
          4.8125,
          null,
          -6.4375,
          -6.4375,
          null,
          6.3125,
          6.3125,
          null,
          0.8125,
          0.8125,
          null,
          -0.6875,
          -0.6875,
          null,
          7.3125,
          7.3125,
          null,
          2.8125,
          2.8125,
          null,
          -6.4375,
          -5.6875,
          null,
          -6.4375,
          -7.1875,
          null,
          -9.9375,
          -9.1875,
          null,
          -9.9375,
          -10.6875,
          null,
          4.8125,
          4.8125,
          null,
          -3.1875,
          -2.1875,
          null,
          -3.1875,
          -4.1875,
          null,
          6.3125,
          6.3125,
          null
         ],
         "y": [
          18,
          19,
          null,
          18,
          19,
          null,
          18,
          19,
          null,
          18,
          19,
          null,
          18,
          19,
          null,
          18,
          19,
          null,
          18,
          19,
          null,
          18,
          19,
          null,
          18,
          19,
          null,
          18,
          19,
          null,
          18,
          19,
          null,
          18,
          19,
          null,
          16,
          17,
          null,
          16,
          17,
          null,
          16,
          17,
          null,
          16,
          17,
          null,
          16,
          17,
          null,
          16,
          17,
          null,
          16,
          17,
          null,
          16,
          17,
          null,
          16,
          17,
          null,
          19,
          20,
          null,
          19,
          20,
          null,
          19,
          20,
          null,
          19,
          20,
          null,
          19,
          20,
          null,
          19,
          20,
          null,
          19,
          20,
          null,
          19,
          20,
          null,
          19,
          20,
          null,
          19,
          20,
          null,
          19,
          20,
          null,
          19,
          20,
          null,
          20,
          21,
          null,
          19,
          20,
          null,
          20,
          21,
          null,
          20,
          21,
          null,
          20,
          21,
          null,
          20,
          21,
          null,
          20,
          21,
          null,
          20,
          21,
          null,
          20,
          21,
          null,
          20,
          21,
          null,
          20,
          21,
          null,
          20,
          21,
          null,
          20,
          21,
          null,
          20,
          21,
          null,
          20,
          21,
          null,
          21,
          22,
          null,
          21,
          22,
          null,
          21,
          22,
          null,
          21,
          22,
          null,
          21,
          22,
          null,
          21,
          22,
          null,
          21,
          22,
          null,
          21,
          22,
          null,
          21,
          22,
          null,
          21,
          22,
          null,
          21,
          22,
          null,
          21,
          22,
          null,
          21,
          22,
          null,
          21,
          22,
          null,
          21,
          22,
          null,
          21,
          22,
          null,
          21,
          22,
          null,
          2,
          3,
          null,
          21,
          22,
          null,
          21,
          22,
          null,
          3,
          4,
          null,
          2,
          3,
          null,
          0,
          1,
          null,
          0,
          1,
          null,
          3,
          4,
          null,
          4,
          5,
          null,
          4,
          5,
          null,
          5,
          6,
          null,
          5,
          6,
          null,
          1,
          2,
          null,
          1,
          2,
          null,
          6,
          7,
          null,
          6,
          7,
          null,
          6,
          7,
          null,
          6,
          7,
          null,
          9,
          10,
          null,
          9,
          10,
          null,
          9,
          10,
          null,
          9,
          10,
          null,
          8,
          9,
          null,
          8,
          9,
          null,
          8,
          9,
          null,
          8,
          9,
          null,
          11,
          12,
          null,
          11,
          12,
          null,
          11,
          12,
          null,
          11,
          12,
          null,
          11,
          12,
          null,
          11,
          12,
          null,
          10,
          11,
          null,
          10,
          11,
          null,
          10,
          11,
          null,
          10,
          11,
          null,
          13,
          14,
          null,
          13,
          14,
          null,
          13,
          14,
          null,
          13,
          14,
          null,
          13,
          14,
          null,
          13,
          14,
          null,
          13,
          14,
          null,
          13,
          14,
          null,
          12,
          13,
          null,
          12,
          13,
          null,
          12,
          13,
          null,
          12,
          13,
          null,
          12,
          13,
          null,
          12,
          13,
          null,
          12,
          13,
          null,
          12,
          13,
          null,
          14,
          15,
          null,
          14,
          15,
          null,
          14,
          15,
          null,
          7,
          8,
          null,
          14,
          15,
          null,
          7,
          8,
          null,
          7,
          8,
          null,
          7,
          8,
          null,
          14,
          15,
          null,
          14,
          15,
          null,
          14,
          15,
          null,
          14,
          15,
          null,
          15,
          16,
          null,
          15,
          16,
          null,
          15,
          16,
          null,
          15,
          16,
          null,
          15,
          16,
          null,
          15,
          16,
          null,
          15,
          16,
          null,
          15,
          16,
          null,
          15,
          16,
          null,
          17,
          18,
          null,
          17,
          18,
          null,
          17,
          18,
          null,
          17,
          18,
          null,
          17,
          18,
          null,
          17,
          18,
          null,
          17,
          18,
          null,
          17,
          18,
          null,
          17,
          18,
          null,
          17,
          18,
          null,
          17,
          18,
          null,
          17,
          18,
          null,
          18,
          19,
          null
         ]
        },
        {
         "hoverinfo": "text",
         "hovertemplate": "%{text}",
         "mode": "markers",
         "name": "lineage_ID: 0",
         "text": [
          "cell_ID: 9216<br>relative_age: 2<br>cell_length: 4.930526607666679<br>",
          "cell_ID: 9218<br>relative_age: 0<br>cell_length: 4.243046334514064<br>",
          "cell_ID: 9222<br>relative_age: 2<br>cell_length: 4.780372142860941<br>",
          "cell_ID: 9223<br>relative_age: 0<br>cell_length: 3.72382914917224<br>",
          "cell_ID: 9227<br>relative_age: 0<br>cell_length: 3.838419939303516<br>",
          "cell_ID: 9228<br>relative_age: 0<br>cell_length: 3.8454558449630603<br>",
          "cell_ID: 9229<br>relative_age: 0<br>cell_length: 4.148672701914489<br>",
          "cell_ID: 9230<br>relative_age: 6<br>cell_length: 9.86754399549746<br>",
          "cell_ID: 9235<br>relative_age: 0<br>cell_length: 4.059292174996962<br>",
          "cell_ID: 9240<br>relative_age: 5<br>cell_length: 4.4336321828048195<br>",
          "cell_ID: 9250<br>relative_age: 5<br>cell_length: 9.66044167816182<br>",
          "cell_ID: 9252<br>relative_age: 3<br>cell_length: 6.89921687210906<br>",
          "cell_ID: 9255<br>relative_age: 3<br>cell_length: 6.033666096904018<br>",
          "cell_ID: 9258<br>relative_age: 4<br>cell_length: 5.688368646190159<br>",
          "cell_ID: 9259<br>relative_age: 0<br>cell_length: 3.487222205316279<br>",
          "cell_ID: 9262<br>relative_age: 3<br>cell_length: 5.882586110688829<br>",
          "cell_ID: 9263<br>relative_age: 3<br>cell_length: 6.634948638941796<br>",
          "cell_ID: 9271<br>relative_age: 0<br>cell_length: 3.413263715715175<br>",
          "cell_ID: 9274<br>relative_age: 4<br>cell_length: 5.952322644272098<br>",
          "cell_ID: 9277<br>relative_age: 4<br>cell_length: 6.737543589806262<br>",
          "cell_ID: 9279<br>relative_age: 6<br>cell_length: 10.781224765753564<br>",
          "cell_ID: 9286<br>relative_age: 6<br>cell_length: 5.2979007423432245<br>",
          "cell_ID: 9290<br>relative_age: 3<br>cell_length: 6.057483672359616<br>",
          "cell_ID: 9292<br>relative_age: 1<br>cell_length: 4.801621526938189<br>",
          "cell_ID: 9293<br>relative_age: 1<br>cell_length: 4.62541717540248<br>",
          "cell_ID: 9294<br>relative_age: 1<br>cell_length: 5.141955152919527<br>",
          "cell_ID: 9299<br>relative_age: 0<br>cell_length: 5.582093379486857<br>",
          "cell_ID: 9306<br>relative_age: 3<br>cell_length: 5.620801675332174<br>",
          "cell_ID: 9308<br>relative_age: 1<br>cell_length: 4.564735102293017<br>",
          "cell_ID: 9309<br>relative_age: 1<br>cell_length: 4.731520576691049<br>",
          "cell_ID: 9310<br>relative_age: 1<br>cell_length: 5.105264550754775<br>",
          "cell_ID: 9312<br>relative_age: 0<br>cell_length: 5.738800563683961<br>",
          "cell_ID: 9326<br>relative_age: 7<br>cell_length: 6.577661642825111<br>",
          "cell_ID: 9328<br>relative_age: 6<br>cell_length: 12.199122512563607<br>",
          "cell_ID: 9330<br>relative_age: 7<br>cell_length: 14.482209960351446<br>",
          "cell_ID: 9332<br>relative_age: 4<br>cell_length: 7.083612522501208<br>",
          "cell_ID: 9334<br>relative_age: 2<br>cell_length: 5.362153465347508<br>",
          "cell_ID: 9335<br>relative_age: 2<br>cell_length: 6.052138123570874<br>",
          "cell_ID: 9339<br>relative_age: 1<br>cell_length: 6.987592075199744<br>",
          "cell_ID: 9343<br>relative_age: 7<br>cell_length: 9.38987328082119<br>",
          "cell_ID: 9344<br>relative_age: 2<br>cell_length: 5.687544676400191<br>",
          "cell_ID: 9351<br>relative_age: 4<br>cell_length: 6.585056213415689<br>",
          "cell_ID: 9355<br>relative_age: 2<br>cell_length: 5.271352982339518<br>",
          "cell_ID: 9356<br>relative_age: 2<br>cell_length: 5.7744914989599465<br>",
          "cell_ID: 9357<br>relative_age: 2<br>cell_length: 5.945155086143516<br>",
          "cell_ID: 9358<br>relative_age: 1<br>cell_length: 6.845461718729148<br>",
          "cell_ID: 9375<br>relative_age: 0<br>cell_length: 4.7788314835579<br>",
          "cell_ID: 9382<br>relative_age: 9<br>cell_length: 8.839561907983464<br>",
          "cell_ID: 9384<br>relative_age: 9<br>cell_length: 21.032018728326154<br>",
          "cell_ID: 9389<br>relative_age: 0<br>cell_length: 4.056283687088043<br>",
          "cell_ID: 9390<br>relative_age: 3<br>cell_length: 10.182865607277357<br>",
          "cell_ID: 9395<br>relative_age: 9<br>cell_length: 8.852432684200929<br>",
          "cell_ID: 9398<br>relative_age: 0<br>cell_length: 4.3249279309929145<br>",
          "cell_ID: 9402<br>relative_age: 0<br>cell_length: 4.068580857344607<br>",
          "cell_ID: 9416<br>relative_age: 0<br>cell_length: 3.709038039840309<br>",
          "cell_ID: 9424<br>relative_age: 8<br>cell_length: 7.389383848541663<br>",
          "cell_ID: 9428<br>relative_age: 8<br>cell_length: 17.210227640148247<br>",
          "cell_ID: 9438<br>relative_age: 3<br>cell_length: 7.373881518390199<br>",
          "cell_ID: 9440<br>relative_age: 1<br>cell_length: 4.279047938217021<br>",
          "cell_ID: 9441<br>relative_age: 2<br>cell_length: 8.49516349262467<br>",
          "cell_ID: 9444<br>relative_age: 1<br>cell_length: 3.9757790711651033<br>",
          "cell_ID: 9446<br>relative_age: 3<br>cell_length: 9.909044396186983<br>",
          "cell_ID: 9448<br>relative_age: 0<br>cell_length: 3.265430449595901<br>",
          "cell_ID: 9449<br>relative_age: 0<br>cell_length: 3.770704279335838<br>",
          "cell_ID: 9450<br>relative_age: 8<br>cell_length: 8.983980285059609<br>",
          "cell_ID: 9463<br>relative_age: 4<br>cell_length: 7.958194396145716<br>",
          "cell_ID: 9464<br>relative_age: 5<br>cell_length: 7.820575501853349<br>",
          "cell_ID: 9465<br>relative_age: 0<br>cell_length: 3.9818660425629457<br>",
          "cell_ID: 9470<br>relative_age: 4<br>cell_length: 8.459530713941803<br>",
          "cell_ID: 9476<br>relative_age: 0<br>cell_length: 5.110369013636639<br>",
          "cell_ID: 9480<br>relative_age: 0<br>cell_length: 5.2485768285728875<br>",
          "cell_ID: 9481<br>relative_age: 3<br>cell_length: 7.1398423223145615<br>",
          "cell_ID: 9482<br>relative_age: 0<br>cell_length: 3.24494540075776<br>",
          "cell_ID: 9483<br>relative_age: 3<br>cell_length: 6.852342998114498<br>",
          "cell_ID: 9485<br>relative_age: 2<br>cell_length: 8.056153565079<br>",
          "cell_ID: 9491<br>relative_age: 3<br>cell_length: 6.341495389126244<br>",
          "cell_ID: 9492<br>relative_age: 5<br>cell_length: 8.777059616491028<br>",
          "cell_ID: 9494<br>relative_age: 0<br>cell_length: 3.039031940531795<br>",
          "cell_ID: 8986<br>relative_age: 1<br>cell_length: 2.8673010592053134<br>",
          "cell_ID: 9498<br>relative_age: 3<br>cell_length: 6.003662151153183<br>",
          "cell_ID: 8988<br>relative_age: 2<br>cell_length: 3.3800341891000523<br>",
          "cell_ID: 8989<br>relative_age: 1<br>cell_length: 2.838978679669572<br>",
          "cell_ID: 8993<br>relative_age: 0<br>cell_length: 4.78169936336718<br>",
          "cell_ID: 8996<br>relative_age: 2<br>cell_length: 3.220464087092878<br>",
          "cell_ID: 8999<br>relative_age: 3<br>cell_length: 4.085428953188581<br>",
          "cell_ID: 9001<br>relative_age: 3<br>cell_length: 3.74113743944052<br>",
          "cell_ID: 9008<br>relative_age: 4<br>cell_length: 4.741468758521559<br>",
          "cell_ID: 9010<br>relative_age: 4<br>cell_length: 4.4994828508429725<br>",
          "cell_ID: 9013<br>relative_age: 0<br>cell_length: 2.754430235429518<br>",
          "cell_ID: 9014<br>relative_age: 0<br>cell_length: 2.605579959702223<br>",
          "cell_ID: 9019<br>relative_age: 5<br>cell_length: 5.407042535070013<br>",
          "cell_ID: 9020<br>relative_age: 5<br>cell_length: 5.5273160159860195<br>",
          "cell_ID: 9027<br>relative_age: 2<br>cell_length: 3.7624932407539706<br>",
          "cell_ID: 9028<br>relative_age: 2<br>cell_length: 3.8990476069845412<br>",
          "cell_ID: 9029<br>relative_age: 2<br>cell_length: 4.083329522947047<br>",
          "cell_ID: 9031<br>relative_age: 2<br>cell_length: 4.126360753722902<br>",
          "cell_ID: 9040<br>relative_age: 1<br>cell_length: 3.286193674568205<br>",
          "cell_ID: 9041<br>relative_age: 1<br>cell_length: 3.3053985404398945<br>",
          "cell_ID: 9042<br>relative_age: 1<br>cell_length: 3.485757065470796<br>",
          "cell_ID: 9043<br>relative_age: 1<br>cell_length: 3.245250185963347<br>",
          "cell_ID: 9051<br>relative_age: 4<br>cell_length: 5.158516359956492<br>",
          "cell_ID: 9052<br>relative_age: 4<br>cell_length: 6.122189820087546<br>",
          "cell_ID: 9053<br>relative_age: 4<br>cell_length: 5.23801696343309<br>",
          "cell_ID: 9055<br>relative_age: 4<br>cell_length: 5.716031387452327<br>",
          "cell_ID: 9062<br>relative_age: 3<br>cell_length: 4.4162733932348<br>",
          "cell_ID: 9064<br>relative_age: 3<br>cell_length: 5.027424201060096<br>",
          "cell_ID: 9065<br>relative_age: 3<br>cell_length: 4.535232337865982<br>",
          "cell_ID: 9067<br>relative_age: 3<br>cell_length: 4.854091441686052<br>",
          "cell_ID: 9080<br>relative_age: 0<br>cell_length: 4.131429535674349<br>",
          "cell_ID: 9081<br>relative_age: 0<br>cell_length: 3.6129746346224425<br>",
          "cell_ID: 9082<br>relative_age: 1<br>cell_length: 3.3139527161421034<br>",
          "cell_ID: 9084<br>relative_age: 1<br>cell_length: 4.161014914457815<br>",
          "cell_ID: 9086<br>relative_age: 0<br>cell_length: 4.061432370498434<br>",
          "cell_ID: 9090<br>relative_age: 1<br>cell_length: 3.337012377933922<br>",
          "cell_ID: 9091<br>relative_age: 1<br>cell_length: 4.095208012804517<br>",
          "cell_ID: 9095<br>relative_age: 0<br>cell_length: 3.564799445100347<br>",
          "cell_ID: 9096<br>relative_age: 0<br>cell_length: 3.560161524310893<br>",
          "cell_ID: 9102<br>relative_age: 0<br>cell_length: 2.7202333827011893<br>",
          "cell_ID: 9103<br>relative_age: 0<br>cell_length: 3.429108073488289<br>",
          "cell_ID: 9104<br>relative_age: 0<br>cell_length: 2.8251230060759807<br>",
          "cell_ID: 9106<br>relative_age: 5<br>cell_length: 6.490943336014723<br>",
          "cell_ID: 9108<br>relative_age: 5<br>cell_length: 7.0825740095517<br>",
          "cell_ID: 9118<br>relative_age: 1<br>cell_length: 4.8870280885359785<br>",
          "cell_ID: 9119<br>relative_age: 1<br>cell_length: 4.227605936937839<br>",
          "cell_ID: 9120<br>relative_age: 2<br>cell_length: 3.8890229976734623<br>",
          "cell_ID: 9121<br>relative_age: 0<br>cell_length: 2.8638727016284355<br>",
          "cell_ID: 9122<br>relative_age: 2<br>cell_length: 4.9377392438551<br>",
          "cell_ID: 9123<br>relative_age: 0<br>cell_length: 2.9192130525822315<br>",
          "cell_ID: 9124<br>relative_age: 0<br>cell_length: 3.029382021188553<br>",
          "cell_ID: 9126<br>relative_age: 0<br>cell_length: 2.920682091495144<br>",
          "cell_ID: 9127<br>relative_age: 1<br>cell_length: 4.624176331220814<br>",
          "cell_ID: 9136<br>relative_age: 2<br>cell_length: 4.032096425333687<br>",
          "cell_ID: 9138<br>relative_age: 2<br>cell_length: 4.8353526831456755<br>",
          "cell_ID: 9143<br>relative_age: 1<br>cell_length: 4.334462663426628<br>",
          "cell_ID: 9155<br>relative_age: 2<br>cell_length: 6.053188595546213<br>",
          "cell_ID: 9156<br>relative_age: 3<br>cell_length: 5.986621312846089<br>",
          "cell_ID: 9159<br>relative_age: 2<br>cell_length: 5.010858941215484<br>",
          "cell_ID: 9160<br>relative_age: 2<br>cell_length: 5.732706035530661<br>",
          "cell_ID: 9167<br>relative_age: 3<br>cell_length: 4.879960271356086<br>",
          "cell_ID: 9168<br>relative_age: 2<br>cell_length: 4.847273261306684<br>",
          "cell_ID: 9169<br>relative_age: 3<br>cell_length: 5.582418196036907<br>",
          "cell_ID: 9170<br>relative_age: 3<br>cell_length: 4.642911335818233<br>",
          "cell_ID: 9176<br>relative_age: 4<br>cell_length: 8.304949082154948<br>",
          "cell_ID: 9178<br>relative_age: 1<br>cell_length: 4.162090029541367<br>",
          "cell_ID: 9181<br>relative_age: 4<br>cell_length: 6.797636313121253<br>",
          "cell_ID: 9182<br>relative_age: 4<br>cell_length: 8.135277900085061<br>",
          "cell_ID: 9191<br>relative_age: 1<br>cell_length: 3.7435341480688433<br>",
          "cell_ID: 9194<br>relative_age: 5<br>cell_length: 6.723447900613733<br>",
          "cell_ID: 9195<br>relative_age: 5<br>cell_length: 6.866119546245776<br>",
          "cell_ID: 9196<br>relative_age: 5<br>cell_length: 7.88479622084487<br>",
          "cell_ID: 9206<br>relative_age: 4<br>cell_length: 7.045719964617411<br>",
          "cell_ID: 9215<br>relative_age: 5<br>cell_length: 9.162150522914121<br>"
         ],
         "type": "scatter",
         "x": [
          0.8125,
          -10.6875,
          2.8125,
          -7.1875,
          -5.6875,
          -9.1875,
          -4.1875,
          4.8125,
          -2.1875,
          -0.6875,
          7.3125,
          6.3125,
          -3.1875,
          -6.4375,
          0.8125,
          -0.6875,
          7.3125,
          2.8125,
          -9.9375,
          4.8125,
          7.3125,
          -0.6875,
          0.8125,
          -2.1875,
          -7.1875,
          -10.6875,
          4.3125,
          2.8125,
          -5.6875,
          -9.1875,
          -4.1875,
          5.3125,
          -0.6875,
          6.3125,
          6.3125,
          0.8125,
          -7.1875,
          -10.6875,
          4.3125,
          7.3125,
          -2.1875,
          2.8125,
          -5.6875,
          -4.1875,
          -9.1875,
          5.3125,
          2.3125,
          -0.6875,
          6.3125,
          -2.6875,
          4.3125,
          7.3125,
          3.3125,
          -9.6875,
          -7.6875,
          -0.6875,
          6.3125,
          -2.1875,
          -4.6875,
          4.3125,
          -3.6875,
          5.3125,
          -6.6875,
          -1.6875,
          7.3125,
          -5.6875,
          2.8125,
          -8.6875,
          -10.6875,
          0.3125,
          1.3125,
          -10.6875,
          -4.6875,
          -9.1875,
          5.3125,
          -5.6875,
          0.8125,
          -3.6875,
          5.0625,
          -7.1875,
          5.0625,
          -5.0625,
          0,
          -5.0625,
          5.0625,
          -5.0625,
          5.0625,
          -5.0625,
          -5.0625,
          5.0625,
          -5.0625,
          5.0625,
          -8.1875,
          -1.9375,
          3.3125,
          6.8125,
          -8.1875,
          -1.9375,
          3.3125,
          6.8125,
          -8.1875,
          3.3125,
          -1.9375,
          6.8125,
          -8.1875,
          3.3125,
          -1.9375,
          6.8125,
          6.3125,
          -3.1875,
          -6.4375,
          1.8125,
          7.3125,
          -9.9375,
          4.8125,
          -0.6875,
          1.8125,
          -9.9375,
          4.8125,
          -6.4375,
          -1.9375,
          6.8125,
          6.3125,
          -3.1875,
          -6.4375,
          -8.1875,
          1.8125,
          -1.9375,
          3.3125,
          6.8125,
          7.3125,
          -9.9375,
          4.8125,
          -0.6875,
          6.3125,
          1.8125,
          -0.6875,
          7.3125,
          -9.9375,
          -3.1875,
          4.8125,
          -6.4375,
          6.3125,
          0.8125,
          -0.6875,
          7.3125,
          2.8125,
          -6.4375,
          -9.9375,
          4.8125,
          -3.1875,
          6.3125
         ],
         "y": [
          18,
          18,
          18,
          18,
          18,
          18,
          18,
          18,
          18,
          18,
          18,
          16,
          16,
          16,
          16,
          16,
          16,
          16,
          16,
          16,
          19,
          19,
          19,
          19,
          19,
          19,
          19,
          19,
          19,
          19,
          19,
          19,
          20,
          19,
          20,
          20,
          20,
          20,
          20,
          20,
          20,
          20,
          20,
          20,
          20,
          20,
          22,
          22,
          22,
          22,
          22,
          22,
          22,
          22,
          22,
          21,
          21,
          21,
          22,
          21,
          22,
          22,
          22,
          22,
          21,
          22,
          21,
          22,
          22,
          22,
          22,
          21,
          21,
          21,
          21,
          21,
          21,
          21,
          2,
          21,
          3,
          2,
          0,
          3,
          4,
          4,
          5,
          5,
          1,
          1,
          6,
          6,
          9,
          9,
          9,
          9,
          8,
          8,
          8,
          8,
          11,
          11,
          11,
          11,
          10,
          10,
          10,
          10,
          13,
          13,
          13,
          13,
          13,
          13,
          13,
          13,
          12,
          12,
          12,
          12,
          12,
          12,
          14,
          14,
          14,
          7,
          14,
          7,
          7,
          7,
          14,
          14,
          14,
          14,
          15,
          15,
          15,
          15,
          15,
          15,
          15,
          15,
          17,
          17,
          17,
          17,
          17,
          17,
          17,
          17,
          17,
          18
         ]
        }
       ],
       "layout": {
        "hovermode": "closest",
        "showlegend": true,
        "template": {
         "data": {
          "bar": [
           {
            "error_x": {
             "color": "#2a3f5f"
            },
            "error_y": {
             "color": "#2a3f5f"
            },
            "marker": {
             "line": {
              "color": "#E5ECF6",
              "width": 0.5
             },
             "pattern": {
              "fillmode": "overlay",
              "size": 10,
              "solidity": 0.2
             }
            },
            "type": "bar"
           }
          ],
          "barpolar": [
           {
            "marker": {
             "line": {
              "color": "#E5ECF6",
              "width": 0.5
             },
             "pattern": {
              "fillmode": "overlay",
              "size": 10,
              "solidity": 0.2
             }
            },
            "type": "barpolar"
           }
          ],
          "carpet": [
           {
            "aaxis": {
             "endlinecolor": "#2a3f5f",
             "gridcolor": "white",
             "linecolor": "white",
             "minorgridcolor": "white",
             "startlinecolor": "#2a3f5f"
            },
            "baxis": {
             "endlinecolor": "#2a3f5f",
             "gridcolor": "white",
             "linecolor": "white",
             "minorgridcolor": "white",
             "startlinecolor": "#2a3f5f"
            },
            "type": "carpet"
           }
          ],
          "choropleth": [
           {
            "colorbar": {
             "outlinewidth": 0,
             "ticks": ""
            },
            "type": "choropleth"
           }
          ],
          "contour": [
           {
            "colorbar": {
             "outlinewidth": 0,
             "ticks": ""
            },
            "colorscale": [
             [
              0,
              "#0d0887"
             ],
             [
              0.1111111111111111,
              "#46039f"
             ],
             [
              0.2222222222222222,
              "#7201a8"
             ],
             [
              0.3333333333333333,
              "#9c179e"
             ],
             [
              0.4444444444444444,
              "#bd3786"
             ],
             [
              0.5555555555555556,
              "#d8576b"
             ],
             [
              0.6666666666666666,
              "#ed7953"
             ],
             [
              0.7777777777777778,
              "#fb9f3a"
             ],
             [
              0.8888888888888888,
              "#fdca26"
             ],
             [
              1,
              "#f0f921"
             ]
            ],
            "type": "contour"
           }
          ],
          "contourcarpet": [
           {
            "colorbar": {
             "outlinewidth": 0,
             "ticks": ""
            },
            "type": "contourcarpet"
           }
          ],
          "heatmap": [
           {
            "colorbar": {
             "outlinewidth": 0,
             "ticks": ""
            },
            "colorscale": [
             [
              0,
              "#0d0887"
             ],
             [
              0.1111111111111111,
              "#46039f"
             ],
             [
              0.2222222222222222,
              "#7201a8"
             ],
             [
              0.3333333333333333,
              "#9c179e"
             ],
             [
              0.4444444444444444,
              "#bd3786"
             ],
             [
              0.5555555555555556,
              "#d8576b"
             ],
             [
              0.6666666666666666,
              "#ed7953"
             ],
             [
              0.7777777777777778,
              "#fb9f3a"
             ],
             [
              0.8888888888888888,
              "#fdca26"
             ],
             [
              1,
              "#f0f921"
             ]
            ],
            "type": "heatmap"
           }
          ],
          "heatmapgl": [
           {
            "colorbar": {
             "outlinewidth": 0,
             "ticks": ""
            },
            "colorscale": [
             [
              0,
              "#0d0887"
             ],
             [
              0.1111111111111111,
              "#46039f"
             ],
             [
              0.2222222222222222,
              "#7201a8"
             ],
             [
              0.3333333333333333,
              "#9c179e"
             ],
             [
              0.4444444444444444,
              "#bd3786"
             ],
             [
              0.5555555555555556,
              "#d8576b"
             ],
             [
              0.6666666666666666,
              "#ed7953"
             ],
             [
              0.7777777777777778,
              "#fb9f3a"
             ],
             [
              0.8888888888888888,
              "#fdca26"
             ],
             [
              1,
              "#f0f921"
             ]
            ],
            "type": "heatmapgl"
           }
          ],
          "histogram": [
           {
            "marker": {
             "pattern": {
              "fillmode": "overlay",
              "size": 10,
              "solidity": 0.2
             }
            },
            "type": "histogram"
           }
          ],
          "histogram2d": [
           {
            "colorbar": {
             "outlinewidth": 0,
             "ticks": ""
            },
            "colorscale": [
             [
              0,
              "#0d0887"
             ],
             [
              0.1111111111111111,
              "#46039f"
             ],
             [
              0.2222222222222222,
              "#7201a8"
             ],
             [
              0.3333333333333333,
              "#9c179e"
             ],
             [
              0.4444444444444444,
              "#bd3786"
             ],
             [
              0.5555555555555556,
              "#d8576b"
             ],
             [
              0.6666666666666666,
              "#ed7953"
             ],
             [
              0.7777777777777778,
              "#fb9f3a"
             ],
             [
              0.8888888888888888,
              "#fdca26"
             ],
             [
              1,
              "#f0f921"
             ]
            ],
            "type": "histogram2d"
           }
          ],
          "histogram2dcontour": [
           {
            "colorbar": {
             "outlinewidth": 0,
             "ticks": ""
            },
            "colorscale": [
             [
              0,
              "#0d0887"
             ],
             [
              0.1111111111111111,
              "#46039f"
             ],
             [
              0.2222222222222222,
              "#7201a8"
             ],
             [
              0.3333333333333333,
              "#9c179e"
             ],
             [
              0.4444444444444444,
              "#bd3786"
             ],
             [
              0.5555555555555556,
              "#d8576b"
             ],
             [
              0.6666666666666666,
              "#ed7953"
             ],
             [
              0.7777777777777778,
              "#fb9f3a"
             ],
             [
              0.8888888888888888,
              "#fdca26"
             ],
             [
              1,
              "#f0f921"
             ]
            ],
            "type": "histogram2dcontour"
           }
          ],
          "mesh3d": [
           {
            "colorbar": {
             "outlinewidth": 0,
             "ticks": ""
            },
            "type": "mesh3d"
           }
          ],
          "parcoords": [
           {
            "line": {
             "colorbar": {
              "outlinewidth": 0,
              "ticks": ""
             }
            },
            "type": "parcoords"
           }
          ],
          "pie": [
           {
            "automargin": true,
            "type": "pie"
           }
          ],
          "scatter": [
           {
            "fillpattern": {
             "fillmode": "overlay",
             "size": 10,
             "solidity": 0.2
            },
            "type": "scatter"
           }
          ],
          "scatter3d": [
           {
            "line": {
             "colorbar": {
              "outlinewidth": 0,
              "ticks": ""
             }
            },
            "marker": {
             "colorbar": {
              "outlinewidth": 0,
              "ticks": ""
             }
            },
            "type": "scatter3d"
           }
          ],
          "scattercarpet": [
           {
            "marker": {
             "colorbar": {
              "outlinewidth": 0,
              "ticks": ""
             }
            },
            "type": "scattercarpet"
           }
          ],
          "scattergeo": [
           {
            "marker": {
             "colorbar": {
              "outlinewidth": 0,
              "ticks": ""
             }
            },
            "type": "scattergeo"
           }
          ],
          "scattergl": [
           {
            "marker": {
             "colorbar": {
              "outlinewidth": 0,
              "ticks": ""
             }
            },
            "type": "scattergl"
           }
          ],
          "scattermapbox": [
           {
            "marker": {
             "colorbar": {
              "outlinewidth": 0,
              "ticks": ""
             }
            },
            "type": "scattermapbox"
           }
          ],
          "scatterpolar": [
           {
            "marker": {
             "colorbar": {
              "outlinewidth": 0,
              "ticks": ""
             }
            },
            "type": "scatterpolar"
           }
          ],
          "scatterpolargl": [
           {
            "marker": {
             "colorbar": {
              "outlinewidth": 0,
              "ticks": ""
             }
            },
            "type": "scatterpolargl"
           }
          ],
          "scatterternary": [
           {
            "marker": {
             "colorbar": {
              "outlinewidth": 0,
              "ticks": ""
             }
            },
            "type": "scatterternary"
           }
          ],
          "surface": [
           {
            "colorbar": {
             "outlinewidth": 0,
             "ticks": ""
            },
            "colorscale": [
             [
              0,
              "#0d0887"
             ],
             [
              0.1111111111111111,
              "#46039f"
             ],
             [
              0.2222222222222222,
              "#7201a8"
             ],
             [
              0.3333333333333333,
              "#9c179e"
             ],
             [
              0.4444444444444444,
              "#bd3786"
             ],
             [
              0.5555555555555556,
              "#d8576b"
             ],
             [
              0.6666666666666666,
              "#ed7953"
             ],
             [
              0.7777777777777778,
              "#fb9f3a"
             ],
             [
              0.8888888888888888,
              "#fdca26"
             ],
             [
              1,
              "#f0f921"
             ]
            ],
            "type": "surface"
           }
          ],
          "table": [
           {
            "cells": {
             "fill": {
              "color": "#EBF0F8"
             },
             "line": {
              "color": "white"
             }
            },
            "header": {
             "fill": {
              "color": "#C8D4E3"
             },
             "line": {
              "color": "white"
             }
            },
            "type": "table"
           }
          ]
         },
         "layout": {
          "annotationdefaults": {
           "arrowcolor": "#2a3f5f",
           "arrowhead": 0,
           "arrowwidth": 1
          },
          "autotypenumbers": "strict",
          "coloraxis": {
           "colorbar": {
            "outlinewidth": 0,
            "ticks": ""
           }
          },
          "colorscale": {
           "diverging": [
            [
             0,
             "#8e0152"
            ],
            [
             0.1,
             "#c51b7d"
            ],
            [
             0.2,
             "#de77ae"
            ],
            [
             0.3,
             "#f1b6da"
            ],
            [
             0.4,
             "#fde0ef"
            ],
            [
             0.5,
             "#f7f7f7"
            ],
            [
             0.6,
             "#e6f5d0"
            ],
            [
             0.7,
             "#b8e186"
            ],
            [
             0.8,
             "#7fbc41"
            ],
            [
             0.9,
             "#4d9221"
            ],
            [
             1,
             "#276419"
            ]
           ],
           "sequential": [
            [
             0,
             "#0d0887"
            ],
            [
             0.1111111111111111,
             "#46039f"
            ],
            [
             0.2222222222222222,
             "#7201a8"
            ],
            [
             0.3333333333333333,
             "#9c179e"
            ],
            [
             0.4444444444444444,
             "#bd3786"
            ],
            [
             0.5555555555555556,
             "#d8576b"
            ],
            [
             0.6666666666666666,
             "#ed7953"
            ],
            [
             0.7777777777777778,
             "#fb9f3a"
            ],
            [
             0.8888888888888888,
             "#fdca26"
            ],
            [
             1,
             "#f0f921"
            ]
           ],
           "sequentialminus": [
            [
             0,
             "#0d0887"
            ],
            [
             0.1111111111111111,
             "#46039f"
            ],
            [
             0.2222222222222222,
             "#7201a8"
            ],
            [
             0.3333333333333333,
             "#9c179e"
            ],
            [
             0.4444444444444444,
             "#bd3786"
            ],
            [
             0.5555555555555556,
             "#d8576b"
            ],
            [
             0.6666666666666666,
             "#ed7953"
            ],
            [
             0.7777777777777778,
             "#fb9f3a"
            ],
            [
             0.8888888888888888,
             "#fdca26"
            ],
            [
             1,
             "#f0f921"
            ]
           ]
          },
          "colorway": [
           "#636efa",
           "#EF553B",
           "#00cc96",
           "#ab63fa",
           "#FFA15A",
           "#19d3f3",
           "#FF6692",
           "#B6E880",
           "#FF97FF",
           "#FECB52"
          ],
          "font": {
           "color": "#2a3f5f"
          },
          "geo": {
           "bgcolor": "white",
           "lakecolor": "white",
           "landcolor": "#E5ECF6",
           "showlakes": true,
           "showland": true,
           "subunitcolor": "white"
          },
          "hoverlabel": {
           "align": "left"
          },
          "hovermode": "closest",
          "mapbox": {
           "style": "light"
          },
          "paper_bgcolor": "white",
          "plot_bgcolor": "#E5ECF6",
          "polar": {
           "angularaxis": {
            "gridcolor": "white",
            "linecolor": "white",
            "ticks": ""
           },
           "bgcolor": "#E5ECF6",
           "radialaxis": {
            "gridcolor": "white",
            "linecolor": "white",
            "ticks": ""
           }
          },
          "scene": {
           "xaxis": {
            "backgroundcolor": "#E5ECF6",
            "gridcolor": "white",
            "gridwidth": 2,
            "linecolor": "white",
            "showbackground": true,
            "ticks": "",
            "zerolinecolor": "white"
           },
           "yaxis": {
            "backgroundcolor": "#E5ECF6",
            "gridcolor": "white",
            "gridwidth": 2,
            "linecolor": "white",
            "showbackground": true,
            "ticks": "",
            "zerolinecolor": "white"
           },
           "zaxis": {
            "backgroundcolor": "#E5ECF6",
            "gridcolor": "white",
            "gridwidth": 2,
            "linecolor": "white",
            "showbackground": true,
            "ticks": "",
            "zerolinecolor": "white"
           }
          },
          "shapedefaults": {
           "line": {
            "color": "#2a3f5f"
           }
          },
          "ternary": {
           "aaxis": {
            "gridcolor": "white",
            "linecolor": "white",
            "ticks": ""
           },
           "baxis": {
            "gridcolor": "white",
            "linecolor": "white",
            "ticks": ""
           },
           "bgcolor": "#E5ECF6",
           "caxis": {
            "gridcolor": "white",
            "linecolor": "white",
            "ticks": ""
           }
          },
          "title": {
           "x": 0.05
          },
          "xaxis": {
           "automargin": true,
           "gridcolor": "white",
           "linecolor": "white",
           "ticks": "",
           "title": {
            "standoff": 15
           },
           "zerolinecolor": "white",
           "zerolinewidth": 2
          },
          "yaxis": {
           "automargin": true,
           "gridcolor": "white",
           "linecolor": "white",
           "ticks": "",
           "title": {
            "standoff": 15
           },
           "zerolinecolor": "white",
           "zerolinewidth": 2
          }
         }
        },
        "title": {},
        "xaxis": {
         "showgrid": false,
         "showticklabels": false,
         "zeroline": false
        },
        "yaxis": {
         "autorange": "reversed",
         "showgrid": true,
         "title": {
          "text": "Time (frames)"
         },
         "zeroline": true
        }
       }
      }
     },
     "metadata": {},
     "output_type": "display_data"
    }
   ],
   "source": [
    "lin0.plot(node_hover_features=[\"cell_ID\", \"relative_age\", \"cell_length\"])"
   ]
  },
  {
   "cell_type": "code",
   "execution_count": 22,
   "metadata": {},
   "outputs": [
    {
     "data": {
      "application/vnd.plotly.v1+json": {
       "config": {
        "plotlyServerURL": "https://plot.ly"
       },
       "data": [
        {
         "mode": "lines",
         "name": "Edges",
         "text": [],
         "type": "scatter",
         "x": [
          0.6875,
          0.1875,
          null,
          0.6875,
          1.1875,
          null,
          -2.8125,
          -3.3125,
          null,
          -2.8125,
          -2.3125,
          null,
          -0.8125,
          -1.3125,
          null,
          -0.8125,
          -0.3125,
          null,
          2.1875,
          1.6875,
          null,
          2.1875,
          2.6875,
          null,
          -4.8125,
          -4.3125,
          null,
          -4.8125,
          -5.3125,
          null,
          4.1875,
          3.6875,
          null,
          4.1875,
          4.6875,
          null,
          -6.8125,
          -6.3125,
          null,
          -6.8125,
          -7.3125,
          null,
          0,
          3.3125,
          null,
          0,
          -3.3125,
          null,
          -3.3125,
          -1.3125,
          null,
          -3.3125,
          -5.3125,
          null,
          3.3125,
          1.9375,
          null,
          3.3125,
          4.6875,
          null,
          -5.3125,
          -6.3125,
          null,
          -5.3125,
          -4.3125,
          null,
          1.9375,
          3.1875,
          null,
          1.9375,
          0.6875,
          null,
          -1.3125,
          -0.8125,
          null,
          -1.3125,
          -1.8125,
          null,
          4.6875,
          4.1875,
          null,
          4.6875,
          5.1875,
          null,
          3.1875,
          4.1875,
          null,
          3.1875,
          2.1875,
          null,
          -6.3125,
          -5.8125,
          null,
          -6.3125,
          -6.8125,
          null,
          -4.3125,
          -4.8125,
          null,
          -4.3125,
          -3.8125,
          null,
          -1.8125,
          -0.8125,
          null,
          -1.8125,
          -2.8125,
          null
         ],
         "y": [
          3,
          4,
          null,
          3,
          4,
          null,
          4,
          5,
          null,
          4,
          5,
          null,
          4,
          5,
          null,
          4,
          5,
          null,
          4,
          5,
          null,
          4,
          5,
          null,
          4,
          5,
          null,
          4,
          5,
          null,
          4,
          5,
          null,
          4,
          5,
          null,
          4,
          5,
          null,
          4,
          5,
          null,
          0,
          1,
          null,
          0,
          1,
          null,
          1,
          2,
          null,
          1,
          2,
          null,
          1,
          2,
          null,
          1,
          2,
          null,
          2,
          3,
          null,
          2,
          3,
          null,
          2,
          3,
          null,
          2,
          3,
          null,
          2,
          3,
          null,
          2,
          3,
          null,
          2,
          3,
          null,
          2,
          3,
          null,
          3,
          4,
          null,
          3,
          4,
          null,
          3,
          4,
          null,
          3,
          4,
          null,
          3,
          4,
          null,
          3,
          4,
          null,
          3,
          4,
          null,
          3,
          4,
          null
         ]
        },
        {
         "hoverinfo": "text",
         "hovertemplate": "%{text}",
         "mode": "markers",
         "name": "lineage_ID: 0",
         "text": [
          "cycle_ID: 9230<br>division_rate: 0.14285714285714285<br>",
          "cycle_ID: 9356<br>division_rate: 0.3333333333333333<br>",
          "cycle_ID: 9438<br>division_rate: 0.25<br>",
          "cycle_ID: 9464<br>division_rate: 0.16666666666666666<br>",
          "cycle_ID: 9483<br>division_rate: 0.25<br>",
          "cycle_ID: 9492<br>division_rate: 0.16666666666666666<br>",
          "cycle_ID: 9498<br>division_rate: 0.25<br>",
          "cycle_ID: 8993<br>division_rate: 1.0<br>",
          "cycle_ID: 9019<br>division_rate: 0.16666666666666666<br>",
          "cycle_ID: 9020<br>division_rate: 0.16666666666666666<br>",
          "cycle_ID: 9051<br>division_rate: 0.2<br>",
          "cycle_ID: 9052<br>division_rate: 0.2<br>",
          "cycle_ID: 9106<br>division_rate: 0.16666666666666666<br>",
          "cycle_ID: 9108<br>division_rate: 0.16666666666666666<br>",
          "cycle_ID: 9156<br>division_rate: 0.25<br>",
          "cycle_ID: 9194<br>division_rate: 0.16666666666666666<br>",
          "cycle_ID: 9195<br>division_rate: 0.16666666666666666<br>",
          "cycle_ID: 9206<br>division_rate: 0.2<br>",
          "cycle_ID: 9375<br>division_rate: 1.0<br>",
          "cycle_ID: 9382<br>division_rate: 0.1<br>",
          "cycle_ID: 9384<br>division_rate: 0.1<br>",
          "cycle_ID: 9389<br>division_rate: 1.0<br>",
          "cycle_ID: 9390<br>division_rate: 0.25<br>",
          "cycle_ID: 9395<br>division_rate: 0.1<br>",
          "cycle_ID: 9398<br>division_rate: 1.0<br>",
          "cycle_ID: 9402<br>division_rate: 1.0<br>",
          "cycle_ID: 9416<br>division_rate: 1.0<br>",
          "cycle_ID: 9440<br>division_rate: 0.5<br>",
          "cycle_ID: 9444<br>division_rate: 0.5<br>",
          "cycle_ID: 9446<br>division_rate: 0.25<br>",
          "cycle_ID: 9448<br>division_rate: 1.0<br>",
          "cycle_ID: 9449<br>division_rate: 1.0<br>",
          "cycle_ID: 9463<br>division_rate: 0.2<br>",
          "cycle_ID: 9465<br>division_rate: 1.0<br>",
          "cycle_ID: 9470<br>division_rate: 0.2<br>",
          "cycle_ID: 9476<br>division_rate: 1.0<br>",
          "cycle_ID: 9480<br>division_rate: 1.0<br>"
         ],
         "type": "scatter",
         "x": [
          0.6875,
          -2.8125,
          -0.8125,
          2.1875,
          -4.8125,
          4.1875,
          -6.8125,
          0,
          -3.3125,
          3.3125,
          -5.3125,
          1.9375,
          -1.3125,
          4.6875,
          3.1875,
          -6.3125,
          -4.3125,
          -1.8125,
          1.6875,
          -0.8125,
          4.1875,
          -1.3125,
          0.1875,
          5.1875,
          2.6875,
          -5.3125,
          -7.3125,
          -3.3125,
          -2.3125,
          1.1875,
          -6.3125,
          -0.3125,
          -5.8125,
          -4.3125,
          -3.8125,
          3.6875,
          4.6875
         ],
         "y": [
          3,
          4,
          4,
          4,
          4,
          4,
          4,
          0,
          1,
          1,
          2,
          2,
          2,
          2,
          3,
          3,
          3,
          3,
          5,
          3,
          3,
          5,
          4,
          3,
          5,
          5,
          5,
          5,
          5,
          4,
          5,
          5,
          4,
          5,
          4,
          5,
          5
         ]
        }
       ],
       "layout": {
        "hovermode": "closest",
        "showlegend": true,
        "template": {
         "data": {
          "bar": [
           {
            "error_x": {
             "color": "#2a3f5f"
            },
            "error_y": {
             "color": "#2a3f5f"
            },
            "marker": {
             "line": {
              "color": "#E5ECF6",
              "width": 0.5
             },
             "pattern": {
              "fillmode": "overlay",
              "size": 10,
              "solidity": 0.2
             }
            },
            "type": "bar"
           }
          ],
          "barpolar": [
           {
            "marker": {
             "line": {
              "color": "#E5ECF6",
              "width": 0.5
             },
             "pattern": {
              "fillmode": "overlay",
              "size": 10,
              "solidity": 0.2
             }
            },
            "type": "barpolar"
           }
          ],
          "carpet": [
           {
            "aaxis": {
             "endlinecolor": "#2a3f5f",
             "gridcolor": "white",
             "linecolor": "white",
             "minorgridcolor": "white",
             "startlinecolor": "#2a3f5f"
            },
            "baxis": {
             "endlinecolor": "#2a3f5f",
             "gridcolor": "white",
             "linecolor": "white",
             "minorgridcolor": "white",
             "startlinecolor": "#2a3f5f"
            },
            "type": "carpet"
           }
          ],
          "choropleth": [
           {
            "colorbar": {
             "outlinewidth": 0,
             "ticks": ""
            },
            "type": "choropleth"
           }
          ],
          "contour": [
           {
            "colorbar": {
             "outlinewidth": 0,
             "ticks": ""
            },
            "colorscale": [
             [
              0,
              "#0d0887"
             ],
             [
              0.1111111111111111,
              "#46039f"
             ],
             [
              0.2222222222222222,
              "#7201a8"
             ],
             [
              0.3333333333333333,
              "#9c179e"
             ],
             [
              0.4444444444444444,
              "#bd3786"
             ],
             [
              0.5555555555555556,
              "#d8576b"
             ],
             [
              0.6666666666666666,
              "#ed7953"
             ],
             [
              0.7777777777777778,
              "#fb9f3a"
             ],
             [
              0.8888888888888888,
              "#fdca26"
             ],
             [
              1,
              "#f0f921"
             ]
            ],
            "type": "contour"
           }
          ],
          "contourcarpet": [
           {
            "colorbar": {
             "outlinewidth": 0,
             "ticks": ""
            },
            "type": "contourcarpet"
           }
          ],
          "heatmap": [
           {
            "colorbar": {
             "outlinewidth": 0,
             "ticks": ""
            },
            "colorscale": [
             [
              0,
              "#0d0887"
             ],
             [
              0.1111111111111111,
              "#46039f"
             ],
             [
              0.2222222222222222,
              "#7201a8"
             ],
             [
              0.3333333333333333,
              "#9c179e"
             ],
             [
              0.4444444444444444,
              "#bd3786"
             ],
             [
              0.5555555555555556,
              "#d8576b"
             ],
             [
              0.6666666666666666,
              "#ed7953"
             ],
             [
              0.7777777777777778,
              "#fb9f3a"
             ],
             [
              0.8888888888888888,
              "#fdca26"
             ],
             [
              1,
              "#f0f921"
             ]
            ],
            "type": "heatmap"
           }
          ],
          "heatmapgl": [
           {
            "colorbar": {
             "outlinewidth": 0,
             "ticks": ""
            },
            "colorscale": [
             [
              0,
              "#0d0887"
             ],
             [
              0.1111111111111111,
              "#46039f"
             ],
             [
              0.2222222222222222,
              "#7201a8"
             ],
             [
              0.3333333333333333,
              "#9c179e"
             ],
             [
              0.4444444444444444,
              "#bd3786"
             ],
             [
              0.5555555555555556,
              "#d8576b"
             ],
             [
              0.6666666666666666,
              "#ed7953"
             ],
             [
              0.7777777777777778,
              "#fb9f3a"
             ],
             [
              0.8888888888888888,
              "#fdca26"
             ],
             [
              1,
              "#f0f921"
             ]
            ],
            "type": "heatmapgl"
           }
          ],
          "histogram": [
           {
            "marker": {
             "pattern": {
              "fillmode": "overlay",
              "size": 10,
              "solidity": 0.2
             }
            },
            "type": "histogram"
           }
          ],
          "histogram2d": [
           {
            "colorbar": {
             "outlinewidth": 0,
             "ticks": ""
            },
            "colorscale": [
             [
              0,
              "#0d0887"
             ],
             [
              0.1111111111111111,
              "#46039f"
             ],
             [
              0.2222222222222222,
              "#7201a8"
             ],
             [
              0.3333333333333333,
              "#9c179e"
             ],
             [
              0.4444444444444444,
              "#bd3786"
             ],
             [
              0.5555555555555556,
              "#d8576b"
             ],
             [
              0.6666666666666666,
              "#ed7953"
             ],
             [
              0.7777777777777778,
              "#fb9f3a"
             ],
             [
              0.8888888888888888,
              "#fdca26"
             ],
             [
              1,
              "#f0f921"
             ]
            ],
            "type": "histogram2d"
           }
          ],
          "histogram2dcontour": [
           {
            "colorbar": {
             "outlinewidth": 0,
             "ticks": ""
            },
            "colorscale": [
             [
              0,
              "#0d0887"
             ],
             [
              0.1111111111111111,
              "#46039f"
             ],
             [
              0.2222222222222222,
              "#7201a8"
             ],
             [
              0.3333333333333333,
              "#9c179e"
             ],
             [
              0.4444444444444444,
              "#bd3786"
             ],
             [
              0.5555555555555556,
              "#d8576b"
             ],
             [
              0.6666666666666666,
              "#ed7953"
             ],
             [
              0.7777777777777778,
              "#fb9f3a"
             ],
             [
              0.8888888888888888,
              "#fdca26"
             ],
             [
              1,
              "#f0f921"
             ]
            ],
            "type": "histogram2dcontour"
           }
          ],
          "mesh3d": [
           {
            "colorbar": {
             "outlinewidth": 0,
             "ticks": ""
            },
            "type": "mesh3d"
           }
          ],
          "parcoords": [
           {
            "line": {
             "colorbar": {
              "outlinewidth": 0,
              "ticks": ""
             }
            },
            "type": "parcoords"
           }
          ],
          "pie": [
           {
            "automargin": true,
            "type": "pie"
           }
          ],
          "scatter": [
           {
            "fillpattern": {
             "fillmode": "overlay",
             "size": 10,
             "solidity": 0.2
            },
            "type": "scatter"
           }
          ],
          "scatter3d": [
           {
            "line": {
             "colorbar": {
              "outlinewidth": 0,
              "ticks": ""
             }
            },
            "marker": {
             "colorbar": {
              "outlinewidth": 0,
              "ticks": ""
             }
            },
            "type": "scatter3d"
           }
          ],
          "scattercarpet": [
           {
            "marker": {
             "colorbar": {
              "outlinewidth": 0,
              "ticks": ""
             }
            },
            "type": "scattercarpet"
           }
          ],
          "scattergeo": [
           {
            "marker": {
             "colorbar": {
              "outlinewidth": 0,
              "ticks": ""
             }
            },
            "type": "scattergeo"
           }
          ],
          "scattergl": [
           {
            "marker": {
             "colorbar": {
              "outlinewidth": 0,
              "ticks": ""
             }
            },
            "type": "scattergl"
           }
          ],
          "scattermapbox": [
           {
            "marker": {
             "colorbar": {
              "outlinewidth": 0,
              "ticks": ""
             }
            },
            "type": "scattermapbox"
           }
          ],
          "scatterpolar": [
           {
            "marker": {
             "colorbar": {
              "outlinewidth": 0,
              "ticks": ""
             }
            },
            "type": "scatterpolar"
           }
          ],
          "scatterpolargl": [
           {
            "marker": {
             "colorbar": {
              "outlinewidth": 0,
              "ticks": ""
             }
            },
            "type": "scatterpolargl"
           }
          ],
          "scatterternary": [
           {
            "marker": {
             "colorbar": {
              "outlinewidth": 0,
              "ticks": ""
             }
            },
            "type": "scatterternary"
           }
          ],
          "surface": [
           {
            "colorbar": {
             "outlinewidth": 0,
             "ticks": ""
            },
            "colorscale": [
             [
              0,
              "#0d0887"
             ],
             [
              0.1111111111111111,
              "#46039f"
             ],
             [
              0.2222222222222222,
              "#7201a8"
             ],
             [
              0.3333333333333333,
              "#9c179e"
             ],
             [
              0.4444444444444444,
              "#bd3786"
             ],
             [
              0.5555555555555556,
              "#d8576b"
             ],
             [
              0.6666666666666666,
              "#ed7953"
             ],
             [
              0.7777777777777778,
              "#fb9f3a"
             ],
             [
              0.8888888888888888,
              "#fdca26"
             ],
             [
              1,
              "#f0f921"
             ]
            ],
            "type": "surface"
           }
          ],
          "table": [
           {
            "cells": {
             "fill": {
              "color": "#EBF0F8"
             },
             "line": {
              "color": "white"
             }
            },
            "header": {
             "fill": {
              "color": "#C8D4E3"
             },
             "line": {
              "color": "white"
             }
            },
            "type": "table"
           }
          ]
         },
         "layout": {
          "annotationdefaults": {
           "arrowcolor": "#2a3f5f",
           "arrowhead": 0,
           "arrowwidth": 1
          },
          "autotypenumbers": "strict",
          "coloraxis": {
           "colorbar": {
            "outlinewidth": 0,
            "ticks": ""
           }
          },
          "colorscale": {
           "diverging": [
            [
             0,
             "#8e0152"
            ],
            [
             0.1,
             "#c51b7d"
            ],
            [
             0.2,
             "#de77ae"
            ],
            [
             0.3,
             "#f1b6da"
            ],
            [
             0.4,
             "#fde0ef"
            ],
            [
             0.5,
             "#f7f7f7"
            ],
            [
             0.6,
             "#e6f5d0"
            ],
            [
             0.7,
             "#b8e186"
            ],
            [
             0.8,
             "#7fbc41"
            ],
            [
             0.9,
             "#4d9221"
            ],
            [
             1,
             "#276419"
            ]
           ],
           "sequential": [
            [
             0,
             "#0d0887"
            ],
            [
             0.1111111111111111,
             "#46039f"
            ],
            [
             0.2222222222222222,
             "#7201a8"
            ],
            [
             0.3333333333333333,
             "#9c179e"
            ],
            [
             0.4444444444444444,
             "#bd3786"
            ],
            [
             0.5555555555555556,
             "#d8576b"
            ],
            [
             0.6666666666666666,
             "#ed7953"
            ],
            [
             0.7777777777777778,
             "#fb9f3a"
            ],
            [
             0.8888888888888888,
             "#fdca26"
            ],
            [
             1,
             "#f0f921"
            ]
           ],
           "sequentialminus": [
            [
             0,
             "#0d0887"
            ],
            [
             0.1111111111111111,
             "#46039f"
            ],
            [
             0.2222222222222222,
             "#7201a8"
            ],
            [
             0.3333333333333333,
             "#9c179e"
            ],
            [
             0.4444444444444444,
             "#bd3786"
            ],
            [
             0.5555555555555556,
             "#d8576b"
            ],
            [
             0.6666666666666666,
             "#ed7953"
            ],
            [
             0.7777777777777778,
             "#fb9f3a"
            ],
            [
             0.8888888888888888,
             "#fdca26"
            ],
            [
             1,
             "#f0f921"
            ]
           ]
          },
          "colorway": [
           "#636efa",
           "#EF553B",
           "#00cc96",
           "#ab63fa",
           "#FFA15A",
           "#19d3f3",
           "#FF6692",
           "#B6E880",
           "#FF97FF",
           "#FECB52"
          ],
          "font": {
           "color": "#2a3f5f"
          },
          "geo": {
           "bgcolor": "white",
           "lakecolor": "white",
           "landcolor": "#E5ECF6",
           "showlakes": true,
           "showland": true,
           "subunitcolor": "white"
          },
          "hoverlabel": {
           "align": "left"
          },
          "hovermode": "closest",
          "mapbox": {
           "style": "light"
          },
          "paper_bgcolor": "white",
          "plot_bgcolor": "#E5ECF6",
          "polar": {
           "angularaxis": {
            "gridcolor": "white",
            "linecolor": "white",
            "ticks": ""
           },
           "bgcolor": "#E5ECF6",
           "radialaxis": {
            "gridcolor": "white",
            "linecolor": "white",
            "ticks": ""
           }
          },
          "scene": {
           "xaxis": {
            "backgroundcolor": "#E5ECF6",
            "gridcolor": "white",
            "gridwidth": 2,
            "linecolor": "white",
            "showbackground": true,
            "ticks": "",
            "zerolinecolor": "white"
           },
           "yaxis": {
            "backgroundcolor": "#E5ECF6",
            "gridcolor": "white",
            "gridwidth": 2,
            "linecolor": "white",
            "showbackground": true,
            "ticks": "",
            "zerolinecolor": "white"
           },
           "zaxis": {
            "backgroundcolor": "#E5ECF6",
            "gridcolor": "white",
            "gridwidth": 2,
            "linecolor": "white",
            "showbackground": true,
            "ticks": "",
            "zerolinecolor": "white"
           }
          },
          "shapedefaults": {
           "line": {
            "color": "#2a3f5f"
           }
          },
          "ternary": {
           "aaxis": {
            "gridcolor": "white",
            "linecolor": "white",
            "ticks": ""
           },
           "baxis": {
            "gridcolor": "white",
            "linecolor": "white",
            "ticks": ""
           },
           "bgcolor": "#E5ECF6",
           "caxis": {
            "gridcolor": "white",
            "linecolor": "white",
            "ticks": ""
           }
          },
          "title": {
           "x": 0.05
          },
          "xaxis": {
           "automargin": true,
           "gridcolor": "white",
           "linecolor": "white",
           "ticks": "",
           "title": {
            "standoff": 15
           },
           "zerolinecolor": "white",
           "zerolinewidth": 2
          },
          "yaxis": {
           "automargin": true,
           "gridcolor": "white",
           "linecolor": "white",
           "ticks": "",
           "title": {
            "standoff": 15
           },
           "zerolinecolor": "white",
           "zerolinewidth": 2
          }
         }
        },
        "title": {},
        "xaxis": {
         "showgrid": false,
         "showticklabels": false,
         "zeroline": false
        },
        "yaxis": {
         "autorange": "reversed",
         "showgrid": true,
         "title": {
          "text": "Cell cycle level"
         },
         "zeroline": true
        }
       }
      }
     },
     "metadata": {},
     "output_type": "display_data"
    }
   ],
   "source": [
    "cyclelin0.plot(node_hover_features=[\"cycle_ID\", \"division_rate\"])"
   ]
  },
  {
   "cell_type": "markdown",
   "metadata": {},
   "source": [
    "### When is an update required?"
   ]
  },
  {
   "cell_type": "markdown",
   "metadata": {},
   "source": [
    "An update is required in 2 different cases:\n",
    "- When you have added one or more features to a model. In that case, the added feature(s) will have no associated values and the update is needed to compute them. All cells, cycles (if cycle data is present), links and lineages will be affected by the update.\n",
    "- When the structure of a lineage has been modified, e.g. removal of a cell or correction of an inacurrate division. In that case, the features already have values but they may be incorrect. Depending on the features reach and the impacted elements of the model, only a subset of cells, cycles (if cycle data is present), links and lineages will be affected by the update."
   ]
  },
  {
   "cell_type": "markdown",
   "metadata": {},
   "source": [
    "You can check if an update is required with:"
   ]
  },
  {
   "cell_type": "code",
   "execution_count": 23,
   "metadata": {},
   "outputs": [
    {
     "data": {
      "text/plain": [
       "False"
      ]
     },
     "execution_count": 23,
     "metadata": {},
     "output_type": "execute_result"
    }
   ],
   "source": [
    "model.is_update_required()"
   ]
  },
  {
   "cell_type": "markdown",
   "metadata": {},
   "source": [
    "However, there is one case not taken into account by `update()` and `is_update_required()`: **when the value of a feature is manually modified on one or more elements**, which in turns should impact the value of another feature.\n",
    "A classic example is when the shape of a specific cell is modified by the user. Since cell length depends on the shape of the cell, length for this specific cell becomes incorrect. In that case, you can ask the model to recompute just the cell length:  \n",
    "**NOT IMPLEMENTED YET**"
   ]
  },
  {
   "cell_type": "code",
   "execution_count": 24,
   "metadata": {},
   "outputs": [],
   "source": [
    "# model.recompute_feature(\"cell_length\")  # NOT IMPLEMENTED YET"
   ]
  },
  {
   "cell_type": "markdown",
   "metadata": {},
   "source": [
    "## Removing features from a model"
   ]
  },
  {
   "cell_type": "markdown",
   "metadata": {},
   "source": [
    "Removing a feature both remove all the feature values stored in the lineages and unregister the feature itself from the model. It is a non-reversible operation. If you want to get the feature back, the only way is to re-add it to the model, then update the model to recompute all the values.\n",
    "\n",
    "All types of features can be removed, even if it breaks the model (like removing `cell_ID` or `frame`). Mandatory features will be protected in a later update to avoid breaking models.\n",
    "\n",
    "For now, features must be removed one by one and by specifying which type of object they applies to:"
   ]
  },
  {
   "cell_type": "code",
   "execution_count": 26,
   "metadata": {},
   "outputs": [],
   "source": [
    "model.remove_feature(\"absolute_age\")\n",
    "model.remove_feature(\"DISPLACEMENT\")\n",
    "model.remove_feature(\"LONGEST_GAP\")"
   ]
  },
  {
   "cell_type": "markdown",
   "metadata": {},
   "source": [
    "After removal, trying to access the feature values will throw an error:"
   ]
  },
  {
   "cell_type": "code",
   "execution_count": 27,
   "metadata": {
    "tags": [
     "raises-exception"
    ]
   },
   "outputs": [
    {
     "ename": "KeyError",
     "evalue": "'absolute_age'",
     "output_type": "error",
     "traceback": [
      "\u001b[1;31m---------------------------------------------------------------------------\u001b[0m",
      "\u001b[1;31mKeyError\u001b[0m                                  Traceback (most recent call last)",
      "Cell \u001b[1;32mIn[27], line 1\u001b[0m\n\u001b[1;32m----> 1\u001b[0m \u001b[43mlin0\u001b[49m\u001b[38;5;241;43m.\u001b[39;49m\u001b[43mnodes\u001b[49m\u001b[43m[\u001b[49m\u001b[38;5;241;43m9013\u001b[39;49m\u001b[43m]\u001b[49m\u001b[43m[\u001b[49m\u001b[38;5;124;43m\"\u001b[39;49m\u001b[38;5;124;43mabsolute_age\u001b[39;49m\u001b[38;5;124;43m\"\u001b[39;49m\u001b[43m]\u001b[49m\n",
      "\u001b[1;31mKeyError\u001b[0m: 'absolute_age'"
     ]
    }
   ],
   "source": [
    "lin0.nodes[9013][\"absolute_age\"]"
   ]
  }
 ],
 "metadata": {
  "kernelspec": {
   "display_name": "pycellin",
   "language": "python",
   "name": "python3"
  },
  "language_info": {
   "codemirror_mode": {
    "name": "ipython",
    "version": 3
   },
   "file_extension": ".py",
   "mimetype": "text/x-python",
   "name": "python",
   "nbconvert_exporter": "python",
   "pygments_lexer": "ipython3",
   "version": "3.10.16"
  }
 },
 "nbformat": 4,
 "nbformat_minor": 2
}
