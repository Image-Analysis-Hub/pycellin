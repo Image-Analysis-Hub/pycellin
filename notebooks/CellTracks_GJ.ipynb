{
 "cells": [
  {
   "cell_type": "code",
   "execution_count": null,
   "metadata": {},
   "outputs": [],
   "source": []
  },
  {
   "cell_type": "markdown",
   "metadata": {},
   "source": [
    "## 2. Extracting segments from graphs"
   ]
  },
  {
   "cell_type": "markdown",
   "metadata": {},
   "source": [
    "What I define as a generation is the track segment between 2 divisions, excluding the first division but including the last one.\n",
    "\n",
    "If we take the following graph example:\n",
    "\n",
    "        0\n",
    "        |\n",
    "        1\n",
    "       / \\\n",
    "      2   3\n",
    "      |   |\n",
    "      4   5  \n",
    "      |   |    \n",
    "      6   7\n",
    "     / \\\n",
    "    8   9\n",
    "\n",
    "we will have the following generations: \\\n",
    "[0, 1] \\\n",
    "[2, 4, 6] \\\n",
    "[3, 5, 7] \\\n",
    "[8] \\\n",
    "[9] \n",
    "\n",
    "But only generation [2, 4, 6] is complete."
   ]
  },
  {
   "cell_type": "code",
   "execution_count": null,
   "metadata": {},
   "outputs": [],
   "source": [
    "# Building the example graph\n",
    "example_graph = nx.DiGraph()\n",
    "example_graph.add_edges_from(\n",
    "    [(0, 1), (1, 2), (2, 4), (4, 6), (6, 8), (6, 9), (1, 3), (3, 5), (5, 7)]\n",
    ")\n",
    "example_graph.graph[\"name\"] = \"example_graph\"\n",
    "\n",
    "# Drawing\n",
    "pos = nx.drawing.nx_agraph.graphviz_layout(example_graph, prog=\"dot\")\n",
    "nx.draw(example_graph, pos, with_labels=True, arrows=True, font_weight=\"bold\")"
   ]
  },
  {
   "cell_type": "code",
   "execution_count": null,
   "metadata": {},
   "outputs": [],
   "source": [
    "# All generations, complete or not\n",
    "gens = lin.get_generations(example_graph, keep_incomplete_gens=True)\n",
    "gens"
   ]
  },
  {
   "cell_type": "code",
   "execution_count": null,
   "metadata": {},
   "outputs": [],
   "source": [
    "# Only complete generations\n",
    "gens = lin.get_generations(\n",
    "    example_graph, keep_incomplete_gens=False\n",
    ")  # It's False by default but maybe it should be True instead...?\n",
    "gens"
   ]
  },
  {
   "cell_type": "markdown",
   "metadata": {},
   "source": [
    "On our test dataset:"
   ]
  },
  {
   "cell_type": "code",
   "execution_count": null,
   "metadata": {},
   "outputs": [],
   "source": [
    "# All generations\n",
    "gens_all = [\n",
    "    gen for g in graphs for gen in lin.get_generations(g, keep_incomplete_gens=True)\n",
    "]\n",
    "print(len(gens_all))\n",
    "print(gens_all[0])"
   ]
  },
  {
   "cell_type": "code",
   "execution_count": null,
   "metadata": {},
   "outputs": [],
   "source": [
    "# Complete generations\n",
    "gens_comp = [\n",
    "    gen for g in graphs for gen in lin.get_generations(g, keep_incomplete_gens=False)\n",
    "]\n",
    "print(len(gens_comp))\n",
    "print(gens_comp[0])"
   ]
  },
  {
   "cell_type": "markdown",
   "metadata": {},
   "source": [
    "## 3. Recomputing tracks features on segments"
   ]
  },
  {
   "cell_type": "code",
   "execution_count": null,
   "metadata": {},
   "outputs": [],
   "source": [
    "lin.get_divisions(graphs[0])"
   ]
  },
  {
   "cell_type": "code",
   "execution_count": null,
   "metadata": {},
   "outputs": [],
   "source": [
    "for ed in graphs[0].edges(2015):\n",
    "    graphs[0].remove_edge(*ed)"
   ]
  },
  {
   "cell_type": "code",
   "execution_count": null,
   "metadata": {},
   "outputs": [],
   "source": [
    "def number_spots(generation):\n",
    "    return len(generation)"
   ]
  },
  {
   "cell_type": "code",
   "execution_count": null,
   "metadata": {},
   "outputs": [],
   "source": [
    "for graph in graphs:\n",
    "    feat.add_custom_attr(\n",
    "        graph,\n",
    "    )"
   ]
  },
  {
   "cell_type": "markdown",
   "metadata": {},
   "source": [
    "## 4. Extracting nodes dataframes and segments dataframes"
   ]
  }
 ],
 "metadata": {
  "language_info": {
   "name": "python"
  }
 },
 "nbformat": 4,
 "nbformat_minor": 2
}
