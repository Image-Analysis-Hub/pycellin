{
 "cells": [
  {
   "cell_type": "markdown",
   "metadata": {},
   "source": [
    "# Working with TrackMate data"
   ]
  },
  {
   "cell_type": "markdown",
   "metadata": {},
   "source": []
  },
  {
   "cell_type": "code",
   "execution_count": 1,
   "metadata": {},
   "outputs": [],
   "source": [
    "import pycellin as pc\n",
    "\n",
    "# %matplotlib widget"
   ]
  },
  {
   "cell_type": "markdown",
   "metadata": {},
   "source": [
    "## 0. Example data"
   ]
  },
  {
   "cell_type": "markdown",
   "metadata": {},
   "source": []
  },
  {
   "cell_type": "code",
   "execution_count": 2,
   "metadata": {},
   "outputs": [],
   "source": [
    "# Main example.\n",
    "trackmate_xml = \"../sample_data/Ecoli_growth_on_agar_pad.xml\"\n",
    "\n",
    "# Other examples.\n",
    "trackmate_xml_fusions = \"../sample_data/Ecoli_growth_on_agar_pad_with_fusions.xml\""
   ]
  },
  {
   "cell_type": "markdown",
   "metadata": {},
   "source": [
    "## 1. Creating a model from a TrackMate XML file"
   ]
  },
  {
   "cell_type": "code",
   "execution_count": 3,
   "metadata": {},
   "outputs": [],
   "source": [
    "# Parse the XML file and create a Pycellin Model object\n",
    "# that contains all the data from the XML file.\n",
    "model = pc.load_TrackMate_XML(trackmate_xml)"
   ]
  },
  {
   "cell_type": "markdown",
   "metadata": {},
   "source": [
    "In Pycellin, tracks from TrackMate are modeled by directed acyclic graphs and are called cell lineages. **It means that splitting events are allowed, they even are recommended if you want to take full advantage of Pycellin. However, MERGING EVENTS ARE NOT SUPPORTED.** If you try to use Pycellin on a lineage with merging events, it may crash or produce incorrect results, especially if you are computing features related to tracking.\n"
   ]
  },
  {
   "cell_type": "code",
   "execution_count": 4,
   "metadata": {},
   "outputs": [
    {
     "name": "stderr",
     "output_type": "stream",
     "text": [
      "/mnt/data/Code/pycellin/pycellin/pycellin/io/trackmate/loader.py:1233: UserWarning: Unsupported data, 3 cell fusions detected. It is advised to deal with them before any other processing, especially for tracking related features. Crashes and incorrect results can occur. See documentation for more details.\n",
      "  warnings.warn(fusion_warning)\n"
     ]
    }
   ],
   "source": [
    "model_fusions = pc.load_TrackMate_XML(trackmate_xml_fusions)"
   ]
  },
  {
   "cell_type": "markdown",
   "metadata": {},
   "source": [
    "`load_TrackMate_XML()` automatically check for fusion when loading a file, and will warn the user if any are found. It is then up to the user to decide what to do. **Be careful if you decide to proceed without first sorting out the fusions.**"
   ]
  },
  {
   "cell_type": "markdown",
   "metadata": {},
   "source": [
    "Pycellin is creating one lineage per TrackMate track. \\\n",
    "The arguments `keep_all_spots` and `keep_all_tracks` allow you to keep (value to `True`) or discard (value to `False`) spots/tracks that were filtered out in TrackMate. These arguments are false by default."
   ]
  },
  {
   "cell_type": "markdown",
   "metadata": {},
   "source": [
    "We can display basic information about the model."
   ]
  },
  {
   "cell_type": "code",
   "execution_count": 5,
   "metadata": {},
   "outputs": [
    {
     "name": "stdout",
     "output_type": "stream",
     "text": [
      "Model named 'Ecoli_growth_on_agar_pad' with 3 lineages, built from TrackMate.\n",
      "This model contains 3 lineages:\n",
      "- ID 0: CellLineage of ID 0 with 152 cells and 151 links.\n",
      "- ID 1: CellLineage of ID 1 with 189 cells and 188 links.\n",
      "- ID 2: CellLineage of ID 2 with 185 cells and 184 links.\n"
     ]
    }
   ],
   "source": [
    "print(model)\n",
    "print(f\"This model contains {model.data.number_of_lineages()} lineages:\")\n",
    "for lin_ID, lineage in model.data.cell_data.items():\n",
    "    print(f\"- ID {lin_ID}: {lineage}\")"
   ]
  },
  {
   "cell_type": "markdown",
   "metadata": {},
   "source": [
    "So here we have three different cell lineages that you can identify by their ID: 0, 1 and 2."
   ]
  },
  {
   "cell_type": "code",
   "execution_count": 13,
   "metadata": {},
   "outputs": [],
   "source": [
    "import networkx as nx\n",
    "import pandas as pd\n",
    "import plotly.express as px\n",
    "import plotly.graph_objects as go\n",
    "from cmap import Colormap"
   ]
  },
  {
   "cell_type": "code",
   "execution_count": 21,
   "metadata": {},
   "outputs": [],
   "source": [
    "cm = Colormap('glasbey:glasbey').to_plotly()\n",
    "cm = [rgb for (value, rgb) in cm[1:]]"
   ]
  },
  {
   "cell_type": "code",
   "execution_count": 7,
   "metadata": {},
   "outputs": [],
   "source": [
    "def plot_cell_trajectory(\n",
    "    lineage: pc.CellLineage,\n",
    "    y_feature: str,\n",
    "    x_feature: str = \"frame\",\n",
    "    start_noi: int | None = None,\n",
    "    end_noi: int | list[int] | None = None,\n",
    "    show_divisions: bool = True,\n",
    "    color_palette: list[str] = px.colors.qualitative.Alphabet,\n",
    ") -> go.Figure:\n",
    "    if start_noi is None:\n",
    "        start_noi = lineage.get_root()\n",
    "        # TODO: deal with the case where there are multiple roots.\n",
    "    if end_noi is None:\n",
    "        end_noi = lineage.get_leaves()\n",
    "\n",
    "    if isinstance(end_noi, int):\n",
    "        trajs = [nx.shortest_path(lineage, start_noi, end_noi)]\n",
    "    elif isinstance(end_noi, list):\n",
    "        trajs = [nx.shortest_path(lineage, start_noi, end) for end in end_noi]\n",
    "\n",
    "    fig = go.Figure()\n",
    "    for i, traj in enumerate(trajs):\n",
    "        # Cycle through the color palette.\n",
    "        color = color_palette[i % len(color_palette)]\n",
    "        if show_divisions:\n",
    "            # For grouping the legend by trajectory.\n",
    "            traj_name = \"Trajectory\"\n",
    "            legend_group = f\"{traj[0]}-{traj[-1]}\"\n",
    "        else:\n",
    "            traj_name = f\"{traj[0]}-{traj[-1]}\"\n",
    "            legend_group = None\n",
    "\n",
    "        # Plot the trajectory.\n",
    "        fig.add_trace(\n",
    "            go.Scatter(\n",
    "                x=[lineage.nodes[node][x_feature] for node in traj],\n",
    "                y=[lineage.nodes[node][y_feature] for node in traj],\n",
    "                mode=\"lines\",\n",
    "                line=dict(color=color),\n",
    "                name=traj_name,\n",
    "                legendgroup=legend_group,\n",
    "                legendgrouptitle=dict(text=legend_group),\n",
    "            )\n",
    "        )\n",
    "\n",
    "        # Plot the divisions.\n",
    "        if show_divisions:\n",
    "            divs = lineage.get_divisions()\n",
    "            div_nodes = [node for node in traj if node in divs]\n",
    "            fig.add_trace(\n",
    "                go.Scatter(\n",
    "                    x=[lineage.nodes[node][x_feature] for node in div_nodes],\n",
    "                    y=[lineage.nodes[node][y_feature] for node in div_nodes],\n",
    "                    mode=\"markers\",\n",
    "                    marker=dict(color=color),\n",
    "                    name=\"Divisions\",\n",
    "                    legendgroup=legend_group,\n",
    "                )\n",
    "            )\n",
    "\n",
    "    return fig"
   ]
  },
  {
   "cell_type": "code",
   "execution_count": 8,
   "metadata": {},
   "outputs": [
    {
     "name": "stdout",
     "output_type": "stream",
     "text": [
      "['#636EFA', '#EF553B', '#00CC96', '#AB63FA', '#FFA15A', '#19D3F3', '#FF6692', '#B6E880', '#FF97FF', '#FECB52']\n"
     ]
    }
   ],
   "source": [
    "print(px.colors.qualitative.Plotly)"
   ]
  },
  {
   "cell_type": "code",
   "execution_count": 9,
   "metadata": {},
   "outputs": [
    {
     "data": {
      "application/vnd.plotly.v1+json": {
       "config": {
        "plotlyServerURL": "https://plot.ly"
       },
       "data": [
        {
         "mode": "lines",
         "name": "Edges",
         "text": [],
         "type": "scatter",
         "x": [
          0.8125,
          0.8125,
          null,
          -10.6875,
          -10.6875,
          null,
          2.8125,
          2.8125,
          null,
          -7.1875,
          -7.1875,
          null,
          -5.6875,
          -5.6875,
          null,
          -9.1875,
          -9.1875,
          null,
          -4.1875,
          -4.1875,
          null,
          4.8125,
          4.3125,
          null,
          4.8125,
          5.3125,
          null,
          -2.1875,
          -2.1875,
          null,
          -0.6875,
          -0.6875,
          null,
          7.3125,
          7.3125,
          null,
          6.3125,
          6.3125,
          null,
          -3.1875,
          -3.1875,
          null,
          -6.4375,
          -6.4375,
          null,
          0.8125,
          0.8125,
          null,
          -0.6875,
          -0.6875,
          null,
          7.3125,
          7.3125,
          null,
          2.8125,
          2.8125,
          null,
          -9.9375,
          -9.9375,
          null,
          4.8125,
          4.8125,
          null,
          7.3125,
          7.3125,
          null,
          -0.6875,
          -0.6875,
          null,
          0.8125,
          0.8125,
          null,
          -2.1875,
          -2.1875,
          null,
          -7.1875,
          -7.1875,
          null,
          -10.6875,
          -10.6875,
          null,
          4.3125,
          4.3125,
          null,
          2.8125,
          2.8125,
          null,
          -5.6875,
          -5.6875,
          null,
          -9.1875,
          -9.1875,
          null,
          -4.1875,
          -4.1875,
          null,
          5.3125,
          5.3125,
          null,
          -0.6875,
          -0.6875,
          null,
          6.3125,
          6.3125,
          null,
          6.3125,
          6.3125,
          null,
          0.8125,
          0.8125,
          null,
          -7.1875,
          -7.1875,
          null,
          -10.6875,
          -10.6875,
          null,
          4.3125,
          4.3125,
          null,
          7.3125,
          7.3125,
          null,
          -2.1875,
          -2.1875,
          null,
          2.8125,
          2.8125,
          null,
          -5.6875,
          -5.6875,
          null,
          -4.1875,
          -4.6875,
          null,
          -4.1875,
          -3.6875,
          null,
          -9.1875,
          -9.1875,
          null,
          5.3125,
          5.3125,
          null,
          -0.6875,
          -0.6875,
          null,
          6.3125,
          6.3125,
          null,
          -2.1875,
          -2.6875,
          null,
          -2.1875,
          -1.6875,
          null,
          4.3125,
          4.3125,
          null,
          7.3125,
          7.3125,
          null,
          2.8125,
          2.3125,
          null,
          2.8125,
          3.3125,
          null,
          -10.6875,
          -10.6875,
          null,
          -4.6875,
          -4.6875,
          null,
          -9.1875,
          -8.6875,
          null,
          -9.1875,
          -9.6875,
          null,
          5.3125,
          5.3125,
          null,
          -5.6875,
          -5.6875,
          null,
          0.8125,
          0.3125,
          null,
          0.8125,
          1.3125,
          null,
          -3.6875,
          -3.6875,
          null,
          5.0625,
          5.0625,
          null,
          -7.1875,
          -6.6875,
          null,
          -7.1875,
          -7.6875,
          null,
          5.0625,
          5.0625,
          null,
          -5.0625,
          -5.0625,
          null,
          0,
          5.0625,
          null,
          0,
          -5.0625,
          null,
          -5.0625,
          -5.0625,
          null,
          5.0625,
          5.0625,
          null,
          -5.0625,
          -5.0625,
          null,
          5.0625,
          5.0625,
          null,
          -5.0625,
          -5.0625,
          null,
          -5.0625,
          -5.0625,
          null,
          5.0625,
          5.0625,
          null,
          -5.0625,
          -1.9375,
          null,
          -5.0625,
          -8.1875,
          null,
          5.0625,
          3.3125,
          null,
          5.0625,
          6.8125,
          null,
          -8.1875,
          -8.1875,
          null,
          -1.9375,
          -1.9375,
          null,
          3.3125,
          3.3125,
          null,
          6.8125,
          6.8125,
          null,
          -8.1875,
          -8.1875,
          null,
          -1.9375,
          -1.9375,
          null,
          3.3125,
          3.3125,
          null,
          6.8125,
          6.8125,
          null,
          -8.1875,
          -6.4375,
          null,
          -8.1875,
          -9.9375,
          null,
          3.3125,
          1.8125,
          null,
          3.3125,
          4.8125,
          null,
          -1.9375,
          -1.9375,
          null,
          6.8125,
          6.8125,
          null,
          -8.1875,
          -8.1875,
          null,
          3.3125,
          3.3125,
          null,
          -1.9375,
          -1.9375,
          null,
          6.8125,
          6.8125,
          null,
          6.3125,
          6.3125,
          null,
          -3.1875,
          -3.1875,
          null,
          -6.4375,
          -6.4375,
          null,
          1.8125,
          1.8125,
          null,
          7.3125,
          7.3125,
          null,
          -9.9375,
          -9.9375,
          null,
          4.8125,
          4.8125,
          null,
          -0.6875,
          -0.6875,
          null,
          1.8125,
          1.8125,
          null,
          -9.9375,
          -9.9375,
          null,
          4.8125,
          4.8125,
          null,
          -6.4375,
          -6.4375,
          null,
          -1.9375,
          -0.6875,
          null,
          -1.9375,
          -3.1875,
          null,
          6.8125,
          6.3125,
          null,
          6.8125,
          7.3125,
          null,
          6.3125,
          6.3125,
          null,
          -3.1875,
          -3.1875,
          null,
          -6.4375,
          -6.4375,
          null,
          -8.1875,
          -8.1875,
          null,
          1.8125,
          1.8125,
          null,
          -1.9375,
          -1.9375,
          null,
          3.3125,
          3.3125,
          null,
          6.8125,
          6.8125,
          null,
          7.3125,
          7.3125,
          null,
          -9.9375,
          -9.9375,
          null,
          4.8125,
          4.8125,
          null,
          -0.6875,
          -0.6875,
          null,
          6.3125,
          6.3125,
          null,
          1.8125,
          0.8125,
          null,
          1.8125,
          2.8125,
          null,
          -0.6875,
          -0.6875,
          null,
          7.3125,
          7.3125,
          null,
          -9.9375,
          -9.9375,
          null,
          -3.1875,
          -3.1875,
          null,
          4.8125,
          4.8125,
          null,
          -6.4375,
          -6.4375,
          null,
          6.3125,
          6.3125,
          null,
          0.8125,
          0.8125,
          null,
          -0.6875,
          -0.6875,
          null,
          7.3125,
          7.3125,
          null,
          2.8125,
          2.8125,
          null,
          -6.4375,
          -5.6875,
          null,
          -6.4375,
          -7.1875,
          null,
          -9.9375,
          -9.1875,
          null,
          -9.9375,
          -10.6875,
          null,
          4.8125,
          4.8125,
          null,
          -3.1875,
          -2.1875,
          null,
          -3.1875,
          -4.1875,
          null,
          6.3125,
          6.3125,
          null
         ],
         "y": [
          18,
          19,
          null,
          18,
          19,
          null,
          18,
          19,
          null,
          18,
          19,
          null,
          18,
          19,
          null,
          18,
          19,
          null,
          18,
          19,
          null,
          18,
          19,
          null,
          18,
          19,
          null,
          18,
          19,
          null,
          18,
          19,
          null,
          18,
          19,
          null,
          16,
          17,
          null,
          16,
          17,
          null,
          16,
          17,
          null,
          16,
          17,
          null,
          16,
          17,
          null,
          16,
          17,
          null,
          16,
          17,
          null,
          16,
          17,
          null,
          16,
          17,
          null,
          19,
          20,
          null,
          19,
          20,
          null,
          19,
          20,
          null,
          19,
          20,
          null,
          19,
          20,
          null,
          19,
          20,
          null,
          19,
          20,
          null,
          19,
          20,
          null,
          19,
          20,
          null,
          19,
          20,
          null,
          19,
          20,
          null,
          19,
          20,
          null,
          20,
          21,
          null,
          19,
          20,
          null,
          20,
          21,
          null,
          20,
          21,
          null,
          20,
          21,
          null,
          20,
          21,
          null,
          20,
          21,
          null,
          20,
          21,
          null,
          20,
          21,
          null,
          20,
          21,
          null,
          20,
          21,
          null,
          20,
          21,
          null,
          20,
          21,
          null,
          20,
          21,
          null,
          20,
          21,
          null,
          21,
          22,
          null,
          21,
          22,
          null,
          21,
          22,
          null,
          21,
          22,
          null,
          21,
          22,
          null,
          21,
          22,
          null,
          21,
          22,
          null,
          21,
          22,
          null,
          21,
          22,
          null,
          21,
          22,
          null,
          21,
          22,
          null,
          21,
          22,
          null,
          21,
          22,
          null,
          21,
          22,
          null,
          21,
          22,
          null,
          21,
          22,
          null,
          21,
          22,
          null,
          2,
          3,
          null,
          21,
          22,
          null,
          21,
          22,
          null,
          3,
          4,
          null,
          2,
          3,
          null,
          0,
          1,
          null,
          0,
          1,
          null,
          3,
          4,
          null,
          4,
          5,
          null,
          4,
          5,
          null,
          5,
          6,
          null,
          5,
          6,
          null,
          1,
          2,
          null,
          1,
          2,
          null,
          6,
          7,
          null,
          6,
          7,
          null,
          6,
          7,
          null,
          6,
          7,
          null,
          9,
          10,
          null,
          9,
          10,
          null,
          9,
          10,
          null,
          9,
          10,
          null,
          8,
          9,
          null,
          8,
          9,
          null,
          8,
          9,
          null,
          8,
          9,
          null,
          11,
          12,
          null,
          11,
          12,
          null,
          11,
          12,
          null,
          11,
          12,
          null,
          11,
          12,
          null,
          11,
          12,
          null,
          10,
          11,
          null,
          10,
          11,
          null,
          10,
          11,
          null,
          10,
          11,
          null,
          13,
          14,
          null,
          13,
          14,
          null,
          13,
          14,
          null,
          13,
          14,
          null,
          13,
          14,
          null,
          13,
          14,
          null,
          13,
          14,
          null,
          13,
          14,
          null,
          12,
          13,
          null,
          12,
          13,
          null,
          12,
          13,
          null,
          12,
          13,
          null,
          12,
          13,
          null,
          12,
          13,
          null,
          12,
          13,
          null,
          12,
          13,
          null,
          14,
          15,
          null,
          14,
          15,
          null,
          14,
          15,
          null,
          7,
          8,
          null,
          14,
          15,
          null,
          7,
          8,
          null,
          7,
          8,
          null,
          7,
          8,
          null,
          14,
          15,
          null,
          14,
          15,
          null,
          14,
          15,
          null,
          14,
          15,
          null,
          15,
          16,
          null,
          15,
          16,
          null,
          15,
          16,
          null,
          15,
          16,
          null,
          15,
          16,
          null,
          15,
          16,
          null,
          15,
          16,
          null,
          15,
          16,
          null,
          15,
          16,
          null,
          17,
          18,
          null,
          17,
          18,
          null,
          17,
          18,
          null,
          17,
          18,
          null,
          17,
          18,
          null,
          17,
          18,
          null,
          17,
          18,
          null,
          17,
          18,
          null,
          17,
          18,
          null,
          17,
          18,
          null,
          17,
          18,
          null,
          17,
          18,
          null,
          18,
          19,
          null
         ]
        },
        {
         "hoverinfo": "text",
         "hovertemplate": "%{text}",
         "mode": "markers",
         "name": "lineage_ID: 0",
         "text": [
          "cell_ID: 9216<br>frame: 18",
          "cell_ID: 9218<br>frame: 18",
          "cell_ID: 9222<br>frame: 18",
          "cell_ID: 9223<br>frame: 18",
          "cell_ID: 9227<br>frame: 18",
          "cell_ID: 9228<br>frame: 18",
          "cell_ID: 9229<br>frame: 18",
          "cell_ID: 9230<br>frame: 18",
          "cell_ID: 9235<br>frame: 18",
          "cell_ID: 9240<br>frame: 18",
          "cell_ID: 9250<br>frame: 18",
          "cell_ID: 9252<br>frame: 16",
          "cell_ID: 9255<br>frame: 16",
          "cell_ID: 9258<br>frame: 16",
          "cell_ID: 9259<br>frame: 16",
          "cell_ID: 9262<br>frame: 16",
          "cell_ID: 9263<br>frame: 16",
          "cell_ID: 9271<br>frame: 16",
          "cell_ID: 9274<br>frame: 16",
          "cell_ID: 9277<br>frame: 16",
          "cell_ID: 9279<br>frame: 19",
          "cell_ID: 9286<br>frame: 19",
          "cell_ID: 9290<br>frame: 19",
          "cell_ID: 9292<br>frame: 19",
          "cell_ID: 9293<br>frame: 19",
          "cell_ID: 9294<br>frame: 19",
          "cell_ID: 9299<br>frame: 19",
          "cell_ID: 9306<br>frame: 19",
          "cell_ID: 9308<br>frame: 19",
          "cell_ID: 9309<br>frame: 19",
          "cell_ID: 9310<br>frame: 19",
          "cell_ID: 9312<br>frame: 19",
          "cell_ID: 9326<br>frame: 20",
          "cell_ID: 9328<br>frame: 19",
          "cell_ID: 9330<br>frame: 20",
          "cell_ID: 9332<br>frame: 20",
          "cell_ID: 9334<br>frame: 20",
          "cell_ID: 9335<br>frame: 20",
          "cell_ID: 9339<br>frame: 20",
          "cell_ID: 9343<br>frame: 20",
          "cell_ID: 9344<br>frame: 20",
          "cell_ID: 9351<br>frame: 20",
          "cell_ID: 9355<br>frame: 20",
          "cell_ID: 9356<br>frame: 20",
          "cell_ID: 9357<br>frame: 20",
          "cell_ID: 9358<br>frame: 20",
          "cell_ID: 9375<br>frame: 22",
          "cell_ID: 9382<br>frame: 22",
          "cell_ID: 9384<br>frame: 22",
          "cell_ID: 9389<br>frame: 22",
          "cell_ID: 9390<br>frame: 22",
          "cell_ID: 9395<br>frame: 22",
          "cell_ID: 9398<br>frame: 22",
          "cell_ID: 9402<br>frame: 22",
          "cell_ID: 9416<br>frame: 22",
          "cell_ID: 9424<br>frame: 21",
          "cell_ID: 9428<br>frame: 21",
          "cell_ID: 9438<br>frame: 21",
          "cell_ID: 9440<br>frame: 22",
          "cell_ID: 9441<br>frame: 21",
          "cell_ID: 9444<br>frame: 22",
          "cell_ID: 9446<br>frame: 22",
          "cell_ID: 9448<br>frame: 22",
          "cell_ID: 9449<br>frame: 22",
          "cell_ID: 9450<br>frame: 21",
          "cell_ID: 9463<br>frame: 22",
          "cell_ID: 9464<br>frame: 21",
          "cell_ID: 9465<br>frame: 22",
          "cell_ID: 9470<br>frame: 22",
          "cell_ID: 9476<br>frame: 22",
          "cell_ID: 9480<br>frame: 22",
          "cell_ID: 9481<br>frame: 21",
          "cell_ID: 9482<br>frame: 21",
          "cell_ID: 9483<br>frame: 21",
          "cell_ID: 9485<br>frame: 21",
          "cell_ID: 9491<br>frame: 21",
          "cell_ID: 9492<br>frame: 21",
          "cell_ID: 9494<br>frame: 21",
          "cell_ID: 8986<br>frame: 2",
          "cell_ID: 9498<br>frame: 21",
          "cell_ID: 8988<br>frame: 3",
          "cell_ID: 8989<br>frame: 2",
          "cell_ID: 8993<br>frame: 0",
          "cell_ID: 8996<br>frame: 3",
          "cell_ID: 8999<br>frame: 4",
          "cell_ID: 9001<br>frame: 4",
          "cell_ID: 9008<br>frame: 5",
          "cell_ID: 9010<br>frame: 5",
          "cell_ID: 9013<br>frame: 1",
          "cell_ID: 9014<br>frame: 1",
          "cell_ID: 9019<br>frame: 6",
          "cell_ID: 9020<br>frame: 6",
          "cell_ID: 9027<br>frame: 9",
          "cell_ID: 9028<br>frame: 9",
          "cell_ID: 9029<br>frame: 9",
          "cell_ID: 9031<br>frame: 9",
          "cell_ID: 9040<br>frame: 8",
          "cell_ID: 9041<br>frame: 8",
          "cell_ID: 9042<br>frame: 8",
          "cell_ID: 9043<br>frame: 8",
          "cell_ID: 9051<br>frame: 11",
          "cell_ID: 9052<br>frame: 11",
          "cell_ID: 9053<br>frame: 11",
          "cell_ID: 9055<br>frame: 11",
          "cell_ID: 9062<br>frame: 10",
          "cell_ID: 9064<br>frame: 10",
          "cell_ID: 9065<br>frame: 10",
          "cell_ID: 9067<br>frame: 10",
          "cell_ID: 9080<br>frame: 13",
          "cell_ID: 9081<br>frame: 13",
          "cell_ID: 9082<br>frame: 13",
          "cell_ID: 9084<br>frame: 13",
          "cell_ID: 9086<br>frame: 13",
          "cell_ID: 9090<br>frame: 13",
          "cell_ID: 9091<br>frame: 13",
          "cell_ID: 9095<br>frame: 13",
          "cell_ID: 9096<br>frame: 12",
          "cell_ID: 9102<br>frame: 12",
          "cell_ID: 9103<br>frame: 12",
          "cell_ID: 9104<br>frame: 12",
          "cell_ID: 9106<br>frame: 12",
          "cell_ID: 9108<br>frame: 12",
          "cell_ID: 9118<br>frame: 14",
          "cell_ID: 9119<br>frame: 14",
          "cell_ID: 9120<br>frame: 14",
          "cell_ID: 9121<br>frame: 7",
          "cell_ID: 9122<br>frame: 14",
          "cell_ID: 9123<br>frame: 7",
          "cell_ID: 9124<br>frame: 7",
          "cell_ID: 9126<br>frame: 7",
          "cell_ID: 9127<br>frame: 14",
          "cell_ID: 9136<br>frame: 14",
          "cell_ID: 9138<br>frame: 14",
          "cell_ID: 9143<br>frame: 14",
          "cell_ID: 9155<br>frame: 15",
          "cell_ID: 9156<br>frame: 15",
          "cell_ID: 9159<br>frame: 15",
          "cell_ID: 9160<br>frame: 15",
          "cell_ID: 9167<br>frame: 15",
          "cell_ID: 9168<br>frame: 15",
          "cell_ID: 9169<br>frame: 15",
          "cell_ID: 9170<br>frame: 15",
          "cell_ID: 9176<br>frame: 17",
          "cell_ID: 9178<br>frame: 17",
          "cell_ID: 9181<br>frame: 17",
          "cell_ID: 9182<br>frame: 17",
          "cell_ID: 9191<br>frame: 17",
          "cell_ID: 9194<br>frame: 17",
          "cell_ID: 9195<br>frame: 17",
          "cell_ID: 9196<br>frame: 17",
          "cell_ID: 9206<br>frame: 17",
          "cell_ID: 9215<br>frame: 18"
         ],
         "type": "scatter",
         "x": [
          0.8125,
          -10.6875,
          2.8125,
          -7.1875,
          -5.6875,
          -9.1875,
          -4.1875,
          4.8125,
          -2.1875,
          -0.6875,
          7.3125,
          6.3125,
          -3.1875,
          -6.4375,
          0.8125,
          -0.6875,
          7.3125,
          2.8125,
          -9.9375,
          4.8125,
          7.3125,
          -0.6875,
          0.8125,
          -2.1875,
          -7.1875,
          -10.6875,
          4.3125,
          2.8125,
          -5.6875,
          -9.1875,
          -4.1875,
          5.3125,
          -0.6875,
          6.3125,
          6.3125,
          0.8125,
          -7.1875,
          -10.6875,
          4.3125,
          7.3125,
          -2.1875,
          2.8125,
          -5.6875,
          -4.1875,
          -9.1875,
          5.3125,
          2.3125,
          -0.6875,
          6.3125,
          -2.6875,
          4.3125,
          7.3125,
          3.3125,
          -9.6875,
          -7.6875,
          -0.6875,
          6.3125,
          -2.1875,
          -4.6875,
          4.3125,
          -3.6875,
          5.3125,
          -6.6875,
          -1.6875,
          7.3125,
          -5.6875,
          2.8125,
          -8.6875,
          -10.6875,
          0.3125,
          1.3125,
          -10.6875,
          -4.6875,
          -9.1875,
          5.3125,
          -5.6875,
          0.8125,
          -3.6875,
          5.0625,
          -7.1875,
          5.0625,
          -5.0625,
          0,
          -5.0625,
          5.0625,
          -5.0625,
          5.0625,
          -5.0625,
          -5.0625,
          5.0625,
          -5.0625,
          5.0625,
          -8.1875,
          -1.9375,
          3.3125,
          6.8125,
          -8.1875,
          -1.9375,
          3.3125,
          6.8125,
          -8.1875,
          3.3125,
          -1.9375,
          6.8125,
          -8.1875,
          3.3125,
          -1.9375,
          6.8125,
          6.3125,
          -3.1875,
          -6.4375,
          1.8125,
          7.3125,
          -9.9375,
          4.8125,
          -0.6875,
          1.8125,
          -9.9375,
          4.8125,
          -6.4375,
          -1.9375,
          6.8125,
          6.3125,
          -3.1875,
          -6.4375,
          -8.1875,
          1.8125,
          -1.9375,
          3.3125,
          6.8125,
          7.3125,
          -9.9375,
          4.8125,
          -0.6875,
          6.3125,
          1.8125,
          -0.6875,
          7.3125,
          -9.9375,
          -3.1875,
          4.8125,
          -6.4375,
          6.3125,
          0.8125,
          -0.6875,
          7.3125,
          2.8125,
          -6.4375,
          -9.9375,
          4.8125,
          -3.1875,
          6.3125
         ],
         "y": [
          18,
          18,
          18,
          18,
          18,
          18,
          18,
          18,
          18,
          18,
          18,
          16,
          16,
          16,
          16,
          16,
          16,
          16,
          16,
          16,
          19,
          19,
          19,
          19,
          19,
          19,
          19,
          19,
          19,
          19,
          19,
          19,
          20,
          19,
          20,
          20,
          20,
          20,
          20,
          20,
          20,
          20,
          20,
          20,
          20,
          20,
          22,
          22,
          22,
          22,
          22,
          22,
          22,
          22,
          22,
          21,
          21,
          21,
          22,
          21,
          22,
          22,
          22,
          22,
          21,
          22,
          21,
          22,
          22,
          22,
          22,
          21,
          21,
          21,
          21,
          21,
          21,
          21,
          2,
          21,
          3,
          2,
          0,
          3,
          4,
          4,
          5,
          5,
          1,
          1,
          6,
          6,
          9,
          9,
          9,
          9,
          8,
          8,
          8,
          8,
          11,
          11,
          11,
          11,
          10,
          10,
          10,
          10,
          13,
          13,
          13,
          13,
          13,
          13,
          13,
          13,
          12,
          12,
          12,
          12,
          12,
          12,
          14,
          14,
          14,
          7,
          14,
          7,
          7,
          7,
          14,
          14,
          14,
          14,
          15,
          15,
          15,
          15,
          15,
          15,
          15,
          15,
          17,
          17,
          17,
          17,
          17,
          17,
          17,
          17,
          17,
          18
         ]
        }
       ],
       "layout": {
        "hovermode": "closest",
        "showlegend": true,
        "template": {
         "data": {
          "bar": [
           {
            "error_x": {
             "color": "#2a3f5f"
            },
            "error_y": {
             "color": "#2a3f5f"
            },
            "marker": {
             "line": {
              "color": "#E5ECF6",
              "width": 0.5
             },
             "pattern": {
              "fillmode": "overlay",
              "size": 10,
              "solidity": 0.2
             }
            },
            "type": "bar"
           }
          ],
          "barpolar": [
           {
            "marker": {
             "line": {
              "color": "#E5ECF6",
              "width": 0.5
             },
             "pattern": {
              "fillmode": "overlay",
              "size": 10,
              "solidity": 0.2
             }
            },
            "type": "barpolar"
           }
          ],
          "carpet": [
           {
            "aaxis": {
             "endlinecolor": "#2a3f5f",
             "gridcolor": "white",
             "linecolor": "white",
             "minorgridcolor": "white",
             "startlinecolor": "#2a3f5f"
            },
            "baxis": {
             "endlinecolor": "#2a3f5f",
             "gridcolor": "white",
             "linecolor": "white",
             "minorgridcolor": "white",
             "startlinecolor": "#2a3f5f"
            },
            "type": "carpet"
           }
          ],
          "choropleth": [
           {
            "colorbar": {
             "outlinewidth": 0,
             "ticks": ""
            },
            "type": "choropleth"
           }
          ],
          "contour": [
           {
            "colorbar": {
             "outlinewidth": 0,
             "ticks": ""
            },
            "colorscale": [
             [
              0,
              "#0d0887"
             ],
             [
              0.1111111111111111,
              "#46039f"
             ],
             [
              0.2222222222222222,
              "#7201a8"
             ],
             [
              0.3333333333333333,
              "#9c179e"
             ],
             [
              0.4444444444444444,
              "#bd3786"
             ],
             [
              0.5555555555555556,
              "#d8576b"
             ],
             [
              0.6666666666666666,
              "#ed7953"
             ],
             [
              0.7777777777777778,
              "#fb9f3a"
             ],
             [
              0.8888888888888888,
              "#fdca26"
             ],
             [
              1,
              "#f0f921"
             ]
            ],
            "type": "contour"
           }
          ],
          "contourcarpet": [
           {
            "colorbar": {
             "outlinewidth": 0,
             "ticks": ""
            },
            "type": "contourcarpet"
           }
          ],
          "heatmap": [
           {
            "colorbar": {
             "outlinewidth": 0,
             "ticks": ""
            },
            "colorscale": [
             [
              0,
              "#0d0887"
             ],
             [
              0.1111111111111111,
              "#46039f"
             ],
             [
              0.2222222222222222,
              "#7201a8"
             ],
             [
              0.3333333333333333,
              "#9c179e"
             ],
             [
              0.4444444444444444,
              "#bd3786"
             ],
             [
              0.5555555555555556,
              "#d8576b"
             ],
             [
              0.6666666666666666,
              "#ed7953"
             ],
             [
              0.7777777777777778,
              "#fb9f3a"
             ],
             [
              0.8888888888888888,
              "#fdca26"
             ],
             [
              1,
              "#f0f921"
             ]
            ],
            "type": "heatmap"
           }
          ],
          "histogram": [
           {
            "marker": {
             "pattern": {
              "fillmode": "overlay",
              "size": 10,
              "solidity": 0.2
             }
            },
            "type": "histogram"
           }
          ],
          "histogram2d": [
           {
            "colorbar": {
             "outlinewidth": 0,
             "ticks": ""
            },
            "colorscale": [
             [
              0,
              "#0d0887"
             ],
             [
              0.1111111111111111,
              "#46039f"
             ],
             [
              0.2222222222222222,
              "#7201a8"
             ],
             [
              0.3333333333333333,
              "#9c179e"
             ],
             [
              0.4444444444444444,
              "#bd3786"
             ],
             [
              0.5555555555555556,
              "#d8576b"
             ],
             [
              0.6666666666666666,
              "#ed7953"
             ],
             [
              0.7777777777777778,
              "#fb9f3a"
             ],
             [
              0.8888888888888888,
              "#fdca26"
             ],
             [
              1,
              "#f0f921"
             ]
            ],
            "type": "histogram2d"
           }
          ],
          "histogram2dcontour": [
           {
            "colorbar": {
             "outlinewidth": 0,
             "ticks": ""
            },
            "colorscale": [
             [
              0,
              "#0d0887"
             ],
             [
              0.1111111111111111,
              "#46039f"
             ],
             [
              0.2222222222222222,
              "#7201a8"
             ],
             [
              0.3333333333333333,
              "#9c179e"
             ],
             [
              0.4444444444444444,
              "#bd3786"
             ],
             [
              0.5555555555555556,
              "#d8576b"
             ],
             [
              0.6666666666666666,
              "#ed7953"
             ],
             [
              0.7777777777777778,
              "#fb9f3a"
             ],
             [
              0.8888888888888888,
              "#fdca26"
             ],
             [
              1,
              "#f0f921"
             ]
            ],
            "type": "histogram2dcontour"
           }
          ],
          "mesh3d": [
           {
            "colorbar": {
             "outlinewidth": 0,
             "ticks": ""
            },
            "type": "mesh3d"
           }
          ],
          "parcoords": [
           {
            "line": {
             "colorbar": {
              "outlinewidth": 0,
              "ticks": ""
             }
            },
            "type": "parcoords"
           }
          ],
          "pie": [
           {
            "automargin": true,
            "type": "pie"
           }
          ],
          "scatter": [
           {
            "fillpattern": {
             "fillmode": "overlay",
             "size": 10,
             "solidity": 0.2
            },
            "type": "scatter"
           }
          ],
          "scatter3d": [
           {
            "line": {
             "colorbar": {
              "outlinewidth": 0,
              "ticks": ""
             }
            },
            "marker": {
             "colorbar": {
              "outlinewidth": 0,
              "ticks": ""
             }
            },
            "type": "scatter3d"
           }
          ],
          "scattercarpet": [
           {
            "marker": {
             "colorbar": {
              "outlinewidth": 0,
              "ticks": ""
             }
            },
            "type": "scattercarpet"
           }
          ],
          "scattergeo": [
           {
            "marker": {
             "colorbar": {
              "outlinewidth": 0,
              "ticks": ""
             }
            },
            "type": "scattergeo"
           }
          ],
          "scattergl": [
           {
            "marker": {
             "colorbar": {
              "outlinewidth": 0,
              "ticks": ""
             }
            },
            "type": "scattergl"
           }
          ],
          "scattermap": [
           {
            "marker": {
             "colorbar": {
              "outlinewidth": 0,
              "ticks": ""
             }
            },
            "type": "scattermap"
           }
          ],
          "scattermapbox": [
           {
            "marker": {
             "colorbar": {
              "outlinewidth": 0,
              "ticks": ""
             }
            },
            "type": "scattermapbox"
           }
          ],
          "scatterpolar": [
           {
            "marker": {
             "colorbar": {
              "outlinewidth": 0,
              "ticks": ""
             }
            },
            "type": "scatterpolar"
           }
          ],
          "scatterpolargl": [
           {
            "marker": {
             "colorbar": {
              "outlinewidth": 0,
              "ticks": ""
             }
            },
            "type": "scatterpolargl"
           }
          ],
          "scatterternary": [
           {
            "marker": {
             "colorbar": {
              "outlinewidth": 0,
              "ticks": ""
             }
            },
            "type": "scatterternary"
           }
          ],
          "surface": [
           {
            "colorbar": {
             "outlinewidth": 0,
             "ticks": ""
            },
            "colorscale": [
             [
              0,
              "#0d0887"
             ],
             [
              0.1111111111111111,
              "#46039f"
             ],
             [
              0.2222222222222222,
              "#7201a8"
             ],
             [
              0.3333333333333333,
              "#9c179e"
             ],
             [
              0.4444444444444444,
              "#bd3786"
             ],
             [
              0.5555555555555556,
              "#d8576b"
             ],
             [
              0.6666666666666666,
              "#ed7953"
             ],
             [
              0.7777777777777778,
              "#fb9f3a"
             ],
             [
              0.8888888888888888,
              "#fdca26"
             ],
             [
              1,
              "#f0f921"
             ]
            ],
            "type": "surface"
           }
          ],
          "table": [
           {
            "cells": {
             "fill": {
              "color": "#EBF0F8"
             },
             "line": {
              "color": "white"
             }
            },
            "header": {
             "fill": {
              "color": "#C8D4E3"
             },
             "line": {
              "color": "white"
             }
            },
            "type": "table"
           }
          ]
         },
         "layout": {
          "annotationdefaults": {
           "arrowcolor": "#2a3f5f",
           "arrowhead": 0,
           "arrowwidth": 1
          },
          "autotypenumbers": "strict",
          "coloraxis": {
           "colorbar": {
            "outlinewidth": 0,
            "ticks": ""
           }
          },
          "colorscale": {
           "diverging": [
            [
             0,
             "#8e0152"
            ],
            [
             0.1,
             "#c51b7d"
            ],
            [
             0.2,
             "#de77ae"
            ],
            [
             0.3,
             "#f1b6da"
            ],
            [
             0.4,
             "#fde0ef"
            ],
            [
             0.5,
             "#f7f7f7"
            ],
            [
             0.6,
             "#e6f5d0"
            ],
            [
             0.7,
             "#b8e186"
            ],
            [
             0.8,
             "#7fbc41"
            ],
            [
             0.9,
             "#4d9221"
            ],
            [
             1,
             "#276419"
            ]
           ],
           "sequential": [
            [
             0,
             "#0d0887"
            ],
            [
             0.1111111111111111,
             "#46039f"
            ],
            [
             0.2222222222222222,
             "#7201a8"
            ],
            [
             0.3333333333333333,
             "#9c179e"
            ],
            [
             0.4444444444444444,
             "#bd3786"
            ],
            [
             0.5555555555555556,
             "#d8576b"
            ],
            [
             0.6666666666666666,
             "#ed7953"
            ],
            [
             0.7777777777777778,
             "#fb9f3a"
            ],
            [
             0.8888888888888888,
             "#fdca26"
            ],
            [
             1,
             "#f0f921"
            ]
           ],
           "sequentialminus": [
            [
             0,
             "#0d0887"
            ],
            [
             0.1111111111111111,
             "#46039f"
            ],
            [
             0.2222222222222222,
             "#7201a8"
            ],
            [
             0.3333333333333333,
             "#9c179e"
            ],
            [
             0.4444444444444444,
             "#bd3786"
            ],
            [
             0.5555555555555556,
             "#d8576b"
            ],
            [
             0.6666666666666666,
             "#ed7953"
            ],
            [
             0.7777777777777778,
             "#fb9f3a"
            ],
            [
             0.8888888888888888,
             "#fdca26"
            ],
            [
             1,
             "#f0f921"
            ]
           ]
          },
          "colorway": [
           "#636efa",
           "#EF553B",
           "#00cc96",
           "#ab63fa",
           "#FFA15A",
           "#19d3f3",
           "#FF6692",
           "#B6E880",
           "#FF97FF",
           "#FECB52"
          ],
          "font": {
           "color": "#2a3f5f"
          },
          "geo": {
           "bgcolor": "white",
           "lakecolor": "white",
           "landcolor": "#E5ECF6",
           "showlakes": true,
           "showland": true,
           "subunitcolor": "white"
          },
          "hoverlabel": {
           "align": "left"
          },
          "hovermode": "closest",
          "mapbox": {
           "style": "light"
          },
          "paper_bgcolor": "white",
          "plot_bgcolor": "#E5ECF6",
          "polar": {
           "angularaxis": {
            "gridcolor": "white",
            "linecolor": "white",
            "ticks": ""
           },
           "bgcolor": "#E5ECF6",
           "radialaxis": {
            "gridcolor": "white",
            "linecolor": "white",
            "ticks": ""
           }
          },
          "scene": {
           "xaxis": {
            "backgroundcolor": "#E5ECF6",
            "gridcolor": "white",
            "gridwidth": 2,
            "linecolor": "white",
            "showbackground": true,
            "ticks": "",
            "zerolinecolor": "white"
           },
           "yaxis": {
            "backgroundcolor": "#E5ECF6",
            "gridcolor": "white",
            "gridwidth": 2,
            "linecolor": "white",
            "showbackground": true,
            "ticks": "",
            "zerolinecolor": "white"
           },
           "zaxis": {
            "backgroundcolor": "#E5ECF6",
            "gridcolor": "white",
            "gridwidth": 2,
            "linecolor": "white",
            "showbackground": true,
            "ticks": "",
            "zerolinecolor": "white"
           }
          },
          "shapedefaults": {
           "line": {
            "color": "#2a3f5f"
           }
          },
          "ternary": {
           "aaxis": {
            "gridcolor": "white",
            "linecolor": "white",
            "ticks": ""
           },
           "baxis": {
            "gridcolor": "white",
            "linecolor": "white",
            "ticks": ""
           },
           "bgcolor": "#E5ECF6",
           "caxis": {
            "gridcolor": "white",
            "linecolor": "white",
            "ticks": ""
           }
          },
          "title": {
           "x": 0.05
          },
          "xaxis": {
           "automargin": true,
           "gridcolor": "white",
           "linecolor": "white",
           "ticks": "",
           "title": {
            "standoff": 15
           },
           "zerolinecolor": "white",
           "zerolinewidth": 2
          },
          "yaxis": {
           "automargin": true,
           "gridcolor": "white",
           "linecolor": "white",
           "ticks": "",
           "title": {
            "standoff": 15
           },
           "zerolinecolor": "white",
           "zerolinewidth": 2
          }
         }
        },
        "title": {},
        "xaxis": {
         "showgrid": false,
         "showticklabels": false,
         "zeroline": false
        },
        "yaxis": {
         "autorange": "reversed",
         "showgrid": true,
         "title": {
          "text": "Time (frames)"
         },
         "zeroline": true
        }
       }
      }
     },
     "metadata": {},
     "output_type": "display_data"
    }
   ],
   "source": [
    "lin0 = model.data.cell_data[0]\n",
    "lin0.plot_tree()"
   ]
  },
  {
   "cell_type": "code",
   "execution_count": null,
   "metadata": {},
   "outputs": [],
   "source": []
  },
  {
   "cell_type": "code",
   "execution_count": 22,
   "metadata": {},
   "outputs": [
    {
     "data": {
      "application/vnd.plotly.v1+json": {
       "config": {
        "plotlyServerURL": "https://plot.ly"
       },
       "data": [
        {
         "legendgroup": "8993-9375",
         "legendgrouptitle": {
          "text": "8993-9375"
         },
         "line": {
          "color": "rgb(0, 0, 255)"
         },
         "mode": "lines",
         "name": "Trajectory",
         "type": "scatter",
         "x": [
          0,
          1,
          2,
          3,
          4,
          5,
          6,
          7,
          8,
          9,
          10,
          11,
          12,
          13,
          14,
          15,
          16,
          17,
          18,
          19,
          20,
          21,
          22
         ],
         "y": [
          2.666227896782061,
          1.2626075149936213,
          1.4621949572262891,
          1.726865261056572,
          2.1368872891215065,
          2.6315170372633423,
          3.160857644923892,
          1.8353366970525842,
          2.0219075669657327,
          2.4124047365513897,
          2.9374064867721037,
          3.6619956792254884,
          2.0132298520860497,
          2.4688098832693197,
          3.069741638687241,
          3.6815205377047726,
          1.9828578500071656,
          2.201970150719119,
          2.8376127656557673,
          3.5209828124306677,
          4.332349153680864,
          5.2370009298876345,
          3.1239773566852485
         ]
        },
        {
         "legendgroup": "8993-9375",
         "marker": {
          "color": "rgb(0, 0, 255)"
         },
         "mode": "markers",
         "name": "Divisions",
         "type": "scatter",
         "x": [
          0,
          6,
          11,
          15,
          21
         ],
         "y": [
          2.666227896782061,
          3.160857644923892,
          3.6619956792254884,
          3.6815205377047726,
          5.2370009298876345
         ]
        },
        {
         "legendgroup": "8993-9382",
         "legendgrouptitle": {
          "text": "8993-9382"
         },
         "line": {
          "color": "rgb(255, 0, 0)"
         },
         "mode": "lines",
         "name": "Trajectory",
         "type": "scatter",
         "x": [
          0,
          1,
          2,
          3,
          4,
          5,
          6,
          7,
          8,
          9,
          10,
          11,
          12,
          13,
          14,
          15,
          16,
          17,
          18,
          19,
          20,
          21,
          22
         ],
         "y": [
          2.666227896782061,
          1.2821323734729058,
          1.2278966554748962,
          1.4665338146661289,
          1.8830641288908327,
          2.1802758635199146,
          2.568603604385652,
          1.4687032433860494,
          1.8114729811334598,
          2.342983017513938,
          2.592467320304775,
          3.136993929004773,
          3.4862719529119435,
          1.9828578500071654,
          2.505690171507962,
          2.8983567698135375,
          3.3213953701979992,
          3.8181945470597523,
          2.3451524462338598,
          3.1304856428450085,
          3.904971695856562,
          4.406109730158153,
          5.445266086999985
         ]
        },
        {
         "legendgroup": "8993-9382",
         "marker": {
          "color": "rgb(255, 0, 0)"
         },
         "mode": "markers",
         "name": "Divisions",
         "type": "scatter",
         "x": [
          0,
          6,
          12
         ],
         "y": [
          2.666227896782061,
          2.568603604385652,
          3.4862719529119435
         ]
        },
        {
         "legendgroup": "8993-9384",
         "legendgrouptitle": {
          "text": "8993-9384"
         },
         "line": {
          "color": "rgb(0, 255, 0)"
         },
         "mode": "lines",
         "name": "Trajectory",
         "type": "scatter",
         "x": [
          0,
          1,
          2,
          3,
          4,
          5,
          6,
          7,
          8,
          9,
          10,
          11,
          12,
          13,
          14,
          15,
          16,
          17,
          18,
          19,
          20,
          21,
          22
         ],
         "y": [
          2.666227896782061,
          1.2626075149936213,
          1.4621949572262891,
          1.726865261056572,
          2.1368872891215065,
          2.6315170372633423,
          3.160857644923892,
          1.7897786939342561,
          1.987196707447004,
          2.5143678863876433,
          3.028522493008757,
          3.5318299560302666,
          4.390923729118711,
          2.395049306792025,
          2.9308982006123427,
          3.668503965385248,
          4.104559138089228,
          5.130698922611538,
          5.388860940282052,
          7.558289660202369,
          8.369656001452567,
          10.126893264588018,
          11.95138281804101
         ]
        },
        {
         "legendgroup": "8993-9384",
         "marker": {
          "color": "rgb(0, 255, 0)"
         },
         "mode": "markers",
         "name": "Divisions",
         "type": "scatter",
         "x": [
          0,
          6,
          12
         ],
         "y": [
          2.666227896782061,
          3.160857644923892,
          4.390923729118711
         ]
        },
        {
         "legendgroup": "8993-9389",
         "legendgrouptitle": {
          "text": "8993-9389"
         },
         "line": {
          "color": "rgb(0, 0, 51)"
         },
         "mode": "lines",
         "name": "Trajectory",
         "type": "scatter",
         "x": [
          0,
          1,
          2,
          3,
          4,
          5,
          6,
          7,
          8,
          9,
          10,
          11,
          12,
          13,
          14,
          15,
          16,
          17,
          18,
          19,
          20,
          21,
          22
         ],
         "y": [
          2.666227896782061,
          1.2821323734729058,
          1.2278966554748962,
          1.4665338146661289,
          1.8830641288908327,
          2.1802758635199146,
          2.568603604385652,
          1.4687032433860494,
          1.8114729811334598,
          2.342983017513938,
          2.592467320304775,
          3.136993929004773,
          3.4862719529119435,
          2.1455650040011904,
          2.5469093171864476,
          3.08492763972669,
          3.60559053250756,
          4.484209164075285,
          2.5794507479852493,
          2.9092039134131324,
          3.8442276916987943,
          4.636069174469711,
          2.460132168389634
         ]
        },
        {
         "legendgroup": "8993-9389",
         "marker": {
          "color": "rgb(0, 0, 51)"
         },
         "mode": "markers",
         "name": "Divisions",
         "type": "scatter",
         "x": [
          0,
          6,
          12,
          17,
          21
         ],
         "y": [
          2.666227896782061,
          2.568603604385652,
          3.4862719529119435,
          4.484209164075285,
          4.636069174469711
         ]
        },
        {
         "legendgroup": "8993-9390",
         "legendgrouptitle": {
          "text": "8993-9390"
         },
         "line": {
          "color": "rgb(255, 0, 182)"
         },
         "mode": "lines",
         "name": "Trajectory",
         "type": "scatter",
         "x": [
          0,
          1,
          2,
          3,
          4,
          5,
          6,
          7,
          8,
          9,
          10,
          11,
          12,
          13,
          14,
          15,
          16,
          17,
          18,
          19,
          20,
          21,
          22
         ],
         "y": [
          2.666227896782061,
          1.2626075149936213,
          1.4621949572262891,
          1.726865261056572,
          2.1368872891215065,
          2.6315170372633423,
          3.160857644923892,
          1.8353366970525842,
          2.0219075669657327,
          2.4124047365513897,
          2.9374064867721037,
          3.6619956792254884,
          1.926452703289238,
          2.42759073759083,
          2.920051057012743,
          3.3951559466752883,
          3.9483602702549683,
          4.738032324305964,
          5.996300981859747,
          3.4515610933932175,
          4.269435720803178,
          5.343302937163731,
          6.204566138972089
         ]
        },
        {
         "legendgroup": "8993-9390",
         "marker": {
          "color": "rgb(255, 0, 182)"
         },
         "mode": "markers",
         "name": "Divisions",
         "type": "scatter",
         "x": [
          0,
          6,
          11,
          18
         ],
         "y": [
          2.666227896782061,
          3.160857644923892,
          3.6619956792254884,
          5.996300981859747
         ]
        },
        {
         "legendgroup": "8993-9395",
         "legendgrouptitle": {
          "text": "8993-9395"
         },
         "line": {
          "color": "rgb(0, 83, 0)"
         },
         "mode": "lines",
         "name": "Trajectory",
         "type": "scatter",
         "x": [
          0,
          1,
          2,
          3,
          4,
          5,
          6,
          7,
          8,
          9,
          10,
          11,
          12,
          13,
          14,
          15,
          16,
          17,
          18,
          19,
          20,
          21,
          22
         ],
         "y": [
          2.666227896782061,
          1.2626075149936213,
          1.4621949572262891,
          1.726865261056572,
          2.1368872891215065,
          2.6315170372633423,
          3.160857644923892,
          1.7897786939342561,
          1.987196707447004,
          2.5143678863876433,
          3.028522493008757,
          3.5318299560302666,
          4.390923729118711,
          2.425421308870912,
          2.9569313452513835,
          3.4992885252314645,
          4.026459704172099,
          4.918094908059343,
          6.100433560415922,
          6.128636133774879,
          5.568923524035444,
          5.542890379396399,
          5.555906951715922
         ]
        },
        {
         "legendgroup": "8993-9395",
         "marker": {
          "color": "rgb(0, 83, 0)"
         },
         "mode": "markers",
         "name": "Divisions",
         "type": "scatter",
         "x": [
          0,
          6,
          12
         ],
         "y": [
          2.666227896782061,
          3.160857644923892,
          4.390923729118711
         ]
        },
        {
         "legendgroup": "8993-9398",
         "legendgrouptitle": {
          "text": "8993-9398"
         },
         "line": {
          "color": "rgb(255, 211, 0)"
         },
         "mode": "lines",
         "name": "Trajectory",
         "type": "scatter",
         "x": [
          0,
          1,
          2,
          3,
          4,
          5,
          6,
          7,
          8,
          9,
          10,
          11,
          12,
          13,
          14,
          15,
          16,
          17,
          18,
          19,
          20,
          21,
          22
         ],
         "y": [
          2.666227896782061,
          1.2626075149936213,
          1.4621949572262891,
          1.726865261056572,
          2.1368872891215065,
          2.6315170372633423,
          3.160857644923892,
          1.8353366970525842,
          2.0219075669657327,
          2.4124047365513897,
          2.9374064867721037,
          3.6619956792254884,
          2.0132298520860497,
          2.4688098832693197,
          3.069741638687241,
          3.6815205377047726,
          1.9828578500071656,
          2.201970150719119,
          2.8376127656557673,
          3.5209828124306677,
          4.332349153680864,
          5.2370009298876345,
          2.779038190217921
         ]
        },
        {
         "legendgroup": "8993-9398",
         "marker": {
          "color": "rgb(255, 211, 0)"
         },
         "mode": "markers",
         "name": "Divisions",
         "type": "scatter",
         "x": [
          0,
          6,
          11,
          15,
          21
         ],
         "y": [
          2.666227896782061,
          3.160857644923892,
          3.6619956792254884,
          3.6815205377047726,
          5.2370009298876345
         ]
        },
        {
         "legendgroup": "8993-9402",
         "legendgrouptitle": {
          "text": "8993-9402"
         },
         "line": {
          "color": "rgb(0, 159, 255)"
         },
         "mode": "lines",
         "name": "Trajectory",
         "type": "scatter",
         "x": [
          0,
          1,
          2,
          3,
          4,
          5,
          6,
          7,
          8,
          9,
          10,
          11,
          12,
          13,
          14,
          15,
          16,
          17,
          18,
          19,
          20,
          21,
          22
         ],
         "y": [
          2.666227896782061,
          1.2821323734729058,
          1.2278966554748962,
          1.4665338146661289,
          1.8830641288908327,
          2.1802758635199146,
          2.568603604385652,
          1.4296535264274843,
          1.6379186835398358,
          2.1477344327211094,
          2.4883347417485977,
          2.8831707687740966,
          1.5164306752242995,
          1.9850272787270884,
          2.3776938770326628,
          2.898356769813537,
          3.586065674028275,
          4.147947712487641,
          2.4080658791115477,
          3.063233352527484,
          3.6424708207462064,
          4.343196297280468,
          2.4883347417485995
         ]
        },
        {
         "legendgroup": "8993-9402",
         "marker": {
          "color": "rgb(0, 159, 255)"
         },
         "mode": "markers",
         "name": "Divisions",
         "type": "scatter",
         "x": [
          0,
          6,
          11,
          17,
          21
         ],
         "y": [
          2.666227896782061,
          2.568603604385652,
          2.8831707687740966,
          4.147947712487641,
          4.343196297280468
         ]
        },
        {
         "legendgroup": "8993-9416",
         "legendgrouptitle": {
          "text": "8993-9416"
         },
         "line": {
          "color": "rgb(154, 77, 66)"
         },
         "mode": "lines",
         "name": "Trajectory",
         "type": "scatter",
         "x": [
          0,
          1,
          2,
          3,
          4,
          5,
          6,
          7,
          8,
          9,
          10,
          11,
          12,
          13,
          14,
          15,
          16,
          17,
          18,
          19,
          20,
          21,
          22
         ],
         "y": [
          2.666227896782061,
          1.2821323734729058,
          1.2278966554748962,
          1.4665338146661289,
          1.8830641288908327,
          2.1802758635199146,
          2.568603604385652,
          1.4296535264274843,
          1.6379186835398358,
          2.1477344327211094,
          2.4883347417485977,
          2.8831707687740966,
          1.5576498209027858,
          1.7246958323366461,
          2.232342152797999,
          2.85496819541513,
          3.249804222440628,
          3.9440214128151267,
          2.408065879111546,
          2.8419516230956097,
          3.4580693795529776,
          3.6424708207462038,
          2.3581690185533795
         ]
        },
        {
         "legendgroup": "8993-9416",
         "marker": {
          "color": "rgb(154, 77, 66)"
         },
         "mode": "markers",
         "name": "Divisions",
         "type": "scatter",
         "x": [
          0,
          6,
          11,
          17,
          21
         ],
         "y": [
          2.666227896782061,
          2.568603604385652,
          2.8831707687740966,
          3.9440214128151267,
          3.6424708207462038
         ]
        },
        {
         "legendgroup": "8993-9440",
         "legendgrouptitle": {
          "text": "8993-9440"
         },
         "line": {
          "color": "rgb(0, 255, 190)"
         },
         "mode": "lines",
         "name": "Trajectory",
         "type": "scatter",
         "x": [
          0,
          1,
          2,
          3,
          4,
          5,
          6,
          7,
          8,
          9,
          10,
          11,
          12,
          13,
          14,
          15,
          16,
          17,
          18,
          19,
          20,
          21,
          22
         ],
         "y": [
          2.666227896782061,
          1.2821323734729058,
          1.2278966554748962,
          1.4665338146661289,
          1.8830641288908327,
          2.1802758635199146,
          2.568603604385652,
          1.4687032433860494,
          1.8114729811334598,
          2.342983017513938,
          2.592467320304775,
          3.136993929004773,
          3.4862719529119435,
          2.1455650040011904,
          2.5469093171864476,
          3.08492763972669,
          3.60559053250756,
          4.484209164075285,
          2.477487598148996,
          3.008997634529472,
          3.4537305221131422,
          1.6531046845792776,
          2.264883583596807
         ]
        },
        {
         "legendgroup": "8993-9440",
         "marker": {
          "color": "rgb(0, 255, 190)"
         },
         "mode": "markers",
         "name": "Divisions",
         "type": "scatter",
         "x": [
          0,
          6,
          12,
          17,
          20
         ],
         "y": [
          2.666227896782061,
          2.568603604385652,
          3.4862719529119435,
          4.484209164075285,
          3.4537305221131422
         ]
        },
        {
         "legendgroup": "8993-9444",
         "legendgrouptitle": {
          "text": "8993-9444"
         },
         "line": {
          "color": "rgb(120, 63, 193)"
         },
         "mode": "lines",
         "name": "Trajectory",
         "type": "scatter",
         "x": [
          0,
          1,
          2,
          3,
          4,
          5,
          6,
          7,
          8,
          9,
          10,
          11,
          12,
          13,
          14,
          15,
          16,
          17,
          18,
          19,
          20,
          21,
          22
         ],
         "y": [
          2.666227896782061,
          1.2821323734729058,
          1.2278966554748962,
          1.4665338146661289,
          1.8830641288908327,
          2.1802758635199146,
          2.568603604385652,
          1.4687032433860494,
          1.8114729811334598,
          2.342983017513938,
          2.592467320304775,
          3.136993929004773,
          3.4862719529119435,
          2.1455650040011904,
          2.5469093171864476,
          3.08492763972669,
          3.60559053250756,
          4.484209164075285,
          2.477487598148996,
          3.008997634529472,
          3.4537305221131422,
          1.6639518281788792,
          2.3516607323936194
         ]
        },
        {
         "legendgroup": "8993-9444",
         "marker": {
          "color": "rgb(120, 63, 193)"
         },
         "mode": "markers",
         "name": "Divisions",
         "type": "scatter",
         "x": [
          0,
          6,
          12,
          17,
          20
         ],
         "y": [
          2.666227896782061,
          2.568603604385652,
          3.4862719529119435,
          4.484209164075285,
          3.4537305221131422
         ]
        },
        {
         "legendgroup": "8993-9446",
         "legendgrouptitle": {
          "text": "8993-9446"
         },
         "line": {
          "color": "rgb(31, 150, 152)"
         },
         "mode": "lines",
         "name": "Trajectory",
         "type": "scatter",
         "x": [
          0,
          1,
          2,
          3,
          4,
          5,
          6,
          7,
          8,
          9,
          10,
          11,
          12,
          13,
          14,
          15,
          16,
          17,
          18,
          19,
          20,
          21,
          22
         ],
         "y": [
          2.666227896782061,
          1.2626075149936213,
          1.4621949572262891,
          1.726865261056572,
          2.1368872891215065,
          2.6315170372633423,
          3.160857644923892,
          1.8353366970525842,
          2.0219075669657327,
          2.4124047365513897,
          2.9374064867721037,
          3.6619956792254884,
          1.926452703289238,
          2.42759073759083,
          2.920051057012743,
          3.3951559466752883,
          3.9483602702549683,
          4.738032324305964,
          5.996300981859747,
          3.5209828124306686,
          3.9006328384167186,
          4.646916318069311,
          5.916032119222697
         ]
        },
        {
         "legendgroup": "8993-9446",
         "marker": {
          "color": "rgb(31, 150, 152)"
         },
         "mode": "markers",
         "name": "Divisions",
         "type": "scatter",
         "x": [
          0,
          6,
          11,
          18
         ],
         "y": [
          2.666227896782061,
          3.160857644923892,
          3.6619956792254884,
          5.996300981859747
         ]
        },
        {
         "legendgroup": "8993-9448",
         "legendgrouptitle": {
          "text": "8993-9448"
         },
         "line": {
          "color": "rgb(255, 172, 253)"
         },
         "mode": "lines",
         "name": "Trajectory",
         "type": "scatter",
         "x": [
          0,
          1,
          2,
          3,
          4,
          5,
          6,
          7,
          8,
          9,
          10,
          11,
          12,
          13,
          14,
          15,
          16,
          17,
          18,
          19,
          20,
          21,
          22
         ],
         "y": [
          2.666227896782061,
          1.2821323734729058,
          1.2278966554748962,
          1.4665338146661289,
          1.8830641288908327,
          2.1802758635199146,
          2.568603604385652,
          1.4296535264274843,
          1.6379186835398358,
          2.1477344327211094,
          2.4883347417485977,
          2.8831707687740966,
          1.5576498209027858,
          1.7246958323366461,
          2.232342152797999,
          2.85496819541513,
          3.249804222440628,
          3.9440214128151267,
          2.408065879111546,
          2.8419516230956097,
          3.4580693795529776,
          3.6424708207462038,
          2.056618426484458
         ]
        },
        {
         "legendgroup": "8993-9448",
         "marker": {
          "color": "rgb(255, 172, 253)"
         },
         "mode": "markers",
         "name": "Divisions",
         "type": "scatter",
         "x": [
          0,
          6,
          11,
          17,
          21
         ],
         "y": [
          2.666227896782061,
          2.568603604385652,
          2.8831707687740966,
          3.9440214128151267,
          3.6424708207462038
         ]
        },
        {
         "legendgroup": "8993-9449",
         "legendgrouptitle": {
          "text": "8993-9449"
         },
         "line": {
          "color": "rgb(177, 204, 113)"
         },
         "mode": "lines",
         "name": "Trajectory",
         "type": "scatter",
         "x": [
          0,
          1,
          2,
          3,
          4,
          5,
          6,
          7,
          8,
          9,
          10,
          11,
          12,
          13,
          14,
          15,
          16,
          17,
          18,
          19,
          20,
          21,
          22
         ],
         "y": [
          2.666227896782061,
          1.2821323734729058,
          1.2278966554748962,
          1.4665338146661289,
          1.8830641288908327,
          2.1802758635199146,
          2.568603604385652,
          1.4687032433860494,
          1.8114729811334598,
          2.342983017513938,
          2.592467320304775,
          3.136993929004773,
          3.4862719529119435,
          2.1455650040011904,
          2.5469093171864476,
          3.08492763972669,
          3.60559053250756,
          4.484209164075285,
          2.5794507479852493,
          2.9092039134131324,
          3.8442276916987943,
          4.636069174469711,
          2.3126110154350537
         ]
        },
        {
         "legendgroup": "8993-9449",
         "marker": {
          "color": "rgb(177, 204, 113)"
         },
         "mode": "markers",
         "name": "Divisions",
         "type": "scatter",
         "x": [
          0,
          6,
          12,
          17,
          21
         ],
         "y": [
          2.666227896782061,
          2.568603604385652,
          3.4862719529119435,
          4.484209164075285,
          4.636069174469711
         ]
        },
        {
         "legendgroup": "8993-9463",
         "legendgrouptitle": {
          "text": "8993-9463"
         },
         "line": {
          "color": "rgb(241, 8, 92)"
         },
         "mode": "lines",
         "name": "Trajectory",
         "type": "scatter",
         "x": [
          0,
          1,
          2,
          3,
          4,
          5,
          6,
          7,
          8,
          9,
          10,
          11,
          12,
          13,
          14,
          15,
          16,
          17,
          18,
          19,
          20,
          21,
          22
         ],
         "y": [
          2.666227896782061,
          1.2821323734729058,
          1.2278966554748962,
          1.4665338146661289,
          1.8830641288908327,
          2.1802758635199146,
          2.568603604385652,
          1.4296535264274843,
          1.6379186835398358,
          2.1477344327211094,
          2.4883347417485977,
          2.8831707687740966,
          1.5576498209027858,
          1.7246958323366461,
          2.232342152797999,
          2.85496819541513,
          3.249804222440628,
          3.9440214128151267,
          2.1433955752812683,
          2.7942241912573635,
          3.525321669870508,
          3.9310048404956053,
          5.06127720357409
         ]
        },
        {
         "legendgroup": "8993-9463",
         "marker": {
          "color": "rgb(241, 8, 92)"
         },
         "mode": "markers",
         "name": "Divisions",
         "type": "scatter",
         "x": [
          0,
          6,
          11,
          17
         ],
         "y": [
          2.666227896782061,
          2.568603604385652,
          2.8831707687740966,
          3.9440214128151267
         ]
        },
        {
         "legendgroup": "8993-9465",
         "legendgrouptitle": {
          "text": "8993-9465"
         },
         "line": {
          "color": "rgb(254, 143, 66)"
         },
         "mode": "lines",
         "name": "Trajectory",
         "type": "scatter",
         "x": [
          0,
          1,
          2,
          3,
          4,
          5,
          6,
          7,
          8,
          9,
          10,
          11,
          12,
          13,
          14,
          15,
          16,
          17,
          18,
          19,
          20,
          21,
          22
         ],
         "y": [
          2.666227896782061,
          1.2821323734729058,
          1.2278966554748962,
          1.4665338146661289,
          1.8830641288908327,
          2.1802758635199146,
          2.568603604385652,
          1.4296535264274843,
          1.6379186835398358,
          2.1477344327211094,
          2.4883347417485977,
          2.8831707687740966,
          1.5164306752242995,
          1.9850272787270884,
          2.3776938770326628,
          2.898356769813537,
          3.586065674028275,
          4.147947712487641,
          2.4080658791115477,
          3.063233352527484,
          3.6424708207462064,
          4.343196297280468,
          2.518706743827483
         ]
        },
        {
         "legendgroup": "8993-9465",
         "marker": {
          "color": "rgb(254, 143, 66)"
         },
         "mode": "markers",
         "name": "Divisions",
         "type": "scatter",
         "x": [
          0,
          6,
          11,
          17,
          21
         ],
         "y": [
          2.666227896782061,
          2.568603604385652,
          2.8831707687740966,
          4.147947712487641,
          4.343196297280468
         ]
        },
        {
         "legendgroup": "8993-9470",
         "legendgrouptitle": {
          "text": "8993-9470"
         },
         "line": {
          "color": "rgb(221, 0, 255)"
         },
         "mode": "lines",
         "name": "Trajectory",
         "type": "scatter",
         "x": [
          0,
          1,
          2,
          3,
          4,
          5,
          6,
          7,
          8,
          9,
          10,
          11,
          12,
          13,
          14,
          15,
          16,
          17,
          18,
          19,
          20,
          21,
          22
         ],
         "y": [
          2.666227896782061,
          1.2821323734729058,
          1.2278966554748962,
          1.4665338146661289,
          1.8830641288908327,
          2.1802758635199146,
          2.568603604385652,
          1.4296535264274843,
          1.6379186835398358,
          2.1477344327211094,
          2.4883347417485977,
          2.8831707687740966,
          1.5164306752242995,
          1.9850272787270884,
          2.3776938770326628,
          2.898356769813537,
          3.586065674028275,
          4.147947712487641,
          2.4731487407091577,
          2.9764562037306685,
          3.6468096781860453,
          4.354043440880066,
          5.187104069329466
         ]
        },
        {
         "legendgroup": "8993-9470",
         "marker": {
          "color": "rgb(221, 0, 255)"
         },
         "mode": "markers",
         "name": "Divisions",
         "type": "scatter",
         "x": [
          0,
          6,
          11,
          17
         ],
         "y": [
          2.666227896782061,
          2.568603604385652,
          2.8831707687740966,
          4.147947712487641
         ]
        },
        {
         "legendgroup": "8993-9476",
         "legendgrouptitle": {
          "text": "8993-9476"
         },
         "line": {
          "color": "rgb(32, 26, 1)"
         },
         "mode": "lines",
         "name": "Trajectory",
         "type": "scatter",
         "x": [
          0,
          1,
          2,
          3,
          4,
          5,
          6,
          7,
          8,
          9,
          10,
          11,
          12,
          13,
          14,
          15,
          16,
          17,
          18,
          19,
          20,
          21,
          22
         ],
         "y": [
          2.666227896782061,
          1.2626075149936213,
          1.4621949572262891,
          1.726865261056572,
          2.1368872891215065,
          2.6315170372633423,
          3.160857644923892,
          1.8353366970525842,
          2.0219075669657327,
          2.4124047365513897,
          2.9374064867721037,
          3.6619956792254884,
          2.0132298520860497,
          2.4688098832693197,
          3.069741638687241,
          3.6815205377047726,
          2.104345858322705,
          2.776868761498001,
          3.1218079279653317,
          3.922327125615924,
          4.544953168233061,
          5.8162383981063535,
          3.399494804115129
         ]
        },
        {
         "legendgroup": "8993-9476",
         "marker": {
          "color": "rgb(32, 26, 1)"
         },
         "mode": "markers",
         "name": "Divisions",
         "type": "scatter",
         "x": [
          0,
          6,
          11,
          15,
          21
         ],
         "y": [
          2.666227896782061,
          3.160857644923892,
          3.6619956792254884,
          3.6815205377047726,
          5.8162383981063535
         ]
        },
        {
         "legendgroup": "8993-9480",
         "legendgrouptitle": {
          "text": "8993-9480"
         },
         "line": {
          "color": "rgb(114, 0, 85)"
         },
         "mode": "lines",
         "name": "Trajectory",
         "type": "scatter",
         "x": [
          0,
          1,
          2,
          3,
          4,
          5,
          6,
          7,
          8,
          9,
          10,
          11,
          12,
          13,
          14,
          15,
          16,
          17,
          18,
          19,
          20,
          21,
          22
         ],
         "y": [
          2.666227896782061,
          1.2626075149936213,
          1.4621949572262891,
          1.726865261056572,
          2.1368872891215065,
          2.6315170372633423,
          3.160857644923892,
          1.8353366970525842,
          2.0219075669657327,
          2.4124047365513897,
          2.9374064867721037,
          3.6619956792254884,
          2.0132298520860497,
          2.4688098832693197,
          3.069741638687241,
          3.6815205377047726,
          2.104345858322705,
          2.776868761498001,
          3.1218079279653317,
          3.922327125615924,
          4.544953168233061,
          5.8162383981063535,
          3.358275658436645
         ]
        },
        {
         "legendgroup": "8993-9480",
         "marker": {
          "color": "rgb(114, 0, 85)"
         },
         "mode": "markers",
         "name": "Divisions",
         "type": "scatter",
         "x": [
          0,
          6,
          11,
          15,
          21
         ],
         "y": [
          2.666227896782061,
          3.160857644923892,
          3.6619956792254884,
          3.6815205377047726,
          5.8162383981063535
         ]
        }
       ],
       "layout": {
        "template": {
         "data": {
          "bar": [
           {
            "error_x": {
             "color": "#2a3f5f"
            },
            "error_y": {
             "color": "#2a3f5f"
            },
            "marker": {
             "line": {
              "color": "#E5ECF6",
              "width": 0.5
             },
             "pattern": {
              "fillmode": "overlay",
              "size": 10,
              "solidity": 0.2
             }
            },
            "type": "bar"
           }
          ],
          "barpolar": [
           {
            "marker": {
             "line": {
              "color": "#E5ECF6",
              "width": 0.5
             },
             "pattern": {
              "fillmode": "overlay",
              "size": 10,
              "solidity": 0.2
             }
            },
            "type": "barpolar"
           }
          ],
          "carpet": [
           {
            "aaxis": {
             "endlinecolor": "#2a3f5f",
             "gridcolor": "white",
             "linecolor": "white",
             "minorgridcolor": "white",
             "startlinecolor": "#2a3f5f"
            },
            "baxis": {
             "endlinecolor": "#2a3f5f",
             "gridcolor": "white",
             "linecolor": "white",
             "minorgridcolor": "white",
             "startlinecolor": "#2a3f5f"
            },
            "type": "carpet"
           }
          ],
          "choropleth": [
           {
            "colorbar": {
             "outlinewidth": 0,
             "ticks": ""
            },
            "type": "choropleth"
           }
          ],
          "contour": [
           {
            "colorbar": {
             "outlinewidth": 0,
             "ticks": ""
            },
            "colorscale": [
             [
              0,
              "#0d0887"
             ],
             [
              0.1111111111111111,
              "#46039f"
             ],
             [
              0.2222222222222222,
              "#7201a8"
             ],
             [
              0.3333333333333333,
              "#9c179e"
             ],
             [
              0.4444444444444444,
              "#bd3786"
             ],
             [
              0.5555555555555556,
              "#d8576b"
             ],
             [
              0.6666666666666666,
              "#ed7953"
             ],
             [
              0.7777777777777778,
              "#fb9f3a"
             ],
             [
              0.8888888888888888,
              "#fdca26"
             ],
             [
              1,
              "#f0f921"
             ]
            ],
            "type": "contour"
           }
          ],
          "contourcarpet": [
           {
            "colorbar": {
             "outlinewidth": 0,
             "ticks": ""
            },
            "type": "contourcarpet"
           }
          ],
          "heatmap": [
           {
            "colorbar": {
             "outlinewidth": 0,
             "ticks": ""
            },
            "colorscale": [
             [
              0,
              "#0d0887"
             ],
             [
              0.1111111111111111,
              "#46039f"
             ],
             [
              0.2222222222222222,
              "#7201a8"
             ],
             [
              0.3333333333333333,
              "#9c179e"
             ],
             [
              0.4444444444444444,
              "#bd3786"
             ],
             [
              0.5555555555555556,
              "#d8576b"
             ],
             [
              0.6666666666666666,
              "#ed7953"
             ],
             [
              0.7777777777777778,
              "#fb9f3a"
             ],
             [
              0.8888888888888888,
              "#fdca26"
             ],
             [
              1,
              "#f0f921"
             ]
            ],
            "type": "heatmap"
           }
          ],
          "histogram": [
           {
            "marker": {
             "pattern": {
              "fillmode": "overlay",
              "size": 10,
              "solidity": 0.2
             }
            },
            "type": "histogram"
           }
          ],
          "histogram2d": [
           {
            "colorbar": {
             "outlinewidth": 0,
             "ticks": ""
            },
            "colorscale": [
             [
              0,
              "#0d0887"
             ],
             [
              0.1111111111111111,
              "#46039f"
             ],
             [
              0.2222222222222222,
              "#7201a8"
             ],
             [
              0.3333333333333333,
              "#9c179e"
             ],
             [
              0.4444444444444444,
              "#bd3786"
             ],
             [
              0.5555555555555556,
              "#d8576b"
             ],
             [
              0.6666666666666666,
              "#ed7953"
             ],
             [
              0.7777777777777778,
              "#fb9f3a"
             ],
             [
              0.8888888888888888,
              "#fdca26"
             ],
             [
              1,
              "#f0f921"
             ]
            ],
            "type": "histogram2d"
           }
          ],
          "histogram2dcontour": [
           {
            "colorbar": {
             "outlinewidth": 0,
             "ticks": ""
            },
            "colorscale": [
             [
              0,
              "#0d0887"
             ],
             [
              0.1111111111111111,
              "#46039f"
             ],
             [
              0.2222222222222222,
              "#7201a8"
             ],
             [
              0.3333333333333333,
              "#9c179e"
             ],
             [
              0.4444444444444444,
              "#bd3786"
             ],
             [
              0.5555555555555556,
              "#d8576b"
             ],
             [
              0.6666666666666666,
              "#ed7953"
             ],
             [
              0.7777777777777778,
              "#fb9f3a"
             ],
             [
              0.8888888888888888,
              "#fdca26"
             ],
             [
              1,
              "#f0f921"
             ]
            ],
            "type": "histogram2dcontour"
           }
          ],
          "mesh3d": [
           {
            "colorbar": {
             "outlinewidth": 0,
             "ticks": ""
            },
            "type": "mesh3d"
           }
          ],
          "parcoords": [
           {
            "line": {
             "colorbar": {
              "outlinewidth": 0,
              "ticks": ""
             }
            },
            "type": "parcoords"
           }
          ],
          "pie": [
           {
            "automargin": true,
            "type": "pie"
           }
          ],
          "scatter": [
           {
            "fillpattern": {
             "fillmode": "overlay",
             "size": 10,
             "solidity": 0.2
            },
            "type": "scatter"
           }
          ],
          "scatter3d": [
           {
            "line": {
             "colorbar": {
              "outlinewidth": 0,
              "ticks": ""
             }
            },
            "marker": {
             "colorbar": {
              "outlinewidth": 0,
              "ticks": ""
             }
            },
            "type": "scatter3d"
           }
          ],
          "scattercarpet": [
           {
            "marker": {
             "colorbar": {
              "outlinewidth": 0,
              "ticks": ""
             }
            },
            "type": "scattercarpet"
           }
          ],
          "scattergeo": [
           {
            "marker": {
             "colorbar": {
              "outlinewidth": 0,
              "ticks": ""
             }
            },
            "type": "scattergeo"
           }
          ],
          "scattergl": [
           {
            "marker": {
             "colorbar": {
              "outlinewidth": 0,
              "ticks": ""
             }
            },
            "type": "scattergl"
           }
          ],
          "scattermap": [
           {
            "marker": {
             "colorbar": {
              "outlinewidth": 0,
              "ticks": ""
             }
            },
            "type": "scattermap"
           }
          ],
          "scattermapbox": [
           {
            "marker": {
             "colorbar": {
              "outlinewidth": 0,
              "ticks": ""
             }
            },
            "type": "scattermapbox"
           }
          ],
          "scatterpolar": [
           {
            "marker": {
             "colorbar": {
              "outlinewidth": 0,
              "ticks": ""
             }
            },
            "type": "scatterpolar"
           }
          ],
          "scatterpolargl": [
           {
            "marker": {
             "colorbar": {
              "outlinewidth": 0,
              "ticks": ""
             }
            },
            "type": "scatterpolargl"
           }
          ],
          "scatterternary": [
           {
            "marker": {
             "colorbar": {
              "outlinewidth": 0,
              "ticks": ""
             }
            },
            "type": "scatterternary"
           }
          ],
          "surface": [
           {
            "colorbar": {
             "outlinewidth": 0,
             "ticks": ""
            },
            "colorscale": [
             [
              0,
              "#0d0887"
             ],
             [
              0.1111111111111111,
              "#46039f"
             ],
             [
              0.2222222222222222,
              "#7201a8"
             ],
             [
              0.3333333333333333,
              "#9c179e"
             ],
             [
              0.4444444444444444,
              "#bd3786"
             ],
             [
              0.5555555555555556,
              "#d8576b"
             ],
             [
              0.6666666666666666,
              "#ed7953"
             ],
             [
              0.7777777777777778,
              "#fb9f3a"
             ],
             [
              0.8888888888888888,
              "#fdca26"
             ],
             [
              1,
              "#f0f921"
             ]
            ],
            "type": "surface"
           }
          ],
          "table": [
           {
            "cells": {
             "fill": {
              "color": "#EBF0F8"
             },
             "line": {
              "color": "white"
             }
            },
            "header": {
             "fill": {
              "color": "#C8D4E3"
             },
             "line": {
              "color": "white"
             }
            },
            "type": "table"
           }
          ]
         },
         "layout": {
          "annotationdefaults": {
           "arrowcolor": "#2a3f5f",
           "arrowhead": 0,
           "arrowwidth": 1
          },
          "autotypenumbers": "strict",
          "coloraxis": {
           "colorbar": {
            "outlinewidth": 0,
            "ticks": ""
           }
          },
          "colorscale": {
           "diverging": [
            [
             0,
             "#8e0152"
            ],
            [
             0.1,
             "#c51b7d"
            ],
            [
             0.2,
             "#de77ae"
            ],
            [
             0.3,
             "#f1b6da"
            ],
            [
             0.4,
             "#fde0ef"
            ],
            [
             0.5,
             "#f7f7f7"
            ],
            [
             0.6,
             "#e6f5d0"
            ],
            [
             0.7,
             "#b8e186"
            ],
            [
             0.8,
             "#7fbc41"
            ],
            [
             0.9,
             "#4d9221"
            ],
            [
             1,
             "#276419"
            ]
           ],
           "sequential": [
            [
             0,
             "#0d0887"
            ],
            [
             0.1111111111111111,
             "#46039f"
            ],
            [
             0.2222222222222222,
             "#7201a8"
            ],
            [
             0.3333333333333333,
             "#9c179e"
            ],
            [
             0.4444444444444444,
             "#bd3786"
            ],
            [
             0.5555555555555556,
             "#d8576b"
            ],
            [
             0.6666666666666666,
             "#ed7953"
            ],
            [
             0.7777777777777778,
             "#fb9f3a"
            ],
            [
             0.8888888888888888,
             "#fdca26"
            ],
            [
             1,
             "#f0f921"
            ]
           ],
           "sequentialminus": [
            [
             0,
             "#0d0887"
            ],
            [
             0.1111111111111111,
             "#46039f"
            ],
            [
             0.2222222222222222,
             "#7201a8"
            ],
            [
             0.3333333333333333,
             "#9c179e"
            ],
            [
             0.4444444444444444,
             "#bd3786"
            ],
            [
             0.5555555555555556,
             "#d8576b"
            ],
            [
             0.6666666666666666,
             "#ed7953"
            ],
            [
             0.7777777777777778,
             "#fb9f3a"
            ],
            [
             0.8888888888888888,
             "#fdca26"
            ],
            [
             1,
             "#f0f921"
            ]
           ]
          },
          "colorway": [
           "#636efa",
           "#EF553B",
           "#00cc96",
           "#ab63fa",
           "#FFA15A",
           "#19d3f3",
           "#FF6692",
           "#B6E880",
           "#FF97FF",
           "#FECB52"
          ],
          "font": {
           "color": "#2a3f5f"
          },
          "geo": {
           "bgcolor": "white",
           "lakecolor": "white",
           "landcolor": "#E5ECF6",
           "showlakes": true,
           "showland": true,
           "subunitcolor": "white"
          },
          "hoverlabel": {
           "align": "left"
          },
          "hovermode": "closest",
          "mapbox": {
           "style": "light"
          },
          "paper_bgcolor": "white",
          "plot_bgcolor": "#E5ECF6",
          "polar": {
           "angularaxis": {
            "gridcolor": "white",
            "linecolor": "white",
            "ticks": ""
           },
           "bgcolor": "#E5ECF6",
           "radialaxis": {
            "gridcolor": "white",
            "linecolor": "white",
            "ticks": ""
           }
          },
          "scene": {
           "xaxis": {
            "backgroundcolor": "#E5ECF6",
            "gridcolor": "white",
            "gridwidth": 2,
            "linecolor": "white",
            "showbackground": true,
            "ticks": "",
            "zerolinecolor": "white"
           },
           "yaxis": {
            "backgroundcolor": "#E5ECF6",
            "gridcolor": "white",
            "gridwidth": 2,
            "linecolor": "white",
            "showbackground": true,
            "ticks": "",
            "zerolinecolor": "white"
           },
           "zaxis": {
            "backgroundcolor": "#E5ECF6",
            "gridcolor": "white",
            "gridwidth": 2,
            "linecolor": "white",
            "showbackground": true,
            "ticks": "",
            "zerolinecolor": "white"
           }
          },
          "shapedefaults": {
           "line": {
            "color": "#2a3f5f"
           }
          },
          "ternary": {
           "aaxis": {
            "gridcolor": "white",
            "linecolor": "white",
            "ticks": ""
           },
           "baxis": {
            "gridcolor": "white",
            "linecolor": "white",
            "ticks": ""
           },
           "bgcolor": "#E5ECF6",
           "caxis": {
            "gridcolor": "white",
            "linecolor": "white",
            "ticks": ""
           }
          },
          "title": {
           "x": 0.05
          },
          "xaxis": {
           "automargin": true,
           "gridcolor": "white",
           "linecolor": "white",
           "ticks": "",
           "title": {
            "standoff": 15
           },
           "zerolinecolor": "white",
           "zerolinewidth": 2
          },
          "yaxis": {
           "automargin": true,
           "gridcolor": "white",
           "linecolor": "white",
           "ticks": "",
           "title": {
            "standoff": 15
           },
           "zerolinecolor": "white",
           "zerolinewidth": 2
          }
         }
        }
       }
      }
     },
     "metadata": {},
     "output_type": "display_data"
    }
   ],
   "source": [
    "fig = plot_cell_trajectory(\n",
    "    lin0,\n",
    "    \"AREA\",\n",
    "    # start_noi=9051,\n",
    "    # end_noi=[9470, 9476],\n",
    "    # end_noi=9470,\n",
    "    # show_divisions=False,\n",
    "    color_palette=cm,\n",
    ")\n",
    "fig.show()"
   ]
  },
  {
   "cell_type": "markdown",
   "metadata": {},
   "source": [
    "*lossless*"
   ]
  },
  {
   "cell_type": "markdown",
   "metadata": {},
   "source": [
    "## 2. Accessing, computing and adding features"
   ]
  },
  {
   "cell_type": "markdown",
   "metadata": {},
   "source": [
    "### 2.1 TrackMate features"
   ]
  },
  {
   "cell_type": "markdown",
   "metadata": {},
   "source": []
  },
  {
   "cell_type": "markdown",
   "metadata": {},
   "source": [
    "### 2.2 Pycellin features"
   ]
  },
  {
   "cell_type": "markdown",
   "metadata": {},
   "source": []
  },
  {
   "cell_type": "markdown",
   "metadata": {},
   "source": [
    "### 2.3 Custom features"
   ]
  },
  {
   "cell_type": "markdown",
   "metadata": {},
   "source": []
  },
  {
   "cell_type": "markdown",
   "metadata": {},
   "source": [
    "## 3. Exporting the data"
   ]
  },
  {
   "cell_type": "markdown",
   "metadata": {},
   "source": [
    "### 3.1 Back to TrackMate"
   ]
  },
  {
   "cell_type": "markdown",
   "metadata": {},
   "source": []
  },
  {
   "cell_type": "markdown",
   "metadata": {},
   "source": [
    "### 3.2 In a CSV format"
   ]
  },
  {
   "cell_type": "markdown",
   "metadata": {},
   "source": []
  }
 ],
 "metadata": {
  "kernelspec": {
   "display_name": "pycellin_dev",
   "language": "python",
   "name": "python3"
  },
  "language_info": {
   "codemirror_mode": {
    "name": "ipython",
    "version": 3
   },
   "file_extension": ".py",
   "mimetype": "text/x-python",
   "name": "python",
   "nbconvert_exporter": "python",
   "pygments_lexer": "ipython3",
   "version": "3.11.12"
  }
 },
 "nbformat": 4,
 "nbformat_minor": 2
}
